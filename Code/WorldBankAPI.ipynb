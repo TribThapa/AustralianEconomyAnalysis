{
 "cells": [
  {
   "cell_type": "code",
   "execution_count": 1,
   "id": "2e7a1b0e",
   "metadata": {},
   "outputs": [],
   "source": [
    "import requests\n",
    "import pandas as pd\n",
    "import matplotlib.pyplot as plt\n"
   ]
  },
  {
   "cell_type": "code",
   "execution_count": 2,
   "id": "aead1fd0",
   "metadata": {},
   "outputs": [],
   "source": [
    "# Indicator labels and names in the World Bank API (https://databank.worldbank.org/source/world-development-indicators)\n",
    "indicators  = {\"gdp\" : \"NY.GDP.MKTP.CD\",\n",
    "               \"gdp_growth\": \"NY.GDP.MKTP.KD.ZG\",\n",
    "               \"goods_export\": \"BX.GSR.MRCH.CD\",\n",
    "               \"population\" : \"SP.POP.TOTL\",\n",
    "               \"inflation\" : \"FP.CPI.TOTL.ZG\",\n",
    "               \"net_income\": \"BN.GSR.FCTY.CD\"}\n",
    "\n",
    "nindicators = len(indicators)\n",
    "\n",
    "# Countries to include in the data, specified as ISO country codes\n",
    "countries  = ['au','ca','cn','in', 'jp','kr','gb', 'us'] \n",
    "ncountries = len(countries)\n",
    "\n",
    "# Start and end year for the data set\n",
    "start_year = 1995\n",
    "end_year   = 2020\n",
    "\n",
    "template_url = \"http://api.worldbank.org/v2/countries/{0}/indicators/{1}?date={2}:{3}&format=json&per_page=999\"\n",
    "\n",
    "country_str = ';'.join(countries)\n",
    "\n",
    "raw_data = pd.DataFrame()\n",
    "\n",
    "for label, indicator in indicators.items():\n",
    "\n",
    "    url = template_url.format(country_str, \n",
    "                              indicator, \n",
    "                              start_year,\n",
    "                              end_year)\n",
    "    \n",
    "    # Request data\n",
    "    json_data = requests.get(url)\n",
    "    \n",
    "    # Convert the JSON string to a Python object\n",
    "    json_data = json_data.json()\n",
    "    \n",
    "    json_data = json_data[1]\n",
    "    \n",
    "    # Loop over all data points, pick out the values and append\n",
    "    # them to the data frame\n",
    "    for data_point in json_data:\n",
    "        \n",
    "        country = data_point['country']['id']\n",
    "        \n",
    "        # Create a variable for each country and indicator pair\n",
    "        item = country + '_' + label\n",
    "        \n",
    "        year = data_point['date']\n",
    "        \n",
    "        value = data_point['value']\n",
    "        \n",
    "        # Append to data frame\n",
    "        new_row  = pd.DataFrame([[item, year, value]],\n",
    "                                columns=['item', 'year', 'value'])\n",
    "        raw_data = raw_data.append(new_row)\n",
    "\n",
    "raw_data = raw_data.pivot('year', 'item', 'value')\n",
    " \n",
    "raw_data.to_csv('../Data/RawData/World_data.csv')"
   ]
  }
 ],
 "metadata": {
  "kernelspec": {
   "display_name": "Python [conda env:pyvizenv] *",
   "language": "python",
   "name": "conda-env-pyvizenv-py"
  },
  "language_info": {
   "codemirror_mode": {
    "name": "ipython",
    "version": 3
   },
   "file_extension": ".py",
   "mimetype": "text/x-python",
   "name": "python",
   "nbconvert_exporter": "python",
   "pygments_lexer": "ipython3",
   "version": "3.7.10"
  }
 },
 "nbformat": 4,
 "nbformat_minor": 5
}
