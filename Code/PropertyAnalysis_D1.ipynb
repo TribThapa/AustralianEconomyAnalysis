{
 "cells": [
  {
   "cell_type": "markdown",
   "id": "38e17a85",
   "metadata": {},
   "source": [
    "### This is the main notebook. Use this notebook as a template to create branches. "
   ]
  },
  {
   "cell_type": "code",
   "execution_count": 31,
   "id": "70a2ae8d",
   "metadata": {},
   "outputs": [],
   "source": [
    "import pandas as pd\n",
    "import numpy as np\n",
    "import requests\n",
    "import json"
   ]
  },
  {
   "cell_type": "code",
   "execution_count": 42,
   "id": "1d0129de",
   "metadata": {},
   "outputs": [
    {
     "data": {
      "text/plain": [
       "{'help': 'https://www.data.brisbane.qld.gov.au/data/api/3/action/help_show?name=datastore_search',\n",
       " 'success': True,\n",
       " 'result': {'include_total': True,\n",
       "  'limit': 5,\n",
       "  'q': 'title:jones',\n",
       "  'records_format': 'objects',\n",
       "  'resource_id': '20810036-02c5-4e70-9ed8-51ddb3529926',\n",
       "  'total_estimation_threshold': None,\n",
       "  'records': [],\n",
       "  'fields': [{'id': '_id', 'type': 'int'},\n",
       "   {'id': 'Attribute', 'type': 'text'},\n",
       "   {'id': 'Attribute Description', 'type': 'text'},\n",
       "   {'id': 'rank', 'type': 'float'}],\n",
       "  '_links': {'start': '/api/3/action/datastore_search?resource_id=20810036-02c5-4e70-9ed8-51ddb3529926&limit=5&q=title%3Ajones',\n",
       "   'next': '/api/3/action/datastore_search?resource_id=20810036-02c5-4e70-9ed8-51ddb3529926&limit=5&q=title%3Ajones&offset=5'},\n",
       "  'total': 0,\n",
       "  'total_was_estimated': False}}"
      ]
     },
     "execution_count": 42,
     "metadata": {},
     "output_type": "execute_result"
    }
   ],
   "source": [
    "import urllib\n",
    "url = 'https://www.data.brisbane.qld.gov.au/data/api/3/action/datastore_search?resource_id=20810036-02c5-4e70-9ed8-51ddb3529926&limit=5&q=title:jones'  \n",
    "request = requests.get(url).json()\n",
    "request"
   ]
  },
  {
   "cell_type": "code",
   "execution_count": 46,
   "id": "914df20b",
   "metadata": {},
   "outputs": [
    {
     "data": {
      "text/plain": [
       "True"
      ]
     },
     "execution_count": 46,
     "metadata": {},
     "output_type": "execute_result"
    }
   ],
   "source": [
    "a = request['result']['include_total']\n",
    "a"
   ]
  },
  {
   "cell_type": "code",
   "execution_count": null,
   "id": "c5da52cc",
   "metadata": {},
   "outputs": [],
   "source": []
  }
 ],
 "metadata": {
  "kernelspec": {
   "display_name": "Python [conda env:pyvizenv] *",
   "language": "python",
   "name": "conda-env-pyvizenv-py"
  },
  "language_info": {
   "codemirror_mode": {
    "name": "ipython",
    "version": 3
   },
   "file_extension": ".py",
   "mimetype": "text/x-python",
   "name": "python",
   "nbconvert_exporter": "python",
   "pygments_lexer": "ipython3",
   "version": "3.7.10"
  }
 },
 "nbformat": 4,
 "nbformat_minor": 5
}
