{
 "cells": [
  {
   "cell_type": "code",
   "execution_count": 1,
   "id": "9e6e3230",
   "metadata": {},
   "outputs": [],
   "source": [
    "#Import libraries and dependencies\n",
    "\n",
    "import pandas as pd\n",
    "import os\n",
    "import csv\n",
    "from pathlib import Path"
   ]
  },
  {
   "cell_type": "code",
   "execution_count": 3,
   "id": "67ab341a",
   "metadata": {},
   "outputs": [
    {
     "data": {
      "text/html": [
       "<div>\n",
       "<style scoped>\n",
       "    .dataframe tbody tr th:only-of-type {\n",
       "        vertical-align: middle;\n",
       "    }\n",
       "\n",
       "    .dataframe tbody tr th {\n",
       "        vertical-align: top;\n",
       "    }\n",
       "\n",
       "    .dataframe thead th {\n",
       "        text-align: right;\n",
       "    }\n",
       "</style>\n",
       "<table border=\"1\" class=\"dataframe\">\n",
       "  <thead>\n",
       "    <tr style=\"text-align: right;\">\n",
       "      <th></th>\n",
       "      <th>Date</th>\n",
       "      <th>Price</th>\n",
       "      <th>Open</th>\n",
       "      <th>High</th>\n",
       "      <th>Low</th>\n",
       "      <th>Vol.</th>\n",
       "      <th>Change %</th>\n",
       "    </tr>\n",
       "  </thead>\n",
       "  <tbody>\n",
       "    <tr>\n",
       "      <th>0</th>\n",
       "      <td>Feb-95</td>\n",
       "      <td>487.39</td>\n",
       "      <td>470.42</td>\n",
       "      <td>489.19</td>\n",
       "      <td>469.29</td>\n",
       "      <td>-</td>\n",
       "      <td>3.61%</td>\n",
       "    </tr>\n",
       "    <tr>\n",
       "      <th>1</th>\n",
       "      <td>Mar-95</td>\n",
       "      <td>500.71</td>\n",
       "      <td>487.39</td>\n",
       "      <td>508.15</td>\n",
       "      <td>479.7</td>\n",
       "      <td>-</td>\n",
       "      <td>2.73%</td>\n",
       "    </tr>\n",
       "    <tr>\n",
       "      <th>2</th>\n",
       "      <td>Apr-95</td>\n",
       "      <td>514.71</td>\n",
       "      <td>500.7</td>\n",
       "      <td>515.29</td>\n",
       "      <td>500.2</td>\n",
       "      <td>-</td>\n",
       "      <td>2.80%</td>\n",
       "    </tr>\n",
       "    <tr>\n",
       "      <th>3</th>\n",
       "      <td>May-95</td>\n",
       "      <td>533.4</td>\n",
       "      <td>514.76</td>\n",
       "      <td>533.41</td>\n",
       "      <td>513.03</td>\n",
       "      <td>-</td>\n",
       "      <td>3.63%</td>\n",
       "    </tr>\n",
       "    <tr>\n",
       "      <th>4</th>\n",
       "      <td>Jun-95</td>\n",
       "      <td>544.75</td>\n",
       "      <td>533.4</td>\n",
       "      <td>551.07</td>\n",
       "      <td>526</td>\n",
       "      <td>-</td>\n",
       "      <td>2.13%</td>\n",
       "    </tr>\n",
       "  </tbody>\n",
       "</table>\n",
       "</div>"
      ],
      "text/plain": [
       "     Date   Price    Open    High     Low Vol. Change %\n",
       "0  Feb-95  487.39  470.42  489.19  469.29    -    3.61%\n",
       "1  Mar-95  500.71  487.39  508.15   479.7    -    2.73%\n",
       "2  Apr-95  514.71   500.7  515.29   500.2    -    2.80%\n",
       "3  May-95   533.4  514.76  533.41  513.03    -    3.63%\n",
       "4  Jun-95  544.75   533.4  551.07     526    -    2.13%"
      ]
     },
     "execution_count": 3,
     "metadata": {},
     "output_type": "execute_result"
    }
   ],
   "source": [
    "#Set the file path\n",
    "SP500_history_df = pd.read_csv(\"../Data/RawData/SP500_history.csv\")\n",
    "\n",
    "SP500_history_df.head()"
   ]
  },
  {
   "cell_type": "code",
   "execution_count": 4,
   "id": "1dbb42b4",
   "metadata": {},
   "outputs": [],
   "source": [
    "#Filter to get June data only\n",
    "SP500_history_df = SP500_history_df[SP500_history_df.Date.str.match('Jun-*')]"
   ]
  },
  {
   "cell_type": "code",
   "execution_count": 5,
   "id": "740ddeb5",
   "metadata": {},
   "outputs": [],
   "source": [
    "#Drop unused columns\n",
    "SP500_history_df = SP500_history_df.drop(SP500_history_df.columns[2:], axis=1)"
   ]
  },
  {
   "cell_type": "code",
   "execution_count": 6,
   "id": "4c80f7b7",
   "metadata": {},
   "outputs": [],
   "source": [
    "SP500_history_df = SP500_history_df.set_index(\"Date\")"
   ]
  },
  {
   "cell_type": "code",
   "execution_count": 7,
   "id": "bcada3b8",
   "metadata": {},
   "outputs": [
    {
     "data": {
      "text/html": [
       "<div>\n",
       "<style scoped>\n",
       "    .dataframe tbody tr th:only-of-type {\n",
       "        vertical-align: middle;\n",
       "    }\n",
       "\n",
       "    .dataframe tbody tr th {\n",
       "        vertical-align: top;\n",
       "    }\n",
       "\n",
       "    .dataframe thead th {\n",
       "        text-align: right;\n",
       "    }\n",
       "</style>\n",
       "<table border=\"1\" class=\"dataframe\">\n",
       "  <thead>\n",
       "    <tr style=\"text-align: right;\">\n",
       "      <th></th>\n",
       "      <th>Price</th>\n",
       "    </tr>\n",
       "    <tr>\n",
       "      <th>Date</th>\n",
       "      <th></th>\n",
       "    </tr>\n",
       "  </thead>\n",
       "  <tbody>\n",
       "    <tr>\n",
       "      <th>Jun-95</th>\n",
       "      <td>544.75</td>\n",
       "    </tr>\n",
       "    <tr>\n",
       "      <th>Jun-96</th>\n",
       "      <td>670.63</td>\n",
       "    </tr>\n",
       "    <tr>\n",
       "      <th>Jun-97</th>\n",
       "      <td>885.14</td>\n",
       "    </tr>\n",
       "    <tr>\n",
       "      <th>Jun-98</th>\n",
       "      <td>1,133.84</td>\n",
       "    </tr>\n",
       "    <tr>\n",
       "      <th>Jun-99</th>\n",
       "      <td>1,372.71</td>\n",
       "    </tr>\n",
       "  </tbody>\n",
       "</table>\n",
       "</div>"
      ],
      "text/plain": [
       "           Price\n",
       "Date            \n",
       "Jun-95    544.75\n",
       "Jun-96    670.63\n",
       "Jun-97    885.14\n",
       "Jun-98  1,133.84\n",
       "Jun-99  1,372.71"
      ]
     },
     "execution_count": 7,
     "metadata": {},
     "output_type": "execute_result"
    }
   ],
   "source": [
    "SP500_history_df.head()"
   ]
  },
  {
   "cell_type": "code",
   "execution_count": 14,
   "id": "c575a3fc",
   "metadata": {},
   "outputs": [],
   "source": [
    "# Write output as csv file\n",
    "SP500_history_df.to_csv(\"../Data/ProcessedData/SP500_history_cleaned.csv\")"
   ]
  }
 ],
 "metadata": {
  "kernelspec": {
   "display_name": "Python [conda env:pyvizenv] *",
   "language": "python",
   "name": "conda-env-pyvizenv-py"
  },
  "language_info": {
   "codemirror_mode": {
    "name": "ipython",
    "version": 3
   },
   "file_extension": ".py",
   "mimetype": "text/x-python",
   "name": "python",
   "nbconvert_exporter": "python",
   "pygments_lexer": "ipython3",
   "version": "3.7.10"
  }
 },
 "nbformat": 4,
 "nbformat_minor": 5
}
