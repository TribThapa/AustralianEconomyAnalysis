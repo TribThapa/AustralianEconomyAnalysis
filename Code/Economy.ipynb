{
 "cells": [
  {
   "cell_type": "code",
<<<<<<< HEAD
<<<<<<< HEAD
   "execution_count": 1,
   "id": "047e8e49",
=======
   "execution_count": 45,
   "id": "f7cc7c73",
>>>>>>> main
=======
   "execution_count": 45,
   "id": "f7cc7c73",
>>>>>>> origin
   "metadata": {},
   "outputs": [],
   "source": [
    "import pandas as pd"
   ]
  },
  {
   "cell_type": "code",
<<<<<<< HEAD
<<<<<<< HEAD
   "execution_count": 2,
   "id": "76c3e5b1",
   "metadata": {},
   "outputs": [],
   "source": [
    "\n",
    "economy_df = pd.read_csv(\"../Data/RawData/Economy.csv\")\n"
=======
=======
>>>>>>> origin
   "execution_count": 46,
   "id": "144a611f",
   "metadata": {},
   "outputs": [],
   "source": [
    "asx_df = pd.read_csv(\"../Data/RawData/ASX_history.csv\")\n",
    "aud_exchange_df = pd.read_csv(\"../Data/RawData/AUDexchange.csv\")\n",
    "cash_rate_df = pd.read_csv(\"../Data/RawData/CashRate.csv\")\n",
    "economy_df = pd.read_csv(\"../Data/RawData/Economy.csv\")\n",
    "employment_df = pd.read_csv(\"../Data/RawData/Employment.csv\")\n",
    "gdp_df = pd.read_csv(\"../Data/RawData/GDP.csv\")\n",
    "pop_df = pd.read_csv(\"../Data/RawData/Population.csv\")\n",
    "world_data = pd.read_csv(\"../Data/RawData/World_data.csv\")"
<<<<<<< HEAD
>>>>>>> main
=======
>>>>>>> origin
   ]
  },
  {
   "cell_type": "code",
<<<<<<< HEAD
<<<<<<< HEAD
   "execution_count": 3,
   "id": "23d00ba8",
   "metadata": {},
   "outputs": [
    {
     "data": {
      "text/html": [
       "<div>\n",
       "<style scoped>\n",
       "    .dataframe tbody tr th:only-of-type {\n",
       "        vertical-align: middle;\n",
       "    }\n",
       "\n",
       "    .dataframe tbody tr th {\n",
       "        vertical-align: top;\n",
       "    }\n",
       "\n",
       "    .dataframe thead th {\n",
       "        text-align: right;\n",
       "    }\n",
       "</style>\n",
       "<table border=\"1\" class=\"dataframe\">\n",
       "  <thead>\n",
       "    <tr style=\"text-align: right;\">\n",
       "      <th></th>\n",
       "      <th>Time</th>\n",
       "      <th>Net Savings</th>\n",
       "      <th>Total Use of Gross Income</th>\n",
       "      <th>GDP</th>\n",
       "    </tr>\n",
       "  </thead>\n",
       "  <tbody>\n",
       "    <tr>\n",
       "      <th>0</th>\n",
       "      <td>Sep-59</td>\n",
       "      <td>589</td>\n",
       "      <td>3493</td>\n",
       "      <td>3961.0</td>\n",
       "    </tr>\n",
       "    <tr>\n",
       "      <th>1</th>\n",
       "      <td>Dec-59</td>\n",
       "      <td>698</td>\n",
       "      <td>3905</td>\n",
       "      <td>4070.0</td>\n",
       "    </tr>\n",
       "    <tr>\n",
       "      <th>2</th>\n",
       "      <td>Mar-60</td>\n",
       "      <td>225</td>\n",
       "      <td>3310</td>\n",
       "      <td>4209.0</td>\n",
       "    </tr>\n",
       "    <tr>\n",
       "      <th>3</th>\n",
       "      <td>Jun-60</td>\n",
       "      <td>74</td>\n",
       "      <td>3454</td>\n",
       "      <td>4324.0</td>\n",
       "    </tr>\n",
       "    <tr>\n",
       "      <th>4</th>\n",
       "      <td>Sep-60</td>\n",
       "      <td>492</td>\n",
       "      <td>3669</td>\n",
       "      <td>4406.0</td>\n",
       "    </tr>\n",
       "  </tbody>\n",
       "</table>\n",
       "</div>"
      ],
      "text/plain": [
       "     Time  Net Savings  Total Use of Gross Income     GDP\n",
       "0  Sep-59          589                       3493  3961.0\n",
       "1  Dec-59          698                       3905  4070.0\n",
       "2  Mar-60          225                       3310  4209.0\n",
       "3  Jun-60           74                       3454  4324.0\n",
       "4  Sep-60          492                       3669  4406.0"
      ]
     },
     "execution_count": 3,
     "metadata": {},
     "output_type": "execute_result"
    }
   ],
=======
   "execution_count": 47,
   "id": "f62d24ba",
   "metadata": {},
   "outputs": [],
   "source": [
    "#asx_df.head()"
   ]
  },
  {
   "cell_type": "code",
   "execution_count": 48,
   "id": "f7a8de01",
   "metadata": {},
   "outputs": [],
>>>>>>> main
   "source": [
    "#aud_exchange_df.head()"
   ]
  },
  {
   "cell_type": "markdown",
   "id": "a9ed2c82",
   "metadata": {},
   "source": [
    "## Get data only for June"
   ]
  },
  {
   "cell_type": "code",
   "execution_count": 4,
   "id": "294ba8e5",
   "metadata": {},
   "outputs": [],
   "source": [
    "economy_june_df = economy_df[economy_df.Time.str.match('Jun*')]\n",
    "\n",
    "economy_june_df.to_csv(\"../Data/ProcessedData/Economy_JuneOnly.csv\")"
=======
   "execution_count": 47,
   "id": "f62d24ba",
   "metadata": {},
   "outputs": [],
   "source": [
    "#asx_df.head()"
   ]
  },
  {
   "cell_type": "code",
   "execution_count": 48,
   "id": "f7a8de01",
   "metadata": {},
   "outputs": [],
   "source": [
    "#aud_exchange_df.head()"
>>>>>>> origin
   ]
  },
  {
   "cell_type": "code",
<<<<<<< HEAD
<<<<<<< HEAD
   "execution_count": 5,
   "id": "a54942fe",
   "metadata": {},
   "outputs": [
    {
     "data": {
      "text/html": [
       "<div>\n",
       "<style scoped>\n",
       "    .dataframe tbody tr th:only-of-type {\n",
       "        vertical-align: middle;\n",
       "    }\n",
       "\n",
       "    .dataframe tbody tr th {\n",
       "        vertical-align: top;\n",
       "    }\n",
       "\n",
       "    .dataframe thead th {\n",
       "        text-align: right;\n",
       "    }\n",
       "</style>\n",
       "<table border=\"1\" class=\"dataframe\">\n",
       "  <thead>\n",
       "    <tr style=\"text-align: right;\">\n",
       "      <th></th>\n",
       "      <th>Time</th>\n",
       "      <th>Net Savings</th>\n",
       "      <th>Total Use of Gross Income</th>\n",
       "      <th>GDP</th>\n",
       "    </tr>\n",
       "  </thead>\n",
       "  <tbody>\n",
       "    <tr>\n",
       "      <th>3</th>\n",
       "      <td>Jun-60</td>\n",
       "      <td>74</td>\n",
       "      <td>3454</td>\n",
       "      <td>4324.0</td>\n",
       "    </tr>\n",
       "    <tr>\n",
       "      <th>7</th>\n",
       "      <td>Jun-61</td>\n",
       "      <td>53</td>\n",
       "      <td>3567</td>\n",
       "      <td>4341.0</td>\n",
       "    </tr>\n",
       "    <tr>\n",
       "      <th>11</th>\n",
       "      <td>Jun-62</td>\n",
       "      <td>59</td>\n",
       "      <td>3743</td>\n",
       "      <td>4570.0</td>\n",
       "    </tr>\n",
       "    <tr>\n",
       "      <th>15</th>\n",
       "      <td>Jun-63</td>\n",
       "      <td>71</td>\n",
       "      <td>3988</td>\n",
       "      <td>4974.0</td>\n",
       "    </tr>\n",
       "    <tr>\n",
       "      <th>19</th>\n",
       "      <td>Jun-64</td>\n",
       "      <td>55</td>\n",
       "      <td>4389</td>\n",
       "      <td>5466.0</td>\n",
       "    </tr>\n",
       "    <tr>\n",
       "      <th>...</th>\n",
       "      <td>...</td>\n",
       "      <td>...</td>\n",
       "      <td>...</td>\n",
       "      <td>...</td>\n",
       "    </tr>\n",
       "    <tr>\n",
       "      <th>227</th>\n",
       "      <td>Jun-16</td>\n",
       "      <td>2787</td>\n",
       "      <td>366224</td>\n",
       "      <td>420248.0</td>\n",
       "    </tr>\n",
       "    <tr>\n",
       "      <th>231</th>\n",
       "      <td>Jun-17</td>\n",
       "      <td>-196</td>\n",
       "      <td>375693</td>\n",
       "      <td>449993.0</td>\n",
       "    </tr>\n",
       "    <tr>\n",
       "      <th>235</th>\n",
       "      <td>Jun-18</td>\n",
       "      <td>-2943</td>\n",
       "      <td>391879</td>\n",
       "      <td>471882.0</td>\n",
       "    </tr>\n",
       "    <tr>\n",
       "      <th>239</th>\n",
       "      <td>Jun-19</td>\n",
       "      <td>-5466</td>\n",
       "      <td>403575</td>\n",
       "      <td>NaN</td>\n",
       "    </tr>\n",
       "    <tr>\n",
       "      <th>243</th>\n",
       "      <td>Jun-20</td>\n",
       "      <td>52864</td>\n",
       "      <td>423192</td>\n",
       "      <td>NaN</td>\n",
       "    </tr>\n",
       "  </tbody>\n",
       "</table>\n",
       "<p>61 rows × 4 columns</p>\n",
       "</div>"
      ],
      "text/plain": [
       "       Time  Net Savings  Total Use of Gross Income       GDP\n",
       "3    Jun-60           74                       3454    4324.0\n",
       "7    Jun-61           53                       3567    4341.0\n",
       "11   Jun-62           59                       3743    4570.0\n",
       "15   Jun-63           71                       3988    4974.0\n",
       "19   Jun-64           55                       4389    5466.0\n",
       "..      ...          ...                        ...       ...\n",
       "227  Jun-16         2787                     366224  420248.0\n",
       "231  Jun-17         -196                     375693  449993.0\n",
       "235  Jun-18        -2943                     391879  471882.0\n",
       "239  Jun-19        -5466                     403575       NaN\n",
       "243  Jun-20        52864                     423192       NaN\n",
       "\n",
       "[61 rows x 4 columns]"
      ]
     },
     "execution_count": 5,
     "metadata": {},
     "output_type": "execute_result"
    }
   ],
   "source": [
    "economy_june_df.head(100)"
=======
   "execution_count": 49,
   "id": "8a1f702e",
   "metadata": {},
   "outputs": [],
   "source": [
    "#cash_rate_df.head()"
=======
   "execution_count": 49,
   "id": "8a1f702e",
   "metadata": {},
   "outputs": [],
   "source": [
    "#cash_rate_df.head()"
   ]
  },
  {
   "cell_type": "code",
   "execution_count": 50,
   "id": "d3f5932b",
   "metadata": {},
   "outputs": [],
   "source": [
    "#economy_df.head()"
   ]
  },
  {
   "cell_type": "code",
   "execution_count": 51,
   "id": "fcefa90f",
   "metadata": {},
   "outputs": [],
   "source": [
    "#employment_df.head()"
   ]
  },
  {
   "cell_type": "code",
   "execution_count": 52,
   "id": "cf690150",
   "metadata": {},
   "outputs": [],
   "source": [
    "# gdp_new_df = gdp_df.iloc[3:]\n",
    "# gdp_new_df.rename(columns=gdp_new_df.iloc[0], inplace=True) \n",
    "# gdp_new_df.drop(3, inplace=True)\n",
    "# gdp_new_df.head()"
   ]
  },
  {
   "cell_type": "code",
   "execution_count": 53,
   "id": "c57f5c03",
   "metadata": {},
   "outputs": [],
   "source": [
    "#pop_df.head()"
>>>>>>> origin
   ]
  },
  {
   "cell_type": "code",
<<<<<<< HEAD
   "execution_count": 50,
   "id": "d3f5932b",
   "metadata": {},
   "outputs": [],
   "source": [
    "#economy_df.head()"
   ]
  },
  {
   "cell_type": "code",
   "execution_count": 51,
   "id": "fcefa90f",
   "metadata": {},
   "outputs": [],
   "source": [
    "#employment_df.head()"
   ]
  },
  {
   "cell_type": "code",
   "execution_count": 52,
   "id": "cf690150",
   "metadata": {},
   "outputs": [],
   "source": [
    "# gdp_new_df = gdp_df.iloc[3:]\n",
    "# gdp_new_df.rename(columns=gdp_new_df.iloc[0], inplace=True) \n",
    "# gdp_new_df.drop(3, inplace=True)\n",
    "# gdp_new_df.head()"
   ]
  },
  {
   "cell_type": "code",
   "execution_count": 53,
   "id": "c57f5c03",
   "metadata": {},
   "outputs": [],
   "source": [
    "#pop_df.head()"
>>>>>>> main
   ]
  },
  {
   "cell_type": "code",
<<<<<<< HEAD
   "execution_count": 6,
   "id": "77932e9c",
=======
   "execution_count": 54,
   "id": "eb1b146b",
>>>>>>> main
=======
   "execution_count": 54,
   "id": "eb1b146b",
>>>>>>> origin
   "metadata": {},
   "outputs": [
    {
     "data": {
      "text/html": [
       "<div>\n",
       "<style scoped>\n",
       "    .dataframe tbody tr th:only-of-type {\n",
       "        vertical-align: middle;\n",
       "    }\n",
       "\n",
       "    .dataframe tbody tr th {\n",
       "        vertical-align: top;\n",
       "    }\n",
       "\n",
       "    .dataframe thead th {\n",
       "        text-align: right;\n",
       "    }\n",
       "</style>\n",
       "<table border=\"1\" class=\"dataframe\">\n",
       "  <thead>\n",
       "    <tr style=\"text-align: right;\">\n",
       "      <th></th>\n",
<<<<<<< HEAD
<<<<<<< HEAD
       "      <th>Time</th>\n",
       "      <th>Net Savings</th>\n",
       "      <th>Total Use of Gross Income</th>\n",
       "      <th>GDP</th>\n",
=======
=======
>>>>>>> origin
       "      <th>year</th>\n",
       "      <th>AU_gdp</th>\n",
       "      <th>AU_gdp_growth</th>\n",
       "      <th>AU_goods_export</th>\n",
       "      <th>AU_inflation</th>\n",
       "      <th>AU_net_income</th>\n",
       "      <th>AU_population</th>\n",
       "      <th>CA_gdp</th>\n",
       "      <th>CA_gdp_growth</th>\n",
       "      <th>CA_goods_export</th>\n",
       "      <th>...</th>\n",
       "      <th>KR_goods_export</th>\n",
       "      <th>KR_inflation</th>\n",
       "      <th>KR_net_income</th>\n",
       "      <th>KR_population</th>\n",
       "      <th>US_gdp</th>\n",
       "      <th>US_gdp_growth</th>\n",
       "      <th>US_goods_export</th>\n",
       "      <th>US_inflation</th>\n",
       "      <th>US_net_income</th>\n",
       "      <th>US_population</th>\n",
<<<<<<< HEAD
>>>>>>> main
=======
>>>>>>> origin
       "    </tr>\n",
       "  </thead>\n",
       "  <tbody>\n",
       "    <tr>\n",
<<<<<<< HEAD
       "      <th>143</th>\n",
       "      <td>Jun-95</td>\n",
       "      <td>313</td>\n",
       "      <td>107093</td>\n",
       "      <td>126090.0</td>\n",
       "    </tr>\n",
       "    <tr>\n",
       "      <th>147</th>\n",
       "      <td>Jun-96</td>\n",
       "      <td>853</td>\n",
       "      <td>113630</td>\n",
       "      <td>134580.0</td>\n",
       "    </tr>\n",
       "    <tr>\n",
       "      <th>151</th>\n",
       "      <td>Jun-97</td>\n",
       "      <td>1617</td>\n",
       "      <td>120328</td>\n",
       "      <td>141715.0</td>\n",
       "    </tr>\n",
       "    <tr>\n",
       "      <th>155</th>\n",
       "      <td>Jun-98</td>\n",
       "      <td>-1596</td>\n",
       "      <td>124565</td>\n",
       "      <td>150020.0</td>\n",
       "    </tr>\n",
       "    <tr>\n",
       "      <th>159</th>\n",
       "      <td>Jun-99</td>\n",
       "      <td>-1208</td>\n",
       "      <td>133049</td>\n",
       "      <td>157756.0</td>\n",
       "    </tr>\n",
       "    <tr>\n",
       "      <th>163</th>\n",
       "      <td>Jun-00</td>\n",
       "      <td>-5708</td>\n",
       "      <td>142293</td>\n",
       "      <td>170532.0</td>\n",
       "    </tr>\n",
       "    <tr>\n",
       "      <th>167</th>\n",
       "      <td>Jun-01</td>\n",
       "      <td>1041</td>\n",
       "      <td>149872</td>\n",
       "      <td>180136.0</td>\n",
       "    </tr>\n",
       "    <tr>\n",
       "      <th>171</th>\n",
       "      <td>Jun-02</td>\n",
       "      <td>-2906</td>\n",
       "      <td>161805</td>\n",
       "      <td>193604.0</td>\n",
       "    </tr>\n",
       "    <tr>\n",
       "      <th>175</th>\n",
       "      <td>Jun-03</td>\n",
       "      <td>-1506</td>\n",
       "      <td>167707</td>\n",
       "      <td>204525.0</td>\n",
       "    </tr>\n",
       "    <tr>\n",
       "      <th>179</th>\n",
       "      <td>Jun-04</td>\n",
       "      <td>495</td>\n",
       "      <td>186565</td>\n",
       "      <td>221178.0</td>\n",
       "    </tr>\n",
       "    <tr>\n",
       "      <th>183</th>\n",
       "      <td>Jun-05</td>\n",
       "      <td>258</td>\n",
       "      <td>199764</td>\n",
       "      <td>237636.0</td>\n",
       "    </tr>\n",
       "    <tr>\n",
       "      <th>187</th>\n",
       "      <td>Jun-06</td>\n",
       "      <td>-4984</td>\n",
       "      <td>209901</td>\n",
       "      <td>255759.0</td>\n",
       "    </tr>\n",
       "    <tr>\n",
       "      <th>191</th>\n",
       "      <td>Jun-07</td>\n",
       "      <td>-4302</td>\n",
       "      <td>236285</td>\n",
       "      <td>280080.0</td>\n",
       "    </tr>\n",
       "    <tr>\n",
       "      <th>195</th>\n",
       "      <td>Jun-08</td>\n",
       "      <td>-2338</td>\n",
       "      <td>258882</td>\n",
       "      <td>306258.0</td>\n",
       "    </tr>\n",
       "    <tr>\n",
       "      <th>199</th>\n",
       "      <td>Jun-09</td>\n",
       "      <td>11132</td>\n",
       "      <td>274175</td>\n",
       "      <td>313525.0</td>\n",
       "    </tr>\n",
       "    <tr>\n",
       "      <th>203</th>\n",
       "      <td>Jun-10</td>\n",
       "      <td>5909</td>\n",
       "      <td>284655</td>\n",
       "      <td>337341.0</td>\n",
       "    </tr>\n",
       "    <tr>\n",
       "      <th>207</th>\n",
       "      <td>Jun-11</td>\n",
       "      <td>8816</td>\n",
       "      <td>305615</td>\n",
       "      <td>365114.0</td>\n",
       "    </tr>\n",
       "    <tr>\n",
       "      <th>211</th>\n",
       "      <td>Jun-12</td>\n",
       "      <td>9941</td>\n",
       "      <td>323556</td>\n",
       "      <td>377876.0</td>\n",
       "    </tr>\n",
       "    <tr>\n",
       "      <th>215</th>\n",
       "      <td>Jun-13</td>\n",
       "      <td>8209</td>\n",
       "      <td>329757</td>\n",
       "      <td>389360.0</td>\n",
       "    </tr>\n",
       "    <tr>\n",
       "      <th>219</th>\n",
       "      <td>Jun-14</td>\n",
       "      <td>9833</td>\n",
       "      <td>345353</td>\n",
       "      <td>403217.0</td>\n",
       "    </tr>\n",
       "    <tr>\n",
       "      <th>223</th>\n",
       "      <td>Jun-15</td>\n",
       "      <td>8099</td>\n",
       "      <td>358180</td>\n",
       "      <td>409163.0</td>\n",
       "    </tr>\n",
       "    <tr>\n",
       "      <th>227</th>\n",
       "      <td>Jun-16</td>\n",
       "      <td>2787</td>\n",
       "      <td>366224</td>\n",
       "      <td>420248.0</td>\n",
       "    </tr>\n",
       "    <tr>\n",
       "      <th>231</th>\n",
       "      <td>Jun-17</td>\n",
       "      <td>-196</td>\n",
       "      <td>375693</td>\n",
       "      <td>449993.0</td>\n",
       "    </tr>\n",
       "    <tr>\n",
       "      <th>235</th>\n",
       "      <td>Jun-18</td>\n",
       "      <td>-2943</td>\n",
       "      <td>391879</td>\n",
       "      <td>471882.0</td>\n",
       "    </tr>\n",
       "    <tr>\n",
       "      <th>239</th>\n",
       "      <td>Jun-19</td>\n",
       "      <td>-5466</td>\n",
       "      <td>403575</td>\n",
       "      <td>NaN</td>\n",
       "    </tr>\n",
       "    <tr>\n",
       "      <th>243</th>\n",
       "      <td>Jun-20</td>\n",
       "      <td>52864</td>\n",
       "      <td>423192</td>\n",
       "      <td>NaN</td>\n",
=======
       "      <th>0</th>\n",
       "      <td>1995</td>\n",
       "      <td>3.672164e+11</td>\n",
       "      <td>3.837755</td>\n",
       "      <td>5.330705e+10</td>\n",
       "      <td>4.627767</td>\n",
       "      <td>-1.360998e+10</td>\n",
       "      <td>18072000.0</td>\n",
       "      <td>6.040116e+11</td>\n",
       "      <td>NaN</td>\n",
       "      <td>1.929309e+11</td>\n",
       "      <td>...</td>\n",
       "      <td>1.195777e+11</td>\n",
       "      <td>4.480687</td>\n",
       "      <td>-2.122100e+09</td>\n",
       "      <td>45092991.0</td>\n",
       "      <td>7.639749e+12</td>\n",
       "      <td>2.684287</td>\n",
       "      <td>5.752040e+11</td>\n",
       "      <td>2.805420</td>\n",
       "      <td>2.089930e+10</td>\n",
       "      <td>266278000.0</td>\n",
       "    </tr>\n",
       "    <tr>\n",
       "      <th>1</th>\n",
       "      <td>1996</td>\n",
       "      <td>4.003027e+11</td>\n",
       "      <td>3.878585</td>\n",
       "      <td>6.051559e+10</td>\n",
       "      <td>2.615385</td>\n",
       "      <td>-1.426600e+10</td>\n",
       "      <td>18311000.0</td>\n",
       "      <td>6.285364e+11</td>\n",
       "      <td>NaN</td>\n",
       "      <td>2.048682e+11</td>\n",
       "      <td>...</td>\n",
       "      <td>1.244274e+11</td>\n",
       "      <td>4.924810</td>\n",
       "      <td>-2.214800e+09</td>\n",
       "      <td>45524681.0</td>\n",
       "      <td>8.073122e+12</td>\n",
       "      <td>3.772501</td>\n",
       "      <td>6.121130e+11</td>\n",
       "      <td>2.931204</td>\n",
       "      <td>2.232480e+10</td>\n",
       "      <td>269394000.0</td>\n",
       "    </tr>\n",
       "    <tr>\n",
       "      <th>2</th>\n",
       "      <td>1997</td>\n",
       "      <td>4.345680e+11</td>\n",
       "      <td>3.966538</td>\n",
       "      <td>6.496912e+10</td>\n",
       "      <td>0.224888</td>\n",
       "      <td>-1.373516e+10</td>\n",
       "      <td>18517000.0</td>\n",
       "      <td>6.549879e+11</td>\n",
       "      <td>NaN</td>\n",
       "      <td>2.184618e+11</td>\n",
       "      <td>...</td>\n",
       "      <td>1.323667e+11</td>\n",
       "      <td>4.439064</td>\n",
       "      <td>-3.167400e+09</td>\n",
       "      <td>45953580.0</td>\n",
       "      <td>8.577554e+12</td>\n",
       "      <td>4.447216</td>\n",
       "      <td>6.783660e+11</td>\n",
       "      <td>2.337690</td>\n",
       "      <td>1.262480e+10</td>\n",
       "      <td>272657000.0</td>\n",
       "    </tr>\n",
       "    <tr>\n",
       "      <th>3</th>\n",
       "      <td>1998</td>\n",
       "      <td>3.988991e+11</td>\n",
       "      <td>4.576689</td>\n",
       "      <td>5.584892e+10</td>\n",
       "      <td>0.860135</td>\n",
       "      <td>-1.136180e+10</td>\n",
       "      <td>18711000.0</td>\n",
       "      <td>6.339977e+11</td>\n",
       "      <td>2.796542</td>\n",
       "      <td>2.199484e+11</td>\n",
       "      <td>...</td>\n",
       "      <td>1.275390e+11</td>\n",
       "      <td>7.513340</td>\n",
       "      <td>-5.201000e+09</td>\n",
       "      <td>46286503.0</td>\n",
       "      <td>9.062818e+12</td>\n",
       "      <td>4.481408</td>\n",
       "      <td>6.704160e+11</td>\n",
       "      <td>1.552279</td>\n",
       "      <td>4.280100e+09</td>\n",
       "      <td>275854000.0</td>\n",
       "    </tr>\n",
       "    <tr>\n",
       "      <th>4</th>\n",
       "      <td>1999</td>\n",
       "      <td>3.886082e+11</td>\n",
       "      <td>5.073599</td>\n",
       "      <td>5.602984e+10</td>\n",
       "      <td>1.483129</td>\n",
       "      <td>-1.188279e+10</td>\n",
       "      <td>18926000.0</td>\n",
       "      <td>6.784100e+11</td>\n",
       "      <td>3.970483</td>\n",
       "      <td>2.477141e+11</td>\n",
       "      <td>...</td>\n",
       "      <td>1.360306e+11</td>\n",
       "      <td>0.812997</td>\n",
       "      <td>-5.536800e+09</td>\n",
       "      <td>46616677.0</td>\n",
       "      <td>9.630664e+12</td>\n",
       "      <td>4.753236</td>\n",
       "      <td>6.985240e+11</td>\n",
       "      <td>2.188027</td>\n",
       "      <td>9.969000e+09</td>\n",
       "      <td>279040000.0</td>\n",
<<<<<<< HEAD
>>>>>>> main
=======
>>>>>>> origin
       "    </tr>\n",
       "  </tbody>\n",
       "</table>\n",
       "<p>5 rows × 49 columns</p>\n",
       "</div>"
      ],
      "text/plain": [
<<<<<<< HEAD
<<<<<<< HEAD
       "       Time  Net Savings  Total Use of Gross Income       GDP\n",
       "143  Jun-95          313                     107093  126090.0\n",
       "147  Jun-96          853                     113630  134580.0\n",
       "151  Jun-97         1617                     120328  141715.0\n",
       "155  Jun-98        -1596                     124565  150020.0\n",
       "159  Jun-99        -1208                     133049  157756.0\n",
       "163  Jun-00        -5708                     142293  170532.0\n",
       "167  Jun-01         1041                     149872  180136.0\n",
       "171  Jun-02        -2906                     161805  193604.0\n",
       "175  Jun-03        -1506                     167707  204525.0\n",
       "179  Jun-04          495                     186565  221178.0\n",
       "183  Jun-05          258                     199764  237636.0\n",
       "187  Jun-06        -4984                     209901  255759.0\n",
       "191  Jun-07        -4302                     236285  280080.0\n",
       "195  Jun-08        -2338                     258882  306258.0\n",
       "199  Jun-09        11132                     274175  313525.0\n",
       "203  Jun-10         5909                     284655  337341.0\n",
       "207  Jun-11         8816                     305615  365114.0\n",
       "211  Jun-12         9941                     323556  377876.0\n",
       "215  Jun-13         8209                     329757  389360.0\n",
       "219  Jun-14         9833                     345353  403217.0\n",
       "223  Jun-15         8099                     358180  409163.0\n",
       "227  Jun-16         2787                     366224  420248.0\n",
       "231  Jun-17         -196                     375693  449993.0\n",
       "235  Jun-18        -2943                     391879  471882.0\n",
       "239  Jun-19        -5466                     403575       NaN\n",
       "243  Jun-20        52864                     423192       NaN"
=======
=======
>>>>>>> origin
       "   year        AU_gdp  AU_gdp_growth  AU_goods_export  AU_inflation  \\\n",
       "0  1995  3.672164e+11       3.837755     5.330705e+10      4.627767   \n",
       "1  1996  4.003027e+11       3.878585     6.051559e+10      2.615385   \n",
       "2  1997  4.345680e+11       3.966538     6.496912e+10      0.224888   \n",
       "3  1998  3.988991e+11       4.576689     5.584892e+10      0.860135   \n",
       "4  1999  3.886082e+11       5.073599     5.602984e+10      1.483129   \n",
<<<<<<< HEAD
       "\n",
       "   AU_net_income  AU_population        CA_gdp  CA_gdp_growth  CA_goods_export  \\\n",
       "0  -1.360998e+10     18072000.0  6.040116e+11            NaN     1.929309e+11   \n",
       "1  -1.426600e+10     18311000.0  6.285364e+11            NaN     2.048682e+11   \n",
       "2  -1.373516e+10     18517000.0  6.549879e+11            NaN     2.184618e+11   \n",
       "3  -1.136180e+10     18711000.0  6.339977e+11       2.796542     2.199484e+11   \n",
       "4  -1.188279e+10     18926000.0  6.784100e+11       3.970483     2.477141e+11   \n",
       "\n",
       "   ...  KR_goods_export  KR_inflation  KR_net_income  KR_population  \\\n",
       "0  ...     1.195777e+11      4.480687  -2.122100e+09     45092991.0   \n",
       "1  ...     1.244274e+11      4.924810  -2.214800e+09     45524681.0   \n",
       "2  ...     1.323667e+11      4.439064  -3.167400e+09     45953580.0   \n",
       "3  ...     1.275390e+11      7.513340  -5.201000e+09     46286503.0   \n",
       "4  ...     1.360306e+11      0.812997  -5.536800e+09     46616677.0   \n",
       "\n",
       "         US_gdp  US_gdp_growth  US_goods_export  US_inflation  US_net_income  \\\n",
       "0  7.639749e+12       2.684287     5.752040e+11      2.805420   2.089930e+10   \n",
       "1  8.073122e+12       3.772501     6.121130e+11      2.931204   2.232480e+10   \n",
       "2  8.577554e+12       4.447216     6.783660e+11      2.337690   1.262480e+10   \n",
       "3  9.062818e+12       4.481408     6.704160e+11      1.552279   4.280100e+09   \n",
       "4  9.630664e+12       4.753236     6.985240e+11      2.188027   9.969000e+09   \n",
       "\n",
       "   US_population  \n",
       "0    266278000.0  \n",
       "1    269394000.0  \n",
       "2    272657000.0  \n",
       "3    275854000.0  \n",
       "4    279040000.0  \n",
       "\n",
       "[5 rows x 49 columns]"
>>>>>>> main
=======
       "\n",
       "   AU_net_income  AU_population        CA_gdp  CA_gdp_growth  CA_goods_export  \\\n",
       "0  -1.360998e+10     18072000.0  6.040116e+11            NaN     1.929309e+11   \n",
       "1  -1.426600e+10     18311000.0  6.285364e+11            NaN     2.048682e+11   \n",
       "2  -1.373516e+10     18517000.0  6.549879e+11            NaN     2.184618e+11   \n",
       "3  -1.136180e+10     18711000.0  6.339977e+11       2.796542     2.199484e+11   \n",
       "4  -1.188279e+10     18926000.0  6.784100e+11       3.970483     2.477141e+11   \n",
       "\n",
       "   ...  KR_goods_export  KR_inflation  KR_net_income  KR_population  \\\n",
       "0  ...     1.195777e+11      4.480687  -2.122100e+09     45092991.0   \n",
       "1  ...     1.244274e+11      4.924810  -2.214800e+09     45524681.0   \n",
       "2  ...     1.323667e+11      4.439064  -3.167400e+09     45953580.0   \n",
       "3  ...     1.275390e+11      7.513340  -5.201000e+09     46286503.0   \n",
       "4  ...     1.360306e+11      0.812997  -5.536800e+09     46616677.0   \n",
       "\n",
       "         US_gdp  US_gdp_growth  US_goods_export  US_inflation  US_net_income  \\\n",
       "0  7.639749e+12       2.684287     5.752040e+11      2.805420   2.089930e+10   \n",
       "1  8.073122e+12       3.772501     6.121130e+11      2.931204   2.232480e+10   \n",
       "2  8.577554e+12       4.447216     6.783660e+11      2.337690   1.262480e+10   \n",
       "3  9.062818e+12       4.481408     6.704160e+11      1.552279   4.280100e+09   \n",
       "4  9.630664e+12       4.753236     6.985240e+11      2.188027   9.969000e+09   \n",
       "\n",
       "   US_population  \n",
       "0    266278000.0  \n",
       "1    269394000.0  \n",
       "2    272657000.0  \n",
       "3    275854000.0  \n",
       "4    279040000.0  \n",
       "\n",
       "[5 rows x 49 columns]"
>>>>>>> origin
      ]
     },
     "execution_count": 54,
     "metadata": {},
     "output_type": "execute_result"
    }
   ],
   "source": [
<<<<<<< HEAD
<<<<<<< HEAD
    "economy_june_df = economy_june_df.iloc[35:] \n",
    "economy_june_df"
=======
=======
>>>>>>> origin
    "world_data.head()"
   ]
  },
  {
   "cell_type": "markdown",
   "id": "da1df1cd",
   "metadata": {},
   "source": [
    "## Get data only for June"
<<<<<<< HEAD
>>>>>>> main
=======
>>>>>>> origin
   ]
  },
  {
   "cell_type": "code",
<<<<<<< HEAD
<<<<<<< HEAD
   "execution_count": 7,
   "id": "9865662e",
   "metadata": {},
   "outputs": [
    {
     "data": {
      "text/html": [
       "<div>\n",
       "<style scoped>\n",
       "    .dataframe tbody tr th:only-of-type {\n",
       "        vertical-align: middle;\n",
       "    }\n",
       "\n",
       "    .dataframe tbody tr th {\n",
       "        vertical-align: top;\n",
       "    }\n",
       "\n",
       "    .dataframe thead th {\n",
       "        text-align: right;\n",
       "    }\n",
       "</style>\n",
       "<table border=\"1\" class=\"dataframe\">\n",
       "  <thead>\n",
       "    <tr style=\"text-align: right;\">\n",
       "      <th></th>\n",
       "      <th>Year</th>\n",
       "      <th>Net Savings</th>\n",
       "      <th>Total Use of Gross Income</th>\n",
       "      <th>GDP</th>\n",
       "    </tr>\n",
       "  </thead>\n",
       "  <tbody>\n",
       "    <tr>\n",
       "      <th>143</th>\n",
       "      <td>Jun-95</td>\n",
       "      <td>313</td>\n",
       "      <td>107093</td>\n",
       "      <td>126090.0</td>\n",
       "    </tr>\n",
       "    <tr>\n",
       "      <th>147</th>\n",
       "      <td>Jun-96</td>\n",
       "      <td>853</td>\n",
       "      <td>113630</td>\n",
       "      <td>134580.0</td>\n",
       "    </tr>\n",
       "    <tr>\n",
       "      <th>151</th>\n",
       "      <td>Jun-97</td>\n",
       "      <td>1617</td>\n",
       "      <td>120328</td>\n",
       "      <td>141715.0</td>\n",
       "    </tr>\n",
       "    <tr>\n",
       "      <th>155</th>\n",
       "      <td>Jun-98</td>\n",
       "      <td>-1596</td>\n",
       "      <td>124565</td>\n",
       "      <td>150020.0</td>\n",
       "    </tr>\n",
       "    <tr>\n",
       "      <th>159</th>\n",
       "      <td>Jun-99</td>\n",
       "      <td>-1208</td>\n",
       "      <td>133049</td>\n",
       "      <td>157756.0</td>\n",
       "    </tr>\n",
       "    <tr>\n",
       "      <th>163</th>\n",
       "      <td>Jun-00</td>\n",
       "      <td>-5708</td>\n",
       "      <td>142293</td>\n",
       "      <td>170532.0</td>\n",
       "    </tr>\n",
       "    <tr>\n",
       "      <th>167</th>\n",
       "      <td>Jun-01</td>\n",
       "      <td>1041</td>\n",
       "      <td>149872</td>\n",
       "      <td>180136.0</td>\n",
       "    </tr>\n",
       "    <tr>\n",
       "      <th>171</th>\n",
       "      <td>Jun-02</td>\n",
       "      <td>-2906</td>\n",
       "      <td>161805</td>\n",
       "      <td>193604.0</td>\n",
       "    </tr>\n",
       "    <tr>\n",
       "      <th>175</th>\n",
       "      <td>Jun-03</td>\n",
       "      <td>-1506</td>\n",
       "      <td>167707</td>\n",
       "      <td>204525.0</td>\n",
       "    </tr>\n",
       "    <tr>\n",
       "      <th>179</th>\n",
       "      <td>Jun-04</td>\n",
       "      <td>495</td>\n",
       "      <td>186565</td>\n",
       "      <td>221178.0</td>\n",
       "    </tr>\n",
       "    <tr>\n",
       "      <th>183</th>\n",
       "      <td>Jun-05</td>\n",
       "      <td>258</td>\n",
       "      <td>199764</td>\n",
       "      <td>237636.0</td>\n",
       "    </tr>\n",
       "    <tr>\n",
       "      <th>187</th>\n",
       "      <td>Jun-06</td>\n",
       "      <td>-4984</td>\n",
       "      <td>209901</td>\n",
       "      <td>255759.0</td>\n",
       "    </tr>\n",
       "    <tr>\n",
       "      <th>191</th>\n",
       "      <td>Jun-07</td>\n",
       "      <td>-4302</td>\n",
       "      <td>236285</td>\n",
       "      <td>280080.0</td>\n",
       "    </tr>\n",
       "    <tr>\n",
       "      <th>195</th>\n",
       "      <td>Jun-08</td>\n",
       "      <td>-2338</td>\n",
       "      <td>258882</td>\n",
       "      <td>306258.0</td>\n",
       "    </tr>\n",
       "    <tr>\n",
       "      <th>199</th>\n",
       "      <td>Jun-09</td>\n",
       "      <td>11132</td>\n",
       "      <td>274175</td>\n",
       "      <td>313525.0</td>\n",
       "    </tr>\n",
       "    <tr>\n",
       "      <th>203</th>\n",
       "      <td>Jun-10</td>\n",
       "      <td>5909</td>\n",
       "      <td>284655</td>\n",
       "      <td>337341.0</td>\n",
       "    </tr>\n",
       "    <tr>\n",
       "      <th>207</th>\n",
       "      <td>Jun-11</td>\n",
       "      <td>8816</td>\n",
       "      <td>305615</td>\n",
       "      <td>365114.0</td>\n",
       "    </tr>\n",
       "    <tr>\n",
       "      <th>211</th>\n",
       "      <td>Jun-12</td>\n",
       "      <td>9941</td>\n",
       "      <td>323556</td>\n",
       "      <td>377876.0</td>\n",
       "    </tr>\n",
       "    <tr>\n",
       "      <th>215</th>\n",
       "      <td>Jun-13</td>\n",
       "      <td>8209</td>\n",
       "      <td>329757</td>\n",
       "      <td>389360.0</td>\n",
       "    </tr>\n",
       "    <tr>\n",
       "      <th>219</th>\n",
       "      <td>Jun-14</td>\n",
       "      <td>9833</td>\n",
       "      <td>345353</td>\n",
       "      <td>403217.0</td>\n",
       "    </tr>\n",
       "    <tr>\n",
       "      <th>223</th>\n",
       "      <td>Jun-15</td>\n",
       "      <td>8099</td>\n",
       "      <td>358180</td>\n",
       "      <td>409163.0</td>\n",
       "    </tr>\n",
       "    <tr>\n",
       "      <th>227</th>\n",
       "      <td>Jun-16</td>\n",
       "      <td>2787</td>\n",
       "      <td>366224</td>\n",
       "      <td>420248.0</td>\n",
       "    </tr>\n",
       "    <tr>\n",
       "      <th>231</th>\n",
       "      <td>Jun-17</td>\n",
       "      <td>-196</td>\n",
       "      <td>375693</td>\n",
       "      <td>449993.0</td>\n",
       "    </tr>\n",
       "    <tr>\n",
       "      <th>235</th>\n",
       "      <td>Jun-18</td>\n",
       "      <td>-2943</td>\n",
       "      <td>391879</td>\n",
       "      <td>471882.0</td>\n",
       "    </tr>\n",
       "    <tr>\n",
       "      <th>239</th>\n",
       "      <td>Jun-19</td>\n",
       "      <td>-5466</td>\n",
       "      <td>403575</td>\n",
       "      <td>NaN</td>\n",
       "    </tr>\n",
       "    <tr>\n",
       "      <th>243</th>\n",
       "      <td>Jun-20</td>\n",
       "      <td>52864</td>\n",
       "      <td>423192</td>\n",
       "      <td>NaN</td>\n",
       "    </tr>\n",
       "  </tbody>\n",
       "</table>\n",
       "</div>"
      ],
      "text/plain": [
       "       Year  Net Savings  Total Use of Gross Income       GDP\n",
       "143  Jun-95          313                     107093  126090.0\n",
       "147  Jun-96          853                     113630  134580.0\n",
       "151  Jun-97         1617                     120328  141715.0\n",
       "155  Jun-98        -1596                     124565  150020.0\n",
       "159  Jun-99        -1208                     133049  157756.0\n",
       "163  Jun-00        -5708                     142293  170532.0\n",
       "167  Jun-01         1041                     149872  180136.0\n",
       "171  Jun-02        -2906                     161805  193604.0\n",
       "175  Jun-03        -1506                     167707  204525.0\n",
       "179  Jun-04          495                     186565  221178.0\n",
       "183  Jun-05          258                     199764  237636.0\n",
       "187  Jun-06        -4984                     209901  255759.0\n",
       "191  Jun-07        -4302                     236285  280080.0\n",
       "195  Jun-08        -2338                     258882  306258.0\n",
       "199  Jun-09        11132                     274175  313525.0\n",
       "203  Jun-10         5909                     284655  337341.0\n",
       "207  Jun-11         8816                     305615  365114.0\n",
       "211  Jun-12         9941                     323556  377876.0\n",
       "215  Jun-13         8209                     329757  389360.0\n",
       "219  Jun-14         9833                     345353  403217.0\n",
       "223  Jun-15         8099                     358180  409163.0\n",
       "227  Jun-16         2787                     366224  420248.0\n",
       "231  Jun-17         -196                     375693  449993.0\n",
       "235  Jun-18        -2943                     391879  471882.0\n",
       "239  Jun-19        -5466                     403575       NaN\n",
       "243  Jun-20        52864                     423192       NaN"
      ]
     },
     "execution_count": 7,
     "metadata": {},
     "output_type": "execute_result"
    }
   ],
   "source": [
    "economy_june_df = economy_june_df.rename(columns={\"Time\" : \"Year\"})\n",
    "economy_june_df"
=======
   "execution_count": 55,
   "id": "0467df20",
   "metadata": {},
   "outputs": [],
   "source": [
=======
   "execution_count": 55,
   "id": "0467df20",
   "metadata": {},
   "outputs": [],
   "source": [
>>>>>>> origin
    "# economy_june_df = economy_df[economy_df.Time.str.match('Jun*')]\n",
    "\n",
    "# economy_june_df.to_csv(\"../Data/ProcessedData/Economy_JuneOnly.csv\")"
   ]
  },
  {
   "cell_type": "code",
   "execution_count": 56,
   "id": "d00feb58",
   "metadata": {},
   "outputs": [],
   "source": [
    "# employment_june_df = employment_df[employment_df.Time.str.match('Jun-*')]\n",
    "\n",
    "# employment_june_df.to_csv(\"../Data/ProcessedData/Employment_JuneOnly.csv\")\n",
    "\n",
    "# employment_june_df.head(10)"
<<<<<<< HEAD
=======
   ]
  },
  {
   "cell_type": "code",
   "execution_count": 57,
   "id": "9c4f1cd9",
   "metadata": {},
   "outputs": [],
   "source": [
    "# gdp_selected_df = gdp_new_df.loc[(gdp_new_df[\"Country Name\"] == \"Australia\") | \n",
    "#                                  (gdp_new_df[\"Country Name\"] == \"Canada\") |\n",
    "#                                  (gdp_new_df[\"Country Name\"] == \"China\") |\n",
    "#                                  (gdp_new_df[\"Country Name\"] == \"European Union\") |\n",
    "#                                  (gdp_new_df[\"Country Name\"] == \"India\") |\n",
    "#                                  (gdp_new_df[\"Country Name\"] == \"Korea, Rep.\") |\n",
    "#                                  (gdp_new_df[\"Country Name\"] == \"United Kingdom\") |\n",
    "#                                  (gdp_new_df[\"Country Name\"] == \"United States\")]\n",
    "\n",
    "# gdp_selected_df.to_csv(\"../Data/ProcessedData/GDP_selected_countries.csv\")"
   ]
  },
  {
   "cell_type": "code",
   "execution_count": 58,
   "id": "a08c97b7",
   "metadata": {},
   "outputs": [],
   "source": [
    "# pop_june_df = pop_df[pop_df.Time.str.match('Jun-*')]\n",
    "\n",
    "# pop_june_df.to_csv(\"../Data/ProcessedData/Population_JuneOnly.csv\")"
   ]
  },
  {
   "cell_type": "markdown",
   "id": "23908911",
   "metadata": {},
   "source": [
    "### Clean World data"
>>>>>>> origin
   ]
  },
  {
   "cell_type": "code",
<<<<<<< HEAD
   "execution_count": 57,
   "id": "9c4f1cd9",
   "metadata": {},
   "outputs": [],
   "source": [
    "# gdp_selected_df = gdp_new_df.loc[(gdp_new_df[\"Country Name\"] == \"Australia\") | \n",
    "#                                  (gdp_new_df[\"Country Name\"] == \"Canada\") |\n",
    "#                                  (gdp_new_df[\"Country Name\"] == \"China\") |\n",
    "#                                  (gdp_new_df[\"Country Name\"] == \"European Union\") |\n",
    "#                                  (gdp_new_df[\"Country Name\"] == \"India\") |\n",
    "#                                  (gdp_new_df[\"Country Name\"] == \"Korea, Rep.\") |\n",
    "#                                  (gdp_new_df[\"Country Name\"] == \"United Kingdom\") |\n",
    "#                                  (gdp_new_df[\"Country Name\"] == \"United States\")]\n",
    "\n",
    "# gdp_selected_df.to_csv(\"../Data/ProcessedData/GDP_selected_countries.csv\")"
   ]
  },
  {
   "cell_type": "code",
   "execution_count": 58,
   "id": "a08c97b7",
   "metadata": {},
   "outputs": [],
   "source": [
    "# pop_june_df = pop_df[pop_df.Time.str.match('Jun-*')]\n",
    "\n",
    "# pop_june_df.to_csv(\"../Data/ProcessedData/Population_JuneOnly.csv\")"
   ]
  },
  {
   "cell_type": "markdown",
   "id": "23908911",
   "metadata": {},
   "source": [
    "### Clean World data"
>>>>>>> main
   ]
  },
  {
   "cell_type": "code",
<<<<<<< HEAD
   "execution_count": 8,
   "id": "746351af",
   "metadata": {},
   "outputs": [],
   "source": [
    "rows = [\"1995\", \"1996\", \"1997\", \"1998\", \"1999\",\n",
    "           \"2000\", \"2001\", \"2002\", \"2003\", \"2004\",\n",
    "           \"2005\", \"2006\", \"2007\", \"2008\", \"2009\", \"2010\",\n",
    "           \"2011\", \"2012\", \"2013\",\"2014\", \"2015\", \"2016\", \"2017\",\n",
    "           \"2018\", \"2019\", \"2020\"]\n",
    "economy_june_df[\"Year\"] = rows"
   ]
  },
  {
   "cell_type": "code",
   "execution_count": 9,
   "id": "cf854c4e",
=======
   "execution_count": 59,
   "id": "16b318a0",
>>>>>>> main
=======
   "execution_count": 59,
   "id": "16b318a0",
>>>>>>> origin
   "metadata": {},
   "outputs": [
    {
     "data": {
      "text/html": [
       "<div>\n",
       "<style scoped>\n",
       "    .dataframe tbody tr th:only-of-type {\n",
       "        vertical-align: middle;\n",
       "    }\n",
       "\n",
       "    .dataframe tbody tr th {\n",
       "        vertical-align: top;\n",
       "    }\n",
       "\n",
       "    .dataframe thead th {\n",
       "        text-align: right;\n",
       "    }\n",
       "</style>\n",
       "<table border=\"1\" class=\"dataframe\">\n",
       "  <thead>\n",
       "    <tr style=\"text-align: right;\">\n",
       "      <th></th>\n",
<<<<<<< HEAD
<<<<<<< HEAD
       "      <th>Year</th>\n",
       "      <th>Net Savings</th>\n",
       "      <th>Total Use of Gross Income</th>\n",
       "      <th>GDP</th>\n",
=======
=======
>>>>>>> origin
       "      <th>year</th>\n",
       "      <th>AU_gdp</th>\n",
       "      <th>AU_gdp_growth</th>\n",
       "      <th>AU_goods_export</th>\n",
       "      <th>AU_inflation</th>\n",
       "      <th>AU_net_income</th>\n",
       "      <th>AU_population</th>\n",
       "      <th>CA_gdp</th>\n",
       "      <th>CA_gdp_growth</th>\n",
       "      <th>CA_goods_export</th>\n",
       "      <th>...</th>\n",
       "      <th>KR_goods_export</th>\n",
       "      <th>KR_inflation</th>\n",
       "      <th>KR_net_income</th>\n",
       "      <th>KR_population</th>\n",
       "      <th>US_gdp</th>\n",
       "      <th>US_gdp_growth</th>\n",
       "      <th>US_goods_export</th>\n",
       "      <th>US_inflation</th>\n",
       "      <th>US_net_income</th>\n",
       "      <th>US_population</th>\n",
<<<<<<< HEAD
>>>>>>> main
=======
>>>>>>> origin
       "    </tr>\n",
       "  </thead>\n",
       "  <tbody>\n",
       "    <tr>\n",
<<<<<<< HEAD
       "      <th>143</th>\n",
       "      <td>1995</td>\n",
       "      <td>313</td>\n",
       "      <td>107093</td>\n",
       "      <td>126090.0</td>\n",
       "    </tr>\n",
       "    <tr>\n",
       "      <th>147</th>\n",
       "      <td>1996</td>\n",
       "      <td>853</td>\n",
       "      <td>113630</td>\n",
       "      <td>134580.0</td>\n",
       "    </tr>\n",
       "    <tr>\n",
       "      <th>151</th>\n",
       "      <td>1997</td>\n",
       "      <td>1617</td>\n",
       "      <td>120328</td>\n",
       "      <td>141715.0</td>\n",
       "    </tr>\n",
       "    <tr>\n",
       "      <th>155</th>\n",
       "      <td>1998</td>\n",
       "      <td>-1596</td>\n",
       "      <td>124565</td>\n",
       "      <td>150020.0</td>\n",
       "    </tr>\n",
       "    <tr>\n",
       "      <th>159</th>\n",
       "      <td>1999</td>\n",
       "      <td>-1208</td>\n",
       "      <td>133049</td>\n",
       "      <td>157756.0</td>\n",
=======
       "      <th>0</th>\n",
       "      <td>1995</td>\n",
       "      <td>3.672164e+11</td>\n",
       "      <td>3.837755</td>\n",
       "      <td>5.330705e+10</td>\n",
       "      <td>4.627767</td>\n",
       "      <td>-1.360998e+10</td>\n",
       "      <td>18072000.0</td>\n",
       "      <td>6.040116e+11</td>\n",
       "      <td>NaN</td>\n",
       "      <td>1.929309e+11</td>\n",
       "      <td>...</td>\n",
       "      <td>1.195777e+11</td>\n",
       "      <td>4.480687</td>\n",
       "      <td>-2.122100e+09</td>\n",
       "      <td>45092991.0</td>\n",
       "      <td>7.639749e+12</td>\n",
       "      <td>2.684287</td>\n",
       "      <td>5.752040e+11</td>\n",
       "      <td>2.805420</td>\n",
       "      <td>2.089930e+10</td>\n",
       "      <td>266278000.0</td>\n",
       "    </tr>\n",
       "    <tr>\n",
       "      <th>1</th>\n",
       "      <td>1996</td>\n",
       "      <td>4.003027e+11</td>\n",
       "      <td>3.878585</td>\n",
       "      <td>6.051559e+10</td>\n",
       "      <td>2.615385</td>\n",
       "      <td>-1.426600e+10</td>\n",
       "      <td>18311000.0</td>\n",
       "      <td>6.285364e+11</td>\n",
       "      <td>NaN</td>\n",
       "      <td>2.048682e+11</td>\n",
       "      <td>...</td>\n",
       "      <td>1.244274e+11</td>\n",
       "      <td>4.924810</td>\n",
       "      <td>-2.214800e+09</td>\n",
       "      <td>45524681.0</td>\n",
       "      <td>8.073122e+12</td>\n",
       "      <td>3.772501</td>\n",
       "      <td>6.121130e+11</td>\n",
       "      <td>2.931204</td>\n",
       "      <td>2.232480e+10</td>\n",
       "      <td>269394000.0</td>\n",
       "    </tr>\n",
       "    <tr>\n",
       "      <th>2</th>\n",
       "      <td>1997</td>\n",
       "      <td>4.345680e+11</td>\n",
       "      <td>3.966538</td>\n",
       "      <td>6.496912e+10</td>\n",
       "      <td>0.224888</td>\n",
       "      <td>-1.373516e+10</td>\n",
       "      <td>18517000.0</td>\n",
       "      <td>6.549879e+11</td>\n",
       "      <td>NaN</td>\n",
       "      <td>2.184618e+11</td>\n",
       "      <td>...</td>\n",
       "      <td>1.323667e+11</td>\n",
       "      <td>4.439064</td>\n",
       "      <td>-3.167400e+09</td>\n",
       "      <td>45953580.0</td>\n",
       "      <td>8.577554e+12</td>\n",
       "      <td>4.447216</td>\n",
       "      <td>6.783660e+11</td>\n",
       "      <td>2.337690</td>\n",
       "      <td>1.262480e+10</td>\n",
       "      <td>272657000.0</td>\n",
       "    </tr>\n",
       "    <tr>\n",
       "      <th>3</th>\n",
       "      <td>1998</td>\n",
       "      <td>3.988991e+11</td>\n",
       "      <td>4.576689</td>\n",
       "      <td>5.584892e+10</td>\n",
       "      <td>0.860135</td>\n",
       "      <td>-1.136180e+10</td>\n",
       "      <td>18711000.0</td>\n",
       "      <td>6.339977e+11</td>\n",
       "      <td>2.796542</td>\n",
       "      <td>2.199484e+11</td>\n",
       "      <td>...</td>\n",
       "      <td>1.275390e+11</td>\n",
       "      <td>7.513340</td>\n",
       "      <td>-5.201000e+09</td>\n",
       "      <td>46286503.0</td>\n",
       "      <td>9.062818e+12</td>\n",
       "      <td>4.481408</td>\n",
       "      <td>6.704160e+11</td>\n",
       "      <td>1.552279</td>\n",
       "      <td>4.280100e+09</td>\n",
       "      <td>275854000.0</td>\n",
       "    </tr>\n",
       "    <tr>\n",
       "      <th>4</th>\n",
       "      <td>1999</td>\n",
       "      <td>3.886082e+11</td>\n",
       "      <td>5.073599</td>\n",
       "      <td>5.602984e+10</td>\n",
       "      <td>1.483129</td>\n",
       "      <td>-1.188279e+10</td>\n",
       "      <td>18926000.0</td>\n",
       "      <td>6.784100e+11</td>\n",
       "      <td>3.970483</td>\n",
       "      <td>2.477141e+11</td>\n",
       "      <td>...</td>\n",
       "      <td>1.360306e+11</td>\n",
       "      <td>0.812997</td>\n",
       "      <td>-5.536800e+09</td>\n",
       "      <td>46616677.0</td>\n",
       "      <td>9.630664e+12</td>\n",
       "      <td>4.753236</td>\n",
       "      <td>6.985240e+11</td>\n",
       "      <td>2.188027</td>\n",
       "      <td>9.969000e+09</td>\n",
       "      <td>279040000.0</td>\n",
<<<<<<< HEAD
>>>>>>> main
=======
>>>>>>> origin
       "    </tr>\n",
       "  </tbody>\n",
       "</table>\n",
       "<p>5 rows × 49 columns</p>\n",
       "</div>"
      ],
      "text/plain": [
<<<<<<< HEAD
<<<<<<< HEAD
       "     Year  Net Savings  Total Use of Gross Income       GDP\n",
       "143  1995          313                     107093  126090.0\n",
       "147  1996          853                     113630  134580.0\n",
       "151  1997         1617                     120328  141715.0\n",
       "155  1998        -1596                     124565  150020.0\n",
       "159  1999        -1208                     133049  157756.0"
      ]
     },
     "execution_count": 9,
=======
=======
>>>>>>> origin
       "   year        AU_gdp  AU_gdp_growth  AU_goods_export  AU_inflation  \\\n",
       "0  1995  3.672164e+11       3.837755     5.330705e+10      4.627767   \n",
       "1  1996  4.003027e+11       3.878585     6.051559e+10      2.615385   \n",
       "2  1997  4.345680e+11       3.966538     6.496912e+10      0.224888   \n",
       "3  1998  3.988991e+11       4.576689     5.584892e+10      0.860135   \n",
       "4  1999  3.886082e+11       5.073599     5.602984e+10      1.483129   \n",
       "\n",
       "   AU_net_income  AU_population        CA_gdp  CA_gdp_growth  CA_goods_export  \\\n",
       "0  -1.360998e+10     18072000.0  6.040116e+11            NaN     1.929309e+11   \n",
       "1  -1.426600e+10     18311000.0  6.285364e+11            NaN     2.048682e+11   \n",
       "2  -1.373516e+10     18517000.0  6.549879e+11            NaN     2.184618e+11   \n",
       "3  -1.136180e+10     18711000.0  6.339977e+11       2.796542     2.199484e+11   \n",
       "4  -1.188279e+10     18926000.0  6.784100e+11       3.970483     2.477141e+11   \n",
       "\n",
       "   ...  KR_goods_export  KR_inflation  KR_net_income  KR_population  \\\n",
       "0  ...     1.195777e+11      4.480687  -2.122100e+09     45092991.0   \n",
       "1  ...     1.244274e+11      4.924810  -2.214800e+09     45524681.0   \n",
       "2  ...     1.323667e+11      4.439064  -3.167400e+09     45953580.0   \n",
       "3  ...     1.275390e+11      7.513340  -5.201000e+09     46286503.0   \n",
       "4  ...     1.360306e+11      0.812997  -5.536800e+09     46616677.0   \n",
       "\n",
       "         US_gdp  US_gdp_growth  US_goods_export  US_inflation  US_net_income  \\\n",
       "0  7.639749e+12       2.684287     5.752040e+11      2.805420   2.089930e+10   \n",
       "1  8.073122e+12       3.772501     6.121130e+11      2.931204   2.232480e+10   \n",
       "2  8.577554e+12       4.447216     6.783660e+11      2.337690   1.262480e+10   \n",
       "3  9.062818e+12       4.481408     6.704160e+11      1.552279   4.280100e+09   \n",
       "4  9.630664e+12       4.753236     6.985240e+11      2.188027   9.969000e+09   \n",
       "\n",
       "   US_population  \n",
       "0    266278000.0  \n",
       "1    269394000.0  \n",
       "2    272657000.0  \n",
       "3    275854000.0  \n",
       "4    279040000.0  \n",
       "\n",
       "[5 rows x 49 columns]"
      ]
     },
     "execution_count": 59,
<<<<<<< HEAD
>>>>>>> main
=======
>>>>>>> origin
     "metadata": {},
     "output_type": "execute_result"
    }
   ],
   "source": [
<<<<<<< HEAD
<<<<<<< HEAD
    "economy_june_df.head()"
=======
    "# Check main dataframe\n",
    "world_data.head()"
>>>>>>> main
=======
    "# Check main dataframe\n",
    "world_data.head()"
>>>>>>> origin
   ]
  },
  {
   "cell_type": "code",
<<<<<<< HEAD
<<<<<<< HEAD
   "execution_count": 10,
   "id": "08bae24d",
   "metadata": {},
   "outputs": [
    {
     "data": {
      "text/plain": [
       "(26, 4)"
      ]
     },
     "execution_count": 10,
     "metadata": {},
     "output_type": "execute_result"
    }
   ],
   "source": [
    "economy_june_df.shape"
=======
=======
>>>>>>> origin
   "execution_count": 60,
   "id": "f4293330",
   "metadata": {},
   "outputs": [
    {
     "name": "stderr",
     "output_type": "stream",
     "text": [
      "C:\\Users\\TribThapa\\anaconda3\\envs\\pyvizenv\\lib\\site-packages\\ipykernel_launcher.py:11: SettingWithCopyWarning: \n",
      "A value is trying to be set on a copy of a slice from a DataFrame\n",
      "\n",
      "See the caveats in the documentation: http://pandas.pydata.org/pandas-docs/stable/indexing.html#indexing-view-versus-copy\n",
      "  # This is added back by InteractiveShellApp.init_path()\n"
     ]
    }
   ],
   "source": [
    "# Extract GDP data\n",
    "aud_vs_world_gdp = world_data[[\"year\", \"AU_gdp\", \"CA_gdp\", \"CN_gdp\", \"GB_gdp\", \"IN_gdp\", \"JP_gdp\", \"KR_gdp\", \"US_gdp\"]]\n",
    "\n",
    "# Remove '_gdp' string\n",
    "aud_vs_world_gdp.columns = aud_vs_world_gdp.columns.str.rstrip('_gdp')\n",
    "\n",
    "# Rename year column\n",
    "aud_vs_world_gdp.rename(columns={'year': \"Year\"}, inplace=True)\n",
    "\n",
    "# Drop NAs\n",
    "aud_vs_world_gdp.dropna(inplace=True)\n",
    "\n",
    "# Save to csv\n",
    "aud_vs_world_gdp.to_csv(\"../Data/ProcessedData/aus_vs_world_gdp_cleaned.csv\")"
<<<<<<< HEAD
>>>>>>> main
=======
>>>>>>> origin
   ]
  },
  {
   "cell_type": "code",
<<<<<<< HEAD
<<<<<<< HEAD
   "execution_count": 11,
   "id": "0169a43a",
   "metadata": {},
   "outputs": [
    {
     "data": {
      "text/html": [
       "<div>\n",
       "<style scoped>\n",
       "    .dataframe tbody tr th:only-of-type {\n",
       "        vertical-align: middle;\n",
       "    }\n",
       "\n",
       "    .dataframe tbody tr th {\n",
       "        vertical-align: top;\n",
       "    }\n",
       "\n",
       "    .dataframe thead th {\n",
       "        text-align: right;\n",
       "    }\n",
       "</style>\n",
       "<table border=\"1\" class=\"dataframe\">\n",
       "  <thead>\n",
       "    <tr style=\"text-align: right;\">\n",
       "      <th></th>\n",
       "      <th>Net Savings</th>\n",
       "      <th>Total Use of Gross Income</th>\n",
       "      <th>GDP</th>\n",
       "    </tr>\n",
       "    <tr>\n",
       "      <th>Year</th>\n",
       "      <th></th>\n",
       "      <th></th>\n",
       "      <th></th>\n",
       "    </tr>\n",
       "  </thead>\n",
       "  <tbody>\n",
       "    <tr>\n",
       "      <th>1995</th>\n",
       "      <td>313</td>\n",
       "      <td>107093</td>\n",
       "      <td>126090.0</td>\n",
       "    </tr>\n",
       "    <tr>\n",
       "      <th>1996</th>\n",
       "      <td>853</td>\n",
       "      <td>113630</td>\n",
       "      <td>134580.0</td>\n",
       "    </tr>\n",
       "    <tr>\n",
       "      <th>1997</th>\n",
       "      <td>1617</td>\n",
       "      <td>120328</td>\n",
       "      <td>141715.0</td>\n",
       "    </tr>\n",
       "    <tr>\n",
       "      <th>1998</th>\n",
       "      <td>-1596</td>\n",
       "      <td>124565</td>\n",
       "      <td>150020.0</td>\n",
       "    </tr>\n",
       "    <tr>\n",
       "      <th>1999</th>\n",
       "      <td>-1208</td>\n",
       "      <td>133049</td>\n",
       "      <td>157756.0</td>\n",
       "    </tr>\n",
       "    <tr>\n",
       "      <th>2000</th>\n",
       "      <td>-5708</td>\n",
       "      <td>142293</td>\n",
       "      <td>170532.0</td>\n",
       "    </tr>\n",
       "    <tr>\n",
       "      <th>2001</th>\n",
       "      <td>1041</td>\n",
       "      <td>149872</td>\n",
       "      <td>180136.0</td>\n",
       "    </tr>\n",
       "    <tr>\n",
       "      <th>2002</th>\n",
       "      <td>-2906</td>\n",
       "      <td>161805</td>\n",
       "      <td>193604.0</td>\n",
       "    </tr>\n",
       "    <tr>\n",
       "      <th>2003</th>\n",
       "      <td>-1506</td>\n",
       "      <td>167707</td>\n",
       "      <td>204525.0</td>\n",
       "    </tr>\n",
       "    <tr>\n",
       "      <th>2004</th>\n",
       "      <td>495</td>\n",
       "      <td>186565</td>\n",
       "      <td>221178.0</td>\n",
       "    </tr>\n",
       "    <tr>\n",
       "      <th>2005</th>\n",
       "      <td>258</td>\n",
       "      <td>199764</td>\n",
       "      <td>237636.0</td>\n",
       "    </tr>\n",
       "    <tr>\n",
       "      <th>2006</th>\n",
       "      <td>-4984</td>\n",
       "      <td>209901</td>\n",
       "      <td>255759.0</td>\n",
       "    </tr>\n",
       "    <tr>\n",
       "      <th>2007</th>\n",
       "      <td>-4302</td>\n",
       "      <td>236285</td>\n",
       "      <td>280080.0</td>\n",
       "    </tr>\n",
       "    <tr>\n",
       "      <th>2008</th>\n",
       "      <td>-2338</td>\n",
       "      <td>258882</td>\n",
       "      <td>306258.0</td>\n",
       "    </tr>\n",
       "    <tr>\n",
       "      <th>2009</th>\n",
       "      <td>11132</td>\n",
       "      <td>274175</td>\n",
       "      <td>313525.0</td>\n",
       "    </tr>\n",
       "    <tr>\n",
       "      <th>2010</th>\n",
       "      <td>5909</td>\n",
       "      <td>284655</td>\n",
       "      <td>337341.0</td>\n",
       "    </tr>\n",
       "    <tr>\n",
       "      <th>2011</th>\n",
       "      <td>8816</td>\n",
       "      <td>305615</td>\n",
       "      <td>365114.0</td>\n",
       "    </tr>\n",
       "    <tr>\n",
       "      <th>2012</th>\n",
       "      <td>9941</td>\n",
       "      <td>323556</td>\n",
       "      <td>377876.0</td>\n",
       "    </tr>\n",
       "    <tr>\n",
       "      <th>2013</th>\n",
       "      <td>8209</td>\n",
       "      <td>329757</td>\n",
       "      <td>389360.0</td>\n",
       "    </tr>\n",
       "    <tr>\n",
       "      <th>2014</th>\n",
       "      <td>9833</td>\n",
       "      <td>345353</td>\n",
       "      <td>403217.0</td>\n",
       "    </tr>\n",
       "    <tr>\n",
       "      <th>2015</th>\n",
       "      <td>8099</td>\n",
       "      <td>358180</td>\n",
       "      <td>409163.0</td>\n",
       "    </tr>\n",
       "    <tr>\n",
       "      <th>2016</th>\n",
       "      <td>2787</td>\n",
       "      <td>366224</td>\n",
       "      <td>420248.0</td>\n",
       "    </tr>\n",
       "    <tr>\n",
       "      <th>2017</th>\n",
       "      <td>-196</td>\n",
       "      <td>375693</td>\n",
       "      <td>449993.0</td>\n",
       "    </tr>\n",
       "    <tr>\n",
       "      <th>2018</th>\n",
       "      <td>-2943</td>\n",
       "      <td>391879</td>\n",
       "      <td>471882.0</td>\n",
       "    </tr>\n",
       "    <tr>\n",
       "      <th>2019</th>\n",
       "      <td>-5466</td>\n",
       "      <td>403575</td>\n",
       "      <td>NaN</td>\n",
       "    </tr>\n",
       "    <tr>\n",
       "      <th>2020</th>\n",
       "      <td>52864</td>\n",
       "      <td>423192</td>\n",
       "      <td>NaN</td>\n",
       "    </tr>\n",
       "  </tbody>\n",
       "</table>\n",
       "</div>"
      ],
      "text/plain": [
       "      Net Savings  Total Use of Gross Income       GDP\n",
       "Year                                                  \n",
       "1995          313                     107093  126090.0\n",
       "1996          853                     113630  134580.0\n",
       "1997         1617                     120328  141715.0\n",
       "1998        -1596                     124565  150020.0\n",
       "1999        -1208                     133049  157756.0\n",
       "2000        -5708                     142293  170532.0\n",
       "2001         1041                     149872  180136.0\n",
       "2002        -2906                     161805  193604.0\n",
       "2003        -1506                     167707  204525.0\n",
       "2004          495                     186565  221178.0\n",
       "2005          258                     199764  237636.0\n",
       "2006        -4984                     209901  255759.0\n",
       "2007        -4302                     236285  280080.0\n",
       "2008        -2338                     258882  306258.0\n",
       "2009        11132                     274175  313525.0\n",
       "2010         5909                     284655  337341.0\n",
       "2011         8816                     305615  365114.0\n",
       "2012         9941                     323556  377876.0\n",
       "2013         8209                     329757  389360.0\n",
       "2014         9833                     345353  403217.0\n",
       "2015         8099                     358180  409163.0\n",
       "2016         2787                     366224  420248.0\n",
       "2017         -196                     375693  449993.0\n",
       "2018        -2943                     391879  471882.0\n",
       "2019        -5466                     403575       NaN\n",
       "2020        52864                     423192       NaN"
      ]
     },
     "execution_count": 11,
     "metadata": {},
     "output_type": "execute_result"
    }
   ],
   "source": [
    "economy_june_df.set_index(\"Year\")"
=======
   "execution_count": 61,
   "id": "c5fc015d",
   "metadata": {},
   "outputs": [
    {
     "name": "stderr",
     "output_type": "stream",
     "text": [
      "C:\\Users\\TribThapa\\anaconda3\\envs\\pyvizenv\\lib\\site-packages\\ipykernel_launcher.py:7: SettingWithCopyWarning: \n",
      "A value is trying to be set on a copy of a slice from a DataFrame\n",
      "\n",
      "See the caveats in the documentation: http://pandas.pydata.org/pandas-docs/stable/indexing.html#indexing-view-versus-copy\n",
      "  import sys\n"
     ]
    }
   ],
   "source": [
=======
   "execution_count": 61,
   "id": "c5fc015d",
   "metadata": {},
   "outputs": [
    {
     "name": "stderr",
     "output_type": "stream",
     "text": [
      "C:\\Users\\TribThapa\\anaconda3\\envs\\pyvizenv\\lib\\site-packages\\ipykernel_launcher.py:7: SettingWithCopyWarning: \n",
      "A value is trying to be set on a copy of a slice from a DataFrame\n",
      "\n",
      "See the caveats in the documentation: http://pandas.pydata.org/pandas-docs/stable/indexing.html#indexing-view-versus-copy\n",
      "  import sys\n"
     ]
    }
   ],
   "source": [
>>>>>>> origin
    "# Extract GDP growth data\n",
    "aud_vs_world_gdp_growth = world_data[[\"year\", \"AU_gdp_growth\", \"CA_gdp_growth\", \"CN_gdp_growth\", \"GB_gdp_growth\", \"IN_gdp_growth\", \"JP_gdp_growth\", \"KR_gdp_growth\", \"US_gdp_growth\"]]\n",
    "\n",
    "# Remove '_gdp_growth' string\n",
    "aud_vs_world_gdp_growth.columns = aud_vs_world_gdp_growth.columns.str.strip('gdp_growth')\n",
    "aud_vs_world_gdp_growth.rename(columns={'yea': \"Year\"}, inplace=True)\n",
    "aud_vs_world_gdp_growth.dropna(inplace=True)\n",
    "\n",
    "aud_vs_world_gdp_growth.to_csv(\"../Data/ProcessedData/aus_vs_world_gdp_growth_cleaned.csv\")"
<<<<<<< HEAD
>>>>>>> main
=======
>>>>>>> origin
   ]
  },
  {
   "cell_type": "code",
<<<<<<< HEAD
<<<<<<< HEAD
   "execution_count": 12,
   "id": "0e78ed1b",
   "metadata": {},
   "outputs": [
    {
     "data": {
      "text/plain": [
       "(26, 4)"
      ]
     },
     "execution_count": 12,
     "metadata": {},
     "output_type": "execute_result"
    }
   ],
   "source": [
    "economy_june_df.shape"
=======
   "execution_count": 62,
   "id": "3f449c57",
   "metadata": {},
   "outputs": [
    {
     "name": "stderr",
     "output_type": "stream",
     "text": [
      "C:\\Users\\TribThapa\\anaconda3\\envs\\pyvizenv\\lib\\site-packages\\ipykernel_launcher.py:4: SettingWithCopyWarning: \n",
      "A value is trying to be set on a copy of a slice from a DataFrame\n",
      "\n",
      "See the caveats in the documentation: http://pandas.pydata.org/pandas-docs/stable/indexing.html#indexing-view-versus-copy\n",
      "  after removing the cwd from sys.path.\n"
     ]
    }
   ],
   "source": [
=======
   "execution_count": 62,
   "id": "3f449c57",
   "metadata": {},
   "outputs": [
    {
     "name": "stderr",
     "output_type": "stream",
     "text": [
      "C:\\Users\\TribThapa\\anaconda3\\envs\\pyvizenv\\lib\\site-packages\\ipykernel_launcher.py:4: SettingWithCopyWarning: \n",
      "A value is trying to be set on a copy of a slice from a DataFrame\n",
      "\n",
      "See the caveats in the documentation: http://pandas.pydata.org/pandas-docs/stable/indexing.html#indexing-view-versus-copy\n",
      "  after removing the cwd from sys.path.\n"
     ]
    }
   ],
   "source": [
>>>>>>> origin
    "aud_vs_world_goods_export = world_data[[\"year\", \"AU_goods_export\", \"CA_goods_export\", \"CN_goods_export\", \"GB_goods_export\", \"IN_goods_export\", \"JP_goods_export\", \"KR_goods_export\", \"US_goods_export\"]]\n",
    "aud_vs_world_goods_export.columns = aud_vs_world_goods_export.columns.str.rstrip('_goods_export')\n",
    "aud_vs_world_goods_export.rename(columns={'yea': \"Year\"}, inplace=True)\n",
    "aud_vs_world_goods_export.dropna(inplace=True)\n",
    "\n",
    "aud_vs_world_goods_export.to_csv(\"../Data/ProcessedData/aus_vs_world_goods_export_cleaned.csv\")"
<<<<<<< HEAD
>>>>>>> main
=======
>>>>>>> origin
   ]
  },
  {
   "cell_type": "code",
<<<<<<< HEAD
<<<<<<< HEAD
   "execution_count": 13,
   "id": "fcac3d1f",
=======
=======
>>>>>>> origin
   "execution_count": 63,
   "id": "91896fc1",
   "metadata": {},
   "outputs": [
    {
     "name": "stderr",
     "output_type": "stream",
     "text": [
      "C:\\Users\\TribThapa\\anaconda3\\envs\\pyvizenv\\lib\\site-packages\\ipykernel_launcher.py:4: SettingWithCopyWarning: \n",
      "A value is trying to be set on a copy of a slice from a DataFrame\n",
      "\n",
      "See the caveats in the documentation: http://pandas.pydata.org/pandas-docs/stable/indexing.html#indexing-view-versus-copy\n",
      "  after removing the cwd from sys.path.\n"
     ]
    }
   ],
   "source": [
    "aud_vs_world_inflation = world_data[[\"year\", \"AU_inflation\", \"CA_inflation\", \"CN_inflation\", \"GB_inflation\", \"IN_inflation\", \"JP_inflation\", \"KR_inflation\", \"US_inflation\"]]\n",
    "aud_vs_world_inflation.columns = aud_vs_world_inflation.columns.str.rstrip('_inflation')\n",
    "aud_vs_world_inflation.rename(columns={'year': \"Year\"}, inplace=True)\n",
    "aud_vs_world_inflation.dropna(inplace=True)\n",
    "aud_vs_world_inflation.to_csv(\"../Data/ProcessedData/aus_vs_world_inflation_cleaned.csv\")"
   ]
  },
  {
   "cell_type": "code",
   "execution_count": 64,
   "id": "60064978",
<<<<<<< HEAD
>>>>>>> main
=======
>>>>>>> origin
   "metadata": {},
   "outputs": [
    {
     "name": "stderr",
     "output_type": "stream",
     "text": [
      "C:\\Users\\TribThapa\\anaconda3\\envs\\pyvizenv\\lib\\site-packages\\ipykernel_launcher.py:4: SettingWithCopyWarning: \n",
      "A value is trying to be set on a copy of a slice from a DataFrame\n",
      "\n",
      "See the caveats in the documentation: http://pandas.pydata.org/pandas-docs/stable/indexing.html#indexing-view-versus-copy\n",
      "  after removing the cwd from sys.path.\n"
     ]
    }
   ],
   "source": [
<<<<<<< HEAD
<<<<<<< HEAD
    "economy_june_df.to_csv('../Data/ProcessedData/Economy_June_Cleaned.csv')"
   ]
  },
  {
   "cell_type": "code",
   "execution_count": null,
   "id": "5c92f9c2",
   "metadata": {},
   "outputs": [],
   "source": []
=======
    "aud_vs_world_population = world_data[[\"year\", \"AU_population\", \"CA_population\", \"CN_population\", \"GB_population\", \"IN_population\", \"JP_population\", \"KR_population\", \"US_population\"]]\n",
    "aud_vs_world_population.columns = aud_vs_world_population.columns.str.rstrip('_population')\n",
    "aud_vs_world_population.rename(columns={'year': \"Year\"}, inplace=True)\n",
    "aud_vs_world_population.dropna(inplace=True)\n",
    "\n",
    "aud_vs_world_population.to_csv(\"../Data/ProcessedData/aus_vs_world_population_cleaned.csv\")"
   ]
>>>>>>> main
=======
    "aud_vs_world_population = world_data[[\"year\", \"AU_population\", \"CA_population\", \"CN_population\", \"GB_population\", \"IN_population\", \"JP_population\", \"KR_population\", \"US_population\"]]\n",
    "aud_vs_world_population.columns = aud_vs_world_population.columns.str.rstrip('_population')\n",
    "aud_vs_world_population.rename(columns={'year': \"Year\"}, inplace=True)\n",
    "aud_vs_world_population.dropna(inplace=True)\n",
    "\n",
    "aud_vs_world_population.to_csv(\"../Data/ProcessedData/aus_vs_world_population_cleaned.csv\")"
   ]
>>>>>>> origin
  }
 ],
 "metadata": {
  "kernelspec": {
   "display_name": "Python [conda env:pyvizenv] *",
   "language": "python",
   "name": "conda-env-pyvizenv-py"
  },
  "language_info": {
   "codemirror_mode": {
    "name": "ipython",
    "version": 3
   },
   "file_extension": ".py",
   "mimetype": "text/x-python",
   "name": "python",
   "nbconvert_exporter": "python",
   "pygments_lexer": "ipython3",
   "version": "3.7.10"
  }
 },
 "nbformat": 4,
 "nbformat_minor": 5
}
