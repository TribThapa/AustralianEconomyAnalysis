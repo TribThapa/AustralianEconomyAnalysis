{
 "cells": [
  {
   "cell_type": "markdown",
   "id": "950c051b",
   "metadata": {},
   "source": [
    "### This is the main notebook. Use this notebook as a template to create branches. "
   ]
  },
  {
   "cell_type": "code",
   "execution_count": 49,
   "id": "8162de4b",
   "metadata": {},
   "outputs": [],
   "source": [
    "import pandas as pd\n",
    "import numpy as np\n",
    "import requests\n",
    "from datetime import datetime as dt\n",
    "import json\n",
    "from IDs import client_id, client_secret"
   ]
  },
  {
   "cell_type": "code",
   "execution_count": 50,
   "id": "d64fad66",
   "metadata": {},
   "outputs": [
    {
     "data": {
      "text/html": [
       "<div>\n",
       "<style scoped>\n",
       "    .dataframe tbody tr th:only-of-type {\n",
       "        vertical-align: middle;\n",
       "    }\n",
       "\n",
       "    .dataframe tbody tr th {\n",
       "        vertical-align: top;\n",
       "    }\n",
       "\n",
       "    .dataframe thead th {\n",
       "        text-align: right;\n",
       "    }\n",
       "</style>\n",
       "<table border=\"1\" class=\"dataframe\">\n",
       "  <thead>\n",
       "    <tr style=\"text-align: right;\">\n",
       "      <th></th>\n",
       "      <th>postcode</th>\n",
       "      <th>state</th>\n",
       "      <th>long</th>\n",
       "      <th>lat</th>\n",
       "    </tr>\n",
       "  </thead>\n",
       "  <tbody>\n",
       "    <tr>\n",
       "      <th>9617</th>\n",
       "      <td>4000</td>\n",
       "      <td>QLD</td>\n",
       "      <td>153.022126</td>\n",
       "      <td>-27.468391</td>\n",
       "    </tr>\n",
       "    <tr>\n",
       "      <th>9618</th>\n",
       "      <td>4000</td>\n",
       "      <td>QLD</td>\n",
       "      <td>153.022126</td>\n",
       "      <td>-27.468391</td>\n",
       "    </tr>\n",
       "    <tr>\n",
       "      <th>9619</th>\n",
       "      <td>4000</td>\n",
       "      <td>QLD</td>\n",
       "      <td>153.025123</td>\n",
       "      <td>-27.469771</td>\n",
       "    </tr>\n",
       "    <tr>\n",
       "      <th>9620</th>\n",
       "      <td>4000</td>\n",
       "      <td>QLD</td>\n",
       "      <td>153.022126</td>\n",
       "      <td>-27.468391</td>\n",
       "    </tr>\n",
       "    <tr>\n",
       "      <th>9621</th>\n",
       "      <td>4000</td>\n",
       "      <td>QLD</td>\n",
       "      <td>153.022126</td>\n",
       "      <td>-27.468391</td>\n",
       "    </tr>\n",
       "  </tbody>\n",
       "</table>\n",
       "</div>"
      ],
      "text/plain": [
       "      postcode state        long        lat\n",
       "9617      4000   QLD  153.022126 -27.468391\n",
       "9618      4000   QLD  153.022126 -27.468391\n",
       "9619      4000   QLD  153.025123 -27.469771\n",
       "9620      4000   QLD  153.022126 -27.468391\n",
       "9621      4000   QLD  153.022126 -27.468391"
      ]
     },
     "execution_count": 50,
     "metadata": {},
     "output_type": "execute_result"
    }
   ],
   "source": [
    "# Get latitiude and longitude from: https://www.matthewproctor.com/australian_postcodes\n",
    "data = (r'C:\\Users\\TribThapa\\Desktop\\Thapa\\ResearchFellow\\PropertyAnalysis\\Data\\australian_postcodes.csv')\n",
    "\n",
    "lat_long_df = pd.read_csv(data)\n",
    "\n",
    "lat_long_df =lat_long_df[[\"postcode\", \"state\", \"long\", \"lat\"]]\n",
    "\n",
    "qld = lat_long_df.loc[lat_long_df[\"state\"] == \"QLD\"]\n",
    "qld.head()"
   ]
  },
  {
   "cell_type": "code",
   "execution_count": 51,
   "id": "7e243ab1",
   "metadata": {},
   "outputs": [],
   "source": [
    "qld_postcodes = qld.loc[(qld[\"postcode\"] >= 4000) & (qld[\"postcode\"] < 4005)]\n",
    "#qld_postcodes"
   ]
  },
  {
   "cell_type": "code",
   "execution_count": 52,
   "id": "573c76f3",
   "metadata": {},
   "outputs": [
    {
     "data": {
      "text/plain": [
       "9617    4000\n",
       "9618    4000\n",
       "9619    4000\n",
       "9620    4000\n",
       "9621    4000\n",
       "Name: postcode, dtype: int64"
      ]
     },
     "execution_count": 52,
     "metadata": {},
     "output_type": "execute_result"
    }
   ],
   "source": [
    "list_qld_postcodes = qld[\"postcode\"]\n",
    "list_qld_postcodes.head()"
   ]
  },
  {
   "cell_type": "code",
   "execution_count": 59,
   "id": "eef9a6c4",
   "metadata": {},
   "outputs": [
    {
     "data": {
      "text/plain": [
       "<Response [200]>"
      ]
     },
     "execution_count": 59,
     "metadata": {},
     "output_type": "execute_result"
    }
   ],
   "source": [
    "query = 'https://data.gov.au/data/api/3/action/datastore_search?resource_id=38bdc971-cb22-4894-b19a-814afc4e8164&limit=5&q=title:jones'\n",
    "\n",
    "reponse = requests.get(query)\n",
    "response"
   ]
  },
  {
   "cell_type": "code",
   "execution_count": 53,
   "id": "65176946",
   "metadata": {},
   "outputs": [],
   "source": [
    "#Domain\n",
    "client_id = client_id\n",
    "client_secret = client_secret"
   ]
  },
  {
   "cell_type": "code",
   "execution_count": 54,
   "id": "fa929c02",
   "metadata": {},
   "outputs": [],
   "source": [
    "response = requests.post('https://auth.domain.com.au/v1/connect/token', \n",
    "                         data={'client_id': client_id,\n",
    "                               'client_secret': client_secret, \n",
    "                               'grant_type': 'client_credentials',\n",
    "                               'scope':'api_listings_read',\n",
    "                               'Content-Type':'text/json'})\n",
    "token = response.json()\n",
    "access_token=token[\"access_token\"]\n",
    "auth = {\"Authorization\":\"Bearer \"+access_token}"
   ]
  },
  {
   "cell_type": "code",
   "execution_count": 55,
   "id": "405e2218",
   "metadata": {},
   "outputs": [],
   "source": [
    "postcode = [4000]\n",
    "\n",
    "property_data = []\n",
    "\n",
    "# Get property data from Domain\n",
    "for post in postcode:\n",
    "    url = \"https://api.domain.com.au/v1/listings/residential/_search\"\n",
    "    \n",
    "    post_fields ={\"listingType\":\"Sale\",\n",
    "                  \"propertyTypes\":[\"ApartmentUnitFlat\",\"House\",\"NewApartments\",\"Townhouse\"],\n",
    "                  \"locations\":[{\"state\":\"QLD\",\n",
    "                                \"postCode\":post,\n",
    "                                \"includeSurroundingSuburbs\":False}],\n",
    "                  \"excludePriceWithheld\": True,\n",
    "                  \"sort\": {\"sortKey\": \"SoldDate\",\n",
    "                           \"direction\": \"Ascending\",\n",
    "                           \"proximityTo\": {\"lat\": 0,\n",
    "                                           \"lon\": 0}},\n",
    "                  \"pageSize\": 200,\n",
    "                  \"pageNumber\":0,\n",
    "                  \"updatedSince\": \"2021-01-01T00:00:00.000Z\"}\n",
    "    \n",
    "    request = requests.post(url,headers=auth,json=post_fields)\n",
    "    request_json = request.json()\n",
    "    #print(json.dumps(request_json, indent=4))\n",
    "    property_data.append(request_json)"
   ]
  },
  {
   "cell_type": "code",
   "execution_count": 56,
   "id": "e11fa5e0",
   "metadata": {},
   "outputs": [
    {
     "data": {
      "text/plain": [
       "[{'type': 'https://developer.domain.com.au/docs/latest/conventions/rate-limiting',\n",
       "  'title': 'Quota Exceeded',\n",
       "  'detail': 'Exceeded rate limit for current Day'}]"
      ]
     },
     "execution_count": 56,
     "metadata": {},
     "output_type": "execute_result"
    }
   ],
   "source": [
    "property_data"
   ]
  },
  {
   "cell_type": "code",
   "execution_count": 41,
   "id": "53f95bc4",
   "metadata": {},
   "outputs": [
    {
     "name": "stdout",
     "output_type": "stream",
     "text": [
      "3\n"
     ]
    }
   ],
   "source": [
    "from itertools import chain\n",
    "property_data_new = list(chain.from_iterable(property_data))\n",
    "print(len(property_data_new))\n",
    "\n",
    "res = len([ele for ele in property_data_new if isinstance(ele, dict)])\n",
    "#res"
   ]
  },
  {
   "cell_type": "code",
   "execution_count": 44,
   "id": "4c6c1831",
   "metadata": {},
   "outputs": [],
   "source": [
    "# Extract property data    \n",
    "property_type = []\n",
    "property_id = []\n",
    "state = []\n",
    "property_price = []\n",
    "features = []\n",
    "bathrooms = []\n",
    "bedrooms = []\n",
    "carspaces = []\n",
    "area = []\n",
    "suburb = []\n",
    "postcode = []\n",
    "lat = []\n",
    "long = []\n",
    "\n",
    "for details in property_data:\n",
    "    \n",
    "    for num_elements in range(len(details)):\n",
    "        \n",
    "        #print(details[num_elements]['listing'])  \n",
    "        try:            \n",
    "            property_type.append(details[num_elements][\"listing\"][\"listingType\"])\n",
    "        except:\n",
    "            property_type.append(\"na\")\n",
    "            \n",
    "        try:\n",
    "            property_id.append(details[num_elements]['listing']['id'])\n",
    "        except:\n",
    "             property_id.append(\"na\")\n",
    "                \n",
    "        try:\n",
    "            state.append(details[num_elements]['listing']['propertyDetails']['state'])\n",
    "        except:\n",
    "            state.append(\"na\")\n",
    "\n",
    "        try:\n",
    "            property_price.append(details[num_elements]['listing']['priceDetails']['price'])\n",
    "        except:\n",
    "            property_price.append(\"na\")\n",
    "            \n",
    "        try: \n",
    "            features.append(details[num_elements]['listing']['propertyDetails']['features'])\n",
    "        except:\n",
    "            features.append(\"na\")\n",
    "            \n",
    "        try: \n",
    "            bathrooms.append(details[num_elements]['listing']['propertyDetails']['bathrooms'])\n",
    "        except:\n",
    "            bathrooms.append(\"na\")\n",
    "            \n",
    "        try: \n",
    "            bedrooms.append(details[num_elements]['listing']['propertyDetails']['bedrooms'])\n",
    "        except:\n",
    "            bedrooms.append(\"na\")\n",
    "            \n",
    "        try: \n",
    "            carspaces.append(details[num_elements]['listing']['propertyDetails']['carspaces'])\n",
    "        except:\n",
    "            carspaces.append(\"na\")\n",
    "       \n",
    "        try: \n",
    "            area.append(details[num_elements]['listing']['propertyDetails']['area'])\n",
    "        except:\n",
    "            area.append(\"na\")            \n",
    "\n",
    "        try: \n",
    "            suburb.append(details[num_elements]['listing']['propertyDetails']['suburb'])\n",
    "        except:\n",
    "            suburb.append(\"na\")\n",
    "            \n",
    "        try: \n",
    "            postcode.append(details[num_elements]['listing']['propertyDetails']['postcode'])\n",
    "        except:\n",
    "            postcode.append(\"na\")\n",
    "            \n",
    "        try: \n",
    "            lat.append(details[num_elements]['listing']['propertyDetails']['latitude'])\n",
    "        except:\n",
    "            lat.append(\"na\")\n",
    "            \n",
    "        try: \n",
    "            long.append(details[num_elements]['listing']['propertyDetails']['longitude'])\n",
    "        except:\n",
    "            long.append(\"na\")\n",
    "            \n"
   ]
  },
  {
   "cell_type": "code",
   "execution_count": 46,
   "id": "0ea049df",
   "metadata": {},
   "outputs": [
    {
     "data": {
      "text/html": [
       "<div>\n",
       "<style scoped>\n",
       "    .dataframe tbody tr th:only-of-type {\n",
       "        vertical-align: middle;\n",
       "    }\n",
       "\n",
       "    .dataframe tbody tr th {\n",
       "        vertical-align: top;\n",
       "    }\n",
       "\n",
       "    .dataframe thead th {\n",
       "        text-align: right;\n",
       "    }\n",
       "</style>\n",
       "<table border=\"1\" class=\"dataframe\">\n",
       "  <thead>\n",
       "    <tr style=\"text-align: right;\">\n",
       "      <th></th>\n",
       "      <th>PropertyID</th>\n",
       "      <th>Type</th>\n",
       "      <th>State</th>\n",
       "      <th>Price</th>\n",
       "      <th>Features</th>\n",
       "      <th>Bathrooms</th>\n",
       "      <th>Bedrooms</th>\n",
       "      <th>Carspaces</th>\n",
       "      <th>Area</th>\n",
       "      <th>Suburb</th>\n",
       "      <th>Postcode</th>\n",
       "      <th>Latitude</th>\n",
       "      <th>Longitude</th>\n",
       "    </tr>\n",
       "  </thead>\n",
       "  <tbody>\n",
       "    <tr>\n",
       "      <th>0</th>\n",
       "      <td>na</td>\n",
       "      <td>na</td>\n",
       "      <td>na</td>\n",
       "      <td>na</td>\n",
       "      <td>na</td>\n",
       "      <td>na</td>\n",
       "      <td>na</td>\n",
       "      <td>na</td>\n",
       "      <td>na</td>\n",
       "      <td>na</td>\n",
       "      <td>na</td>\n",
       "      <td>na</td>\n",
       "      <td>na</td>\n",
       "    </tr>\n",
       "    <tr>\n",
       "      <th>1</th>\n",
       "      <td>na</td>\n",
       "      <td>na</td>\n",
       "      <td>na</td>\n",
       "      <td>na</td>\n",
       "      <td>na</td>\n",
       "      <td>na</td>\n",
       "      <td>na</td>\n",
       "      <td>na</td>\n",
       "      <td>na</td>\n",
       "      <td>na</td>\n",
       "      <td>na</td>\n",
       "      <td>na</td>\n",
       "      <td>na</td>\n",
       "    </tr>\n",
       "    <tr>\n",
       "      <th>2</th>\n",
       "      <td>na</td>\n",
       "      <td>na</td>\n",
       "      <td>na</td>\n",
       "      <td>na</td>\n",
       "      <td>na</td>\n",
       "      <td>na</td>\n",
       "      <td>na</td>\n",
       "      <td>na</td>\n",
       "      <td>na</td>\n",
       "      <td>na</td>\n",
       "      <td>na</td>\n",
       "      <td>na</td>\n",
       "      <td>na</td>\n",
       "    </tr>\n",
       "  </tbody>\n",
       "</table>\n",
       "</div>"
      ],
      "text/plain": [
       "  PropertyID Type State Price Features Bathrooms Bedrooms Carspaces Area  \\\n",
       "0         na   na    na    na       na        na       na        na   na   \n",
       "1         na   na    na    na       na        na       na        na   na   \n",
       "2         na   na    na    na       na        na       na        na   na   \n",
       "\n",
       "  Suburb Postcode Latitude Longitude  \n",
       "0     na       na       na        na  \n",
       "1     na       na       na        na  \n",
       "2     na       na       na        na  "
      ]
     },
     "execution_count": 46,
     "metadata": {},
     "output_type": "execute_result"
    }
   ],
   "source": [
    "# Concat lists to dataframe\n",
    "final_df = pd.DataFrame({\"PropertyID\": property_id,\n",
    "                         \"Type\": property_type,\n",
    "                         \"State\": state,\n",
    "                         \"Price\": property_price,\n",
    "                         \"Features\": features,\n",
    "                         \"Bathrooms\": bathrooms,\n",
    "                         \"Bedrooms\": bedrooms,\n",
    "                         \"Carspaces\": carspaces,\n",
    "                         \"Area\": area,\n",
    "                         \"Suburb\": suburb,\n",
    "                         \"Postcode\": postcode,\n",
    "                         \"Latitude\": lat,\n",
    "                         \"Longitude\": long})\n",
    "\n",
    "final_df.tail()"
   ]
  },
  {
   "cell_type": "code",
   "execution_count": null,
   "id": "6ca97097",
   "metadata": {},
   "outputs": [],
   "source": [
    "final_df.to_csv(\"../Data/PropertyTraits.csv\")"
   ]
  }
 ],
 "metadata": {
  "kernelspec": {
   "display_name": "Python [conda env:pyvizenv] *",
   "language": "python",
   "name": "conda-env-pyvizenv-py"
  },
  "language_info": {
   "codemirror_mode": {
    "name": "ipython",
    "version": 3
   },
   "file_extension": ".py",
   "mimetype": "text/x-python",
   "name": "python",
   "nbconvert_exporter": "python",
   "pygments_lexer": "ipython3",
   "version": "3.7.10"
  }
 },
 "nbformat": 4,
 "nbformat_minor": 5
}
