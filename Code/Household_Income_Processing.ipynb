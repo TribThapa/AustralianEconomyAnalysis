{
 "cells": [
  {
   "cell_type": "markdown",
   "id": "de218856",
   "metadata": {},
   "source": [
    "# Household income data clean up"
   ]
  },
  {
   "cell_type": "code",
   "execution_count": null,
   "id": "36faa9f2",
   "metadata": {},
   "outputs": [],
   "source": [
    "#Import libraries and dependencies\n",
    "import pandas as pd"
   ]
  },
  {
   "cell_type": "code",
   "execution_count": 17,
   "id": "d87db1aa",
   "metadata": {},
   "outputs": [
    {
     "data": {
      "text/html": [
       "<div>\n",
       "<style scoped>\n",
       "    .dataframe tbody tr th:only-of-type {\n",
       "        vertical-align: middle;\n",
       "    }\n",
       "\n",
       "    .dataframe tbody tr th {\n",
       "        vertical-align: top;\n",
       "    }\n",
       "\n",
       "    .dataframe thead th {\n",
       "        text-align: right;\n",
       "    }\n",
       "</style>\n",
       "<table border=\"1\" class=\"dataframe\">\n",
       "  <thead>\n",
       "    <tr style=\"text-align: right;\">\n",
       "      <th></th>\n",
       "      <th>Year</th>\n",
       "      <th>TotalIncome</th>\n",
       "      <th>TotalSavings</th>\n",
       "    </tr>\n",
       "  </thead>\n",
       "  <tbody>\n",
       "    <tr>\n",
       "      <th>242</th>\n",
       "      <td>Mar-2020</td>\n",
       "      <td>422867</td>\n",
       "      <td>26916</td>\n",
       "    </tr>\n",
       "    <tr>\n",
       "      <th>243</th>\n",
       "      <td>Jun-2020</td>\n",
       "      <td>423192</td>\n",
       "      <td>52864</td>\n",
       "    </tr>\n",
       "    <tr>\n",
       "      <th>244</th>\n",
       "      <td>Sep-2020</td>\n",
       "      <td>449778</td>\n",
       "      <td>77169</td>\n",
       "    </tr>\n",
       "    <tr>\n",
       "      <th>245</th>\n",
       "      <td>Dec-2020</td>\n",
       "      <td>439923</td>\n",
       "      <td>33441</td>\n",
       "    </tr>\n",
       "    <tr>\n",
       "      <th>246</th>\n",
       "      <td>Mar-2021</td>\n",
       "      <td>431674</td>\n",
       "      <td>37720</td>\n",
       "    </tr>\n",
       "  </tbody>\n",
       "</table>\n",
       "</div>"
      ],
      "text/plain": [
       "         Year  TotalIncome  TotalSavings\n",
       "242  Mar-2020       422867         26916\n",
       "243  Jun-2020       423192         52864\n",
       "244  Sep-2020       449778         77169\n",
       "245  Dec-2020       439923         33441\n",
       "246  Mar-2021       431674         37720"
      ]
     },
     "execution_count": 17,
     "metadata": {},
     "output_type": "execute_result"
    }
   ],
   "source": [
    "#Read in the CSV as Dataframe\n",
    "household_income = pd.read_csv(\"../Data/RawData/HouseholdIncome.csv\")\n",
    "\n",
    "household_income.tail()"
   ]
  },
  {
   "cell_type": "code",
   "execution_count": 21,
   "id": "5ee9e77d",
   "metadata": {},
   "outputs": [
    {
     "data": {
      "text/html": [
       "<div>\n",
       "<style scoped>\n",
       "    .dataframe tbody tr th:only-of-type {\n",
       "        vertical-align: middle;\n",
       "    }\n",
       "\n",
       "    .dataframe tbody tr th {\n",
       "        vertical-align: top;\n",
       "    }\n",
       "\n",
       "    .dataframe thead th {\n",
       "        text-align: right;\n",
       "    }\n",
       "</style>\n",
       "<table border=\"1\" class=\"dataframe\">\n",
       "  <thead>\n",
       "    <tr style=\"text-align: right;\">\n",
       "      <th></th>\n",
       "      <th>Year</th>\n",
       "      <th>TotalIncome</th>\n",
       "      <th>TotalSavings</th>\n",
       "    </tr>\n",
       "  </thead>\n",
       "  <tbody>\n",
       "    <tr>\n",
       "      <th>143</th>\n",
       "      <td>Jun-1995</td>\n",
       "      <td>107093</td>\n",
       "      <td>313</td>\n",
       "    </tr>\n",
       "    <tr>\n",
       "      <th>144</th>\n",
       "      <td>Sep-1995</td>\n",
       "      <td>110216</td>\n",
       "      <td>5510</td>\n",
       "    </tr>\n",
       "    <tr>\n",
       "      <th>145</th>\n",
       "      <td>Dec-1995</td>\n",
       "      <td>117273</td>\n",
       "      <td>5212</td>\n",
       "    </tr>\n",
       "    <tr>\n",
       "      <th>146</th>\n",
       "      <td>Mar-1996</td>\n",
       "      <td>112756</td>\n",
       "      <td>5320</td>\n",
       "    </tr>\n",
       "    <tr>\n",
       "      <th>147</th>\n",
       "      <td>Jun-1996</td>\n",
       "      <td>113630</td>\n",
       "      <td>853</td>\n",
       "    </tr>\n",
       "  </tbody>\n",
       "</table>\n",
       "</div>"
      ],
      "text/plain": [
       "         Year  TotalIncome  TotalSavings\n",
       "143  Jun-1995       107093           313\n",
       "144  Sep-1995       110216          5510\n",
       "145  Dec-1995       117273          5212\n",
       "146  Mar-1996       112756          5320\n",
       "147  Jun-1996       113630           853"
      ]
     },
     "execution_count": 21,
     "metadata": {},
     "output_type": "execute_result"
    }
   ],
   "source": [
    "#Drop unused columns\n",
    "household_income_drop = household_income.iloc[143:246, :]\n",
    "household_income_drop.head()"
   ]
  },
  {
   "cell_type": "code",
   "execution_count": 24,
   "id": "bfaa6015",
   "metadata": {},
   "outputs": [
    {
     "data": {
      "text/html": [
       "<div>\n",
       "<style scoped>\n",
       "    .dataframe tbody tr th:only-of-type {\n",
       "        vertical-align: middle;\n",
       "    }\n",
       "\n",
       "    .dataframe tbody tr th {\n",
       "        vertical-align: top;\n",
       "    }\n",
       "\n",
       "    .dataframe thead th {\n",
       "        text-align: right;\n",
       "    }\n",
       "</style>\n",
       "<table border=\"1\" class=\"dataframe\">\n",
       "  <thead>\n",
       "    <tr style=\"text-align: right;\">\n",
       "      <th></th>\n",
       "      <th>Year</th>\n",
       "      <th>TotalIncome</th>\n",
       "      <th>TotalSavings</th>\n",
       "    </tr>\n",
       "  </thead>\n",
       "  <tbody>\n",
       "    <tr>\n",
       "      <th>143</th>\n",
       "      <td>Jun-1995</td>\n",
       "      <td>107093</td>\n",
       "      <td>313</td>\n",
       "    </tr>\n",
       "    <tr>\n",
       "      <th>147</th>\n",
       "      <td>Jun-1996</td>\n",
       "      <td>113630</td>\n",
       "      <td>853</td>\n",
       "    </tr>\n",
       "    <tr>\n",
       "      <th>151</th>\n",
       "      <td>Jun-1997</td>\n",
       "      <td>120328</td>\n",
       "      <td>1617</td>\n",
       "    </tr>\n",
       "    <tr>\n",
       "      <th>155</th>\n",
       "      <td>Jun-1998</td>\n",
       "      <td>124565</td>\n",
       "      <td>-1596</td>\n",
       "    </tr>\n",
       "    <tr>\n",
       "      <th>159</th>\n",
       "      <td>Jun-1999</td>\n",
       "      <td>133049</td>\n",
       "      <td>-1208</td>\n",
       "    </tr>\n",
       "  </tbody>\n",
       "</table>\n",
       "</div>"
      ],
      "text/plain": [
       "         Year  TotalIncome  TotalSavings\n",
       "143  Jun-1995       107093           313\n",
       "147  Jun-1996       113630           853\n",
       "151  Jun-1997       120328          1617\n",
       "155  Jun-1998       124565         -1596\n",
       "159  Jun-1999       133049         -1208"
      ]
     },
     "execution_count": 24,
     "metadata": {},
     "output_type": "execute_result"
    }
   ],
   "source": [
    "# Select June only\n",
    "household_income_june = household_income_drop[household_income_drop['Year'].str.contains('Jun-')]\n",
    "\n",
    "household_income_june.head()"
   ]
  },
  {
   "cell_type": "code",
   "execution_count": 33,
   "id": "ab5814d9",
   "metadata": {},
   "outputs": [
    {
     "data": {
      "text/html": [
       "<div>\n",
       "<style scoped>\n",
       "    .dataframe tbody tr th:only-of-type {\n",
       "        vertical-align: middle;\n",
       "    }\n",
       "\n",
       "    .dataframe tbody tr th {\n",
       "        vertical-align: top;\n",
       "    }\n",
       "\n",
       "    .dataframe thead th {\n",
       "        text-align: right;\n",
       "    }\n",
       "</style>\n",
       "<table border=\"1\" class=\"dataframe\">\n",
       "  <thead>\n",
       "    <tr style=\"text-align: right;\">\n",
       "      <th></th>\n",
       "      <th>Year</th>\n",
       "      <th>TotalIncome</th>\n",
       "      <th>TotalSavings</th>\n",
       "    </tr>\n",
       "  </thead>\n",
       "  <tbody>\n",
       "    <tr>\n",
       "      <th>143</th>\n",
       "      <td>1995</td>\n",
       "      <td>107093</td>\n",
       "      <td>313</td>\n",
       "    </tr>\n",
       "    <tr>\n",
       "      <th>147</th>\n",
       "      <td>1996</td>\n",
       "      <td>113630</td>\n",
       "      <td>853</td>\n",
       "    </tr>\n",
       "    <tr>\n",
       "      <th>151</th>\n",
       "      <td>1997</td>\n",
       "      <td>120328</td>\n",
       "      <td>1617</td>\n",
       "    </tr>\n",
       "    <tr>\n",
       "      <th>155</th>\n",
       "      <td>1998</td>\n",
       "      <td>124565</td>\n",
       "      <td>-1596</td>\n",
       "    </tr>\n",
       "    <tr>\n",
       "      <th>159</th>\n",
       "      <td>1999</td>\n",
       "      <td>133049</td>\n",
       "      <td>-1208</td>\n",
       "    </tr>\n",
       "  </tbody>\n",
       "</table>\n",
       "</div>"
      ],
      "text/plain": [
       "     Year  TotalIncome  TotalSavings\n",
       "143  1995       107093           313\n",
       "147  1996       113630           853\n",
       "151  1997       120328          1617\n",
       "155  1998       124565         -1596\n",
       "159  1999       133049         -1208"
      ]
     },
     "execution_count": 33,
     "metadata": {},
     "output_type": "execute_result"
    }
   ],
   "source": [
    "# Remove 'Jun-' label from Year\n",
    "household_income_june['Year'].replace(regex=True,inplace=True,to_replace='Jun-',value='')\n",
    "\n",
    "household_income_june.head()"
   ]
  },
  {
   "cell_type": "markdown",
   "id": "749d80e1",
   "metadata": {},
   "source": [
    "# Saving the end result"
   ]
  },
  {
   "cell_type": "code",
   "execution_count": null,
   "id": "806c0c8a",
   "metadata": {},
   "outputs": [],
   "source": [
    "household_income_june.to_csv(\"../Data/ProcessedData/Household_Income_cleaned.csv\")"
   ]
  }
 ],
 "metadata": {
  "kernelspec": {
   "display_name": "Python [conda env:pyvizenv] *",
   "language": "python",
   "name": "conda-env-pyvizenv-py"
  },
  "language_info": {
   "codemirror_mode": {
    "name": "ipython",
    "version": 3
   },
   "file_extension": ".py",
   "mimetype": "text/x-python",
   "name": "python",
   "nbconvert_exporter": "python",
   "pygments_lexer": "ipython3",
   "version": "3.7.10"
  }
 },
 "nbformat": 4,
 "nbformat_minor": 5
}
