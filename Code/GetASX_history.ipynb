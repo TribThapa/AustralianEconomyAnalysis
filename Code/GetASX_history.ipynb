{
 "cells": [
  {
   "cell_type": "code",
   "execution_count": 1,
   "id": "6eb91559",
   "metadata": {},
   "outputs": [],
   "source": [
    "import pandas as pd\n",
    "import yfinance as yf"
   ]
  },
  {
   "cell_type": "code",
   "execution_count": 2,
   "id": "c174ca0e",
   "metadata": {},
   "outputs": [],
   "source": [
    "# Define tickers symbols\n",
    "ticker_symbols = ['ASX']\n",
    "start_year = '2000-1-1'\n",
    "end_year = '2021-1-7'\n",
    "\n",
    "stocks_df = pd.DataFrame()\n",
    "\n",
    "for t in ticker_symbols:\n",
    "    \n",
    "    t = yf.Ticker(t)\n",
    "    ticker_df = t.history(period='1d', start=start_year, end=end_year)\n",
    "    \n",
    "    # Save the close columns of each stock into new variables\n",
    "    t = ticker_df['Close']\n",
    "\n",
    "    stocks_df = stocks_df.append(t)\n",
    "\n",
    "stocks_df = stocks_df.T\n",
    "stocks_df.columns = ticker_symbols\n",
    "\n",
    "stocks_df.tail(10)\n",
    "\n",
    "stocks_df.to_csv(\"../Data/ASX_history.csv\")"
   ]
  },
  {
   "cell_type": "code",
   "execution_count": null,
   "id": "60bd37ab",
   "metadata": {},
   "outputs": [],
   "source": []
  }
 ],
 "metadata": {
  "kernelspec": {
   "display_name": "Python [conda env:pyvizenv] *",
   "language": "python",
   "name": "conda-env-pyvizenv-py"
  },
  "language_info": {
   "codemirror_mode": {
    "name": "ipython",
    "version": 3
   },
   "file_extension": ".py",
   "mimetype": "text/x-python",
   "name": "python",
   "nbconvert_exporter": "python",
   "pygments_lexer": "ipython3",
   "version": "3.7.10"
  }
 },
 "nbformat": 4,
 "nbformat_minor": 5
}
