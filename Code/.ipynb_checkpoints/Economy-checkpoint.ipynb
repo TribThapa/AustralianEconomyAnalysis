{
 "cells": [
  {
   "cell_type": "code",
   "execution_count": 12,
   "id": "469fddfd",
   "metadata": {},
   "outputs": [],
   "source": [
    "import pandas as pd\n",
    "import hvplot.pandas"
   ]
  },
  {
   "cell_type": "code",
   "execution_count": 5,
   "id": "8ab6c113",
   "metadata": {},
   "outputs": [
    {
     "data": {
      "text/html": [
       "<div>\n",
       "<style scoped>\n",
       "    .dataframe tbody tr th:only-of-type {\n",
       "        vertical-align: middle;\n",
       "    }\n",
       "\n",
       "    .dataframe tbody tr th {\n",
       "        vertical-align: top;\n",
       "    }\n",
       "\n",
       "    .dataframe thead th {\n",
       "        text-align: right;\n",
       "    }\n",
       "</style>\n",
       "<table border=\"1\" class=\"dataframe\">\n",
       "  <thead>\n",
       "    <tr style=\"text-align: right;\">\n",
       "      <th></th>\n",
       "      <th>Time</th>\n",
       "      <th>Net Savings</th>\n",
       "      <th>Total Use of Gross Income</th>\n",
       "      <th>GDP</th>\n",
       "    </tr>\n",
       "  </thead>\n",
       "  <tbody>\n",
       "    <tr>\n",
       "      <th>0</th>\n",
       "      <td>Sep-59</td>\n",
       "      <td>589</td>\n",
       "      <td>3493</td>\n",
       "      <td>3961.0</td>\n",
       "    </tr>\n",
       "    <tr>\n",
       "      <th>1</th>\n",
       "      <td>Dec-59</td>\n",
       "      <td>698</td>\n",
       "      <td>3905</td>\n",
       "      <td>4070.0</td>\n",
       "    </tr>\n",
       "    <tr>\n",
       "      <th>2</th>\n",
       "      <td>Mar-60</td>\n",
       "      <td>225</td>\n",
       "      <td>3310</td>\n",
       "      <td>4209.0</td>\n",
       "    </tr>\n",
       "    <tr>\n",
       "      <th>3</th>\n",
       "      <td>Jun-60</td>\n",
       "      <td>74</td>\n",
       "      <td>3454</td>\n",
       "      <td>4324.0</td>\n",
       "    </tr>\n",
       "    <tr>\n",
       "      <th>4</th>\n",
       "      <td>Sep-60</td>\n",
       "      <td>492</td>\n",
       "      <td>3669</td>\n",
       "      <td>4406.0</td>\n",
       "    </tr>\n",
       "  </tbody>\n",
       "</table>\n",
       "</div>"
      ],
      "text/plain": [
       "     Time  Net Savings  Total Use of Gross Income     GDP\n",
       "0  Sep-59          589                       3493  3961.0\n",
       "1  Dec-59          698                       3905  4070.0\n",
       "2  Mar-60          225                       3310  4209.0\n",
       "3  Jun-60           74                       3454  4324.0\n",
       "4  Sep-60          492                       3669  4406.0"
      ]
     },
     "execution_count": 5,
     "metadata": {},
     "output_type": "execute_result"
    }
   ],
   "source": [
    "economy_df = pd.read_csv(\"../Data/Economy.csv\")\n",
    "economy_df.head()"
   ]
  },
  {
   "cell_type": "code",
   "execution_count": 48,
   "id": "55dd27f3",
   "metadata": {},
   "outputs": [
    {
     "data": {
      "text/plain": [
       "(86, 13)"
      ]
     },
     "execution_count": 48,
     "metadata": {},
     "output_type": "execute_result"
    }
   ],
   "source": [
    "employment_df = pd.read_csv(\"../Data/Employment.csv\")\n",
    "\n",
    "drop_values = [\"Jan\", \"Feb\", \"Mar\", \"Apr\", \"May\", \"Jul\", \"Aug\", \"Sep\", \"Oct\", \"Nov\"]\n",
    "\n",
    "employment_new_df = employment_df[~employment_df['Time'].str.contains('|'.join(drop_values))]\n",
    "\n",
    "employment_new_df.shape"
   ]
  },
  {
   "cell_type": "code",
   "execution_count": 51,
   "id": "8db831ab",
   "metadata": {},
   "outputs": [
    {
     "data": {},
     "metadata": {},
     "output_type": "display_data"
    },
    {
     "data": {
      "application/vnd.holoviews_exec.v0+json": "",
      "text/html": [
       "<div id='3253'>\n",
       "\n",
       "\n",
       "\n",
       "\n",
       "\n",
       "  <div class=\"bk-root\" id=\"4a70f6f4-7567-40df-9274-7ee688bb67de\" data-root-id=\"3253\"></div>\n",
       "</div>\n",
       "<script type=\"application/javascript\">(function(root) {\n",
       "  function embed_document(root) {\n",
       "    var docs_json = {\"fca44acc-c0d1-4e1c-9064-f057d4ec2808\":{\"defs\":[],\"roots\":{\"references\":[{\"attributes\":{\"data_source\":{\"id\":\"3287\"},\"glyph\":{\"id\":\"3290\"},\"hover_glyph\":null,\"muted_glyph\":{\"id\":\"3292\"},\"nonselection_glyph\":{\"id\":\"3291\"},\"selection_glyph\":{\"id\":\"3295\"},\"view\":{\"id\":\"3294\"}},\"id\":\"3293\",\"type\":\"GlyphRenderer\"},{\"attributes\":{},\"id\":\"3274\",\"type\":\"SaveTool\"},{\"attributes\":{\"margin\":[5,5,5,5],\"name\":\"HSpacer05715\",\"sizing_mode\":\"stretch_width\"},\"id\":\"3254\",\"type\":\"Spacer\"},{\"attributes\":{\"active_multi\":null,\"tools\":[{\"id\":\"3257\"},{\"id\":\"3274\"},{\"id\":\"3275\"},{\"id\":\"3276\"},{\"id\":\"3277\"},{\"id\":\"3278\"}]},\"id\":\"3280\",\"type\":\"Toolbar\"},{\"attributes\":{\"axis_label\":\"EmploymenRate\",\"formatter\":{\"id\":\"3301\"},\"major_label_policy\":{\"id\":\"3300\"},\"ticker\":{\"id\":\"3271\"}},\"id\":\"3270\",\"type\":\"LinearAxis\"},{\"attributes\":{\"axis_label\":\"Year\",\"formatter\":{\"id\":\"3298\"},\"major_label_policy\":{\"id\":\"3297\"},\"ticker\":{\"id\":\"3268\"}},\"id\":\"3267\",\"type\":\"CategoricalAxis\"},{\"attributes\":{\"below\":[{\"id\":\"3267\"}],\"center\":[{\"id\":\"3269\"},{\"id\":\"3273\"}],\"height\":300,\"left\":[{\"id\":\"3270\"}],\"margin\":[5,5,5,5],\"min_border_bottom\":10,\"min_border_left\":10,\"min_border_right\":10,\"min_border_top\":10,\"renderers\":[{\"id\":\"3293\"}],\"sizing_mode\":\"fixed\",\"title\":{\"id\":\"3259\"},\"toolbar\":{\"id\":\"3280\"},\"width\":1500,\"x_range\":{\"id\":\"3255\"},\"x_scale\":{\"id\":\"3263\"},\"y_range\":{\"id\":\"3256\"},\"y_scale\":{\"id\":\"3265\"}},\"id\":\"3258\",\"subtype\":\"Figure\",\"type\":\"Plot\"},{\"attributes\":{\"axis\":{\"id\":\"3267\"},\"grid_line_color\":null,\"ticker\":null},\"id\":\"3269\",\"type\":\"Grid\"},{\"attributes\":{\"source\":{\"id\":\"3287\"}},\"id\":\"3294\",\"type\":\"CDSView\"},{\"attributes\":{},\"id\":\"3288\",\"type\":\"Selection\"},{\"attributes\":{\"line_color\":\"red\",\"line_width\":2,\"x\":{\"field\":\"Time\"},\"y\":{\"field\":\"TotalEmployed_M\"}},\"id\":\"3290\",\"type\":\"Line\"},{\"attributes\":{},\"id\":\"3301\",\"type\":\"BasicTickFormatter\"},{\"attributes\":{},\"id\":\"3278\",\"type\":\"ResetTool\"},{\"attributes\":{},\"id\":\"3309\",\"type\":\"UnionRenderers\"},{\"attributes\":{},\"id\":\"3263\",\"type\":\"CategoricalScale\"},{\"attributes\":{\"text_color\":\"black\",\"text_font_size\":\"12pt\"},\"id\":\"3259\",\"type\":\"Title\"},{\"attributes\":{},\"id\":\"3265\",\"type\":\"LinearScale\"},{\"attributes\":{},\"id\":\"3271\",\"type\":\"BasicTicker\"},{\"attributes\":{},\"id\":\"3298\",\"type\":\"CategoricalTickFormatter\"},{\"attributes\":{\"axis\":{\"id\":\"3270\"},\"dimension\":1,\"grid_line_color\":null,\"ticker\":null},\"id\":\"3273\",\"type\":\"Grid\"},{\"attributes\":{\"line_alpha\":0.2,\"line_color\":\"red\",\"line_width\":2,\"x\":{\"field\":\"Time\"},\"y\":{\"field\":\"TotalEmployed_M\"}},\"id\":\"3292\",\"type\":\"Line\"},{\"attributes\":{\"overlay\":{\"id\":\"3279\"}},\"id\":\"3277\",\"type\":\"BoxZoomTool\"},{\"attributes\":{\"line_color\":\"red\",\"line_width\":2,\"x\":{\"field\":\"Time\"},\"y\":{\"field\":\"TotalEmployed_M\"}},\"id\":\"3295\",\"type\":\"Line\"},{\"attributes\":{},\"id\":\"3275\",\"type\":\"PanTool\"},{\"attributes\":{\"factors\":[\"Jun-78\",\"Dec-78\",\"Jun-79\",\"Dec-79\",\"Jun-80\",\"Dec-80\",\"Jun-81\",\"Dec-81\",\"Jun-82\",\"Dec-82\",\"Jun-83\",\"Dec-83\",\"Jun-84\",\"Dec-84\",\"Jun-85\",\"Dec-85\",\"Jun-86\",\"Dec-86\",\"Jun-87\",\"Dec-87\",\"Jun-88\",\"Dec-88\",\"Jun-89\",\"Dec-89\",\"Jun-90\",\"Dec-90\",\"Jun-91\",\"Dec-91\",\"Jun-92\",\"Dec-92\",\"Jun-93\",\"Dec-93\",\"Jun-94\",\"Dec-94\",\"Jun-95\",\"Dec-95\",\"Jun-96\",\"Dec-96\",\"Jun-97\",\"Dec-97\",\"Jun-98\",\"Dec-98\",\"Jun-99\",\"Dec-99\",\"Jun-00\",\"Dec-00\",\"Jun-01\",\"Dec-01\",\"Jun-02\",\"Dec-02\",\"Jun-03\",\"Dec-03\",\"Jun-04\",\"Dec-04\",\"Jun-05\",\"Dec-05\",\"Jun-06\",\"Dec-06\",\"Jun-07\",\"Dec-07\",\"Jun-08\",\"Dec-08\",\"Jun-09\",\"Dec-09\",\"Jun-10\",\"Dec-10\",\"Jun-11\",\"Dec-11\",\"Jun-12\",\"Dec-12\",\"Jun-13\",\"Dec-13\",\"Jun-14\",\"Dec-14\",\"Jun-15\",\"Dec-15\",\"Jun-16\",\"Dec-16\",\"Jun-17\",\"Dec-17\",\"Jun-18\",\"Dec-18\",\"Jun-19\",\"Dec-19\",\"Jun-20\",\"Dec-20\"],\"tags\":[[[\"Time\",\"Time\",null]]]},\"id\":\"3255\",\"type\":\"FactorRange\"},{\"attributes\":{\"margin\":[5,5,5,5],\"name\":\"HSpacer05716\",\"sizing_mode\":\"stretch_width\"},\"id\":\"3322\",\"type\":\"Spacer\"},{\"attributes\":{\"data\":{\"Time\":[\"Jun-78\",\"Dec-78\",\"Jun-79\",\"Dec-79\",\"Jun-80\",\"Dec-80\",\"Jun-81\",\"Dec-81\",\"Jun-82\",\"Dec-82\",\"Jun-83\",\"Dec-83\",\"Jun-84\",\"Dec-84\",\"Jun-85\",\"Dec-85\",\"Jun-86\",\"Dec-86\",\"Jun-87\",\"Dec-87\",\"Jun-88\",\"Dec-88\",\"Jun-89\",\"Dec-89\",\"Jun-90\",\"Dec-90\",\"Jun-91\",\"Dec-91\",\"Jun-92\",\"Dec-92\",\"Jun-93\",\"Dec-93\",\"Jun-94\",\"Dec-94\",\"Jun-95\",\"Dec-95\",\"Jun-96\",\"Dec-96\",\"Jun-97\",\"Dec-97\",\"Jun-98\",\"Dec-98\",\"Jun-99\",\"Dec-99\",\"Jun-00\",\"Dec-00\",\"Jun-01\",\"Dec-01\",\"Jun-02\",\"Dec-02\",\"Jun-03\",\"Dec-03\",\"Jun-04\",\"Dec-04\",\"Jun-05\",\"Dec-05\",\"Jun-06\",\"Dec-06\",\"Jun-07\",\"Dec-07\",\"Jun-08\",\"Dec-08\",\"Jun-09\",\"Dec-09\",\"Jun-10\",\"Dec-10\",\"Jun-11\",\"Dec-11\",\"Jun-12\",\"Dec-12\",\"Jun-13\",\"Dec-13\",\"Jun-14\",\"Dec-14\",\"Jun-15\",\"Dec-15\",\"Jun-16\",\"Dec-16\",\"Jun-17\",\"Dec-17\",\"Jun-18\",\"Dec-18\",\"Jun-19\",\"Dec-19\",\"Jun-20\",\"Dec-20\"],\"TotalEmployed_M\":{\"__ndarray__\":\"MzMzMzNXrkAAAAAAAMCuQAAAAAAAsK5AZmZmZmZNr0CamZmZmSCvQM3MzMzM+K9AzczMzMzUr0AAAAAAAA+wQM3MzMzMwa9AZmZmZmZHr0DNzMzMzKiuQGZmZmZmeK9AmpmZmZmar0AAAAAAgAGwQM3MzMxMArBAmpmZmZmBsEBmZmZm5qGwQJqZmZmZw7BAMzMzMzPDsEAAAAAAACexQGZmZmZmQrFAmpmZmRm0sUAzMzMzs86xQJqZmZkZNLJAAAAAAIAOskAzMzMzMwCyQGZmZmZmYbFAmpmZmRlrsUBmZmZm5jKxQAAAAACASLFAzczMzMwpsUBmZmZmZpaxQGZmZmZmq7FAZmZmZuYyskBmZmZmZjGyQAAAAACAlbJAZmZmZmZ0skCamZmZma6yQGZmZmbme7JAZmZmZubnskDNzMzMzMGyQAAAAAAAHbNAzczMzMwhs0CamZmZmXqzQM3MzMzMdLNAMzMzMzO+s0CamZmZmYSzQDMzMzOz7rNAMzMzMzP1s0DNzMzMTGG0QGZmZmZmI7RAzczMzMzLtEDNzMzMTKq0QM3MzMzMI7VAZmZmZuZJtUBmZmZm5p+1QJqZmZmZqrVAAAAAAIBQtkCamZmZmW62QDMzMzMz6LZAMzMzMzMCt0AzMzMzs0m3QDMzMzOz0rZAmpmZmRlwt0CamZmZGXa3QDMzMzOzHrhAmpmZmRnSt0AzMzMzMy+4QDMzMzMzGbhAzczMzEx2uEAzMzMzM1C4QM3MzMxMWrhAZmZmZmZTuEAzMzMzs7C4QDMzMzOzrLhAzczMzEwjuUCamZmZGQa5QDMzMzMzVblAZmZmZmZ7uUBmZmZmZv65QAAAAAAAD7pAMzMzM7OXukCamZmZmbG6QM3MzMzM5rpAZmZmZuaZuUCamZmZma66QA==\",\"dtype\":\"float64\",\"order\":\"little\",\"shape\":[86]}},\"selected\":{\"id\":\"3288\"},\"selection_policy\":{\"id\":\"3309\"}},\"id\":\"3287\",\"type\":\"ColumnDataSource\"},{\"attributes\":{\"bottom_units\":\"screen\",\"fill_alpha\":0.5,\"fill_color\":\"lightgrey\",\"left_units\":\"screen\",\"level\":\"overlay\",\"line_alpha\":1.0,\"line_color\":\"black\",\"line_dash\":[4,4],\"line_width\":2,\"right_units\":\"screen\",\"syncable\":false,\"top_units\":\"screen\"},\"id\":\"3279\",\"type\":\"BoxAnnotation\"},{\"attributes\":{},\"id\":\"3268\",\"type\":\"CategoricalTicker\"},{\"attributes\":{\"children\":[{\"id\":\"3254\"},{\"id\":\"3258\"},{\"id\":\"3322\"}],\"margin\":[0,0,0,0],\"name\":\"Row05711\",\"tags\":[\"embedded\"]},\"id\":\"3253\",\"type\":\"Row\"},{\"attributes\":{\"line_alpha\":0.1,\"line_color\":\"red\",\"line_width\":2,\"x\":{\"field\":\"Time\"},\"y\":{\"field\":\"TotalEmployed_M\"}},\"id\":\"3291\",\"type\":\"Line\"},{\"attributes\":{\"callback\":null,\"renderers\":[{\"id\":\"3293\"}],\"tags\":[\"hv_created\"],\"tooltips\":[[\"Time\",\"@{Time}\"],[\"TotalEmployed_M\",\"@{TotalEmployed_M}\"]]},\"id\":\"3257\",\"type\":\"HoverTool\"},{\"attributes\":{},\"id\":\"3297\",\"type\":\"AllLabels\"},{\"attributes\":{\"end\":7187.12,\"reset_end\":7187.12,\"reset_start\":3583.2799999999997,\"start\":3583.2799999999997,\"tags\":[[[\"TotalEmployed_M\",\"TotalEmployed_M\",null]]]},\"id\":\"3256\",\"type\":\"Range1d\"},{\"attributes\":{},\"id\":\"3276\",\"type\":\"WheelZoomTool\"},{\"attributes\":{},\"id\":\"3300\",\"type\":\"AllLabels\"}],\"root_ids\":[\"3253\"]},\"title\":\"Bokeh Application\",\"version\":\"2.3.2\"}};\n",
       "    var render_items = [{\"docid\":\"fca44acc-c0d1-4e1c-9064-f057d4ec2808\",\"root_ids\":[\"3253\"],\"roots\":{\"3253\":\"4a70f6f4-7567-40df-9274-7ee688bb67de\"}}];\n",
       "    root.Bokeh.embed.embed_items_notebook(docs_json, render_items);\n",
       "  }\n",
       "  if (root.Bokeh !== undefined && root.Bokeh.Panel !== undefined) {\n",
       "    embed_document(root);\n",
       "  } else {\n",
       "    var attempts = 0;\n",
       "    var timer = setInterval(function(root) {\n",
       "      if (root.Bokeh !== undefined && root.Bokeh.Panel !== undefined) {\n",
       "        clearInterval(timer);\n",
       "        embed_document(root);\n",
       "      } else if (document.readyState == \"complete\") {\n",
       "        attempts++;\n",
       "        if (attempts > 100) {\n",
       "          clearInterval(timer);\n",
       "          console.log(\"Bokeh: ERROR: Unable to run BokehJS code because BokehJS library is missing\");\n",
       "        }\n",
       "      }\n",
       "    }, 10, root)\n",
       "  }\n",
       "})(window);</script>"
      ],
      "text/plain": [
       ":Curve   [Time]   (TotalEmployed_M)"
      ]
     },
     "execution_count": 51,
     "metadata": {
      "application/vnd.holoviews_exec.v0+json": {
       "id": "3253"
      }
     },
     "output_type": "execute_result"
    }
   ],
   "source": [
    "emp_males = employment_new_df[[\"TotalEmployed_M\", \"Time\"]].set_index(\"Time\")\n",
    "emp_males\n",
    "#emp_females = employment_df[[\"TotalEmployed_F\"]]\n",
    "\n",
    "males = emp_males.hvplot.line(xlabel='Year',\n",
    "                              ylabel='EmploymenRate',\n",
    "                              line_color='red', legend=True,\n",
    "                              width=1500)\n",
    "males"
   ]
  },
  {
   "cell_type": "code",
   "execution_count": 23,
   "id": "a7d0a875",
   "metadata": {},
   "outputs": [
    {
     "data": {},
     "metadata": {},
     "output_type": "display_data"
    },
    {
     "data": {
      "application/vnd.holoviews_exec.v0+json": "",
      "text/html": [
       "<div id='2113'>\n",
       "\n",
       "\n",
       "\n",
       "\n",
       "\n",
       "  <div class=\"bk-root\" id=\"8d2fe13e-16f6-4afe-8851-96dde5a43123\" data-root-id=\"2113\"></div>\n",
       "</div>\n",
       "<script type=\"application/javascript\">(function(root) {\n",
       "  function embed_document(root) {\n",
       "    var docs_json = {\"48d1273f-1f84-49a1-aa1c-2fec84d5fbef\":{\"defs\":[],\"roots\":{\"references\":[{\"attributes\":{\"axis_label\":\"EmploymenRate\",\"formatter\":{\"id\":\"2155\"},\"major_label_policy\":{\"id\":\"2154\"},\"ticker\":{\"id\":\"2133\"}},\"id\":\"2132\",\"type\":\"LinearAxis\"},{\"attributes\":{\"axis_label\":\"Year\",\"formatter\":{\"id\":\"2152\"},\"major_label_policy\":{\"id\":\"2151\"},\"ticker\":{\"id\":\"2129\"}},\"id\":\"2128\",\"type\":\"LinearAxis\"},{\"attributes\":{\"line_color\":\"blue\",\"line_width\":2,\"x\":{\"field\":\"index\"},\"y\":{\"field\":\"TotalEmployed_F\"}},\"id\":\"2168\",\"type\":\"Line\"},{\"attributes\":{},\"id\":\"2133\",\"type\":\"BasicTicker\"},{\"attributes\":{\"margin\":[5,5,5,5],\"name\":\"HSpacer03736\",\"sizing_mode\":\"stretch_width\"},\"id\":\"2114\",\"type\":\"Spacer\"},{\"attributes\":{\"axis\":{\"id\":\"2132\"},\"dimension\":1,\"grid_line_color\":null,\"ticker\":null},\"id\":\"2135\",\"type\":\"Grid\"},{\"attributes\":{\"active_multi\":null,\"tools\":[{\"id\":\"2117\"},{\"id\":\"2118\"},{\"id\":\"2136\"},{\"id\":\"2137\"},{\"id\":\"2138\"},{\"id\":\"2139\"},{\"id\":\"2140\"}]},\"id\":\"2142\",\"type\":\"Toolbar\"},{\"attributes\":{\"line_alpha\":0.2,\"line_color\":\"blue\",\"line_width\":2,\"x\":{\"field\":\"index\"},\"y\":{\"field\":\"TotalEmployed_F\"}},\"id\":\"2170\",\"type\":\"Line\"},{\"attributes\":{\"margin\":[5,5,5,5],\"name\":\"HSpacer03737\",\"sizing_mode\":\"stretch_width\"},\"id\":\"2282\",\"type\":\"Spacer\"},{\"attributes\":{\"data\":{\"TotalEmployed_F\":{\"__ndarray__\":\"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\",\"dtype\":\"float64\",\"order\":\"little\",\"shape\":[520]},\"index\":[0,1,2,3,4,5,6,7,8,9,10,11,12,13,14,15,16,17,18,19,20,21,22,23,24,25,26,27,28,29,30,31,32,33,34,35,36,37,38,39,40,41,42,43,44,45,46,47,48,49,50,51,52,53,54,55,56,57,58,59,60,61,62,63,64,65,66,67,68,69,70,71,72,73,74,75,76,77,78,79,80,81,82,83,84,85,86,87,88,89,90,91,92,93,94,95,96,97,98,99,100,101,102,103,104,105,106,107,108,109,110,111,112,113,114,115,116,117,118,119,120,121,122,123,124,125,126,127,128,129,130,131,132,133,134,135,136,137,138,139,140,141,142,143,144,145,146,147,148,149,150,151,152,153,154,155,156,157,158,159,160,161,162,163,164,165,166,167,168,169,170,171,172,173,174,175,176,177,178,179,180,181,182,183,184,185,186,187,188,189,190,191,192,193,194,195,196,197,198,199,200,201,202,203,204,205,206,207,208,209,210,211,212,213,214,215,216,217,218,219,220,221,222,223,224,225,226,227,228,229,230,231,232,233,234,235,236,237,238,239,240,241,242,243,244,245,246,247,248,249,250,251,252,253,254,255,256,257,258,259,260,261,262,263,264,265,266,267,268,269,270,271,272,273,274,275,276,277,278,279,280,281,282,283,284,285,286,287,288,289,290,291,292,293,294,295,296,297,298,299,300,301,302,303,304,305,306,307,308,309,310,311,312,313,314,315,316,317,318,319,320,321,322,323,324,325,326,327,328,329,330,331,332,333,334,335,336,337,338,339,340,341,342,343,344,345,346,347,348,349,350,351,352,353,354,355,356,357,358,359,360,361,362,363,364,365,366,367,368,369,370,371,372,373,374,375,376,377,378,379,380,381,382,383,384,385,386,387,388,389,390,391,392,393,394,395,396,397,398,399,400,401,402,403,404,405,406,407,408,409,410,411,412,413,414,415,416,417,418,419,420,421,422,423,424,425,426,427,428,429,430,431,432,433,434,435,436,437,438,439,440,441,442,443,444,445,446,447,448,449,450,451,452,453,454,455,456,457,458,459,460,461,462,463,464,465,466,467,468,469,470,471,472,473,474,475,476,477,478,479,480,481,482,483,484,485,486,487,488,489,490,491,492,493,494,495,496,497,498,499,500,501,502,503,504,505,506,507,508,509,510,511,512,513,514,515,516,517,518,519]},\"selected\":{\"id\":\"2166\"},\"selection_policy\":{\"id\":\"2183\"}},\"id\":\"2165\",\"type\":\"ColumnDataSource\"},{\"attributes\":{},\"id\":\"2151\",\"type\":\"AllLabels\"},{\"attributes\":{\"callback\":null,\"renderers\":[{\"id\":\"2171\"}],\"tags\":[\"hv_created\"],\"tooltips\":[[\"index\",\"@{index}\"],[\"TotalEmployed_F\",\"@{TotalEmployed_F}\"]]},\"id\":\"2118\",\"type\":\"HoverTool\"},{\"attributes\":{\"bottom_units\":\"screen\",\"fill_alpha\":0.5,\"fill_color\":\"lightgrey\",\"left_units\":\"screen\",\"level\":\"overlay\",\"line_alpha\":1.0,\"line_color\":\"black\",\"line_dash\":[4,4],\"line_width\":2,\"right_units\":\"screen\",\"syncable\":false,\"top_units\":\"screen\"},\"id\":\"2141\",\"type\":\"BoxAnnotation\"},{\"attributes\":{\"end\":519.0,\"reset_end\":519.0,\"reset_start\":0.0,\"tags\":[[[\"index\",\"index\",null]]]},\"id\":\"2115\",\"type\":\"Range1d\"},{\"attributes\":{\"text_color\":\"black\",\"text_font_size\":\"12pt\"},\"id\":\"2120\",\"type\":\"Title\"},{\"attributes\":{\"source\":{\"id\":\"2156\"}},\"id\":\"2163\",\"type\":\"CDSView\"},{\"attributes\":{},\"id\":\"2154\",\"type\":\"AllLabels\"},{\"attributes\":{\"below\":[{\"id\":\"2128\"}],\"center\":[{\"id\":\"2131\"},{\"id\":\"2135\"}],\"height\":300,\"left\":[{\"id\":\"2132\"}],\"margin\":[5,5,5,5],\"min_border_bottom\":10,\"min_border_left\":10,\"min_border_right\":10,\"min_border_top\":10,\"renderers\":[{\"id\":\"2162\"},{\"id\":\"2171\"}],\"sizing_mode\":\"fixed\",\"title\":{\"id\":\"2120\"},\"toolbar\":{\"id\":\"2142\"},\"width\":700,\"x_range\":{\"id\":\"2115\"},\"x_scale\":{\"id\":\"2124\"},\"y_range\":{\"id\":\"2116\"},\"y_scale\":{\"id\":\"2126\"}},\"id\":\"2119\",\"subtype\":\"Figure\",\"type\":\"Plot\"},{\"attributes\":{\"line_alpha\":0.1,\"line_color\":\"blue\",\"line_width\":2,\"x\":{\"field\":\"index\"},\"y\":{\"field\":\"TotalEmployed_F\"}},\"id\":\"2169\",\"type\":\"Line\"},{\"attributes\":{},\"id\":\"2155\",\"type\":\"BasicTickFormatter\"},{\"attributes\":{\"line_alpha\":0.1,\"line_color\":\"red\",\"line_width\":2,\"x\":{\"field\":\"index\"},\"y\":{\"field\":\"TotalEmployed_M\"}},\"id\":\"2160\",\"type\":\"Line\"},{\"attributes\":{},\"id\":\"2129\",\"type\":\"BasicTicker\"},{\"attributes\":{},\"id\":\"2136\",\"type\":\"SaveTool\"},{\"attributes\":{},\"id\":\"2181\",\"type\":\"UnionRenderers\"},{\"attributes\":{},\"id\":\"2183\",\"type\":\"UnionRenderers\"},{\"attributes\":{},\"id\":\"2137\",\"type\":\"PanTool\"},{\"attributes\":{},\"id\":\"2157\",\"type\":\"Selection\"},{\"attributes\":{\"overlay\":{\"id\":\"2141\"}},\"id\":\"2139\",\"type\":\"BoxZoomTool\"},{\"attributes\":{\"axis\":{\"id\":\"2128\"},\"grid_line_color\":null,\"ticker\":null},\"id\":\"2131\",\"type\":\"Grid\"},{\"attributes\":{},\"id\":\"2138\",\"type\":\"WheelZoomTool\"},{\"attributes\":{\"end\":7376.7699999999995,\"reset_end\":7376.7699999999995,\"reset_start\":1606.33,\"start\":1606.33,\"tags\":[[[\"TotalEmployed_M\",\"TotalEmployed_M\",null]]]},\"id\":\"2116\",\"type\":\"Range1d\"},{\"attributes\":{},\"id\":\"2126\",\"type\":\"LinearScale\"},{\"attributes\":{\"data\":{\"TotalEmployed_M\":{\"__ndarray__\":\"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\",\"dtype\":\"float64\",\"order\":\"little\",\"shape\":[520]},\"index\":[0,1,2,3,4,5,6,7,8,9,10,11,12,13,14,15,16,17,18,19,20,21,22,23,24,25,26,27,28,29,30,31,32,33,34,35,36,37,38,39,40,41,42,43,44,45,46,47,48,49,50,51,52,53,54,55,56,57,58,59,60,61,62,63,64,65,66,67,68,69,70,71,72,73,74,75,76,77,78,79,80,81,82,83,84,85,86,87,88,89,90,91,92,93,94,95,96,97,98,99,100,101,102,103,104,105,106,107,108,109,110,111,112,113,114,115,116,117,118,119,120,121,122,123,124,125,126,127,128,129,130,131,132,133,134,135,136,137,138,139,140,141,142,143,144,145,146,147,148,149,150,151,152,153,154,155,156,157,158,159,160,161,162,163,164,165,166,167,168,169,170,171,172,173,174,175,176,177,178,179,180,181,182,183,184,185,186,187,188,189,190,191,192,193,194,195,196,197,198,199,200,201,202,203,204,205,206,207,208,209,210,211,212,213,214,215,216,217,218,219,220,221,222,223,224,225,226,227,228,229,230,231,232,233,234,235,236,237,238,239,240,241,242,243,244,245,246,247,248,249,250,251,252,253,254,255,256,257,258,259,260,261,262,263,264,265,266,267,268,269,270,271,272,273,274,275,276,277,278,279,280,281,282,283,284,285,286,287,288,289,290,291,292,293,294,295,296,297,298,299,300,301,302,303,304,305,306,307,308,309,310,311,312,313,314,315,316,317,318,319,320,321,322,323,324,325,326,327,328,329,330,331,332,333,334,335,336,337,338,339,340,341,342,343,344,345,346,347,348,349,350,351,352,353,354,355,356,357,358,359,360,361,362,363,364,365,366,367,368,369,370,371,372,373,374,375,376,377,378,379,380,381,382,383,384,385,386,387,388,389,390,391,392,393,394,395,396,397,398,399,400,401,402,403,404,405,406,407,408,409,410,411,412,413,414,415,416,417,418,419,420,421,422,423,424,425,426,427,428,429,430,431,432,433,434,435,436,437,438,439,440,441,442,443,444,445,446,447,448,449,450,451,452,453,454,455,456,457,458,459,460,461,462,463,464,465,466,467,468,469,470,471,472,473,474,475,476,477,478,479,480,481,482,483,484,485,486,487,488,489,490,491,492,493,494,495,496,497,498,499,500,501,502,503,504,505,506,507,508,509,510,511,512,513,514,515,516,517,518,519]},\"selected\":{\"id\":\"2157\"},\"selection_policy\":{\"id\":\"2181\"}},\"id\":\"2156\",\"type\":\"ColumnDataSource\"},{\"attributes\":{\"line_color\":\"red\",\"line_width\":2,\"x\":{\"field\":\"index\"},\"y\":{\"field\":\"TotalEmployed_M\"}},\"id\":\"2164\",\"type\":\"Line\"},{\"attributes\":{},\"id\":\"2166\",\"type\":\"Selection\"},{\"attributes\":{\"callback\":null,\"renderers\":[{\"id\":\"2162\"}],\"tags\":[\"hv_created\"],\"tooltips\":[[\"index\",\"@{index}\"],[\"TotalEmployed_M\",\"@{TotalEmployed_M}\"]]},\"id\":\"2117\",\"type\":\"HoverTool\"},{\"attributes\":{\"line_color\":\"blue\",\"line_width\":2,\"x\":{\"field\":\"index\"},\"y\":{\"field\":\"TotalEmployed_F\"}},\"id\":\"2173\",\"type\":\"Line\"},{\"attributes\":{},\"id\":\"2152\",\"type\":\"BasicTickFormatter\"},{\"attributes\":{},\"id\":\"2140\",\"type\":\"ResetTool\"},{\"attributes\":{\"data_source\":{\"id\":\"2165\"},\"glyph\":{\"id\":\"2168\"},\"hover_glyph\":null,\"muted_glyph\":{\"id\":\"2170\"},\"nonselection_glyph\":{\"id\":\"2169\"},\"selection_glyph\":{\"id\":\"2173\"},\"view\":{\"id\":\"2172\"}},\"id\":\"2171\",\"type\":\"GlyphRenderer\"},{\"attributes\":{\"line_color\":\"red\",\"line_width\":2,\"x\":{\"field\":\"index\"},\"y\":{\"field\":\"TotalEmployed_M\"}},\"id\":\"2159\",\"type\":\"Line\"},{\"attributes\":{\"data_source\":{\"id\":\"2156\"},\"glyph\":{\"id\":\"2159\"},\"hover_glyph\":null,\"muted_glyph\":{\"id\":\"2161\"},\"nonselection_glyph\":{\"id\":\"2160\"},\"selection_glyph\":{\"id\":\"2164\"},\"view\":{\"id\":\"2163\"}},\"id\":\"2162\",\"type\":\"GlyphRenderer\"},{\"attributes\":{},\"id\":\"2124\",\"type\":\"LinearScale\"},{\"attributes\":{\"line_alpha\":0.2,\"line_color\":\"red\",\"line_width\":2,\"x\":{\"field\":\"index\"},\"y\":{\"field\":\"TotalEmployed_M\"}},\"id\":\"2161\",\"type\":\"Line\"},{\"attributes\":{\"source\":{\"id\":\"2165\"}},\"id\":\"2172\",\"type\":\"CDSView\"},{\"attributes\":{\"children\":[{\"id\":\"2114\"},{\"id\":\"2119\"},{\"id\":\"2282\"}],\"margin\":[0,0,0,0],\"name\":\"Row03732\",\"tags\":[\"embedded\"]},\"id\":\"2113\",\"type\":\"Row\"}],\"root_ids\":[\"2113\"]},\"title\":\"Bokeh Application\",\"version\":\"2.3.2\"}};\n",
       "    var render_items = [{\"docid\":\"48d1273f-1f84-49a1-aa1c-2fec84d5fbef\",\"root_ids\":[\"2113\"],\"roots\":{\"2113\":\"8d2fe13e-16f6-4afe-8851-96dde5a43123\"}}];\n",
       "    root.Bokeh.embed.embed_items_notebook(docs_json, render_items);\n",
       "  }\n",
       "  if (root.Bokeh !== undefined && root.Bokeh.Panel !== undefined) {\n",
       "    embed_document(root);\n",
       "  } else {\n",
       "    var attempts = 0;\n",
       "    var timer = setInterval(function(root) {\n",
       "      if (root.Bokeh !== undefined && root.Bokeh.Panel !== undefined) {\n",
       "        clearInterval(timer);\n",
       "        embed_document(root);\n",
       "      } else if (document.readyState == \"complete\") {\n",
       "        attempts++;\n",
       "        if (attempts > 100) {\n",
       "          clearInterval(timer);\n",
       "          console.log(\"Bokeh: ERROR: Unable to run BokehJS code because BokehJS library is missing\");\n",
       "        }\n",
       "      }\n",
       "    }, 10, root)\n",
       "  }\n",
       "})(window);</script>"
      ],
      "text/plain": [
       ":Overlay\n",
       "   .Curve.I  :Curve   [index]   (TotalEmployed_M)\n",
       "   .Curve.II :Curve   [index]   (TotalEmployed_F)"
      ]
     },
     "execution_count": 23,
     "metadata": {
      "application/vnd.holoviews_exec.v0+json": {
       "id": "2113"
      }
     },
     "output_type": "execute_result"
    }
   ],
   "source": [
    "males = emp_males.hvplot.line(xlabel='Year', ylabel='EmploymenRate', line_color='red', legend=True)\n",
    "females = emp_females.hvplot.line(xlabel='Year', ylabel='EmploymenRate',  line_color='blue')\n",
    "\n",
    "comb = males * females\n",
    "comb"
   ]
  },
  {
   "cell_type": "code",
   "execution_count": null,
   "id": "92f59ced",
   "metadata": {},
   "outputs": [],
   "source": []
  }
 ],
 "metadata": {
  "kernelspec": {
   "display_name": "Python [conda env:pyvizenv] *",
   "language": "python",
   "name": "conda-env-pyvizenv-py"
  },
  "language_info": {
   "codemirror_mode": {
    "name": "ipython",
    "version": 3
   },
   "file_extension": ".py",
   "mimetype": "text/x-python",
   "name": "python",
   "nbconvert_exporter": "python",
   "pygments_lexer": "ipython3",
   "version": "3.7.10"
  }
 },
 "nbformat": 4,
 "nbformat_minor": 5
}
