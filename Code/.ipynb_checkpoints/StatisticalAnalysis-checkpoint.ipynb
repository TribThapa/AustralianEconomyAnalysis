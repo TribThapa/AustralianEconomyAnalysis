{
 "cells": [
  {
   "cell_type": "code",
   "execution_count": null,
   "id": "a0612675",
   "metadata": {},
   "outputs": [
    {
     "data": {
      "application/javascript": [
       "\n",
       "(function(root) {\n",
       "  function now() {\n",
       "    return new Date();\n",
       "  }\n",
       "\n",
       "  var force = true;\n",
       "\n",
       "  if (typeof root._bokeh_onload_callbacks === \"undefined\" || force === true) {\n",
       "    root._bokeh_onload_callbacks = [];\n",
       "    root._bokeh_is_loading = undefined;\n",
       "  }\n",
       "\n",
       "  if (typeof (root._bokeh_timeout) === \"undefined\" || force === true) {\n",
       "    root._bokeh_timeout = Date.now() + 5000;\n",
       "    root._bokeh_failed_load = false;\n",
       "  }\n",
       "\n",
       "  function run_callbacks() {\n",
       "    try {\n",
       "      root._bokeh_onload_callbacks.forEach(function(callback) {\n",
       "        if (callback != null)\n",
       "          callback();\n",
       "      });\n",
       "    } finally {\n",
       "      delete root._bokeh_onload_callbacks\n",
       "    }\n",
       "    console.debug(\"Bokeh: all callbacks have finished\");\n",
       "  }\n",
       "\n",
       "  function load_libs(css_urls, js_urls, js_modules, callback) {\n",
       "    if (css_urls == null) css_urls = [];\n",
       "    if (js_urls == null) js_urls = [];\n",
       "    if (js_modules == null) js_modules = [];\n",
       "\n",
       "    root._bokeh_onload_callbacks.push(callback);\n",
       "    if (root._bokeh_is_loading > 0) {\n",
       "      console.debug(\"Bokeh: BokehJS is being loaded, scheduling callback at\", now());\n",
       "      return null;\n",
       "    }\n",
       "    if (js_urls.length === 0 && js_modules.length === 0) {\n",
       "      run_callbacks();\n",
       "      return null;\n",
       "    }\n",
       "    console.debug(\"Bokeh: BokehJS not loaded, scheduling load and callback at\", now());\n",
       "    root._bokeh_is_loading = css_urls.length + js_urls.length + js_modules.length;\n",
       "\n",
       "    function on_load() {\n",
       "      root._bokeh_is_loading--;\n",
       "      if (root._bokeh_is_loading === 0) {\n",
       "        console.debug(\"Bokeh: all BokehJS libraries/stylesheets loaded\");\n",
       "        run_callbacks()\n",
       "      }\n",
       "    }\n",
       "\n",
       "    function on_error() {\n",
       "      console.error(\"failed to load \" + url);\n",
       "    }\n",
       "\n",
       "    for (var i = 0; i < css_urls.length; i++) {\n",
       "      var url = css_urls[i];\n",
       "      const element = document.createElement(\"link\");\n",
       "      element.onload = on_load;\n",
       "      element.onerror = on_error;\n",
       "      element.rel = \"stylesheet\";\n",
       "      element.type = \"text/css\";\n",
       "      element.href = url;\n",
       "      console.debug(\"Bokeh: injecting link tag for BokehJS stylesheet: \", url);\n",
       "      document.body.appendChild(element);\n",
       "    }\n",
       "\n",
       "    var skip = [];\n",
       "    if (window.requirejs) {\n",
       "      window.requirejs.config({'paths': {'tabulator': 'https://unpkg.com/tabulator-tables@4.9.3/dist/js/tabulator'}});\n",
       "      window.requirejs.config({'paths': {'plotly': 'https://cdn.plot.ly/plotly-latest.min'}});\n",
       "      require([\"tabulator\", \"plotly\"], function(Tabulator,Plotly,) {\n",
       "        window.Tabulator = Tabulator;\n",
       "        window.Plotly = Plotly;\n",
       "      })\n",
       "    }\n",
       "    if (((window['tabulator'] !== undefined) && (!(window['tabulator'] instanceof HTMLElement))) || window.requirejs) {\n",
       "      var urls = ['https://unpkg.com/tabulator-tables@4.9.3/dist/js/tabulator.js', 'https://unpkg.com/moment@2.27.0/moment.js'];\n",
       "      for (var i = 0; i < urls.length; i++) {\n",
       "        skip.push(urls[i])\n",
       "      }\n",
       "    }\n",
       "    if (((window['Plotly'] !== undefined) && (!(window['Plotly'] instanceof HTMLElement))) || window.requirejs) {\n",
       "      var urls = ['https://cdn.plot.ly/plotly-latest.min.js'];\n",
       "      for (var i = 0; i < urls.length; i++) {\n",
       "        skip.push(urls[i])\n",
       "      }\n",
       "    }\n",
       "    for (var i = 0; i < js_urls.length; i++) {\n",
       "      var url = js_urls[i];\n",
       "      if (skip.indexOf(url) >= 0) { on_load(); continue; }\n",
       "      var element = document.createElement('script');\n",
       "      element.onload = on_load;\n",
       "      element.onerror = on_error;\n",
       "      element.async = false;\n",
       "      element.src = url;\n",
       "      console.debug(\"Bokeh: injecting script tag for BokehJS library: \", url);\n",
       "      document.head.appendChild(element);\n",
       "    }\n",
       "    for (var i = 0; i < js_modules.length; i++) {\n",
       "      var url = js_modules[i];\n",
       "      if (skip.indexOf(url) >= 0) { on_load(); continue; }\n",
       "      var element = document.createElement('script');\n",
       "      element.onload = on_load;\n",
       "      element.onerror = on_error;\n",
       "      element.async = false;\n",
       "      element.src = url;\n",
       "      element.type = \"module\";\n",
       "      console.debug(\"Bokeh: injecting script tag for BokehJS library: \", url);\n",
       "      document.head.appendChild(element);\n",
       "    }\n",
       "    if (!js_urls.length && !js_modules.length) {\n",
       "      on_load()\n",
       "    }\n",
       "  };\n",
       "\n",
       "  function inject_raw_css(css) {\n",
       "    const element = document.createElement(\"style\");\n",
       "    element.appendChild(document.createTextNode(css));\n",
       "    document.body.appendChild(element);\n",
       "  }\n",
       "\n",
       "  var js_urls = [\"https://code.jquery.com/jquery-3.4.1.min.js\", \"https://cdn.plot.ly/plotly-latest.min.js\", \"https://unpkg.com/tabulator-tables@4.9.3/dist/js/tabulator.js\", \"https://unpkg.com/moment@2.27.0/moment.js\", \"https://cdn.bokeh.org/bokeh/release/bokeh-2.3.2.min.js\", \"https://cdn.bokeh.org/bokeh/release/bokeh-widgets-2.3.2.min.js\", \"https://cdn.bokeh.org/bokeh/release/bokeh-tables-2.3.2.min.js\", \"https://unpkg.com/@holoviz/panel@^0.11.3/dist/panel.min.js\"];\n",
       "  var js_modules = [];\n",
       "  var css_urls = [\"https://unpkg.com/tabulator-tables@4.9.3/dist/css/tabulator_simple.min.css\", \"https://unpkg.com/@holoviz/panel@0.11.3/dist/css/alerts.css\", \"https://unpkg.com/@holoviz/panel@0.11.3/dist/css/card.css\", \"https://unpkg.com/@holoviz/panel@0.11.3/dist/css/dataframe.css\", \"https://unpkg.com/@holoviz/panel@0.11.3/dist/css/json.css\", \"https://unpkg.com/@holoviz/panel@0.11.3/dist/css/loading.css\", \"https://unpkg.com/@holoviz/panel@0.11.3/dist/css/markdown.css\", \"https://unpkg.com/@holoviz/panel@0.11.3/dist/css/widgets.css\"];\n",
       "  var inline_js = [\n",
       "    function(Bokeh) {\n",
       "      inject_raw_css(\"\\n    .bk.pn-loading.arcs:before {\\n      background-image: url(\\\"data:image/svg+xml;base64,PHN2ZyB4bWxucz0iaHR0cDovL3d3dy53My5vcmcvMjAwMC9zdmciIHhtbG5zOnhsaW5rPSJodHRwOi8vd3d3LnczLm9yZy8xOTk5L3hsaW5rIiBzdHlsZT0ibWFyZ2luOiBhdXRvOyBiYWNrZ3JvdW5kOiBub25lOyBkaXNwbGF5OiBibG9jazsgc2hhcGUtcmVuZGVyaW5nOiBhdXRvOyIgdmlld0JveD0iMCAwIDEwMCAxMDAiIHByZXNlcnZlQXNwZWN0UmF0aW89InhNaWRZTWlkIj4gIDxjaXJjbGUgY3g9IjUwIiBjeT0iNTAiIHI9IjMyIiBzdHJva2Utd2lkdGg9IjgiIHN0cm9rZT0iI2MzYzNjMyIgc3Ryb2tlLWRhc2hhcnJheT0iNTAuMjY1NDgyNDU3NDM2NjkgNTAuMjY1NDgyNDU3NDM2NjkiIGZpbGw9Im5vbmUiIHN0cm9rZS1saW5lY2FwPSJyb3VuZCI+ICAgIDxhbmltYXRlVHJhbnNmb3JtIGF0dHJpYnV0ZU5hbWU9InRyYW5zZm9ybSIgdHlwZT0icm90YXRlIiByZXBlYXRDb3VudD0iaW5kZWZpbml0ZSIgZHVyPSIxcyIga2V5VGltZXM9IjA7MSIgdmFsdWVzPSIwIDUwIDUwOzM2MCA1MCA1MCI+PC9hbmltYXRlVHJhbnNmb3JtPiAgPC9jaXJjbGU+PC9zdmc+\\\")\\n    }\\n    \");\n",
       "    },\n",
       "    function(Bokeh) {\n",
       "      Bokeh.set_log_level(\"info\");\n",
       "    },\n",
       "    function(Bokeh) {} // ensure no trailing comma for IE\n",
       "  ];\n",
       "\n",
       "  function run_inline_js() {\n",
       "    if ((root.Bokeh !== undefined) || (force === true)) {\n",
       "      for (var i = 0; i < inline_js.length; i++) {\n",
       "        inline_js[i].call(root, root.Bokeh);\n",
       "      }} else if (Date.now() < root._bokeh_timeout) {\n",
       "      setTimeout(run_inline_js, 100);\n",
       "    } else if (!root._bokeh_failed_load) {\n",
       "      console.log(\"Bokeh: BokehJS failed to load within specified timeout.\");\n",
       "      root._bokeh_failed_load = true;\n",
       "    }\n",
       "  }\n",
       "\n",
       "  if (root._bokeh_is_loading === 0) {\n",
       "    console.debug(\"Bokeh: BokehJS loaded, going straight to plotting\");\n",
       "    run_inline_js();\n",
       "  } else {\n",
       "    load_libs(css_urls, js_urls, js_modules, function() {\n",
       "      console.debug(\"Bokeh: BokehJS plotting callback run at\", now());\n",
       "      run_inline_js();\n",
       "    });\n",
       "  }\n",
       "}(window));"
      ],
      "application/vnd.holoviews_load.v0+json": "\n(function(root) {\n  function now() {\n    return new Date();\n  }\n\n  var force = true;\n\n  if (typeof root._bokeh_onload_callbacks === \"undefined\" || force === true) {\n    root._bokeh_onload_callbacks = [];\n    root._bokeh_is_loading = undefined;\n  }\n\n  if (typeof (root._bokeh_timeout) === \"undefined\" || force === true) {\n    root._bokeh_timeout = Date.now() + 5000;\n    root._bokeh_failed_load = false;\n  }\n\n  function run_callbacks() {\n    try {\n      root._bokeh_onload_callbacks.forEach(function(callback) {\n        if (callback != null)\n          callback();\n      });\n    } finally {\n      delete root._bokeh_onload_callbacks\n    }\n    console.debug(\"Bokeh: all callbacks have finished\");\n  }\n\n  function load_libs(css_urls, js_urls, js_modules, callback) {\n    if (css_urls == null) css_urls = [];\n    if (js_urls == null) js_urls = [];\n    if (js_modules == null) js_modules = [];\n\n    root._bokeh_onload_callbacks.push(callback);\n    if (root._bokeh_is_loading > 0) {\n      console.debug(\"Bokeh: BokehJS is being loaded, scheduling callback at\", now());\n      return null;\n    }\n    if (js_urls.length === 0 && js_modules.length === 0) {\n      run_callbacks();\n      return null;\n    }\n    console.debug(\"Bokeh: BokehJS not loaded, scheduling load and callback at\", now());\n    root._bokeh_is_loading = css_urls.length + js_urls.length + js_modules.length;\n\n    function on_load() {\n      root._bokeh_is_loading--;\n      if (root._bokeh_is_loading === 0) {\n        console.debug(\"Bokeh: all BokehJS libraries/stylesheets loaded\");\n        run_callbacks()\n      }\n    }\n\n    function on_error() {\n      console.error(\"failed to load \" + url);\n    }\n\n    for (var i = 0; i < css_urls.length; i++) {\n      var url = css_urls[i];\n      const element = document.createElement(\"link\");\n      element.onload = on_load;\n      element.onerror = on_error;\n      element.rel = \"stylesheet\";\n      element.type = \"text/css\";\n      element.href = url;\n      console.debug(\"Bokeh: injecting link tag for BokehJS stylesheet: \", url);\n      document.body.appendChild(element);\n    }\n\n    var skip = [];\n    if (window.requirejs) {\n      window.requirejs.config({'paths': {'tabulator': 'https://unpkg.com/tabulator-tables@4.9.3/dist/js/tabulator'}});\n      window.requirejs.config({'paths': {'plotly': 'https://cdn.plot.ly/plotly-latest.min'}});\n      require([\"tabulator\", \"plotly\"], function(Tabulator,Plotly,) {\n        window.Tabulator = Tabulator;\n        window.Plotly = Plotly;\n      })\n    }\n    if (((window['tabulator'] !== undefined) && (!(window['tabulator'] instanceof HTMLElement))) || window.requirejs) {\n      var urls = ['https://unpkg.com/tabulator-tables@4.9.3/dist/js/tabulator.js', 'https://unpkg.com/moment@2.27.0/moment.js'];\n      for (var i = 0; i < urls.length; i++) {\n        skip.push(urls[i])\n      }\n    }\n    if (((window['Plotly'] !== undefined) && (!(window['Plotly'] instanceof HTMLElement))) || window.requirejs) {\n      var urls = ['https://cdn.plot.ly/plotly-latest.min.js'];\n      for (var i = 0; i < urls.length; i++) {\n        skip.push(urls[i])\n      }\n    }\n    for (var i = 0; i < js_urls.length; i++) {\n      var url = js_urls[i];\n      if (skip.indexOf(url) >= 0) { on_load(); continue; }\n      var element = document.createElement('script');\n      element.onload = on_load;\n      element.onerror = on_error;\n      element.async = false;\n      element.src = url;\n      console.debug(\"Bokeh: injecting script tag for BokehJS library: \", url);\n      document.head.appendChild(element);\n    }\n    for (var i = 0; i < js_modules.length; i++) {\n      var url = js_modules[i];\n      if (skip.indexOf(url) >= 0) { on_load(); continue; }\n      var element = document.createElement('script');\n      element.onload = on_load;\n      element.onerror = on_error;\n      element.async = false;\n      element.src = url;\n      element.type = \"module\";\n      console.debug(\"Bokeh: injecting script tag for BokehJS library: \", url);\n      document.head.appendChild(element);\n    }\n    if (!js_urls.length && !js_modules.length) {\n      on_load()\n    }\n  };\n\n  function inject_raw_css(css) {\n    const element = document.createElement(\"style\");\n    element.appendChild(document.createTextNode(css));\n    document.body.appendChild(element);\n  }\n\n  var js_urls = [\"https://code.jquery.com/jquery-3.4.1.min.js\", \"https://cdn.plot.ly/plotly-latest.min.js\", \"https://unpkg.com/tabulator-tables@4.9.3/dist/js/tabulator.js\", \"https://unpkg.com/moment@2.27.0/moment.js\", \"https://cdn.bokeh.org/bokeh/release/bokeh-2.3.2.min.js\", \"https://cdn.bokeh.org/bokeh/release/bokeh-widgets-2.3.2.min.js\", \"https://cdn.bokeh.org/bokeh/release/bokeh-tables-2.3.2.min.js\", \"https://unpkg.com/@holoviz/panel@^0.11.3/dist/panel.min.js\"];\n  var js_modules = [];\n  var css_urls = [\"https://unpkg.com/tabulator-tables@4.9.3/dist/css/tabulator_simple.min.css\", \"https://unpkg.com/@holoviz/panel@0.11.3/dist/css/alerts.css\", \"https://unpkg.com/@holoviz/panel@0.11.3/dist/css/card.css\", \"https://unpkg.com/@holoviz/panel@0.11.3/dist/css/dataframe.css\", \"https://unpkg.com/@holoviz/panel@0.11.3/dist/css/json.css\", \"https://unpkg.com/@holoviz/panel@0.11.3/dist/css/loading.css\", \"https://unpkg.com/@holoviz/panel@0.11.3/dist/css/markdown.css\", \"https://unpkg.com/@holoviz/panel@0.11.3/dist/css/widgets.css\"];\n  var inline_js = [\n    function(Bokeh) {\n      inject_raw_css(\"\\n    .bk.pn-loading.arcs:before {\\n      background-image: url(\\\"data:image/svg+xml;base64,PHN2ZyB4bWxucz0iaHR0cDovL3d3dy53My5vcmcvMjAwMC9zdmciIHhtbG5zOnhsaW5rPSJodHRwOi8vd3d3LnczLm9yZy8xOTk5L3hsaW5rIiBzdHlsZT0ibWFyZ2luOiBhdXRvOyBiYWNrZ3JvdW5kOiBub25lOyBkaXNwbGF5OiBibG9jazsgc2hhcGUtcmVuZGVyaW5nOiBhdXRvOyIgdmlld0JveD0iMCAwIDEwMCAxMDAiIHByZXNlcnZlQXNwZWN0UmF0aW89InhNaWRZTWlkIj4gIDxjaXJjbGUgY3g9IjUwIiBjeT0iNTAiIHI9IjMyIiBzdHJva2Utd2lkdGg9IjgiIHN0cm9rZT0iI2MzYzNjMyIgc3Ryb2tlLWRhc2hhcnJheT0iNTAuMjY1NDgyNDU3NDM2NjkgNTAuMjY1NDgyNDU3NDM2NjkiIGZpbGw9Im5vbmUiIHN0cm9rZS1saW5lY2FwPSJyb3VuZCI+ICAgIDxhbmltYXRlVHJhbnNmb3JtIGF0dHJpYnV0ZU5hbWU9InRyYW5zZm9ybSIgdHlwZT0icm90YXRlIiByZXBlYXRDb3VudD0iaW5kZWZpbml0ZSIgZHVyPSIxcyIga2V5VGltZXM9IjA7MSIgdmFsdWVzPSIwIDUwIDUwOzM2MCA1MCA1MCI+PC9hbmltYXRlVHJhbnNmb3JtPiAgPC9jaXJjbGU+PC9zdmc+\\\")\\n    }\\n    \");\n    },\n    function(Bokeh) {\n      Bokeh.set_log_level(\"info\");\n    },\n    function(Bokeh) {} // ensure no trailing comma for IE\n  ];\n\n  function run_inline_js() {\n    if ((root.Bokeh !== undefined) || (force === true)) {\n      for (var i = 0; i < inline_js.length; i++) {\n        inline_js[i].call(root, root.Bokeh);\n      }} else if (Date.now() < root._bokeh_timeout) {\n      setTimeout(run_inline_js, 100);\n    } else if (!root._bokeh_failed_load) {\n      console.log(\"Bokeh: BokehJS failed to load within specified timeout.\");\n      root._bokeh_failed_load = true;\n    }\n  }\n\n  if (root._bokeh_is_loading === 0) {\n    console.debug(\"Bokeh: BokehJS loaded, going straight to plotting\");\n    run_inline_js();\n  } else {\n    load_libs(css_urls, js_urls, js_modules, function() {\n      console.debug(\"Bokeh: BokehJS plotting callback run at\", now());\n      run_inline_js();\n    });\n  }\n}(window));"
     },
     "metadata": {},
     "output_type": "display_data"
    },
    {
     "data": {
      "application/javascript": [
       "\n",
       "if ((window.PyViz === undefined) || (window.PyViz instanceof HTMLElement)) {\n",
       "  window.PyViz = {comms: {}, comm_status:{}, kernels:{}, receivers: {}, plot_index: []}\n",
       "}\n",
       "\n",
       "\n",
       "    function JupyterCommManager() {\n",
       "    }\n",
       "\n",
       "    JupyterCommManager.prototype.register_target = function(plot_id, comm_id, msg_handler) {\n",
       "      if (window.comm_manager || ((window.Jupyter !== undefined) && (Jupyter.notebook.kernel != null))) {\n",
       "        var comm_manager = window.comm_manager || Jupyter.notebook.kernel.comm_manager;\n",
       "        comm_manager.register_target(comm_id, function(comm) {\n",
       "          comm.on_msg(msg_handler);\n",
       "        });\n",
       "      } else if ((plot_id in window.PyViz.kernels) && (window.PyViz.kernels[plot_id])) {\n",
       "        window.PyViz.kernels[plot_id].registerCommTarget(comm_id, function(comm) {\n",
       "          comm.onMsg = msg_handler;\n",
       "        });\n",
       "      } else if (typeof google != 'undefined' && google.colab.kernel != null) {\n",
       "        google.colab.kernel.comms.registerTarget(comm_id, (comm) => {\n",
       "          var messages = comm.messages[Symbol.asyncIterator]();\n",
       "          function processIteratorResult(result) {\n",
       "            var message = result.value;\n",
       "            console.log(message)\n",
       "            var content = {data: message.data, comm_id};\n",
       "            var buffers = []\n",
       "            for (var buffer of message.buffers || []) {\n",
       "              buffers.push(new DataView(buffer))\n",
       "            }\n",
       "            var metadata = message.metadata || {};\n",
       "            var msg = {content, buffers, metadata}\n",
       "            msg_handler(msg);\n",
       "            return messages.next().then(processIteratorResult);\n",
       "          }\n",
       "          return messages.next().then(processIteratorResult);\n",
       "        })\n",
       "      }\n",
       "    }\n",
       "\n",
       "    JupyterCommManager.prototype.get_client_comm = function(plot_id, comm_id, msg_handler) {\n",
       "      if (comm_id in window.PyViz.comms) {\n",
       "        return window.PyViz.comms[comm_id];\n",
       "      } else if (window.comm_manager || ((window.Jupyter !== undefined) && (Jupyter.notebook.kernel != null))) {\n",
       "        var comm_manager = window.comm_manager || Jupyter.notebook.kernel.comm_manager;\n",
       "        var comm = comm_manager.new_comm(comm_id, {}, {}, {}, comm_id);\n",
       "        if (msg_handler) {\n",
       "          comm.on_msg(msg_handler);\n",
       "        }\n",
       "      } else if ((plot_id in window.PyViz.kernels) && (window.PyViz.kernels[plot_id])) {\n",
       "        var comm = window.PyViz.kernels[plot_id].connectToComm(comm_id);\n",
       "        comm.open();\n",
       "        if (msg_handler) {\n",
       "          comm.onMsg = msg_handler;\n",
       "        }\n",
       "      } else if (typeof google != 'undefined' && google.colab.kernel != null) {\n",
       "        var comm_promise = google.colab.kernel.comms.open(comm_id)\n",
       "        comm_promise.then((comm) => {\n",
       "          window.PyViz.comms[comm_id] = comm;\n",
       "          if (msg_handler) {\n",
       "            var messages = comm.messages[Symbol.asyncIterator]();\n",
       "            function processIteratorResult(result) {\n",
       "              var message = result.value;\n",
       "              var content = {data: message.data};\n",
       "              var metadata = message.metadata || {comm_id};\n",
       "              var msg = {content, metadata}\n",
       "              msg_handler(msg);\n",
       "              return messages.next().then(processIteratorResult);\n",
       "            }\n",
       "            return messages.next().then(processIteratorResult);\n",
       "          }\n",
       "        }) \n",
       "        var sendClosure = (data, metadata, buffers, disposeOnDone) => {\n",
       "          return comm_promise.then((comm) => {\n",
       "            comm.send(data, metadata, buffers, disposeOnDone);\n",
       "          });\n",
       "        };\n",
       "        var comm = {\n",
       "          send: sendClosure\n",
       "        };\n",
       "      }\n",
       "      window.PyViz.comms[comm_id] = comm;\n",
       "      return comm;\n",
       "    }\n",
       "    window.PyViz.comm_manager = new JupyterCommManager();\n",
       "    \n",
       "\n",
       "\n",
       "var JS_MIME_TYPE = 'application/javascript';\n",
       "var HTML_MIME_TYPE = 'text/html';\n",
       "var EXEC_MIME_TYPE = 'application/vnd.holoviews_exec.v0+json';\n",
       "var CLASS_NAME = 'output';\n",
       "\n",
       "/**\n",
       " * Render data to the DOM node\n",
       " */\n",
       "function render(props, node) {\n",
       "  var div = document.createElement(\"div\");\n",
       "  var script = document.createElement(\"script\");\n",
       "  node.appendChild(div);\n",
       "  node.appendChild(script);\n",
       "}\n",
       "\n",
       "/**\n",
       " * Handle when a new output is added\n",
       " */\n",
       "function handle_add_output(event, handle) {\n",
       "  var output_area = handle.output_area;\n",
       "  var output = handle.output;\n",
       "  if ((output.data == undefined) || (!output.data.hasOwnProperty(EXEC_MIME_TYPE))) {\n",
       "    return\n",
       "  }\n",
       "  var id = output.metadata[EXEC_MIME_TYPE][\"id\"];\n",
       "  var toinsert = output_area.element.find(\".\" + CLASS_NAME.split(' ')[0]);\n",
       "  if (id !== undefined) {\n",
       "    var nchildren = toinsert.length;\n",
       "    var html_node = toinsert[nchildren-1].children[0];\n",
       "    html_node.innerHTML = output.data[HTML_MIME_TYPE];\n",
       "    var scripts = [];\n",
       "    var nodelist = html_node.querySelectorAll(\"script\");\n",
       "    for (var i in nodelist) {\n",
       "      if (nodelist.hasOwnProperty(i)) {\n",
       "        scripts.push(nodelist[i])\n",
       "      }\n",
       "    }\n",
       "\n",
       "    scripts.forEach( function (oldScript) {\n",
       "      var newScript = document.createElement(\"script\");\n",
       "      var attrs = [];\n",
       "      var nodemap = oldScript.attributes;\n",
       "      for (var j in nodemap) {\n",
       "        if (nodemap.hasOwnProperty(j)) {\n",
       "          attrs.push(nodemap[j])\n",
       "        }\n",
       "      }\n",
       "      attrs.forEach(function(attr) { newScript.setAttribute(attr.name, attr.value) });\n",
       "      newScript.appendChild(document.createTextNode(oldScript.innerHTML));\n",
       "      oldScript.parentNode.replaceChild(newScript, oldScript);\n",
       "    });\n",
       "    if (JS_MIME_TYPE in output.data) {\n",
       "      toinsert[nchildren-1].children[1].textContent = output.data[JS_MIME_TYPE];\n",
       "    }\n",
       "    output_area._hv_plot_id = id;\n",
       "    if ((window.Bokeh !== undefined) && (id in Bokeh.index)) {\n",
       "      window.PyViz.plot_index[id] = Bokeh.index[id];\n",
       "    } else {\n",
       "      window.PyViz.plot_index[id] = null;\n",
       "    }\n",
       "  } else if (output.metadata[EXEC_MIME_TYPE][\"server_id\"] !== undefined) {\n",
       "    var bk_div = document.createElement(\"div\");\n",
       "    bk_div.innerHTML = output.data[HTML_MIME_TYPE];\n",
       "    var script_attrs = bk_div.children[0].attributes;\n",
       "    for (var i = 0; i < script_attrs.length; i++) {\n",
       "      toinsert[toinsert.length - 1].childNodes[1].setAttribute(script_attrs[i].name, script_attrs[i].value);\n",
       "    }\n",
       "    // store reference to server id on output_area\n",
       "    output_area._bokeh_server_id = output.metadata[EXEC_MIME_TYPE][\"server_id\"];\n",
       "  }\n",
       "}\n",
       "\n",
       "/**\n",
       " * Handle when an output is cleared or removed\n",
       " */\n",
       "function handle_clear_output(event, handle) {\n",
       "  var id = handle.cell.output_area._hv_plot_id;\n",
       "  var server_id = handle.cell.output_area._bokeh_server_id;\n",
       "  if (((id === undefined) || !(id in PyViz.plot_index)) && (server_id !== undefined)) { return; }\n",
       "  var comm = window.PyViz.comm_manager.get_client_comm(\"hv-extension-comm\", \"hv-extension-comm\", function () {});\n",
       "  if (server_id !== null) {\n",
       "    comm.send({event_type: 'server_delete', 'id': server_id});\n",
       "    return;\n",
       "  } else if (comm !== null) {\n",
       "    comm.send({event_type: 'delete', 'id': id});\n",
       "  }\n",
       "  delete PyViz.plot_index[id];\n",
       "  if ((window.Bokeh !== undefined) & (id in window.Bokeh.index)) {\n",
       "    var doc = window.Bokeh.index[id].model.document\n",
       "    doc.clear();\n",
       "    const i = window.Bokeh.documents.indexOf(doc);\n",
       "    if (i > -1) {\n",
       "      window.Bokeh.documents.splice(i, 1);\n",
       "    }\n",
       "  }\n",
       "}\n",
       "\n",
       "/**\n",
       " * Handle kernel restart event\n",
       " */\n",
       "function handle_kernel_cleanup(event, handle) {\n",
       "  delete PyViz.comms[\"hv-extension-comm\"];\n",
       "  window.PyViz.plot_index = {}\n",
       "}\n",
       "\n",
       "/**\n",
       " * Handle update_display_data messages\n",
       " */\n",
       "function handle_update_output(event, handle) {\n",
       "  handle_clear_output(event, {cell: {output_area: handle.output_area}})\n",
       "  handle_add_output(event, handle)\n",
       "}\n",
       "\n",
       "function register_renderer(events, OutputArea) {\n",
       "  function append_mime(data, metadata, element) {\n",
       "    // create a DOM node to render to\n",
       "    var toinsert = this.create_output_subarea(\n",
       "    metadata,\n",
       "    CLASS_NAME,\n",
       "    EXEC_MIME_TYPE\n",
       "    );\n",
       "    this.keyboard_manager.register_events(toinsert);\n",
       "    // Render to node\n",
       "    var props = {data: data, metadata: metadata[EXEC_MIME_TYPE]};\n",
       "    render(props, toinsert[0]);\n",
       "    element.append(toinsert);\n",
       "    return toinsert\n",
       "  }\n",
       "\n",
       "  events.on('output_added.OutputArea', handle_add_output);\n",
       "  events.on('output_updated.OutputArea', handle_update_output);\n",
       "  events.on('clear_output.CodeCell', handle_clear_output);\n",
       "  events.on('delete.Cell', handle_clear_output);\n",
       "  events.on('kernel_ready.Kernel', handle_kernel_cleanup);\n",
       "\n",
       "  OutputArea.prototype.register_mime_type(EXEC_MIME_TYPE, append_mime, {\n",
       "    safe: true,\n",
       "    index: 0\n",
       "  });\n",
       "}\n",
       "\n",
       "if (window.Jupyter !== undefined) {\n",
       "  try {\n",
       "    var events = require('base/js/events');\n",
       "    var OutputArea = require('notebook/js/outputarea').OutputArea;\n",
       "    if (OutputArea.prototype.mime_types().indexOf(EXEC_MIME_TYPE) == -1) {\n",
       "      register_renderer(events, OutputArea);\n",
       "    }\n",
       "  } catch(err) {\n",
       "  }\n",
       "}\n"
      ],
      "application/vnd.holoviews_load.v0+json": "\nif ((window.PyViz === undefined) || (window.PyViz instanceof HTMLElement)) {\n  window.PyViz = {comms: {}, comm_status:{}, kernels:{}, receivers: {}, plot_index: []}\n}\n\n\n    function JupyterCommManager() {\n    }\n\n    JupyterCommManager.prototype.register_target = function(plot_id, comm_id, msg_handler) {\n      if (window.comm_manager || ((window.Jupyter !== undefined) && (Jupyter.notebook.kernel != null))) {\n        var comm_manager = window.comm_manager || Jupyter.notebook.kernel.comm_manager;\n        comm_manager.register_target(comm_id, function(comm) {\n          comm.on_msg(msg_handler);\n        });\n      } else if ((plot_id in window.PyViz.kernels) && (window.PyViz.kernels[plot_id])) {\n        window.PyViz.kernels[plot_id].registerCommTarget(comm_id, function(comm) {\n          comm.onMsg = msg_handler;\n        });\n      } else if (typeof google != 'undefined' && google.colab.kernel != null) {\n        google.colab.kernel.comms.registerTarget(comm_id, (comm) => {\n          var messages = comm.messages[Symbol.asyncIterator]();\n          function processIteratorResult(result) {\n            var message = result.value;\n            console.log(message)\n            var content = {data: message.data, comm_id};\n            var buffers = []\n            for (var buffer of message.buffers || []) {\n              buffers.push(new DataView(buffer))\n            }\n            var metadata = message.metadata || {};\n            var msg = {content, buffers, metadata}\n            msg_handler(msg);\n            return messages.next().then(processIteratorResult);\n          }\n          return messages.next().then(processIteratorResult);\n        })\n      }\n    }\n\n    JupyterCommManager.prototype.get_client_comm = function(plot_id, comm_id, msg_handler) {\n      if (comm_id in window.PyViz.comms) {\n        return window.PyViz.comms[comm_id];\n      } else if (window.comm_manager || ((window.Jupyter !== undefined) && (Jupyter.notebook.kernel != null))) {\n        var comm_manager = window.comm_manager || Jupyter.notebook.kernel.comm_manager;\n        var comm = comm_manager.new_comm(comm_id, {}, {}, {}, comm_id);\n        if (msg_handler) {\n          comm.on_msg(msg_handler);\n        }\n      } else if ((plot_id in window.PyViz.kernels) && (window.PyViz.kernels[plot_id])) {\n        var comm = window.PyViz.kernels[plot_id].connectToComm(comm_id);\n        comm.open();\n        if (msg_handler) {\n          comm.onMsg = msg_handler;\n        }\n      } else if (typeof google != 'undefined' && google.colab.kernel != null) {\n        var comm_promise = google.colab.kernel.comms.open(comm_id)\n        comm_promise.then((comm) => {\n          window.PyViz.comms[comm_id] = comm;\n          if (msg_handler) {\n            var messages = comm.messages[Symbol.asyncIterator]();\n            function processIteratorResult(result) {\n              var message = result.value;\n              var content = {data: message.data};\n              var metadata = message.metadata || {comm_id};\n              var msg = {content, metadata}\n              msg_handler(msg);\n              return messages.next().then(processIteratorResult);\n            }\n            return messages.next().then(processIteratorResult);\n          }\n        }) \n        var sendClosure = (data, metadata, buffers, disposeOnDone) => {\n          return comm_promise.then((comm) => {\n            comm.send(data, metadata, buffers, disposeOnDone);\n          });\n        };\n        var comm = {\n          send: sendClosure\n        };\n      }\n      window.PyViz.comms[comm_id] = comm;\n      return comm;\n    }\n    window.PyViz.comm_manager = new JupyterCommManager();\n    \n\n\nvar JS_MIME_TYPE = 'application/javascript';\nvar HTML_MIME_TYPE = 'text/html';\nvar EXEC_MIME_TYPE = 'application/vnd.holoviews_exec.v0+json';\nvar CLASS_NAME = 'output';\n\n/**\n * Render data to the DOM node\n */\nfunction render(props, node) {\n  var div = document.createElement(\"div\");\n  var script = document.createElement(\"script\");\n  node.appendChild(div);\n  node.appendChild(script);\n}\n\n/**\n * Handle when a new output is added\n */\nfunction handle_add_output(event, handle) {\n  var output_area = handle.output_area;\n  var output = handle.output;\n  if ((output.data == undefined) || (!output.data.hasOwnProperty(EXEC_MIME_TYPE))) {\n    return\n  }\n  var id = output.metadata[EXEC_MIME_TYPE][\"id\"];\n  var toinsert = output_area.element.find(\".\" + CLASS_NAME.split(' ')[0]);\n  if (id !== undefined) {\n    var nchildren = toinsert.length;\n    var html_node = toinsert[nchildren-1].children[0];\n    html_node.innerHTML = output.data[HTML_MIME_TYPE];\n    var scripts = [];\n    var nodelist = html_node.querySelectorAll(\"script\");\n    for (var i in nodelist) {\n      if (nodelist.hasOwnProperty(i)) {\n        scripts.push(nodelist[i])\n      }\n    }\n\n    scripts.forEach( function (oldScript) {\n      var newScript = document.createElement(\"script\");\n      var attrs = [];\n      var nodemap = oldScript.attributes;\n      for (var j in nodemap) {\n        if (nodemap.hasOwnProperty(j)) {\n          attrs.push(nodemap[j])\n        }\n      }\n      attrs.forEach(function(attr) { newScript.setAttribute(attr.name, attr.value) });\n      newScript.appendChild(document.createTextNode(oldScript.innerHTML));\n      oldScript.parentNode.replaceChild(newScript, oldScript);\n    });\n    if (JS_MIME_TYPE in output.data) {\n      toinsert[nchildren-1].children[1].textContent = output.data[JS_MIME_TYPE];\n    }\n    output_area._hv_plot_id = id;\n    if ((window.Bokeh !== undefined) && (id in Bokeh.index)) {\n      window.PyViz.plot_index[id] = Bokeh.index[id];\n    } else {\n      window.PyViz.plot_index[id] = null;\n    }\n  } else if (output.metadata[EXEC_MIME_TYPE][\"server_id\"] !== undefined) {\n    var bk_div = document.createElement(\"div\");\n    bk_div.innerHTML = output.data[HTML_MIME_TYPE];\n    var script_attrs = bk_div.children[0].attributes;\n    for (var i = 0; i < script_attrs.length; i++) {\n      toinsert[toinsert.length - 1].childNodes[1].setAttribute(script_attrs[i].name, script_attrs[i].value);\n    }\n    // store reference to server id on output_area\n    output_area._bokeh_server_id = output.metadata[EXEC_MIME_TYPE][\"server_id\"];\n  }\n}\n\n/**\n * Handle when an output is cleared or removed\n */\nfunction handle_clear_output(event, handle) {\n  var id = handle.cell.output_area._hv_plot_id;\n  var server_id = handle.cell.output_area._bokeh_server_id;\n  if (((id === undefined) || !(id in PyViz.plot_index)) && (server_id !== undefined)) { return; }\n  var comm = window.PyViz.comm_manager.get_client_comm(\"hv-extension-comm\", \"hv-extension-comm\", function () {});\n  if (server_id !== null) {\n    comm.send({event_type: 'server_delete', 'id': server_id});\n    return;\n  } else if (comm !== null) {\n    comm.send({event_type: 'delete', 'id': id});\n  }\n  delete PyViz.plot_index[id];\n  if ((window.Bokeh !== undefined) & (id in window.Bokeh.index)) {\n    var doc = window.Bokeh.index[id].model.document\n    doc.clear();\n    const i = window.Bokeh.documents.indexOf(doc);\n    if (i > -1) {\n      window.Bokeh.documents.splice(i, 1);\n    }\n  }\n}\n\n/**\n * Handle kernel restart event\n */\nfunction handle_kernel_cleanup(event, handle) {\n  delete PyViz.comms[\"hv-extension-comm\"];\n  window.PyViz.plot_index = {}\n}\n\n/**\n * Handle update_display_data messages\n */\nfunction handle_update_output(event, handle) {\n  handle_clear_output(event, {cell: {output_area: handle.output_area}})\n  handle_add_output(event, handle)\n}\n\nfunction register_renderer(events, OutputArea) {\n  function append_mime(data, metadata, element) {\n    // create a DOM node to render to\n    var toinsert = this.create_output_subarea(\n    metadata,\n    CLASS_NAME,\n    EXEC_MIME_TYPE\n    );\n    this.keyboard_manager.register_events(toinsert);\n    // Render to node\n    var props = {data: data, metadata: metadata[EXEC_MIME_TYPE]};\n    render(props, toinsert[0]);\n    element.append(toinsert);\n    return toinsert\n  }\n\n  events.on('output_added.OutputArea', handle_add_output);\n  events.on('output_updated.OutputArea', handle_update_output);\n  events.on('clear_output.CodeCell', handle_clear_output);\n  events.on('delete.Cell', handle_clear_output);\n  events.on('kernel_ready.Kernel', handle_kernel_cleanup);\n\n  OutputArea.prototype.register_mime_type(EXEC_MIME_TYPE, append_mime, {\n    safe: true,\n    index: 0\n  });\n}\n\nif (window.Jupyter !== undefined) {\n  try {\n    var events = require('base/js/events');\n    var OutputArea = require('notebook/js/outputarea').OutputArea;\n    if (OutputArea.prototype.mime_types().indexOf(EXEC_MIME_TYPE) == -1) {\n      register_renderer(events, OutputArea);\n    }\n  } catch(err) {\n  }\n}\n"
     },
     "metadata": {},
     "output_type": "display_data"
    }
   ],
   "source": [
    "import os\n",
    "import numpy as np\n",
    "import panel as pn\n",
    "pn.extension('plotly')\n",
    "import plotly.express as px\n",
    "\n",
    "import matplotlib.pyplot as plt \n",
    "import seaborn as sns\n",
    "import pandas as pd\n",
    "import holoviews as hv\n",
    "import hvplot.pandas\n",
    "from plotly import subplots \n",
    "from plotly import tools \n",
    "import chart_studio\n",
    "import chart_studio.plotly as py\n",
    "\n",
    "import cufflinks as cf\n",
    "cf.set_config_file(theme='solar', \n",
    "                   sharing='public', \n",
    "                   offline=True,\n",
    "                   offline_connected=True,\n",
    "                   offline_show_link=True)\n",
    "%matplotlib inline "
   ]
  },
  {
   "cell_type": "markdown",
   "id": "cd160def",
   "metadata": {},
   "source": [
    "## "
   ]
  },
  {
   "cell_type": "markdown",
   "id": "9b773504",
   "metadata": {},
   "source": [
    "## Read in all csv files for analysis for Australia"
   ]
  },
  {
   "cell_type": "code",
   "execution_count": null,
   "id": "4c1f201d",
   "metadata": {},
   "outputs": [],
   "source": [
    "#Load csv files\n",
    "asx = pd.read_csv(\"../Data/ProcessedData/asx_june_cleaned.csv\")\n",
    "btc = pd.read_csv(\"../Data/ProcessedData/BTC_USD_df.csv\")\n",
    "gdp = pd.read_csv(\"../Data/ProcessedData/GDP_selected_countries_cleaned.csv\")\n",
    "gdp_bar = pd.read_csv(\"../Data/ProcessedData/GDP_selected_countries_cleaned.csv\")\n",
    "cash_rate = pd.read_csv(\"../Data/ProcessedData/cashrate_cleaned.csv\")\n",
    "population = pd.read_csv(\"../Data/ProcessedData/Population_June_Cleaned.csv\")\n",
    "employment = pd.read_csv(\"../Data/ProcessedData/employment_cleaned.csv\")\n",
    "economy = pd.read_csv(\"../Data/ProcessedData/Economy_June_Cleaned.csv\")\n",
    "household_income = pd.read_csv(\"../Data/ProcessedData/Household_Income_cleaned.csv\")\n",
    "sp500 = pd.read_csv(\"../Data/ProcessedData/SP500_history_cleaned.csv\")"
   ]
  },
  {
   "cell_type": "markdown",
   "id": "5c726851",
   "metadata": {},
   "source": [
    "## "
   ]
  },
  {
   "cell_type": "markdown",
   "id": "69b09246",
   "metadata": {},
   "source": [
    "## What does the Australian GDP look like? Is AUS GDP similar for the same time-period (1995 - 2020) across countries in similar economic arenas?"
   ]
  },
  {
   "cell_type": "code",
   "execution_count": null,
   "id": "e8dacc98",
   "metadata": {},
   "outputs": [],
   "source": [
    "# Rename Year column\n",
    "gdp_new = gdp.rename(columns={\"Unnamed: 0\": \"Year\"})\n",
    "gdp_bar_new = gdp.rename(columns={\"Unnamed: 0\": \"Year\"})\n",
    "\n",
    "# Set index for 1st df and convert Year to object for 2nd df\n",
    "gdp_new.set_index(\"Year\", inplace=True)\n",
    "gdp_bar_new[\"Year\"] = gdp_bar_new.Year.astype(str)\n",
    "#gdp_drop_unnamed = gdp_new.loc[:, ~gdp_new.columns.str.contains('^Unnamed')]"
   ]
  },
  {
   "cell_type": "code",
   "execution_count": null,
   "id": "f321af56",
   "metadata": {},
   "outputs": [],
   "source": [
    "#Create bar chart\n",
    "gdp_hvplot_bar = gdp_bar_new.hvplot.bar(groupby=\"Year\",\n",
    "                                        title=\"GDP across all countries\")\n",
    "gdp_hvplot_bar"
   ]
  },
  {
   "cell_type": "code",
   "execution_count": null,
   "id": "92151317",
   "metadata": {},
   "outputs": [],
   "source": [
    "#Create line plots\n",
    "gdp_hvplot_line = gdp_new.hvplot.line(title=\"GDP across all countries\")\n",
    "gdp_hvplot_line"
   ]
  },
  {
   "cell_type": "code",
   "execution_count": null,
   "id": "463774b0",
   "metadata": {},
   "outputs": [],
   "source": [
    "# Combine the plots above to put them into one pane\n",
    "comb_gdp = gdp_hvplot_line + gdp_hvplot_bar \n",
    "comb_gdp"
   ]
  },
  {
   "cell_type": "code",
   "execution_count": null,
   "id": "3795abd2",
   "metadata": {},
   "outputs": [],
   "source": [
    "# Generate same plots as above but using cufflinks\n",
    "gdp_fig1 = gdp_new.iplot(kind='line',\n",
    "                         dash='dash',\n",
    "                         title=\"GDP across major countries\",\n",
    "                         xTitle=\"Year\",\n",
    "                         yTitle='GDP (% change)',\n",
    "                         asImage=True,\n",
    "                         filename='GDP_world_line')             \n",
    "             \n",
    "gdp_fig2 = gdp_new.iplot(kind='bar',\n",
    "                         dash='dash',\n",
    "                         title=\"GDP across major countries\",\n",
    "                         xTitle=\"Year\",\n",
    "                         yTitle='GDP (% change)',\n",
    "                         asImage=True,\n",
    "                         filename='GDP_world_bar')\n",
    "\n",
    "#Create the plot matrix:\n",
    "fig = subplots.make_subplots(rows=2, cols=1)\n",
    "\n",
    "#Add traces, use  'add_traces', or 'append_trace'.\n",
    "fig.add_traces(gdp_fig1)\n",
    "fig.add_traces(gdp_fig2)\n",
    "\n",
    "fig['layout'].update(height=600,\n",
    "                     width=600)"
   ]
  },
  {
   "cell_type": "markdown",
   "id": "cc36bdfa",
   "metadata": {},
   "source": [
    "## "
   ]
  },
  {
   "cell_type": "markdown",
   "id": "dd4ccff1",
   "metadata": {},
   "source": [
    "### "
   ]
  },
  {
   "cell_type": "markdown",
   "id": "b0d935a7",
   "metadata": {},
   "source": [
    "## What does Australia's demographic information look like?"
   ]
  },
  {
   "cell_type": "code",
   "execution_count": null,
   "id": "c01a57cf",
   "metadata": {},
   "outputs": [],
   "source": [
    "# Get demogrpahic data\n",
    "year = population[[\"Year\"]]\n",
    "\n",
    "total_population = population[[\"EstimatedResidentPopulation\"]]\n",
    "total_employed = employment[[\"TotalEmployed\"]]\n",
    "total_employed_males = employment[[\"TotalEmployed_M\"]]\n",
    "total_employed_females = employment[[\"TotalEmployed_F\"]]\n",
    "total_unemployed = employment[[\"TotalUnemployed\"]]\n",
    "total_unemployed_males = employment[[\"TotalUnemployed_M\"]]\n",
    "total_unemployed_females = employment[[\"TotalUnemployed_F\"]]"
   ]
  },
  {
   "cell_type": "code",
   "execution_count": null,
   "id": "b98d4a5e",
   "metadata": {},
   "outputs": [],
   "source": [
    "# Create df to correlate\n",
    "aus_demographics_df = pd.concat([year,      \n",
    "                                 total_population,\n",
    "                                 total_employed, \n",
    "                                 total_employed_males,\n",
    "                                 total_employed_females,\n",
    "                                 total_unemployed,\n",
    "                                 total_unemployed_males,\n",
    "                                 total_unemployed_females], axis=1)\n",
    "\n",
    "# Rename to easy convention\n",
    "aus_demographics_renamed_df = aus_demographics_df.rename(columns={\"EstimatedResidentPopulation\": \"Pop\",\n",
    "                                                                  \"TotalEmployed\": \"Tot Emp\",\n",
    "                                                                  \"TotalEmployed_M\": \"Tot Emp_M\",\n",
    "                                                                  \"TotalEmployed_F\": \"Tot Emp_F\",\n",
    "                                                                  \"TotalUnemployed\": \"Tot Unemp\",\n",
    "                                                                  \"TotalUnemployed_M\": \"Tot Unemp_M\",\n",
    "                                                                  \"TotalUnemployed_F\": \"Tot Unemp_F\"})\n",
    "\n",
    "#Check dataset\n",
    "aus_demographics_renamed_df.set_index(\"Year\", inplace=True)\n",
    "aus_demographics_renamed_df.head()"
   ]
  },
  {
   "cell_type": "code",
   "execution_count": null,
   "id": "69fda85b",
   "metadata": {},
   "outputs": [],
   "source": [
    "# Create second dataframe without total population\n",
    "aus_demographics_renamed_d2 = aus_demographics_renamed_df.drop(\"Pop\", axis=1)\n",
    "\n",
    "aus_demographics_renamed_d2.head()"
   ]
  },
  {
   "cell_type": "code",
   "execution_count": null,
   "id": "2148983d",
   "metadata": {},
   "outputs": [],
   "source": [
    "# Clean dataframe\n",
    "demographic_corr_df = aus_demographics_renamed_df.reset_index()\n",
    "del demographic_corr_df[\"Year\"]\n",
    "demographic_corr_df.head()\n",
    "\n",
    "# Run correlation\n",
    "demographic_corr = demographic_corr_df.corr()\n",
    "demographic_corr"
   ]
  },
  {
   "cell_type": "code",
   "execution_count": null,
   "id": "80935f6a",
   "metadata": {},
   "outputs": [],
   "source": [
    "# Generate line graphs using Cufflinks\n",
    "aus_demographics_fig1 = aus_demographics_renamed_df.iplot(kind='line',\n",
    "                                             title=\"Aus demographics\",\n",
    "                                             xTitle=\"Year\",\n",
    "                                             yTitle='Demographics')         \n",
    "             \n",
    "aus_demographics_fig2 = aus_demographics_renamed_d2.iplot(kind='line',\n",
    "                                                          title=\"Aus demographics dopped total population\",\n",
    "                                                          xTitle=\"Year\",\n",
    "                                                          yTitle='Demographics')  \n",
    "\n",
    "#Create the plot matrix:\n",
    "fig = subplots.make_subplots(rows=3, cols=1)\n",
    "\n",
    "#Add traces, use  'add_traces', or 'append_trace'.\n",
    "fig.add_traces(aus_demographics_fig1)\n",
    "fig.add_traces(aus_demographics_fig2)\n",
    "\n",
    "fig['layout'].update(height=600,\n",
    "                     width=600)"
   ]
  },
  {
   "cell_type": "code",
   "execution_count": null,
   "id": "234075e9",
   "metadata": {},
   "outputs": [],
   "source": [
    "# Generate heatmap using Seaborn\n",
    "matrix = np.triu(demographic_corr)\n",
    "cmap = sns.diverging_palette(230, 20, as_cmap=True)\n",
    "h = plt.axes()\n",
    "\n",
    "plot = sns.heatmap(demographic_corr, \n",
    "                   vmin=-1, \n",
    "                   vmax=1, \n",
    "                   annot=True,\n",
    "                   cmap=cmap, \n",
    "                   mask=matrix)\n",
    "\n",
    "sns.set(rc={'figure.figsize':(10,7)})\n",
    "h.set_title('Aus demographic data')"
   ]
  },
  {
   "cell_type": "markdown",
   "id": "9d359926",
   "metadata": {},
   "source": [
    "## "
   ]
  },
  {
   "cell_type": "markdown",
   "id": "dbaf4915",
   "metadata": {},
   "source": [
    "### "
   ]
  },
  {
   "cell_type": "markdown",
   "id": "bf82ea93",
   "metadata": {},
   "source": [
    "## What does Australia's financials look like?"
   ]
  },
  {
   "cell_type": "code",
   "execution_count": null,
   "id": "943852aa",
   "metadata": {},
   "outputs": [],
   "source": [
    "# Get Australia's financial data\n",
    "year = population[[\"Year\"]]\n",
    "asx_price = asx[[\"Price\"]]\n",
    "cash_rate_target = cash_rate[[\"Cash Rate Target\"]]\n",
    "overnight_cash_rate = cash_rate[[\"Interbank Overnight Cash Rate\"]]\n",
    "household_income_total = household_income[[\"TotalIncome\"]]\n",
    "household_savings_total = household_income[[\"TotalSavings\"]]\n",
    "net_savings = economy[[\"Net Savings\"]]\n",
    "gross_income = economy[[\"Total Use of Gross Income\"]]"
   ]
  },
  {
   "cell_type": "code",
   "execution_count": null,
   "id": "69c54200",
   "metadata": {},
   "outputs": [],
   "source": [
    "# Create df to correlate\n",
    "aus_financials_df = pd.concat([year,\n",
    "                               cash_rate_target,\n",
    "                               overnight_cash_rate,\n",
    "                               household_income_total,\n",
    "                               household_savings_total,\n",
    "                               net_savings,\n",
    "                               gross_income], axis=1)\n",
    "\n",
    "# Rename to easy convention\n",
    "aus_financials_renamed_df = aus_financials_df.rename(columns={\"Total Use of Gross Income\": \"Gross Income\"})\n",
    "\n",
    "#Check dataset\n",
    "aus_financials_renamed_df.set_index(\"Year\", inplace=True)\n",
    "aus_financials_renamed_df.head()"
   ]
  },
  {
   "cell_type": "code",
   "execution_count": null,
   "id": "19550682",
   "metadata": {},
   "outputs": [],
   "source": [
    "# Create dataframe without Gross Income\n",
    "aus_financials_renamed_d2 = aus_financials_renamed_df.drop([\"Gross Income\"], axis=1)\n",
    "\n",
    "aus_financials_renamed_d2.head()"
   ]
  },
  {
   "cell_type": "code",
   "execution_count": null,
   "id": "43c527fc",
   "metadata": {},
   "outputs": [],
   "source": [
    "# Run correlation\n",
    "aus_financials_corr_df = aus_financials_renamed_df.reset_index()\n",
    "del aus_financials_corr_df[\"Year\"]\n",
    "aus_financials_corr = aus_financials_corr_df.corr()\n",
    "aus_financials_corr"
   ]
  },
  {
   "cell_type": "code",
   "execution_count": null,
   "id": "73b3a283",
   "metadata": {},
   "outputs": [],
   "source": [
    "# Create line plots using Cufflink\n",
    "aus_demographics_fig1 = aus_financials_renamed_df.iplot(kind='line',\n",
    "                                                        title=\"Aus financials\",\n",
    "                                                        xTitle=\"Year\",\n",
    "                                                        yTitle='Australian Dollars ($)')        \n",
    "             \n",
    "aus_demographics_fig2 = aus_financials_renamed_d2.iplot(kind='line',\n",
    "                                                        title=\"Aus financials dropped Gross Income\",\n",
    "                                                        xTitle=\"Year\",\n",
    "                                                        yTitle='Australian Dollars ($)')    \n",
    "\n",
    "#Create the plot matrix:\n",
    "fig = subplots.make_subplots(rows=2, cols=1)\n",
    "\n",
    "#Add traces, use  'add_traces', or 'append_trace'.\n",
    "fig.add_traces(aus_demographics_fig1)\n",
    "fig.add_traces(aus_demographics_fig2)\n",
    "\n",
    "fig['layout'].update(height=600,\n",
    "                     width=600)"
   ]
  },
  {
   "cell_type": "code",
   "execution_count": null,
   "id": "6d3622ae",
   "metadata": {},
   "outputs": [],
   "source": [
    "# Create heatmap using Seaborn\n",
    "matrix = np.triu(aus_financials_corr)\n",
    "cmap = sns.diverging_palette(230, 20, as_cmap=True)\n",
    "h = plt.axes()\n",
    "\n",
    "plot = sns.heatmap(aus_financials_corr, \n",
    "                   vmin=-1, \n",
    "                   vmax=1, \n",
    "                   annot=True,\n",
    "                   cmap=cmap, \n",
    "                   mask=matrix)\n",
    "\n",
    "sns.set(rc={'figure.figsize':(10,7)})\n",
    "h.set_title('Aus financials')"
   ]
  },
  {
   "cell_type": "markdown",
   "id": "ed4a9b38",
   "metadata": {},
   "source": [
    "## "
   ]
  },
  {
   "cell_type": "markdown",
   "id": "a564014f",
   "metadata": {},
   "source": [
    "## What are the key factors driving GDP - demonstrate using CorrPlot\n"
   ]
  },
  {
   "cell_type": "code",
   "execution_count": null,
   "id": "6c79e0a1",
   "metadata": {},
   "outputs": [],
   "source": [
    "# Clean population data\n",
    "del population[\"Unnamed: 0\"]\n",
    "population.head()"
   ]
  },
  {
   "cell_type": "code",
   "execution_count": null,
   "id": "9f2e0b48",
   "metadata": {},
   "outputs": [],
   "source": [
    "# Get data to run correlation\n",
    "year = population[[\"Year\"]]\n",
    "gdp_aus_new = gdp_new[[\"Australia\"]].reset_index(drop=True)\n",
    "\n",
    "total_population = population[[\"EstimatedResidentPopulation\"]]\n",
    "total_employed = employment[[\"TotalEmployed\"]]\n",
    "total_employed_males = employment[[\"TotalEmployed_M\"]]\n",
    "total_employed_females = employment[[\"TotalEmployed_F\"]]\n",
    "total_unemployed = employment[[\"TotalUnemployed\"]]\n",
    "total_unemployed_males = employment[[\"TotalUnemployed_M\"]]\n",
    "total_unemployed_females = employment[[\"TotalUnemployed_F\"]]\n",
    "\n",
    "cash_rate_target = cash_rate[[\"Cash Rate Target\"]]\n",
    "overnight_cash_rate = cash_rate[[\"Interbank Overnight Cash Rate\"]]\n",
    "household_income_total = household_income[[\"TotalIncome\"]]\n",
    "household_savings_total = household_income[[\"TotalSavings\"]]\n",
    "net_savings = economy[[\"Net Savings\"]]\n",
    "gross_income = economy[[\"Total Use of Gross Income\"]]"
   ]
  },
  {
   "cell_type": "code",
   "execution_count": null,
   "id": "48786914",
   "metadata": {},
   "outputs": [],
   "source": [
    "# Create df to correlate\n",
    "correlation_df = pd.concat([gdp_aus_new,\n",
    "                            total_population,\n",
    "                            total_employed, \n",
    "                            total_employed_males,\n",
    "                            total_employed_females,\n",
    "                            total_unemployed,\n",
    "                            total_unemployed_males,\n",
    "                            total_unemployed_females,\n",
    "                            cash_rate_target,\n",
    "                            overnight_cash_rate,\n",
    "                            household_income_total,\n",
    "                            household_savings_total,\n",
    "                            net_savings,\n",
    "                            gross_income], axis=1)\n",
    "\n",
    "# Rename to easy convention\n",
    "correlation_renamed_df = correlation_df.rename(columns={\"Australia\": \"Aus_GDP\",\n",
    "                                                        \"EstimatedResidentPopulation\": \"Pop\",\n",
    "                                                        \"TotalEmployed\": \"Tot Emp\",\n",
    "                                                        \"TotalEmployed_M\": \"Tot Emp_M\",\n",
    "                                                        \"TotalEmployed_F\": \"Tot Emp_F\",\n",
    "                                                        \"TotalUnemployed\": \"Tot Unemp\",\n",
    "                                                        \"TotalUnemployed_M\": \"Tot Unemp_M\",\n",
    "                                                        \"TotalUnemployed_F\": \"Tot Unemp_F\",\n",
    "                                                        \"Total Use of Gross Income\": \"Gross Income\"})\n",
    "\n",
    "#Check dataset\n",
    "correlation_renamed_df.head()"
   ]
  },
  {
   "cell_type": "code",
   "execution_count": null,
   "id": "2bd7aa7d",
   "metadata": {},
   "outputs": [],
   "source": [
    "# Run correlation on the full Aus dataset\n",
    "correlation = correlation_renamed_df.corr()\n",
    "correlation"
   ]
  },
  {
   "cell_type": "code",
   "execution_count": null,
   "id": "686e151a",
   "metadata": {},
   "outputs": [],
   "source": [
    "# Create heatmap using hvplot\n",
    "heatmap_plot = correlation.hvplot.heatmap(title=\"Aus economy\",\n",
    "                                          ymarks_hover_color='cyan',\n",
    "                                          hover_color='cyan',\n",
    "                                          alpha=0.9,\n",
    "                                          colorbar=True,\n",
    "                                          cmap='bjy')\n",
    "heatmap_plot"
   ]
  },
  {
   "cell_type": "code",
   "execution_count": null,
   "id": "22007f6d",
   "metadata": {},
   "outputs": [],
   "source": [
    "# Create heatmap using Cufflinks\n",
    "corrplot = correlation.iplot(kind='heatmap',\n",
    "                             title=\"Aus economy\",\n",
    "                             asFigure=True,\n",
    "                             asImage=True,\n",
    "                             colorscale='rdbu')\n",
    "corrplot"
   ]
  },
  {
   "cell_type": "code",
   "execution_count": null,
   "id": "7e282bce",
   "metadata": {},
   "outputs": [],
   "source": [
    "# Create heatmap using Seaborn\n",
    "matrix = np.triu(correlation)\n",
    "cmap = sns.diverging_palette(230, 20, as_cmap=True)\n",
    "h = plt.axes()\n",
    "\n",
    "plot = sns.heatmap(correlation, \n",
    "                   vmin=-1, \n",
    "                   vmax=1, \n",
    "                   annot=True,\n",
    "                   cmap=cmap, \n",
    "                   mask=matrix)\n",
    "\n",
    "\n",
    "sns.set(rc={'figure.figsize':(10,7)})\n",
    "h.set_title('Aus Economy')\n",
    "plot.figure.savefig(\"../Images/CorrelationPlot_Aus_all.png\")"
   ]
  },
  {
   "cell_type": "code",
   "execution_count": null,
   "id": "bdcc3f38",
   "metadata": {},
   "outputs": [],
   "source": [
    "# Create lower triangle using Seaborn\n",
    "correlation_renamed_df['Year'] = population[[\"Year\"]]\n",
    "\n",
    "seaborn_corrplot = sns.pairplot(correlation_renamed_df[['Year','Aus_GDP', 'Pop', 'Tot Emp', 'Tot Unemp', 'Cash Rate Target', \n",
    "                                                        'TotalIncome', 'TotalSavings', 'Net Savings', 'Gross Income']],\n",
    "                                hue='Year', palette='husl', markers=\"o\", diag_kind='kde', corner=True)\n",
    "\n",
    "\n",
    "seaborn_corrplot.fig.suptitle('Feature Relations')\n",
    "seaborn_corrplot.fig.suptitle(\"Aus Economy\", y=1.08) \n",
    "\n",
    "plt.show()\n",
    "seaborn_corrplot.savefig(\"../Images/CorrelationPairPlot_Aus_all.png\")"
   ]
  },
  {
   "cell_type": "markdown",
   "id": "1ae3bda8",
   "metadata": {},
   "source": [
    "## "
   ]
  },
  {
   "cell_type": "markdown",
   "id": "8b5720b5",
   "metadata": {},
   "source": [
    "## Read in all csv files for analysis for World\n",
    "\n",
    "## GDP growth"
   ]
  },
  {
   "cell_type": "code",
   "execution_count": null,
   "id": "d671945a",
   "metadata": {},
   "outputs": [],
   "source": [
    "# Get world data \n",
    "gdp_growth = pd.read_csv(\"../Data/ProcessedData/aus_vs_world_gdp_growth_cleaned.csv\")\n",
    "goods_export = pd.read_csv(\"../Data/ProcessedData/aus_vs_world_goods_export_cleaned.csv\")\n",
    "world_inflation = pd.read_csv(\"../Data/ProcessedData/aus_vs_world_inflation_cleaned.csv\")\n",
    "world_population = pd.read_csv(\"../Data/ProcessedData/aus_vs_world_population_cleaned.csv\")"
   ]
  },
  {
   "cell_type": "code",
   "execution_count": null,
   "id": "1ccf5d70",
   "metadata": {},
   "outputs": [],
   "source": [
    "# Create line plot for GDP growth rate across all countries\n",
    "gdp_growth_clean = gdp_growth.drop('Unnamed: 0', axis=1).set_index(\"Year\")\n",
    "\n",
    "gdp_growth_line = gdp_growth_clean.hvplot.line(title='GDP growth',\n",
    "                                               ylabel='Percentage change')\n",
    "gdp_growth_line"
   ]
  },
  {
   "cell_type": "code",
   "execution_count": null,
   "id": "f5329a34",
   "metadata": {},
   "outputs": [],
   "source": [
    "# Create bar plot for GDP growth rate across all countries\n",
    "gdp_growth[\"Year\"] = gdp_growth.Year.astype(str)\n",
    "\n",
    "gdp_growth_clean2 = gdp_growth.drop('Unnamed: 0', axis=1)\n",
    "gdp_growth_bar = gdp_growth_clean2.hvplot.bar(groupby=\"Year\")\n",
    "gdp_growth_bar"
   ]
  },
  {
   "cell_type": "code",
   "execution_count": null,
   "id": "719376b1",
   "metadata": {},
   "outputs": [],
   "source": [
    "# Combine the plots for GDP growth rate across all countries\n",
    "gdp_growth_comb = gdp_growth_line + gdp_growth_bar\n",
    "gdp_growth_comb"
   ]
  },
  {
   "cell_type": "code",
   "execution_count": null,
   "id": "a5a39b51",
   "metadata": {},
   "outputs": [],
   "source": [
    "# Create line plot and bar graph using Cufflinks\n",
    "gdp_growth_fig1 = gdp_growth_clean.iplot(kind='line',\n",
    "                                         dash='dash',\n",
    "                                         title=\"GDP growth across major countries\",\n",
    "                                         xTitle=\"Year\",\n",
    "                                         yTitle='GDP (% change)')             \n",
    "             \n",
    "gdp_growth_fig2 = gdp_growth_clean.iplot(kind='bar',\n",
    "                                         dash='dash',\n",
    "                                         title=\"GDP growth across major countries\",\n",
    "                                         xTitle=\"Year\",\n",
    "                                         yTitle='GDP (% change)')\n",
    "\n",
    "#Create the plot matrix:\n",
    "fig = subplots.make_subplots(rows=2, cols=1)\n",
    "\n",
    "#Add traces, use  'add_traces', or 'append_trace'.\n",
    "fig.add_traces(gdp_growth_fig1)\n",
    "fig.add_traces(gdp_growth_fig2)\n",
    "\n",
    "fig['layout'].update(height=600,\n",
    "                     width=600) "
   ]
  },
  {
   "cell_type": "markdown",
   "id": "1fedd46f",
   "metadata": {},
   "source": [
    "## "
   ]
  },
  {
   "cell_type": "markdown",
   "id": "af6a353a",
   "metadata": {},
   "source": [
    "## Goods export"
   ]
  },
  {
   "cell_type": "code",
   "execution_count": null,
   "id": "aaad49b7",
   "metadata": {},
   "outputs": [],
   "source": [
    "# Clean world data for goods export and plot line graph\n",
    "goods_export_clean = goods_export.drop('Unnamed: 0', axis=1).set_index(\"Year\")\n",
    "\n",
    "goods_export_line = goods_export_clean.hvplot.line(title='Goods export',\n",
    "                                                   ylabel='Percentage change')\n",
    "goods_export_line"
   ]
  },
  {
   "cell_type": "code",
   "execution_count": null,
   "id": "262811dd",
   "metadata": {},
   "outputs": [],
   "source": [
    "# Clean bar graph for goods export\n",
    "goods_export[\"Year\"] = goods_export.Year.astype(str)\n",
    "\n",
    "goods_export_clean2 = goods_export.drop('Unnamed: 0', axis=1)\n",
    "goods_export_bar = goods_export_clean2.hvplot.bar(groupby=\"Year\")\n",
    "goods_export_bar"
   ]
  },
  {
   "cell_type": "code",
   "execution_count": null,
   "id": "b0e7f382",
   "metadata": {},
   "outputs": [],
   "source": [
    "# Combine the plots for goods exported from all countries\n",
    "goods_export_comb = goods_export_line + goods_export_bar\n",
    "goods_export_comb"
   ]
  },
  {
   "cell_type": "code",
   "execution_count": null,
   "id": "58001036",
   "metadata": {},
   "outputs": [],
   "source": [
    "# Create line plot and bar graph using Cufflinks\n",
    "goods_export_fig1 = goods_export_clean.iplot(kind='line',\n",
    "                                             dash='dash',\n",
    "                                             title=\"Goods export\",\n",
    "                                             xTitle=\"Year\",\n",
    "                                             yTitle='GDP (% change)')             \n",
    "             \n",
    "goods_export_fig2 = goods_export_clean.iplot(kind='bar',\n",
    "                                             dash='dash',\n",
    "                                             title=\"Goods export\",\n",
    "                                             xTitle=\"Year\",\n",
    "                                             yTitle='GDP (% change)')\n",
    "\n",
    "#Create the plot matrix:\n",
    "fig = subplots.make_subplots(rows=2, cols=1)\n",
    "\n",
    "#Add traces, use  'add_traces', or 'append_trace'.\n",
    "fig.add_traces(goods_export_fig1)\n",
    "fig.add_traces(goods_export_fig2)\n",
    "\n",
    "fig['layout'].update(height=600,\n",
    "                     width=600) "
   ]
  },
  {
   "cell_type": "markdown",
   "id": "21976a47",
   "metadata": {},
   "source": [
    "## "
   ]
  },
  {
   "cell_type": "markdown",
   "id": "9dcade1f",
   "metadata": {},
   "source": [
    "## World Inflation"
   ]
  },
  {
   "cell_type": "code",
   "execution_count": null,
   "id": "67edeae0",
   "metadata": {},
   "outputs": [],
   "source": [
    "# Clean world data for world inflation and plot line graph\n",
    "world_inflation_clean = world_inflation.drop('Unnamed: 0', axis=1).set_index(\"Year\")\n",
    "\n",
    "world_inflation_line = world_inflation_clean.hvplot.line(title='World inflation',\n",
    "                                                         ylabel='Percentage change')\n",
    "world_inflation_line"
   ]
  },
  {
   "cell_type": "code",
   "execution_count": null,
   "id": "fd183f5f",
   "metadata": {},
   "outputs": [],
   "source": [
    "# Clean bar graph for world inflation \n",
    "world_inflation[\"Year\"] = world_inflation.Year.astype(str)\n",
    "\n",
    "world_inflation_clean2 = world_inflation.drop('Unnamed: 0', axis=1)\n",
    "world_inflation_bar = world_inflation_clean2.hvplot.bar(groupby=\"Year\")\n",
    "world_inflation_bar"
   ]
  },
  {
   "cell_type": "code",
   "execution_count": null,
   "id": "388b7e2d",
   "metadata": {},
   "outputs": [],
   "source": [
    "# Combine the plots for goods exported from all countries\n",
    "world_inflation_comb = world_inflation_line + world_inflation_bar\n",
    "world_inflation_comb"
   ]
  },
  {
   "cell_type": "code",
   "execution_count": null,
   "id": "d534c53e",
   "metadata": {},
   "outputs": [],
   "source": [
    "# Create line plot and bar graph using Cufflinks\n",
    "world_inflation_fig1 = world_inflation_clean.iplot(kind='line',\n",
    "                                             dash='dash',\n",
    "                                             title=\"world_inflation\",\n",
    "                                             xTitle=\"Year\",\n",
    "                                             yTitle='GDP (% change)')             \n",
    "             \n",
    "world_inflation_fig2 = world_inflation_clean.iplot(kind='bar',\n",
    "                                             dash='dash',\n",
    "                                             title=\"World Inflation\",\n",
    "                                             xTitle=\"Year\",\n",
    "                                             yTitle='GDP (% change)')\n",
    "\n",
    "#Create the plot matrix:\n",
    "fig = subplots.make_subplots(rows=2, cols=1)\n",
    "\n",
    "#Add traces, use  'add_traces', or 'append_trace'.\n",
    "fig.add_traces(world_inflation_fig1)\n",
    "fig.add_traces(world_inflation_fig2)\n",
    "\n",
    "fig['layout'].update(height=600,\n",
    "                     width=600) "
   ]
  },
  {
   "cell_type": "markdown",
   "id": "712f0649",
   "metadata": {},
   "source": [
    "## "
   ]
  },
  {
   "cell_type": "markdown",
   "id": "6f6155de",
   "metadata": {},
   "source": [
    "## World Population"
   ]
  },
  {
   "cell_type": "code",
   "execution_count": null,
   "id": "2114bdeb",
   "metadata": {},
   "outputs": [],
   "source": [
    "# Clean world data for world population and plot line graph\n",
    "world_population_clean = world_population.drop('Unnamed: 0', axis=1).set_index(\"Year\")\n",
    "\n",
    "world_population_line = world_population_clean.hvplot.line(title='World population',\n",
    "                                                           ylabel='Percentage change')\n",
    "world_population_line"
   ]
  },
  {
   "cell_type": "code",
   "execution_count": null,
   "id": "7e5f2d1b",
   "metadata": {},
   "outputs": [],
   "source": [
    "# Clean bar graph for world population \n",
    "world_population[\"Year\"] = world_population.Year.astype(str)\n",
    "\n",
    "world_population_clean2 = world_population.drop('Unnamed: 0', axis=1)\n",
    "world_population_bar = world_population_clean2.hvplot.bar(groupby=\"Year\")\n",
    "world_population_bar"
   ]
  },
  {
   "cell_type": "code",
   "execution_count": null,
   "id": "319beb1a",
   "metadata": {},
   "outputs": [],
   "source": [
    "# Combine the plots for goods exported from all countries\n",
    "world_population_comb = world_population_line + world_population_bar\n",
    "world_population_comb"
   ]
  },
  {
   "cell_type": "code",
   "execution_count": null,
   "id": "fad743d6",
   "metadata": {},
   "outputs": [],
   "source": [
    "# Create line plot and bar graph using Cufflinks\n",
    "world_population_fig1 = world_population_clean.iplot(kind='line',\n",
    "                                                     dash='dash',\n",
    "                                                     title=\"World Population\",\n",
    "                                                     xTitle=\"Year\",\n",
    "                                                     yTitle='GDP (% change)')             \n",
    "             \n",
    "world_population_fig2 = world_population_clean.iplot(kind='bar',\n",
    "                                                     dash='dash',\n",
    "                                                     title=\"World Population\",\n",
    "                                                     xTitle=\"Year\",\n",
    "                                                     yTitle='GDP (% change)')\n",
    "\n",
    "#Create the plot matrix:\n",
    "fig = subplots.make_subplots(rows=2, cols=1)\n",
    "\n",
    "#Add traces, use  'add_traces', or 'append_trace'.\n",
    "fig.add_traces(world_population_fig1)\n",
    "fig.add_traces(world_population_fig2)\n",
    "\n",
    "fig['layout'].update(height=600,\n",
    "                     width=600) "
   ]
  },
  {
   "cell_type": "markdown",
   "id": "4c594651",
   "metadata": {},
   "source": [
    "## "
   ]
  },
  {
   "cell_type": "markdown",
   "id": "78c4173c",
   "metadata": {},
   "source": [
    "## All world data combined"
   ]
  },
  {
   "cell_type": "code",
   "execution_count": null,
   "id": "a7fc867c",
   "metadata": {},
   "outputs": [],
   "source": [
    "# Read in world data and clean it\n",
    "world_data = pd.read_csv(\"../Data/RawData/World_data.csv\")\n",
    "world_data.drop(\"year\", axis=1, inplace=True)\n",
    "world_data.head()"
   ]
  },
  {
   "cell_type": "code",
   "execution_count": null,
   "id": "39a654cd",
   "metadata": {},
   "outputs": [],
   "source": [
    "# Correlate world data\n",
    "world_data_corr = world_data.corr()"
   ]
  },
  {
   "cell_type": "code",
   "execution_count": null,
   "id": "436b695e",
   "metadata": {},
   "outputs": [],
   "source": [
    "# Create heatmap using Seaborn\n",
    "matrix = np.triu(world_data_corr)\n",
    "cmap = sns.diverging_palette(230, 20, as_cmap=True)\n",
    "h = plt.axes()\n",
    "\n",
    "plot = sns.heatmap(world_data_corr, \n",
    "                   vmin=-1, \n",
    "                   vmax=1, \n",
    "                   cmap=cmap, \n",
    "                   mask=matrix)\n",
    "\n",
    "\n",
    "sns.set(rc={'figure.figsize':(10,7)})\n",
    "h.set_title('World data')\n",
    "plot.figure.savefig(\"../Images/World_data_corr.png\")"
   ]
  },
  {
   "cell_type": "markdown",
   "id": "afd2e489",
   "metadata": {},
   "source": [
    "## "
   ]
  },
  {
   "cell_type": "markdown",
   "id": "a66b2a82",
   "metadata": {},
   "source": [
    "# ASX v S&P500"
   ]
  },
  {
   "cell_type": "code",
   "execution_count": null,
   "id": "284d84b9",
   "metadata": {},
   "outputs": [],
   "source": [
    "# Get stock market info\n",
    "asx_price = asx[[\"Price\"]]\n",
    "sp500_price = sp500[[\"Price\"]]"
   ]
  },
  {
   "cell_type": "code",
   "execution_count": null,
   "id": "16248229",
   "metadata": {},
   "outputs": [],
   "source": [
    "asx_price = asx_price.rename(columns={'Price': 'ASX'})\n",
    "sp500_price = sp500_price.rename(columns={'Price': 'SP500'})"
   ]
  },
  {
   "cell_type": "code",
   "execution_count": null,
   "id": "6161853c",
   "metadata": {},
   "outputs": [],
   "source": [
    "stocks_df = pd.concat([year,\n",
    "                       asx_price,\n",
    "                       sp500_price], axis=1)\n",
    "\n",
    "#Check dataset\n",
    "stocks_index_df = stocks_df.set_index('Year')\n",
    "stocks_index_df.head()"
   ]
  },
  {
   "cell_type": "code",
   "execution_count": null,
   "id": "611d5b0c",
   "metadata": {},
   "outputs": [],
   "source": [
    "# Create plots using Cufflinks\n",
    "stocks_df_fig1 = stocks_index_df.iplot(kind='line',\n",
    "                                       dash='dash',\n",
    "                                       title=\"ASX v S&P500\",\n",
    "                                       xTitle=\"Year\",\n",
    "                                       yTitle='GDP (% change)',\n",
    "                                       asImage=True)             \n",
    "             \n",
    "stocks_df_fig2 = stocks_index_df.iplot(kind='bar',\n",
    "                                       dash='dash',\n",
    "                                       title=\"ASX v S&P500\",\n",
    "                                       xTitle=\"Year\",\n",
    "                                       yTitle='GDP (% change)',\n",
    "                                       asImage=True)\n",
    "\n",
    "#Create the plot matrix:\n",
    "fig = subplots.make_subplots(rows=2, cols=1)\n",
    "\n",
    "#Add traces, use  'add_traces', or 'append_trace'.\n",
    "fig.add_traces(stocks_df_fig1)\n",
    "fig.add_traces(stocks_df_fig2)\n",
    "\n",
    "fig['layout'].update(height=600,\n",
    "                     width=600) "
   ]
  },
  {
   "cell_type": "code",
   "execution_count": null,
   "id": "6b2c6945",
   "metadata": {},
   "outputs": [],
   "source": []
  }
 ],
 "metadata": {
  "kernelspec": {
   "display_name": "Python [conda env:pyvizenv] *",
   "language": "python",
   "name": "conda-env-pyvizenv-py"
  },
  "language_info": {
   "codemirror_mode": {
    "name": "ipython",
    "version": 3
   },
   "file_extension": ".py",
   "mimetype": "text/x-python",
   "name": "python",
   "nbconvert_exporter": "python",
   "pygments_lexer": "ipython3",
   "version": "3.7.10"
  }
 },
 "nbformat": 4,
 "nbformat_minor": 5
}
