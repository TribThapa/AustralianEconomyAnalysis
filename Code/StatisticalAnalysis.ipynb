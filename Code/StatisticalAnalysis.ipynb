{
 "cells": [
  {
   "cell_type": "code",
   "execution_count": 83,
   "id": "82eb0a92",
   "metadata": {},
   "outputs": [
    {
     "data": {
      "text/html": [
       "        <script type=\"text/javascript\">\n",
       "        window.PlotlyConfig = {MathJaxConfig: 'local'};\n",
       "        if (window.MathJax) {MathJax.Hub.Config({SVG: {font: \"STIX-Web\"}});}\n",
       "        if (typeof require !== 'undefined') {\n",
       "        require.undef(\"plotly\");\n",
       "        requirejs.config({\n",
       "            paths: {\n",
       "                'plotly': ['https://cdn.plot.ly/plotly-latest.min']\n",
       "            }\n",
       "        });\n",
       "        require(['plotly'], function(Plotly) {\n",
       "            window._Plotly = Plotly;\n",
       "        });\n",
       "        }\n",
       "        </script>\n",
       "        "
      ]
     },
     "metadata": {},
     "output_type": "display_data"
    }
   ],
   "source": [
    "import os\n",
    "import numpy as np\n",
    "import panel as pn\n",
    "pn.extension('plotly')\n",
    "import plotly.express as px\n",
    "\n",
    "import pandas as pd\n",
    "import hvplot.pandas\n",
    "\n",
    "import cufflinks as cf\n",
    "cf.set_config_file(theme='solar',sharing='public',offline=True)\n",
    "%matplotlib inline "
   ]
  },
  {
   "cell_type": "markdown",
   "id": "c0e3981c",
   "metadata": {},
   "source": [
    "### What does the Australian GDP look like? Is AUS GDP similar for the same time-period (1995 - 2020) across countries in similar economic arenas?"
   ]
  },
  {
   "cell_type": "code",
   "execution_count": 96,
   "id": "6cacf348",
   "metadata": {},
   "outputs": [],
   "source": [
    "#Load csv files\n",
    "gdp = pd.read_csv(\"../Data/ProcessedData/GDP_selected_countries_cleaned.csv\")#.set_index(\"Year\")\n",
    "gdp_new = gdp.rename(columns={\"Unnamed: 0\": \"Year\"})\n",
    "gdp_new.set_index(\"Year\", inplace=True)\n",
    "#gdp_drop_unnamed = gdp_new.loc[:, ~gdp_new.columns.str.contains('^Unnamed')]"
   ]
  },
  {
   "cell_type": "code",
   "execution_count": 97,
   "id": "d76821a9",
   "metadata": {},
   "outputs": [
    {
     "data": {},
     "metadata": {},
     "output_type": "display_data"
    },
    {
     "data": {
      "application/vnd.holoviews_exec.v0+json": "",
      "text/html": [
       "<div id='4249'>\n",
       "\n",
       "\n",
       "\n",
       "\n",
       "\n",
       "  <div class=\"bk-root\" id=\"2f2ef7fd-422e-40bc-9fb9-04dbc607aaa8\" data-root-id=\"4249\"></div>\n",
       "</div>\n",
       "<script type=\"application/javascript\">(function(root) {\n",
       "  function embed_document(root) {\n",
       "    var docs_json = {\"8f731790-69ea-44b7-9b56-ab7375663ed1\":{\"defs\":[],\"roots\":{\"references\":[{\"attributes\":{\"source\":{\"id\":\"4448\"}},\"id\":\"4455\",\"type\":\"CDSView\"},{\"attributes\":{\"line_color\":\"#17becf\",\"line_width\":2,\"x\":{\"field\":\"Year\"},\"y\":{\"field\":\"value\"}},\"id\":\"4447\",\"type\":\"Line\"},{\"attributes\":{},\"id\":\"4449\",\"type\":\"Selection\"},{\"attributes\":{\"active_multi\":null,\"tools\":[{\"id\":\"4253\"},{\"id\":\"4278\"},{\"id\":\"4279\"},{\"id\":\"4280\"},{\"id\":\"4281\"},{\"id\":\"4282\"}]},\"id\":\"4284\",\"type\":\"Toolbar\"},{\"attributes\":{\"line_color\":\"#17becf\",\"line_width\":2,\"x\":{\"field\":\"Year\"},\"y\":{\"field\":\"value\"}},\"id\":\"4421\",\"type\":\"Line\"},{\"attributes\":{\"label\":{\"value\":\"Canada\"},\"renderers\":[{\"id\":\"4324\"}]},\"id\":\"4338\",\"type\":\"LegendItem\"},{\"attributes\":{\"line_alpha\":0.1,\"line_color\":\"#e5ae38\",\"line_width\":2,\"x\":{\"field\":\"Year\"},\"y\":{\"field\":\"value\"}},\"id\":\"4344\",\"type\":\"Line\"},{\"attributes\":{\"data\":{\"Variable\":[\"China\",\"China\",\"China\",\"China\",\"China\",\"China\",\"China\",\"China\",\"China\",\"China\",\"China\",\"China\",\"China\",\"China\",\"China\",\"China\",\"China\",\"China\",\"China\",\"China\",\"China\",\"China\",\"China\",\"China\",\"China\",\"China\"],\"Year\":[1995,1996,1997,1998,1999,2000,2001,2002,2003,2004,2005,2006,2007,2008,2009,2010,2011,2012,2013,2014,2015,2016,2017,2018,2019,2020],\"value\":{\"__ndarray__\":\"wloItGzoJUCLrdVbWdgjQBj7yDY7eSJAjKFsL0FiH0C6ZYf4h6UeQLCC3YXt+iBAW10oQuWrIEDJk0FBa0QiQM6zJ7t4EyRA6XPelCw6JEBbcA7wB8omQBMIARohcSlAXYxgZzN2LEBwmorJJU0jQLGfI8QlzCJAgFg+5JBFJUBix+SsBhojQM9F41N3dB9A4/K6pokQH0CvYUlj+7MdQMq9Hh5SKhxAMDli6yFlG0CXuDIB78kbQLmGMLbE/xpAdh9N44HMF0Ad12VmZmYCQA==\",\"dtype\":\"float64\",\"order\":\"little\",\"shape\":[26]}},\"selected\":{\"id\":\"4341\"},\"selection_policy\":{\"id\":\"4360\"}},\"id\":\"4340\",\"type\":\"ColumnDataSource\"},{\"attributes\":{\"line_color\":\"#8b8b8b\",\"line_width\":2,\"x\":{\"field\":\"Year\"},\"y\":{\"field\":\"value\"}},\"id\":\"4393\",\"type\":\"Line\"},{\"attributes\":{\"label\":{\"value\":\"India\"},\"renderers\":[{\"id\":\"4424\"}]},\"id\":\"4446\",\"type\":\"LegendItem\"},{\"attributes\":{\"line_color\":\"#fc4f30\",\"line_width\":2,\"x\":{\"field\":\"Year\"},\"y\":{\"field\":\"value\"}},\"id\":\"4339\",\"type\":\"Line\"},{\"attributes\":{\"line_color\":\"#6d904f\",\"line_width\":2,\"x\":{\"field\":\"Year\"},\"y\":{\"field\":\"value\"}},\"id\":\"4367\",\"type\":\"Line\"},{\"attributes\":{\"source\":{\"id\":\"4390\"}},\"id\":\"4397\",\"type\":\"CDSView\"},{\"attributes\":{\"source\":{\"id\":\"4364\"}},\"id\":\"4371\",\"type\":\"CDSView\"},{\"attributes\":{\"bottom_units\":\"screen\",\"fill_alpha\":0.5,\"fill_color\":\"lightgrey\",\"left_units\":\"screen\",\"level\":\"overlay\",\"line_alpha\":1.0,\"line_color\":\"black\",\"line_dash\":[4,4],\"line_width\":2,\"right_units\":\"screen\",\"syncable\":false,\"top_units\":\"screen\"},\"id\":\"4283\",\"type\":\"BoxAnnotation\"},{\"attributes\":{\"data_source\":{\"id\":\"4318\"},\"glyph\":{\"id\":\"4321\"},\"hover_glyph\":null,\"muted_glyph\":{\"id\":\"4323\"},\"nonselection_glyph\":{\"id\":\"4322\"},\"selection_glyph\":{\"id\":\"4339\"},\"view\":{\"id\":\"4325\"}},\"id\":\"4324\",\"type\":\"GlyphRenderer\"},{\"attributes\":{\"line_color\":\"#30a2da\",\"line_width\":2,\"x\":{\"field\":\"Year\"},\"y\":{\"field\":\"value\"}},\"id\":\"4317\",\"type\":\"Line\"},{\"attributes\":{\"data\":{\"Variable\":[\"Australia\",\"Australia\",\"Australia\",\"Australia\",\"Australia\",\"Australia\",\"Australia\",\"Australia\",\"Australia\",\"Australia\",\"Australia\",\"Australia\",\"Australia\",\"Australia\",\"Australia\",\"Australia\",\"Australia\",\"Australia\",\"Australia\",\"Australia\",\"Australia\",\"Australia\",\"Australia\",\"Australia\",\"Australia\",\"Australia\"],\"Year\":[1995,1996,1997,1998,1999,2000,2001,2002,2003,2004,2005,2006,2007,2008,2009,2010,2011,2012,2013,2014,2015,2016,2017,2018,2019,2020],\"value\":{\"__ndarray__\":\"H+MLDLmzDkDfc+G5VwcPQG8jBRl4uw9A2IB/f4dOEkApKaiPXUsUQP62q4AQdw9AFfkt7srk/j95fAERcAEQQJPzp4gx4wdAQDyUZsg4EEAs94MzWKIJQE9ULDo2WwZADxjs0vvADkDDqWMjfUMNQKQ2L1bt/f4/G5q//RGKAEDoddCUubMDQJHFesZlWA9AscOs2N6tBEBBixmf0UMEQO6g0ruKigFA96T1sksqBkD+R/eKpmcCQIliiiMjmAdA9OE4dKNJAUD6tCabzjrSvw==\",\"dtype\":\"float64\",\"order\":\"little\",\"shape\":[26]}},\"selected\":{\"id\":\"4298\"},\"selection_policy\":{\"id\":\"4313\"}},\"id\":\"4297\",\"type\":\"ColumnDataSource\"},{\"attributes\":{},\"id\":\"4444\",\"type\":\"UnionRenderers\"},{\"attributes\":{\"data_source\":{\"id\":\"4340\"},\"glyph\":{\"id\":\"4343\"},\"hover_glyph\":null,\"muted_glyph\":{\"id\":\"4345\"},\"nonselection_glyph\":{\"id\":\"4344\"},\"selection_glyph\":{\"id\":\"4363\"},\"view\":{\"id\":\"4347\"}},\"id\":\"4346\",\"type\":\"GlyphRenderer\"},{\"attributes\":{\"data_source\":{\"id\":\"4390\"},\"glyph\":{\"id\":\"4393\"},\"hover_glyph\":null,\"muted_glyph\":{\"id\":\"4395\"},\"nonselection_glyph\":{\"id\":\"4394\"},\"selection_glyph\":{\"id\":\"4417\"},\"view\":{\"id\":\"4397\"}},\"id\":\"4396\",\"type\":\"GlyphRenderer\"},{\"attributes\":{},\"id\":\"4360\",\"type\":\"UnionRenderers\"},{\"attributes\":{\"line_alpha\":0.2,\"line_color\":\"#17becf\",\"line_width\":2,\"x\":{\"field\":\"Year\"},\"y\":{\"field\":\"value\"}},\"id\":\"4423\",\"type\":\"Line\"},{\"attributes\":{\"line_alpha\":0.2,\"line_color\":\"#fc4f30\",\"line_width\":2,\"x\":{\"field\":\"Year\"},\"y\":{\"field\":\"value\"}},\"id\":\"4323\",\"type\":\"Line\"},{\"attributes\":{\"data_source\":{\"id\":\"4364\"},\"glyph\":{\"id\":\"4367\"},\"hover_glyph\":null,\"muted_glyph\":{\"id\":\"4369\"},\"nonselection_glyph\":{\"id\":\"4368\"},\"selection_glyph\":{\"id\":\"4389\"},\"view\":{\"id\":\"4371\"}},\"id\":\"4370\",\"type\":\"GlyphRenderer\"},{\"attributes\":{\"line_alpha\":0.2,\"line_color\":\"#8b8b8b\",\"line_width\":2,\"x\":{\"field\":\"Year\"},\"y\":{\"field\":\"value\"}},\"id\":\"4395\",\"type\":\"Line\"},{\"attributes\":{\"data_source\":{\"id\":\"4418\"},\"glyph\":{\"id\":\"4421\"},\"hover_glyph\":null,\"muted_glyph\":{\"id\":\"4423\"},\"nonselection_glyph\":{\"id\":\"4422\"},\"selection_glyph\":{\"id\":\"4447\"},\"view\":{\"id\":\"4425\"}},\"id\":\"4424\",\"type\":\"GlyphRenderer\"},{\"attributes\":{\"line_alpha\":0.1,\"line_color\":\"#17becf\",\"line_width\":2,\"x\":{\"field\":\"Year\"},\"y\":{\"field\":\"value\"}},\"id\":\"4422\",\"type\":\"Line\"},{\"attributes\":{\"line_color\":\"#e5ae38\",\"line_width\":2,\"x\":{\"field\":\"Year\"},\"y\":{\"field\":\"value\"}},\"id\":\"4343\",\"type\":\"Line\"},{\"attributes\":{\"line_alpha\":0.2,\"line_color\":\"#6d904f\",\"line_width\":2,\"x\":{\"field\":\"Year\"},\"y\":{\"field\":\"value\"}},\"id\":\"4369\",\"type\":\"Line\"},{\"attributes\":{\"line_alpha\":0.1,\"line_color\":\"#8b8b8b\",\"line_width\":2,\"x\":{\"field\":\"Year\"},\"y\":{\"field\":\"value\"}},\"id\":\"4394\",\"type\":\"Line\"},{\"attributes\":{},\"id\":\"4391\",\"type\":\"Selection\"},{\"attributes\":{\"line_alpha\":0.1,\"line_color\":\"#6d904f\",\"line_width\":2,\"x\":{\"field\":\"Year\"},\"y\":{\"field\":\"value\"}},\"id\":\"4368\",\"type\":\"Line\"},{\"attributes\":{},\"id\":\"4266\",\"type\":\"LinearScale\"},{\"attributes\":{\"data\":{\"Variable\":[\"European Union\",\"European Union\",\"European Union\",\"European Union\",\"European Union\",\"European Union\",\"European Union\",\"European Union\",\"European Union\",\"European Union\",\"European Union\",\"European Union\",\"European Union\",\"European Union\",\"European Union\",\"European Union\",\"European Union\",\"European Union\",\"European Union\",\"European Union\",\"European Union\",\"European Union\",\"European Union\",\"European Union\",\"European Union\",\"European Union\"],\"Year\":[1995,1996,1997,1998,1999,2000,2001,2002,2003,2004,2005,2006,2007,2008,2009,2010,2011,2012,2013,2014,2015,2016,2017,2018,2019,2020],\"value\":{\"__ndarray__\":\"a156oLpiBUA+JYSaY0n+P3iqiELnTwVAbcyNF0ImCEDzvGDfaqsHQKbPSxvHOQ9A0n7RCZR5AUAIymOJq/vxP9oJv2zsxu0/rQf0C3TCBEDTnAsP2fH+P+gRbvVG9AtAipmWu0M4CUBVhEpFK6PkP+erokelTRHA/TTNv4atAUC4eDazr0/9P7hFwdX/Dui/uXzuewlSrL+guDwGxir5Pzy6tlyiZwJA2dSfG59bAED2PnHaNVAGQGPgAs4n8gBArfur7UTe+D9mZmZmZmYYwA==\",\"dtype\":\"float64\",\"order\":\"little\",\"shape\":[26]}},\"selected\":{\"id\":\"4365\"},\"selection_policy\":{\"id\":\"4386\"}},\"id\":\"4364\",\"type\":\"ColumnDataSource\"},{\"attributes\":{\"data\":{\"Variable\":[\"United States\",\"United States\",\"United States\",\"United States\",\"United States\",\"United States\",\"United States\",\"United States\",\"United States\",\"United States\",\"United States\",\"United States\",\"United States\",\"United States\",\"United States\",\"United States\",\"United States\",\"United States\",\"United States\",\"United States\",\"United States\",\"United States\",\"United States\",\"United States\",\"United States\",\"United States\"],\"Year\":[1995,1996,1997,1998,1999,2000,2001,2002,2003,2004,2005,2006,2007,2008,2009,2010,2011,2012,2013,2014,2015,2016,2017,2018,2019,2020],\"value\":{\"__ndarray__\":\"HNRsiGt5BUB4IgwsFS4OQLMlihTzyRFAxLoAGvbsEUCED65LUAMTQBgIKCuLghBAN2bIZ2jy7z9WisTU+937P5CfJXnC4wZAN8xyByFkDkB7aK3VDxsMQPEqV7f71gZAqZ4OXMwE/j/7rrxvcnvBv9BfbEpHSwTAfU41C5iCBECofbLjOND4Pw8uJ+UR/wFA5bADACp5/T+rg3KRMTUEQG1iKPegQwdAPCMPGZY0+j9zhQodWvUCQCBv3cApawdAMM4uyxZKAUBhyNgineMLwA==\",\"dtype\":\"float64\",\"order\":\"little\",\"shape\":[26]}},\"selected\":{\"id\":\"4481\"},\"selection_policy\":{\"id\":\"4510\"}},\"id\":\"4480\",\"type\":\"ColumnDataSource\"},{\"attributes\":{\"click_policy\":\"mute\",\"items\":[{\"id\":\"4316\"},{\"id\":\"4338\"},{\"id\":\"4362\"},{\"id\":\"4388\"},{\"id\":\"4416\"},{\"id\":\"4446\"},{\"id\":\"4478\"},{\"id\":\"4512\"}],\"location\":[0,0],\"title\":\"Variable\"},\"id\":\"4315\",\"type\":\"Legend\"},{\"attributes\":{\"axis\":{\"id\":\"4270\"},\"grid_line_color\":null,\"ticker\":null},\"id\":\"4273\",\"type\":\"Grid\"},{\"attributes\":{\"line_alpha\":0.2,\"line_color\":\"#30a2da\",\"line_width\":2,\"x\":{\"field\":\"Year\"},\"y\":{\"field\":\"value\"}},\"id\":\"4302\",\"type\":\"Line\"},{\"attributes\":{\"end\":2020.0,\"reset_end\":2020.0,\"reset_start\":1995.0,\"start\":1995.0,\"tags\":[[[\"Year\",\"Year\",null]]]},\"id\":\"4251\",\"type\":\"Range1d\"},{\"attributes\":{\"end\":16.632971059173695,\"reset_end\":16.632971059173695,\"reset_start\":-12.192350490910622,\"start\":-12.192350490910622,\"tags\":[[[\"value\",\"value\",null]]]},\"id\":\"4252\",\"type\":\"Range1d\"},{\"attributes\":{\"text_color\":\"black\",\"text_font_size\":\"12pt\"},\"id\":\"4262\",\"type\":\"Title\"},{\"attributes\":{\"line_alpha\":0.2,\"line_color\":\"#e5ae38\",\"line_width\":2,\"x\":{\"field\":\"Year\"},\"y\":{\"field\":\"value\"}},\"id\":\"4345\",\"type\":\"Line\"},{\"attributes\":{\"source\":{\"id\":\"4340\"}},\"id\":\"4347\",\"type\":\"CDSView\"},{\"attributes\":{},\"id\":\"4365\",\"type\":\"Selection\"},{\"attributes\":{\"source\":{\"id\":\"4297\"}},\"id\":\"4304\",\"type\":\"CDSView\"},{\"attributes\":{\"line_color\":\"#e5ae38\",\"line_width\":2,\"x\":{\"field\":\"Year\"},\"y\":{\"field\":\"value\"}},\"id\":\"4363\",\"type\":\"Line\"},{\"attributes\":{},\"id\":\"4271\",\"type\":\"BasicTicker\"},{\"attributes\":{},\"id\":\"4295\",\"type\":\"BasicTickFormatter\"},{\"attributes\":{},\"id\":\"4319\",\"type\":\"Selection\"},{\"attributes\":{\"data\":{\"Variable\":[\"Canada\",\"Canada\",\"Canada\",\"Canada\",\"Canada\",\"Canada\",\"Canada\",\"Canada\",\"Canada\",\"Canada\",\"Canada\",\"Canada\",\"Canada\",\"Canada\",\"Canada\",\"Canada\",\"Canada\",\"Canada\",\"Canada\",\"Canada\",\"Canada\",\"Canada\",\"Canada\",\"Canada\",\"Canada\",\"Canada\"],\"Year\":[1995,1996,1997,1998,1999,2000,2001,2002,2003,2004,2005,2006,2007,2008,2009,2010,2011,2012,2013,2014,2015,2016,2017,2018,2019,2020],\"value\":{\"__ndarray__\":\"bY5kcEONBUBOILJpIej5P/2wAbgpww7AQczrqVFfBkC4AZpmjMMPQG/eK//JqxNAeBdGfwp99j/tnPQrjmALQOzwidUcfQ5AeldyUu5PD0By4p7zwvsTQOVClBjMqRBA41KnmXR5G0DXt5v5OB/wP3HtFhFdbQfAKIuQ9Ei3CECJDQkk0CwJQP6og0UQMvw/Ni79+gqiAkC8uEN51fUGQGgdJRT6F+U/8G4oJrYF8D/9g+Cip10JQErfsNzuGwBA4ddhryR/+j9tokg5d5wVwA==\",\"dtype\":\"float64\",\"order\":\"little\",\"shape\":[26]}},\"selected\":{\"id\":\"4319\"},\"selection_policy\":{\"id\":\"4336\"}},\"id\":\"4318\",\"type\":\"ColumnDataSource\"},{\"attributes\":{},\"id\":\"4336\",\"type\":\"UnionRenderers\"},{\"attributes\":{},\"id\":\"4268\",\"type\":\"LinearScale\"},{\"attributes\":{\"axis_label\":\"\",\"formatter\":{\"id\":\"4295\"},\"major_label_policy\":{\"id\":\"4296\"},\"ticker\":{\"id\":\"4275\"}},\"id\":\"4274\",\"type\":\"LinearAxis\"},{\"attributes\":{\"line_alpha\":0.1,\"line_color\":\"#30a2da\",\"line_width\":2,\"x\":{\"field\":\"Year\"},\"y\":{\"field\":\"value\"}},\"id\":\"4301\",\"type\":\"Line\"},{\"attributes\":{},\"id\":\"4298\",\"type\":\"Selection\"},{\"attributes\":{\"axis_label\":\"Year\",\"formatter\":{\"id\":\"4292\"},\"major_label_policy\":{\"id\":\"4293\"},\"ticker\":{\"id\":\"4271\"}},\"id\":\"4270\",\"type\":\"LinearAxis\"},{\"attributes\":{},\"id\":\"4275\",\"type\":\"BasicTicker\"},{\"attributes\":{\"line_color\":\"#30a2da\",\"line_width\":2,\"x\":{\"field\":\"Year\"},\"y\":{\"field\":\"value\"}},\"id\":\"4300\",\"type\":\"Line\"},{\"attributes\":{\"axis\":{\"id\":\"4274\"},\"dimension\":1,\"grid_line_color\":null,\"ticker\":null},\"id\":\"4277\",\"type\":\"Grid\"},{\"attributes\":{\"data_source\":{\"id\":\"4297\"},\"glyph\":{\"id\":\"4300\"},\"hover_glyph\":null,\"muted_glyph\":{\"id\":\"4302\"},\"nonselection_glyph\":{\"id\":\"4301\"},\"selection_glyph\":{\"id\":\"4317\"},\"view\":{\"id\":\"4304\"}},\"id\":\"4303\",\"type\":\"GlyphRenderer\"},{\"attributes\":{\"line_color\":\"#d62728\",\"line_width\":2,\"x\":{\"field\":\"Year\"},\"y\":{\"field\":\"value\"}},\"id\":\"4513\",\"type\":\"Line\"},{\"attributes\":{},\"id\":\"4313\",\"type\":\"UnionRenderers\"},{\"attributes\":{\"data\":{\"Variable\":[\"United Kingdom\",\"United Kingdom\",\"United Kingdom\",\"United Kingdom\",\"United Kingdom\",\"United Kingdom\",\"United Kingdom\",\"United Kingdom\",\"United Kingdom\",\"United Kingdom\",\"United Kingdom\",\"United Kingdom\",\"United Kingdom\",\"United Kingdom\",\"United Kingdom\",\"United Kingdom\",\"United Kingdom\",\"United Kingdom\",\"United Kingdom\",\"United Kingdom\",\"United Kingdom\",\"United Kingdom\",\"United Kingdom\",\"United Kingdom\",\"United Kingdom\",\"United Kingdom\"],\"Year\":[1995,1996,1997,1998,1999,2000,2001,2002,2003,2004,2005,2006,2007,2008,2009,2010,2011,2012,2013,2014,2015,2016,2017,2018,2019,2020],\"value\":{\"__ndarray__\":\"xWxpONxABEC1/afyqO4DQDvhNxux1g5AvEa05agoDUB9JylaAG0LQN3cGyDxfwtAZl7AK3/LB0CJSatmRZgCQL7belWASgpAhWsMP9r9AkB4pqyzFXAJQMHTLBx9TgZAa91r4MVxA0CIJAt8a/7Rv8tJ/fzE/RDAQK4raz0x/z8meG6acaT4P8Ch7SGsqfc/eY0osKodAUCeOT9THNwEQPGfmSAd2AJAVIOJb8Ow/j/LQSmK8kX+P2udKnKXc/U//w5tSQxn9z9VR3timpQjwA==\",\"dtype\":\"float64\",\"order\":\"little\",\"shape\":[26]}},\"selected\":{\"id\":\"4391\"},\"selection_policy\":{\"id\":\"4414\"}},\"id\":\"4390\",\"type\":\"ColumnDataSource\"},{\"attributes\":{},\"id\":\"4476\",\"type\":\"UnionRenderers\"},{\"attributes\":{},\"id\":\"4510\",\"type\":\"UnionRenderers\"},{\"attributes\":{\"label\":{\"value\":\"United States\"},\"renderers\":[{\"id\":\"4486\"}]},\"id\":\"4512\",\"type\":\"LegendItem\"},{\"attributes\":{},\"id\":\"4341\",\"type\":\"Selection\"},{\"attributes\":{\"line_color\":\"#9467bd\",\"line_width\":2,\"x\":{\"field\":\"Year\"},\"y\":{\"field\":\"value\"}},\"id\":\"4479\",\"type\":\"Line\"},{\"attributes\":{},\"id\":\"4296\",\"type\":\"AllLabels\"},{\"attributes\":{\"children\":[{\"id\":\"4250\"},{\"id\":\"4261\"},{\"id\":\"4730\"}],\"margin\":[0,0,0,0],\"name\":\"Row11538\",\"tags\":[\"embedded\"]},\"id\":\"4249\",\"type\":\"Row\"},{\"attributes\":{\"label\":{\"value\":\"Korea, Rep.\"},\"renderers\":[{\"id\":\"4454\"}]},\"id\":\"4478\",\"type\":\"LegendItem\"},{\"attributes\":{},\"id\":\"4278\",\"type\":\"SaveTool\"},{\"attributes\":{\"below\":[{\"id\":\"4270\"}],\"center\":[{\"id\":\"4273\"},{\"id\":\"4277\"}],\"height\":300,\"left\":[{\"id\":\"4274\"}],\"margin\":[5,5,5,5],\"min_border_bottom\":10,\"min_border_left\":10,\"min_border_right\":10,\"min_border_top\":10,\"renderers\":[{\"id\":\"4303\"},{\"id\":\"4324\"},{\"id\":\"4346\"},{\"id\":\"4370\"},{\"id\":\"4396\"},{\"id\":\"4424\"},{\"id\":\"4454\"},{\"id\":\"4486\"}],\"right\":[{\"id\":\"4315\"}],\"sizing_mode\":\"fixed\",\"title\":{\"id\":\"4262\"},\"toolbar\":{\"id\":\"4284\"},\"width\":700,\"x_range\":{\"id\":\"4251\"},\"x_scale\":{\"id\":\"4266\"},\"y_range\":{\"id\":\"4252\"},\"y_scale\":{\"id\":\"4268\"}},\"id\":\"4261\",\"subtype\":\"Figure\",\"type\":\"Plot\"},{\"attributes\":{},\"id\":\"4279\",\"type\":\"PanTool\"},{\"attributes\":{},\"id\":\"4282\",\"type\":\"ResetTool\"},{\"attributes\":{},\"id\":\"4280\",\"type\":\"WheelZoomTool\"},{\"attributes\":{\"margin\":[5,5,5,5],\"name\":\"HSpacer11542\",\"sizing_mode\":\"stretch_width\"},\"id\":\"4250\",\"type\":\"Spacer\"},{\"attributes\":{\"callback\":null,\"renderers\":[{\"id\":\"4303\"},{\"id\":\"4324\"},{\"id\":\"4346\"},{\"id\":\"4370\"},{\"id\":\"4396\"},{\"id\":\"4424\"},{\"id\":\"4454\"},{\"id\":\"4486\"}],\"tags\":[\"hv_created\"],\"tooltips\":[[\"Variable\",\"@{Variable}\"],[\"Year\",\"@{Year}\"],[\"value\",\"@{value}\"]]},\"id\":\"4253\",\"type\":\"HoverTool\"},{\"attributes\":{\"overlay\":{\"id\":\"4283\"}},\"id\":\"4281\",\"type\":\"BoxZoomTool\"},{\"attributes\":{\"line_color\":\"#fc4f30\",\"line_width\":2,\"x\":{\"field\":\"Year\"},\"y\":{\"field\":\"value\"}},\"id\":\"4321\",\"type\":\"Line\"},{\"attributes\":{\"line_alpha\":0.2,\"line_color\":\"#d62728\",\"line_width\":2,\"x\":{\"field\":\"Year\"},\"y\":{\"field\":\"value\"}},\"id\":\"4485\",\"type\":\"Line\"},{\"attributes\":{\"label\":{\"value\":\"European Union\"},\"renderers\":[{\"id\":\"4370\"}]},\"id\":\"4388\",\"type\":\"LegendItem\"},{\"attributes\":{},\"id\":\"4293\",\"type\":\"AllLabels\"},{\"attributes\":{},\"id\":\"4386\",\"type\":\"UnionRenderers\"},{\"attributes\":{\"line_color\":\"#9467bd\",\"line_width\":2,\"x\":{\"field\":\"Year\"},\"y\":{\"field\":\"value\"}},\"id\":\"4451\",\"type\":\"Line\"},{\"attributes\":{},\"id\":\"4414\",\"type\":\"UnionRenderers\"},{\"attributes\":{\"data_source\":{\"id\":\"4480\"},\"glyph\":{\"id\":\"4483\"},\"hover_glyph\":null,\"muted_glyph\":{\"id\":\"4485\"},\"nonselection_glyph\":{\"id\":\"4484\"},\"selection_glyph\":{\"id\":\"4513\"},\"view\":{\"id\":\"4487\"}},\"id\":\"4486\",\"type\":\"GlyphRenderer\"},{\"attributes\":{\"line_color\":\"#6d904f\",\"line_width\":2,\"x\":{\"field\":\"Year\"},\"y\":{\"field\":\"value\"}},\"id\":\"4389\",\"type\":\"Line\"},{\"attributes\":{\"line_alpha\":0.1,\"line_color\":\"#9467bd\",\"line_width\":2,\"x\":{\"field\":\"Year\"},\"y\":{\"field\":\"value\"}},\"id\":\"4452\",\"type\":\"Line\"},{\"attributes\":{\"data\":{\"Variable\":[\"Korea, Rep.\",\"Korea, Rep.\",\"Korea, Rep.\",\"Korea, Rep.\",\"Korea, Rep.\",\"Korea, Rep.\",\"Korea, Rep.\",\"Korea, Rep.\",\"Korea, Rep.\",\"Korea, Rep.\",\"Korea, Rep.\",\"Korea, Rep.\",\"Korea, Rep.\",\"Korea, Rep.\",\"Korea, Rep.\",\"Korea, Rep.\",\"Korea, Rep.\",\"Korea, Rep.\",\"Korea, Rep.\",\"Korea, Rep.\",\"Korea, Rep.\",\"Korea, Rep.\",\"Korea, Rep.\",\"Korea, Rep.\",\"Korea, Rep.\",\"Korea, Rep.\"],\"Year\":[1995,1996,1997,1998,1999,2000,2001,2002,2003,2004,2005,2006,2007,2008,2009,2010,2011,2012,2013,2014,2015,2016,2017,2018,2019,2020],\"value\":{\"__ndarray__\":\"dGCwUKg6I0AJb16IFJAfQKzfoEulrhhAEc9MD46EFMD27QMUE+8mQI7DqoslHyJAJHXzbttoE0BfPCjNi+YeQBXAaQGnLQlAN2Qi9iDKFEBCMgif8jsRQMDzg6GrDhVAfPnX0bwyF0CPBSfQlxoIQFHps0XKXek/dkP3BSQ4G0AJ49xjP3wNQKohMitiOANAAOnnwlJRCUAHz2MYoJ4JQH4sWSILeQZA2Nd4uDaTB0ADlVQa70YJQJrG7OhcQgdA9fagzZVQAEB+JehZBabuvw==\",\"dtype\":\"float64\",\"order\":\"little\",\"shape\":[26]}},\"selected\":{\"id\":\"4449\"},\"selection_policy\":{\"id\":\"4476\"}},\"id\":\"4448\",\"type\":\"ColumnDataSource\"},{\"attributes\":{\"data\":{\"Variable\":[\"India\",\"India\",\"India\",\"India\",\"India\",\"India\",\"India\",\"India\",\"India\",\"India\",\"India\",\"India\",\"India\",\"India\",\"India\",\"India\",\"India\",\"India\",\"India\",\"India\",\"India\",\"India\",\"India\",\"India\",\"India\",\"India\"],\"Year\":[1995,1996,1997,1998,1999,2000,2001,2002,2003,2004,2005,2006,2007,2008,2009,2010,2011,2012,2013,2014,2015,2016,2017,2018,2019,2020],\"value\":{\"__ndarray__\":\"uHnClkdMHkB5hN/1tTIeQLB0lDwEMxBAbj1AgNe8GEBuz3XfBrEhQFVSXJJZug5AmYzzz71LE0CK4/Ocim4OQFEEdtcHcR9AynakSxaxH0CnR/XLl7EfQIKs/VYYHyBAN4RTtKykHkD4nKLAjrEIQCUXevySch9A6igMbMP+IEBx/IgTI/cUQKIgx8JP0xVA+Uj0eV+LGUDNkI20EqQdQIsH4twp/B9A4oEDhTqDIEBYbsxf3ywcQACCDPl0ehhAXW+bqRC5EED14OTUwtsfwA==\",\"dtype\":\"float64\",\"order\":\"little\",\"shape\":[26]}},\"selected\":{\"id\":\"4419\"},\"selection_policy\":{\"id\":\"4444\"}},\"id\":\"4418\",\"type\":\"ColumnDataSource\"},{\"attributes\":{\"line_color\":\"#d62728\",\"line_width\":2,\"x\":{\"field\":\"Year\"},\"y\":{\"field\":\"value\"}},\"id\":\"4483\",\"type\":\"Line\"},{\"attributes\":{\"source\":{\"id\":\"4318\"}},\"id\":\"4325\",\"type\":\"CDSView\"},{\"attributes\":{\"label\":{\"value\":\"United Kingdom\"},\"renderers\":[{\"id\":\"4396\"}]},\"id\":\"4416\",\"type\":\"LegendItem\"},{\"attributes\":{\"line_alpha\":0.1,\"line_color\":\"#d62728\",\"line_width\":2,\"x\":{\"field\":\"Year\"},\"y\":{\"field\":\"value\"}},\"id\":\"4484\",\"type\":\"Line\"},{\"attributes\":{\"line_color\":\"#8b8b8b\",\"line_width\":2,\"x\":{\"field\":\"Year\"},\"y\":{\"field\":\"value\"}},\"id\":\"4417\",\"type\":\"Line\"},{\"attributes\":{\"source\":{\"id\":\"4418\"}},\"id\":\"4425\",\"type\":\"CDSView\"},{\"attributes\":{},\"id\":\"4292\",\"type\":\"BasicTickFormatter\"},{\"attributes\":{\"line_alpha\":0.2,\"line_color\":\"#9467bd\",\"line_width\":2,\"x\":{\"field\":\"Year\"},\"y\":{\"field\":\"value\"}},\"id\":\"4453\",\"type\":\"Line\"},{\"attributes\":{},\"id\":\"4419\",\"type\":\"Selection\"},{\"attributes\":{\"line_alpha\":0.1,\"line_color\":\"#fc4f30\",\"line_width\":2,\"x\":{\"field\":\"Year\"},\"y\":{\"field\":\"value\"}},\"id\":\"4322\",\"type\":\"Line\"},{\"attributes\":{\"margin\":[5,5,5,5],\"name\":\"HSpacer11543\",\"sizing_mode\":\"stretch_width\"},\"id\":\"4730\",\"type\":\"Spacer\"},{\"attributes\":{\"data_source\":{\"id\":\"4448\"},\"glyph\":{\"id\":\"4451\"},\"hover_glyph\":null,\"muted_glyph\":{\"id\":\"4453\"},\"nonselection_glyph\":{\"id\":\"4452\"},\"selection_glyph\":{\"id\":\"4479\"},\"view\":{\"id\":\"4455\"}},\"id\":\"4454\",\"type\":\"GlyphRenderer\"},{\"attributes\":{\"label\":{\"value\":\"China\"},\"renderers\":[{\"id\":\"4346\"}]},\"id\":\"4362\",\"type\":\"LegendItem\"},{\"attributes\":{\"label\":{\"value\":\"Australia\"},\"renderers\":[{\"id\":\"4303\"}]},\"id\":\"4316\",\"type\":\"LegendItem\"},{\"attributes\":{\"source\":{\"id\":\"4480\"}},\"id\":\"4487\",\"type\":\"CDSView\"},{\"attributes\":{},\"id\":\"4481\",\"type\":\"Selection\"}],\"root_ids\":[\"4249\"]},\"title\":\"Bokeh Application\",\"version\":\"2.3.2\"}};\n",
       "    var render_items = [{\"docid\":\"8f731790-69ea-44b7-9b56-ab7375663ed1\",\"root_ids\":[\"4249\"],\"roots\":{\"4249\":\"2f2ef7fd-422e-40bc-9fb9-04dbc607aaa8\"}}];\n",
       "    root.Bokeh.embed.embed_items_notebook(docs_json, render_items);\n",
       "  }\n",
       "  if (root.Bokeh !== undefined && root.Bokeh.Panel !== undefined && root['Plotly'] !== undefined ) {\n",
       "    embed_document(root);\n",
       "  } else {\n",
       "    var attempts = 0;\n",
       "    var timer = setInterval(function(root) {\n",
       "      if (root.Bokeh !== undefined && root.Bokeh.Panel !== undefined && root['Plotly'] !== undefined) {\n",
       "        clearInterval(timer);\n",
       "        embed_document(root);\n",
       "      } else if (document.readyState == \"complete\") {\n",
       "        attempts++;\n",
       "        if (attempts > 100) {\n",
       "          clearInterval(timer);\n",
       "          console.log(\"Bokeh: ERROR: Unable to run BokehJS code because BokehJS library is missing\");\n",
       "        }\n",
       "      }\n",
       "    }, 10, root)\n",
       "  }\n",
       "})(window);</script>"
      ],
      "text/plain": [
       ":NdOverlay   [Variable]\n",
       "   :Curve   [Year]   (value)"
      ]
     },
     "execution_count": 97,
     "metadata": {
      "application/vnd.holoviews_exec.v0+json": {
       "id": "4249"
      }
     },
     "output_type": "execute_result"
    }
   ],
   "source": [
    "#Create line plots\n",
    "gdp_hvplot = gdp_new.hvplot.line()\n",
    "gdp_hvplot"
   ]
  },
  {
   "cell_type": "code",
   "execution_count": 98,
   "id": "b4f2f64d",
   "metadata": {},
   "outputs": [
    {
     "data": {
      "application/vnd.plotly.v1+json": {
       "config": {
        "linkText": "Export to plot.ly",
        "plotlyServerURL": "https://plot.ly",
        "showLink": true
       },
       "data": [
        {
         "line": {
          "color": "rgba(255, 153, 51, 1.0)",
          "dash": "dash",
          "shape": "linear",
          "width": 1.3
         },
         "mode": "lines",
         "name": "Australia",
         "text": "",
         "type": "scatter",
         "x": [
          1995,
          1996,
          1997,
          1998,
          1999,
          2000,
          2001,
          2002,
          2003,
          2004,
          2005,
          2006,
          2007,
          2008,
          2009,
          2010,
          2011,
          2012,
          2013,
          2014,
          2015,
          2016,
          2017,
          2018,
          2019,
          2020
         ],
         "y": [
          3.8377552930000003,
          3.878585293,
          3.966537662,
          4.576688759,
          5.073599095,
          3.933136945,
          1.930857592,
          4.001404062,
          2.985934322,
          4.055451968,
          3.204269793,
          2.794537024,
          3.8442303160000004,
          3.6579535260000013,
          1.93699392,
          2.067417128,
          2.462756312,
          3.9181628710000003,
          2.5848977019999997,
          2.533114665,
          2.1926474259999997,
          2.770652197,
          2.300610624,
          2.949285772,
          2.160956295,
          -0.284839297785609
         ]
        },
        {
         "line": {
          "color": "rgba(55, 128, 191, 1.0)",
          "dash": "dash",
          "shape": "linear",
          "width": 1.3
         },
         "mode": "lines",
         "name": "Canada",
         "text": "",
         "type": "scatter",
         "x": [
          1995,
          1996,
          1997,
          1998,
          1999,
          2000,
          2001,
          2002,
          2003,
          2004,
          2005,
          2006,
          2007,
          2008,
          2009,
          2010,
          2011,
          2012,
          2013,
          2014,
          2015,
          2016,
          2017,
          2018,
          2019,
          2020
         ],
         "y": [
          2.6939762860000003,
          1.61917249,
          -3.845294416,
          2.79654248,
          3.970482637,
          4.917762744,
          1.405527589,
          3.422146171,
          3.8110901530000003,
          3.914028782,
          4.9958608689999995,
          4.165817627,
          6.868608857000001,
          1.007622695,
          -2.928400167,
          3.08949462,
          3.1468813719999997,
          1.762222549,
          2.329122506,
          2.870036075,
          0.659176864,
          1.001394414,
          3.1707298969999997,
          2.013639187,
          1.656040845,
          -5.40279855256868
         ]
        },
        {
         "line": {
          "color": "rgba(50, 171, 96, 1.0)",
          "dash": "dash",
          "shape": "linear",
          "width": 1.3
         },
         "mode": "lines",
         "name": "China",
         "text": "",
         "type": "scatter",
         "x": [
          1995,
          1996,
          1997,
          1998,
          1999,
          2000,
          2001,
          2002,
          2003,
          2004,
          2005,
          2006,
          2007,
          2008,
          2009,
          2010,
          2011,
          2012,
          2013,
          2014,
          2015,
          2016,
          2017,
          2018,
          2019,
          2020
         ],
         "y": [
          10.95395434,
          9.922556753,
          9.236779892000001,
          7.845951787000001,
          7.6616515,
          8.490093406,
          8.335733478,
          9.13363079,
          10.03803048,
          10.11362138,
          11.39459181,
          12.72095567,
          14.23086093,
          9.650678919,
          9.398725633,
          10.63587106,
          9.550832179,
          7.863736449,
          7.766150098,
          7.425763656,
          7.041328879,
          6.848762205,
          6.9472007929999995,
          6.749773833,
          5.949714233,
          2.29999999998371
         ]
        },
        {
         "line": {
          "color": "rgba(128, 0, 128, 1.0)",
          "dash": "dash",
          "shape": "linear",
          "width": 1.3
         },
         "mode": "lines",
         "name": "European Union",
         "text": "",
         "type": "scatter",
         "x": [
          1995,
          1996,
          1997,
          1998,
          1999,
          2000,
          2001,
          2002,
          2003,
          2004,
          2005,
          2006,
          2007,
          2008,
          2009,
          2010,
          2011,
          2012,
          2013,
          2014,
          2015,
          2016,
          2017,
          2018,
          2019,
          2020
         ],
         "y": [
          2.673207525,
          1.892917255,
          2.664015312,
          3.018680748,
          2.958699937,
          3.903211797,
          2.184364392,
          1.1239428870000001,
          0.930532658,
          2.594947904,
          1.9340448940000001,
          3.494275968,
          3.15247294,
          0.644918094,
          -4.325825805,
          2.20972967,
          1.83195467,
          -0.7518309759999999,
          -0.055313392999999995,
          1.5729427569999999,
          2.30060265,
          2.0447370680000003,
          2.789165217,
          2.118239984,
          1.554264954,
          -6.1
         ]
        },
        {
         "line": {
          "color": "rgba(219, 64, 82, 1.0)",
          "dash": "dash",
          "shape": "linear",
          "width": 1.3
         },
         "mode": "lines",
         "name": "United Kingdom",
         "text": "",
         "type": "scatter",
         "x": [
          1995,
          1996,
          1997,
          1998,
          1999,
          2000,
          2001,
          2002,
          2003,
          2004,
          2005,
          2006,
          2007,
          2008,
          2009,
          2010,
          2011,
          2012,
          2013,
          2014,
          2015,
          2016,
          2017,
          2018,
          2019,
          2020
         ],
         "y": [
          2.531670037,
          2.49153318,
          3.8548299910000003,
          3.6448533960000002,
          3.428223328,
          3.4374716289999996,
          2.974363653,
          2.324351122,
          3.28637759,
          2.3739514280000003,
          3.179728893,
          2.7883245660000004,
          2.430553201,
          -0.281153556,
          -4.247821763,
          1.949521464,
          1.5401474030000002,
          1.478923924,
          2.139485718,
          2.607475901,
          2.355524306,
          1.9181551319999999,
          1.892077007,
          1.340720602,
          1.4626582019999999,
          -9.79024036173693
         ]
        },
        {
         "line": {
          "color": "rgba(0, 128, 128, 1.0)",
          "dash": "dash",
          "shape": "linear",
          "width": 1.3
         },
         "mode": "lines",
         "name": "India",
         "text": "",
         "type": "scatter",
         "x": [
          1995,
          1996,
          1997,
          1998,
          1999,
          2000,
          2001,
          2002,
          2003,
          2004,
          2005,
          2006,
          2007,
          2008,
          2009,
          2010,
          2011,
          2012,
          2013,
          2014,
          2015,
          2016,
          2017,
          2018,
          2019,
          2020
         ],
         "y": [
          7.57449184,
          7.549522249,
          4.049820849,
          6.184415821,
          8.845755561,
          3.840991157,
          4.823966264,
          3.8039753210000002,
          7.8603814760000015,
          7.922936612999999,
          7.9234306210000005,
          8.060732573,
          7.660815065,
          3.08669806,
          7.861888832999999,
          8.497584702000001,
          5.241344743,
          5.456358951,
          6.386106401,
          7.410227605,
          7.996253444,
          8.256305844,
          7.043820855,
          6.119586841,
          4.180727625,
          -7.9646104111382
         ]
        },
        {
         "line": {
          "color": "rgba(255, 255, 51, 1.0)",
          "dash": "dash",
          "shape": "linear",
          "width": 1.3
         },
         "mode": "lines",
         "name": "Korea, Rep.",
         "text": "",
         "type": "scatter",
         "x": [
          1995,
          1996,
          1997,
          1998,
          1999,
          2000,
          2001,
          2002,
          2003,
          2004,
          2005,
          2006,
          2007,
          2008,
          2009,
          2010,
          2011,
          2012,
          2013,
          2014,
          2015,
          2016,
          2017,
          2018,
          2019,
          2020
         ],
         "y": [
          9.614565393,
          7.8907033260000015,
          6.1705524270000005,
          -5.129448165,
          11.46694243,
          9.060833325,
          4.8523995719999995,
          7.725142675,
          3.1472911939999997,
          5.197391363,
          4.308542714,
          5.264326595,
          5.799548415,
          3.012984873,
          0.79269899,
          6.804824918,
          3.685667782,
          2.402530992,
          3.1647086360000003,
          3.202453795,
          2.8091032680000003,
          2.946881715,
          3.15963574,
          2.9074037739999996,
          2.039348227,
          -0.9577662235252971
         ]
        },
        {
         "line": {
          "color": "rgba(128, 128, 0, 1.0)",
          "dash": "dash",
          "shape": "linear",
          "width": 1.3
         },
         "mode": "lines",
         "name": "United States",
         "text": "",
         "type": "scatter",
         "x": [
          1995,
          1996,
          1997,
          1998,
          1999,
          2000,
          2001,
          2002,
          2003,
          2004,
          2005,
          2006,
          2007,
          2008,
          2009,
          2010,
          2011,
          2012,
          2013,
          2014,
          2015,
          2016,
          2017,
          2018,
          2019,
          2020
         ],
         "y": [
          2.684287134,
          3.77250132,
          4.44721634,
          4.481407553,
          4.753235991,
          4.127484011,
          0.9983408000000001,
          1.7416952430000001,
          2.8612107719999997,
          3.798891123,
          3.513213796,
          2.8549722980000003,
          1.876171455,
          -0.136579804,
          -2.53675707,
          2.563766563,
          1.5508355040000001,
          2.249545851,
          1.84208107,
          2.52597345,
          2.9080218610000004,
          1.637838457,
          2.369800784,
          2.927325732,
          2.161176288,
          -3.4861395571142997
         ]
        }
       ],
       "layout": {
        "autosize": true,
        "legend": {
         "bgcolor": "#151516",
         "font": {
          "color": "#D9D9D9"
         }
        },
        "paper_bgcolor": "#151516",
        "plot_bgcolor": "#151516",
        "template": {
         "data": {
          "bar": [
           {
            "error_x": {
             "color": "#2a3f5f"
            },
            "error_y": {
             "color": "#2a3f5f"
            },
            "marker": {
             "line": {
              "color": "#E5ECF6",
              "width": 0.5
             }
            },
            "type": "bar"
           }
          ],
          "barpolar": [
           {
            "marker": {
             "line": {
              "color": "#E5ECF6",
              "width": 0.5
             }
            },
            "type": "barpolar"
           }
          ],
          "carpet": [
           {
            "aaxis": {
             "endlinecolor": "#2a3f5f",
             "gridcolor": "white",
             "linecolor": "white",
             "minorgridcolor": "white",
             "startlinecolor": "#2a3f5f"
            },
            "baxis": {
             "endlinecolor": "#2a3f5f",
             "gridcolor": "white",
             "linecolor": "white",
             "minorgridcolor": "white",
             "startlinecolor": "#2a3f5f"
            },
            "type": "carpet"
           }
          ],
          "choropleth": [
           {
            "colorbar": {
             "outlinewidth": 0,
             "ticks": ""
            },
            "type": "choropleth"
           }
          ],
          "contour": [
           {
            "colorbar": {
             "outlinewidth": 0,
             "ticks": ""
            },
            "colorscale": [
             [
              0,
              "#0d0887"
             ],
             [
              0.1111111111111111,
              "#46039f"
             ],
             [
              0.2222222222222222,
              "#7201a8"
             ],
             [
              0.3333333333333333,
              "#9c179e"
             ],
             [
              0.4444444444444444,
              "#bd3786"
             ],
             [
              0.5555555555555556,
              "#d8576b"
             ],
             [
              0.6666666666666666,
              "#ed7953"
             ],
             [
              0.7777777777777778,
              "#fb9f3a"
             ],
             [
              0.8888888888888888,
              "#fdca26"
             ],
             [
              1,
              "#f0f921"
             ]
            ],
            "type": "contour"
           }
          ],
          "contourcarpet": [
           {
            "colorbar": {
             "outlinewidth": 0,
             "ticks": ""
            },
            "type": "contourcarpet"
           }
          ],
          "heatmap": [
           {
            "colorbar": {
             "outlinewidth": 0,
             "ticks": ""
            },
            "colorscale": [
             [
              0,
              "#0d0887"
             ],
             [
              0.1111111111111111,
              "#46039f"
             ],
             [
              0.2222222222222222,
              "#7201a8"
             ],
             [
              0.3333333333333333,
              "#9c179e"
             ],
             [
              0.4444444444444444,
              "#bd3786"
             ],
             [
              0.5555555555555556,
              "#d8576b"
             ],
             [
              0.6666666666666666,
              "#ed7953"
             ],
             [
              0.7777777777777778,
              "#fb9f3a"
             ],
             [
              0.8888888888888888,
              "#fdca26"
             ],
             [
              1,
              "#f0f921"
             ]
            ],
            "type": "heatmap"
           }
          ],
          "heatmapgl": [
           {
            "colorbar": {
             "outlinewidth": 0,
             "ticks": ""
            },
            "colorscale": [
             [
              0,
              "#0d0887"
             ],
             [
              0.1111111111111111,
              "#46039f"
             ],
             [
              0.2222222222222222,
              "#7201a8"
             ],
             [
              0.3333333333333333,
              "#9c179e"
             ],
             [
              0.4444444444444444,
              "#bd3786"
             ],
             [
              0.5555555555555556,
              "#d8576b"
             ],
             [
              0.6666666666666666,
              "#ed7953"
             ],
             [
              0.7777777777777778,
              "#fb9f3a"
             ],
             [
              0.8888888888888888,
              "#fdca26"
             ],
             [
              1,
              "#f0f921"
             ]
            ],
            "type": "heatmapgl"
           }
          ],
          "histogram": [
           {
            "marker": {
             "colorbar": {
              "outlinewidth": 0,
              "ticks": ""
             }
            },
            "type": "histogram"
           }
          ],
          "histogram2d": [
           {
            "colorbar": {
             "outlinewidth": 0,
             "ticks": ""
            },
            "colorscale": [
             [
              0,
              "#0d0887"
             ],
             [
              0.1111111111111111,
              "#46039f"
             ],
             [
              0.2222222222222222,
              "#7201a8"
             ],
             [
              0.3333333333333333,
              "#9c179e"
             ],
             [
              0.4444444444444444,
              "#bd3786"
             ],
             [
              0.5555555555555556,
              "#d8576b"
             ],
             [
              0.6666666666666666,
              "#ed7953"
             ],
             [
              0.7777777777777778,
              "#fb9f3a"
             ],
             [
              0.8888888888888888,
              "#fdca26"
             ],
             [
              1,
              "#f0f921"
             ]
            ],
            "type": "histogram2d"
           }
          ],
          "histogram2dcontour": [
           {
            "colorbar": {
             "outlinewidth": 0,
             "ticks": ""
            },
            "colorscale": [
             [
              0,
              "#0d0887"
             ],
             [
              0.1111111111111111,
              "#46039f"
             ],
             [
              0.2222222222222222,
              "#7201a8"
             ],
             [
              0.3333333333333333,
              "#9c179e"
             ],
             [
              0.4444444444444444,
              "#bd3786"
             ],
             [
              0.5555555555555556,
              "#d8576b"
             ],
             [
              0.6666666666666666,
              "#ed7953"
             ],
             [
              0.7777777777777778,
              "#fb9f3a"
             ],
             [
              0.8888888888888888,
              "#fdca26"
             ],
             [
              1,
              "#f0f921"
             ]
            ],
            "type": "histogram2dcontour"
           }
          ],
          "mesh3d": [
           {
            "colorbar": {
             "outlinewidth": 0,
             "ticks": ""
            },
            "type": "mesh3d"
           }
          ],
          "parcoords": [
           {
            "line": {
             "colorbar": {
              "outlinewidth": 0,
              "ticks": ""
             }
            },
            "type": "parcoords"
           }
          ],
          "pie": [
           {
            "automargin": true,
            "type": "pie"
           }
          ],
          "scatter": [
           {
            "marker": {
             "colorbar": {
              "outlinewidth": 0,
              "ticks": ""
             }
            },
            "type": "scatter"
           }
          ],
          "scatter3d": [
           {
            "line": {
             "colorbar": {
              "outlinewidth": 0,
              "ticks": ""
             }
            },
            "marker": {
             "colorbar": {
              "outlinewidth": 0,
              "ticks": ""
             }
            },
            "type": "scatter3d"
           }
          ],
          "scattercarpet": [
           {
            "marker": {
             "colorbar": {
              "outlinewidth": 0,
              "ticks": ""
             }
            },
            "type": "scattercarpet"
           }
          ],
          "scattergeo": [
           {
            "marker": {
             "colorbar": {
              "outlinewidth": 0,
              "ticks": ""
             }
            },
            "type": "scattergeo"
           }
          ],
          "scattergl": [
           {
            "marker": {
             "colorbar": {
              "outlinewidth": 0,
              "ticks": ""
             }
            },
            "type": "scattergl"
           }
          ],
          "scattermapbox": [
           {
            "marker": {
             "colorbar": {
              "outlinewidth": 0,
              "ticks": ""
             }
            },
            "type": "scattermapbox"
           }
          ],
          "scatterpolar": [
           {
            "marker": {
             "colorbar": {
              "outlinewidth": 0,
              "ticks": ""
             }
            },
            "type": "scatterpolar"
           }
          ],
          "scatterpolargl": [
           {
            "marker": {
             "colorbar": {
              "outlinewidth": 0,
              "ticks": ""
             }
            },
            "type": "scatterpolargl"
           }
          ],
          "scatterternary": [
           {
            "marker": {
             "colorbar": {
              "outlinewidth": 0,
              "ticks": ""
             }
            },
            "type": "scatterternary"
           }
          ],
          "surface": [
           {
            "colorbar": {
             "outlinewidth": 0,
             "ticks": ""
            },
            "colorscale": [
             [
              0,
              "#0d0887"
             ],
             [
              0.1111111111111111,
              "#46039f"
             ],
             [
              0.2222222222222222,
              "#7201a8"
             ],
             [
              0.3333333333333333,
              "#9c179e"
             ],
             [
              0.4444444444444444,
              "#bd3786"
             ],
             [
              0.5555555555555556,
              "#d8576b"
             ],
             [
              0.6666666666666666,
              "#ed7953"
             ],
             [
              0.7777777777777778,
              "#fb9f3a"
             ],
             [
              0.8888888888888888,
              "#fdca26"
             ],
             [
              1,
              "#f0f921"
             ]
            ],
            "type": "surface"
           }
          ],
          "table": [
           {
            "cells": {
             "fill": {
              "color": "#EBF0F8"
             },
             "line": {
              "color": "white"
             }
            },
            "header": {
             "fill": {
              "color": "#C8D4E3"
             },
             "line": {
              "color": "white"
             }
            },
            "type": "table"
           }
          ]
         },
         "layout": {
          "annotationdefaults": {
           "arrowcolor": "#2a3f5f",
           "arrowhead": 0,
           "arrowwidth": 1
          },
          "autotypenumbers": "strict",
          "coloraxis": {
           "colorbar": {
            "outlinewidth": 0,
            "ticks": ""
           }
          },
          "colorscale": {
           "diverging": [
            [
             0,
             "#8e0152"
            ],
            [
             0.1,
             "#c51b7d"
            ],
            [
             0.2,
             "#de77ae"
            ],
            [
             0.3,
             "#f1b6da"
            ],
            [
             0.4,
             "#fde0ef"
            ],
            [
             0.5,
             "#f7f7f7"
            ],
            [
             0.6,
             "#e6f5d0"
            ],
            [
             0.7,
             "#b8e186"
            ],
            [
             0.8,
             "#7fbc41"
            ],
            [
             0.9,
             "#4d9221"
            ],
            [
             1,
             "#276419"
            ]
           ],
           "sequential": [
            [
             0,
             "#0d0887"
            ],
            [
             0.1111111111111111,
             "#46039f"
            ],
            [
             0.2222222222222222,
             "#7201a8"
            ],
            [
             0.3333333333333333,
             "#9c179e"
            ],
            [
             0.4444444444444444,
             "#bd3786"
            ],
            [
             0.5555555555555556,
             "#d8576b"
            ],
            [
             0.6666666666666666,
             "#ed7953"
            ],
            [
             0.7777777777777778,
             "#fb9f3a"
            ],
            [
             0.8888888888888888,
             "#fdca26"
            ],
            [
             1,
             "#f0f921"
            ]
           ],
           "sequentialminus": [
            [
             0,
             "#0d0887"
            ],
            [
             0.1111111111111111,
             "#46039f"
            ],
            [
             0.2222222222222222,
             "#7201a8"
            ],
            [
             0.3333333333333333,
             "#9c179e"
            ],
            [
             0.4444444444444444,
             "#bd3786"
            ],
            [
             0.5555555555555556,
             "#d8576b"
            ],
            [
             0.6666666666666666,
             "#ed7953"
            ],
            [
             0.7777777777777778,
             "#fb9f3a"
            ],
            [
             0.8888888888888888,
             "#fdca26"
            ],
            [
             1,
             "#f0f921"
            ]
           ]
          },
          "colorway": [
           "#636efa",
           "#EF553B",
           "#00cc96",
           "#ab63fa",
           "#FFA15A",
           "#19d3f3",
           "#FF6692",
           "#B6E880",
           "#FF97FF",
           "#FECB52"
          ],
          "font": {
           "color": "#2a3f5f"
          },
          "geo": {
           "bgcolor": "white",
           "lakecolor": "white",
           "landcolor": "#E5ECF6",
           "showlakes": true,
           "showland": true,
           "subunitcolor": "white"
          },
          "hoverlabel": {
           "align": "left"
          },
          "hovermode": "closest",
          "mapbox": {
           "style": "light"
          },
          "paper_bgcolor": "white",
          "plot_bgcolor": "#E5ECF6",
          "polar": {
           "angularaxis": {
            "gridcolor": "white",
            "linecolor": "white",
            "ticks": ""
           },
           "bgcolor": "#E5ECF6",
           "radialaxis": {
            "gridcolor": "white",
            "linecolor": "white",
            "ticks": ""
           }
          },
          "scene": {
           "xaxis": {
            "backgroundcolor": "#E5ECF6",
            "gridcolor": "white",
            "gridwidth": 2,
            "linecolor": "white",
            "showbackground": true,
            "ticks": "",
            "zerolinecolor": "white"
           },
           "yaxis": {
            "backgroundcolor": "#E5ECF6",
            "gridcolor": "white",
            "gridwidth": 2,
            "linecolor": "white",
            "showbackground": true,
            "ticks": "",
            "zerolinecolor": "white"
           },
           "zaxis": {
            "backgroundcolor": "#E5ECF6",
            "gridcolor": "white",
            "gridwidth": 2,
            "linecolor": "white",
            "showbackground": true,
            "ticks": "",
            "zerolinecolor": "white"
           }
          },
          "shapedefaults": {
           "line": {
            "color": "#2a3f5f"
           }
          },
          "ternary": {
           "aaxis": {
            "gridcolor": "white",
            "linecolor": "white",
            "ticks": ""
           },
           "baxis": {
            "gridcolor": "white",
            "linecolor": "white",
            "ticks": ""
           },
           "bgcolor": "#E5ECF6",
           "caxis": {
            "gridcolor": "white",
            "linecolor": "white",
            "ticks": ""
           }
          },
          "title": {
           "x": 0.05
          },
          "xaxis": {
           "automargin": true,
           "gridcolor": "white",
           "linecolor": "white",
           "ticks": "",
           "title": {
            "standoff": 15
           },
           "zerolinecolor": "white",
           "zerolinewidth": 2
          },
          "yaxis": {
           "automargin": true,
           "gridcolor": "white",
           "linecolor": "white",
           "ticks": "",
           "title": {
            "standoff": 15
           },
           "zerolinecolor": "white",
           "zerolinewidth": 2
          }
         }
        },
        "title": {
         "font": {
          "color": "#D9D9D9"
         },
         "text": "GDP across major countries"
        },
        "xaxis": {
         "autorange": true,
         "gridcolor": "#434343",
         "range": [
          1995,
          2020
         ],
         "showgrid": true,
         "tickfont": {
          "color": "#C2C2C2"
         },
         "title": {
          "font": {
           "color": "#D9D9D9"
          },
          "text": "Year"
         },
         "type": "linear",
         "zerolinecolor": "#666570"
        },
        "yaxis": {
         "autorange": true,
         "gridcolor": "#434343",
         "range": [
          -11.124745989055647,
          15.565366557318718
         ],
         "showgrid": true,
         "tickfont": {
          "color": "#C2C2C2"
         },
         "title": {
          "font": {
           "color": "#D9D9D9"
          },
          "text": "GDP (% change)"
         },
         "type": "linear",
         "zerolinecolor": "#666570"
        }
       }
      },
      "image/png": "[encoded data removed]",
      "text/html": [
       "<div>                            <div id=\"f0b5a392-16c0-462b-ac54-e1955baa5e41\" class=\"plotly-graph-div\" style=\"height:525px; width:100%;\"></div>            <script type=\"text/javascript\">                require([\"plotly\"], function(Plotly) {                    window.PLOTLYENV=window.PLOTLYENV || {};\n",
       "                    window.PLOTLYENV.BASE_URL='https://plot.ly';                                    if (document.getElementById(\"f0b5a392-16c0-462b-ac54-e1955baa5e41\")) {                    Plotly.newPlot(                        \"f0b5a392-16c0-462b-ac54-e1955baa5e41\",                        [{\"line\": {\"color\": \"rgba(255, 153, 51, 1.0)\", \"dash\": \"dash\", \"shape\": \"linear\", \"width\": 1.3}, \"mode\": \"lines\", \"name\": \"Australia\", \"text\": \"\", \"type\": \"scatter\", \"x\": [1995, 1996, 1997, 1998, 1999, 2000, 2001, 2002, 2003, 2004, 2005, 2006, 2007, 2008, 2009, 2010, 2011, 2012, 2013, 2014, 2015, 2016, 2017, 2018, 2019, 2020], \"y\": [3.8377552930000003, 3.878585293, 3.966537662, 4.576688759, 5.073599095, 3.933136945, 1.930857592, 4.001404062, 2.985934322, 4.055451968, 3.204269793, 2.794537024, 3.8442303160000004, 3.6579535260000013, 1.93699392, 2.067417128, 2.462756312, 3.9181628710000003, 2.5848977019999997, 2.533114665, 2.1926474259999997, 2.770652197, 2.300610624, 2.949285772, 2.160956295, -0.284839297785609]}, {\"line\": {\"color\": \"rgba(55, 128, 191, 1.0)\", \"dash\": \"dash\", \"shape\": \"linear\", \"width\": 1.3}, \"mode\": \"lines\", \"name\": \"Canada\", \"text\": \"\", \"type\": \"scatter\", \"x\": [1995, 1996, 1997, 1998, 1999, 2000, 2001, 2002, 2003, 2004, 2005, 2006, 2007, 2008, 2009, 2010, 2011, 2012, 2013, 2014, 2015, 2016, 2017, 2018, 2019, 2020], \"y\": [2.6939762860000003, 1.61917249, -3.845294416, 2.79654248, 3.970482637, 4.917762744, 1.405527589, 3.422146171, 3.8110901530000003, 3.914028782, 4.9958608689999995, 4.165817627, 6.868608857000001, 1.007622695, -2.928400167, 3.08949462, 3.1468813719999997, 1.762222549, 2.329122506, 2.870036075, 0.659176864, 1.001394414, 3.1707298969999997, 2.013639187, 1.656040845, -5.40279855256868]}, {\"line\": {\"color\": \"rgba(50, 171, 96, 1.0)\", \"dash\": \"dash\", \"shape\": \"linear\", \"width\": 1.3}, \"mode\": \"lines\", \"name\": \"China\", \"text\": \"\", \"type\": \"scatter\", \"x\": [1995, 1996, 1997, 1998, 1999, 2000, 2001, 2002, 2003, 2004, 2005, 2006, 2007, 2008, 2009, 2010, 2011, 2012, 2013, 2014, 2015, 2016, 2017, 2018, 2019, 2020], \"y\": [10.95395434, 9.922556753, 9.236779892000001, 7.845951787000001, 7.6616515, 8.490093406, 8.335733478, 9.13363079, 10.03803048, 10.11362138, 11.39459181, 12.72095567, 14.23086093, 9.650678919, 9.398725633, 10.63587106, 9.550832179, 7.863736449, 7.766150098, 7.425763656, 7.041328879, 6.848762205, 6.9472007929999995, 6.749773833, 5.949714233, 2.29999999998371]}, {\"line\": {\"color\": \"rgba(128, 0, 128, 1.0)\", \"dash\": \"dash\", \"shape\": \"linear\", \"width\": 1.3}, \"mode\": \"lines\", \"name\": \"European Union\", \"text\": \"\", \"type\": \"scatter\", \"x\": [1995, 1996, 1997, 1998, 1999, 2000, 2001, 2002, 2003, 2004, 2005, 2006, 2007, 2008, 2009, 2010, 2011, 2012, 2013, 2014, 2015, 2016, 2017, 2018, 2019, 2020], \"y\": [2.673207525, 1.892917255, 2.664015312, 3.018680748, 2.958699937, 3.903211797, 2.184364392, 1.1239428870000001, 0.930532658, 2.594947904, 1.9340448940000001, 3.494275968, 3.15247294, 0.644918094, -4.325825805, 2.20972967, 1.83195467, -0.7518309759999999, -0.055313392999999995, 1.5729427569999999, 2.30060265, 2.0447370680000003, 2.789165217, 2.118239984, 1.554264954, -6.1]}, {\"line\": {\"color\": \"rgba(219, 64, 82, 1.0)\", \"dash\": \"dash\", \"shape\": \"linear\", \"width\": 1.3}, \"mode\": \"lines\", \"name\": \"United Kingdom\", \"text\": \"\", \"type\": \"scatter\", \"x\": [1995, 1996, 1997, 1998, 1999, 2000, 2001, 2002, 2003, 2004, 2005, 2006, 2007, 2008, 2009, 2010, 2011, 2012, 2013, 2014, 2015, 2016, 2017, 2018, 2019, 2020], \"y\": [2.531670037, 2.49153318, 3.8548299910000003, 3.6448533960000002, 3.428223328, 3.4374716289999996, 2.974363653, 2.324351122, 3.28637759, 2.3739514280000003, 3.179728893, 2.7883245660000004, 2.430553201, -0.281153556, -4.247821763, 1.949521464, 1.5401474030000002, 1.478923924, 2.139485718, 2.607475901, 2.355524306, 1.9181551319999999, 1.892077007, 1.340720602, 1.4626582019999999, -9.79024036173693]}, {\"line\": {\"color\": \"rgba(0, 128, 128, 1.0)\", \"dash\": \"dash\", \"shape\": \"linear\", \"width\": 1.3}, \"mode\": \"lines\", \"name\": \"India\", \"text\": \"\", \"type\": \"scatter\", \"x\": [1995, 1996, 1997, 1998, 1999, 2000, 2001, 2002, 2003, 2004, 2005, 2006, 2007, 2008, 2009, 2010, 2011, 2012, 2013, 2014, 2015, 2016, 2017, 2018, 2019, 2020], \"y\": [7.57449184, 7.549522249, 4.049820849, 6.184415821, 8.845755561, 3.840991157, 4.823966264, 3.8039753210000002, 7.8603814760000015, 7.922936612999999, 7.9234306210000005, 8.060732573, 7.660815065, 3.08669806, 7.861888832999999, 8.497584702000001, 5.241344743, 5.456358951, 6.386106401, 7.410227605, 7.996253444, 8.256305844, 7.043820855, 6.119586841, 4.180727625, -7.9646104111382]}, {\"line\": {\"color\": \"rgba(255, 255, 51, 1.0)\", \"dash\": \"dash\", \"shape\": \"linear\", \"width\": 1.3}, \"mode\": \"lines\", \"name\": \"Korea, Rep.\", \"text\": \"\", \"type\": \"scatter\", \"x\": [1995, 1996, 1997, 1998, 1999, 2000, 2001, 2002, 2003, 2004, 2005, 2006, 2007, 2008, 2009, 2010, 2011, 2012, 2013, 2014, 2015, 2016, 2017, 2018, 2019, 2020], \"y\": [9.614565393, 7.8907033260000015, 6.1705524270000005, -5.129448165, 11.46694243, 9.060833325, 4.8523995719999995, 7.725142675, 3.1472911939999997, 5.197391363, 4.308542714, 5.264326595, 5.799548415, 3.012984873, 0.79269899, 6.804824918, 3.685667782, 2.402530992, 3.1647086360000003, 3.202453795, 2.8091032680000003, 2.946881715, 3.15963574, 2.9074037739999996, 2.039348227, -0.9577662235252971]}, {\"line\": {\"color\": \"rgba(128, 128, 0, 1.0)\", \"dash\": \"dash\", \"shape\": \"linear\", \"width\": 1.3}, \"mode\": \"lines\", \"name\": \"United States\", \"text\": \"\", \"type\": \"scatter\", \"x\": [1995, 1996, 1997, 1998, 1999, 2000, 2001, 2002, 2003, 2004, 2005, 2006, 2007, 2008, 2009, 2010, 2011, 2012, 2013, 2014, 2015, 2016, 2017, 2018, 2019, 2020], \"y\": [2.684287134, 3.77250132, 4.44721634, 4.481407553, 4.753235991, 4.127484011, 0.9983408000000001, 1.7416952430000001, 2.8612107719999997, 3.798891123, 3.513213796, 2.8549722980000003, 1.876171455, -0.136579804, -2.53675707, 2.563766563, 1.5508355040000001, 2.249545851, 1.84208107, 2.52597345, 2.9080218610000004, 1.637838457, 2.369800784, 2.927325732, 2.161176288, -3.4861395571142997]}],                        {\"legend\": {\"bgcolor\": \"#151516\", \"font\": {\"color\": \"#D9D9D9\"}}, \"paper_bgcolor\": \"#151516\", \"plot_bgcolor\": \"#151516\", \"template\": {\"data\": {\"bar\": [{\"error_x\": {\"color\": \"#2a3f5f\"}, \"error_y\": {\"color\": \"#2a3f5f\"}, \"marker\": {\"line\": {\"color\": \"#E5ECF6\", \"width\": 0.5}}, \"type\": \"bar\"}], \"barpolar\": [{\"marker\": {\"line\": {\"color\": \"#E5ECF6\", \"width\": 0.5}}, \"type\": \"barpolar\"}], \"carpet\": [{\"aaxis\": {\"endlinecolor\": \"#2a3f5f\", \"gridcolor\": \"white\", \"linecolor\": \"white\", \"minorgridcolor\": \"white\", \"startlinecolor\": \"#2a3f5f\"}, \"baxis\": {\"endlinecolor\": \"#2a3f5f\", \"gridcolor\": \"white\", \"linecolor\": \"white\", \"minorgridcolor\": \"white\", \"startlinecolor\": \"#2a3f5f\"}, \"type\": \"carpet\"}], \"choropleth\": [{\"colorbar\": {\"outlinewidth\": 0, \"ticks\": \"\"}, \"type\": \"choropleth\"}], \"contour\": [{\"colorbar\": {\"outlinewidth\": 0, \"ticks\": \"\"}, \"colorscale\": [[0.0, \"#0d0887\"], [0.1111111111111111, \"#46039f\"], [0.2222222222222222, \"#7201a8\"], [0.3333333333333333, \"#9c179e\"], [0.4444444444444444, \"#bd3786\"], [0.5555555555555556, \"#d8576b\"], [0.6666666666666666, \"#ed7953\"], [0.7777777777777778, \"#fb9f3a\"], [0.8888888888888888, \"#fdca26\"], [1.0, \"#f0f921\"]], \"type\": \"contour\"}], \"contourcarpet\": [{\"colorbar\": {\"outlinewidth\": 0, \"ticks\": \"\"}, \"type\": \"contourcarpet\"}], \"heatmap\": [{\"colorbar\": {\"outlinewidth\": 0, \"ticks\": \"\"}, \"colorscale\": [[0.0, \"#0d0887\"], [0.1111111111111111, \"#46039f\"], [0.2222222222222222, \"#7201a8\"], [0.3333333333333333, \"#9c179e\"], [0.4444444444444444, \"#bd3786\"], [0.5555555555555556, \"#d8576b\"], [0.6666666666666666, \"#ed7953\"], [0.7777777777777778, \"#fb9f3a\"], [0.8888888888888888, \"#fdca26\"], [1.0, \"#f0f921\"]], \"type\": \"heatmap\"}], \"heatmapgl\": [{\"colorbar\": {\"outlinewidth\": 0, \"ticks\": \"\"}, \"colorscale\": [[0.0, \"#0d0887\"], [0.1111111111111111, \"#46039f\"], [0.2222222222222222, \"#7201a8\"], [0.3333333333333333, \"#9c179e\"], [0.4444444444444444, \"#bd3786\"], [0.5555555555555556, \"#d8576b\"], [0.6666666666666666, \"#ed7953\"], [0.7777777777777778, \"#fb9f3a\"], [0.8888888888888888, \"#fdca26\"], [1.0, \"#f0f921\"]], \"type\": \"heatmapgl\"}], \"histogram\": [{\"marker\": {\"colorbar\": {\"outlinewidth\": 0, \"ticks\": \"\"}}, \"type\": \"histogram\"}], \"histogram2d\": [{\"colorbar\": {\"outlinewidth\": 0, \"ticks\": \"\"}, \"colorscale\": [[0.0, \"#0d0887\"], [0.1111111111111111, \"#46039f\"], [0.2222222222222222, \"#7201a8\"], [0.3333333333333333, \"#9c179e\"], [0.4444444444444444, \"#bd3786\"], [0.5555555555555556, \"#d8576b\"], [0.6666666666666666, \"#ed7953\"], [0.7777777777777778, \"#fb9f3a\"], [0.8888888888888888, \"#fdca26\"], [1.0, \"#f0f921\"]], \"type\": \"histogram2d\"}], \"histogram2dcontour\": [{\"colorbar\": {\"outlinewidth\": 0, \"ticks\": \"\"}, \"colorscale\": [[0.0, \"#0d0887\"], [0.1111111111111111, \"#46039f\"], [0.2222222222222222, \"#7201a8\"], [0.3333333333333333, \"#9c179e\"], [0.4444444444444444, \"#bd3786\"], [0.5555555555555556, \"#d8576b\"], [0.6666666666666666, \"#ed7953\"], [0.7777777777777778, \"#fb9f3a\"], [0.8888888888888888, \"#fdca26\"], [1.0, \"#f0f921\"]], \"type\": \"histogram2dcontour\"}], \"mesh3d\": [{\"colorbar\": {\"outlinewidth\": 0, \"ticks\": \"\"}, \"type\": \"mesh3d\"}], \"parcoords\": [{\"line\": {\"colorbar\": {\"outlinewidth\": 0, \"ticks\": \"\"}}, \"type\": \"parcoords\"}], \"pie\": [{\"automargin\": true, \"type\": \"pie\"}], \"scatter\": [{\"marker\": {\"colorbar\": {\"outlinewidth\": 0, \"ticks\": \"\"}}, \"type\": \"scatter\"}], \"scatter3d\": [{\"line\": {\"colorbar\": {\"outlinewidth\": 0, \"ticks\": \"\"}}, \"marker\": {\"colorbar\": {\"outlinewidth\": 0, \"ticks\": \"\"}}, \"type\": \"scatter3d\"}], \"scattercarpet\": [{\"marker\": {\"colorbar\": {\"outlinewidth\": 0, \"ticks\": \"\"}}, \"type\": \"scattercarpet\"}], \"scattergeo\": [{\"marker\": {\"colorbar\": {\"outlinewidth\": 0, \"ticks\": \"\"}}, \"type\": \"scattergeo\"}], \"scattergl\": [{\"marker\": {\"colorbar\": {\"outlinewidth\": 0, \"ticks\": \"\"}}, \"type\": \"scattergl\"}], \"scattermapbox\": [{\"marker\": {\"colorbar\": {\"outlinewidth\": 0, \"ticks\": \"\"}}, \"type\": \"scattermapbox\"}], \"scatterpolar\": [{\"marker\": {\"colorbar\": {\"outlinewidth\": 0, \"ticks\": \"\"}}, \"type\": \"scatterpolar\"}], \"scatterpolargl\": [{\"marker\": {\"colorbar\": {\"outlinewidth\": 0, \"ticks\": \"\"}}, \"type\": \"scatterpolargl\"}], \"scatterternary\": [{\"marker\": {\"colorbar\": {\"outlinewidth\": 0, \"ticks\": \"\"}}, \"type\": \"scatterternary\"}], \"surface\": [{\"colorbar\": {\"outlinewidth\": 0, \"ticks\": \"\"}, \"colorscale\": [[0.0, \"#0d0887\"], [0.1111111111111111, \"#46039f\"], [0.2222222222222222, \"#7201a8\"], [0.3333333333333333, \"#9c179e\"], [0.4444444444444444, \"#bd3786\"], [0.5555555555555556, \"#d8576b\"], [0.6666666666666666, \"#ed7953\"], [0.7777777777777778, \"#fb9f3a\"], [0.8888888888888888, \"#fdca26\"], [1.0, \"#f0f921\"]], \"type\": \"surface\"}], \"table\": [{\"cells\": {\"fill\": {\"color\": \"#EBF0F8\"}, \"line\": {\"color\": \"white\"}}, \"header\": {\"fill\": {\"color\": \"#C8D4E3\"}, \"line\": {\"color\": \"white\"}}, \"type\": \"table\"}]}, \"layout\": {\"annotationdefaults\": {\"arrowcolor\": \"#2a3f5f\", \"arrowhead\": 0, \"arrowwidth\": 1}, \"autotypenumbers\": \"strict\", \"coloraxis\": {\"colorbar\": {\"outlinewidth\": 0, \"ticks\": \"\"}}, \"colorscale\": {\"diverging\": [[0, \"#8e0152\"], [0.1, \"#c51b7d\"], [0.2, \"#de77ae\"], [0.3, \"#f1b6da\"], [0.4, \"#fde0ef\"], [0.5, \"#f7f7f7\"], [0.6, \"#e6f5d0\"], [0.7, \"#b8e186\"], [0.8, \"#7fbc41\"], [0.9, \"#4d9221\"], [1, \"#276419\"]], \"sequential\": [[0.0, \"#0d0887\"], [0.1111111111111111, \"#46039f\"], [0.2222222222222222, \"#7201a8\"], [0.3333333333333333, \"#9c179e\"], [0.4444444444444444, \"#bd3786\"], [0.5555555555555556, \"#d8576b\"], [0.6666666666666666, \"#ed7953\"], [0.7777777777777778, \"#fb9f3a\"], [0.8888888888888888, \"#fdca26\"], [1.0, \"#f0f921\"]], \"sequentialminus\": [[0.0, \"#0d0887\"], [0.1111111111111111, \"#46039f\"], [0.2222222222222222, \"#7201a8\"], [0.3333333333333333, \"#9c179e\"], [0.4444444444444444, \"#bd3786\"], [0.5555555555555556, \"#d8576b\"], [0.6666666666666666, \"#ed7953\"], [0.7777777777777778, \"#fb9f3a\"], [0.8888888888888888, \"#fdca26\"], [1.0, \"#f0f921\"]]}, \"colorway\": [\"#636efa\", \"#EF553B\", \"#00cc96\", \"#ab63fa\", \"#FFA15A\", \"#19d3f3\", \"#FF6692\", \"#B6E880\", \"#FF97FF\", \"#FECB52\"], \"font\": {\"color\": \"#2a3f5f\"}, \"geo\": {\"bgcolor\": \"white\", \"lakecolor\": \"white\", \"landcolor\": \"#E5ECF6\", \"showlakes\": true, \"showland\": true, \"subunitcolor\": \"white\"}, \"hoverlabel\": {\"align\": \"left\"}, \"hovermode\": \"closest\", \"mapbox\": {\"style\": \"light\"}, \"paper_bgcolor\": \"white\", \"plot_bgcolor\": \"#E5ECF6\", \"polar\": {\"angularaxis\": {\"gridcolor\": \"white\", \"linecolor\": \"white\", \"ticks\": \"\"}, \"bgcolor\": \"#E5ECF6\", \"radialaxis\": {\"gridcolor\": \"white\", \"linecolor\": \"white\", \"ticks\": \"\"}}, \"scene\": {\"xaxis\": {\"backgroundcolor\": \"#E5ECF6\", \"gridcolor\": \"white\", \"gridwidth\": 2, \"linecolor\": \"white\", \"showbackground\": true, \"ticks\": \"\", \"zerolinecolor\": \"white\"}, \"yaxis\": {\"backgroundcolor\": \"#E5ECF6\", \"gridcolor\": \"white\", \"gridwidth\": 2, \"linecolor\": \"white\", \"showbackground\": true, \"ticks\": \"\", \"zerolinecolor\": \"white\"}, \"zaxis\": {\"backgroundcolor\": \"#E5ECF6\", \"gridcolor\": \"white\", \"gridwidth\": 2, \"linecolor\": \"white\", \"showbackground\": true, \"ticks\": \"\", \"zerolinecolor\": \"white\"}}, \"shapedefaults\": {\"line\": {\"color\": \"#2a3f5f\"}}, \"ternary\": {\"aaxis\": {\"gridcolor\": \"white\", \"linecolor\": \"white\", \"ticks\": \"\"}, \"baxis\": {\"gridcolor\": \"white\", \"linecolor\": \"white\", \"ticks\": \"\"}, \"bgcolor\": \"#E5ECF6\", \"caxis\": {\"gridcolor\": \"white\", \"linecolor\": \"white\", \"ticks\": \"\"}}, \"title\": {\"x\": 0.05}, \"xaxis\": {\"automargin\": true, \"gridcolor\": \"white\", \"linecolor\": \"white\", \"ticks\": \"\", \"title\": {\"standoff\": 15}, \"zerolinecolor\": \"white\", \"zerolinewidth\": 2}, \"yaxis\": {\"automargin\": true, \"gridcolor\": \"white\", \"linecolor\": \"white\", \"ticks\": \"\", \"title\": {\"standoff\": 15}, \"zerolinecolor\": \"white\", \"zerolinewidth\": 2}}}, \"title\": {\"font\": {\"color\": \"#D9D9D9\"}, \"text\": \"GDP across major countries\"}, \"xaxis\": {\"gridcolor\": \"#434343\", \"showgrid\": true, \"tickfont\": {\"color\": \"#C2C2C2\"}, \"title\": {\"font\": {\"color\": \"#D9D9D9\"}, \"text\": \"Year\"}, \"zerolinecolor\": \"#666570\"}, \"yaxis\": {\"gridcolor\": \"#434343\", \"showgrid\": true, \"tickfont\": {\"color\": \"#C2C2C2\"}, \"title\": {\"font\": {\"color\": \"#D9D9D9\"}, \"text\": \"GDP (% change)\"}, \"zerolinecolor\": \"#666570\"}},                        {\"showLink\": true, \"linkText\": \"Export to plot.ly\", \"plotlyServerURL\": \"https://plot.ly\", \"responsive\": true}                    ).then(function(){\n",
       "                            \n",
       "var gd = document.getElementById('f0b5a392-16c0-462b-ac54-e1955baa5e41');\n",
       "var x = new MutationObserver(function (mutations, observer) {{\n",
       "        var display = window.getComputedStyle(gd).display;\n",
       "        if (!display || display === 'none') {{\n",
       "            console.log([gd, 'removed!']);\n",
       "            Plotly.purge(gd);\n",
       "            observer.disconnect();\n",
       "        }}\n",
       "}});\n",
       "\n",
       "// Listen for the removal of the full notebook cells\n",
       "var notebookContainer = gd.closest('#notebook-container');\n",
       "if (notebookContainer) {{\n",
       "    x.observe(notebookContainer, {childList: true});\n",
       "}}\n",
       "\n",
       "// Listen for the clearing of the current output cell\n",
       "var outputEl = gd.closest('.output');\n",
       "if (outputEl) {{\n",
       "    x.observe(outputEl, {childList: true});\n",
       "}}\n",
       "\n",
       "                        })                };                });            </script>        </div>"
      ]
     },
     "metadata": {},
     "output_type": "display_data"
    }
   ],
   "source": [
    "gdp_iplot = gdp_new.iplot(kind='line',\n",
    "                          dash='dash',\n",
    "                          title=\"GDP across major countries\",\n",
    "                          xTitle=\"Year\",\n",
    "                          yTitle='GDP (% change)')"
   ]
  },
  {
   "cell_type": "markdown",
   "id": "176248c2",
   "metadata": {},
   "source": [
    "## "
   ]
  },
  {
   "cell_type": "markdown",
   "id": "bee26ab8",
   "metadata": {},
   "source": [
    "### What are the key factors driving GDP - demonstrate using CorrPlot\n"
   ]
  },
  {
   "cell_type": "code",
   "execution_count": 124,
   "id": "94075575",
   "metadata": {},
   "outputs": [
    {
     "data": {
      "text/html": [
       "<div>\n",
       "<style scoped>\n",
       "    .dataframe tbody tr th:only-of-type {\n",
       "        vertical-align: middle;\n",
       "    }\n",
       "\n",
       "    .dataframe tbody tr th {\n",
       "        vertical-align: top;\n",
       "    }\n",
       "\n",
       "    .dataframe thead th {\n",
       "        text-align: right;\n",
       "    }\n",
       "</style>\n",
       "<table border=\"1\" class=\"dataframe\">\n",
       "  <thead>\n",
       "    <tr style=\"text-align: right;\">\n",
       "      <th></th>\n",
       "      <th>Year</th>\n",
       "      <th>Births</th>\n",
       "      <th>Deaths</th>\n",
       "      <th>NaturalIncreases</th>\n",
       "      <th>InterstateArrivals</th>\n",
       "      <th>OverseasArrivals</th>\n",
       "      <th>OverseasDepartures</th>\n",
       "      <th>NetOverseasDepartures</th>\n",
       "      <th>NetOverseasMigration</th>\n",
       "      <th>EstimatedResidentPopulation</th>\n",
       "      <th>PercenChangeOverThePreviousYear</th>\n",
       "    </tr>\n",
       "  </thead>\n",
       "  <tbody>\n",
       "    <tr>\n",
       "      <th>0</th>\n",
       "      <td>1995</td>\n",
       "      <td>64.3</td>\n",
       "      <td>31.5</td>\n",
       "      <td>32.8</td>\n",
       "      <td>96.0</td>\n",
       "      <td>50.5</td>\n",
       "      <td>32.7</td>\n",
       "      <td>32.7</td>\n",
       "      <td>23.8</td>\n",
       "      <td>18004.9</td>\n",
       "      <td>1.12</td>\n",
       "    </tr>\n",
       "    <tr>\n",
       "      <th>1</th>\n",
       "      <td>1996</td>\n",
       "      <td>62.0</td>\n",
       "      <td>31.7</td>\n",
       "      <td>30.3</td>\n",
       "      <td>84.8</td>\n",
       "      <td>49.9</td>\n",
       "      <td>34.2</td>\n",
       "      <td>34.2</td>\n",
       "      <td>20.6</td>\n",
       "      <td>18224.8</td>\n",
       "      <td>1.22</td>\n",
       "    </tr>\n",
       "    <tr>\n",
       "      <th>2</th>\n",
       "      <td>1997</td>\n",
       "      <td>63.6</td>\n",
       "      <td>31.4</td>\n",
       "      <td>32.2</td>\n",
       "      <td>90.0</td>\n",
       "      <td>49.5</td>\n",
       "      <td>38.9</td>\n",
       "      <td>38.9</td>\n",
       "      <td>6.1</td>\n",
       "      <td>18423.0</td>\n",
       "      <td>1.09</td>\n",
       "    </tr>\n",
       "    <tr>\n",
       "      <th>3</th>\n",
       "      <td>1998</td>\n",
       "      <td>62.3</td>\n",
       "      <td>31.8</td>\n",
       "      <td>30.5</td>\n",
       "      <td>89.4</td>\n",
       "      <td>54.1</td>\n",
       "      <td>45.6</td>\n",
       "      <td>45.6</td>\n",
       "      <td>8.5</td>\n",
       "      <td>18607.6</td>\n",
       "      <td>1.00</td>\n",
       "    </tr>\n",
       "    <tr>\n",
       "      <th>4</th>\n",
       "      <td>1999</td>\n",
       "      <td>62.7</td>\n",
       "      <td>32.2</td>\n",
       "      <td>30.5</td>\n",
       "      <td>89.2</td>\n",
       "      <td>55.6</td>\n",
       "      <td>40.8</td>\n",
       "      <td>40.8</td>\n",
       "      <td>14.8</td>\n",
       "      <td>18812.3</td>\n",
       "      <td>1.10</td>\n",
       "    </tr>\n",
       "  </tbody>\n",
       "</table>\n",
       "</div>"
      ],
      "text/plain": [
       "   Year  Births  Deaths  NaturalIncreases  InterstateArrivals  \\\n",
       "0  1995    64.3    31.5              32.8                96.0   \n",
       "1  1996    62.0    31.7              30.3                84.8   \n",
       "2  1997    63.6    31.4              32.2                90.0   \n",
       "3  1998    62.3    31.8              30.5                89.4   \n",
       "4  1999    62.7    32.2              30.5                89.2   \n",
       "\n",
       "   OverseasArrivals  OverseasDepartures  NetOverseasDepartures  \\\n",
       "0              50.5                32.7                   32.7   \n",
       "1              49.9                34.2                   34.2   \n",
       "2              49.5                38.9                   38.9   \n",
       "3              54.1                45.6                   45.6   \n",
       "4              55.6                40.8                   40.8   \n",
       "\n",
       "   NetOverseasMigration  EstimatedResidentPopulation  \\\n",
       "0                  23.8                      18004.9   \n",
       "1                  20.6                      18224.8   \n",
       "2                   6.1                      18423.0   \n",
       "3                   8.5                      18607.6   \n",
       "4                  14.8                      18812.3   \n",
       "\n",
       "   PercenChangeOverThePreviousYear  \n",
       "0                             1.12  \n",
       "1                             1.22  \n",
       "2                             1.09  \n",
       "3                             1.00  \n",
       "4                             1.10  "
      ]
     },
     "execution_count": 124,
     "metadata": {},
     "output_type": "execute_result"
    }
   ],
   "source": [
    "# Read in population data\n",
    "population = pd.read_csv(\"../Data/ProcessedData/Population_June_Cleaned.csv\")\n",
    "del population[\"Unnamed: 0\"]\n",
    "population.head()"
   ]
  },
  {
   "cell_type": "code",
   "execution_count": 88,
   "id": "6f2db3a9",
   "metadata": {},
   "outputs": [
    {
     "data": {
      "text/html": [
       "<div>\n",
       "<style scoped>\n",
       "    .dataframe tbody tr th:only-of-type {\n",
       "        vertical-align: middle;\n",
       "    }\n",
       "\n",
       "    .dataframe tbody tr th {\n",
       "        vertical-align: top;\n",
       "    }\n",
       "\n",
       "    .dataframe thead th {\n",
       "        text-align: right;\n",
       "    }\n",
       "</style>\n",
       "<table border=\"1\" class=\"dataframe\">\n",
       "  <thead>\n",
       "    <tr style=\"text-align: right;\">\n",
       "      <th></th>\n",
       "      <th>Year</th>\n",
       "      <th>TotalEmployed</th>\n",
       "      <th>TotalEmployed_M</th>\n",
       "      <th>TotalEmployed_F</th>\n",
       "      <th>Employment_To_Population_Ratio</th>\n",
       "      <th>Employment_To_Population_Ratio_M</th>\n",
       "      <th>Employment_To_Population_Ratio_F</th>\n",
       "      <th>TotalUnemployed</th>\n",
       "      <th>TotalUnemployed_M</th>\n",
       "      <th>TotalUnemployed_F</th>\n",
       "      <th>Population 15 and over</th>\n",
       "      <th>Population 15 and over_M</th>\n",
       "      <th>Population 15 and over_F</th>\n",
       "    </tr>\n",
       "  </thead>\n",
       "  <tbody>\n",
       "    <tr>\n",
       "      <th>0</th>\n",
       "      <td>1995</td>\n",
       "      <td>8205.6</td>\n",
       "      <td>4657.4</td>\n",
       "      <td>3548.3</td>\n",
       "      <td>58.3</td>\n",
       "      <td>67.3</td>\n",
       "      <td>49.6</td>\n",
       "      <td>723.5</td>\n",
       "      <td>434.2</td>\n",
       "      <td>289.3</td>\n",
       "      <td>14070.5</td>\n",
       "      <td>6922.5</td>\n",
       "      <td>7148.0</td>\n",
       "    </tr>\n",
       "    <tr>\n",
       "      <th>1</th>\n",
       "      <td>1996</td>\n",
       "      <td>8311.7</td>\n",
       "      <td>4724.4</td>\n",
       "      <td>3587.3</td>\n",
       "      <td>58.2</td>\n",
       "      <td>67.3</td>\n",
       "      <td>49.5</td>\n",
       "      <td>723.8</td>\n",
       "      <td>424.3</td>\n",
       "      <td>299.5</td>\n",
       "      <td>14271.2</td>\n",
       "      <td>7017.8</td>\n",
       "      <td>7253.4</td>\n",
       "    </tr>\n",
       "    <tr>\n",
       "      <th>2</th>\n",
       "      <td>1997</td>\n",
       "      <td>8345.6</td>\n",
       "      <td>4731.9</td>\n",
       "      <td>3613.6</td>\n",
       "      <td>57.7</td>\n",
       "      <td>66.6</td>\n",
       "      <td>49.1</td>\n",
       "      <td>735.2</td>\n",
       "      <td>427.5</td>\n",
       "      <td>307.7</td>\n",
       "      <td>14455.4</td>\n",
       "      <td>7101.7</td>\n",
       "      <td>7353.8</td>\n",
       "    </tr>\n",
       "    <tr>\n",
       "      <th>3</th>\n",
       "      <td>1998</td>\n",
       "      <td>8516.8</td>\n",
       "      <td>4801.8</td>\n",
       "      <td>3715.0</td>\n",
       "      <td>58.2</td>\n",
       "      <td>66.8</td>\n",
       "      <td>49.9</td>\n",
       "      <td>702.8</td>\n",
       "      <td>419.9</td>\n",
       "      <td>282.9</td>\n",
       "      <td>14633.9</td>\n",
       "      <td>7186.3</td>\n",
       "      <td>7447.6</td>\n",
       "    </tr>\n",
       "    <tr>\n",
       "      <th>4</th>\n",
       "      <td>1999</td>\n",
       "      <td>8673.2</td>\n",
       "      <td>4897.8</td>\n",
       "      <td>3775.5</td>\n",
       "      <td>58.5</td>\n",
       "      <td>67.3</td>\n",
       "      <td>50.0</td>\n",
       "      <td>600.6</td>\n",
       "      <td>348.6</td>\n",
       "      <td>252.0</td>\n",
       "      <td>14826.6</td>\n",
       "      <td>7277.7</td>\n",
       "      <td>7548.9</td>\n",
       "    </tr>\n",
       "  </tbody>\n",
       "</table>\n",
       "</div>"
      ],
      "text/plain": [
       "   Year  TotalEmployed  TotalEmployed_M  TotalEmployed_F  \\\n",
       "0  1995         8205.6           4657.4           3548.3   \n",
       "1  1996         8311.7           4724.4           3587.3   \n",
       "2  1997         8345.6           4731.9           3613.6   \n",
       "3  1998         8516.8           4801.8           3715.0   \n",
       "4  1999         8673.2           4897.8           3775.5   \n",
       "\n",
       "   Employment_To_Population_Ratio  Employment_To_Population_Ratio_M  \\\n",
       "0                            58.3                              67.3   \n",
       "1                            58.2                              67.3   \n",
       "2                            57.7                              66.6   \n",
       "3                            58.2                              66.8   \n",
       "4                            58.5                              67.3   \n",
       "\n",
       "   Employment_To_Population_Ratio_F  TotalUnemployed  TotalUnemployed_M  \\\n",
       "0                              49.6            723.5              434.2   \n",
       "1                              49.5            723.8              424.3   \n",
       "2                              49.1            735.2              427.5   \n",
       "3                              49.9            702.8              419.9   \n",
       "4                              50.0            600.6              348.6   \n",
       "\n",
       "   TotalUnemployed_F  Population 15 and over  Population 15 and over_M  \\\n",
       "0              289.3                 14070.5                    6922.5   \n",
       "1              299.5                 14271.2                    7017.8   \n",
       "2              307.7                 14455.4                    7101.7   \n",
       "3              282.9                 14633.9                    7186.3   \n",
       "4              252.0                 14826.6                    7277.7   \n",
       "\n",
       "   Population 15 and over_F  \n",
       "0                    7148.0  \n",
       "1                    7253.4  \n",
       "2                    7353.8  \n",
       "3                    7447.6  \n",
       "4                    7548.9  "
      ]
     },
     "execution_count": 88,
     "metadata": {},
     "output_type": "execute_result"
    }
   ],
   "source": [
    "# Read in employment data\n",
    "employment = pd.read_csv(\"../Data/ProcessedData/employment__cleaned.csv\")\n",
    "employment.head()"
   ]
  },
  {
   "cell_type": "code",
   "execution_count": 117,
   "id": "75c17b08",
   "metadata": {},
   "outputs": [],
   "source": [
    "# Get data to run correlation\n",
    "year = population[[\"Year\"]]\n",
    "gdp_aus_new = gdp_new[[\"Australia\"]].reset_index(drop=True)\n",
    "total_population = population[[\"EstimatedResidentPopulation\"]]\n",
    "total_employed = employment[[\"TotalEmployed\"]]\n",
    "total_employed_males = employment[[\"TotalEmployed_M\"]]\n",
    "total_employed_females = employment[[\"TotalEmployed_F\"]]\n",
    "total_unemployed = employment[[\"TotalUnemployed\"]]\n",
    "total_unemployed_males = employment[[\"TotalUnemployed_M\"]]\n",
    "total_unemployed_females = employment[[\"TotalUnemployed_F\"]]"
   ]
  },
  {
   "cell_type": "code",
   "execution_count": 119,
   "id": "4e40fefc",
   "metadata": {},
   "outputs": [
    {
     "data": {
      "text/html": [
       "<div>\n",
       "<style scoped>\n",
       "    .dataframe tbody tr th:only-of-type {\n",
       "        vertical-align: middle;\n",
       "    }\n",
       "\n",
       "    .dataframe tbody tr th {\n",
       "        vertical-align: top;\n",
       "    }\n",
       "\n",
       "    .dataframe thead th {\n",
       "        text-align: right;\n",
       "    }\n",
       "</style>\n",
       "<table border=\"1\" class=\"dataframe\">\n",
       "  <thead>\n",
       "    <tr style=\"text-align: right;\">\n",
       "      <th></th>\n",
       "      <th>Australia</th>\n",
       "      <th>Population</th>\n",
       "      <th>TotalEmployed</th>\n",
       "      <th>TotalEmployed_M</th>\n",
       "      <th>TotalEmployed_F</th>\n",
       "      <th>TotalUnemployed</th>\n",
       "      <th>TotalUnemployed_M</th>\n",
       "      <th>TotalUnemployed_F</th>\n",
       "    </tr>\n",
       "  </thead>\n",
       "  <tbody>\n",
       "    <tr>\n",
       "      <th>0</th>\n",
       "      <td>3.837755</td>\n",
       "      <td>18004.9</td>\n",
       "      <td>8205.6</td>\n",
       "      <td>4657.4</td>\n",
       "      <td>3548.3</td>\n",
       "      <td>723.5</td>\n",
       "      <td>434.2</td>\n",
       "      <td>289.3</td>\n",
       "    </tr>\n",
       "    <tr>\n",
       "      <th>1</th>\n",
       "      <td>3.878585</td>\n",
       "      <td>18224.8</td>\n",
       "      <td>8311.7</td>\n",
       "      <td>4724.4</td>\n",
       "      <td>3587.3</td>\n",
       "      <td>723.8</td>\n",
       "      <td>424.3</td>\n",
       "      <td>299.5</td>\n",
       "    </tr>\n",
       "    <tr>\n",
       "      <th>2</th>\n",
       "      <td>3.966538</td>\n",
       "      <td>18423.0</td>\n",
       "      <td>8345.6</td>\n",
       "      <td>4731.9</td>\n",
       "      <td>3613.6</td>\n",
       "      <td>735.2</td>\n",
       "      <td>427.5</td>\n",
       "      <td>307.7</td>\n",
       "    </tr>\n",
       "    <tr>\n",
       "      <th>3</th>\n",
       "      <td>4.576689</td>\n",
       "      <td>18607.6</td>\n",
       "      <td>8516.8</td>\n",
       "      <td>4801.8</td>\n",
       "      <td>3715.0</td>\n",
       "      <td>702.8</td>\n",
       "      <td>419.9</td>\n",
       "      <td>282.9</td>\n",
       "    </tr>\n",
       "    <tr>\n",
       "      <th>4</th>\n",
       "      <td>5.073599</td>\n",
       "      <td>18812.3</td>\n",
       "      <td>8673.2</td>\n",
       "      <td>4897.8</td>\n",
       "      <td>3775.5</td>\n",
       "      <td>600.6</td>\n",
       "      <td>348.6</td>\n",
       "      <td>252.0</td>\n",
       "    </tr>\n",
       "  </tbody>\n",
       "</table>\n",
       "</div>"
      ],
      "text/plain": [
       "   Australia  Population  TotalEmployed  TotalEmployed_M  TotalEmployed_F  \\\n",
       "0   3.837755     18004.9         8205.6           4657.4           3548.3   \n",
       "1   3.878585     18224.8         8311.7           4724.4           3587.3   \n",
       "2   3.966538     18423.0         8345.6           4731.9           3613.6   \n",
       "3   4.576689     18607.6         8516.8           4801.8           3715.0   \n",
       "4   5.073599     18812.3         8673.2           4897.8           3775.5   \n",
       "\n",
       "   TotalUnemployed  TotalUnemployed_M  TotalUnemployed_F  \n",
       "0            723.5              434.2              289.3  \n",
       "1            723.8              424.3              299.5  \n",
       "2            735.2              427.5              307.7  \n",
       "3            702.8              419.9              282.9  \n",
       "4            600.6              348.6              252.0  "
      ]
     },
     "execution_count": 119,
     "metadata": {},
     "output_type": "execute_result"
    }
   ],
   "source": [
    "correlation_df = pd.concat([gdp_aus_new,\n",
    "                            total_population,\n",
    "                            total_employed, \n",
    "                            total_employed_males,\n",
    "                            total_employed_females,\n",
    "                            total_unemployed,\n",
    "                            total_unemployed_males,\n",
    "                            total_unemployed_females], axis=1)\n",
    "\n",
    "correlation_renamed_df = correlation_df.rename(columns={\"EstimatedResidentPopulation\": \"Population\"})\n",
    "correlation_renamed_df.head()"
   ]
  },
  {
   "cell_type": "code",
   "execution_count": 121,
   "id": "057a6e19",
   "metadata": {},
   "outputs": [
    {
     "data": {
      "text/html": [
       "<div>\n",
       "<style scoped>\n",
       "    .dataframe tbody tr th:only-of-type {\n",
       "        vertical-align: middle;\n",
       "    }\n",
       "\n",
       "    .dataframe tbody tr th {\n",
       "        vertical-align: top;\n",
       "    }\n",
       "\n",
       "    .dataframe thead th {\n",
       "        text-align: right;\n",
       "    }\n",
       "</style>\n",
       "<table border=\"1\" class=\"dataframe\">\n",
       "  <thead>\n",
       "    <tr style=\"text-align: right;\">\n",
       "      <th></th>\n",
       "      <th>Australia</th>\n",
       "      <th>Population</th>\n",
       "      <th>TotalEmployed</th>\n",
       "      <th>TotalEmployed_M</th>\n",
       "      <th>TotalEmployed_F</th>\n",
       "      <th>TotalUnemployed</th>\n",
       "      <th>TotalUnemployed_M</th>\n",
       "      <th>TotalUnemployed_F</th>\n",
       "    </tr>\n",
       "  </thead>\n",
       "  <tbody>\n",
       "    <tr>\n",
       "      <th>Australia</th>\n",
       "      <td>1.000000</td>\n",
       "      <td>-0.691931</td>\n",
       "      <td>-0.656788</td>\n",
       "      <td>-0.639940</td>\n",
       "      <td>-0.670489</td>\n",
       "      <td>-0.491373</td>\n",
       "      <td>-0.325596</td>\n",
       "      <td>-0.649577</td>\n",
       "    </tr>\n",
       "    <tr>\n",
       "      <th>Population</th>\n",
       "      <td>-0.691931</td>\n",
       "      <td>1.000000</td>\n",
       "      <td>0.988475</td>\n",
       "      <td>0.983934</td>\n",
       "      <td>0.991038</td>\n",
       "      <td>0.363551</td>\n",
       "      <td>0.114982</td>\n",
       "      <td>0.647975</td>\n",
       "    </tr>\n",
       "    <tr>\n",
       "      <th>TotalEmployed</th>\n",
       "      <td>-0.656788</td>\n",
       "      <td>0.988475</td>\n",
       "      <td>1.000000</td>\n",
       "      <td>0.999140</td>\n",
       "      <td>0.999353</td>\n",
       "      <td>0.228864</td>\n",
       "      <td>-0.022022</td>\n",
       "      <td>0.533304</td>\n",
       "    </tr>\n",
       "    <tr>\n",
       "      <th>TotalEmployed_M</th>\n",
       "      <td>-0.639940</td>\n",
       "      <td>0.983934</td>\n",
       "      <td>0.999140</td>\n",
       "      <td>1.000000</td>\n",
       "      <td>0.997002</td>\n",
       "      <td>0.207767</td>\n",
       "      <td>-0.043831</td>\n",
       "      <td>0.515813</td>\n",
       "    </tr>\n",
       "    <tr>\n",
       "      <th>TotalEmployed_F</th>\n",
       "      <td>-0.670489</td>\n",
       "      <td>0.991038</td>\n",
       "      <td>0.999353</td>\n",
       "      <td>0.997002</td>\n",
       "      <td>1.000000</td>\n",
       "      <td>0.246857</td>\n",
       "      <td>-0.003061</td>\n",
       "      <td>0.547741</td>\n",
       "    </tr>\n",
       "    <tr>\n",
       "      <th>TotalUnemployed</th>\n",
       "      <td>-0.491373</td>\n",
       "      <td>0.363551</td>\n",
       "      <td>0.228864</td>\n",
       "      <td>0.207767</td>\n",
       "      <td>0.246857</td>\n",
       "      <td>1.000000</td>\n",
       "      <td>0.959710</td>\n",
       "      <td>0.927733</td>\n",
       "    </tr>\n",
       "    <tr>\n",
       "      <th>TotalUnemployed_M</th>\n",
       "      <td>-0.325596</td>\n",
       "      <td>0.114982</td>\n",
       "      <td>-0.022022</td>\n",
       "      <td>-0.043831</td>\n",
       "      <td>-0.003061</td>\n",
       "      <td>0.959710</td>\n",
       "      <td>1.000000</td>\n",
       "      <td>0.785476</td>\n",
       "    </tr>\n",
       "    <tr>\n",
       "      <th>TotalUnemployed_F</th>\n",
       "      <td>-0.649577</td>\n",
       "      <td>0.647975</td>\n",
       "      <td>0.533304</td>\n",
       "      <td>0.515813</td>\n",
       "      <td>0.547741</td>\n",
       "      <td>0.927733</td>\n",
       "      <td>0.785476</td>\n",
       "      <td>1.000000</td>\n",
       "    </tr>\n",
       "  </tbody>\n",
       "</table>\n",
       "</div>"
      ],
      "text/plain": [
       "                   Australia  Population  TotalEmployed  TotalEmployed_M  \\\n",
       "Australia           1.000000   -0.691931      -0.656788        -0.639940   \n",
       "Population         -0.691931    1.000000       0.988475         0.983934   \n",
       "TotalEmployed      -0.656788    0.988475       1.000000         0.999140   \n",
       "TotalEmployed_M    -0.639940    0.983934       0.999140         1.000000   \n",
       "TotalEmployed_F    -0.670489    0.991038       0.999353         0.997002   \n",
       "TotalUnemployed    -0.491373    0.363551       0.228864         0.207767   \n",
       "TotalUnemployed_M  -0.325596    0.114982      -0.022022        -0.043831   \n",
       "TotalUnemployed_F  -0.649577    0.647975       0.533304         0.515813   \n",
       "\n",
       "                   TotalEmployed_F  TotalUnemployed  TotalUnemployed_M  \\\n",
       "Australia                -0.670489        -0.491373          -0.325596   \n",
       "Population                0.991038         0.363551           0.114982   \n",
       "TotalEmployed             0.999353         0.228864          -0.022022   \n",
       "TotalEmployed_M           0.997002         0.207767          -0.043831   \n",
       "TotalEmployed_F           1.000000         0.246857          -0.003061   \n",
       "TotalUnemployed           0.246857         1.000000           0.959710   \n",
       "TotalUnemployed_M        -0.003061         0.959710           1.000000   \n",
       "TotalUnemployed_F         0.547741         0.927733           0.785476   \n",
       "\n",
       "                   TotalUnemployed_F  \n",
       "Australia                  -0.649577  \n",
       "Population                  0.647975  \n",
       "TotalEmployed               0.533304  \n",
       "TotalEmployed_M             0.515813  \n",
       "TotalEmployed_F             0.547741  \n",
       "TotalUnemployed             0.927733  \n",
       "TotalUnemployed_M           0.785476  \n",
       "TotalUnemployed_F           1.000000  "
      ]
     },
     "execution_count": 121,
     "metadata": {},
     "output_type": "execute_result"
    }
   ],
   "source": [
    "correlation = correlation_renamed_df.corr()\n",
    "correlation"
   ]
  },
  {
   "cell_type": "code",
   "execution_count": 123,
   "id": "481897c3",
   "metadata": {},
   "outputs": [
    {
     "data": {},
     "metadata": {},
     "output_type": "display_data"
    },
    {
     "data": {
      "application/vnd.holoviews_exec.v0+json": "",
      "text/html": [
       "<div id='4852'>\n",
       "\n",
       "\n",
       "\n",
       "\n",
       "\n",
       "  <div class=\"bk-root\" id=\"7f554ff7-ea38-457c-9070-382862848aff\" data-root-id=\"4852\"></div>\n",
       "</div>\n",
       "<script type=\"application/javascript\">(function(root) {\n",
       "  function embed_document(root) {\n",
       "    var docs_json = {\"2cb1c3c3-588b-4d88-b4ff-1f54ef92831d\":{\"defs\":[],\"roots\":{\"references\":[{\"attributes\":{\"active_multi\":null,\"tools\":[{\"id\":\"4856\"},{\"id\":\"4872\"},{\"id\":\"4873\"},{\"id\":\"4874\"},{\"id\":\"4875\"},{\"id\":\"4876\"}]},\"id\":\"4878\",\"type\":\"Toolbar\"},{\"attributes\":{\"axis\":{\"id\":\"4866\"},\"grid_line_color\":null,\"ticker\":null},\"id\":\"4868\",\"type\":\"Grid\"},{\"attributes\":{\"axis_label\":\"\",\"formatter\":{\"id\":\"4900\"},\"major_label_policy\":{\"id\":\"4901\"},\"ticker\":{\"id\":\"4870\"}},\"id\":\"4869\",\"type\":\"CategoricalAxis\"},{\"attributes\":{},\"id\":\"4901\",\"type\":\"AllLabels\"},{\"attributes\":{},\"id\":\"4887\",\"type\":\"Selection\"},{\"attributes\":{\"bottom_units\":\"screen\",\"fill_alpha\":0.5,\"fill_color\":\"lightgrey\",\"left_units\":\"screen\",\"level\":\"overlay\",\"line_alpha\":1.0,\"line_color\":\"black\",\"line_dash\":[4,4],\"line_width\":2,\"right_units\":\"screen\",\"syncable\":false,\"top_units\":\"screen\"},\"id\":\"4877\",\"type\":\"BoxAnnotation\"},{\"attributes\":{\"fill_alpha\":{\"value\":0.9},\"fill_color\":{\"value\":\"cyan\"},\"height\":{\"value\":1},\"line_alpha\":{\"value\":0},\"line_color\":{\"value\":\"cyan\"},\"width\":{\"value\":1},\"x\":{\"field\":\"columns\"},\"y\":{\"field\":\"index\"}},\"id\":\"4892\",\"type\":\"Rect\"},{\"attributes\":{},\"id\":\"4870\",\"type\":\"CategoricalTicker\"},{\"attributes\":{},\"id\":\"4864\",\"type\":\"CategoricalScale\"},{\"attributes\":{},\"id\":\"4912\",\"type\":\"UnionRenderers\"},{\"attributes\":{\"data_source\":{\"id\":\"4886\"},\"glyph\":{\"id\":\"4889\"},\"hover_glyph\":{\"id\":\"4892\"},\"muted_glyph\":null,\"nonselection_glyph\":{\"id\":\"4890\"},\"selection_glyph\":{\"id\":\"4891\"},\"view\":{\"id\":\"4894\"}},\"id\":\"4893\",\"type\":\"GlyphRenderer\"},{\"attributes\":{\"factors\":[\"Australia\",\"Population\",\"TotalEmployed\",\"TotalEmployed_M\",\"TotalEmployed_F\",\"TotalUnemployed\",\"TotalUnemployed_M\",\"TotalUnemployed_F\"],\"tags\":[[[\"index\",\"index\",null]]]},\"id\":\"4855\",\"type\":\"FactorRange\"},{\"attributes\":{\"margin\":[5,5,5,5],\"name\":\"HSpacer12752\",\"sizing_mode\":\"stretch_width\"},\"id\":\"4925\",\"type\":\"Spacer\"},{\"attributes\":{\"axis\":{\"id\":\"4869\"},\"dimension\":1,\"grid_line_color\":null,\"ticker\":null},\"id\":\"4871\",\"type\":\"Grid\"},{\"attributes\":{\"source\":{\"id\":\"4886\"}},\"id\":\"4894\",\"type\":\"CDSView\"},{\"attributes\":{\"fill_alpha\":{\"value\":0.9},\"fill_color\":{\"field\":\"zvalues\",\"transform\":{\"id\":\"4885\"}},\"height\":{\"value\":1},\"line_alpha\":{\"value\":0},\"line_color\":{\"value\":\"#1f77b4\"},\"width\":{\"value\":1},\"x\":{\"field\":\"columns\"},\"y\":{\"field\":\"index\"}},\"id\":\"4889\",\"type\":\"Rect\"},{\"attributes\":{},\"id\":\"4872\",\"type\":\"SaveTool\"},{\"attributes\":{},\"id\":\"4873\",\"type\":\"PanTool\"},{\"attributes\":{\"fill_alpha\":{\"value\":0.9},\"fill_color\":{\"field\":\"zvalues\",\"transform\":{\"id\":\"4885\"}},\"height\":{\"value\":1},\"line_alpha\":{\"value\":0},\"line_color\":{\"value\":\"#1f77b4\"},\"width\":{\"value\":1},\"x\":{\"field\":\"columns\"},\"y\":{\"field\":\"index\"}},\"id\":\"4891\",\"type\":\"Rect\"},{\"attributes\":{},\"id\":\"4876\",\"type\":\"ResetTool\"},{\"attributes\":{\"fill_alpha\":{\"value\":0.9},\"fill_color\":{\"field\":\"zvalues\",\"transform\":{\"id\":\"4885\"}},\"height\":{\"value\":1},\"line_alpha\":{\"value\":0},\"line_color\":{\"value\":\"#1f77b4\"},\"width\":{\"value\":1},\"x\":{\"field\":\"columns\"},\"y\":{\"field\":\"index\"}},\"id\":\"4890\",\"type\":\"Rect\"},{\"attributes\":{},\"id\":\"4874\",\"type\":\"WheelZoomTool\"},{\"attributes\":{\"bar_line_color\":\"black\",\"color_mapper\":{\"id\":\"4885\"},\"label_standoff\":8,\"location\":[0,0],\"major_label_policy\":{\"id\":\"4904\"},\"major_tick_line_color\":\"black\",\"ticker\":{\"id\":\"4895\"}},\"id\":\"4896\",\"type\":\"ColorBar\"},{\"attributes\":{},\"id\":\"4895\",\"type\":\"BasicTicker\"},{\"attributes\":{\"margin\":[5,5,5,5],\"name\":\"HSpacer12751\",\"sizing_mode\":\"stretch_width\"},\"id\":\"4853\",\"type\":\"Spacer\"},{\"attributes\":{\"overlay\":{\"id\":\"4877\"}},\"id\":\"4875\",\"type\":\"BoxZoomTool\"},{\"attributes\":{},\"id\":\"4862\",\"type\":\"CategoricalScale\"},{\"attributes\":{\"high\":1.0,\"low\":-0.691931445784184,\"nan_color\":\"white\",\"palette\":[\"#1331c1\",\"#1832c1\",\"#1c32c0\",\"#1f33c0\",\"#2234bf\",\"#2534bf\",\"#2735bf\",\"#2a36be\",\"#2c37be\",\"#2e37be\",\"#3038bd\",\"#3239bd\",\"#343abd\",\"#363abc\",\"#383bbc\",\"#393cbc\",\"#3b3cbb\",\"#3d3dbb\",\"#3e3ebb\",\"#403fba\",\"#413fba\",\"#4240b9\",\"#4441b9\",\"#4542b9\",\"#4642b8\",\"#4843b8\",\"#4944b8\",\"#4a44b7\",\"#4b45b7\",\"#4d46b7\",\"#4e47b6\",\"#4f47b6\",\"#5048b6\",\"#5149b5\",\"#524ab5\",\"#534ab4\",\"#544bb4\",\"#554cb4\",\"#564db3\",\"#574db3\",\"#584eb3\",\"#594fb2\",\"#5a50b2\",\"#5b50b2\",\"#5c51b1\",\"#5d52b1\",\"#5e52b0\",\"#5f53b0\",\"#6054b0\",\"#6155af\",\"#6155af\",\"#6256af\",\"#6357ae\",\"#6458ae\",\"#6558ad\",\"#6659ad\",\"#665aad\",\"#675bac\",\"#685bac\",\"#695cac\",\"#695dab\",\"#6a5eab\",\"#6b5eab\",\"#6c5faa\",\"#6c60aa\",\"#6d61a9\",\"#6e61a9\",\"#6f62a9\",\"#6f63a8\",\"#7064a8\",\"#7164a7\",\"#7165a7\",\"#7266a7\",\"#7367a6\",\"#7367a6\",\"#7468a6\",\"#7569a5\",\"#756aa5\",\"#766aa4\",\"#776ba4\",\"#776ca4\",\"#786da3\",\"#786da3\",\"#796ea2\",\"#7a6fa2\",\"#7a70a2\",\"#7b70a1\",\"#7b71a1\",\"#7c72a0\",\"#7d73a0\",\"#7d73a0\",\"#7e749f\",\"#7e759f\",\"#7f769e\",\"#80769e\",\"#80779e\",\"#81789d\",\"#81799d\",\"#82799c\",\"#827a9c\",\"#837b9c\",\"#837c9b\",\"#847c9b\",\"#847d9a\",\"#857e9a\",\"#857f9a\",\"#868099\",\"#868099\",\"#878198\",\"#878298\",\"#888398\",\"#888397\",\"#898497\",\"#898596\",\"#8a8696\",\"#8a8695\",\"#8b8795\",\"#8b8895\",\"#8c8994\",\"#8c8a94\",\"#8d8a93\",\"#8d8b93\",\"#8e8c92\",\"#8e8d92\",\"#8e8d92\",\"#8f8e91\",\"#8f8f91\",\"#909090\",\"#919090\",\"#92918f\",\"#93928f\",\"#94928e\",\"#95938d\",\"#96938d\",\"#97948c\",\"#98958c\",\"#99958b\",\"#9a968a\",\"#9b968a\",\"#9c9789\",\"#9d9888\",\"#9e9888\",\"#9f9987\",\"#a09a87\",\"#a19a86\",\"#a29b85\",\"#a29b85\",\"#a39c84\",\"#a49d83\",\"#a59d83\",\"#a69e82\",\"#a79f82\",\"#a89f81\",\"#a9a080\",\"#aaa080\",\"#aba17f\",\"#aca27e\",\"#ada27e\",\"#aea37d\",\"#aea47c\",\"#afa47c\",\"#b0a57b\",\"#b1a67a\",\"#b2a67a\",\"#b3a779\",\"#b4a778\",\"#b5a878\",\"#b6a977\",\"#b6a976\",\"#b7aa76\",\"#b8ab75\",\"#b9ab74\",\"#baac73\",\"#bbad73\",\"#bcad72\",\"#bdae71\",\"#bdae71\",\"#beaf70\",\"#bfb06f\",\"#c0b06e\",\"#c1b16e\",\"#c2b26d\",\"#c3b26c\",\"#c3b36b\",\"#c4b46b\",\"#c5b46a\",\"#c6b569\",\"#c7b668\",\"#c8b668\",\"#c8b767\",\"#c9b866\",\"#cab865\",\"#cbb965\",\"#ccba64\",\"#ccba63\",\"#cdbb62\",\"#cebc61\",\"#cfbc60\",\"#d0bd60\",\"#d1be5f\",\"#d1be5e\",\"#d2bf5d\",\"#d3c05c\",\"#d4c05b\",\"#d5c15a\",\"#d5c25a\",\"#d6c259\",\"#d7c358\",\"#d8c457\",\"#d9c456\",\"#d9c555\",\"#dac654\",\"#dbc653\",\"#dcc752\",\"#ddc851\",\"#ddc850\",\"#dec94f\",\"#dfca4e\",\"#e0ca4d\",\"#e1cb4c\",\"#e1cc4b\",\"#e2cc4a\",\"#e3cd49\",\"#e4ce48\",\"#e4ce47\",\"#e5cf46\",\"#e6d044\",\"#e7d043\",\"#e8d142\",\"#e8d241\",\"#e9d240\",\"#ead33e\",\"#ebd43d\",\"#ebd43c\",\"#ecd53a\",\"#edd639\",\"#eed637\",\"#efd736\",\"#efd834\",\"#f0d833\",\"#f1d931\",\"#f2da30\",\"#f2da2e\",\"#f3db2c\",\"#f4dc2a\",\"#f5dd28\",\"#f5dd26\",\"#f6de24\",\"#f7df22\",\"#f8df1f\",\"#f8e01d\",\"#f9e11a\",\"#fae116\",\"#fbe213\",\"#fbe30e\",\"#fce309\"]},\"id\":\"4885\",\"type\":\"LinearColorMapper\"},{\"attributes\":{\"data\":{\"columns\":[\"Australia\",\"Australia\",\"Australia\",\"Australia\",\"Australia\",\"Australia\",\"Australia\",\"Australia\",\"Population\",\"Population\",\"Population\",\"Population\",\"Population\",\"Population\",\"Population\",\"Population\",\"TotalEmployed\",\"TotalEmployed\",\"TotalEmployed\",\"TotalEmployed\",\"TotalEmployed\",\"TotalEmployed\",\"TotalEmployed\",\"TotalEmployed\",\"TotalEmployed_M\",\"TotalEmployed_M\",\"TotalEmployed_M\",\"TotalEmployed_M\",\"TotalEmployed_M\",\"TotalEmployed_M\",\"TotalEmployed_M\",\"TotalEmployed_M\",\"TotalEmployed_F\",\"TotalEmployed_F\",\"TotalEmployed_F\",\"TotalEmployed_F\",\"TotalEmployed_F\",\"TotalEmployed_F\",\"TotalEmployed_F\",\"TotalEmployed_F\",\"TotalUnemployed\",\"TotalUnemployed\",\"TotalUnemployed\",\"TotalUnemployed\",\"TotalUnemployed\",\"TotalUnemployed\",\"TotalUnemployed\",\"TotalUnemployed\",\"TotalUnemployed_M\",\"TotalUnemployed_M\",\"TotalUnemployed_M\",\"TotalUnemployed_M\",\"TotalUnemployed_M\",\"TotalUnemployed_M\",\"TotalUnemployed_M\",\"TotalUnemployed_M\",\"TotalUnemployed_F\",\"TotalUnemployed_F\",\"TotalUnemployed_F\",\"TotalUnemployed_F\",\"TotalUnemployed_F\",\"TotalUnemployed_F\",\"TotalUnemployed_F\",\"TotalUnemployed_F\"],\"index\":[\"Australia\",\"Population\",\"TotalEmployed\",\"TotalEmployed_M\",\"TotalEmployed_F\",\"TotalUnemployed\",\"TotalUnemployed_M\",\"TotalUnemployed_F\",\"Australia\",\"Population\",\"TotalEmployed\",\"TotalEmployed_M\",\"TotalEmployed_F\",\"TotalUnemployed\",\"TotalUnemployed_M\",\"TotalUnemployed_F\",\"Australia\",\"Population\",\"TotalEmployed\",\"TotalEmployed_M\",\"TotalEmployed_F\",\"TotalUnemployed\",\"TotalUnemployed_M\",\"TotalUnemployed_F\",\"Australia\",\"Population\",\"TotalEmployed\",\"TotalEmployed_M\",\"TotalEmployed_F\",\"TotalUnemployed\",\"TotalUnemployed_M\",\"TotalUnemployed_F\",\"Australia\",\"Population\",\"TotalEmployed\",\"TotalEmployed_M\",\"TotalEmployed_F\",\"TotalUnemployed\",\"TotalUnemployed_M\",\"TotalUnemployed_F\",\"Australia\",\"Population\",\"TotalEmployed\",\"TotalEmployed_M\",\"TotalEmployed_F\",\"TotalUnemployed\",\"TotalUnemployed_M\",\"TotalUnemployed_F\",\"Australia\",\"Population\",\"TotalEmployed\",\"TotalEmployed_M\",\"TotalEmployed_F\",\"TotalUnemployed\",\"TotalUnemployed_M\",\"TotalUnemployed_F\",\"Australia\",\"Population\",\"TotalEmployed\",\"TotalEmployed_M\",\"TotalEmployed_F\",\"TotalUnemployed\",\"TotalUnemployed_M\",\"TotalUnemployed_F\"],\"value\":[\"1\",\"-0.69193\",\"-0.65679\",\"-0.63994\",\"-0.67049\",\"-0.49137\",\"-0.3256\",\"-0.64958\",\"-0.69193\",\"1\",\"0.98847\",\"0.98393\",\"0.99104\",\"0.36355\",\"0.11498\",\"0.64797\",\"-0.65679\",\"0.98847\",\"1\",\"0.99914\",\"0.99935\",\"0.22886\",\"-0.022022\",\"0.5333\",\"-0.63994\",\"0.98393\",\"0.99914\",\"1\",\"0.997\",\"0.20777\",\"-0.043831\",\"0.51581\",\"-0.67049\",\"0.99104\",\"0.99935\",\"0.997\",\"1\",\"0.24686\",\"-0.0030607\",\"0.54774\",\"-0.49137\",\"0.36355\",\"0.22886\",\"0.20777\",\"0.24686\",\"1\",\"0.95971\",\"0.92773\",\"-0.3256\",\"0.11498\",\"-0.022022\",\"-0.043831\",\"-0.0030607\",\"0.95971\",\"1\",\"0.78548\",\"-0.64958\",\"0.64797\",\"0.5333\",\"0.51581\",\"0.54774\",\"0.92773\",\"0.78548\",\"1\"],\"zvalues\":{\"__ndarray__\":\"AAAAAAAA8D838lZqTSTmv7u67JFoBOW/+46KemR65L/NekE9pXTlv+RYCqqnct+/WWW6U4/W1L/8dvVKVsnkvzfyVmpNJOa/AAAAAAAA8D+2sbwflqHvP51H+QtkfO8/XIO3PZW27z9rouxwa0TXPzVZXhRwb70/NfAsEDW85D+7uuyRaATlv7axvB+Woe8/AAAAAAAA8D/zqqOX9PjvP2pmFnKy+u8/G7srd21LzT9vmiU6+oyWvwFkEzLTEOE/+46KemR65L+dR/kLZHzvP/Oqo5f0+O8/AAAAAAAA8D+V8bkHcOfvP7mjtJQcmMo/3peWsRRxpr9Djv2uiYHgP816QT2ldOW/XIO3PZW27z9qZhZysvrvP5XxuQdw5+8/AAAAAAAA8D8OZJakBJnPP4tv4/PZEmm/Sqn+nRiH4T/kWAqqp3Lfv2ui7HBrRNc/G7srd21LzT+5o7SUHJjKPw5klqQEmc8/AAAAAAAA8D9rG3wo8rXuP5SfzwP9r+0/WWW6U4/W1L81WV4UcG+9P2+aJTr6jJa/3peWsRRxpr+Lb+Pz2RJpv2sbfCjyte4/AAAAAAAA8D8gvNGRnyLpP/x29UpWyeS/NfAsEDW85D8BZBMy0xDhP0OO/a6JgeA/Sqn+nRiH4T+Un88D/a/tPyC80ZGfIuk/AAAAAAAA8D8=\",\"dtype\":\"float64\",\"order\":\"little\",\"shape\":[64]}},\"selected\":{\"id\":\"4887\"},\"selection_policy\":{\"id\":\"4912\"}},\"id\":\"4886\",\"type\":\"ColumnDataSource\"},{\"attributes\":{\"below\":[{\"id\":\"4866\"}],\"center\":[{\"id\":\"4868\"},{\"id\":\"4871\"}],\"height\":300,\"left\":[{\"id\":\"4869\"}],\"margin\":[5,5,5,5],\"min_border_bottom\":10,\"min_border_left\":10,\"min_border_right\":10,\"min_border_top\":10,\"renderers\":[{\"id\":\"4893\"}],\"right\":[{\"id\":\"4896\"}],\"sizing_mode\":\"fixed\",\"title\":{\"id\":\"4858\"},\"toolbar\":{\"id\":\"4878\"},\"width\":700,\"x_range\":{\"id\":\"4854\"},\"x_scale\":{\"id\":\"4862\"},\"y_range\":{\"id\":\"4855\"},\"y_scale\":{\"id\":\"4864\"}},\"id\":\"4857\",\"subtype\":\"Figure\",\"type\":\"Plot\"},{\"attributes\":{},\"id\":\"4900\",\"type\":\"CategoricalTickFormatter\"},{\"attributes\":{\"children\":[{\"id\":\"4853\"},{\"id\":\"4857\"},{\"id\":\"4925\"}],\"margin\":[0,0,0,0],\"name\":\"Row12747\",\"tags\":[\"embedded\"]},\"id\":\"4852\",\"type\":\"Row\"},{\"attributes\":{\"callback\":null,\"renderers\":[{\"id\":\"4893\"}],\"tags\":[\"hv_created\"],\"tooltips\":[[\"columns\",\"@{columns}\"],[\"index\",\"@{index}\"],[\"value\",\"@{value}\"]]},\"id\":\"4856\",\"type\":\"HoverTool\"},{\"attributes\":{},\"id\":\"4898\",\"type\":\"AllLabels\"},{\"attributes\":{\"factors\":[\"Australia\",\"Population\",\"TotalEmployed\",\"TotalEmployed_M\",\"TotalEmployed_F\",\"TotalUnemployed\",\"TotalUnemployed_M\",\"TotalUnemployed_F\"],\"tags\":[[[\"columns\",\"columns\",null]]]},\"id\":\"4854\",\"type\":\"FactorRange\"},{\"attributes\":{},\"id\":\"4897\",\"type\":\"CategoricalTickFormatter\"},{\"attributes\":{\"text_color\":\"black\",\"text_font_size\":\"12pt\"},\"id\":\"4858\",\"type\":\"Title\"},{\"attributes\":{},\"id\":\"4867\",\"type\":\"CategoricalTicker\"},{\"attributes\":{\"axis_label\":\"\",\"formatter\":{\"id\":\"4897\"},\"major_label_policy\":{\"id\":\"4898\"},\"ticker\":{\"id\":\"4867\"}},\"id\":\"4866\",\"type\":\"CategoricalAxis\"},{\"attributes\":{},\"id\":\"4904\",\"type\":\"NoOverlap\"}],\"root_ids\":[\"4852\"]},\"title\":\"Bokeh Application\",\"version\":\"2.3.2\"}};\n",
       "    var render_items = [{\"docid\":\"2cb1c3c3-588b-4d88-b4ff-1f54ef92831d\",\"root_ids\":[\"4852\"],\"roots\":{\"4852\":\"7f554ff7-ea38-457c-9070-382862848aff\"}}];\n",
       "    root.Bokeh.embed.embed_items_notebook(docs_json, render_items);\n",
       "  }\n",
       "  if (root.Bokeh !== undefined && root.Bokeh.Panel !== undefined && root['Plotly'] !== undefined ) {\n",
       "    embed_document(root);\n",
       "  } else {\n",
       "    var attempts = 0;\n",
       "    var timer = setInterval(function(root) {\n",
       "      if (root.Bokeh !== undefined && root.Bokeh.Panel !== undefined && root['Plotly'] !== undefined) {\n",
       "        clearInterval(timer);\n",
       "        embed_document(root);\n",
       "      } else if (document.readyState == \"complete\") {\n",
       "        attempts++;\n",
       "        if (attempts > 100) {\n",
       "          clearInterval(timer);\n",
       "          console.log(\"Bokeh: ERROR: Unable to run BokehJS code because BokehJS library is missing\");\n",
       "        }\n",
       "      }\n",
       "    }, 10, root)\n",
       "  }\n",
       "})(window);</script>"
      ],
      "text/plain": [
       ":HeatMap   [columns,index]   (value)"
      ]
     },
     "execution_count": 123,
     "metadata": {
      "application/vnd.holoviews_exec.v0+json": {
       "id": "4852"
      }
     },
     "output_type": "execute_result"
    }
   ],
   "source": [
    "heatmap_plot = correlation.hvplot.heatmap(ymarks_hover_color='cyan',\n",
    "                                          hover_color='cyan',\n",
    "                                          alpha=0.9,\n",
    "                                          colorbar=True,\n",
    "                                          cmap='bjy')\n",
    "\n",
    "heatmap_plot"
   ]
  },
  {
   "cell_type": "code",
   "execution_count": 122,
   "id": "3428aa3f",
   "metadata": {},
   "outputs": [
    {
     "data": {
      "application/vnd.plotly.v1+json": {
       "config": {
        "linkText": "Export to plot.ly",
        "plotlyServerURL": "https://plot.ly",
        "showLink": true
       },
       "data": [
        {
         "colorscale": [
          [
           0,
           "rgb(255, 153, 51)"
          ],
          [
           0.1111111111111111,
           "rgb(55, 128, 191)"
          ],
          [
           0.2222222222222222,
           "rgb(50, 171, 96)"
          ],
          [
           0.3333333333333333,
           "rgb(128, 0, 128)"
          ],
          [
           0.4444444444444444,
           "rgb(219, 64, 82)"
          ],
          [
           0.5555555555555556,
           "rgb(0, 128, 128)"
          ],
          [
           0.6666666666666666,
           "rgb(255, 255, 51)"
          ],
          [
           0.7777777777777778,
           "rgb(128, 128, 0)"
          ],
          [
           0.8888888888888888,
           "rgb(251, 128, 114)"
          ],
          [
           1,
           "rgb(128, 177, 211)"
          ]
         ],
         "type": "heatmap",
         "x": [
          "Australia",
          "Population",
          "TotalEmployed",
          "TotalEmployed_M",
          "TotalEmployed_F",
          "TotalUnemployed",
          "TotalUnemployed_M",
          "TotalUnemployed_F"
         ],
         "y": [
          "Australia",
          "Population",
          "TotalEmployed",
          "TotalEmployed_M",
          "TotalEmployed_F",
          "TotalUnemployed",
          "TotalUnemployed_M",
          "TotalUnemployed_F"
         ],
         "z": [
          [
           1,
           -0.691931445784184,
           -0.656788144120433,
           -0.6399404900916744,
           -0.6704889484788851,
           -0.49137298207769065,
           -0.3255956952721895,
           -0.6495772804298379
          ],
          [
           -0.691931445784184,
           1,
           0.988474905001161,
           0.9839344247686658,
           0.9910379605681601,
           0.3635510065819633,
           0.11498165604857465,
           0.6479745212486764
          ],
          [
           -0.656788144120433,
           0.988474905001161,
           1,
           0.9991400682168589,
           0.999352667643689,
           0.22886436766517523,
           -0.022022161292080285,
           0.5333038309137238
          ],
          [
           -0.6399404900916744,
           0.9839344247686658,
           0.9991400682168589,
           1,
           0.9970016623406531,
           0.20776707898155936,
           -0.04383148830247284,
           0.5158127229482904
          ],
          [
           -0.6704889484788851,
           0.9910379605681601,
           0.999352667643689,
           0.9970016623406531,
           1,
           0.24685724293229366,
           -0.0030607468498668514,
           0.54774123056749
          ],
          [
           -0.49137298207769065,
           0.3635510065819633,
           0.22886436766517523,
           0.20776707898155936,
           0.24685724293229366,
           1,
           0.9597101965635891,
           0.9277329515871195
          ],
          [
           -0.3255956952721895,
           0.11498165604857465,
           -0.022022161292080285,
           -0.04383148830247284,
           -0.0030607468498668514,
           0.9597101965635891,
           1,
           0.7854764793427229
          ],
          [
           -0.6495772804298379,
           0.6479745212486764,
           0.5333038309137238,
           0.5158127229482904,
           0.54774123056749,
           0.9277329515871195,
           0.7854764793427229,
           1
          ]
         ],
         "zmax": 1,
         "zmin": -0.691931445784184
        }
       ],
       "layout": {
        "autosize": true,
        "legend": {
         "bgcolor": "#151516",
         "font": {
          "color": "#D9D9D9"
         }
        },
        "paper_bgcolor": "#151516",
        "plot_bgcolor": "#151516",
        "template": {
         "data": {
          "bar": [
           {
            "error_x": {
             "color": "#2a3f5f"
            },
            "error_y": {
             "color": "#2a3f5f"
            },
            "marker": {
             "line": {
              "color": "#E5ECF6",
              "width": 0.5
             }
            },
            "type": "bar"
           }
          ],
          "barpolar": [
           {
            "marker": {
             "line": {
              "color": "#E5ECF6",
              "width": 0.5
             }
            },
            "type": "barpolar"
           }
          ],
          "carpet": [
           {
            "aaxis": {
             "endlinecolor": "#2a3f5f",
             "gridcolor": "white",
             "linecolor": "white",
             "minorgridcolor": "white",
             "startlinecolor": "#2a3f5f"
            },
            "baxis": {
             "endlinecolor": "#2a3f5f",
             "gridcolor": "white",
             "linecolor": "white",
             "minorgridcolor": "white",
             "startlinecolor": "#2a3f5f"
            },
            "type": "carpet"
           }
          ],
          "choropleth": [
           {
            "colorbar": {
             "outlinewidth": 0,
             "ticks": ""
            },
            "type": "choropleth"
           }
          ],
          "contour": [
           {
            "colorbar": {
             "outlinewidth": 0,
             "ticks": ""
            },
            "colorscale": [
             [
              0,
              "#0d0887"
             ],
             [
              0.1111111111111111,
              "#46039f"
             ],
             [
              0.2222222222222222,
              "#7201a8"
             ],
             [
              0.3333333333333333,
              "#9c179e"
             ],
             [
              0.4444444444444444,
              "#bd3786"
             ],
             [
              0.5555555555555556,
              "#d8576b"
             ],
             [
              0.6666666666666666,
              "#ed7953"
             ],
             [
              0.7777777777777778,
              "#fb9f3a"
             ],
             [
              0.8888888888888888,
              "#fdca26"
             ],
             [
              1,
              "#f0f921"
             ]
            ],
            "type": "contour"
           }
          ],
          "contourcarpet": [
           {
            "colorbar": {
             "outlinewidth": 0,
             "ticks": ""
            },
            "type": "contourcarpet"
           }
          ],
          "heatmap": [
           {
            "colorbar": {
             "outlinewidth": 0,
             "ticks": ""
            },
            "colorscale": [
             [
              0,
              "#0d0887"
             ],
             [
              0.1111111111111111,
              "#46039f"
             ],
             [
              0.2222222222222222,
              "#7201a8"
             ],
             [
              0.3333333333333333,
              "#9c179e"
             ],
             [
              0.4444444444444444,
              "#bd3786"
             ],
             [
              0.5555555555555556,
              "#d8576b"
             ],
             [
              0.6666666666666666,
              "#ed7953"
             ],
             [
              0.7777777777777778,
              "#fb9f3a"
             ],
             [
              0.8888888888888888,
              "#fdca26"
             ],
             [
              1,
              "#f0f921"
             ]
            ],
            "type": "heatmap"
           }
          ],
          "heatmapgl": [
           {
            "colorbar": {
             "outlinewidth": 0,
             "ticks": ""
            },
            "colorscale": [
             [
              0,
              "#0d0887"
             ],
             [
              0.1111111111111111,
              "#46039f"
             ],
             [
              0.2222222222222222,
              "#7201a8"
             ],
             [
              0.3333333333333333,
              "#9c179e"
             ],
             [
              0.4444444444444444,
              "#bd3786"
             ],
             [
              0.5555555555555556,
              "#d8576b"
             ],
             [
              0.6666666666666666,
              "#ed7953"
             ],
             [
              0.7777777777777778,
              "#fb9f3a"
             ],
             [
              0.8888888888888888,
              "#fdca26"
             ],
             [
              1,
              "#f0f921"
             ]
            ],
            "type": "heatmapgl"
           }
          ],
          "histogram": [
           {
            "marker": {
             "colorbar": {
              "outlinewidth": 0,
              "ticks": ""
             }
            },
            "type": "histogram"
           }
          ],
          "histogram2d": [
           {
            "colorbar": {
             "outlinewidth": 0,
             "ticks": ""
            },
            "colorscale": [
             [
              0,
              "#0d0887"
             ],
             [
              0.1111111111111111,
              "#46039f"
             ],
             [
              0.2222222222222222,
              "#7201a8"
             ],
             [
              0.3333333333333333,
              "#9c179e"
             ],
             [
              0.4444444444444444,
              "#bd3786"
             ],
             [
              0.5555555555555556,
              "#d8576b"
             ],
             [
              0.6666666666666666,
              "#ed7953"
             ],
             [
              0.7777777777777778,
              "#fb9f3a"
             ],
             [
              0.8888888888888888,
              "#fdca26"
             ],
             [
              1,
              "#f0f921"
             ]
            ],
            "type": "histogram2d"
           }
          ],
          "histogram2dcontour": [
           {
            "colorbar": {
             "outlinewidth": 0,
             "ticks": ""
            },
            "colorscale": [
             [
              0,
              "#0d0887"
             ],
             [
              0.1111111111111111,
              "#46039f"
             ],
             [
              0.2222222222222222,
              "#7201a8"
             ],
             [
              0.3333333333333333,
              "#9c179e"
             ],
             [
              0.4444444444444444,
              "#bd3786"
             ],
             [
              0.5555555555555556,
              "#d8576b"
             ],
             [
              0.6666666666666666,
              "#ed7953"
             ],
             [
              0.7777777777777778,
              "#fb9f3a"
             ],
             [
              0.8888888888888888,
              "#fdca26"
             ],
             [
              1,
              "#f0f921"
             ]
            ],
            "type": "histogram2dcontour"
           }
          ],
          "mesh3d": [
           {
            "colorbar": {
             "outlinewidth": 0,
             "ticks": ""
            },
            "type": "mesh3d"
           }
          ],
          "parcoords": [
           {
            "line": {
             "colorbar": {
              "outlinewidth": 0,
              "ticks": ""
             }
            },
            "type": "parcoords"
           }
          ],
          "pie": [
           {
            "automargin": true,
            "type": "pie"
           }
          ],
          "scatter": [
           {
            "marker": {
             "colorbar": {
              "outlinewidth": 0,
              "ticks": ""
             }
            },
            "type": "scatter"
           }
          ],
          "scatter3d": [
           {
            "line": {
             "colorbar": {
              "outlinewidth": 0,
              "ticks": ""
             }
            },
            "marker": {
             "colorbar": {
              "outlinewidth": 0,
              "ticks": ""
             }
            },
            "type": "scatter3d"
           }
          ],
          "scattercarpet": [
           {
            "marker": {
             "colorbar": {
              "outlinewidth": 0,
              "ticks": ""
             }
            },
            "type": "scattercarpet"
           }
          ],
          "scattergeo": [
           {
            "marker": {
             "colorbar": {
              "outlinewidth": 0,
              "ticks": ""
             }
            },
            "type": "scattergeo"
           }
          ],
          "scattergl": [
           {
            "marker": {
             "colorbar": {
              "outlinewidth": 0,
              "ticks": ""
             }
            },
            "type": "scattergl"
           }
          ],
          "scattermapbox": [
           {
            "marker": {
             "colorbar": {
              "outlinewidth": 0,
              "ticks": ""
             }
            },
            "type": "scattermapbox"
           }
          ],
          "scatterpolar": [
           {
            "marker": {
             "colorbar": {
              "outlinewidth": 0,
              "ticks": ""
             }
            },
            "type": "scatterpolar"
           }
          ],
          "scatterpolargl": [
           {
            "marker": {
             "colorbar": {
              "outlinewidth": 0,
              "ticks": ""
             }
            },
            "type": "scatterpolargl"
           }
          ],
          "scatterternary": [
           {
            "marker": {
             "colorbar": {
              "outlinewidth": 0,
              "ticks": ""
             }
            },
            "type": "scatterternary"
           }
          ],
          "surface": [
           {
            "colorbar": {
             "outlinewidth": 0,
             "ticks": ""
            },
            "colorscale": [
             [
              0,
              "#0d0887"
             ],
             [
              0.1111111111111111,
              "#46039f"
             ],
             [
              0.2222222222222222,
              "#7201a8"
             ],
             [
              0.3333333333333333,
              "#9c179e"
             ],
             [
              0.4444444444444444,
              "#bd3786"
             ],
             [
              0.5555555555555556,
              "#d8576b"
             ],
             [
              0.6666666666666666,
              "#ed7953"
             ],
             [
              0.7777777777777778,
              "#fb9f3a"
             ],
             [
              0.8888888888888888,
              "#fdca26"
             ],
             [
              1,
              "#f0f921"
             ]
            ],
            "type": "surface"
           }
          ],
          "table": [
           {
            "cells": {
             "fill": {
              "color": "#EBF0F8"
             },
             "line": {
              "color": "white"
             }
            },
            "header": {
             "fill": {
              "color": "#C8D4E3"
             },
             "line": {
              "color": "white"
             }
            },
            "type": "table"
           }
          ]
         },
         "layout": {
          "annotationdefaults": {
           "arrowcolor": "#2a3f5f",
           "arrowhead": 0,
           "arrowwidth": 1
          },
          "autotypenumbers": "strict",
          "coloraxis": {
           "colorbar": {
            "outlinewidth": 0,
            "ticks": ""
           }
          },
          "colorscale": {
           "diverging": [
            [
             0,
             "#8e0152"
            ],
            [
             0.1,
             "#c51b7d"
            ],
            [
             0.2,
             "#de77ae"
            ],
            [
             0.3,
             "#f1b6da"
            ],
            [
             0.4,
             "#fde0ef"
            ],
            [
             0.5,
             "#f7f7f7"
            ],
            [
             0.6,
             "#e6f5d0"
            ],
            [
             0.7,
             "#b8e186"
            ],
            [
             0.8,
             "#7fbc41"
            ],
            [
             0.9,
             "#4d9221"
            ],
            [
             1,
             "#276419"
            ]
           ],
           "sequential": [
            [
             0,
             "#0d0887"
            ],
            [
             0.1111111111111111,
             "#46039f"
            ],
            [
             0.2222222222222222,
             "#7201a8"
            ],
            [
             0.3333333333333333,
             "#9c179e"
            ],
            [
             0.4444444444444444,
             "#bd3786"
            ],
            [
             0.5555555555555556,
             "#d8576b"
            ],
            [
             0.6666666666666666,
             "#ed7953"
            ],
            [
             0.7777777777777778,
             "#fb9f3a"
            ],
            [
             0.8888888888888888,
             "#fdca26"
            ],
            [
             1,
             "#f0f921"
            ]
           ],
           "sequentialminus": [
            [
             0,
             "#0d0887"
            ],
            [
             0.1111111111111111,
             "#46039f"
            ],
            [
             0.2222222222222222,
             "#7201a8"
            ],
            [
             0.3333333333333333,
             "#9c179e"
            ],
            [
             0.4444444444444444,
             "#bd3786"
            ],
            [
             0.5555555555555556,
             "#d8576b"
            ],
            [
             0.6666666666666666,
             "#ed7953"
            ],
            [
             0.7777777777777778,
             "#fb9f3a"
            ],
            [
             0.8888888888888888,
             "#fdca26"
            ],
            [
             1,
             "#f0f921"
            ]
           ]
          },
          "colorway": [
           "#636efa",
           "#EF553B",
           "#00cc96",
           "#ab63fa",
           "#FFA15A",
           "#19d3f3",
           "#FF6692",
           "#B6E880",
           "#FF97FF",
           "#FECB52"
          ],
          "font": {
           "color": "#2a3f5f"
          },
          "geo": {
           "bgcolor": "white",
           "lakecolor": "white",
           "landcolor": "#E5ECF6",
           "showlakes": true,
           "showland": true,
           "subunitcolor": "white"
          },
          "hoverlabel": {
           "align": "left"
          },
          "hovermode": "closest",
          "mapbox": {
           "style": "light"
          },
          "paper_bgcolor": "white",
          "plot_bgcolor": "#E5ECF6",
          "polar": {
           "angularaxis": {
            "gridcolor": "white",
            "linecolor": "white",
            "ticks": ""
           },
           "bgcolor": "#E5ECF6",
           "radialaxis": {
            "gridcolor": "white",
            "linecolor": "white",
            "ticks": ""
           }
          },
          "scene": {
           "xaxis": {
            "backgroundcolor": "#E5ECF6",
            "gridcolor": "white",
            "gridwidth": 2,
            "linecolor": "white",
            "showbackground": true,
            "ticks": "",
            "zerolinecolor": "white"
           },
           "yaxis": {
            "backgroundcolor": "#E5ECF6",
            "gridcolor": "white",
            "gridwidth": 2,
            "linecolor": "white",
            "showbackground": true,
            "ticks": "",
            "zerolinecolor": "white"
           },
           "zaxis": {
            "backgroundcolor": "#E5ECF6",
            "gridcolor": "white",
            "gridwidth": 2,
            "linecolor": "white",
            "showbackground": true,
            "ticks": "",
            "zerolinecolor": "white"
           }
          },
          "shapedefaults": {
           "line": {
            "color": "#2a3f5f"
           }
          },
          "ternary": {
           "aaxis": {
            "gridcolor": "white",
            "linecolor": "white",
            "ticks": ""
           },
           "baxis": {
            "gridcolor": "white",
            "linecolor": "white",
            "ticks": ""
           },
           "bgcolor": "#E5ECF6",
           "caxis": {
            "gridcolor": "white",
            "linecolor": "white",
            "ticks": ""
           }
          },
          "title": {
           "x": 0.05
          },
          "xaxis": {
           "automargin": true,
           "gridcolor": "white",
           "linecolor": "white",
           "ticks": "",
           "title": {
            "standoff": 15
           },
           "zerolinecolor": "white",
           "zerolinewidth": 2
          },
          "yaxis": {
           "automargin": true,
           "gridcolor": "white",
           "linecolor": "white",
           "ticks": "",
           "title": {
            "standoff": 15
           },
           "zerolinecolor": "white",
           "zerolinewidth": 2
          }
         }
        },
        "title": {
         "font": {
          "color": "#D9D9D9"
         }
        },
        "xaxis": {
         "autorange": true,
         "gridcolor": "#434343",
         "range": [
          -0.5,
          7.5
         ],
         "showgrid": true,
         "tickfont": {
          "color": "#C2C2C2"
         },
         "title": {
          "font": {
           "color": "#D9D9D9"
          },
          "text": ""
         },
         "type": "category",
         "zerolinecolor": "#666570"
        },
        "yaxis": {
         "autorange": true,
         "gridcolor": "#434343",
         "range": [
          -0.5,
          7.5
         ],
         "showgrid": true,
         "tickfont": {
          "color": "#C2C2C2"
         },
         "title": {
          "font": {
           "color": "#D9D9D9"
          },
          "text": ""
         },
         "type": "category",
         "zerolinecolor": "#666570"
        }
       }
      },
      "image/png": "[encoded data removed]",
      "text/html": [
       "<div>                            <div id=\"b1786108-1118-4d66-a703-a671d11e9164\" class=\"plotly-graph-div\" style=\"height:525px; width:100%;\"></div>            <script type=\"text/javascript\">                require([\"plotly\"], function(Plotly) {                    window.PLOTLYENV=window.PLOTLYENV || {};\n",
       "                    window.PLOTLYENV.BASE_URL='https://plot.ly';                                    if (document.getElementById(\"b1786108-1118-4d66-a703-a671d11e9164\")) {                    Plotly.newPlot(                        \"b1786108-1118-4d66-a703-a671d11e9164\",                        [{\"colorscale\": [[0.0, \"rgb(255, 153, 51)\"], [0.1111111111111111, \"rgb(55, 128, 191)\"], [0.2222222222222222, \"rgb(50, 171, 96)\"], [0.3333333333333333, \"rgb(128, 0, 128)\"], [0.4444444444444444, \"rgb(219, 64, 82)\"], [0.5555555555555556, \"rgb(0, 128, 128)\"], [0.6666666666666666, \"rgb(255, 255, 51)\"], [0.7777777777777778, \"rgb(128, 128, 0)\"], [0.8888888888888888, \"rgb(251, 128, 114)\"], [1.0, \"rgb(128, 177, 211)\"]], \"type\": \"heatmap\", \"x\": [\"Australia\", \"Population\", \"TotalEmployed\", \"TotalEmployed_M\", \"TotalEmployed_F\", \"TotalUnemployed\", \"TotalUnemployed_M\", \"TotalUnemployed_F\"], \"y\": [\"Australia\", \"Population\", \"TotalEmployed\", \"TotalEmployed_M\", \"TotalEmployed_F\", \"TotalUnemployed\", \"TotalUnemployed_M\", \"TotalUnemployed_F\"], \"z\": [[1.0, -0.691931445784184, -0.656788144120433, -0.6399404900916744, -0.6704889484788851, -0.49137298207769065, -0.3255956952721895, -0.6495772804298379], [-0.691931445784184, 1.0, 0.988474905001161, 0.9839344247686658, 0.9910379605681601, 0.3635510065819633, 0.11498165604857465, 0.6479745212486764], [-0.656788144120433, 0.988474905001161, 1.0, 0.9991400682168589, 0.999352667643689, 0.22886436766517523, -0.022022161292080285, 0.5333038309137238], [-0.6399404900916744, 0.9839344247686658, 0.9991400682168589, 1.0, 0.9970016623406531, 0.20776707898155936, -0.04383148830247284, 0.5158127229482904], [-0.6704889484788851, 0.9910379605681601, 0.999352667643689, 0.9970016623406531, 1.0, 0.24685724293229366, -0.0030607468498668514, 0.54774123056749], [-0.49137298207769065, 0.3635510065819633, 0.22886436766517523, 0.20776707898155936, 0.24685724293229366, 1.0, 0.9597101965635891, 0.9277329515871195], [-0.3255956952721895, 0.11498165604857465, -0.022022161292080285, -0.04383148830247284, -0.0030607468498668514, 0.9597101965635891, 1.0, 0.7854764793427229], [-0.6495772804298379, 0.6479745212486764, 0.5333038309137238, 0.5158127229482904, 0.54774123056749, 0.9277329515871195, 0.7854764793427229, 1.0]], \"zmax\": 1.0, \"zmin\": -0.691931445784184}],                        {\"legend\": {\"bgcolor\": \"#151516\", \"font\": {\"color\": \"#D9D9D9\"}}, \"paper_bgcolor\": \"#151516\", \"plot_bgcolor\": \"#151516\", \"template\": {\"data\": {\"bar\": [{\"error_x\": {\"color\": \"#2a3f5f\"}, \"error_y\": {\"color\": \"#2a3f5f\"}, \"marker\": {\"line\": {\"color\": \"#E5ECF6\", \"width\": 0.5}}, \"type\": \"bar\"}], \"barpolar\": [{\"marker\": {\"line\": {\"color\": \"#E5ECF6\", \"width\": 0.5}}, \"type\": \"barpolar\"}], \"carpet\": [{\"aaxis\": {\"endlinecolor\": \"#2a3f5f\", \"gridcolor\": \"white\", \"linecolor\": \"white\", \"minorgridcolor\": \"white\", \"startlinecolor\": \"#2a3f5f\"}, \"baxis\": {\"endlinecolor\": \"#2a3f5f\", \"gridcolor\": \"white\", \"linecolor\": \"white\", \"minorgridcolor\": \"white\", \"startlinecolor\": \"#2a3f5f\"}, \"type\": \"carpet\"}], \"choropleth\": [{\"colorbar\": {\"outlinewidth\": 0, \"ticks\": \"\"}, \"type\": \"choropleth\"}], \"contour\": [{\"colorbar\": {\"outlinewidth\": 0, \"ticks\": \"\"}, \"colorscale\": [[0.0, \"#0d0887\"], [0.1111111111111111, \"#46039f\"], [0.2222222222222222, \"#7201a8\"], [0.3333333333333333, \"#9c179e\"], [0.4444444444444444, \"#bd3786\"], [0.5555555555555556, \"#d8576b\"], [0.6666666666666666, \"#ed7953\"], [0.7777777777777778, \"#fb9f3a\"], [0.8888888888888888, \"#fdca26\"], [1.0, \"#f0f921\"]], \"type\": \"contour\"}], \"contourcarpet\": [{\"colorbar\": {\"outlinewidth\": 0, \"ticks\": \"\"}, \"type\": \"contourcarpet\"}], \"heatmap\": [{\"colorbar\": {\"outlinewidth\": 0, \"ticks\": \"\"}, \"colorscale\": [[0.0, \"#0d0887\"], [0.1111111111111111, \"#46039f\"], [0.2222222222222222, \"#7201a8\"], [0.3333333333333333, \"#9c179e\"], [0.4444444444444444, \"#bd3786\"], [0.5555555555555556, \"#d8576b\"], [0.6666666666666666, \"#ed7953\"], [0.7777777777777778, \"#fb9f3a\"], [0.8888888888888888, \"#fdca26\"], [1.0, \"#f0f921\"]], \"type\": \"heatmap\"}], \"heatmapgl\": [{\"colorbar\": {\"outlinewidth\": 0, \"ticks\": \"\"}, \"colorscale\": [[0.0, \"#0d0887\"], [0.1111111111111111, \"#46039f\"], [0.2222222222222222, \"#7201a8\"], [0.3333333333333333, \"#9c179e\"], [0.4444444444444444, \"#bd3786\"], [0.5555555555555556, \"#d8576b\"], [0.6666666666666666, \"#ed7953\"], [0.7777777777777778, \"#fb9f3a\"], [0.8888888888888888, \"#fdca26\"], [1.0, \"#f0f921\"]], \"type\": \"heatmapgl\"}], \"histogram\": [{\"marker\": {\"colorbar\": {\"outlinewidth\": 0, \"ticks\": \"\"}}, \"type\": \"histogram\"}], \"histogram2d\": [{\"colorbar\": {\"outlinewidth\": 0, \"ticks\": \"\"}, \"colorscale\": [[0.0, \"#0d0887\"], [0.1111111111111111, \"#46039f\"], [0.2222222222222222, \"#7201a8\"], [0.3333333333333333, \"#9c179e\"], [0.4444444444444444, \"#bd3786\"], [0.5555555555555556, \"#d8576b\"], [0.6666666666666666, \"#ed7953\"], [0.7777777777777778, \"#fb9f3a\"], [0.8888888888888888, \"#fdca26\"], [1.0, \"#f0f921\"]], \"type\": \"histogram2d\"}], \"histogram2dcontour\": [{\"colorbar\": {\"outlinewidth\": 0, \"ticks\": \"\"}, \"colorscale\": [[0.0, \"#0d0887\"], [0.1111111111111111, \"#46039f\"], [0.2222222222222222, \"#7201a8\"], [0.3333333333333333, \"#9c179e\"], [0.4444444444444444, \"#bd3786\"], [0.5555555555555556, \"#d8576b\"], [0.6666666666666666, \"#ed7953\"], [0.7777777777777778, \"#fb9f3a\"], [0.8888888888888888, \"#fdca26\"], [1.0, \"#f0f921\"]], \"type\": \"histogram2dcontour\"}], \"mesh3d\": [{\"colorbar\": {\"outlinewidth\": 0, \"ticks\": \"\"}, \"type\": \"mesh3d\"}], \"parcoords\": [{\"line\": {\"colorbar\": {\"outlinewidth\": 0, \"ticks\": \"\"}}, \"type\": \"parcoords\"}], \"pie\": [{\"automargin\": true, \"type\": \"pie\"}], \"scatter\": [{\"marker\": {\"colorbar\": {\"outlinewidth\": 0, \"ticks\": \"\"}}, \"type\": \"scatter\"}], \"scatter3d\": [{\"line\": {\"colorbar\": {\"outlinewidth\": 0, \"ticks\": \"\"}}, \"marker\": {\"colorbar\": {\"outlinewidth\": 0, \"ticks\": \"\"}}, \"type\": \"scatter3d\"}], \"scattercarpet\": [{\"marker\": {\"colorbar\": {\"outlinewidth\": 0, \"ticks\": \"\"}}, \"type\": \"scattercarpet\"}], \"scattergeo\": [{\"marker\": {\"colorbar\": {\"outlinewidth\": 0, \"ticks\": \"\"}}, \"type\": \"scattergeo\"}], \"scattergl\": [{\"marker\": {\"colorbar\": {\"outlinewidth\": 0, \"ticks\": \"\"}}, \"type\": \"scattergl\"}], \"scattermapbox\": [{\"marker\": {\"colorbar\": {\"outlinewidth\": 0, \"ticks\": \"\"}}, \"type\": \"scattermapbox\"}], \"scatterpolar\": [{\"marker\": {\"colorbar\": {\"outlinewidth\": 0, \"ticks\": \"\"}}, \"type\": \"scatterpolar\"}], \"scatterpolargl\": [{\"marker\": {\"colorbar\": {\"outlinewidth\": 0, \"ticks\": \"\"}}, \"type\": \"scatterpolargl\"}], \"scatterternary\": [{\"marker\": {\"colorbar\": {\"outlinewidth\": 0, \"ticks\": \"\"}}, \"type\": \"scatterternary\"}], \"surface\": [{\"colorbar\": {\"outlinewidth\": 0, \"ticks\": \"\"}, \"colorscale\": [[0.0, \"#0d0887\"], [0.1111111111111111, \"#46039f\"], [0.2222222222222222, \"#7201a8\"], [0.3333333333333333, \"#9c179e\"], [0.4444444444444444, \"#bd3786\"], [0.5555555555555556, \"#d8576b\"], [0.6666666666666666, \"#ed7953\"], [0.7777777777777778, \"#fb9f3a\"], [0.8888888888888888, \"#fdca26\"], [1.0, \"#f0f921\"]], \"type\": \"surface\"}], \"table\": [{\"cells\": {\"fill\": {\"color\": \"#EBF0F8\"}, \"line\": {\"color\": \"white\"}}, \"header\": {\"fill\": {\"color\": \"#C8D4E3\"}, \"line\": {\"color\": \"white\"}}, \"type\": \"table\"}]}, \"layout\": {\"annotationdefaults\": {\"arrowcolor\": \"#2a3f5f\", \"arrowhead\": 0, \"arrowwidth\": 1}, \"autotypenumbers\": \"strict\", \"coloraxis\": {\"colorbar\": {\"outlinewidth\": 0, \"ticks\": \"\"}}, \"colorscale\": {\"diverging\": [[0, \"#8e0152\"], [0.1, \"#c51b7d\"], [0.2, \"#de77ae\"], [0.3, \"#f1b6da\"], [0.4, \"#fde0ef\"], [0.5, \"#f7f7f7\"], [0.6, \"#e6f5d0\"], [0.7, \"#b8e186\"], [0.8, \"#7fbc41\"], [0.9, \"#4d9221\"], [1, \"#276419\"]], \"sequential\": [[0.0, \"#0d0887\"], [0.1111111111111111, \"#46039f\"], [0.2222222222222222, \"#7201a8\"], [0.3333333333333333, \"#9c179e\"], [0.4444444444444444, \"#bd3786\"], [0.5555555555555556, \"#d8576b\"], [0.6666666666666666, \"#ed7953\"], [0.7777777777777778, \"#fb9f3a\"], [0.8888888888888888, \"#fdca26\"], [1.0, \"#f0f921\"]], \"sequentialminus\": [[0.0, \"#0d0887\"], [0.1111111111111111, \"#46039f\"], [0.2222222222222222, \"#7201a8\"], [0.3333333333333333, \"#9c179e\"], [0.4444444444444444, \"#bd3786\"], [0.5555555555555556, \"#d8576b\"], [0.6666666666666666, \"#ed7953\"], [0.7777777777777778, \"#fb9f3a\"], [0.8888888888888888, \"#fdca26\"], [1.0, \"#f0f921\"]]}, \"colorway\": [\"#636efa\", \"#EF553B\", \"#00cc96\", \"#ab63fa\", \"#FFA15A\", \"#19d3f3\", \"#FF6692\", \"#B6E880\", \"#FF97FF\", \"#FECB52\"], \"font\": {\"color\": \"#2a3f5f\"}, \"geo\": {\"bgcolor\": \"white\", \"lakecolor\": \"white\", \"landcolor\": \"#E5ECF6\", \"showlakes\": true, \"showland\": true, \"subunitcolor\": \"white\"}, \"hoverlabel\": {\"align\": \"left\"}, \"hovermode\": \"closest\", \"mapbox\": {\"style\": \"light\"}, \"paper_bgcolor\": \"white\", \"plot_bgcolor\": \"#E5ECF6\", \"polar\": {\"angularaxis\": {\"gridcolor\": \"white\", \"linecolor\": \"white\", \"ticks\": \"\"}, \"bgcolor\": \"#E5ECF6\", \"radialaxis\": {\"gridcolor\": \"white\", \"linecolor\": \"white\", \"ticks\": \"\"}}, \"scene\": {\"xaxis\": {\"backgroundcolor\": \"#E5ECF6\", \"gridcolor\": \"white\", \"gridwidth\": 2, \"linecolor\": \"white\", \"showbackground\": true, \"ticks\": \"\", \"zerolinecolor\": \"white\"}, \"yaxis\": {\"backgroundcolor\": \"#E5ECF6\", \"gridcolor\": \"white\", \"gridwidth\": 2, \"linecolor\": \"white\", \"showbackground\": true, \"ticks\": \"\", \"zerolinecolor\": \"white\"}, \"zaxis\": {\"backgroundcolor\": \"#E5ECF6\", \"gridcolor\": \"white\", \"gridwidth\": 2, \"linecolor\": \"white\", \"showbackground\": true, \"ticks\": \"\", \"zerolinecolor\": \"white\"}}, \"shapedefaults\": {\"line\": {\"color\": \"#2a3f5f\"}}, \"ternary\": {\"aaxis\": {\"gridcolor\": \"white\", \"linecolor\": \"white\", \"ticks\": \"\"}, \"baxis\": {\"gridcolor\": \"white\", \"linecolor\": \"white\", \"ticks\": \"\"}, \"bgcolor\": \"#E5ECF6\", \"caxis\": {\"gridcolor\": \"white\", \"linecolor\": \"white\", \"ticks\": \"\"}}, \"title\": {\"x\": 0.05}, \"xaxis\": {\"automargin\": true, \"gridcolor\": \"white\", \"linecolor\": \"white\", \"ticks\": \"\", \"title\": {\"standoff\": 15}, \"zerolinecolor\": \"white\", \"zerolinewidth\": 2}, \"yaxis\": {\"automargin\": true, \"gridcolor\": \"white\", \"linecolor\": \"white\", \"ticks\": \"\", \"title\": {\"standoff\": 15}, \"zerolinecolor\": \"white\", \"zerolinewidth\": 2}}}, \"title\": {\"font\": {\"color\": \"#D9D9D9\"}}, \"xaxis\": {\"gridcolor\": \"#434343\", \"showgrid\": true, \"tickfont\": {\"color\": \"#C2C2C2\"}, \"title\": {\"font\": {\"color\": \"#D9D9D9\"}, \"text\": \"\"}, \"zerolinecolor\": \"#666570\"}, \"yaxis\": {\"gridcolor\": \"#434343\", \"showgrid\": true, \"tickfont\": {\"color\": \"#C2C2C2\"}, \"title\": {\"font\": {\"color\": \"#D9D9D9\"}, \"text\": \"\"}, \"zerolinecolor\": \"#666570\"}},                        {\"showLink\": true, \"linkText\": \"Export to plot.ly\", \"plotlyServerURL\": \"https://plot.ly\", \"responsive\": true}                    ).then(function(){\n",
       "                            \n",
       "var gd = document.getElementById('b1786108-1118-4d66-a703-a671d11e9164');\n",
       "var x = new MutationObserver(function (mutations, observer) {{\n",
       "        var display = window.getComputedStyle(gd).display;\n",
       "        if (!display || display === 'none') {{\n",
       "            console.log([gd, 'removed!']);\n",
       "            Plotly.purge(gd);\n",
       "            observer.disconnect();\n",
       "        }}\n",
       "}});\n",
       "\n",
       "// Listen for the removal of the full notebook cells\n",
       "var notebookContainer = gd.closest('#notebook-container');\n",
       "if (notebookContainer) {{\n",
       "    x.observe(notebookContainer, {childList: true});\n",
       "}}\n",
       "\n",
       "// Listen for the clearing of the current output cell\n",
       "var outputEl = gd.closest('.output');\n",
       "if (outputEl) {{\n",
       "    x.observe(outputEl, {childList: true});\n",
       "}}\n",
       "\n",
       "                        })                };                });            </script>        </div>"
      ]
     },
     "metadata": {},
     "output_type": "display_data"
    }
   ],
   "source": [
    "corrplot = correlation.iplot(kind='heatmap')\n",
    "corrplot"
   ]
  }
 ],
 "metadata": {
  "kernelspec": {
   "display_name": "Python [conda env:pyvizenv] *",
   "language": "python",
   "name": "conda-env-pyvizenv-py"
  },
  "language_info": {
   "codemirror_mode": {
    "name": "ipython",
    "version": 3
   },
   "file_extension": ".py",
   "mimetype": "text/x-python",
   "name": "python",
   "nbconvert_exporter": "python",
   "pygments_lexer": "ipython3",
   "version": "3.7.10"
  }
 },
 "nbformat": 4,
 "nbformat_minor": 5
}
