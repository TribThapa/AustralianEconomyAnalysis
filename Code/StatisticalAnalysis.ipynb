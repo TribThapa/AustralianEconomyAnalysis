{
 "cells": [
  {
   "cell_type": "code",
   "execution_count": 193,
   "id": "aff9d63c",
   "metadata": {},
   "outputs": [
    {
     "data": {
      "text/html": [
       "        <script type=\"text/javascript\">\n",
       "        window.PlotlyConfig = {MathJaxConfig: 'local'};\n",
       "        if (window.MathJax) {MathJax.Hub.Config({SVG: {font: \"STIX-Web\"}});}\n",
       "        if (typeof require !== 'undefined') {\n",
       "        require.undef(\"plotly\");\n",
       "        requirejs.config({\n",
       "            paths: {\n",
       "                'plotly': ['https://cdn.plot.ly/plotly-latest.min']\n",
       "            }\n",
       "        });\n",
       "        require(['plotly'], function(Plotly) {\n",
       "            window._Plotly = Plotly;\n",
       "        });\n",
       "        }\n",
       "        </script>\n",
       "        "
      ]
     },
     "metadata": {},
     "output_type": "display_data"
    }
   ],
   "source": [
    "import os\n",
    "import numpy as np\n",
    "import panel as pn\n",
    "pn.extension('plotly')\n",
    "import plotly.express as px\n",
    "\n",
    "import matplotlib.pyplot as plt \n",
    "import seaborn as sns\n",
    "import pandas as pd\n",
    "import holoviews as hv\n",
    "import hvplot.pandas\n",
    "\n",
    "import cufflinks as cf\n",
    "cf.set_config_file(theme='solar',sharing='public',offline=True)\n",
    "%matplotlib inline "
   ]
  },
  {
   "cell_type": "markdown",
   "id": "2fc78753",
   "metadata": {},
   "source": [
    "### Read in all csv files for analysis"
   ]
  },
  {
   "cell_type": "code",
   "execution_count": 246,
   "id": "a98a467c",
   "metadata": {},
   "outputs": [],
   "source": [
    "#Load csv files\n",
    "gdp = pd.read_csv(\"../Data/ProcessedData/GDP_selected_countries_cleaned.csv\")\n",
    "gdp_bar = pd.read_csv(\"../Data/ProcessedData/GDP_selected_countries_cleaned.csv\")\n",
    "cash_rate = pd.read_csv(\"../Data/ProcessedData/cashrate_cleaned.csv\")\n",
    "population = pd.read_csv(\"../Data/ProcessedData/Population_June_Cleaned.csv\")\n",
    "employment = pd.read_csv(\"../Data/ProcessedData/employment_cleaned.csv\")\n",
    "economy = pd.read_csv(\"../Data/ProcessedData/Economy_June_Cleaned.csv\")\n",
    "household_income = pd.read_csv(\"../Data/ProcessedData/Household_Income_cleaned.csv\")"
   ]
  },
  {
   "cell_type": "markdown",
   "id": "86eaebe1",
   "metadata": {},
   "source": [
    "### What does the Australian GDP look like? Is AUS GDP similar for the same time-period (1995 - 2020) across countries in similar economic arenas?"
   ]
  },
  {
   "cell_type": "code",
   "execution_count": 197,
   "id": "bebd8872",
   "metadata": {},
   "outputs": [],
   "source": [
    "# Rename Year column\n",
    "gdp_new = gdp.rename(columns={\"Unnamed: 0\": \"Year\"})\n",
    "gdp_bar_new = gdp.rename(columns={\"Unnamed: 0\": \"Year\"})\n",
    "\n",
    "# Set index for 1st df and convert Year to object for 2nd df\n",
    "gdp_new.set_index(\"Year\", inplace=True)\n",
    "gdp_bar_new[\"Year\"] = gdp_bar_new.Year.astype(str)\n",
    "#gdp_drop_unnamed = gdp_new.loc[:, ~gdp_new.columns.str.contains('^Unnamed')]"
   ]
  },
  {
   "cell_type": "code",
   "execution_count": 198,
   "id": "8e94c0b6",
   "metadata": {},
   "outputs": [
    {
     "data": {},
     "metadata": {},
     "output_type": "display_data"
    },
    {
     "data": {
      "application/vnd.holoviews_exec.v0+json": "",
      "text/html": [
       "<div id='14236'>\n",
       "\n",
       "\n",
       "\n",
       "\n",
       "\n",
       "  <div class=\"bk-root\" id=\"862d07f5-ec9f-4b66-99fd-d67866085234\" data-root-id=\"14236\"></div>\n",
       "</div>\n",
       "<script type=\"application/javascript\">(function(root) {\n",
       "  function embed_document(root) {\n",
       "    var docs_json = {\"4be8b8da-321c-4ca0-bb47-7e189ef4a1bd\":{\"defs\":[],\"roots\":{\"references\":[{\"attributes\":{\"children\":[{\"id\":\"14237\"},{\"id\":\"14241\"},{\"id\":\"14312\"},{\"id\":\"14313\"}],\"margin\":[0,0,0,0],\"name\":\"Row61744\"},\"id\":\"14236\",\"type\":\"Row\"},{\"attributes\":{\"data\":{\"Variable\":[\"Australia\",\"Canada\",\"China\",\"European Union\",\"United Kingdom\",\"India\",\"Korea, Rep.\",\"United States\"],\"index\":[\"0\",\"0\",\"0\",\"0\",\"0\",\"0\",\"0\",\"0\"],\"value\":{\"__ndarray__\":\"H+MLDLmzDkBtjmRwQ40FQMJaCLRs6CVAa156oLpiBUDFbGk43EAEQLh5wpZHTB5AdGCwUKg6I0Ac1GyIa3kFQA==\",\"dtype\":\"float64\",\"order\":\"little\",\"shape\":[8]},\"xoffsets\":[[\"0\",\"Australia\"],[\"0\",\"Canada\"],[\"0\",\"China\"],[\"0\",\"European Union\"],[\"0\",\"United Kingdom\"],[\"0\",\"India\"],[\"0\",\"Korea, Rep.\"],[\"0\",\"United States\"]]},\"selected\":{\"id\":\"14272\"},\"selection_policy\":{\"id\":\"14300\"}},\"id\":\"14271\",\"type\":\"ColumnDataSource\"},{\"attributes\":{},\"id\":\"14280\",\"type\":\"CategoricalTickFormatter\"},{\"attributes\":{},\"id\":\"14300\",\"type\":\"UnionRenderers\"},{\"attributes\":{\"margin\":[5,5,5,5],\"name\":\"HSpacer61753\",\"sizing_mode\":\"stretch_width\"},\"id\":\"14237\",\"type\":\"Spacer\"},{\"attributes\":{\"factors\":[[\"0\",\"United States\"],[\"0\",\"Korea, Rep.\"],[\"0\",\"India\"],[\"0\",\"United Kingdom\"],[\"0\",\"European Union\"],[\"0\",\"China\"],[\"0\",\"Canada\"],[\"0\",\"Australia\"]],\"tags\":[[[\"index\",\"index\",null],[\"Variable\",\"Variable\",null]]]},\"id\":\"14238\",\"type\":\"FactorRange\"},{\"attributes\":{\"fill_alpha\":{\"value\":0.2},\"fill_color\":{\"field\":\"Variable\",\"transform\":{\"id\":\"14270\"}},\"line_alpha\":{\"value\":0.2},\"top\":{\"field\":\"value\"},\"width\":{\"value\":0.8},\"x\":{\"field\":\"xoffsets\"}},\"id\":\"14276\",\"type\":\"VBar\"},{\"attributes\":{\"children\":[{\"id\":\"14314\"},{\"id\":\"14315\"},{\"id\":\"14317\"}],\"margin\":[0,0,0,0],\"name\":\"Column61752\"},\"id\":\"14313\",\"type\":\"Column\"},{\"attributes\":{\"margin\":[5,5,5,5],\"name\":\"VSpacer61751\",\"sizing_mode\":\"stretch_height\"},\"id\":\"14317\",\"type\":\"Spacer\"},{\"attributes\":{},\"id\":\"14251\",\"type\":\"CategoricalTicker\"},{\"attributes\":{\"margin\":[20,20,20,20],\"min_width\":250,\"options\":[\"1995\",\"1996\",\"1997\",\"1998\",\"1999\",\"2000\",\"2001\",\"2002\",\"2003\",\"2004\",\"2005\",\"2006\",\"2007\",\"2008\",\"2009\",\"2010\",\"2011\",\"2012\",\"2013\",\"2014\",\"2015\",\"2016\",\"2017\",\"2018\",\"2019\",\"2020\"],\"title\":\"Year\",\"value\":\"1995\",\"width\":250},\"id\":\"14316\",\"type\":\"Select\"},{\"attributes\":{},\"id\":\"14259\",\"type\":\"WheelZoomTool\"},{\"attributes\":{\"overlay\":{\"id\":\"14262\"}},\"id\":\"14260\",\"type\":\"BoxZoomTool\"},{\"attributes\":{},\"id\":\"14281\",\"type\":\"AllLabels\"},{\"attributes\":{\"fill_alpha\":{\"value\":0.1},\"fill_color\":{\"field\":\"Variable\",\"transform\":{\"id\":\"14270\"}},\"line_alpha\":{\"value\":0.1},\"top\":{\"field\":\"value\"},\"width\":{\"value\":0.8},\"x\":{\"field\":\"xoffsets\"}},\"id\":\"14275\",\"type\":\"VBar\"},{\"attributes\":{\"bottom_units\":\"screen\",\"fill_alpha\":0.5,\"fill_color\":\"lightgrey\",\"left_units\":\"screen\",\"level\":\"overlay\",\"line_alpha\":1.0,\"line_color\":\"black\",\"line_dash\":[4,4],\"line_width\":2,\"right_units\":\"screen\",\"syncable\":false,\"top_units\":\"screen\"},\"id\":\"14262\",\"type\":\"BoxAnnotation\"},{\"attributes\":{\"bottom\":{\"value\":0},\"fill_alpha\":{\"value\":1.0},\"fill_color\":{\"field\":\"Variable\",\"transform\":{\"id\":\"14270\"}},\"hatch_alpha\":{\"value\":1.0},\"hatch_color\":{\"value\":\"black\"},\"hatch_scale\":{\"value\":12.0},\"hatch_weight\":{\"value\":1.0},\"line_alpha\":{\"value\":1.0},\"line_cap\":{\"value\":\"butt\"},\"line_color\":{\"value\":\"black\"},\"line_dash\":{\"value\":[]},\"line_dash_offset\":{\"value\":0},\"line_join\":{\"value\":\"bevel\"},\"line_width\":{\"value\":1},\"top\":{\"field\":\"value\"},\"width\":{\"value\":0.8},\"x\":{\"field\":\"xoffsets\"}},\"id\":\"14279\",\"type\":\"VBar\"},{\"attributes\":{\"factors\":[\"Australia\",\"Canada\",\"China\",\"European Union\",\"United Kingdom\",\"India\",\"Korea, Rep.\",\"United States\"],\"palette\":[\"#30a2da\",\"#fc4f30\",\"#e5ae38\",\"#6d904f\",\"#8b8b8b\",\"#17becf\",\"#9467bd\",\"#d62728\"]},\"id\":\"14270\",\"type\":\"CategoricalColorMapper\"},{\"attributes\":{\"text\":\"Year: 1995\",\"text_color\":\"black\",\"text_font_size\":\"12pt\"},\"id\":\"14242\",\"type\":\"Title\"},{\"attributes\":{\"axis_label\":\"\",\"formatter\":{\"id\":\"14284\"},\"major_label_policy\":{\"id\":\"14285\"},\"ticker\":{\"id\":\"14254\"}},\"id\":\"14253\",\"type\":\"LinearAxis\"},{\"attributes\":{},\"id\":\"14257\",\"type\":\"SaveTool\"},{\"attributes\":{},\"id\":\"14285\",\"type\":\"AllLabels\"},{\"attributes\":{\"margin\":[5,5,5,5],\"name\":\"HSpacer61754\",\"sizing_mode\":\"stretch_width\"},\"id\":\"14312\",\"type\":\"Spacer\"},{\"attributes\":{\"end\":11.7961827703,\"reset_end\":11.7961827703,\"reset_start\":0.0,\"tags\":[[[\"value\",\"value\",null]]]},\"id\":\"14239\",\"type\":\"Range1d\"},{\"attributes\":{\"axis\":{\"id\":\"14250\"},\"grid_line_color\":null,\"ticker\":null},\"id\":\"14252\",\"type\":\"Grid\"},{\"attributes\":{\"below\":[{\"id\":\"14250\"}],\"center\":[{\"id\":\"14252\"},{\"id\":\"14256\"}],\"height\":300,\"left\":[{\"id\":\"14253\"}],\"margin\":[5,5,5,5],\"min_border_bottom\":10,\"min_border_left\":10,\"min_border_right\":10,\"min_border_top\":10,\"renderers\":[{\"id\":\"14277\"}],\"sizing_mode\":\"fixed\",\"title\":{\"id\":\"14242\"},\"toolbar\":{\"id\":\"14263\"},\"width\":700,\"x_range\":{\"id\":\"14238\"},\"x_scale\":{\"id\":\"14246\"},\"y_range\":{\"id\":\"14239\"},\"y_scale\":{\"id\":\"14248\"}},\"id\":\"14241\",\"subtype\":\"Figure\",\"type\":\"Plot\"},{\"attributes\":{\"margin\":[5,5,5,5],\"name\":\"VSpacer61750\",\"sizing_mode\":\"stretch_height\"},\"id\":\"14314\",\"type\":\"Spacer\"},{\"attributes\":{},\"id\":\"14254\",\"type\":\"BasicTicker\"},{\"attributes\":{},\"id\":\"14272\",\"type\":\"Selection\"},{\"attributes\":{\"source\":{\"id\":\"14271\"}},\"id\":\"14278\",\"type\":\"CDSView\"},{\"attributes\":{\"axis\":{\"id\":\"14253\"},\"dimension\":1,\"grid_line_color\":null,\"ticker\":null},\"id\":\"14256\",\"type\":\"Grid\"},{\"attributes\":{},\"id\":\"14248\",\"type\":\"LinearScale\"},{\"attributes\":{\"fill_color\":{\"field\":\"Variable\",\"transform\":{\"id\":\"14270\"}},\"top\":{\"field\":\"value\"},\"width\":{\"value\":0.8},\"x\":{\"field\":\"xoffsets\"}},\"id\":\"14274\",\"type\":\"VBar\"},{\"attributes\":{\"axis_label\":\"\",\"formatter\":{\"id\":\"14280\"},\"major_label_policy\":{\"id\":\"14281\"},\"ticker\":{\"id\":\"14251\"}},\"id\":\"14250\",\"type\":\"CategoricalAxis\"},{\"attributes\":{},\"id\":\"14261\",\"type\":\"ResetTool\"},{\"attributes\":{},\"id\":\"14258\",\"type\":\"PanTool\"},{\"attributes\":{\"client_comm_id\":\"8fa0a2681c6e4431864727943060b738\",\"comm_id\":\"e819dd1068234ba096c46b901b9d2107\",\"plot_id\":\"14236\"},\"id\":\"14348\",\"type\":\"panel.models.comm_manager.CommManager\"},{\"attributes\":{},\"id\":\"14284\",\"type\":\"BasicTickFormatter\"},{\"attributes\":{\"data_source\":{\"id\":\"14271\"},\"glyph\":{\"id\":\"14274\"},\"hover_glyph\":null,\"muted_glyph\":{\"id\":\"14276\"},\"nonselection_glyph\":{\"id\":\"14275\"},\"selection_glyph\":{\"id\":\"14279\"},\"view\":{\"id\":\"14278\"}},\"id\":\"14277\",\"type\":\"GlyphRenderer\"},{\"attributes\":{\"active_multi\":null,\"tools\":[{\"id\":\"14240\"},{\"id\":\"14257\"},{\"id\":\"14258\"},{\"id\":\"14259\"},{\"id\":\"14260\"},{\"id\":\"14261\"}]},\"id\":\"14263\",\"type\":\"Toolbar\"},{\"attributes\":{},\"id\":\"14246\",\"type\":\"CategoricalScale\"},{\"attributes\":{\"callback\":null,\"renderers\":[{\"id\":\"14277\"}],\"tags\":[\"hv_created\"],\"tooltips\":[[\"index\",\"@{index}\"],[\"Variable\",\"@{Variable}\"],[\"value\",\"@{value}\"]]},\"id\":\"14240\",\"type\":\"HoverTool\"},{\"attributes\":{\"children\":[{\"id\":\"14316\"}],\"css_classes\":[\"panel-widget-box\"],\"margin\":[5,5,5,5],\"name\":\"WidgetBox61745\"},\"id\":\"14315\",\"type\":\"Column\"}],\"root_ids\":[\"14236\",\"14348\"]},\"title\":\"Bokeh Application\",\"version\":\"2.3.2\"}};\n",
       "    var render_items = [{\"docid\":\"4be8b8da-321c-4ca0-bb47-7e189ef4a1bd\",\"root_ids\":[\"14236\"],\"roots\":{\"14236\":\"862d07f5-ec9f-4b66-99fd-d67866085234\"}}];\n",
       "    root.Bokeh.embed.embed_items_notebook(docs_json, render_items);\n",
       "  }\n",
       "  if (root.Bokeh !== undefined && root.Bokeh.Panel !== undefined && root['Plotly'] !== undefined ) {\n",
       "    embed_document(root);\n",
       "  } else {\n",
       "    var attempts = 0;\n",
       "    var timer = setInterval(function(root) {\n",
       "      if (root.Bokeh !== undefined && root.Bokeh.Panel !== undefined && root['Plotly'] !== undefined) {\n",
       "        clearInterval(timer);\n",
       "        embed_document(root);\n",
       "      } else if (document.readyState == \"complete\") {\n",
       "        attempts++;\n",
       "        if (attempts > 100) {\n",
       "          clearInterval(timer);\n",
       "          console.log(\"Bokeh: ERROR: Unable to run BokehJS code because BokehJS library is missing\");\n",
       "        }\n",
       "      }\n",
       "    }, 10, root)\n",
       "  }\n",
       "})(window);</script>"
      ],
      "text/plain": [
       ":DynamicMap   [Year]\n",
       "   :Bars   [index,Variable]   (value)"
      ]
     },
     "execution_count": 198,
     "metadata": {
      "application/vnd.holoviews_exec.v0+json": {
       "id": "14236"
      }
     },
     "output_type": "execute_result"
    }
   ],
   "source": [
    "#Create bar chart\n",
    "gdp_hvplot_bar = gdp_bar_new.hvplot.bar(groupby=\"Year\")\n",
    "gdp_hvplot_bar"
   ]
  },
  {
   "cell_type": "code",
   "execution_count": 199,
   "id": "a271c6b4",
   "metadata": {},
   "outputs": [
    {
     "data": {},
     "metadata": {},
     "output_type": "display_data"
    },
    {
     "data": {
      "application/vnd.holoviews_exec.v0+json": "",
      "text/html": [
       "<div id='14399'>\n",
       "\n",
       "\n",
       "\n",
       "\n",
       "\n",
       "  <div class=\"bk-root\" id=\"56c67e9e-4f98-40b6-a34a-c690e456f1b0\" data-root-id=\"14399\"></div>\n",
       "</div>\n",
       "<script type=\"application/javascript\">(function(root) {\n",
       "  function embed_document(root) {\n",
       "    var docs_json = {\"5308f84a-0127-4e50-9fb1-bac39cfad6f3\":{\"defs\":[],\"roots\":{\"references\":[{\"attributes\":{\"axis_label\":\"\",\"formatter\":{\"id\":\"14445\"},\"major_label_policy\":{\"id\":\"14446\"},\"ticker\":{\"id\":\"14425\"}},\"id\":\"14424\",\"type\":\"LinearAxis\"},{\"attributes\":{\"line_alpha\":0.2,\"line_color\":\"#9467bd\",\"line_width\":2,\"x\":{\"field\":\"Year\"},\"y\":{\"field\":\"value\"}},\"id\":\"14603\",\"type\":\"Line\"},{\"attributes\":{\"line_alpha\":0.2,\"line_color\":\"#17becf\",\"line_width\":2,\"x\":{\"field\":\"Year\"},\"y\":{\"field\":\"value\"}},\"id\":\"14573\",\"type\":\"Line\"},{\"attributes\":{},\"id\":\"14428\",\"type\":\"SaveTool\"},{\"attributes\":{\"line_alpha\":0.1,\"line_color\":\"#9467bd\",\"line_width\":2,\"x\":{\"field\":\"Year\"},\"y\":{\"field\":\"value\"}},\"id\":\"14602\",\"type\":\"Line\"},{\"attributes\":{\"line_alpha\":0.1,\"line_color\":\"#e5ae38\",\"line_width\":2,\"x\":{\"field\":\"Year\"},\"y\":{\"field\":\"value\"}},\"id\":\"14494\",\"type\":\"Line\"},{\"attributes\":{\"below\":[{\"id\":\"14420\"}],\"center\":[{\"id\":\"14423\"},{\"id\":\"14427\"}],\"height\":300,\"left\":[{\"id\":\"14424\"}],\"margin\":[5,5,5,5],\"min_border_bottom\":10,\"min_border_left\":10,\"min_border_right\":10,\"min_border_top\":10,\"renderers\":[{\"id\":\"14453\"},{\"id\":\"14474\"},{\"id\":\"14496\"},{\"id\":\"14520\"},{\"id\":\"14546\"},{\"id\":\"14574\"},{\"id\":\"14604\"},{\"id\":\"14636\"}],\"right\":[{\"id\":\"14465\"}],\"sizing_mode\":\"fixed\",\"title\":{\"id\":\"14412\"},\"toolbar\":{\"id\":\"14434\"},\"width\":700,\"x_range\":{\"id\":\"14401\"},\"x_scale\":{\"id\":\"14416\"},\"y_range\":{\"id\":\"14402\"},\"y_scale\":{\"id\":\"14418\"}},\"id\":\"14411\",\"subtype\":\"Figure\",\"type\":\"Plot\"},{\"attributes\":{\"line_color\":\"#9467bd\",\"line_width\":2,\"x\":{\"field\":\"Year\"},\"y\":{\"field\":\"value\"}},\"id\":\"14629\",\"type\":\"Line\"},{\"attributes\":{},\"id\":\"14446\",\"type\":\"AllLabels\"},{\"attributes\":{\"overlay\":{\"id\":\"14433\"}},\"id\":\"14431\",\"type\":\"BoxZoomTool\"},{\"attributes\":{\"data\":{\"Variable\":[\"United States\",\"United States\",\"United States\",\"United States\",\"United States\",\"United States\",\"United States\",\"United States\",\"United States\",\"United States\",\"United States\",\"United States\",\"United States\",\"United States\",\"United States\",\"United States\",\"United States\",\"United States\",\"United States\",\"United States\",\"United States\",\"United States\",\"United States\",\"United States\",\"United States\",\"United States\"],\"Year\":[1995,1996,1997,1998,1999,2000,2001,2002,2003,2004,2005,2006,2007,2008,2009,2010,2011,2012,2013,2014,2015,2016,2017,2018,2019,2020],\"value\":{\"__ndarray__\":\"HNRsiGt5BUB4IgwsFS4OQLMlihTzyRFAxLoAGvbsEUCED65LUAMTQBgIKCuLghBAN2bIZ2jy7z9WisTU+937P5CfJXnC4wZAN8xyByFkDkB7aK3VDxsMQPEqV7f71gZAqZ4OXMwE/j/7rrxvcnvBv9BfbEpHSwTAfU41C5iCBECofbLjOND4Pw8uJ+UR/wFA5bADACp5/T+rg3KRMTUEQG1iKPegQwdAPCMPGZY0+j9zhQodWvUCQCBv3cApawdAMM4uyxZKAUBhyNgineMLwA==\",\"dtype\":\"float64\",\"order\":\"little\",\"shape\":[26]}},\"selected\":{\"id\":\"14631\"},\"selection_policy\":{\"id\":\"14660\"}},\"id\":\"14630\",\"type\":\"ColumnDataSource\"},{\"attributes\":{},\"id\":\"14541\",\"type\":\"Selection\"},{\"attributes\":{\"data\":{\"Variable\":[\"China\",\"China\",\"China\",\"China\",\"China\",\"China\",\"China\",\"China\",\"China\",\"China\",\"China\",\"China\",\"China\",\"China\",\"China\",\"China\",\"China\",\"China\",\"China\",\"China\",\"China\",\"China\",\"China\",\"China\",\"China\",\"China\"],\"Year\":[1995,1996,1997,1998,1999,2000,2001,2002,2003,2004,2005,2006,2007,2008,2009,2010,2011,2012,2013,2014,2015,2016,2017,2018,2019,2020],\"value\":{\"__ndarray__\":\"wloItGzoJUCLrdVbWdgjQBj7yDY7eSJAjKFsL0FiH0C6ZYf4h6UeQLCC3YXt+iBAW10oQuWrIEDJk0FBa0QiQM6zJ7t4EyRA6XPelCw6JEBbcA7wB8omQBMIARohcSlAXYxgZzN2LEBwmorJJU0jQLGfI8QlzCJAgFg+5JBFJUBix+SsBhojQM9F41N3dB9A4/K6pokQH0CvYUlj+7MdQMq9Hh5SKhxAMDli6yFlG0CXuDIB78kbQLmGMLbE/xpAdh9N44HMF0Ad12VmZmYCQA==\",\"dtype\":\"float64\",\"order\":\"little\",\"shape\":[26]}},\"selected\":{\"id\":\"14491\"},\"selection_policy\":{\"id\":\"14510\"}},\"id\":\"14490\",\"type\":\"ColumnDataSource\"},{\"attributes\":{\"line_alpha\":0.1,\"line_color\":\"#17becf\",\"line_width\":2,\"x\":{\"field\":\"Year\"},\"y\":{\"field\":\"value\"}},\"id\":\"14572\",\"type\":\"Line\"},{\"attributes\":{\"line_alpha\":0.2,\"line_color\":\"#fc4f30\",\"line_width\":2,\"x\":{\"field\":\"Year\"},\"y\":{\"field\":\"value\"}},\"id\":\"14473\",\"type\":\"Line\"},{\"attributes\":{},\"id\":\"14486\",\"type\":\"UnionRenderers\"},{\"attributes\":{\"data_source\":{\"id\":\"14630\"},\"glyph\":{\"id\":\"14633\"},\"hover_glyph\":null,\"muted_glyph\":{\"id\":\"14635\"},\"nonselection_glyph\":{\"id\":\"14634\"},\"selection_glyph\":{\"id\":\"14663\"},\"view\":{\"id\":\"14637\"}},\"id\":\"14636\",\"type\":\"GlyphRenderer\"},{\"attributes\":{\"line_alpha\":0.1,\"line_color\":\"#30a2da\",\"line_width\":2,\"x\":{\"field\":\"Year\"},\"y\":{\"field\":\"value\"}},\"id\":\"14451\",\"type\":\"Line\"},{\"attributes\":{\"data\":{\"Variable\":[\"Korea, Rep.\",\"Korea, Rep.\",\"Korea, Rep.\",\"Korea, Rep.\",\"Korea, Rep.\",\"Korea, Rep.\",\"Korea, Rep.\",\"Korea, Rep.\",\"Korea, Rep.\",\"Korea, Rep.\",\"Korea, Rep.\",\"Korea, Rep.\",\"Korea, Rep.\",\"Korea, Rep.\",\"Korea, Rep.\",\"Korea, Rep.\",\"Korea, Rep.\",\"Korea, Rep.\",\"Korea, Rep.\",\"Korea, Rep.\",\"Korea, Rep.\",\"Korea, Rep.\",\"Korea, Rep.\",\"Korea, Rep.\",\"Korea, Rep.\",\"Korea, Rep.\"],\"Year\":[1995,1996,1997,1998,1999,2000,2001,2002,2003,2004,2005,2006,2007,2008,2009,2010,2011,2012,2013,2014,2015,2016,2017,2018,2019,2020],\"value\":{\"__ndarray__\":\"dGCwUKg6I0AJb16IFJAfQKzfoEulrhhAEc9MD46EFMD27QMUE+8mQI7DqoslHyJAJHXzbttoE0BfPCjNi+YeQBXAaQGnLQlAN2Qi9iDKFEBCMgif8jsRQMDzg6GrDhVAfPnX0bwyF0CPBSfQlxoIQFHps0XKXek/dkP3BSQ4G0AJ49xjP3wNQKohMitiOANAAOnnwlJRCUAHz2MYoJ4JQH4sWSILeQZA2Nd4uDaTB0ADlVQa70YJQJrG7OhcQgdA9fagzZVQAEB+JehZBabuvw==\",\"dtype\":\"float64\",\"order\":\"little\",\"shape\":[26]}},\"selected\":{\"id\":\"14599\"},\"selection_policy\":{\"id\":\"14626\"}},\"id\":\"14598\",\"type\":\"ColumnDataSource\"},{\"attributes\":{},\"id\":\"14432\",\"type\":\"ResetTool\"},{\"attributes\":{},\"id\":\"14510\",\"type\":\"UnionRenderers\"},{\"attributes\":{\"data\":{\"Variable\":[\"United Kingdom\",\"United Kingdom\",\"United Kingdom\",\"United Kingdom\",\"United Kingdom\",\"United Kingdom\",\"United Kingdom\",\"United Kingdom\",\"United Kingdom\",\"United Kingdom\",\"United Kingdom\",\"United Kingdom\",\"United Kingdom\",\"United Kingdom\",\"United Kingdom\",\"United Kingdom\",\"United Kingdom\",\"United Kingdom\",\"United Kingdom\",\"United Kingdom\",\"United Kingdom\",\"United Kingdom\",\"United Kingdom\",\"United Kingdom\",\"United Kingdom\",\"United Kingdom\"],\"Year\":[1995,1996,1997,1998,1999,2000,2001,2002,2003,2004,2005,2006,2007,2008,2009,2010,2011,2012,2013,2014,2015,2016,2017,2018,2019,2020],\"value\":{\"__ndarray__\":\"xWxpONxABEC1/afyqO4DQDvhNxux1g5AvEa05agoDUB9JylaAG0LQN3cGyDxfwtAZl7AK3/LB0CJSatmRZgCQL7belWASgpAhWsMP9r9AkB4pqyzFXAJQMHTLBx9TgZAa91r4MVxA0CIJAt8a/7Rv8tJ/fzE/RDAQK4raz0x/z8meG6acaT4P8Ch7SGsqfc/eY0osKodAUCeOT9THNwEQPGfmSAd2AJAVIOJb8Ow/j/LQSmK8kX+P2udKnKXc/U//w5tSQxn9z9VR3timpQjwA==\",\"dtype\":\"float64\",\"order\":\"little\",\"shape\":[26]}},\"selected\":{\"id\":\"14541\"},\"selection_policy\":{\"id\":\"14564\"}},\"id\":\"14540\",\"type\":\"ColumnDataSource\"},{\"attributes\":{},\"id\":\"14631\",\"type\":\"Selection\"},{\"attributes\":{\"label\":{\"value\":\"Canada\"},\"renderers\":[{\"id\":\"14474\"}]},\"id\":\"14488\",\"type\":\"LegendItem\"},{\"attributes\":{\"label\":{\"value\":\"United States\"},\"renderers\":[{\"id\":\"14636\"}]},\"id\":\"14662\",\"type\":\"LegendItem\"},{\"attributes\":{\"callback\":null,\"renderers\":[{\"id\":\"14453\"},{\"id\":\"14474\"},{\"id\":\"14496\"},{\"id\":\"14520\"},{\"id\":\"14546\"},{\"id\":\"14574\"},{\"id\":\"14604\"},{\"id\":\"14636\"}],\"tags\":[\"hv_created\"],\"tooltips\":[[\"Variable\",\"@{Variable}\"],[\"Year\",\"@{Year}\"],[\"value\",\"@{value}\"]]},\"id\":\"14403\",\"type\":\"HoverTool\"},{\"attributes\":{},\"id\":\"14430\",\"type\":\"WheelZoomTool\"},{\"attributes\":{\"axis_label\":\"Year\",\"formatter\":{\"id\":\"14442\"},\"major_label_policy\":{\"id\":\"14443\"},\"ticker\":{\"id\":\"14421\"}},\"id\":\"14420\",\"type\":\"LinearAxis\"},{\"attributes\":{\"data_source\":{\"id\":\"14490\"},\"glyph\":{\"id\":\"14493\"},\"hover_glyph\":null,\"muted_glyph\":{\"id\":\"14495\"},\"nonselection_glyph\":{\"id\":\"14494\"},\"selection_glyph\":{\"id\":\"14513\"},\"view\":{\"id\":\"14497\"}},\"id\":\"14496\",\"type\":\"GlyphRenderer\"},{\"attributes\":{\"label\":{\"value\":\"Australia\"},\"renderers\":[{\"id\":\"14453\"}]},\"id\":\"14466\",\"type\":\"LegendItem\"},{\"attributes\":{\"line_color\":\"#8b8b8b\",\"line_width\":2,\"x\":{\"field\":\"Year\"},\"y\":{\"field\":\"value\"}},\"id\":\"14543\",\"type\":\"Line\"},{\"attributes\":{\"data_source\":{\"id\":\"14568\"},\"glyph\":{\"id\":\"14571\"},\"hover_glyph\":null,\"muted_glyph\":{\"id\":\"14573\"},\"nonselection_glyph\":{\"id\":\"14572\"},\"selection_glyph\":{\"id\":\"14597\"},\"view\":{\"id\":\"14575\"}},\"id\":\"14574\",\"type\":\"GlyphRenderer\"},{\"attributes\":{\"axis\":{\"id\":\"14420\"},\"grid_line_color\":null,\"ticker\":null},\"id\":\"14423\",\"type\":\"Grid\"},{\"attributes\":{\"data\":{\"Variable\":[\"India\",\"India\",\"India\",\"India\",\"India\",\"India\",\"India\",\"India\",\"India\",\"India\",\"India\",\"India\",\"India\",\"India\",\"India\",\"India\",\"India\",\"India\",\"India\",\"India\",\"India\",\"India\",\"India\",\"India\",\"India\",\"India\"],\"Year\":[1995,1996,1997,1998,1999,2000,2001,2002,2003,2004,2005,2006,2007,2008,2009,2010,2011,2012,2013,2014,2015,2016,2017,2018,2019,2020],\"value\":{\"__ndarray__\":\"uHnClkdMHkB5hN/1tTIeQLB0lDwEMxBAbj1AgNe8GEBuz3XfBrEhQFVSXJJZug5AmYzzz71LE0CK4/Ocim4OQFEEdtcHcR9AynakSxaxH0CnR/XLl7EfQIKs/VYYHyBAN4RTtKykHkD4nKLAjrEIQCUXevySch9A6igMbMP+IEBx/IgTI/cUQKIgx8JP0xVA+Uj0eV+LGUDNkI20EqQdQIsH4twp/B9A4oEDhTqDIEBYbsxf3ywcQACCDPl0ehhAXW+bqRC5EED14OTUwtsfwA==\",\"dtype\":\"float64\",\"order\":\"little\",\"shape\":[26]}},\"selected\":{\"id\":\"14569\"},\"selection_policy\":{\"id\":\"14594\"}},\"id\":\"14568\",\"type\":\"ColumnDataSource\"},{\"attributes\":{\"line_color\":\"#fc4f30\",\"line_width\":2,\"x\":{\"field\":\"Year\"},\"y\":{\"field\":\"value\"}},\"id\":\"14489\",\"type\":\"Line\"},{\"attributes\":{},\"id\":\"14421\",\"type\":\"BasicTicker\"},{\"attributes\":{},\"id\":\"14569\",\"type\":\"Selection\"},{\"attributes\":{},\"id\":\"14442\",\"type\":\"BasicTickFormatter\"},{\"attributes\":{\"line_alpha\":0.1,\"line_color\":\"#6d904f\",\"line_width\":2,\"x\":{\"field\":\"Year\"},\"y\":{\"field\":\"value\"}},\"id\":\"14518\",\"type\":\"Line\"},{\"attributes\":{},\"id\":\"14469\",\"type\":\"Selection\"},{\"attributes\":{\"line_color\":\"#30a2da\",\"line_width\":2,\"x\":{\"field\":\"Year\"},\"y\":{\"field\":\"value\"}},\"id\":\"14467\",\"type\":\"Line\"},{\"attributes\":{\"data\":{\"Variable\":[\"Australia\",\"Australia\",\"Australia\",\"Australia\",\"Australia\",\"Australia\",\"Australia\",\"Australia\",\"Australia\",\"Australia\",\"Australia\",\"Australia\",\"Australia\",\"Australia\",\"Australia\",\"Australia\",\"Australia\",\"Australia\",\"Australia\",\"Australia\",\"Australia\",\"Australia\",\"Australia\",\"Australia\",\"Australia\",\"Australia\"],\"Year\":[1995,1996,1997,1998,1999,2000,2001,2002,2003,2004,2005,2006,2007,2008,2009,2010,2011,2012,2013,2014,2015,2016,2017,2018,2019,2020],\"value\":{\"__ndarray__\":\"H+MLDLmzDkDfc+G5VwcPQG8jBRl4uw9A2IB/f4dOEkApKaiPXUsUQP62q4AQdw9AFfkt7srk/j95fAERcAEQQJPzp4gx4wdAQDyUZsg4EEAs94MzWKIJQE9ULDo2WwZADxjs0vvADkDDqWMjfUMNQKQ2L1bt/f4/G5q//RGKAEDoddCUubMDQJHFesZlWA9AscOs2N6tBEBBixmf0UMEQO6g0ruKigFA96T1sksqBkD+R/eKpmcCQIliiiMjmAdA9OE4dKNJAUD6tCabzjrSvw==\",\"dtype\":\"float64\",\"order\":\"little\",\"shape\":[26]}},\"selected\":{\"id\":\"14448\"},\"selection_policy\":{\"id\":\"14463\"}},\"id\":\"14447\",\"type\":\"ColumnDataSource\"},{\"attributes\":{\"line_alpha\":0.2,\"line_color\":\"#6d904f\",\"line_width\":2,\"x\":{\"field\":\"Year\"},\"y\":{\"field\":\"value\"}},\"id\":\"14519\",\"type\":\"Line\"},{\"attributes\":{\"line_alpha\":0.2,\"line_color\":\"#d62728\",\"line_width\":2,\"x\":{\"field\":\"Year\"},\"y\":{\"field\":\"value\"}},\"id\":\"14635\",\"type\":\"Line\"},{\"attributes\":{},\"id\":\"14429\",\"type\":\"PanTool\"},{\"attributes\":{\"data_source\":{\"id\":\"14540\"},\"glyph\":{\"id\":\"14543\"},\"hover_glyph\":null,\"muted_glyph\":{\"id\":\"14545\"},\"nonselection_glyph\":{\"id\":\"14544\"},\"selection_glyph\":{\"id\":\"14567\"},\"view\":{\"id\":\"14547\"}},\"id\":\"14546\",\"type\":\"GlyphRenderer\"},{\"attributes\":{},\"id\":\"14445\",\"type\":\"BasicTickFormatter\"},{\"attributes\":{\"line_alpha\":0.2,\"line_color\":\"#e5ae38\",\"line_width\":2,\"x\":{\"field\":\"Year\"},\"y\":{\"field\":\"value\"}},\"id\":\"14495\",\"type\":\"Line\"},{\"attributes\":{},\"id\":\"14491\",\"type\":\"Selection\"},{\"attributes\":{\"source\":{\"id\":\"14514\"}},\"id\":\"14521\",\"type\":\"CDSView\"},{\"attributes\":{\"data\":{\"Variable\":[\"European Union\",\"European Union\",\"European Union\",\"European Union\",\"European Union\",\"European Union\",\"European Union\",\"European Union\",\"European Union\",\"European Union\",\"European Union\",\"European Union\",\"European Union\",\"European Union\",\"European Union\",\"European Union\",\"European Union\",\"European Union\",\"European Union\",\"European Union\",\"European Union\",\"European Union\",\"European Union\",\"European Union\",\"European Union\",\"European Union\"],\"Year\":[1995,1996,1997,1998,1999,2000,2001,2002,2003,2004,2005,2006,2007,2008,2009,2010,2011,2012,2013,2014,2015,2016,2017,2018,2019,2020],\"value\":{\"__ndarray__\":\"a156oLpiBUA+JYSaY0n+P3iqiELnTwVAbcyNF0ImCEDzvGDfaqsHQKbPSxvHOQ9A0n7RCZR5AUAIymOJq/vxP9oJv2zsxu0/rQf0C3TCBEDTnAsP2fH+P+gRbvVG9AtAipmWu0M4CUBVhEpFK6PkP+erokelTRHA/TTNv4atAUC4eDazr0/9P7hFwdX/Dui/uXzuewlSrL+guDwGxir5Pzy6tlyiZwJA2dSfG59bAED2PnHaNVAGQGPgAs4n8gBArfur7UTe+D9mZmZmZmYYwA==\",\"dtype\":\"float64\",\"order\":\"little\",\"shape\":[26]}},\"selected\":{\"id\":\"14515\"},\"selection_policy\":{\"id\":\"14536\"}},\"id\":\"14514\",\"type\":\"ColumnDataSource\"},{\"attributes\":{\"line_alpha\":0.1,\"line_color\":\"#fc4f30\",\"line_width\":2,\"x\":{\"field\":\"Year\"},\"y\":{\"field\":\"value\"}},\"id\":\"14472\",\"type\":\"Line\"},{\"attributes\":{\"source\":{\"id\":\"14468\"}},\"id\":\"14475\",\"type\":\"CDSView\"},{\"attributes\":{},\"id\":\"14515\",\"type\":\"Selection\"},{\"attributes\":{\"line_color\":\"#9467bd\",\"line_width\":2,\"x\":{\"field\":\"Year\"},\"y\":{\"field\":\"value\"}},\"id\":\"14601\",\"type\":\"Line\"},{\"attributes\":{},\"id\":\"14416\",\"type\":\"LinearScale\"},{\"attributes\":{},\"id\":\"14443\",\"type\":\"AllLabels\"},{\"attributes\":{\"data_source\":{\"id\":\"14514\"},\"glyph\":{\"id\":\"14517\"},\"hover_glyph\":null,\"muted_glyph\":{\"id\":\"14519\"},\"nonselection_glyph\":{\"id\":\"14518\"},\"selection_glyph\":{\"id\":\"14539\"},\"view\":{\"id\":\"14521\"}},\"id\":\"14520\",\"type\":\"GlyphRenderer\"},{\"attributes\":{\"label\":{\"value\":\"China\"},\"renderers\":[{\"id\":\"14496\"}]},\"id\":\"14512\",\"type\":\"LegendItem\"},{\"attributes\":{},\"id\":\"14536\",\"type\":\"UnionRenderers\"},{\"attributes\":{},\"id\":\"14599\",\"type\":\"Selection\"},{\"attributes\":{\"label\":{\"value\":\"European Union\"},\"renderers\":[{\"id\":\"14520\"}]},\"id\":\"14538\",\"type\":\"LegendItem\"},{\"attributes\":{\"data_source\":{\"id\":\"14447\"},\"glyph\":{\"id\":\"14450\"},\"hover_glyph\":null,\"muted_glyph\":{\"id\":\"14452\"},\"nonselection_glyph\":{\"id\":\"14451\"},\"selection_glyph\":{\"id\":\"14467\"},\"view\":{\"id\":\"14454\"}},\"id\":\"14453\",\"type\":\"GlyphRenderer\"},{\"attributes\":{\"line_color\":\"#e5ae38\",\"line_width\":2,\"x\":{\"field\":\"Year\"},\"y\":{\"field\":\"value\"}},\"id\":\"14513\",\"type\":\"Line\"},{\"attributes\":{\"active_multi\":null,\"tools\":[{\"id\":\"14403\"},{\"id\":\"14428\"},{\"id\":\"14429\"},{\"id\":\"14430\"},{\"id\":\"14431\"},{\"id\":\"14432\"}]},\"id\":\"14434\",\"type\":\"Toolbar\"},{\"attributes\":{},\"id\":\"14448\",\"type\":\"Selection\"},{\"attributes\":{\"line_alpha\":0.1,\"line_color\":\"#d62728\",\"line_width\":2,\"x\":{\"field\":\"Year\"},\"y\":{\"field\":\"value\"}},\"id\":\"14634\",\"type\":\"Line\"},{\"attributes\":{\"source\":{\"id\":\"14598\"}},\"id\":\"14605\",\"type\":\"CDSView\"},{\"attributes\":{\"data_source\":{\"id\":\"14468\"},\"glyph\":{\"id\":\"14471\"},\"hover_glyph\":null,\"muted_glyph\":{\"id\":\"14473\"},\"nonselection_glyph\":{\"id\":\"14472\"},\"selection_glyph\":{\"id\":\"14489\"},\"view\":{\"id\":\"14475\"}},\"id\":\"14474\",\"type\":\"GlyphRenderer\"},{\"attributes\":{},\"id\":\"14425\",\"type\":\"BasicTicker\"},{\"attributes\":{},\"id\":\"14626\",\"type\":\"UnionRenderers\"},{\"attributes\":{\"line_color\":\"#30a2da\",\"line_width\":2,\"x\":{\"field\":\"Year\"},\"y\":{\"field\":\"value\"}},\"id\":\"14450\",\"type\":\"Line\"},{\"attributes\":{\"line_color\":\"#d62728\",\"line_width\":2,\"x\":{\"field\":\"Year\"},\"y\":{\"field\":\"value\"}},\"id\":\"14663\",\"type\":\"Line\"},{\"attributes\":{},\"id\":\"14463\",\"type\":\"UnionRenderers\"},{\"attributes\":{\"line_color\":\"#17becf\",\"line_width\":2,\"x\":{\"field\":\"Year\"},\"y\":{\"field\":\"value\"}},\"id\":\"14597\",\"type\":\"Line\"},{\"attributes\":{\"line_color\":\"#6d904f\",\"line_width\":2,\"x\":{\"field\":\"Year\"},\"y\":{\"field\":\"value\"}},\"id\":\"14539\",\"type\":\"Line\"},{\"attributes\":{\"line_alpha\":0.2,\"line_color\":\"#30a2da\",\"line_width\":2,\"x\":{\"field\":\"Year\"},\"y\":{\"field\":\"value\"}},\"id\":\"14452\",\"type\":\"Line\"},{\"attributes\":{\"line_alpha\":0.2,\"line_color\":\"#8b8b8b\",\"line_width\":2,\"x\":{\"field\":\"Year\"},\"y\":{\"field\":\"value\"}},\"id\":\"14545\",\"type\":\"Line\"},{\"attributes\":{\"line_color\":\"#d62728\",\"line_width\":2,\"x\":{\"field\":\"Year\"},\"y\":{\"field\":\"value\"}},\"id\":\"14633\",\"type\":\"Line\"},{\"attributes\":{\"text_color\":\"black\",\"text_font_size\":\"12pt\"},\"id\":\"14412\",\"type\":\"Title\"},{\"attributes\":{\"line_color\":\"#6d904f\",\"line_width\":2,\"x\":{\"field\":\"Year\"},\"y\":{\"field\":\"value\"}},\"id\":\"14517\",\"type\":\"Line\"},{\"attributes\":{},\"id\":\"14564\",\"type\":\"UnionRenderers\"},{\"attributes\":{\"axis\":{\"id\":\"14424\"},\"dimension\":1,\"grid_line_color\":null,\"ticker\":null},\"id\":\"14427\",\"type\":\"Grid\"},{\"attributes\":{\"line_color\":\"#fc4f30\",\"line_width\":2,\"x\":{\"field\":\"Year\"},\"y\":{\"field\":\"value\"}},\"id\":\"14471\",\"type\":\"Line\"},{\"attributes\":{\"label\":{\"value\":\"Korea, Rep.\"},\"renderers\":[{\"id\":\"14604\"}]},\"id\":\"14628\",\"type\":\"LegendItem\"},{\"attributes\":{\"source\":{\"id\":\"14490\"}},\"id\":\"14497\",\"type\":\"CDSView\"},{\"attributes\":{\"bottom_units\":\"screen\",\"fill_alpha\":0.5,\"fill_color\":\"lightgrey\",\"left_units\":\"screen\",\"level\":\"overlay\",\"line_alpha\":1.0,\"line_color\":\"black\",\"line_dash\":[4,4],\"line_width\":2,\"right_units\":\"screen\",\"syncable\":false,\"top_units\":\"screen\"},\"id\":\"14433\",\"type\":\"BoxAnnotation\"},{\"attributes\":{\"click_policy\":\"mute\",\"items\":[{\"id\":\"14466\"},{\"id\":\"14488\"},{\"id\":\"14512\"},{\"id\":\"14538\"},{\"id\":\"14566\"},{\"id\":\"14596\"},{\"id\":\"14628\"},{\"id\":\"14662\"}],\"location\":[0,0],\"title\":\"Variable\"},\"id\":\"14465\",\"type\":\"Legend\"},{\"attributes\":{\"end\":2020.0,\"reset_end\":2020.0,\"reset_start\":1995.0,\"start\":1995.0,\"tags\":[[[\"Year\",\"Year\",null]]]},\"id\":\"14401\",\"type\":\"Range1d\"},{\"attributes\":{\"source\":{\"id\":\"14447\"}},\"id\":\"14454\",\"type\":\"CDSView\"},{\"attributes\":{\"label\":{\"value\":\"United Kingdom\"},\"renderers\":[{\"id\":\"14546\"}]},\"id\":\"14566\",\"type\":\"LegendItem\"},{\"attributes\":{\"data\":{\"Variable\":[\"Canada\",\"Canada\",\"Canada\",\"Canada\",\"Canada\",\"Canada\",\"Canada\",\"Canada\",\"Canada\",\"Canada\",\"Canada\",\"Canada\",\"Canada\",\"Canada\",\"Canada\",\"Canada\",\"Canada\",\"Canada\",\"Canada\",\"Canada\",\"Canada\",\"Canada\",\"Canada\",\"Canada\",\"Canada\",\"Canada\"],\"Year\":[1995,1996,1997,1998,1999,2000,2001,2002,2003,2004,2005,2006,2007,2008,2009,2010,2011,2012,2013,2014,2015,2016,2017,2018,2019,2020],\"value\":{\"__ndarray__\":\"bY5kcEONBUBOILJpIej5P/2wAbgpww7AQczrqVFfBkC4AZpmjMMPQG/eK//JqxNAeBdGfwp99j/tnPQrjmALQOzwidUcfQ5AeldyUu5PD0By4p7zwvsTQOVClBjMqRBA41KnmXR5G0DXt5v5OB/wP3HtFhFdbQfAKIuQ9Ei3CECJDQkk0CwJQP6og0UQMvw/Ni79+gqiAkC8uEN51fUGQGgdJRT6F+U/8G4oJrYF8D/9g+Cip10JQErfsNzuGwBA4ddhryR/+j9tokg5d5wVwA==\",\"dtype\":\"float64\",\"order\":\"little\",\"shape\":[26]}},\"selected\":{\"id\":\"14469\"},\"selection_policy\":{\"id\":\"14486\"}},\"id\":\"14468\",\"type\":\"ColumnDataSource\"},{\"attributes\":{\"line_color\":\"#8b8b8b\",\"line_width\":2,\"x\":{\"field\":\"Year\"},\"y\":{\"field\":\"value\"}},\"id\":\"14567\",\"type\":\"Line\"},{\"attributes\":{\"end\":16.632971059173695,\"reset_end\":16.632971059173695,\"reset_start\":-12.192350490910622,\"start\":-12.192350490910622,\"tags\":[[[\"value\",\"value\",null]]]},\"id\":\"14402\",\"type\":\"Range1d\"},{\"attributes\":{\"source\":{\"id\":\"14630\"}},\"id\":\"14637\",\"type\":\"CDSView\"},{\"attributes\":{},\"id\":\"14594\",\"type\":\"UnionRenderers\"},{\"attributes\":{\"data_source\":{\"id\":\"14598\"},\"glyph\":{\"id\":\"14601\"},\"hover_glyph\":null,\"muted_glyph\":{\"id\":\"14603\"},\"nonselection_glyph\":{\"id\":\"14602\"},\"selection_glyph\":{\"id\":\"14629\"},\"view\":{\"id\":\"14605\"}},\"id\":\"14604\",\"type\":\"GlyphRenderer\"},{\"attributes\":{\"source\":{\"id\":\"14568\"}},\"id\":\"14575\",\"type\":\"CDSView\"},{\"attributes\":{\"margin\":[5,5,5,5],\"name\":\"HSpacer62413\",\"sizing_mode\":\"stretch_width\"},\"id\":\"14400\",\"type\":\"Spacer\"},{\"attributes\":{\"margin\":[5,5,5,5],\"name\":\"HSpacer62414\",\"sizing_mode\":\"stretch_width\"},\"id\":\"14880\",\"type\":\"Spacer\"},{\"attributes\":{},\"id\":\"14418\",\"type\":\"LinearScale\"},{\"attributes\":{\"line_color\":\"#17becf\",\"line_width\":2,\"x\":{\"field\":\"Year\"},\"y\":{\"field\":\"value\"}},\"id\":\"14571\",\"type\":\"Line\"},{\"attributes\":{\"label\":{\"value\":\"India\"},\"renderers\":[{\"id\":\"14574\"}]},\"id\":\"14596\",\"type\":\"LegendItem\"},{\"attributes\":{\"source\":{\"id\":\"14540\"}},\"id\":\"14547\",\"type\":\"CDSView\"},{\"attributes\":{\"line_alpha\":0.1,\"line_color\":\"#8b8b8b\",\"line_width\":2,\"x\":{\"field\":\"Year\"},\"y\":{\"field\":\"value\"}},\"id\":\"14544\",\"type\":\"Line\"},{\"attributes\":{\"children\":[{\"id\":\"14400\"},{\"id\":\"14411\"},{\"id\":\"14880\"}],\"margin\":[0,0,0,0],\"name\":\"Row62409\",\"tags\":[\"embedded\"]},\"id\":\"14399\",\"type\":\"Row\"},{\"attributes\":{},\"id\":\"14660\",\"type\":\"UnionRenderers\"},{\"attributes\":{\"line_color\":\"#e5ae38\",\"line_width\":2,\"x\":{\"field\":\"Year\"},\"y\":{\"field\":\"value\"}},\"id\":\"14493\",\"type\":\"Line\"}],\"root_ids\":[\"14399\"]},\"title\":\"Bokeh Application\",\"version\":\"2.3.2\"}};\n",
       "    var render_items = [{\"docid\":\"5308f84a-0127-4e50-9fb1-bac39cfad6f3\",\"root_ids\":[\"14399\"],\"roots\":{\"14399\":\"56c67e9e-4f98-40b6-a34a-c690e456f1b0\"}}];\n",
       "    root.Bokeh.embed.embed_items_notebook(docs_json, render_items);\n",
       "  }\n",
       "  if (root.Bokeh !== undefined && root.Bokeh.Panel !== undefined && root['Plotly'] !== undefined ) {\n",
       "    embed_document(root);\n",
       "  } else {\n",
       "    var attempts = 0;\n",
       "    var timer = setInterval(function(root) {\n",
       "      if (root.Bokeh !== undefined && root.Bokeh.Panel !== undefined && root['Plotly'] !== undefined) {\n",
       "        clearInterval(timer);\n",
       "        embed_document(root);\n",
       "      } else if (document.readyState == \"complete\") {\n",
       "        attempts++;\n",
       "        if (attempts > 100) {\n",
       "          clearInterval(timer);\n",
       "          console.log(\"Bokeh: ERROR: Unable to run BokehJS code because BokehJS library is missing\");\n",
       "        }\n",
       "      }\n",
       "    }, 10, root)\n",
       "  }\n",
       "})(window);</script>"
      ],
      "text/plain": [
       ":NdOverlay   [Variable]\n",
       "   :Curve   [Year]   (value)"
      ]
     },
     "execution_count": 199,
     "metadata": {
      "application/vnd.holoviews_exec.v0+json": {
       "id": "14399"
      }
     },
     "output_type": "execute_result"
    }
   ],
   "source": [
    "#Create line plots\n",
    "gdp_hvplot_line = gdp_new.hvplot.line()\n",
    "gdp_hvplot_line"
   ]
  },
  {
   "cell_type": "code",
   "execution_count": 200,
   "id": "90ae5661",
   "metadata": {},
   "outputs": [
    {
     "data": {
      "application/vnd.plotly.v1+json": {
       "config": {
        "linkText": "Export to plot.ly",
        "plotlyServerURL": "https://plot.ly",
        "showLink": true
       },
       "data": [
        {
         "line": {
          "color": "rgba(255, 153, 51, 1.0)",
          "dash": "dash",
          "shape": "linear",
          "width": 1.3
         },
         "mode": "lines",
         "name": "Australia",
         "text": "",
         "type": "scatter",
         "x": [
          1995,
          1996,
          1997,
          1998,
          1999,
          2000,
          2001,
          2002,
          2003,
          2004,
          2005,
          2006,
          2007,
          2008,
          2009,
          2010,
          2011,
          2012,
          2013,
          2014,
          2015,
          2016,
          2017,
          2018,
          2019,
          2020
         ],
         "y": [
          3.8377552930000003,
          3.878585293,
          3.966537662,
          4.576688759,
          5.073599095,
          3.933136945,
          1.930857592,
          4.001404062,
          2.985934322,
          4.055451968,
          3.204269793,
          2.794537024,
          3.8442303160000004,
          3.6579535260000013,
          1.93699392,
          2.067417128,
          2.462756312,
          3.9181628710000003,
          2.5848977019999997,
          2.533114665,
          2.1926474259999997,
          2.770652197,
          2.300610624,
          2.949285772,
          2.160956295,
          -0.284839297785609
         ]
        },
        {
         "line": {
          "color": "rgba(55, 128, 191, 1.0)",
          "dash": "dash",
          "shape": "linear",
          "width": 1.3
         },
         "mode": "lines",
         "name": "Canada",
         "text": "",
         "type": "scatter",
         "x": [
          1995,
          1996,
          1997,
          1998,
          1999,
          2000,
          2001,
          2002,
          2003,
          2004,
          2005,
          2006,
          2007,
          2008,
          2009,
          2010,
          2011,
          2012,
          2013,
          2014,
          2015,
          2016,
          2017,
          2018,
          2019,
          2020
         ],
         "y": [
          2.6939762860000003,
          1.61917249,
          -3.845294416,
          2.79654248,
          3.970482637,
          4.917762744,
          1.405527589,
          3.422146171,
          3.8110901530000003,
          3.914028782,
          4.9958608689999995,
          4.165817627,
          6.868608857000001,
          1.007622695,
          -2.928400167,
          3.08949462,
          3.1468813719999997,
          1.762222549,
          2.329122506,
          2.870036075,
          0.659176864,
          1.001394414,
          3.1707298969999997,
          2.013639187,
          1.656040845,
          -5.40279855256868
         ]
        },
        {
         "line": {
          "color": "rgba(50, 171, 96, 1.0)",
          "dash": "dash",
          "shape": "linear",
          "width": 1.3
         },
         "mode": "lines",
         "name": "China",
         "text": "",
         "type": "scatter",
         "x": [
          1995,
          1996,
          1997,
          1998,
          1999,
          2000,
          2001,
          2002,
          2003,
          2004,
          2005,
          2006,
          2007,
          2008,
          2009,
          2010,
          2011,
          2012,
          2013,
          2014,
          2015,
          2016,
          2017,
          2018,
          2019,
          2020
         ],
         "y": [
          10.95395434,
          9.922556753,
          9.236779892000001,
          7.845951787000001,
          7.6616515,
          8.490093406,
          8.335733478,
          9.13363079,
          10.03803048,
          10.11362138,
          11.39459181,
          12.72095567,
          14.23086093,
          9.650678919,
          9.398725633,
          10.63587106,
          9.550832179,
          7.863736449,
          7.766150098,
          7.425763656,
          7.041328879,
          6.848762205,
          6.9472007929999995,
          6.749773833,
          5.949714233,
          2.29999999998371
         ]
        },
        {
         "line": {
          "color": "rgba(128, 0, 128, 1.0)",
          "dash": "dash",
          "shape": "linear",
          "width": 1.3
         },
         "mode": "lines",
         "name": "European Union",
         "text": "",
         "type": "scatter",
         "x": [
          1995,
          1996,
          1997,
          1998,
          1999,
          2000,
          2001,
          2002,
          2003,
          2004,
          2005,
          2006,
          2007,
          2008,
          2009,
          2010,
          2011,
          2012,
          2013,
          2014,
          2015,
          2016,
          2017,
          2018,
          2019,
          2020
         ],
         "y": [
          2.673207525,
          1.892917255,
          2.664015312,
          3.018680748,
          2.958699937,
          3.903211797,
          2.184364392,
          1.1239428870000001,
          0.930532658,
          2.594947904,
          1.9340448940000001,
          3.494275968,
          3.15247294,
          0.644918094,
          -4.325825805,
          2.20972967,
          1.83195467,
          -0.7518309759999999,
          -0.055313392999999995,
          1.5729427569999999,
          2.30060265,
          2.0447370680000003,
          2.789165217,
          2.118239984,
          1.554264954,
          -6.1
         ]
        },
        {
         "line": {
          "color": "rgba(219, 64, 82, 1.0)",
          "dash": "dash",
          "shape": "linear",
          "width": 1.3
         },
         "mode": "lines",
         "name": "United Kingdom",
         "text": "",
         "type": "scatter",
         "x": [
          1995,
          1996,
          1997,
          1998,
          1999,
          2000,
          2001,
          2002,
          2003,
          2004,
          2005,
          2006,
          2007,
          2008,
          2009,
          2010,
          2011,
          2012,
          2013,
          2014,
          2015,
          2016,
          2017,
          2018,
          2019,
          2020
         ],
         "y": [
          2.531670037,
          2.49153318,
          3.8548299910000003,
          3.6448533960000002,
          3.428223328,
          3.4374716289999996,
          2.974363653,
          2.324351122,
          3.28637759,
          2.3739514280000003,
          3.179728893,
          2.7883245660000004,
          2.430553201,
          -0.281153556,
          -4.247821763,
          1.949521464,
          1.5401474030000002,
          1.478923924,
          2.139485718,
          2.607475901,
          2.355524306,
          1.9181551319999999,
          1.892077007,
          1.340720602,
          1.4626582019999999,
          -9.79024036173693
         ]
        },
        {
         "line": {
          "color": "rgba(0, 128, 128, 1.0)",
          "dash": "dash",
          "shape": "linear",
          "width": 1.3
         },
         "mode": "lines",
         "name": "India",
         "text": "",
         "type": "scatter",
         "x": [
          1995,
          1996,
          1997,
          1998,
          1999,
          2000,
          2001,
          2002,
          2003,
          2004,
          2005,
          2006,
          2007,
          2008,
          2009,
          2010,
          2011,
          2012,
          2013,
          2014,
          2015,
          2016,
          2017,
          2018,
          2019,
          2020
         ],
         "y": [
          7.57449184,
          7.549522249,
          4.049820849,
          6.184415821,
          8.845755561,
          3.840991157,
          4.823966264,
          3.8039753210000002,
          7.8603814760000015,
          7.922936612999999,
          7.9234306210000005,
          8.060732573,
          7.660815065,
          3.08669806,
          7.861888832999999,
          8.497584702000001,
          5.241344743,
          5.456358951,
          6.386106401,
          7.410227605,
          7.996253444,
          8.256305844,
          7.043820855,
          6.119586841,
          4.180727625,
          -7.9646104111382
         ]
        },
        {
         "line": {
          "color": "rgba(255, 255, 51, 1.0)",
          "dash": "dash",
          "shape": "linear",
          "width": 1.3
         },
         "mode": "lines",
         "name": "Korea, Rep.",
         "text": "",
         "type": "scatter",
         "x": [
          1995,
          1996,
          1997,
          1998,
          1999,
          2000,
          2001,
          2002,
          2003,
          2004,
          2005,
          2006,
          2007,
          2008,
          2009,
          2010,
          2011,
          2012,
          2013,
          2014,
          2015,
          2016,
          2017,
          2018,
          2019,
          2020
         ],
         "y": [
          9.614565393,
          7.8907033260000015,
          6.1705524270000005,
          -5.129448165,
          11.46694243,
          9.060833325,
          4.8523995719999995,
          7.725142675,
          3.1472911939999997,
          5.197391363,
          4.308542714,
          5.264326595,
          5.799548415,
          3.012984873,
          0.79269899,
          6.804824918,
          3.685667782,
          2.402530992,
          3.1647086360000003,
          3.202453795,
          2.8091032680000003,
          2.946881715,
          3.15963574,
          2.9074037739999996,
          2.039348227,
          -0.9577662235252971
         ]
        },
        {
         "line": {
          "color": "rgba(128, 128, 0, 1.0)",
          "dash": "dash",
          "shape": "linear",
          "width": 1.3
         },
         "mode": "lines",
         "name": "United States",
         "text": "",
         "type": "scatter",
         "x": [
          1995,
          1996,
          1997,
          1998,
          1999,
          2000,
          2001,
          2002,
          2003,
          2004,
          2005,
          2006,
          2007,
          2008,
          2009,
          2010,
          2011,
          2012,
          2013,
          2014,
          2015,
          2016,
          2017,
          2018,
          2019,
          2020
         ],
         "y": [
          2.684287134,
          3.77250132,
          4.44721634,
          4.481407553,
          4.753235991,
          4.127484011,
          0.9983408000000001,
          1.7416952430000001,
          2.8612107719999997,
          3.798891123,
          3.513213796,
          2.8549722980000003,
          1.876171455,
          -0.136579804,
          -2.53675707,
          2.563766563,
          1.5508355040000001,
          2.249545851,
          1.84208107,
          2.52597345,
          2.9080218610000004,
          1.637838457,
          2.369800784,
          2.927325732,
          2.161176288,
          -3.4861395571142997
         ]
        }
       ],
       "layout": {
        "autosize": true,
        "legend": {
         "bgcolor": "#151516",
         "font": {
          "color": "#D9D9D9"
         }
        },
        "paper_bgcolor": "#151516",
        "plot_bgcolor": "#151516",
        "template": {
         "data": {
          "bar": [
           {
            "error_x": {
             "color": "#2a3f5f"
            },
            "error_y": {
             "color": "#2a3f5f"
            },
            "marker": {
             "line": {
              "color": "#E5ECF6",
              "width": 0.5
             }
            },
            "type": "bar"
           }
          ],
          "barpolar": [
           {
            "marker": {
             "line": {
              "color": "#E5ECF6",
              "width": 0.5
             }
            },
            "type": "barpolar"
           }
          ],
          "carpet": [
           {
            "aaxis": {
             "endlinecolor": "#2a3f5f",
             "gridcolor": "white",
             "linecolor": "white",
             "minorgridcolor": "white",
             "startlinecolor": "#2a3f5f"
            },
            "baxis": {
             "endlinecolor": "#2a3f5f",
             "gridcolor": "white",
             "linecolor": "white",
             "minorgridcolor": "white",
             "startlinecolor": "#2a3f5f"
            },
            "type": "carpet"
           }
          ],
          "choropleth": [
           {
            "colorbar": {
             "outlinewidth": 0,
             "ticks": ""
            },
            "type": "choropleth"
           }
          ],
          "contour": [
           {
            "colorbar": {
             "outlinewidth": 0,
             "ticks": ""
            },
            "colorscale": [
             [
              0,
              "#0d0887"
             ],
             [
              0.1111111111111111,
              "#46039f"
             ],
             [
              0.2222222222222222,
              "#7201a8"
             ],
             [
              0.3333333333333333,
              "#9c179e"
             ],
             [
              0.4444444444444444,
              "#bd3786"
             ],
             [
              0.5555555555555556,
              "#d8576b"
             ],
             [
              0.6666666666666666,
              "#ed7953"
             ],
             [
              0.7777777777777778,
              "#fb9f3a"
             ],
             [
              0.8888888888888888,
              "#fdca26"
             ],
             [
              1,
              "#f0f921"
             ]
            ],
            "type": "contour"
           }
          ],
          "contourcarpet": [
           {
            "colorbar": {
             "outlinewidth": 0,
             "ticks": ""
            },
            "type": "contourcarpet"
           }
          ],
          "heatmap": [
           {
            "colorbar": {
             "outlinewidth": 0,
             "ticks": ""
            },
            "colorscale": [
             [
              0,
              "#0d0887"
             ],
             [
              0.1111111111111111,
              "#46039f"
             ],
             [
              0.2222222222222222,
              "#7201a8"
             ],
             [
              0.3333333333333333,
              "#9c179e"
             ],
             [
              0.4444444444444444,
              "#bd3786"
             ],
             [
              0.5555555555555556,
              "#d8576b"
             ],
             [
              0.6666666666666666,
              "#ed7953"
             ],
             [
              0.7777777777777778,
              "#fb9f3a"
             ],
             [
              0.8888888888888888,
              "#fdca26"
             ],
             [
              1,
              "#f0f921"
             ]
            ],
            "type": "heatmap"
           }
          ],
          "heatmapgl": [
           {
            "colorbar": {
             "outlinewidth": 0,
             "ticks": ""
            },
            "colorscale": [
             [
              0,
              "#0d0887"
             ],
             [
              0.1111111111111111,
              "#46039f"
             ],
             [
              0.2222222222222222,
              "#7201a8"
             ],
             [
              0.3333333333333333,
              "#9c179e"
             ],
             [
              0.4444444444444444,
              "#bd3786"
             ],
             [
              0.5555555555555556,
              "#d8576b"
             ],
             [
              0.6666666666666666,
              "#ed7953"
             ],
             [
              0.7777777777777778,
              "#fb9f3a"
             ],
             [
              0.8888888888888888,
              "#fdca26"
             ],
             [
              1,
              "#f0f921"
             ]
            ],
            "type": "heatmapgl"
           }
          ],
          "histogram": [
           {
            "marker": {
             "colorbar": {
              "outlinewidth": 0,
              "ticks": ""
             }
            },
            "type": "histogram"
           }
          ],
          "histogram2d": [
           {
            "colorbar": {
             "outlinewidth": 0,
             "ticks": ""
            },
            "colorscale": [
             [
              0,
              "#0d0887"
             ],
             [
              0.1111111111111111,
              "#46039f"
             ],
             [
              0.2222222222222222,
              "#7201a8"
             ],
             [
              0.3333333333333333,
              "#9c179e"
             ],
             [
              0.4444444444444444,
              "#bd3786"
             ],
             [
              0.5555555555555556,
              "#d8576b"
             ],
             [
              0.6666666666666666,
              "#ed7953"
             ],
             [
              0.7777777777777778,
              "#fb9f3a"
             ],
             [
              0.8888888888888888,
              "#fdca26"
             ],
             [
              1,
              "#f0f921"
             ]
            ],
            "type": "histogram2d"
           }
          ],
          "histogram2dcontour": [
           {
            "colorbar": {
             "outlinewidth": 0,
             "ticks": ""
            },
            "colorscale": [
             [
              0,
              "#0d0887"
             ],
             [
              0.1111111111111111,
              "#46039f"
             ],
             [
              0.2222222222222222,
              "#7201a8"
             ],
             [
              0.3333333333333333,
              "#9c179e"
             ],
             [
              0.4444444444444444,
              "#bd3786"
             ],
             [
              0.5555555555555556,
              "#d8576b"
             ],
             [
              0.6666666666666666,
              "#ed7953"
             ],
             [
              0.7777777777777778,
              "#fb9f3a"
             ],
             [
              0.8888888888888888,
              "#fdca26"
             ],
             [
              1,
              "#f0f921"
             ]
            ],
            "type": "histogram2dcontour"
           }
          ],
          "mesh3d": [
           {
            "colorbar": {
             "outlinewidth": 0,
             "ticks": ""
            },
            "type": "mesh3d"
           }
          ],
          "parcoords": [
           {
            "line": {
             "colorbar": {
              "outlinewidth": 0,
              "ticks": ""
             }
            },
            "type": "parcoords"
           }
          ],
          "pie": [
           {
            "automargin": true,
            "type": "pie"
           }
          ],
          "scatter": [
           {
            "marker": {
             "colorbar": {
              "outlinewidth": 0,
              "ticks": ""
             }
            },
            "type": "scatter"
           }
          ],
          "scatter3d": [
           {
            "line": {
             "colorbar": {
              "outlinewidth": 0,
              "ticks": ""
             }
            },
            "marker": {
             "colorbar": {
              "outlinewidth": 0,
              "ticks": ""
             }
            },
            "type": "scatter3d"
           }
          ],
          "scattercarpet": [
           {
            "marker": {
             "colorbar": {
              "outlinewidth": 0,
              "ticks": ""
             }
            },
            "type": "scattercarpet"
           }
          ],
          "scattergeo": [
           {
            "marker": {
             "colorbar": {
              "outlinewidth": 0,
              "ticks": ""
             }
            },
            "type": "scattergeo"
           }
          ],
          "scattergl": [
           {
            "marker": {
             "colorbar": {
              "outlinewidth": 0,
              "ticks": ""
             }
            },
            "type": "scattergl"
           }
          ],
          "scattermapbox": [
           {
            "marker": {
             "colorbar": {
              "outlinewidth": 0,
              "ticks": ""
             }
            },
            "type": "scattermapbox"
           }
          ],
          "scatterpolar": [
           {
            "marker": {
             "colorbar": {
              "outlinewidth": 0,
              "ticks": ""
             }
            },
            "type": "scatterpolar"
           }
          ],
          "scatterpolargl": [
           {
            "marker": {
             "colorbar": {
              "outlinewidth": 0,
              "ticks": ""
             }
            },
            "type": "scatterpolargl"
           }
          ],
          "scatterternary": [
           {
            "marker": {
             "colorbar": {
              "outlinewidth": 0,
              "ticks": ""
             }
            },
            "type": "scatterternary"
           }
          ],
          "surface": [
           {
            "colorbar": {
             "outlinewidth": 0,
             "ticks": ""
            },
            "colorscale": [
             [
              0,
              "#0d0887"
             ],
             [
              0.1111111111111111,
              "#46039f"
             ],
             [
              0.2222222222222222,
              "#7201a8"
             ],
             [
              0.3333333333333333,
              "#9c179e"
             ],
             [
              0.4444444444444444,
              "#bd3786"
             ],
             [
              0.5555555555555556,
              "#d8576b"
             ],
             [
              0.6666666666666666,
              "#ed7953"
             ],
             [
              0.7777777777777778,
              "#fb9f3a"
             ],
             [
              0.8888888888888888,
              "#fdca26"
             ],
             [
              1,
              "#f0f921"
             ]
            ],
            "type": "surface"
           }
          ],
          "table": [
           {
            "cells": {
             "fill": {
              "color": "#EBF0F8"
             },
             "line": {
              "color": "white"
             }
            },
            "header": {
             "fill": {
              "color": "#C8D4E3"
             },
             "line": {
              "color": "white"
             }
            },
            "type": "table"
           }
          ]
         },
         "layout": {
          "annotationdefaults": {
           "arrowcolor": "#2a3f5f",
           "arrowhead": 0,
           "arrowwidth": 1
          },
          "autotypenumbers": "strict",
          "coloraxis": {
           "colorbar": {
            "outlinewidth": 0,
            "ticks": ""
           }
          },
          "colorscale": {
           "diverging": [
            [
             0,
             "#8e0152"
            ],
            [
             0.1,
             "#c51b7d"
            ],
            [
             0.2,
             "#de77ae"
            ],
            [
             0.3,
             "#f1b6da"
            ],
            [
             0.4,
             "#fde0ef"
            ],
            [
             0.5,
             "#f7f7f7"
            ],
            [
             0.6,
             "#e6f5d0"
            ],
            [
             0.7,
             "#b8e186"
            ],
            [
             0.8,
             "#7fbc41"
            ],
            [
             0.9,
             "#4d9221"
            ],
            [
             1,
             "#276419"
            ]
           ],
           "sequential": [
            [
             0,
             "#0d0887"
            ],
            [
             0.1111111111111111,
             "#46039f"
            ],
            [
             0.2222222222222222,
             "#7201a8"
            ],
            [
             0.3333333333333333,
             "#9c179e"
            ],
            [
             0.4444444444444444,
             "#bd3786"
            ],
            [
             0.5555555555555556,
             "#d8576b"
            ],
            [
             0.6666666666666666,
             "#ed7953"
            ],
            [
             0.7777777777777778,
             "#fb9f3a"
            ],
            [
             0.8888888888888888,
             "#fdca26"
            ],
            [
             1,
             "#f0f921"
            ]
           ],
           "sequentialminus": [
            [
             0,
             "#0d0887"
            ],
            [
             0.1111111111111111,
             "#46039f"
            ],
            [
             0.2222222222222222,
             "#7201a8"
            ],
            [
             0.3333333333333333,
             "#9c179e"
            ],
            [
             0.4444444444444444,
             "#bd3786"
            ],
            [
             0.5555555555555556,
             "#d8576b"
            ],
            [
             0.6666666666666666,
             "#ed7953"
            ],
            [
             0.7777777777777778,
             "#fb9f3a"
            ],
            [
             0.8888888888888888,
             "#fdca26"
            ],
            [
             1,
             "#f0f921"
            ]
           ]
          },
          "colorway": [
           "#636efa",
           "#EF553B",
           "#00cc96",
           "#ab63fa",
           "#FFA15A",
           "#19d3f3",
           "#FF6692",
           "#B6E880",
           "#FF97FF",
           "#FECB52"
          ],
          "font": {
           "color": "#2a3f5f"
          },
          "geo": {
           "bgcolor": "white",
           "lakecolor": "white",
           "landcolor": "#E5ECF6",
           "showlakes": true,
           "showland": true,
           "subunitcolor": "white"
          },
          "hoverlabel": {
           "align": "left"
          },
          "hovermode": "closest",
          "mapbox": {
           "style": "light"
          },
          "paper_bgcolor": "white",
          "plot_bgcolor": "#E5ECF6",
          "polar": {
           "angularaxis": {
            "gridcolor": "white",
            "linecolor": "white",
            "ticks": ""
           },
           "bgcolor": "#E5ECF6",
           "radialaxis": {
            "gridcolor": "white",
            "linecolor": "white",
            "ticks": ""
           }
          },
          "scene": {
           "xaxis": {
            "backgroundcolor": "#E5ECF6",
            "gridcolor": "white",
            "gridwidth": 2,
            "linecolor": "white",
            "showbackground": true,
            "ticks": "",
            "zerolinecolor": "white"
           },
           "yaxis": {
            "backgroundcolor": "#E5ECF6",
            "gridcolor": "white",
            "gridwidth": 2,
            "linecolor": "white",
            "showbackground": true,
            "ticks": "",
            "zerolinecolor": "white"
           },
           "zaxis": {
            "backgroundcolor": "#E5ECF6",
            "gridcolor": "white",
            "gridwidth": 2,
            "linecolor": "white",
            "showbackground": true,
            "ticks": "",
            "zerolinecolor": "white"
           }
          },
          "shapedefaults": {
           "line": {
            "color": "#2a3f5f"
           }
          },
          "ternary": {
           "aaxis": {
            "gridcolor": "white",
            "linecolor": "white",
            "ticks": ""
           },
           "baxis": {
            "gridcolor": "white",
            "linecolor": "white",
            "ticks": ""
           },
           "bgcolor": "#E5ECF6",
           "caxis": {
            "gridcolor": "white",
            "linecolor": "white",
            "ticks": ""
           }
          },
          "title": {
           "x": 0.05
          },
          "xaxis": {
           "automargin": true,
           "gridcolor": "white",
           "linecolor": "white",
           "ticks": "",
           "title": {
            "standoff": 15
           },
           "zerolinecolor": "white",
           "zerolinewidth": 2
          },
          "yaxis": {
           "automargin": true,
           "gridcolor": "white",
           "linecolor": "white",
           "ticks": "",
           "title": {
            "standoff": 15
           },
           "zerolinecolor": "white",
           "zerolinewidth": 2
          }
         }
        },
        "title": {
         "font": {
          "color": "#D9D9D9"
         },
         "text": "GDP across major countries"
        },
        "xaxis": {
         "autorange": true,
         "gridcolor": "#434343",
         "range": [
          1995,
          2020
         ],
         "showgrid": true,
         "tickfont": {
          "color": "#C2C2C2"
         },
         "title": {
          "font": {
           "color": "#D9D9D9"
          },
          "text": "Year"
         },
         "type": "linear",
         "zerolinecolor": "#666570"
        },
        "yaxis": {
         "autorange": true,
         "gridcolor": "#434343",
         "range": [
          -11.124745989055647,
          15.565366557318718
         ],
         "showgrid": true,
         "tickfont": {
          "color": "#C2C2C2"
         },
         "title": {
          "font": {
           "color": "#D9D9D9"
          },
          "text": "GDP (% change)"
         },
         "type": "linear",
         "zerolinecolor": "#666570"
        }
       }
      },
      "image/png": "[encoded data removed]",
      "text/html": [
       "<div>                            <div id=\"c10a7ebd-9383-4655-8d12-9827163a1e1d\" class=\"plotly-graph-div\" style=\"height:525px; width:100%;\"></div>            <script type=\"text/javascript\">                require([\"plotly\"], function(Plotly) {                    window.PLOTLYENV=window.PLOTLYENV || {};\n",
       "                    window.PLOTLYENV.BASE_URL='https://plot.ly';                                    if (document.getElementById(\"c10a7ebd-9383-4655-8d12-9827163a1e1d\")) {                    Plotly.newPlot(                        \"c10a7ebd-9383-4655-8d12-9827163a1e1d\",                        [{\"line\": {\"color\": \"rgba(255, 153, 51, 1.0)\", \"dash\": \"dash\", \"shape\": \"linear\", \"width\": 1.3}, \"mode\": \"lines\", \"name\": \"Australia\", \"text\": \"\", \"type\": \"scatter\", \"x\": [1995, 1996, 1997, 1998, 1999, 2000, 2001, 2002, 2003, 2004, 2005, 2006, 2007, 2008, 2009, 2010, 2011, 2012, 2013, 2014, 2015, 2016, 2017, 2018, 2019, 2020], \"y\": [3.8377552930000003, 3.878585293, 3.966537662, 4.576688759, 5.073599095, 3.933136945, 1.930857592, 4.001404062, 2.985934322, 4.055451968, 3.204269793, 2.794537024, 3.8442303160000004, 3.6579535260000013, 1.93699392, 2.067417128, 2.462756312, 3.9181628710000003, 2.5848977019999997, 2.533114665, 2.1926474259999997, 2.770652197, 2.300610624, 2.949285772, 2.160956295, -0.284839297785609]}, {\"line\": {\"color\": \"rgba(55, 128, 191, 1.0)\", \"dash\": \"dash\", \"shape\": \"linear\", \"width\": 1.3}, \"mode\": \"lines\", \"name\": \"Canada\", \"text\": \"\", \"type\": \"scatter\", \"x\": [1995, 1996, 1997, 1998, 1999, 2000, 2001, 2002, 2003, 2004, 2005, 2006, 2007, 2008, 2009, 2010, 2011, 2012, 2013, 2014, 2015, 2016, 2017, 2018, 2019, 2020], \"y\": [2.6939762860000003, 1.61917249, -3.845294416, 2.79654248, 3.970482637, 4.917762744, 1.405527589, 3.422146171, 3.8110901530000003, 3.914028782, 4.9958608689999995, 4.165817627, 6.868608857000001, 1.007622695, -2.928400167, 3.08949462, 3.1468813719999997, 1.762222549, 2.329122506, 2.870036075, 0.659176864, 1.001394414, 3.1707298969999997, 2.013639187, 1.656040845, -5.40279855256868]}, {\"line\": {\"color\": \"rgba(50, 171, 96, 1.0)\", \"dash\": \"dash\", \"shape\": \"linear\", \"width\": 1.3}, \"mode\": \"lines\", \"name\": \"China\", \"text\": \"\", \"type\": \"scatter\", \"x\": [1995, 1996, 1997, 1998, 1999, 2000, 2001, 2002, 2003, 2004, 2005, 2006, 2007, 2008, 2009, 2010, 2011, 2012, 2013, 2014, 2015, 2016, 2017, 2018, 2019, 2020], \"y\": [10.95395434, 9.922556753, 9.236779892000001, 7.845951787000001, 7.6616515, 8.490093406, 8.335733478, 9.13363079, 10.03803048, 10.11362138, 11.39459181, 12.72095567, 14.23086093, 9.650678919, 9.398725633, 10.63587106, 9.550832179, 7.863736449, 7.766150098, 7.425763656, 7.041328879, 6.848762205, 6.9472007929999995, 6.749773833, 5.949714233, 2.29999999998371]}, {\"line\": {\"color\": \"rgba(128, 0, 128, 1.0)\", \"dash\": \"dash\", \"shape\": \"linear\", \"width\": 1.3}, \"mode\": \"lines\", \"name\": \"European Union\", \"text\": \"\", \"type\": \"scatter\", \"x\": [1995, 1996, 1997, 1998, 1999, 2000, 2001, 2002, 2003, 2004, 2005, 2006, 2007, 2008, 2009, 2010, 2011, 2012, 2013, 2014, 2015, 2016, 2017, 2018, 2019, 2020], \"y\": [2.673207525, 1.892917255, 2.664015312, 3.018680748, 2.958699937, 3.903211797, 2.184364392, 1.1239428870000001, 0.930532658, 2.594947904, 1.9340448940000001, 3.494275968, 3.15247294, 0.644918094, -4.325825805, 2.20972967, 1.83195467, -0.7518309759999999, -0.055313392999999995, 1.5729427569999999, 2.30060265, 2.0447370680000003, 2.789165217, 2.118239984, 1.554264954, -6.1]}, {\"line\": {\"color\": \"rgba(219, 64, 82, 1.0)\", \"dash\": \"dash\", \"shape\": \"linear\", \"width\": 1.3}, \"mode\": \"lines\", \"name\": \"United Kingdom\", \"text\": \"\", \"type\": \"scatter\", \"x\": [1995, 1996, 1997, 1998, 1999, 2000, 2001, 2002, 2003, 2004, 2005, 2006, 2007, 2008, 2009, 2010, 2011, 2012, 2013, 2014, 2015, 2016, 2017, 2018, 2019, 2020], \"y\": [2.531670037, 2.49153318, 3.8548299910000003, 3.6448533960000002, 3.428223328, 3.4374716289999996, 2.974363653, 2.324351122, 3.28637759, 2.3739514280000003, 3.179728893, 2.7883245660000004, 2.430553201, -0.281153556, -4.247821763, 1.949521464, 1.5401474030000002, 1.478923924, 2.139485718, 2.607475901, 2.355524306, 1.9181551319999999, 1.892077007, 1.340720602, 1.4626582019999999, -9.79024036173693]}, {\"line\": {\"color\": \"rgba(0, 128, 128, 1.0)\", \"dash\": \"dash\", \"shape\": \"linear\", \"width\": 1.3}, \"mode\": \"lines\", \"name\": \"India\", \"text\": \"\", \"type\": \"scatter\", \"x\": [1995, 1996, 1997, 1998, 1999, 2000, 2001, 2002, 2003, 2004, 2005, 2006, 2007, 2008, 2009, 2010, 2011, 2012, 2013, 2014, 2015, 2016, 2017, 2018, 2019, 2020], \"y\": [7.57449184, 7.549522249, 4.049820849, 6.184415821, 8.845755561, 3.840991157, 4.823966264, 3.8039753210000002, 7.8603814760000015, 7.922936612999999, 7.9234306210000005, 8.060732573, 7.660815065, 3.08669806, 7.861888832999999, 8.497584702000001, 5.241344743, 5.456358951, 6.386106401, 7.410227605, 7.996253444, 8.256305844, 7.043820855, 6.119586841, 4.180727625, -7.9646104111382]}, {\"line\": {\"color\": \"rgba(255, 255, 51, 1.0)\", \"dash\": \"dash\", \"shape\": \"linear\", \"width\": 1.3}, \"mode\": \"lines\", \"name\": \"Korea, Rep.\", \"text\": \"\", \"type\": \"scatter\", \"x\": [1995, 1996, 1997, 1998, 1999, 2000, 2001, 2002, 2003, 2004, 2005, 2006, 2007, 2008, 2009, 2010, 2011, 2012, 2013, 2014, 2015, 2016, 2017, 2018, 2019, 2020], \"y\": [9.614565393, 7.8907033260000015, 6.1705524270000005, -5.129448165, 11.46694243, 9.060833325, 4.8523995719999995, 7.725142675, 3.1472911939999997, 5.197391363, 4.308542714, 5.264326595, 5.799548415, 3.012984873, 0.79269899, 6.804824918, 3.685667782, 2.402530992, 3.1647086360000003, 3.202453795, 2.8091032680000003, 2.946881715, 3.15963574, 2.9074037739999996, 2.039348227, -0.9577662235252971]}, {\"line\": {\"color\": \"rgba(128, 128, 0, 1.0)\", \"dash\": \"dash\", \"shape\": \"linear\", \"width\": 1.3}, \"mode\": \"lines\", \"name\": \"United States\", \"text\": \"\", \"type\": \"scatter\", \"x\": [1995, 1996, 1997, 1998, 1999, 2000, 2001, 2002, 2003, 2004, 2005, 2006, 2007, 2008, 2009, 2010, 2011, 2012, 2013, 2014, 2015, 2016, 2017, 2018, 2019, 2020], \"y\": [2.684287134, 3.77250132, 4.44721634, 4.481407553, 4.753235991, 4.127484011, 0.9983408000000001, 1.7416952430000001, 2.8612107719999997, 3.798891123, 3.513213796, 2.8549722980000003, 1.876171455, -0.136579804, -2.53675707, 2.563766563, 1.5508355040000001, 2.249545851, 1.84208107, 2.52597345, 2.9080218610000004, 1.637838457, 2.369800784, 2.927325732, 2.161176288, -3.4861395571142997]}],                        {\"legend\": {\"bgcolor\": \"#151516\", \"font\": {\"color\": \"#D9D9D9\"}}, \"paper_bgcolor\": \"#151516\", \"plot_bgcolor\": \"#151516\", \"template\": {\"data\": {\"bar\": [{\"error_x\": {\"color\": \"#2a3f5f\"}, \"error_y\": {\"color\": \"#2a3f5f\"}, \"marker\": {\"line\": {\"color\": \"#E5ECF6\", \"width\": 0.5}}, \"type\": \"bar\"}], \"barpolar\": [{\"marker\": {\"line\": {\"color\": \"#E5ECF6\", \"width\": 0.5}}, \"type\": \"barpolar\"}], \"carpet\": [{\"aaxis\": {\"endlinecolor\": \"#2a3f5f\", \"gridcolor\": \"white\", \"linecolor\": \"white\", \"minorgridcolor\": \"white\", \"startlinecolor\": \"#2a3f5f\"}, \"baxis\": {\"endlinecolor\": \"#2a3f5f\", \"gridcolor\": \"white\", \"linecolor\": \"white\", \"minorgridcolor\": \"white\", \"startlinecolor\": \"#2a3f5f\"}, \"type\": \"carpet\"}], \"choropleth\": [{\"colorbar\": {\"outlinewidth\": 0, \"ticks\": \"\"}, \"type\": \"choropleth\"}], \"contour\": [{\"colorbar\": {\"outlinewidth\": 0, \"ticks\": \"\"}, \"colorscale\": [[0.0, \"#0d0887\"], [0.1111111111111111, \"#46039f\"], [0.2222222222222222, \"#7201a8\"], [0.3333333333333333, \"#9c179e\"], [0.4444444444444444, \"#bd3786\"], [0.5555555555555556, \"#d8576b\"], [0.6666666666666666, \"#ed7953\"], [0.7777777777777778, \"#fb9f3a\"], [0.8888888888888888, \"#fdca26\"], [1.0, \"#f0f921\"]], \"type\": \"contour\"}], \"contourcarpet\": [{\"colorbar\": {\"outlinewidth\": 0, \"ticks\": \"\"}, \"type\": \"contourcarpet\"}], \"heatmap\": [{\"colorbar\": {\"outlinewidth\": 0, \"ticks\": \"\"}, \"colorscale\": [[0.0, \"#0d0887\"], [0.1111111111111111, \"#46039f\"], [0.2222222222222222, \"#7201a8\"], [0.3333333333333333, \"#9c179e\"], [0.4444444444444444, \"#bd3786\"], [0.5555555555555556, \"#d8576b\"], [0.6666666666666666, \"#ed7953\"], [0.7777777777777778, \"#fb9f3a\"], [0.8888888888888888, \"#fdca26\"], [1.0, \"#f0f921\"]], \"type\": \"heatmap\"}], \"heatmapgl\": [{\"colorbar\": {\"outlinewidth\": 0, \"ticks\": \"\"}, \"colorscale\": [[0.0, \"#0d0887\"], [0.1111111111111111, \"#46039f\"], [0.2222222222222222, \"#7201a8\"], [0.3333333333333333, \"#9c179e\"], [0.4444444444444444, \"#bd3786\"], [0.5555555555555556, \"#d8576b\"], [0.6666666666666666, \"#ed7953\"], [0.7777777777777778, \"#fb9f3a\"], [0.8888888888888888, \"#fdca26\"], [1.0, \"#f0f921\"]], \"type\": \"heatmapgl\"}], \"histogram\": [{\"marker\": {\"colorbar\": {\"outlinewidth\": 0, \"ticks\": \"\"}}, \"type\": \"histogram\"}], \"histogram2d\": [{\"colorbar\": {\"outlinewidth\": 0, \"ticks\": \"\"}, \"colorscale\": [[0.0, \"#0d0887\"], [0.1111111111111111, \"#46039f\"], [0.2222222222222222, \"#7201a8\"], [0.3333333333333333, \"#9c179e\"], [0.4444444444444444, \"#bd3786\"], [0.5555555555555556, \"#d8576b\"], [0.6666666666666666, \"#ed7953\"], [0.7777777777777778, \"#fb9f3a\"], [0.8888888888888888, \"#fdca26\"], [1.0, \"#f0f921\"]], \"type\": \"histogram2d\"}], \"histogram2dcontour\": [{\"colorbar\": {\"outlinewidth\": 0, \"ticks\": \"\"}, \"colorscale\": [[0.0, \"#0d0887\"], [0.1111111111111111, \"#46039f\"], [0.2222222222222222, \"#7201a8\"], [0.3333333333333333, \"#9c179e\"], [0.4444444444444444, \"#bd3786\"], [0.5555555555555556, \"#d8576b\"], [0.6666666666666666, \"#ed7953\"], [0.7777777777777778, \"#fb9f3a\"], [0.8888888888888888, \"#fdca26\"], [1.0, \"#f0f921\"]], \"type\": \"histogram2dcontour\"}], \"mesh3d\": [{\"colorbar\": {\"outlinewidth\": 0, \"ticks\": \"\"}, \"type\": \"mesh3d\"}], \"parcoords\": [{\"line\": {\"colorbar\": {\"outlinewidth\": 0, \"ticks\": \"\"}}, \"type\": \"parcoords\"}], \"pie\": [{\"automargin\": true, \"type\": \"pie\"}], \"scatter\": [{\"marker\": {\"colorbar\": {\"outlinewidth\": 0, \"ticks\": \"\"}}, \"type\": \"scatter\"}], \"scatter3d\": [{\"line\": {\"colorbar\": {\"outlinewidth\": 0, \"ticks\": \"\"}}, \"marker\": {\"colorbar\": {\"outlinewidth\": 0, \"ticks\": \"\"}}, \"type\": \"scatter3d\"}], \"scattercarpet\": [{\"marker\": {\"colorbar\": {\"outlinewidth\": 0, \"ticks\": \"\"}}, \"type\": \"scattercarpet\"}], \"scattergeo\": [{\"marker\": {\"colorbar\": {\"outlinewidth\": 0, \"ticks\": \"\"}}, \"type\": \"scattergeo\"}], \"scattergl\": [{\"marker\": {\"colorbar\": {\"outlinewidth\": 0, \"ticks\": \"\"}}, \"type\": \"scattergl\"}], \"scattermapbox\": [{\"marker\": {\"colorbar\": {\"outlinewidth\": 0, \"ticks\": \"\"}}, \"type\": \"scattermapbox\"}], \"scatterpolar\": [{\"marker\": {\"colorbar\": {\"outlinewidth\": 0, \"ticks\": \"\"}}, \"type\": \"scatterpolar\"}], \"scatterpolargl\": [{\"marker\": {\"colorbar\": {\"outlinewidth\": 0, \"ticks\": \"\"}}, \"type\": \"scatterpolargl\"}], \"scatterternary\": [{\"marker\": {\"colorbar\": {\"outlinewidth\": 0, \"ticks\": \"\"}}, \"type\": \"scatterternary\"}], \"surface\": [{\"colorbar\": {\"outlinewidth\": 0, \"ticks\": \"\"}, \"colorscale\": [[0.0, \"#0d0887\"], [0.1111111111111111, \"#46039f\"], [0.2222222222222222, \"#7201a8\"], [0.3333333333333333, \"#9c179e\"], [0.4444444444444444, \"#bd3786\"], [0.5555555555555556, \"#d8576b\"], [0.6666666666666666, \"#ed7953\"], [0.7777777777777778, \"#fb9f3a\"], [0.8888888888888888, \"#fdca26\"], [1.0, \"#f0f921\"]], \"type\": \"surface\"}], \"table\": [{\"cells\": {\"fill\": {\"color\": \"#EBF0F8\"}, \"line\": {\"color\": \"white\"}}, \"header\": {\"fill\": {\"color\": \"#C8D4E3\"}, \"line\": {\"color\": \"white\"}}, \"type\": \"table\"}]}, \"layout\": {\"annotationdefaults\": {\"arrowcolor\": \"#2a3f5f\", \"arrowhead\": 0, \"arrowwidth\": 1}, \"autotypenumbers\": \"strict\", \"coloraxis\": {\"colorbar\": {\"outlinewidth\": 0, \"ticks\": \"\"}}, \"colorscale\": {\"diverging\": [[0, \"#8e0152\"], [0.1, \"#c51b7d\"], [0.2, \"#de77ae\"], [0.3, \"#f1b6da\"], [0.4, \"#fde0ef\"], [0.5, \"#f7f7f7\"], [0.6, \"#e6f5d0\"], [0.7, \"#b8e186\"], [0.8, \"#7fbc41\"], [0.9, \"#4d9221\"], [1, \"#276419\"]], \"sequential\": [[0.0, \"#0d0887\"], [0.1111111111111111, \"#46039f\"], [0.2222222222222222, \"#7201a8\"], [0.3333333333333333, \"#9c179e\"], [0.4444444444444444, \"#bd3786\"], [0.5555555555555556, \"#d8576b\"], [0.6666666666666666, \"#ed7953\"], [0.7777777777777778, \"#fb9f3a\"], [0.8888888888888888, \"#fdca26\"], [1.0, \"#f0f921\"]], \"sequentialminus\": [[0.0, \"#0d0887\"], [0.1111111111111111, \"#46039f\"], [0.2222222222222222, \"#7201a8\"], [0.3333333333333333, \"#9c179e\"], [0.4444444444444444, \"#bd3786\"], [0.5555555555555556, \"#d8576b\"], [0.6666666666666666, \"#ed7953\"], [0.7777777777777778, \"#fb9f3a\"], [0.8888888888888888, \"#fdca26\"], [1.0, \"#f0f921\"]]}, \"colorway\": [\"#636efa\", \"#EF553B\", \"#00cc96\", \"#ab63fa\", \"#FFA15A\", \"#19d3f3\", \"#FF6692\", \"#B6E880\", \"#FF97FF\", \"#FECB52\"], \"font\": {\"color\": \"#2a3f5f\"}, \"geo\": {\"bgcolor\": \"white\", \"lakecolor\": \"white\", \"landcolor\": \"#E5ECF6\", \"showlakes\": true, \"showland\": true, \"subunitcolor\": \"white\"}, \"hoverlabel\": {\"align\": \"left\"}, \"hovermode\": \"closest\", \"mapbox\": {\"style\": \"light\"}, \"paper_bgcolor\": \"white\", \"plot_bgcolor\": \"#E5ECF6\", \"polar\": {\"angularaxis\": {\"gridcolor\": \"white\", \"linecolor\": \"white\", \"ticks\": \"\"}, \"bgcolor\": \"#E5ECF6\", \"radialaxis\": {\"gridcolor\": \"white\", \"linecolor\": \"white\", \"ticks\": \"\"}}, \"scene\": {\"xaxis\": {\"backgroundcolor\": \"#E5ECF6\", \"gridcolor\": \"white\", \"gridwidth\": 2, \"linecolor\": \"white\", \"showbackground\": true, \"ticks\": \"\", \"zerolinecolor\": \"white\"}, \"yaxis\": {\"backgroundcolor\": \"#E5ECF6\", \"gridcolor\": \"white\", \"gridwidth\": 2, \"linecolor\": \"white\", \"showbackground\": true, \"ticks\": \"\", \"zerolinecolor\": \"white\"}, \"zaxis\": {\"backgroundcolor\": \"#E5ECF6\", \"gridcolor\": \"white\", \"gridwidth\": 2, \"linecolor\": \"white\", \"showbackground\": true, \"ticks\": \"\", \"zerolinecolor\": \"white\"}}, \"shapedefaults\": {\"line\": {\"color\": \"#2a3f5f\"}}, \"ternary\": {\"aaxis\": {\"gridcolor\": \"white\", \"linecolor\": \"white\", \"ticks\": \"\"}, \"baxis\": {\"gridcolor\": \"white\", \"linecolor\": \"white\", \"ticks\": \"\"}, \"bgcolor\": \"#E5ECF6\", \"caxis\": {\"gridcolor\": \"white\", \"linecolor\": \"white\", \"ticks\": \"\"}}, \"title\": {\"x\": 0.05}, \"xaxis\": {\"automargin\": true, \"gridcolor\": \"white\", \"linecolor\": \"white\", \"ticks\": \"\", \"title\": {\"standoff\": 15}, \"zerolinecolor\": \"white\", \"zerolinewidth\": 2}, \"yaxis\": {\"automargin\": true, \"gridcolor\": \"white\", \"linecolor\": \"white\", \"ticks\": \"\", \"title\": {\"standoff\": 15}, \"zerolinecolor\": \"white\", \"zerolinewidth\": 2}}}, \"title\": {\"font\": {\"color\": \"#D9D9D9\"}, \"text\": \"GDP across major countries\"}, \"xaxis\": {\"gridcolor\": \"#434343\", \"showgrid\": true, \"tickfont\": {\"color\": \"#C2C2C2\"}, \"title\": {\"font\": {\"color\": \"#D9D9D9\"}, \"text\": \"Year\"}, \"zerolinecolor\": \"#666570\"}, \"yaxis\": {\"gridcolor\": \"#434343\", \"showgrid\": true, \"tickfont\": {\"color\": \"#C2C2C2\"}, \"title\": {\"font\": {\"color\": \"#D9D9D9\"}, \"text\": \"GDP (% change)\"}, \"zerolinecolor\": \"#666570\"}},                        {\"showLink\": true, \"linkText\": \"Export to plot.ly\", \"plotlyServerURL\": \"https://plot.ly\", \"responsive\": true}                    ).then(function(){\n",
       "                            \n",
       "var gd = document.getElementById('c10a7ebd-9383-4655-8d12-9827163a1e1d');\n",
       "var x = new MutationObserver(function (mutations, observer) {{\n",
       "        var display = window.getComputedStyle(gd).display;\n",
       "        if (!display || display === 'none') {{\n",
       "            console.log([gd, 'removed!']);\n",
       "            Plotly.purge(gd);\n",
       "            observer.disconnect();\n",
       "        }}\n",
       "}});\n",
       "\n",
       "// Listen for the removal of the full notebook cells\n",
       "var notebookContainer = gd.closest('#notebook-container');\n",
       "if (notebookContainer) {{\n",
       "    x.observe(notebookContainer, {childList: true});\n",
       "}}\n",
       "\n",
       "// Listen for the clearing of the current output cell\n",
       "var outputEl = gd.closest('.output');\n",
       "if (outputEl) {{\n",
       "    x.observe(outputEl, {childList: true});\n",
       "}}\n",
       "\n",
       "                        })                };                });            </script>        </div>"
      ]
     },
     "metadata": {},
     "output_type": "display_data"
    }
   ],
   "source": [
    "gdp_iplot = gdp_new.iplot(kind='line',\n",
    "                          dash='dash',\n",
    "                          title=\"GDP across major countries\",\n",
    "                          xTitle=\"Year\",\n",
    "                          yTitle='GDP (% change)')"
   ]
  },
  {
   "cell_type": "code",
   "execution_count": 201,
   "id": "cd345553",
   "metadata": {},
   "outputs": [
    {
     "data": {},
     "metadata": {},
     "output_type": "display_data"
    },
    {
     "data": {
      "application/vnd.holoviews_exec.v0+json": "",
      "text/html": [
       "<div id='15002'>\n",
       "\n",
       "\n",
       "\n",
       "\n",
       "\n",
       "  <div class=\"bk-root\" id=\"5edb5752-8614-439e-9c18-6e05bb4f5f1e\" data-root-id=\"15002\"></div>\n",
       "</div>\n",
       "<script type=\"application/javascript\">(function(root) {\n",
       "  function embed_document(root) {\n",
       "    var docs_json = {\"ae844cbf-c322-4aa3-b835-c36dca423beb\":{\"defs\":[],\"roots\":{\"references\":[{\"attributes\":{\"client_comm_id\":\"1b7dfbc57caf4508b565bd5483a45279\",\"comm_id\":\"30ac9349a5004330b23d5cadd63098fa\",\"plot_id\":\"15002\"},\"id\":\"15950\",\"type\":\"panel.models.comm_manager.CommManager\"},{\"attributes\":{\"data_source\":{\"id\":\"15093\"},\"glyph\":{\"id\":\"15096\"},\"hover_glyph\":null,\"muted_glyph\":{\"id\":\"15098\"},\"nonselection_glyph\":{\"id\":\"15097\"},\"selection_glyph\":{\"id\":\"15116\"},\"view\":{\"id\":\"15100\"}},\"id\":\"15099\",\"type\":\"GlyphRenderer\"},{\"attributes\":{},\"id\":\"15476\",\"type\":\"CategoricalTickFormatter\"},{\"attributes\":{\"fill_alpha\":{\"value\":0.2},\"fill_color\":{\"field\":\"Variable\",\"transform\":{\"id\":\"15466\"}},\"line_alpha\":{\"value\":0.2},\"top\":{\"field\":\"value\"},\"width\":{\"value\":0.8},\"x\":{\"field\":\"xoffsets\"}},\"id\":\"15472\",\"type\":\"VBar\"},{\"attributes\":{\"end\":2020.0,\"reset_end\":2020.0,\"reset_start\":1995.0,\"start\":1995.0,\"tags\":[[[\"Year\",\"Year\",null]]]},\"id\":\"15004\",\"type\":\"Range1d\"},{\"attributes\":{\"line_color\":\"#6d904f\",\"line_width\":2,\"x\":{\"field\":\"Year\"},\"y\":{\"field\":\"value\"}},\"id\":\"15120\",\"type\":\"Line\"},{\"attributes\":{\"fill_alpha\":{\"value\":0.1},\"fill_color\":{\"field\":\"Variable\",\"transform\":{\"id\":\"15466\"}},\"line_alpha\":{\"value\":0.1},\"top\":{\"field\":\"value\"},\"width\":{\"value\":0.8},\"x\":{\"field\":\"xoffsets\"}},\"id\":\"15471\",\"type\":\"VBar\"},{\"attributes\":{\"line_alpha\":0.2,\"line_color\":\"#30a2da\",\"line_width\":2,\"x\":{\"field\":\"Year\"},\"y\":{\"field\":\"value\"}},\"id\":\"15055\",\"type\":\"Line\"},{\"attributes\":{\"bottom\":{\"value\":0},\"fill_alpha\":{\"value\":1.0},\"fill_color\":{\"field\":\"Variable\",\"transform\":{\"id\":\"15466\"}},\"hatch_alpha\":{\"value\":1.0},\"hatch_color\":{\"value\":\"black\"},\"hatch_scale\":{\"value\":12.0},\"hatch_weight\":{\"value\":1.0},\"line_alpha\":{\"value\":1.0},\"line_cap\":{\"value\":\"butt\"},\"line_color\":{\"value\":\"black\"},\"line_dash\":{\"value\":[]},\"line_dash_offset\":{\"value\":0},\"line_join\":{\"value\":\"bevel\"},\"line_width\":{\"value\":1},\"top\":{\"field\":\"value\"},\"width\":{\"value\":0.8},\"x\":{\"field\":\"xoffsets\"}},\"id\":\"15475\",\"type\":\"VBar\"},{\"attributes\":{\"fill_color\":{\"field\":\"Variable\",\"transform\":{\"id\":\"15466\"}},\"top\":{\"field\":\"value\"},\"width\":{\"value\":0.8},\"x\":{\"field\":\"xoffsets\"}},\"id\":\"15470\",\"type\":\"VBar\"},{\"attributes\":{\"axis_label\":\"\",\"formatter\":{\"id\":\"15480\"},\"major_label_policy\":{\"id\":\"15481\"},\"ticker\":{\"id\":\"15450\"}},\"id\":\"15449\",\"type\":\"LinearAxis\"},{\"attributes\":{\"data\":{\"Variable\":[\"Australia\",\"Australia\",\"Australia\",\"Australia\",\"Australia\",\"Australia\",\"Australia\",\"Australia\",\"Australia\",\"Australia\",\"Australia\",\"Australia\",\"Australia\",\"Australia\",\"Australia\",\"Australia\",\"Australia\",\"Australia\",\"Australia\",\"Australia\",\"Australia\",\"Australia\",\"Australia\",\"Australia\",\"Australia\",\"Australia\"],\"Year\":[1995,1996,1997,1998,1999,2000,2001,2002,2003,2004,2005,2006,2007,2008,2009,2010,2011,2012,2013,2014,2015,2016,2017,2018,2019,2020],\"value\":{\"__ndarray__\":\"H+MLDLmzDkDfc+G5VwcPQG8jBRl4uw9A2IB/f4dOEkApKaiPXUsUQP62q4AQdw9AFfkt7srk/j95fAERcAEQQJPzp4gx4wdAQDyUZsg4EEAs94MzWKIJQE9ULDo2WwZADxjs0vvADkDDqWMjfUMNQKQ2L1bt/f4/G5q//RGKAEDoddCUubMDQJHFesZlWA9AscOs2N6tBEBBixmf0UMEQO6g0ruKigFA96T1sksqBkD+R/eKpmcCQIliiiMjmAdA9OE4dKNJAUD6tCabzjrSvw==\",\"dtype\":\"float64\",\"order\":\"little\",\"shape\":[26]}},\"selected\":{\"id\":\"15051\"},\"selection_policy\":{\"id\":\"15066\"}},\"id\":\"15050\",\"type\":\"ColumnDataSource\"},{\"attributes\":{\"line_color\":\"#30a2da\",\"line_width\":2,\"x\":{\"field\":\"Year\"},\"y\":{\"field\":\"value\"}},\"id\":\"15053\",\"type\":\"Line\"},{\"attributes\":{\"data\":{\"Variable\":[\"Korea, Rep.\",\"Korea, Rep.\",\"Korea, Rep.\",\"Korea, Rep.\",\"Korea, Rep.\",\"Korea, Rep.\",\"Korea, Rep.\",\"Korea, Rep.\",\"Korea, Rep.\",\"Korea, Rep.\",\"Korea, Rep.\",\"Korea, Rep.\",\"Korea, Rep.\",\"Korea, Rep.\",\"Korea, Rep.\",\"Korea, Rep.\",\"Korea, Rep.\",\"Korea, Rep.\",\"Korea, Rep.\",\"Korea, Rep.\",\"Korea, Rep.\",\"Korea, Rep.\",\"Korea, Rep.\",\"Korea, Rep.\",\"Korea, Rep.\",\"Korea, Rep.\"],\"Year\":[1995,1996,1997,1998,1999,2000,2001,2002,2003,2004,2005,2006,2007,2008,2009,2010,2011,2012,2013,2014,2015,2016,2017,2018,2019,2020],\"value\":{\"__ndarray__\":\"dGCwUKg6I0AJb16IFJAfQKzfoEulrhhAEc9MD46EFMD27QMUE+8mQI7DqoslHyJAJHXzbttoE0BfPCjNi+YeQBXAaQGnLQlAN2Qi9iDKFEBCMgif8jsRQMDzg6GrDhVAfPnX0bwyF0CPBSfQlxoIQFHps0XKXek/dkP3BSQ4G0AJ49xjP3wNQKohMitiOANAAOnnwlJRCUAHz2MYoJ4JQH4sWSILeQZA2Nd4uDaTB0ADlVQa70YJQJrG7OhcQgdA9fagzZVQAEB+JehZBabuvw==\",\"dtype\":\"float64\",\"order\":\"little\",\"shape\":[26]}},\"selected\":{\"id\":\"15202\"},\"selection_policy\":{\"id\":\"15229\"}},\"id\":\"15201\",\"type\":\"ColumnDataSource\"},{\"attributes\":{\"label\":{\"value\":\"China\"},\"renderers\":[{\"id\":\"15099\"}]},\"id\":\"15115\",\"type\":\"LegendItem\"},{\"attributes\":{\"margin\":[5,5,5,5],\"name\":\"VSpacer63568\",\"sizing_mode\":\"stretch_height\"},\"id\":\"15847\",\"type\":\"Spacer\"},{\"attributes\":{\"text_color\":\"black\",\"text_font_size\":\"12pt\"},\"id\":\"15438\",\"type\":\"Title\"},{\"attributes\":{},\"id\":\"15447\",\"type\":\"CategoricalTicker\"},{\"attributes\":{\"active_multi\":null,\"tools\":[{\"id\":\"15006\"},{\"id\":\"15031\"},{\"id\":\"15032\"},{\"id\":\"15033\"},{\"id\":\"15034\"},{\"id\":\"15035\"}]},\"id\":\"15037\",\"type\":\"Toolbar\"},{\"attributes\":{},\"id\":\"15468\",\"type\":\"Selection\"},{\"attributes\":{},\"id\":\"15481\",\"type\":\"AllLabels\"},{\"attributes\":{\"overlay\":{\"id\":\"15458\"}},\"id\":\"15456\",\"type\":\"BoxZoomTool\"},{\"attributes\":{},\"id\":\"15454\",\"type\":\"PanTool\"},{\"attributes\":{\"below\":[{\"id\":\"15446\"}],\"center\":[{\"id\":\"15448\"},{\"id\":\"15452\"}],\"height\":300,\"left\":[{\"id\":\"15449\"}],\"margin\":null,\"min_border_bottom\":10,\"min_border_left\":10,\"min_border_right\":10,\"min_border_top\":10,\"renderers\":[{\"id\":\"15473\"}],\"sizing_mode\":\"fixed\",\"title\":{\"id\":\"15438\"},\"toolbar\":{\"id\":\"15459\"},\"toolbar_location\":null,\"width\":700,\"x_range\":{\"id\":\"15435\"},\"x_scale\":{\"id\":\"15442\"},\"y_range\":{\"id\":\"15005\"},\"y_scale\":{\"id\":\"15444\"}},\"id\":\"15437\",\"subtype\":\"Figure\",\"type\":\"Plot\"},{\"attributes\":{},\"id\":\"15024\",\"type\":\"BasicTicker\"},{\"attributes\":{\"data_source\":{\"id\":\"15467\"},\"glyph\":{\"id\":\"15470\"},\"hover_glyph\":null,\"muted_glyph\":{\"id\":\"15472\"},\"nonselection_glyph\":{\"id\":\"15471\"},\"selection_glyph\":{\"id\":\"15475\"},\"view\":{\"id\":\"15474\"}},\"id\":\"15473\",\"type\":\"GlyphRenderer\"},{\"attributes\":{\"line_color\":\"#e5ae38\",\"line_width\":2,\"x\":{\"field\":\"Year\"},\"y\":{\"field\":\"value\"}},\"id\":\"15116\",\"type\":\"Line\"},{\"attributes\":{\"children\":[{\"id\":\"15844\"},{\"id\":\"15845\"},{\"id\":\"15847\"}],\"margin\":[0,0,0,0],\"name\":\"Column63569\"},\"id\":\"15843\",\"type\":\"Column\"},{\"attributes\":{\"source\":{\"id\":\"15467\"}},\"id\":\"15474\",\"type\":\"CDSView\"},{\"attributes\":{},\"id\":\"15455\",\"type\":\"WheelZoomTool\"},{\"attributes\":{\"margin\":[20,20,20,20],\"min_width\":250,\"options\":[\"1995\",\"1996\",\"1997\",\"1998\",\"1999\",\"2000\",\"2001\",\"2002\",\"2003\",\"2004\",\"2005\",\"2006\",\"2007\",\"2008\",\"2009\",\"2010\",\"2011\",\"2012\",\"2013\",\"2014\",\"2015\",\"2016\",\"2017\",\"2018\",\"2019\",\"2020\"],\"title\":\"Year\",\"value\":\"1995\",\"width\":250},\"id\":\"15846\",\"type\":\"Select\"},{\"attributes\":{\"axis_label\":\"\",\"formatter\":{\"id\":\"15476\"},\"major_label_policy\":{\"id\":\"15477\"},\"ticker\":{\"id\":\"15447\"}},\"id\":\"15446\",\"type\":\"CategoricalAxis\"},{\"attributes\":{\"axis\":{\"id\":\"15446\"},\"grid_line_color\":null,\"ticker\":null},\"id\":\"15448\",\"type\":\"Grid\"},{\"attributes\":{\"children\":[{\"id\":\"15003\"},{\"id\":\"15523\"},{\"id\":\"15842\"},{\"id\":\"15843\"}],\"margin\":[0,0,0,0],\"name\":\"Row63561\"},\"id\":\"15002\",\"type\":\"Row\"},{\"attributes\":{},\"id\":\"15113\",\"type\":\"UnionRenderers\"},{\"attributes\":{\"line_alpha\":0.1,\"line_color\":\"#30a2da\",\"line_width\":2,\"x\":{\"field\":\"Year\"},\"y\":{\"field\":\"value\"}},\"id\":\"15054\",\"type\":\"Line\"},{\"attributes\":{\"margin\":[5,5,5,5],\"name\":\"HSpacer63570\",\"sizing_mode\":\"stretch_width\"},\"id\":\"15003\",\"type\":\"Spacer\"},{\"attributes\":{\"data\":{\"Variable\":[\"India\",\"India\",\"India\",\"India\",\"India\",\"India\",\"India\",\"India\",\"India\",\"India\",\"India\",\"India\",\"India\",\"India\",\"India\",\"India\",\"India\",\"India\",\"India\",\"India\",\"India\",\"India\",\"India\",\"India\",\"India\",\"India\"],\"Year\":[1995,1996,1997,1998,1999,2000,2001,2002,2003,2004,2005,2006,2007,2008,2009,2010,2011,2012,2013,2014,2015,2016,2017,2018,2019,2020],\"value\":{\"__ndarray__\":\"uHnClkdMHkB5hN/1tTIeQLB0lDwEMxBAbj1AgNe8GEBuz3XfBrEhQFVSXJJZug5AmYzzz71LE0CK4/Ocim4OQFEEdtcHcR9AynakSxaxH0CnR/XLl7EfQIKs/VYYHyBAN4RTtKykHkD4nKLAjrEIQCUXevySch9A6igMbMP+IEBx/IgTI/cUQKIgx8JP0xVA+Uj0eV+LGUDNkI20EqQdQIsH4twp/B9A4oEDhTqDIEBYbsxf3ywcQACCDPl0ehhAXW+bqRC5EED14OTUwtsfwA==\",\"dtype\":\"float64\",\"order\":\"little\",\"shape\":[26]}},\"selected\":{\"id\":\"15172\"},\"selection_policy\":{\"id\":\"15197\"}},\"id\":\"15171\",\"type\":\"ColumnDataSource\"},{\"attributes\":{},\"id\":\"15118\",\"type\":\"Selection\"},{\"attributes\":{},\"id\":\"15457\",\"type\":\"ResetTool\"},{\"attributes\":{},\"id\":\"15477\",\"type\":\"AllLabels\"},{\"attributes\":{\"bottom_units\":\"screen\",\"fill_alpha\":0.5,\"fill_color\":\"lightgrey\",\"left_units\":\"screen\",\"level\":\"overlay\",\"line_alpha\":1.0,\"line_color\":\"black\",\"line_dash\":[4,4],\"line_width\":2,\"right_units\":\"screen\",\"syncable\":false,\"top_units\":\"screen\"},\"id\":\"15036\",\"type\":\"BoxAnnotation\"},{\"attributes\":{\"source\":{\"id\":\"15093\"}},\"id\":\"15100\",\"type\":\"CDSView\"},{\"attributes\":{\"end\":16.632971059173695,\"reset_end\":16.632971059173695,\"reset_start\":-12.192350490910622,\"start\":-12.192350490910622,\"tags\":[[[\"value\",\"value\",null]]]},\"id\":\"15005\",\"type\":\"Range1d\"},{\"attributes\":{},\"id\":\"15480\",\"type\":\"BasicTickFormatter\"},{\"attributes\":{\"line_color\":\"#17becf\",\"line_width\":2,\"x\":{\"field\":\"Year\"},\"y\":{\"field\":\"value\"}},\"id\":\"15174\",\"type\":\"Line\"},{\"attributes\":{\"callback\":null,\"renderers\":[{\"id\":\"15056\"},{\"id\":\"15077\"},{\"id\":\"15099\"},{\"id\":\"15123\"},{\"id\":\"15149\"},{\"id\":\"15177\"},{\"id\":\"15207\"},{\"id\":\"15239\"}],\"tags\":[\"hv_created\"],\"tooltips\":[[\"Variable\",\"@{Variable}\"],[\"Year\",\"@{Year}\"],[\"value\",\"@{value}\"]]},\"id\":\"15006\",\"type\":\"HoverTool\"},{\"attributes\":{},\"id\":\"15032\",\"type\":\"PanTool\"},{\"attributes\":{\"axis_label\":\"Year\",\"formatter\":{\"id\":\"15045\"},\"major_label_policy\":{\"id\":\"15046\"},\"ticker\":{\"id\":\"15024\"}},\"id\":\"15023\",\"type\":\"LinearAxis\"},{\"attributes\":{},\"id\":\"15046\",\"type\":\"AllLabels\"},{\"attributes\":{},\"id\":\"15234\",\"type\":\"Selection\"},{\"attributes\":{\"axis\":{\"id\":\"15027\"},\"dimension\":1,\"grid_line_color\":null,\"ticker\":null},\"id\":\"15030\",\"type\":\"Grid\"},{\"attributes\":{\"label\":{\"value\":\"European Union\"},\"renderers\":[{\"id\":\"15123\"}]},\"id\":\"15141\",\"type\":\"LegendItem\"},{\"attributes\":{\"overlay\":{\"id\":\"15036\"}},\"id\":\"15034\",\"type\":\"BoxZoomTool\"},{\"attributes\":{\"source\":{\"id\":\"15233\"}},\"id\":\"15240\",\"type\":\"CDSView\"},{\"attributes\":{},\"id\":\"15048\",\"type\":\"BasicTickFormatter\"},{\"attributes\":{},\"id\":\"15197\",\"type\":\"UnionRenderers\"},{\"attributes\":{},\"id\":\"15035\",\"type\":\"ResetTool\"},{\"attributes\":{\"factors\":[\"Australia\",\"Canada\",\"China\",\"European Union\",\"United Kingdom\",\"India\",\"Korea, Rep.\",\"United States\"],\"palette\":[\"#30a2da\",\"#fc4f30\",\"#e5ae38\",\"#6d904f\",\"#8b8b8b\",\"#17becf\",\"#9467bd\",\"#d62728\"]},\"id\":\"15466\",\"type\":\"CategoricalColorMapper\"},{\"attributes\":{\"children\":[{\"id\":\"15522\"},{\"id\":\"15521\"}]},\"id\":\"15523\",\"type\":\"Column\"},{\"attributes\":{\"axis_label\":\"\",\"formatter\":{\"id\":\"15048\"},\"major_label_policy\":{\"id\":\"15049\"},\"ticker\":{\"id\":\"15028\"}},\"id\":\"15027\",\"type\":\"LinearAxis\"},{\"attributes\":{\"source\":{\"id\":\"15117\"}},\"id\":\"15124\",\"type\":\"CDSView\"},{\"attributes\":{\"label\":{\"value\":\"United Kingdom\"},\"renderers\":[{\"id\":\"15149\"}]},\"id\":\"15169\",\"type\":\"LegendItem\"},{\"attributes\":{\"line_alpha\":0.1,\"line_color\":\"#fc4f30\",\"line_width\":2,\"x\":{\"field\":\"Year\"},\"y\":{\"field\":\"value\"}},\"id\":\"15075\",\"type\":\"Line\"},{\"attributes\":{},\"id\":\"15028\",\"type\":\"BasicTicker\"},{\"attributes\":{\"callback\":null,\"renderers\":[{\"id\":\"15473\"}],\"tags\":[\"hv_created\"],\"tooltips\":[[\"index\",\"@{index}\"],[\"Variable\",\"@{Variable}\"],[\"value\",\"@{value}\"]]},\"id\":\"15436\",\"type\":\"HoverTool\"},{\"attributes\":{\"line_alpha\":0.1,\"line_color\":\"#e5ae38\",\"line_width\":2,\"x\":{\"field\":\"Year\"},\"y\":{\"field\":\"value\"}},\"id\":\"15097\",\"type\":\"Line\"},{\"attributes\":{\"below\":[{\"id\":\"15023\"}],\"center\":[{\"id\":\"15026\"},{\"id\":\"15030\"}],\"height\":300,\"left\":[{\"id\":\"15027\"}],\"margin\":null,\"min_border_bottom\":10,\"min_border_left\":10,\"min_border_right\":10,\"min_border_top\":10,\"renderers\":[{\"id\":\"15056\"},{\"id\":\"15077\"},{\"id\":\"15099\"},{\"id\":\"15123\"},{\"id\":\"15149\"},{\"id\":\"15177\"},{\"id\":\"15207\"},{\"id\":\"15239\"}],\"right\":[{\"id\":\"15068\"}],\"sizing_mode\":\"fixed\",\"title\":{\"id\":\"15015\"},\"toolbar\":{\"id\":\"15037\"},\"toolbar_location\":null,\"width\":700,\"x_range\":{\"id\":\"15004\"},\"x_scale\":{\"id\":\"15019\"},\"y_range\":{\"id\":\"15005\"},\"y_scale\":{\"id\":\"15021\"}},\"id\":\"15014\",\"subtype\":\"Figure\",\"type\":\"Plot\"},{\"attributes\":{},\"id\":\"15033\",\"type\":\"WheelZoomTool\"},{\"attributes\":{\"bottom_units\":\"screen\",\"fill_alpha\":0.5,\"fill_color\":\"lightgrey\",\"left_units\":\"screen\",\"level\":\"overlay\",\"line_alpha\":1.0,\"line_color\":\"black\",\"line_dash\":[4,4],\"line_width\":2,\"right_units\":\"screen\",\"syncable\":false,\"top_units\":\"screen\"},\"id\":\"15458\",\"type\":\"BoxAnnotation\"},{\"attributes\":{\"line_color\":\"#fc4f30\",\"line_width\":2,\"x\":{\"field\":\"Year\"},\"y\":{\"field\":\"value\"}},\"id\":\"15074\",\"type\":\"Line\"},{\"attributes\":{\"line_alpha\":0.2,\"line_color\":\"#fc4f30\",\"line_width\":2,\"x\":{\"field\":\"Year\"},\"y\":{\"field\":\"value\"}},\"id\":\"15076\",\"type\":\"Line\"},{\"attributes\":{\"data\":{\"Variable\":[\"China\",\"China\",\"China\",\"China\",\"China\",\"China\",\"China\",\"China\",\"China\",\"China\",\"China\",\"China\",\"China\",\"China\",\"China\",\"China\",\"China\",\"China\",\"China\",\"China\",\"China\",\"China\",\"China\",\"China\",\"China\",\"China\"],\"Year\":[1995,1996,1997,1998,1999,2000,2001,2002,2003,2004,2005,2006,2007,2008,2009,2010,2011,2012,2013,2014,2015,2016,2017,2018,2019,2020],\"value\":{\"__ndarray__\":\"wloItGzoJUCLrdVbWdgjQBj7yDY7eSJAjKFsL0FiH0C6ZYf4h6UeQLCC3YXt+iBAW10oQuWrIEDJk0FBa0QiQM6zJ7t4EyRA6XPelCw6JEBbcA7wB8omQBMIARohcSlAXYxgZzN2LEBwmorJJU0jQLGfI8QlzCJAgFg+5JBFJUBix+SsBhojQM9F41N3dB9A4/K6pokQH0CvYUlj+7MdQMq9Hh5SKhxAMDli6yFlG0CXuDIB78kbQLmGMLbE/xpAdh9N44HMF0Ad12VmZmYCQA==\",\"dtype\":\"float64\",\"order\":\"little\",\"shape\":[26]}},\"selected\":{\"id\":\"15094\"},\"selection_policy\":{\"id\":\"15113\"}},\"id\":\"15093\",\"type\":\"ColumnDataSource\"},{\"attributes\":{\"label\":{\"value\":\"India\"},\"renderers\":[{\"id\":\"15177\"}]},\"id\":\"15199\",\"type\":\"LegendItem\"},{\"attributes\":{\"factors\":[[\"0\",\"United States\"],[\"0\",\"Korea, Rep.\"],[\"0\",\"India\"],[\"0\",\"United Kingdom\"],[\"0\",\"European Union\"],[\"0\",\"China\"],[\"0\",\"Canada\"],[\"0\",\"Australia\"]],\"tags\":[[[\"index\",\"index\",null],[\"Variable\",\"Variable\",null]]]},\"id\":\"15435\",\"type\":\"FactorRange\"},{\"attributes\":{\"line_alpha\":0.2,\"line_color\":\"#d62728\",\"line_width\":2,\"x\":{\"field\":\"Year\"},\"y\":{\"field\":\"value\"}},\"id\":\"15238\",\"type\":\"Line\"},{\"attributes\":{\"line_color\":\"#9467bd\",\"line_width\":2,\"x\":{\"field\":\"Year\"},\"y\":{\"field\":\"value\"}},\"id\":\"15204\",\"type\":\"Line\"},{\"attributes\":{\"margin\":[5,5,5,5],\"name\":\"HSpacer63571\",\"sizing_mode\":\"stretch_width\"},\"id\":\"15842\",\"type\":\"Spacer\"},{\"attributes\":{\"line_alpha\":0.1,\"line_color\":\"#6d904f\",\"line_width\":2,\"x\":{\"field\":\"Year\"},\"y\":{\"field\":\"value\"}},\"id\":\"15121\",\"type\":\"Line\"},{\"attributes\":{\"line_color\":\"#17becf\",\"line_width\":2,\"x\":{\"field\":\"Year\"},\"y\":{\"field\":\"value\"}},\"id\":\"15200\",\"type\":\"Line\"},{\"attributes\":{},\"id\":\"15167\",\"type\":\"UnionRenderers\"},{\"attributes\":{\"data\":{\"Variable\":[\"United States\",\"United States\",\"United States\",\"United States\",\"United States\",\"United States\",\"United States\",\"United States\",\"United States\",\"United States\",\"United States\",\"United States\",\"United States\",\"United States\",\"United States\",\"United States\",\"United States\",\"United States\",\"United States\",\"United States\",\"United States\",\"United States\",\"United States\",\"United States\",\"United States\",\"United States\"],\"Year\":[1995,1996,1997,1998,1999,2000,2001,2002,2003,2004,2005,2006,2007,2008,2009,2010,2011,2012,2013,2014,2015,2016,2017,2018,2019,2020],\"value\":{\"__ndarray__\":\"HNRsiGt5BUB4IgwsFS4OQLMlihTzyRFAxLoAGvbsEUCED65LUAMTQBgIKCuLghBAN2bIZ2jy7z9WisTU+937P5CfJXnC4wZAN8xyByFkDkB7aK3VDxsMQPEqV7f71gZAqZ4OXMwE/j/7rrxvcnvBv9BfbEpHSwTAfU41C5iCBECofbLjOND4Pw8uJ+UR/wFA5bADACp5/T+rg3KRMTUEQG1iKPegQwdAPCMPGZY0+j9zhQodWvUCQCBv3cApawdAMM4uyxZKAUBhyNgineMLwA==\",\"dtype\":\"float64\",\"order\":\"little\",\"shape\":[26]}},\"selected\":{\"id\":\"15234\"},\"selection_policy\":{\"id\":\"15263\"}},\"id\":\"15233\",\"type\":\"ColumnDataSource\"},{\"attributes\":{},\"id\":\"15019\",\"type\":\"LinearScale\"},{\"attributes\":{\"source\":{\"id\":\"15071\"}},\"id\":\"15078\",\"type\":\"CDSView\"},{\"attributes\":{\"data\":{\"Variable\":[\"European Union\",\"European Union\",\"European Union\",\"European Union\",\"European Union\",\"European Union\",\"European Union\",\"European Union\",\"European Union\",\"European Union\",\"European Union\",\"European Union\",\"European Union\",\"European Union\",\"European Union\",\"European Union\",\"European Union\",\"European Union\",\"European Union\",\"European Union\",\"European Union\",\"European Union\",\"European Union\",\"European Union\",\"European Union\",\"European Union\"],\"Year\":[1995,1996,1997,1998,1999,2000,2001,2002,2003,2004,2005,2006,2007,2008,2009,2010,2011,2012,2013,2014,2015,2016,2017,2018,2019,2020],\"value\":{\"__ndarray__\":\"a156oLpiBUA+JYSaY0n+P3iqiELnTwVAbcyNF0ImCEDzvGDfaqsHQKbPSxvHOQ9A0n7RCZR5AUAIymOJq/vxP9oJv2zsxu0/rQf0C3TCBEDTnAsP2fH+P+gRbvVG9AtAipmWu0M4CUBVhEpFK6PkP+erokelTRHA/TTNv4atAUC4eDazr0/9P7hFwdX/Dui/uXzuewlSrL+guDwGxir5Pzy6tlyiZwJA2dSfG59bAED2PnHaNVAGQGPgAs4n8gBArfur7UTe+D9mZmZmZmYYwA==\",\"dtype\":\"float64\",\"order\":\"little\",\"shape\":[26]}},\"selected\":{\"id\":\"15118\"},\"selection_policy\":{\"id\":\"15139\"}},\"id\":\"15117\",\"type\":\"ColumnDataSource\"},{\"attributes\":{\"data_source\":{\"id\":\"15201\"},\"glyph\":{\"id\":\"15204\"},\"hover_glyph\":null,\"muted_glyph\":{\"id\":\"15206\"},\"nonselection_glyph\":{\"id\":\"15205\"},\"selection_glyph\":{\"id\":\"15232\"},\"view\":{\"id\":\"15208\"}},\"id\":\"15207\",\"type\":\"GlyphRenderer\"},{\"attributes\":{\"data_source\":{\"id\":\"15233\"},\"glyph\":{\"id\":\"15236\"},\"hover_glyph\":null,\"muted_glyph\":{\"id\":\"15238\"},\"nonselection_glyph\":{\"id\":\"15237\"},\"selection_glyph\":{\"id\":\"15266\"},\"view\":{\"id\":\"15240\"}},\"id\":\"15239\",\"type\":\"GlyphRenderer\"},{\"attributes\":{\"margin\":[5,5,5,5],\"name\":\"VSpacer63567\",\"sizing_mode\":\"stretch_height\"},\"id\":\"15844\",\"type\":\"Spacer\"},{\"attributes\":{\"line_alpha\":0.1,\"line_color\":\"#9467bd\",\"line_width\":2,\"x\":{\"field\":\"Year\"},\"y\":{\"field\":\"value\"}},\"id\":\"15205\",\"type\":\"Line\"},{\"attributes\":{\"label\":{\"value\":\"Australia\"},\"renderers\":[{\"id\":\"15056\"}]},\"id\":\"15069\",\"type\":\"LegendItem\"},{\"attributes\":{\"children\":[{\"id\":\"15520\"},{\"id\":\"15518\"}]},\"id\":\"15521\",\"type\":\"Column\"},{\"attributes\":{},\"id\":\"15031\",\"type\":\"SaveTool\"},{\"attributes\":{\"data\":{\"Variable\":[\"United Kingdom\",\"United Kingdom\",\"United Kingdom\",\"United Kingdom\",\"United Kingdom\",\"United Kingdom\",\"United Kingdom\",\"United Kingdom\",\"United Kingdom\",\"United Kingdom\",\"United Kingdom\",\"United Kingdom\",\"United Kingdom\",\"United Kingdom\",\"United Kingdom\",\"United Kingdom\",\"United Kingdom\",\"United Kingdom\",\"United Kingdom\",\"United Kingdom\",\"United Kingdom\",\"United Kingdom\",\"United Kingdom\",\"United Kingdom\",\"United Kingdom\",\"United Kingdom\"],\"Year\":[1995,1996,1997,1998,1999,2000,2001,2002,2003,2004,2005,2006,2007,2008,2009,2010,2011,2012,2013,2014,2015,2016,2017,2018,2019,2020],\"value\":{\"__ndarray__\":\"xWxpONxABEC1/afyqO4DQDvhNxux1g5AvEa05agoDUB9JylaAG0LQN3cGyDxfwtAZl7AK3/LB0CJSatmRZgCQL7belWASgpAhWsMP9r9AkB4pqyzFXAJQMHTLBx9TgZAa91r4MVxA0CIJAt8a/7Rv8tJ/fzE/RDAQK4raz0x/z8meG6acaT4P8Ch7SGsqfc/eY0osKodAUCeOT9THNwEQPGfmSAd2AJAVIOJb8Ow/j/LQSmK8kX+P2udKnKXc/U//w5tSQxn9z9VR3timpQjwA==\",\"dtype\":\"float64\",\"order\":\"little\",\"shape\":[26]}},\"selected\":{\"id\":\"15144\"},\"selection_policy\":{\"id\":\"15167\"}},\"id\":\"15143\",\"type\":\"ColumnDataSource\"},{\"attributes\":{\"line_alpha\":0.1,\"line_color\":\"#17becf\",\"line_width\":2,\"x\":{\"field\":\"Year\"},\"y\":{\"field\":\"value\"}},\"id\":\"15175\",\"type\":\"Line\"},{\"attributes\":{\"line_alpha\":0.1,\"line_color\":\"#d62728\",\"line_width\":2,\"x\":{\"field\":\"Year\"},\"y\":{\"field\":\"value\"}},\"id\":\"15237\",\"type\":\"Line\"},{\"attributes\":{},\"id\":\"15515\",\"type\":\"UnionRenderers\"},{\"attributes\":{\"line_alpha\":0.2,\"line_color\":\"#e5ae38\",\"line_width\":2,\"x\":{\"field\":\"Year\"},\"y\":{\"field\":\"value\"}},\"id\":\"15098\",\"type\":\"Line\"},{\"attributes\":{\"line_alpha\":0.2,\"line_color\":\"#9467bd\",\"line_width\":2,\"x\":{\"field\":\"Year\"},\"y\":{\"field\":\"value\"}},\"id\":\"15206\",\"type\":\"Line\"},{\"attributes\":{},\"id\":\"15021\",\"type\":\"LinearScale\"},{\"attributes\":{\"source\":{\"id\":\"15201\"}},\"id\":\"15208\",\"type\":\"CDSView\"},{\"attributes\":{},\"id\":\"15139\",\"type\":\"UnionRenderers\"},{\"attributes\":{\"data_source\":{\"id\":\"15143\"},\"glyph\":{\"id\":\"15146\"},\"hover_glyph\":null,\"muted_glyph\":{\"id\":\"15148\"},\"nonselection_glyph\":{\"id\":\"15147\"},\"selection_glyph\":{\"id\":\"15170\"},\"view\":{\"id\":\"15150\"}},\"id\":\"15149\",\"type\":\"GlyphRenderer\"},{\"attributes\":{},\"id\":\"15450\",\"type\":\"BasicTicker\"},{\"attributes\":{\"line_alpha\":0.2,\"line_color\":\"#17becf\",\"line_width\":2,\"x\":{\"field\":\"Year\"},\"y\":{\"field\":\"value\"}},\"id\":\"15176\",\"type\":\"Line\"},{\"attributes\":{\"line_color\":\"#d62728\",\"line_width\":2,\"x\":{\"field\":\"Year\"},\"y\":{\"field\":\"value\"}},\"id\":\"15266\",\"type\":\"Line\"},{\"attributes\":{\"active_multi\":null,\"tools\":[{\"id\":\"15436\"},{\"id\":\"15453\"},{\"id\":\"15454\"},{\"id\":\"15455\"},{\"id\":\"15456\"},{\"id\":\"15457\"}]},\"id\":\"15459\",\"type\":\"Toolbar\"},{\"attributes\":{\"line_color\":\"#30a2da\",\"line_width\":2,\"x\":{\"field\":\"Year\"},\"y\":{\"field\":\"value\"}},\"id\":\"15070\",\"type\":\"Line\"},{\"attributes\":{\"style\":{\"white-space\":\"nowrap\"},\"text\":\"<span style=\\\"color:black;font-family:Arial;font-style:bold;font-weight:bold;font-size:12pt\\\">Year: 1995</span>\",\"width\":450},\"id\":\"15522\",\"type\":\"Div\"},{\"attributes\":{\"line_color\":\"#9467bd\",\"line_width\":2,\"x\":{\"field\":\"Year\"},\"y\":{\"field\":\"value\"}},\"id\":\"15232\",\"type\":\"Line\"},{\"attributes\":{\"toolbar\":{\"id\":\"15519\"},\"toolbar_location\":\"above\"},\"id\":\"15520\",\"type\":\"ToolbarBox\"},{\"attributes\":{\"source\":{\"id\":\"15050\"}},\"id\":\"15057\",\"type\":\"CDSView\"},{\"attributes\":{\"source\":{\"id\":\"15171\"}},\"id\":\"15178\",\"type\":\"CDSView\"},{\"attributes\":{},\"id\":\"15263\",\"type\":\"UnionRenderers\"},{\"attributes\":{\"data_source\":{\"id\":\"15171\"},\"glyph\":{\"id\":\"15174\"},\"hover_glyph\":null,\"muted_glyph\":{\"id\":\"15176\"},\"nonselection_glyph\":{\"id\":\"15175\"},\"selection_glyph\":{\"id\":\"15200\"},\"view\":{\"id\":\"15178\"}},\"id\":\"15177\",\"type\":\"GlyphRenderer\"},{\"attributes\":{\"line_alpha\":0.2,\"line_color\":\"#6d904f\",\"line_width\":2,\"x\":{\"field\":\"Year\"},\"y\":{\"field\":\"value\"}},\"id\":\"15122\",\"type\":\"Line\"},{\"attributes\":{\"label\":{\"value\":\"Canada\"},\"renderers\":[{\"id\":\"15077\"}]},\"id\":\"15091\",\"type\":\"LegendItem\"},{\"attributes\":{},\"id\":\"15442\",\"type\":\"CategoricalScale\"},{\"attributes\":{},\"id\":\"15444\",\"type\":\"LinearScale\"},{\"attributes\":{\"data_source\":{\"id\":\"15071\"},\"glyph\":{\"id\":\"15074\"},\"hover_glyph\":null,\"muted_glyph\":{\"id\":\"15076\"},\"nonselection_glyph\":{\"id\":\"15075\"},\"selection_glyph\":{\"id\":\"15092\"},\"view\":{\"id\":\"15078\"}},\"id\":\"15077\",\"type\":\"GlyphRenderer\"},{\"attributes\":{},\"id\":\"15229\",\"type\":\"UnionRenderers\"},{\"attributes\":{\"line_color\":\"#8b8b8b\",\"line_width\":2,\"x\":{\"field\":\"Year\"},\"y\":{\"field\":\"value\"}},\"id\":\"15146\",\"type\":\"Line\"},{\"attributes\":{},\"id\":\"15066\",\"type\":\"UnionRenderers\"},{\"attributes\":{},\"id\":\"15049\",\"type\":\"AllLabels\"},{\"attributes\":{},\"id\":\"15172\",\"type\":\"Selection\"},{\"attributes\":{\"data\":{\"Variable\":[\"Canada\",\"Canada\",\"Canada\",\"Canada\",\"Canada\",\"Canada\",\"Canada\",\"Canada\",\"Canada\",\"Canada\",\"Canada\",\"Canada\",\"Canada\",\"Canada\",\"Canada\",\"Canada\",\"Canada\",\"Canada\",\"Canada\",\"Canada\",\"Canada\",\"Canada\",\"Canada\",\"Canada\",\"Canada\",\"Canada\"],\"Year\":[1995,1996,1997,1998,1999,2000,2001,2002,2003,2004,2005,2006,2007,2008,2009,2010,2011,2012,2013,2014,2015,2016,2017,2018,2019,2020],\"value\":{\"__ndarray__\":\"bY5kcEONBUBOILJpIej5P/2wAbgpww7AQczrqVFfBkC4AZpmjMMPQG/eK//JqxNAeBdGfwp99j/tnPQrjmALQOzwidUcfQ5AeldyUu5PD0By4p7zwvsTQOVClBjMqRBA41KnmXR5G0DXt5v5OB/wP3HtFhFdbQfAKIuQ9Ei3CECJDQkk0CwJQP6og0UQMvw/Ni79+gqiAkC8uEN51fUGQGgdJRT6F+U/8G4oJrYF8D/9g+Cip10JQErfsNzuGwBA4ddhryR/+j9tokg5d5wVwA==\",\"dtype\":\"float64\",\"order\":\"little\",\"shape\":[26]}},\"selected\":{\"id\":\"15072\"},\"selection_policy\":{\"id\":\"15089\"}},\"id\":\"15071\",\"type\":\"ColumnDataSource\"},{\"attributes\":{\"text_color\":\"black\",\"text_font_size\":\"12pt\"},\"id\":\"15015\",\"type\":\"Title\"},{\"attributes\":{\"label\":{\"value\":\"United States\"},\"renderers\":[{\"id\":\"15239\"}]},\"id\":\"15265\",\"type\":\"LegendItem\"},{\"attributes\":{},\"id\":\"15045\",\"type\":\"BasicTickFormatter\"},{\"attributes\":{\"data_source\":{\"id\":\"15050\"},\"glyph\":{\"id\":\"15053\"},\"hover_glyph\":null,\"muted_glyph\":{\"id\":\"15055\"},\"nonselection_glyph\":{\"id\":\"15054\"},\"selection_glyph\":{\"id\":\"15070\"},\"view\":{\"id\":\"15057\"}},\"id\":\"15056\",\"type\":\"GlyphRenderer\"},{\"attributes\":{\"line_color\":\"#8b8b8b\",\"line_width\":2,\"x\":{\"field\":\"Year\"},\"y\":{\"field\":\"value\"}},\"id\":\"15170\",\"type\":\"Line\"},{\"attributes\":{},\"id\":\"15072\",\"type\":\"Selection\"},{\"attributes\":{},\"id\":\"15202\",\"type\":\"Selection\"},{\"attributes\":{\"line_color\":\"#fc4f30\",\"line_width\":2,\"x\":{\"field\":\"Year\"},\"y\":{\"field\":\"value\"}},\"id\":\"15092\",\"type\":\"Line\"},{\"attributes\":{\"axis\":{\"id\":\"15023\"},\"grid_line_color\":null,\"ticker\":null},\"id\":\"15026\",\"type\":\"Grid\"},{\"attributes\":{\"line_alpha\":0.2,\"line_color\":\"#8b8b8b\",\"line_width\":2,\"x\":{\"field\":\"Year\"},\"y\":{\"field\":\"value\"}},\"id\":\"15148\",\"type\":\"Line\"},{\"attributes\":{\"line_color\":\"#d62728\",\"line_width\":2,\"x\":{\"field\":\"Year\"},\"y\":{\"field\":\"value\"}},\"id\":\"15236\",\"type\":\"Line\"},{\"attributes\":{},\"id\":\"15094\",\"type\":\"Selection\"},{\"attributes\":{\"axis\":{\"id\":\"15449\"},\"dimension\":1,\"grid_line_color\":null,\"ticker\":null},\"id\":\"15452\",\"type\":\"Grid\"},{\"attributes\":{},\"id\":\"15453\",\"type\":\"SaveTool\"},{\"attributes\":{\"line_color\":\"#6d904f\",\"line_width\":2,\"x\":{\"field\":\"Year\"},\"y\":{\"field\":\"value\"}},\"id\":\"15142\",\"type\":\"Line\"},{\"attributes\":{\"label\":{\"value\":\"Korea, Rep.\"},\"renderers\":[{\"id\":\"15207\"}]},\"id\":\"15231\",\"type\":\"LegendItem\"},{\"attributes\":{\"children\":[[{\"id\":\"15014\"},0,0],[{\"id\":\"15437\"},0,1]]},\"id\":\"15518\",\"type\":\"GridBox\"},{\"attributes\":{\"children\":[{\"id\":\"15846\"}],\"css_classes\":[\"panel-widget-box\"],\"margin\":[5,5,5,5],\"name\":\"WidgetBox63562\"},\"id\":\"15845\",\"type\":\"Column\"},{\"attributes\":{},\"id\":\"15089\",\"type\":\"UnionRenderers\"},{\"attributes\":{},\"id\":\"15144\",\"type\":\"Selection\"},{\"attributes\":{\"line_color\":\"#e5ae38\",\"line_width\":2,\"x\":{\"field\":\"Year\"},\"y\":{\"field\":\"value\"}},\"id\":\"15096\",\"type\":\"Line\"},{\"attributes\":{},\"id\":\"15051\",\"type\":\"Selection\"},{\"attributes\":{\"data_source\":{\"id\":\"15117\"},\"glyph\":{\"id\":\"15120\"},\"hover_glyph\":null,\"muted_glyph\":{\"id\":\"15122\"},\"nonselection_glyph\":{\"id\":\"15121\"},\"selection_glyph\":{\"id\":\"15142\"},\"view\":{\"id\":\"15124\"}},\"id\":\"15123\",\"type\":\"GlyphRenderer\"},{\"attributes\":{\"source\":{\"id\":\"15143\"}},\"id\":\"15150\",\"type\":\"CDSView\"},{\"attributes\":{\"line_alpha\":0.1,\"line_color\":\"#8b8b8b\",\"line_width\":2,\"x\":{\"field\":\"Year\"},\"y\":{\"field\":\"value\"}},\"id\":\"15147\",\"type\":\"Line\"},{\"attributes\":{\"data\":{\"Variable\":[\"Australia\",\"Canada\",\"China\",\"European Union\",\"United Kingdom\",\"India\",\"Korea, Rep.\",\"United States\"],\"index\":[\"0\",\"0\",\"0\",\"0\",\"0\",\"0\",\"0\",\"0\"],\"value\":{\"__ndarray__\":\"H+MLDLmzDkBtjmRwQ40FQMJaCLRs6CVAa156oLpiBUDFbGk43EAEQLh5wpZHTB5AdGCwUKg6I0Ac1GyIa3kFQA==\",\"dtype\":\"float64\",\"order\":\"little\",\"shape\":[8]},\"xoffsets\":[[\"0\",\"Australia\"],[\"0\",\"Canada\"],[\"0\",\"China\"],[\"0\",\"European Union\"],[\"0\",\"United Kingdom\"],[\"0\",\"India\"],[\"0\",\"Korea, Rep.\"],[\"0\",\"United States\"]]},\"selected\":{\"id\":\"15468\"},\"selection_policy\":{\"id\":\"15515\"}},\"id\":\"15467\",\"type\":\"ColumnDataSource\"},{\"attributes\":{\"toolbars\":[{\"id\":\"15037\"},{\"id\":\"15459\"}],\"tools\":[{\"id\":\"15006\"},{\"id\":\"15031\"},{\"id\":\"15032\"},{\"id\":\"15033\"},{\"id\":\"15034\"},{\"id\":\"15035\"},{\"id\":\"15436\"},{\"id\":\"15453\"},{\"id\":\"15454\"},{\"id\":\"15455\"},{\"id\":\"15456\"},{\"id\":\"15457\"}]},\"id\":\"15519\",\"type\":\"ProxyToolbar\"},{\"attributes\":{\"click_policy\":\"mute\",\"items\":[{\"id\":\"15069\"},{\"id\":\"15091\"},{\"id\":\"15115\"},{\"id\":\"15141\"},{\"id\":\"15169\"},{\"id\":\"15199\"},{\"id\":\"15231\"},{\"id\":\"15265\"}],\"location\":[0,0],\"title\":\"Variable\"},\"id\":\"15068\",\"type\":\"Legend\"}],\"root_ids\":[\"15002\",\"15950\"]},\"title\":\"Bokeh Application\",\"version\":\"2.3.2\"}};\n",
       "    var render_items = [{\"docid\":\"ae844cbf-c322-4aa3-b835-c36dca423beb\",\"root_ids\":[\"15002\"],\"roots\":{\"15002\":\"5edb5752-8614-439e-9c18-6e05bb4f5f1e\"}}];\n",
       "    root.Bokeh.embed.embed_items_notebook(docs_json, render_items);\n",
       "  }\n",
       "  if (root.Bokeh !== undefined && root.Bokeh.Panel !== undefined && root['Plotly'] !== undefined ) {\n",
       "    embed_document(root);\n",
       "  } else {\n",
       "    var attempts = 0;\n",
       "    var timer = setInterval(function(root) {\n",
       "      if (root.Bokeh !== undefined && root.Bokeh.Panel !== undefined && root['Plotly'] !== undefined) {\n",
       "        clearInterval(timer);\n",
       "        embed_document(root);\n",
       "      } else if (document.readyState == \"complete\") {\n",
       "        attempts++;\n",
       "        if (attempts > 100) {\n",
       "          clearInterval(timer);\n",
       "          console.log(\"Bokeh: ERROR: Unable to run BokehJS code because BokehJS library is missing\");\n",
       "        }\n",
       "      }\n",
       "    }, 10, root)\n",
       "  }\n",
       "})(window);</script>"
      ],
      "text/plain": [
       ":Layout\n",
       "   .NdOverlay.I  :NdOverlay   [Variable]\n",
       "      :Curve   [Year]   (value)\n",
       "   .DynamicMap.I :DynamicMap   [Year]\n",
       "      :Bars   [index,Variable]   (value)"
      ]
     },
     "execution_count": 201,
     "metadata": {
      "application/vnd.holoviews_exec.v0+json": {
       "id": "15002"
      }
     },
     "output_type": "execute_result"
    }
   ],
   "source": [
    "comb = gdp_hvplot_line + gdp_hvplot_bar #+ gdp_iplot\n",
    "comb"
   ]
  },
  {
   "cell_type": "markdown",
   "id": "8fb11b62",
   "metadata": {},
   "source": [
    "## "
   ]
  },
  {
   "cell_type": "markdown",
   "id": "cbf6e186",
   "metadata": {},
   "source": [
    "### What are the key factors driving GDP - demonstrate using CorrPlot\n"
   ]
  },
  {
   "cell_type": "code",
   "execution_count": 202,
   "id": "9484df73",
   "metadata": {},
   "outputs": [
    {
     "data": {
      "text/html": [
       "<div>\n",
       "<style scoped>\n",
       "    .dataframe tbody tr th:only-of-type {\n",
       "        vertical-align: middle;\n",
       "    }\n",
       "\n",
       "    .dataframe tbody tr th {\n",
       "        vertical-align: top;\n",
       "    }\n",
       "\n",
       "    .dataframe thead th {\n",
       "        text-align: right;\n",
       "    }\n",
       "</style>\n",
       "<table border=\"1\" class=\"dataframe\">\n",
       "  <thead>\n",
       "    <tr style=\"text-align: right;\">\n",
       "      <th></th>\n",
       "      <th>Year</th>\n",
       "      <th>Births</th>\n",
       "      <th>Deaths</th>\n",
       "      <th>NaturalIncreases</th>\n",
       "      <th>InterstateArrivals</th>\n",
       "      <th>OverseasArrivals</th>\n",
       "      <th>OverseasDepartures</th>\n",
       "      <th>NetOverseasDepartures</th>\n",
       "      <th>NetOverseasMigration</th>\n",
       "      <th>EstimatedResidentPopulation</th>\n",
       "      <th>PercenChangeOverThePreviousYear</th>\n",
       "    </tr>\n",
       "  </thead>\n",
       "  <tbody>\n",
       "    <tr>\n",
       "      <th>0</th>\n",
       "      <td>1995</td>\n",
       "      <td>64.3</td>\n",
       "      <td>31.5</td>\n",
       "      <td>32.8</td>\n",
       "      <td>96.0</td>\n",
       "      <td>50.5</td>\n",
       "      <td>32.7</td>\n",
       "      <td>32.7</td>\n",
       "      <td>23.8</td>\n",
       "      <td>18004.9</td>\n",
       "      <td>1.12</td>\n",
       "    </tr>\n",
       "    <tr>\n",
       "      <th>1</th>\n",
       "      <td>1996</td>\n",
       "      <td>62.0</td>\n",
       "      <td>31.7</td>\n",
       "      <td>30.3</td>\n",
       "      <td>84.8</td>\n",
       "      <td>49.9</td>\n",
       "      <td>34.2</td>\n",
       "      <td>34.2</td>\n",
       "      <td>20.6</td>\n",
       "      <td>18224.8</td>\n",
       "      <td>1.22</td>\n",
       "    </tr>\n",
       "    <tr>\n",
       "      <th>2</th>\n",
       "      <td>1997</td>\n",
       "      <td>63.6</td>\n",
       "      <td>31.4</td>\n",
       "      <td>32.2</td>\n",
       "      <td>90.0</td>\n",
       "      <td>49.5</td>\n",
       "      <td>38.9</td>\n",
       "      <td>38.9</td>\n",
       "      <td>6.1</td>\n",
       "      <td>18423.0</td>\n",
       "      <td>1.09</td>\n",
       "    </tr>\n",
       "    <tr>\n",
       "      <th>3</th>\n",
       "      <td>1998</td>\n",
       "      <td>62.3</td>\n",
       "      <td>31.8</td>\n",
       "      <td>30.5</td>\n",
       "      <td>89.4</td>\n",
       "      <td>54.1</td>\n",
       "      <td>45.6</td>\n",
       "      <td>45.6</td>\n",
       "      <td>8.5</td>\n",
       "      <td>18607.6</td>\n",
       "      <td>1.00</td>\n",
       "    </tr>\n",
       "    <tr>\n",
       "      <th>4</th>\n",
       "      <td>1999</td>\n",
       "      <td>62.7</td>\n",
       "      <td>32.2</td>\n",
       "      <td>30.5</td>\n",
       "      <td>89.2</td>\n",
       "      <td>55.6</td>\n",
       "      <td>40.8</td>\n",
       "      <td>40.8</td>\n",
       "      <td>14.8</td>\n",
       "      <td>18812.3</td>\n",
       "      <td>1.10</td>\n",
       "    </tr>\n",
       "  </tbody>\n",
       "</table>\n",
       "</div>"
      ],
      "text/plain": [
       "   Year  Births  Deaths  NaturalIncreases  InterstateArrivals  \\\n",
       "0  1995    64.3    31.5              32.8                96.0   \n",
       "1  1996    62.0    31.7              30.3                84.8   \n",
       "2  1997    63.6    31.4              32.2                90.0   \n",
       "3  1998    62.3    31.8              30.5                89.4   \n",
       "4  1999    62.7    32.2              30.5                89.2   \n",
       "\n",
       "   OverseasArrivals  OverseasDepartures  NetOverseasDepartures  \\\n",
       "0              50.5                32.7                   32.7   \n",
       "1              49.9                34.2                   34.2   \n",
       "2              49.5                38.9                   38.9   \n",
       "3              54.1                45.6                   45.6   \n",
       "4              55.6                40.8                   40.8   \n",
       "\n",
       "   NetOverseasMigration  EstimatedResidentPopulation  \\\n",
       "0                  23.8                      18004.9   \n",
       "1                  20.6                      18224.8   \n",
       "2                   6.1                      18423.0   \n",
       "3                   8.5                      18607.6   \n",
       "4                  14.8                      18812.3   \n",
       "\n",
       "   PercenChangeOverThePreviousYear  \n",
       "0                             1.12  \n",
       "1                             1.22  \n",
       "2                             1.09  \n",
       "3                             1.00  \n",
       "4                             1.10  "
      ]
     },
     "execution_count": 202,
     "metadata": {},
     "output_type": "execute_result"
    }
   ],
   "source": [
    "# Clean population data\n",
    "del population[\"Unnamed: 0\"]\n",
    "population.head()"
   ]
  },
  {
   "cell_type": "code",
   "execution_count": 248,
   "id": "2ce8caac",
   "metadata": {},
   "outputs": [],
   "source": [
    "# Get data to run correlation\n",
    "year = population[[\"Year\"]]\n",
    "gdp_aus_new = gdp_new[[\"Australia\"]].reset_index(drop=True)\n",
    "total_population = population[[\"EstimatedResidentPopulation\"]]\n",
    "total_employed = employment[[\"TotalEmployed\"]]\n",
    "total_employed_males = employment[[\"TotalEmployed_M\"]]\n",
    "total_employed_females = employment[[\"TotalEmployed_F\"]]\n",
    "total_unemployed = employment[[\"TotalUnemployed\"]]\n",
    "total_unemployed_males = employment[[\"TotalUnemployed_M\"]]\n",
    "total_unemployed_females = employment[[\"TotalUnemployed_F\"]]\n",
    "cash_rate_target = cash_rate[[\"Cash Rate Target\"]]\n",
    "overnight_cash_rate = cash_rate[[\"Interbank Overnight Cash Rate\"]]\n",
    "household_income_total = household_income[[\"TotalIncome\"]]\n",
    "household_savings_total = household_income[[\"TotalSavings\"]]\n",
    "net_savings = economy[[\"Net Savings\"]]\n",
    "gross_income = economy[[\"Total Use of Gross Income\"]]"
   ]
  },
  {
   "cell_type": "code",
   "execution_count": 247,
   "id": "531ac650",
   "metadata": {},
   "outputs": [
    {
     "data": {
      "text/html": [
       "<div>\n",
       "<style scoped>\n",
       "    .dataframe tbody tr th:only-of-type {\n",
       "        vertical-align: middle;\n",
       "    }\n",
       "\n",
       "    .dataframe tbody tr th {\n",
       "        vertical-align: top;\n",
       "    }\n",
       "\n",
       "    .dataframe thead th {\n",
       "        text-align: right;\n",
       "    }\n",
       "</style>\n",
       "<table border=\"1\" class=\"dataframe\">\n",
       "  <thead>\n",
       "    <tr style=\"text-align: right;\">\n",
       "      <th></th>\n",
       "      <th>Unnamed: 0</th>\n",
       "      <th>Year</th>\n",
       "      <th>Net Savings</th>\n",
       "      <th>Total Use of Gross Income</th>\n",
       "      <th>GDP</th>\n",
       "    </tr>\n",
       "  </thead>\n",
       "  <tbody>\n",
       "    <tr>\n",
       "      <th>0</th>\n",
       "      <td>143</td>\n",
       "      <td>1995</td>\n",
       "      <td>313</td>\n",
       "      <td>107093</td>\n",
       "      <td>126090.0</td>\n",
       "    </tr>\n",
       "    <tr>\n",
       "      <th>1</th>\n",
       "      <td>147</td>\n",
       "      <td>1996</td>\n",
       "      <td>853</td>\n",
       "      <td>113630</td>\n",
       "      <td>134580.0</td>\n",
       "    </tr>\n",
       "    <tr>\n",
       "      <th>2</th>\n",
       "      <td>151</td>\n",
       "      <td>1997</td>\n",
       "      <td>1617</td>\n",
       "      <td>120328</td>\n",
       "      <td>141715.0</td>\n",
       "    </tr>\n",
       "    <tr>\n",
       "      <th>3</th>\n",
       "      <td>155</td>\n",
       "      <td>1998</td>\n",
       "      <td>-1596</td>\n",
       "      <td>124565</td>\n",
       "      <td>150020.0</td>\n",
       "    </tr>\n",
       "    <tr>\n",
       "      <th>4</th>\n",
       "      <td>159</td>\n",
       "      <td>1999</td>\n",
       "      <td>-1208</td>\n",
       "      <td>133049</td>\n",
       "      <td>157756.0</td>\n",
       "    </tr>\n",
       "  </tbody>\n",
       "</table>\n",
       "</div>"
      ],
      "text/plain": [
       "   Unnamed: 0  Year  Net Savings  Total Use of Gross Income       GDP\n",
       "0         143  1995          313                     107093  126090.0\n",
       "1         147  1996          853                     113630  134580.0\n",
       "2         151  1997         1617                     120328  141715.0\n",
       "3         155  1998        -1596                     124565  150020.0\n",
       "4         159  1999        -1208                     133049  157756.0"
      ]
     },
     "execution_count": 247,
     "metadata": {},
     "output_type": "execute_result"
    }
   ],
   "source": [
    "economy.head()"
   ]
  },
  {
   "cell_type": "code",
   "execution_count": 252,
   "id": "2680054d",
   "metadata": {},
   "outputs": [
    {
     "data": {
      "text/html": [
       "<div>\n",
       "<style scoped>\n",
       "    .dataframe tbody tr th:only-of-type {\n",
       "        vertical-align: middle;\n",
       "    }\n",
       "\n",
       "    .dataframe tbody tr th {\n",
       "        vertical-align: top;\n",
       "    }\n",
       "\n",
       "    .dataframe thead th {\n",
       "        text-align: right;\n",
       "    }\n",
       "</style>\n",
       "<table border=\"1\" class=\"dataframe\">\n",
       "  <thead>\n",
       "    <tr style=\"text-align: right;\">\n",
       "      <th></th>\n",
       "      <th>Aus_GDP</th>\n",
       "      <th>Pop</th>\n",
       "      <th>Tot Emp</th>\n",
       "      <th>Tot Emp_M</th>\n",
       "      <th>Tot Emp_F</th>\n",
       "      <th>Tot Unemp</th>\n",
       "      <th>Tot Unemp_M</th>\n",
       "      <th>Tot Unemp_F</th>\n",
       "      <th>Cash Rate Target</th>\n",
       "      <th>Interbank Overnight Cash Rate</th>\n",
       "      <th>TotalIncome</th>\n",
       "      <th>TotalSavings</th>\n",
       "      <th>Net Savings</th>\n",
       "      <th>Gross Income</th>\n",
       "    </tr>\n",
       "  </thead>\n",
       "  <tbody>\n",
       "    <tr>\n",
       "      <th>0</th>\n",
       "      <td>3.837755</td>\n",
       "      <td>18004.9</td>\n",
       "      <td>8205.6</td>\n",
       "      <td>4657.4</td>\n",
       "      <td>3548.3</td>\n",
       "      <td>723.5</td>\n",
       "      <td>434.2</td>\n",
       "      <td>289.3</td>\n",
       "      <td>7.50</td>\n",
       "      <td>7.51</td>\n",
       "      <td>107093</td>\n",
       "      <td>313</td>\n",
       "      <td>313</td>\n",
       "      <td>107093</td>\n",
       "    </tr>\n",
       "    <tr>\n",
       "      <th>1</th>\n",
       "      <td>3.878585</td>\n",
       "      <td>18224.8</td>\n",
       "      <td>8311.7</td>\n",
       "      <td>4724.4</td>\n",
       "      <td>3587.3</td>\n",
       "      <td>723.8</td>\n",
       "      <td>424.3</td>\n",
       "      <td>299.5</td>\n",
       "      <td>7.50</td>\n",
       "      <td>7.51</td>\n",
       "      <td>113630</td>\n",
       "      <td>853</td>\n",
       "      <td>853</td>\n",
       "      <td>113630</td>\n",
       "    </tr>\n",
       "    <tr>\n",
       "      <th>2</th>\n",
       "      <td>3.966538</td>\n",
       "      <td>18423.0</td>\n",
       "      <td>8345.6</td>\n",
       "      <td>4731.9</td>\n",
       "      <td>3613.6</td>\n",
       "      <td>735.2</td>\n",
       "      <td>427.5</td>\n",
       "      <td>307.7</td>\n",
       "      <td>5.50</td>\n",
       "      <td>5.57</td>\n",
       "      <td>120328</td>\n",
       "      <td>1617</td>\n",
       "      <td>1617</td>\n",
       "      <td>120328</td>\n",
       "    </tr>\n",
       "    <tr>\n",
       "      <th>3</th>\n",
       "      <td>4.576689</td>\n",
       "      <td>18607.6</td>\n",
       "      <td>8516.8</td>\n",
       "      <td>4801.8</td>\n",
       "      <td>3715.0</td>\n",
       "      <td>702.8</td>\n",
       "      <td>419.9</td>\n",
       "      <td>282.9</td>\n",
       "      <td>5.00</td>\n",
       "      <td>5.07</td>\n",
       "      <td>124565</td>\n",
       "      <td>-1596</td>\n",
       "      <td>-1596</td>\n",
       "      <td>124565</td>\n",
       "    </tr>\n",
       "    <tr>\n",
       "      <th>4</th>\n",
       "      <td>5.073599</td>\n",
       "      <td>18812.3</td>\n",
       "      <td>8673.2</td>\n",
       "      <td>4897.8</td>\n",
       "      <td>3775.5</td>\n",
       "      <td>600.6</td>\n",
       "      <td>348.6</td>\n",
       "      <td>252.0</td>\n",
       "      <td>4.75</td>\n",
       "      <td>4.76</td>\n",
       "      <td>133049</td>\n",
       "      <td>-1208</td>\n",
       "      <td>-1208</td>\n",
       "      <td>133049</td>\n",
       "    </tr>\n",
       "  </tbody>\n",
       "</table>\n",
       "</div>"
      ],
      "text/plain": [
       "    Aus_GDP      Pop  Tot Emp  Tot Emp_M  Tot Emp_F  Tot Unemp  Tot Unemp_M  \\\n",
       "0  3.837755  18004.9   8205.6     4657.4     3548.3      723.5        434.2   \n",
       "1  3.878585  18224.8   8311.7     4724.4     3587.3      723.8        424.3   \n",
       "2  3.966538  18423.0   8345.6     4731.9     3613.6      735.2        427.5   \n",
       "3  4.576689  18607.6   8516.8     4801.8     3715.0      702.8        419.9   \n",
       "4  5.073599  18812.3   8673.2     4897.8     3775.5      600.6        348.6   \n",
       "\n",
       "   Tot Unemp_F  Cash Rate Target  Interbank Overnight Cash Rate  TotalIncome  \\\n",
       "0        289.3              7.50                           7.51       107093   \n",
       "1        299.5              7.50                           7.51       113630   \n",
       "2        307.7              5.50                           5.57       120328   \n",
       "3        282.9              5.00                           5.07       124565   \n",
       "4        252.0              4.75                           4.76       133049   \n",
       "\n",
       "   TotalSavings  Net Savings  Gross Income  \n",
       "0           313          313        107093  \n",
       "1           853          853        113630  \n",
       "2          1617         1617        120328  \n",
       "3         -1596        -1596        124565  \n",
       "4         -1208        -1208        133049  "
      ]
     },
     "execution_count": 252,
     "metadata": {},
     "output_type": "execute_result"
    }
   ],
   "source": [
    "# Create df to correlate\n",
    "correlation_df = pd.concat([gdp_aus_new,\n",
    "                            total_population,\n",
    "                            total_employed, \n",
    "                            total_employed_males,\n",
    "                            total_employed_females,\n",
    "                            total_unemployed,\n",
    "                            total_unemployed_males,\n",
    "                            total_unemployed_females,\n",
    "                            cash_rate_target,\n",
    "                            overnight_cash_rate,\n",
    "                            household_income_total,\n",
    "                            household_savings_total,\n",
    "                            net_savings,\n",
    "                            gross_income], axis=1)\n",
    "\n",
    "# Rename to easy convention\n",
    "correlation_renamed_df = correlation_df.rename(columns={\"Australia\": \"Aus_GDP\",\n",
    "                                                        \"EstimatedResidentPopulation\": \"Pop\",\n",
    "                                                        \"TotalEmployed\": \"Tot Emp\",\n",
    "                                                        \"TotalEmployed_M\": \"Tot Emp_M\",\n",
    "                                                        \"TotalEmployed_F\": \"Tot Emp_F\",\n",
    "                                                        \"TotalUnemployed\": \"Tot Unemp\",\n",
    "                                                        \"TotalUnemployed_M\": \"Tot Unemp_M\",\n",
    "                                                        \"TotalUnemployed_F\": \"Tot Unemp_F\",\n",
    "                                                        \"Total Use of Gross Income\": \"Gross Income\"})\n",
    "\n",
    "#Check dataset\n",
    "correlation_renamed_df.head()"
   ]
  },
  {
   "cell_type": "code",
   "execution_count": 253,
   "id": "48e9eaaf",
   "metadata": {},
   "outputs": [
    {
     "data": {
      "text/html": [
       "<div>\n",
       "<style scoped>\n",
       "    .dataframe tbody tr th:only-of-type {\n",
       "        vertical-align: middle;\n",
       "    }\n",
       "\n",
       "    .dataframe tbody tr th {\n",
       "        vertical-align: top;\n",
       "    }\n",
       "\n",
       "    .dataframe thead th {\n",
       "        text-align: right;\n",
       "    }\n",
       "</style>\n",
       "<table border=\"1\" class=\"dataframe\">\n",
       "  <thead>\n",
       "    <tr style=\"text-align: right;\">\n",
       "      <th></th>\n",
       "      <th>Aus_GDP</th>\n",
       "      <th>Pop</th>\n",
       "      <th>Tot Emp</th>\n",
       "      <th>Tot Emp_M</th>\n",
       "      <th>Tot Emp_F</th>\n",
       "      <th>Tot Unemp</th>\n",
       "      <th>Tot Unemp_M</th>\n",
       "      <th>Tot Unemp_F</th>\n",
       "      <th>Cash Rate Target</th>\n",
       "      <th>Interbank Overnight Cash Rate</th>\n",
       "      <th>TotalIncome</th>\n",
       "      <th>TotalSavings</th>\n",
       "      <th>Net Savings</th>\n",
       "      <th>Gross Income</th>\n",
       "    </tr>\n",
       "  </thead>\n",
       "  <tbody>\n",
       "    <tr>\n",
       "      <th>Aus_GDP</th>\n",
       "      <td>1.000000</td>\n",
       "      <td>-0.691931</td>\n",
       "      <td>-0.656788</td>\n",
       "      <td>-0.639940</td>\n",
       "      <td>-0.670489</td>\n",
       "      <td>-0.491373</td>\n",
       "      <td>-0.325596</td>\n",
       "      <td>-0.649577</td>\n",
       "      <td>0.648218</td>\n",
       "      <td>0.654225</td>\n",
       "      <td>-0.682152</td>\n",
       "      <td>-0.691543</td>\n",
       "      <td>-0.691543</td>\n",
       "      <td>-0.682152</td>\n",
       "    </tr>\n",
       "    <tr>\n",
       "      <th>Pop</th>\n",
       "      <td>-0.691931</td>\n",
       "      <td>1.000000</td>\n",
       "      <td>0.988475</td>\n",
       "      <td>0.983934</td>\n",
       "      <td>0.991038</td>\n",
       "      <td>0.363551</td>\n",
       "      <td>0.114982</td>\n",
       "      <td>0.647975</td>\n",
       "      <td>-0.876944</td>\n",
       "      <td>-0.879178</td>\n",
       "      <td>0.995997</td>\n",
       "      <td>0.450761</td>\n",
       "      <td>0.450761</td>\n",
       "      <td>0.995997</td>\n",
       "    </tr>\n",
       "    <tr>\n",
       "      <th>Tot Emp</th>\n",
       "      <td>-0.656788</td>\n",
       "      <td>0.988475</td>\n",
       "      <td>1.000000</td>\n",
       "      <td>0.999140</td>\n",
       "      <td>0.999353</td>\n",
       "      <td>0.228864</td>\n",
       "      <td>-0.022022</td>\n",
       "      <td>0.533304</td>\n",
       "      <td>-0.817632</td>\n",
       "      <td>-0.819762</td>\n",
       "      <td>0.992518</td>\n",
       "      <td>0.370157</td>\n",
       "      <td>0.370157</td>\n",
       "      <td>0.992518</td>\n",
       "    </tr>\n",
       "    <tr>\n",
       "      <th>Tot Emp_M</th>\n",
       "      <td>-0.639940</td>\n",
       "      <td>0.983934</td>\n",
       "      <td>0.999140</td>\n",
       "      <td>1.000000</td>\n",
       "      <td>0.997002</td>\n",
       "      <td>0.207767</td>\n",
       "      <td>-0.043831</td>\n",
       "      <td>0.515813</td>\n",
       "      <td>-0.802005</td>\n",
       "      <td>-0.804060</td>\n",
       "      <td>0.990877</td>\n",
       "      <td>0.361270</td>\n",
       "      <td>0.361270</td>\n",
       "      <td>0.990877</td>\n",
       "    </tr>\n",
       "    <tr>\n",
       "      <th>Tot Emp_F</th>\n",
       "      <td>-0.670489</td>\n",
       "      <td>0.991038</td>\n",
       "      <td>0.999353</td>\n",
       "      <td>0.997002</td>\n",
       "      <td>1.000000</td>\n",
       "      <td>0.246857</td>\n",
       "      <td>-0.003061</td>\n",
       "      <td>0.547741</td>\n",
       "      <td>-0.830057</td>\n",
       "      <td>-0.832250</td>\n",
       "      <td>0.992560</td>\n",
       "      <td>0.377359</td>\n",
       "      <td>0.377359</td>\n",
       "      <td>0.992560</td>\n",
       "    </tr>\n",
       "    <tr>\n",
       "      <th>Tot Unemp</th>\n",
       "      <td>-0.491373</td>\n",
       "      <td>0.363551</td>\n",
       "      <td>0.228864</td>\n",
       "      <td>0.207767</td>\n",
       "      <td>0.246857</td>\n",
       "      <td>1.000000</td>\n",
       "      <td>0.959710</td>\n",
       "      <td>0.927733</td>\n",
       "      <td>-0.577171</td>\n",
       "      <td>-0.577743</td>\n",
       "      <td>0.325373</td>\n",
       "      <td>0.650468</td>\n",
       "      <td>0.650468</td>\n",
       "      <td>0.325373</td>\n",
       "    </tr>\n",
       "    <tr>\n",
       "      <th>Tot Unemp_M</th>\n",
       "      <td>-0.325596</td>\n",
       "      <td>0.114982</td>\n",
       "      <td>-0.022022</td>\n",
       "      <td>-0.043831</td>\n",
       "      <td>-0.003061</td>\n",
       "      <td>0.959710</td>\n",
       "      <td>1.000000</td>\n",
       "      <td>0.785476</td>\n",
       "      <td>-0.386829</td>\n",
       "      <td>-0.386224</td>\n",
       "      <td>0.073991</td>\n",
       "      <td>0.526550</td>\n",
       "      <td>0.526550</td>\n",
       "      <td>0.073991</td>\n",
       "    </tr>\n",
       "    <tr>\n",
       "      <th>Tot Unemp_F</th>\n",
       "      <td>-0.649577</td>\n",
       "      <td>0.647975</td>\n",
       "      <td>0.533304</td>\n",
       "      <td>0.515813</td>\n",
       "      <td>0.547741</td>\n",
       "      <td>0.927733</td>\n",
       "      <td>0.785476</td>\n",
       "      <td>1.000000</td>\n",
       "      <td>-0.757456</td>\n",
       "      <td>-0.759517</td>\n",
       "      <td>0.618355</td>\n",
       "      <td>0.733091</td>\n",
       "      <td>0.733091</td>\n",
       "      <td>0.618355</td>\n",
       "    </tr>\n",
       "    <tr>\n",
       "      <th>Cash Rate Target</th>\n",
       "      <td>0.648218</td>\n",
       "      <td>-0.876944</td>\n",
       "      <td>-0.817632</td>\n",
       "      <td>-0.802005</td>\n",
       "      <td>-0.830057</td>\n",
       "      <td>-0.577171</td>\n",
       "      <td>-0.386829</td>\n",
       "      <td>-0.757456</td>\n",
       "      <td>1.000000</td>\n",
       "      <td>0.999915</td>\n",
       "      <td>-0.848601</td>\n",
       "      <td>-0.492007</td>\n",
       "      <td>-0.492007</td>\n",
       "      <td>-0.848601</td>\n",
       "    </tr>\n",
       "    <tr>\n",
       "      <th>Interbank Overnight Cash Rate</th>\n",
       "      <td>0.654225</td>\n",
       "      <td>-0.879178</td>\n",
       "      <td>-0.819762</td>\n",
       "      <td>-0.804060</td>\n",
       "      <td>-0.832250</td>\n",
       "      <td>-0.577743</td>\n",
       "      <td>-0.386224</td>\n",
       "      <td>-0.759517</td>\n",
       "      <td>0.999915</td>\n",
       "      <td>1.000000</td>\n",
       "      <td>-0.850912</td>\n",
       "      <td>-0.499262</td>\n",
       "      <td>-0.499262</td>\n",
       "      <td>-0.850912</td>\n",
       "    </tr>\n",
       "    <tr>\n",
       "      <th>TotalIncome</th>\n",
       "      <td>-0.682152</td>\n",
       "      <td>0.995997</td>\n",
       "      <td>0.992518</td>\n",
       "      <td>0.990877</td>\n",
       "      <td>0.992560</td>\n",
       "      <td>0.325373</td>\n",
       "      <td>0.073991</td>\n",
       "      <td>0.618355</td>\n",
       "      <td>-0.848601</td>\n",
       "      <td>-0.850912</td>\n",
       "      <td>1.000000</td>\n",
       "      <td>0.456788</td>\n",
       "      <td>0.456788</td>\n",
       "      <td>1.000000</td>\n",
       "    </tr>\n",
       "    <tr>\n",
       "      <th>TotalSavings</th>\n",
       "      <td>-0.691543</td>\n",
       "      <td>0.450761</td>\n",
       "      <td>0.370157</td>\n",
       "      <td>0.361270</td>\n",
       "      <td>0.377359</td>\n",
       "      <td>0.650468</td>\n",
       "      <td>0.526550</td>\n",
       "      <td>0.733091</td>\n",
       "      <td>-0.492007</td>\n",
       "      <td>-0.499262</td>\n",
       "      <td>0.456788</td>\n",
       "      <td>1.000000</td>\n",
       "      <td>1.000000</td>\n",
       "      <td>0.456788</td>\n",
       "    </tr>\n",
       "    <tr>\n",
       "      <th>Net Savings</th>\n",
       "      <td>-0.691543</td>\n",
       "      <td>0.450761</td>\n",
       "      <td>0.370157</td>\n",
       "      <td>0.361270</td>\n",
       "      <td>0.377359</td>\n",
       "      <td>0.650468</td>\n",
       "      <td>0.526550</td>\n",
       "      <td>0.733091</td>\n",
       "      <td>-0.492007</td>\n",
       "      <td>-0.499262</td>\n",
       "      <td>0.456788</td>\n",
       "      <td>1.000000</td>\n",
       "      <td>1.000000</td>\n",
       "      <td>0.456788</td>\n",
       "    </tr>\n",
       "    <tr>\n",
       "      <th>Gross Income</th>\n",
       "      <td>-0.682152</td>\n",
       "      <td>0.995997</td>\n",
       "      <td>0.992518</td>\n",
       "      <td>0.990877</td>\n",
       "      <td>0.992560</td>\n",
       "      <td>0.325373</td>\n",
       "      <td>0.073991</td>\n",
       "      <td>0.618355</td>\n",
       "      <td>-0.848601</td>\n",
       "      <td>-0.850912</td>\n",
       "      <td>1.000000</td>\n",
       "      <td>0.456788</td>\n",
       "      <td>0.456788</td>\n",
       "      <td>1.000000</td>\n",
       "    </tr>\n",
       "  </tbody>\n",
       "</table>\n",
       "</div>"
      ],
      "text/plain": [
       "                                Aus_GDP       Pop   Tot Emp  Tot Emp_M  \\\n",
       "Aus_GDP                        1.000000 -0.691931 -0.656788  -0.639940   \n",
       "Pop                           -0.691931  1.000000  0.988475   0.983934   \n",
       "Tot Emp                       -0.656788  0.988475  1.000000   0.999140   \n",
       "Tot Emp_M                     -0.639940  0.983934  0.999140   1.000000   \n",
       "Tot Emp_F                     -0.670489  0.991038  0.999353   0.997002   \n",
       "Tot Unemp                     -0.491373  0.363551  0.228864   0.207767   \n",
       "Tot Unemp_M                   -0.325596  0.114982 -0.022022  -0.043831   \n",
       "Tot Unemp_F                   -0.649577  0.647975  0.533304   0.515813   \n",
       "Cash Rate Target               0.648218 -0.876944 -0.817632  -0.802005   \n",
       "Interbank Overnight Cash Rate  0.654225 -0.879178 -0.819762  -0.804060   \n",
       "TotalIncome                   -0.682152  0.995997  0.992518   0.990877   \n",
       "TotalSavings                  -0.691543  0.450761  0.370157   0.361270   \n",
       "Net Savings                   -0.691543  0.450761  0.370157   0.361270   \n",
       "Gross Income                  -0.682152  0.995997  0.992518   0.990877   \n",
       "\n",
       "                               Tot Emp_F  Tot Unemp  Tot Unemp_M  Tot Unemp_F  \\\n",
       "Aus_GDP                        -0.670489  -0.491373    -0.325596    -0.649577   \n",
       "Pop                             0.991038   0.363551     0.114982     0.647975   \n",
       "Tot Emp                         0.999353   0.228864    -0.022022     0.533304   \n",
       "Tot Emp_M                       0.997002   0.207767    -0.043831     0.515813   \n",
       "Tot Emp_F                       1.000000   0.246857    -0.003061     0.547741   \n",
       "Tot Unemp                       0.246857   1.000000     0.959710     0.927733   \n",
       "Tot Unemp_M                    -0.003061   0.959710     1.000000     0.785476   \n",
       "Tot Unemp_F                     0.547741   0.927733     0.785476     1.000000   \n",
       "Cash Rate Target               -0.830057  -0.577171    -0.386829    -0.757456   \n",
       "Interbank Overnight Cash Rate  -0.832250  -0.577743    -0.386224    -0.759517   \n",
       "TotalIncome                     0.992560   0.325373     0.073991     0.618355   \n",
       "TotalSavings                    0.377359   0.650468     0.526550     0.733091   \n",
       "Net Savings                     0.377359   0.650468     0.526550     0.733091   \n",
       "Gross Income                    0.992560   0.325373     0.073991     0.618355   \n",
       "\n",
       "                               Cash Rate Target  \\\n",
       "Aus_GDP                                0.648218   \n",
       "Pop                                   -0.876944   \n",
       "Tot Emp                               -0.817632   \n",
       "Tot Emp_M                             -0.802005   \n",
       "Tot Emp_F                             -0.830057   \n",
       "Tot Unemp                             -0.577171   \n",
       "Tot Unemp_M                           -0.386829   \n",
       "Tot Unemp_F                           -0.757456   \n",
       "Cash Rate Target                       1.000000   \n",
       "Interbank Overnight Cash Rate          0.999915   \n",
       "TotalIncome                           -0.848601   \n",
       "TotalSavings                          -0.492007   \n",
       "Net Savings                           -0.492007   \n",
       "Gross Income                          -0.848601   \n",
       "\n",
       "                               Interbank Overnight Cash Rate  TotalIncome  \\\n",
       "Aus_GDP                                             0.654225    -0.682152   \n",
       "Pop                                                -0.879178     0.995997   \n",
       "Tot Emp                                            -0.819762     0.992518   \n",
       "Tot Emp_M                                          -0.804060     0.990877   \n",
       "Tot Emp_F                                          -0.832250     0.992560   \n",
       "Tot Unemp                                          -0.577743     0.325373   \n",
       "Tot Unemp_M                                        -0.386224     0.073991   \n",
       "Tot Unemp_F                                        -0.759517     0.618355   \n",
       "Cash Rate Target                                    0.999915    -0.848601   \n",
       "Interbank Overnight Cash Rate                       1.000000    -0.850912   \n",
       "TotalIncome                                        -0.850912     1.000000   \n",
       "TotalSavings                                       -0.499262     0.456788   \n",
       "Net Savings                                        -0.499262     0.456788   \n",
       "Gross Income                                       -0.850912     1.000000   \n",
       "\n",
       "                               TotalSavings  Net Savings  Gross Income  \n",
       "Aus_GDP                           -0.691543    -0.691543     -0.682152  \n",
       "Pop                                0.450761     0.450761      0.995997  \n",
       "Tot Emp                            0.370157     0.370157      0.992518  \n",
       "Tot Emp_M                          0.361270     0.361270      0.990877  \n",
       "Tot Emp_F                          0.377359     0.377359      0.992560  \n",
       "Tot Unemp                          0.650468     0.650468      0.325373  \n",
       "Tot Unemp_M                        0.526550     0.526550      0.073991  \n",
       "Tot Unemp_F                        0.733091     0.733091      0.618355  \n",
       "Cash Rate Target                  -0.492007    -0.492007     -0.848601  \n",
       "Interbank Overnight Cash Rate     -0.499262    -0.499262     -0.850912  \n",
       "TotalIncome                        0.456788     0.456788      1.000000  \n",
       "TotalSavings                       1.000000     1.000000      0.456788  \n",
       "Net Savings                        1.000000     1.000000      0.456788  \n",
       "Gross Income                       0.456788     0.456788      1.000000  "
      ]
     },
     "execution_count": 253,
     "metadata": {},
     "output_type": "execute_result"
    }
   ],
   "source": [
    "correlation = correlation_renamed_df.corr()\n",
    "correlation"
   ]
  },
  {
   "cell_type": "code",
   "execution_count": 254,
   "id": "dd4c83c1",
   "metadata": {},
   "outputs": [
    {
     "data": {},
     "metadata": {},
     "output_type": "display_data"
    },
    {
     "data": {
      "application/vnd.holoviews_exec.v0+json": "",
      "text/html": [
       "<div id='18161'>\n",
       "\n",
       "\n",
       "\n",
       "\n",
       "\n",
       "  <div class=\"bk-root\" id=\"493f8e3b-784d-4d05-90f3-750a2237be67\" data-root-id=\"18161\"></div>\n",
       "</div>\n",
       "<script type=\"application/javascript\">(function(root) {\n",
       "  function embed_document(root) {\n",
       "    var docs_json = {\"fe9c5cdd-93fb-4852-a465-46d4856902a8\":{\"defs\":[],\"roots\":{\"references\":[{\"attributes\":{},\"id\":\"18221\",\"type\":\"UnionRenderers\"},{\"attributes\":{\"active_multi\":null,\"tools\":[{\"id\":\"18165\"},{\"id\":\"18181\"},{\"id\":\"18182\"},{\"id\":\"18183\"},{\"id\":\"18184\"},{\"id\":\"18185\"}]},\"id\":\"18187\",\"type\":\"Toolbar\"},{\"attributes\":{\"axis\":{\"id\":\"18178\"},\"dimension\":1,\"grid_line_color\":null,\"ticker\":null},\"id\":\"18180\",\"type\":\"Grid\"},{\"attributes\":{\"high\":1.0,\"low\":-0.8791775910574456,\"nan_color\":\"white\",\"palette\":[\"#1331c1\",\"#1832c1\",\"#1c32c0\",\"#1f33c0\",\"#2234bf\",\"#2534bf\",\"#2735bf\",\"#2a36be\",\"#2c37be\",\"#2e37be\",\"#3038bd\",\"#3239bd\",\"#343abd\",\"#363abc\",\"#383bbc\",\"#393cbc\",\"#3b3cbb\",\"#3d3dbb\",\"#3e3ebb\",\"#403fba\",\"#413fba\",\"#4240b9\",\"#4441b9\",\"#4542b9\",\"#4642b8\",\"#4843b8\",\"#4944b8\",\"#4a44b7\",\"#4b45b7\",\"#4d46b7\",\"#4e47b6\",\"#4f47b6\",\"#5048b6\",\"#5149b5\",\"#524ab5\",\"#534ab4\",\"#544bb4\",\"#554cb4\",\"#564db3\",\"#574db3\",\"#584eb3\",\"#594fb2\",\"#5a50b2\",\"#5b50b2\",\"#5c51b1\",\"#5d52b1\",\"#5e52b0\",\"#5f53b0\",\"#6054b0\",\"#6155af\",\"#6155af\",\"#6256af\",\"#6357ae\",\"#6458ae\",\"#6558ad\",\"#6659ad\",\"#665aad\",\"#675bac\",\"#685bac\",\"#695cac\",\"#695dab\",\"#6a5eab\",\"#6b5eab\",\"#6c5faa\",\"#6c60aa\",\"#6d61a9\",\"#6e61a9\",\"#6f62a9\",\"#6f63a8\",\"#7064a8\",\"#7164a7\",\"#7165a7\",\"#7266a7\",\"#7367a6\",\"#7367a6\",\"#7468a6\",\"#7569a5\",\"#756aa5\",\"#766aa4\",\"#776ba4\",\"#776ca4\",\"#786da3\",\"#786da3\",\"#796ea2\",\"#7a6fa2\",\"#7a70a2\",\"#7b70a1\",\"#7b71a1\",\"#7c72a0\",\"#7d73a0\",\"#7d73a0\",\"#7e749f\",\"#7e759f\",\"#7f769e\",\"#80769e\",\"#80779e\",\"#81789d\",\"#81799d\",\"#82799c\",\"#827a9c\",\"#837b9c\",\"#837c9b\",\"#847c9b\",\"#847d9a\",\"#857e9a\",\"#857f9a\",\"#868099\",\"#868099\",\"#878198\",\"#878298\",\"#888398\",\"#888397\",\"#898497\",\"#898596\",\"#8a8696\",\"#8a8695\",\"#8b8795\",\"#8b8895\",\"#8c8994\",\"#8c8a94\",\"#8d8a93\",\"#8d8b93\",\"#8e8c92\",\"#8e8d92\",\"#8e8d92\",\"#8f8e91\",\"#8f8f91\",\"#909090\",\"#919090\",\"#92918f\",\"#93928f\",\"#94928e\",\"#95938d\",\"#96938d\",\"#97948c\",\"#98958c\",\"#99958b\",\"#9a968a\",\"#9b968a\",\"#9c9789\",\"#9d9888\",\"#9e9888\",\"#9f9987\",\"#a09a87\",\"#a19a86\",\"#a29b85\",\"#a29b85\",\"#a39c84\",\"#a49d83\",\"#a59d83\",\"#a69e82\",\"#a79f82\",\"#a89f81\",\"#a9a080\",\"#aaa080\",\"#aba17f\",\"#aca27e\",\"#ada27e\",\"#aea37d\",\"#aea47c\",\"#afa47c\",\"#b0a57b\",\"#b1a67a\",\"#b2a67a\",\"#b3a779\",\"#b4a778\",\"#b5a878\",\"#b6a977\",\"#b6a976\",\"#b7aa76\",\"#b8ab75\",\"#b9ab74\",\"#baac73\",\"#bbad73\",\"#bcad72\",\"#bdae71\",\"#bdae71\",\"#beaf70\",\"#bfb06f\",\"#c0b06e\",\"#c1b16e\",\"#c2b26d\",\"#c3b26c\",\"#c3b36b\",\"#c4b46b\",\"#c5b46a\",\"#c6b569\",\"#c7b668\",\"#c8b668\",\"#c8b767\",\"#c9b866\",\"#cab865\",\"#cbb965\",\"#ccba64\",\"#ccba63\",\"#cdbb62\",\"#cebc61\",\"#cfbc60\",\"#d0bd60\",\"#d1be5f\",\"#d1be5e\",\"#d2bf5d\",\"#d3c05c\",\"#d4c05b\",\"#d5c15a\",\"#d5c25a\",\"#d6c259\",\"#d7c358\",\"#d8c457\",\"#d9c456\",\"#d9c555\",\"#dac654\",\"#dbc653\",\"#dcc752\",\"#ddc851\",\"#ddc850\",\"#dec94f\",\"#dfca4e\",\"#e0ca4d\",\"#e1cb4c\",\"#e1cc4b\",\"#e2cc4a\",\"#e3cd49\",\"#e4ce48\",\"#e4ce47\",\"#e5cf46\",\"#e6d044\",\"#e7d043\",\"#e8d142\",\"#e8d241\",\"#e9d240\",\"#ead33e\",\"#ebd43d\",\"#ebd43c\",\"#ecd53a\",\"#edd639\",\"#eed637\",\"#efd736\",\"#efd834\",\"#f0d833\",\"#f1d931\",\"#f2da30\",\"#f2da2e\",\"#f3db2c\",\"#f4dc2a\",\"#f5dd28\",\"#f5dd26\",\"#f6de24\",\"#f7df22\",\"#f8df1f\",\"#f8e01d\",\"#f9e11a\",\"#fae116\",\"#fbe213\",\"#fbe30e\",\"#fce309\"]},\"id\":\"18194\",\"type\":\"LinearColorMapper\"},{\"attributes\":{},\"id\":\"18204\",\"type\":\"BasicTicker\"},{\"attributes\":{\"below\":[{\"id\":\"18175\"}],\"center\":[{\"id\":\"18177\"},{\"id\":\"18180\"}],\"height\":300,\"left\":[{\"id\":\"18178\"}],\"margin\":[5,5,5,5],\"min_border_bottom\":10,\"min_border_left\":10,\"min_border_right\":10,\"min_border_top\":10,\"renderers\":[{\"id\":\"18202\"}],\"right\":[{\"id\":\"18205\"}],\"sizing_mode\":\"fixed\",\"title\":{\"id\":\"18167\"},\"toolbar\":{\"id\":\"18187\"},\"width\":700,\"x_range\":{\"id\":\"18163\"},\"x_scale\":{\"id\":\"18171\"},\"y_range\":{\"id\":\"18164\"},\"y_scale\":{\"id\":\"18173\"}},\"id\":\"18166\",\"subtype\":\"Figure\",\"type\":\"Plot\"},{\"attributes\":{},\"id\":\"18179\",\"type\":\"CategoricalTicker\"},{\"attributes\":{},\"id\":\"18210\",\"type\":\"AllLabels\"},{\"attributes\":{\"bottom_units\":\"screen\",\"fill_alpha\":0.5,\"fill_color\":\"lightgrey\",\"left_units\":\"screen\",\"level\":\"overlay\",\"line_alpha\":1.0,\"line_color\":\"black\",\"line_dash\":[4,4],\"line_width\":2,\"right_units\":\"screen\",\"syncable\":false,\"top_units\":\"screen\"},\"id\":\"18186\",\"type\":\"BoxAnnotation\"},{\"attributes\":{\"margin\":[5,5,5,5],\"name\":\"HSpacer71875\",\"sizing_mode\":\"stretch_width\"},\"id\":\"18234\",\"type\":\"Spacer\"},{\"attributes\":{},\"id\":\"18171\",\"type\":\"CategoricalScale\"},{\"attributes\":{\"children\":[{\"id\":\"18162\"},{\"id\":\"18166\"},{\"id\":\"18234\"}],\"margin\":[0,0,0,0],\"name\":\"Row71870\",\"tags\":[\"embedded\"]},\"id\":\"18161\",\"type\":\"Row\"},{\"attributes\":{\"axis\":{\"id\":\"18175\"},\"grid_line_color\":null,\"ticker\":null},\"id\":\"18177\",\"type\":\"Grid\"},{\"attributes\":{},\"id\":\"18209\",\"type\":\"CategoricalTickFormatter\"},{\"attributes\":{\"callback\":null,\"renderers\":[{\"id\":\"18202\"}],\"tags\":[\"hv_created\"],\"tooltips\":[[\"columns\",\"@{columns}\"],[\"index\",\"@{index}\"],[\"value\",\"@{value}\"]]},\"id\":\"18165\",\"type\":\"HoverTool\"},{\"attributes\":{\"margin\":[5,5,5,5],\"name\":\"HSpacer71874\",\"sizing_mode\":\"stretch_width\"},\"id\":\"18162\",\"type\":\"Spacer\"},{\"attributes\":{\"data\":{\"columns\":[\"Aus_GDP\",\"Aus_GDP\",\"Aus_GDP\",\"Aus_GDP\",\"Aus_GDP\",\"Aus_GDP\",\"Aus_GDP\",\"Aus_GDP\",\"Aus_GDP\",\"Aus_GDP\",\"Aus_GDP\",\"Aus_GDP\",\"Aus_GDP\",\"Aus_GDP\",\"Pop\",\"Pop\",\"Pop\",\"Pop\",\"Pop\",\"Pop\",\"Pop\",\"Pop\",\"Pop\",\"Pop\",\"Pop\",\"Pop\",\"Pop\",\"Pop\",\"Tot Emp\",\"Tot Emp\",\"Tot Emp\",\"Tot Emp\",\"Tot Emp\",\"Tot Emp\",\"Tot Emp\",\"Tot Emp\",\"Tot Emp\",\"Tot Emp\",\"Tot Emp\",\"Tot Emp\",\"Tot Emp\",\"Tot Emp\",\"Tot Emp_M\",\"Tot Emp_M\",\"Tot Emp_M\",\"Tot Emp_M\",\"Tot Emp_M\",\"Tot Emp_M\",\"Tot Emp_M\",\"Tot Emp_M\",\"Tot Emp_M\",\"Tot Emp_M\",\"Tot Emp_M\",\"Tot Emp_M\",\"Tot Emp_M\",\"Tot Emp_M\",\"Tot Emp_F\",\"Tot Emp_F\",\"Tot Emp_F\",\"Tot Emp_F\",\"Tot Emp_F\",\"Tot Emp_F\",\"Tot Emp_F\",\"Tot Emp_F\",\"Tot Emp_F\",\"Tot Emp_F\",\"Tot Emp_F\",\"Tot Emp_F\",\"Tot Emp_F\",\"Tot Emp_F\",\"Tot Unemp\",\"Tot Unemp\",\"Tot Unemp\",\"Tot Unemp\",\"Tot Unemp\",\"Tot Unemp\",\"Tot Unemp\",\"Tot Unemp\",\"Tot Unemp\",\"Tot Unemp\",\"Tot Unemp\",\"Tot Unemp\",\"Tot Unemp\",\"Tot Unemp\",\"Tot Unemp_M\",\"Tot Unemp_M\",\"Tot Unemp_M\",\"Tot Unemp_M\",\"Tot Unemp_M\",\"Tot Unemp_M\",\"Tot Unemp_M\",\"Tot Unemp_M\",\"Tot Unemp_M\",\"Tot Unemp_M\",\"Tot Unemp_M\",\"Tot Unemp_M\",\"Tot Unemp_M\",\"Tot Unemp_M\",\"Tot Unemp_F\",\"Tot Unemp_F\",\"Tot Unemp_F\",\"Tot Unemp_F\",\"Tot Unemp_F\",\"Tot Unemp_F\",\"Tot Unemp_F\",\"Tot Unemp_F\",\"Tot Unemp_F\",\"Tot Unemp_F\",\"Tot Unemp_F\",\"Tot Unemp_F\",\"Tot Unemp_F\",\"Tot Unemp_F\",\"Cash Rate Target\",\"Cash Rate Target\",\"Cash Rate Target\",\"Cash Rate Target\",\"Cash Rate Target\",\"Cash Rate Target\",\"Cash Rate Target\",\"Cash Rate Target\",\"Cash Rate Target\",\"Cash Rate Target\",\"Cash Rate Target\",\"Cash Rate Target\",\"Cash Rate Target\",\"Cash Rate Target\",\"Interbank Overnight Cash Rate\",\"Interbank Overnight Cash Rate\",\"Interbank Overnight Cash Rate\",\"Interbank Overnight Cash Rate\",\"Interbank Overnight Cash Rate\",\"Interbank Overnight Cash Rate\",\"Interbank Overnight Cash Rate\",\"Interbank Overnight Cash Rate\",\"Interbank Overnight Cash Rate\",\"Interbank Overnight Cash Rate\",\"Interbank Overnight Cash Rate\",\"Interbank Overnight Cash Rate\",\"Interbank Overnight Cash Rate\",\"Interbank Overnight Cash Rate\",\"TotalIncome\",\"TotalIncome\",\"TotalIncome\",\"TotalIncome\",\"TotalIncome\",\"TotalIncome\",\"TotalIncome\",\"TotalIncome\",\"TotalIncome\",\"TotalIncome\",\"TotalIncome\",\"TotalIncome\",\"TotalIncome\",\"TotalIncome\",\"TotalSavings\",\"TotalSavings\",\"TotalSavings\",\"TotalSavings\",\"TotalSavings\",\"TotalSavings\",\"TotalSavings\",\"TotalSavings\",\"TotalSavings\",\"TotalSavings\",\"TotalSavings\",\"TotalSavings\",\"TotalSavings\",\"TotalSavings\",\"Net Savings\",\"Net Savings\",\"Net Savings\",\"Net Savings\",\"Net Savings\",\"Net Savings\",\"Net Savings\",\"Net Savings\",\"Net Savings\",\"Net Savings\",\"Net Savings\",\"Net Savings\",\"Net Savings\",\"Net Savings\",\"Gross Income\",\"Gross Income\",\"Gross Income\",\"Gross Income\",\"Gross Income\",\"Gross Income\",\"Gross Income\",\"Gross Income\",\"Gross Income\",\"Gross Income\",\"Gross Income\",\"Gross Income\",\"Gross Income\",\"Gross Income\"],\"index\":[\"Aus_GDP\",\"Pop\",\"Tot Emp\",\"Tot Emp_M\",\"Tot Emp_F\",\"Tot Unemp\",\"Tot Unemp_M\",\"Tot Unemp_F\",\"Cash Rate Target\",\"Interbank Overnight Cash Rate\",\"TotalIncome\",\"TotalSavings\",\"Net Savings\",\"Gross Income\",\"Aus_GDP\",\"Pop\",\"Tot Emp\",\"Tot Emp_M\",\"Tot Emp_F\",\"Tot Unemp\",\"Tot Unemp_M\",\"Tot Unemp_F\",\"Cash Rate Target\",\"Interbank Overnight Cash Rate\",\"TotalIncome\",\"TotalSavings\",\"Net Savings\",\"Gross Income\",\"Aus_GDP\",\"Pop\",\"Tot Emp\",\"Tot Emp_M\",\"Tot Emp_F\",\"Tot Unemp\",\"Tot Unemp_M\",\"Tot Unemp_F\",\"Cash Rate Target\",\"Interbank Overnight Cash Rate\",\"TotalIncome\",\"TotalSavings\",\"Net Savings\",\"Gross Income\",\"Aus_GDP\",\"Pop\",\"Tot Emp\",\"Tot Emp_M\",\"Tot Emp_F\",\"Tot Unemp\",\"Tot Unemp_M\",\"Tot Unemp_F\",\"Cash Rate Target\",\"Interbank Overnight Cash Rate\",\"TotalIncome\",\"TotalSavings\",\"Net Savings\",\"Gross Income\",\"Aus_GDP\",\"Pop\",\"Tot Emp\",\"Tot Emp_M\",\"Tot Emp_F\",\"Tot Unemp\",\"Tot Unemp_M\",\"Tot Unemp_F\",\"Cash Rate Target\",\"Interbank Overnight Cash Rate\",\"TotalIncome\",\"TotalSavings\",\"Net Savings\",\"Gross Income\",\"Aus_GDP\",\"Pop\",\"Tot Emp\",\"Tot Emp_M\",\"Tot Emp_F\",\"Tot Unemp\",\"Tot Unemp_M\",\"Tot Unemp_F\",\"Cash Rate Target\",\"Interbank Overnight Cash Rate\",\"TotalIncome\",\"TotalSavings\",\"Net Savings\",\"Gross Income\",\"Aus_GDP\",\"Pop\",\"Tot Emp\",\"Tot Emp_M\",\"Tot Emp_F\",\"Tot Unemp\",\"Tot Unemp_M\",\"Tot Unemp_F\",\"Cash Rate Target\",\"Interbank Overnight Cash Rate\",\"TotalIncome\",\"TotalSavings\",\"Net Savings\",\"Gross Income\",\"Aus_GDP\",\"Pop\",\"Tot Emp\",\"Tot Emp_M\",\"Tot Emp_F\",\"Tot Unemp\",\"Tot Unemp_M\",\"Tot Unemp_F\",\"Cash Rate Target\",\"Interbank Overnight Cash Rate\",\"TotalIncome\",\"TotalSavings\",\"Net Savings\",\"Gross Income\",\"Aus_GDP\",\"Pop\",\"Tot Emp\",\"Tot Emp_M\",\"Tot Emp_F\",\"Tot Unemp\",\"Tot Unemp_M\",\"Tot Unemp_F\",\"Cash Rate Target\",\"Interbank Overnight Cash Rate\",\"TotalIncome\",\"TotalSavings\",\"Net Savings\",\"Gross Income\",\"Aus_GDP\",\"Pop\",\"Tot Emp\",\"Tot Emp_M\",\"Tot Emp_F\",\"Tot Unemp\",\"Tot Unemp_M\",\"Tot Unemp_F\",\"Cash Rate Target\",\"Interbank Overnight Cash Rate\",\"TotalIncome\",\"TotalSavings\",\"Net Savings\",\"Gross Income\",\"Aus_GDP\",\"Pop\",\"Tot Emp\",\"Tot Emp_M\",\"Tot Emp_F\",\"Tot Unemp\",\"Tot Unemp_M\",\"Tot Unemp_F\",\"Cash Rate Target\",\"Interbank Overnight Cash Rate\",\"TotalIncome\",\"TotalSavings\",\"Net Savings\",\"Gross Income\",\"Aus_GDP\",\"Pop\",\"Tot Emp\",\"Tot Emp_M\",\"Tot Emp_F\",\"Tot Unemp\",\"Tot Unemp_M\",\"Tot Unemp_F\",\"Cash Rate Target\",\"Interbank Overnight Cash Rate\",\"TotalIncome\",\"TotalSavings\",\"Net Savings\",\"Gross Income\",\"Aus_GDP\",\"Pop\",\"Tot Emp\",\"Tot Emp_M\",\"Tot Emp_F\",\"Tot Unemp\",\"Tot Unemp_M\",\"Tot Unemp_F\",\"Cash Rate Target\",\"Interbank Overnight Cash Rate\",\"TotalIncome\",\"TotalSavings\",\"Net Savings\",\"Gross Income\",\"Aus_GDP\",\"Pop\",\"Tot Emp\",\"Tot Emp_M\",\"Tot Emp_F\",\"Tot Unemp\",\"Tot Unemp_M\",\"Tot Unemp_F\",\"Cash Rate Target\",\"Interbank Overnight Cash Rate\",\"TotalIncome\",\"TotalSavings\",\"Net Savings\",\"Gross Income\"],\"value\":[\"1\",\"-0.69193\",\"-0.65679\",\"-0.63994\",\"-0.67049\",\"-0.49137\",\"-0.3256\",\"-0.64958\",\"0.64822\",\"0.65423\",\"-0.68215\",\"-0.69154\",\"-0.69154\",\"-0.68215\",\"-0.69193\",\"1\",\"0.98847\",\"0.98393\",\"0.99104\",\"0.36355\",\"0.11498\",\"0.64797\",\"-0.87694\",\"-0.87918\",\"0.996\",\"0.45076\",\"0.45076\",\"0.996\",\"-0.65679\",\"0.98847\",\"1\",\"0.99914\",\"0.99935\",\"0.22886\",\"-0.022022\",\"0.5333\",\"-0.81763\",\"-0.81976\",\"0.99252\",\"0.37016\",\"0.37016\",\"0.99252\",\"-0.63994\",\"0.98393\",\"0.99914\",\"1\",\"0.997\",\"0.20777\",\"-0.043831\",\"0.51581\",\"-0.802\",\"-0.80406\",\"0.99088\",\"0.36127\",\"0.36127\",\"0.99088\",\"-0.67049\",\"0.99104\",\"0.99935\",\"0.997\",\"1\",\"0.24686\",\"-0.0030607\",\"0.54774\",\"-0.83006\",\"-0.83225\",\"0.99256\",\"0.37736\",\"0.37736\",\"0.99256\",\"-0.49137\",\"0.36355\",\"0.22886\",\"0.20777\",\"0.24686\",\"1\",\"0.95971\",\"0.92773\",\"-0.57717\",\"-0.57774\",\"0.32537\",\"0.65047\",\"0.65047\",\"0.32537\",\"-0.3256\",\"0.11498\",\"-0.022022\",\"-0.043831\",\"-0.0030607\",\"0.95971\",\"1\",\"0.78548\",\"-0.38683\",\"-0.38622\",\"0.073991\",\"0.52655\",\"0.52655\",\"0.073991\",\"-0.64958\",\"0.64797\",\"0.5333\",\"0.51581\",\"0.54774\",\"0.92773\",\"0.78548\",\"1\",\"-0.75746\",\"-0.75952\",\"0.61835\",\"0.73309\",\"0.73309\",\"0.61835\",\"0.64822\",\"-0.87694\",\"-0.81763\",\"-0.802\",\"-0.83006\",\"-0.57717\",\"-0.38683\",\"-0.75746\",\"1\",\"0.99991\",\"-0.8486\",\"-0.49201\",\"-0.49201\",\"-0.8486\",\"0.65423\",\"-0.87918\",\"-0.81976\",\"-0.80406\",\"-0.83225\",\"-0.57774\",\"-0.38622\",\"-0.75952\",\"0.99991\",\"1\",\"-0.85091\",\"-0.49926\",\"-0.49926\",\"-0.85091\",\"-0.68215\",\"0.996\",\"0.99252\",\"0.99088\",\"0.99256\",\"0.32537\",\"0.073991\",\"0.61835\",\"-0.8486\",\"-0.85091\",\"1\",\"0.45679\",\"0.45679\",\"1\",\"-0.69154\",\"0.45076\",\"0.37016\",\"0.36127\",\"0.37736\",\"0.65047\",\"0.52655\",\"0.73309\",\"-0.49201\",\"-0.49926\",\"0.45679\",\"1\",\"1\",\"0.45679\",\"-0.69154\",\"0.45076\",\"0.37016\",\"0.36127\",\"0.37736\",\"0.65047\",\"0.52655\",\"0.73309\",\"-0.49201\",\"-0.49926\",\"0.45679\",\"1\",\"1\",\"0.45679\",\"-0.68215\",\"0.996\",\"0.99252\",\"0.99088\",\"0.99256\",\"0.32537\",\"0.073991\",\"0.61835\",\"-0.8486\",\"-0.85091\",\"1\",\"0.45679\",\"0.45679\",\"1\"],\"zvalues\":{\"__ndarray__\":\"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\",\"dtype\":\"float64\",\"order\":\"little\",\"shape\":[196]}},\"selected\":{\"id\":\"18196\"},\"selection_policy\":{\"id\":\"18221\"}},\"id\":\"18195\",\"type\":\"ColumnDataSource\"},{\"attributes\":{},\"id\":\"18173\",\"type\":\"CategoricalScale\"},{\"attributes\":{},\"id\":\"18207\",\"type\":\"AllLabels\"},{\"attributes\":{},\"id\":\"18181\",\"type\":\"SaveTool\"},{\"attributes\":{},\"id\":\"18182\",\"type\":\"PanTool\"},{\"attributes\":{},\"id\":\"18185\",\"type\":\"ResetTool\"},{\"attributes\":{},\"id\":\"18196\",\"type\":\"Selection\"},{\"attributes\":{},\"id\":\"18183\",\"type\":\"WheelZoomTool\"},{\"attributes\":{},\"id\":\"18176\",\"type\":\"CategoricalTicker\"},{\"attributes\":{\"overlay\":{\"id\":\"18186\"}},\"id\":\"18184\",\"type\":\"BoxZoomTool\"},{\"attributes\":{\"text_color\":\"black\",\"text_font_size\":\"12pt\"},\"id\":\"18167\",\"type\":\"Title\"},{\"attributes\":{},\"id\":\"18206\",\"type\":\"CategoricalTickFormatter\"},{\"attributes\":{},\"id\":\"18213\",\"type\":\"NoOverlap\"},{\"attributes\":{\"fill_alpha\":{\"value\":0.9},\"fill_color\":{\"value\":\"cyan\"},\"height\":{\"value\":1},\"line_alpha\":{\"value\":0},\"line_color\":{\"value\":\"cyan\"},\"width\":{\"value\":1},\"x\":{\"field\":\"columns\"},\"y\":{\"field\":\"index\"}},\"id\":\"18201\",\"type\":\"Rect\"},{\"attributes\":{\"factors\":[\"Aus_GDP\",\"Pop\",\"Tot Emp\",\"Tot Emp_M\",\"Tot Emp_F\",\"Tot Unemp\",\"Tot Unemp_M\",\"Tot Unemp_F\",\"Cash Rate Target\",\"Interbank Overnight Cash Rate\",\"TotalIncome\",\"TotalSavings\",\"Net Savings\",\"Gross Income\"],\"tags\":[[[\"index\",\"index\",null]]]},\"id\":\"18164\",\"type\":\"FactorRange\"},{\"attributes\":{\"fill_alpha\":{\"value\":0.9},\"fill_color\":{\"field\":\"zvalues\",\"transform\":{\"id\":\"18194\"}},\"height\":{\"value\":1},\"line_alpha\":{\"value\":0},\"line_color\":{\"value\":\"#1f77b4\"},\"width\":{\"value\":1},\"x\":{\"field\":\"columns\"},\"y\":{\"field\":\"index\"}},\"id\":\"18198\",\"type\":\"Rect\"},{\"attributes\":{\"axis_label\":\"\",\"formatter\":{\"id\":\"18209\"},\"major_label_policy\":{\"id\":\"18210\"},\"ticker\":{\"id\":\"18179\"}},\"id\":\"18178\",\"type\":\"CategoricalAxis\"},{\"attributes\":{\"fill_alpha\":{\"value\":0.9},\"fill_color\":{\"field\":\"zvalues\",\"transform\":{\"id\":\"18194\"}},\"height\":{\"value\":1},\"line_alpha\":{\"value\":0},\"line_color\":{\"value\":\"#1f77b4\"},\"width\":{\"value\":1},\"x\":{\"field\":\"columns\"},\"y\":{\"field\":\"index\"}},\"id\":\"18200\",\"type\":\"Rect\"},{\"attributes\":{\"fill_alpha\":{\"value\":0.9},\"fill_color\":{\"field\":\"zvalues\",\"transform\":{\"id\":\"18194\"}},\"height\":{\"value\":1},\"line_alpha\":{\"value\":0},\"line_color\":{\"value\":\"#1f77b4\"},\"width\":{\"value\":1},\"x\":{\"field\":\"columns\"},\"y\":{\"field\":\"index\"}},\"id\":\"18199\",\"type\":\"Rect\"},{\"attributes\":{\"factors\":[\"Aus_GDP\",\"Pop\",\"Tot Emp\",\"Tot Emp_M\",\"Tot Emp_F\",\"Tot Unemp\",\"Tot Unemp_M\",\"Tot Unemp_F\",\"Cash Rate Target\",\"Interbank Overnight Cash Rate\",\"TotalIncome\",\"TotalSavings\",\"Net Savings\",\"Gross Income\"],\"tags\":[[[\"columns\",\"columns\",null]]]},\"id\":\"18163\",\"type\":\"FactorRange\"},{\"attributes\":{\"source\":{\"id\":\"18195\"}},\"id\":\"18203\",\"type\":\"CDSView\"},{\"attributes\":{\"data_source\":{\"id\":\"18195\"},\"glyph\":{\"id\":\"18198\"},\"hover_glyph\":{\"id\":\"18201\"},\"muted_glyph\":null,\"nonselection_glyph\":{\"id\":\"18199\"},\"selection_glyph\":{\"id\":\"18200\"},\"view\":{\"id\":\"18203\"}},\"id\":\"18202\",\"type\":\"GlyphRenderer\"},{\"attributes\":{\"bar_line_color\":\"black\",\"color_mapper\":{\"id\":\"18194\"},\"label_standoff\":8,\"location\":[0,0],\"major_label_policy\":{\"id\":\"18213\"},\"major_tick_line_color\":\"black\",\"ticker\":{\"id\":\"18204\"}},\"id\":\"18205\",\"type\":\"ColorBar\"},{\"attributes\":{\"axis_label\":\"\",\"formatter\":{\"id\":\"18206\"},\"major_label_policy\":{\"id\":\"18207\"},\"ticker\":{\"id\":\"18176\"}},\"id\":\"18175\",\"type\":\"CategoricalAxis\"}],\"root_ids\":[\"18161\"]},\"title\":\"Bokeh Application\",\"version\":\"2.3.2\"}};\n",
       "    var render_items = [{\"docid\":\"fe9c5cdd-93fb-4852-a465-46d4856902a8\",\"root_ids\":[\"18161\"],\"roots\":{\"18161\":\"493f8e3b-784d-4d05-90f3-750a2237be67\"}}];\n",
       "    root.Bokeh.embed.embed_items_notebook(docs_json, render_items);\n",
       "  }\n",
       "  if (root.Bokeh !== undefined && root.Bokeh.Panel !== undefined && root['Plotly'] !== undefined ) {\n",
       "    embed_document(root);\n",
       "  } else {\n",
       "    var attempts = 0;\n",
       "    var timer = setInterval(function(root) {\n",
       "      if (root.Bokeh !== undefined && root.Bokeh.Panel !== undefined && root['Plotly'] !== undefined) {\n",
       "        clearInterval(timer);\n",
       "        embed_document(root);\n",
       "      } else if (document.readyState == \"complete\") {\n",
       "        attempts++;\n",
       "        if (attempts > 100) {\n",
       "          clearInterval(timer);\n",
       "          console.log(\"Bokeh: ERROR: Unable to run BokehJS code because BokehJS library is missing\");\n",
       "        }\n",
       "      }\n",
       "    }, 10, root)\n",
       "  }\n",
       "})(window);</script>"
      ],
      "text/plain": [
       ":HeatMap   [columns,index]   (value)"
      ]
     },
     "execution_count": 254,
     "metadata": {
      "application/vnd.holoviews_exec.v0+json": {
       "id": "18161"
      }
     },
     "output_type": "execute_result"
    }
   ],
   "source": [
    "heatmap_plot = correlation.hvplot.heatmap(ymarks_hover_color='cyan',\n",
    "                                          hover_color='cyan',\n",
    "                                          alpha=0.9,\n",
    "                                          colorbar=True,\n",
    "                                          cmap='bjy')\n",
    "heatmap_plot"
   ]
  },
  {
   "cell_type": "code",
   "execution_count": 255,
   "id": "60481152",
   "metadata": {},
   "outputs": [
    {
     "data": {
      "application/vnd.plotly.v1+json": {
       "config": {
        "linkText": "Export to plot.ly",
        "plotlyServerURL": "https://plot.ly",
        "showLink": true
       },
       "data": [
        {
         "colorscale": [
          [
           0,
           "rgb(255, 153, 51)"
          ],
          [
           0.1111111111111111,
           "rgb(55, 128, 191)"
          ],
          [
           0.2222222222222222,
           "rgb(50, 171, 96)"
          ],
          [
           0.3333333333333333,
           "rgb(128, 0, 128)"
          ],
          [
           0.4444444444444444,
           "rgb(219, 64, 82)"
          ],
          [
           0.5555555555555556,
           "rgb(0, 128, 128)"
          ],
          [
           0.6666666666666666,
           "rgb(255, 255, 51)"
          ],
          [
           0.7777777777777778,
           "rgb(128, 128, 0)"
          ],
          [
           0.8888888888888888,
           "rgb(251, 128, 114)"
          ],
          [
           1,
           "rgb(128, 177, 211)"
          ]
         ],
         "type": "heatmap",
         "x": [
          "Aus_GDP",
          "Pop",
          "Tot Emp",
          "Tot Emp_M",
          "Tot Emp_F",
          "Tot Unemp",
          "Tot Unemp_M",
          "Tot Unemp_F",
          "Cash Rate Target",
          "Interbank Overnight Cash Rate",
          "TotalIncome",
          "TotalSavings",
          "Net Savings",
          "Gross Income"
         ],
         "y": [
          "Aus_GDP",
          "Pop",
          "Tot Emp",
          "Tot Emp_M",
          "Tot Emp_F",
          "Tot Unemp",
          "Tot Unemp_M",
          "Tot Unemp_F",
          "Cash Rate Target",
          "Interbank Overnight Cash Rate",
          "TotalIncome",
          "TotalSavings",
          "Net Savings",
          "Gross Income"
         ],
         "z": [
          [
           1,
           -0.691931445784184,
           -0.656788144120433,
           -0.6399404900916744,
           -0.6704889484788851,
           -0.49137298207769065,
           -0.3255956952721895,
           -0.6495772804298379,
           0.6482181970139462,
           0.6542252181037104,
           -0.6821521287719773,
           -0.6915432225975833,
           -0.6915432225975833,
           -0.6821521287719773
          ],
          [
           -0.691931445784184,
           1,
           0.988474905001161,
           0.9839344247686658,
           0.9910379605681601,
           0.3635510065819633,
           0.11498165604857465,
           0.6479745212486764,
           -0.8769442363481376,
           -0.8791775910574456,
           0.9959970272968738,
           0.4507606556222155,
           0.4507606556222155,
           0.9959970272968738
          ],
          [
           -0.656788144120433,
           0.988474905001161,
           1,
           0.9991400682168589,
           0.999352667643689,
           0.22886436766517523,
           -0.022022161292080285,
           0.5333038309137238,
           -0.8176319133126654,
           -0.8197622121190873,
           0.9925177219343275,
           0.3701568714338084,
           0.3701568714338084,
           0.9925177219343275
          ],
          [
           -0.6399404900916744,
           0.9839344247686658,
           0.9991400682168589,
           1,
           0.9970016623406531,
           0.20776707898155936,
           -0.04383148830247284,
           0.5158127229482904,
           -0.8020048096390955,
           -0.8040601054519465,
           0.9908770033527661,
           0.3612698579974478,
           0.3612698579974478,
           0.9908770033527661
          ],
          [
           -0.6704889484788851,
           0.9910379605681601,
           0.999352667643689,
           0.9970016623406531,
           1,
           0.24685724293229366,
           -0.0030607468498668514,
           0.54774123056749,
           -0.8300569903804802,
           -0.832249562424881,
           0.9925598013867633,
           0.37735882217420014,
           0.37735882217420014,
           0.9925598013867633
          ],
          [
           -0.49137298207769065,
           0.3635510065819633,
           0.22886436766517523,
           0.20776707898155936,
           0.24685724293229366,
           1,
           0.9597101965635891,
           0.9277329515871195,
           -0.5771706206894996,
           -0.5777434608252638,
           0.3253730695295412,
           0.6504676891316702,
           0.6504676891316702,
           0.3253730695295412
          ],
          [
           -0.3255956952721895,
           0.11498165604857465,
           -0.022022161292080285,
           -0.04383148830247284,
           -0.0030607468498668514,
           0.9597101965635891,
           1,
           0.7854764793427229,
           -0.3868294095847179,
           -0.38622418706468825,
           0.07399101999299339,
           0.526549692264822,
           0.526549692264822,
           0.07399101999299339
          ],
          [
           -0.6495772804298379,
           0.6479745212486764,
           0.5333038309137238,
           0.5158127229482904,
           0.54774123056749,
           0.9277329515871195,
           0.7854764793427229,
           1,
           -0.7574563116356238,
           -0.7595173651720967,
           0.6183548175340507,
           0.7330914445718841,
           0.7330914445718841,
           0.6183548175340507
          ],
          [
           0.6482181970139462,
           -0.8769442363481376,
           -0.8176319133126654,
           -0.8020048096390955,
           -0.8300569903804802,
           -0.5771706206894996,
           -0.3868294095847179,
           -0.7574563116356238,
           1,
           0.9999148317955988,
           -0.8486006681484498,
           -0.4920066048130537,
           -0.4920066048130537,
           -0.8486006681484498
          ],
          [
           0.6542252181037104,
           -0.8791775910574456,
           -0.8197622121190873,
           -0.8040601054519465,
           -0.832249562424881,
           -0.5777434608252638,
           -0.38622418706468825,
           -0.7595173651720967,
           0.9999148317955988,
           1,
           -0.8509115035697176,
           -0.4992619873187269,
           -0.4992619873187269,
           -0.8509115035697176
          ],
          [
           -0.6821521287719773,
           0.9959970272968738,
           0.9925177219343275,
           0.9908770033527661,
           0.9925598013867633,
           0.3253730695295412,
           0.07399101999299339,
           0.6183548175340507,
           -0.8486006681484498,
           -0.8509115035697176,
           1,
           0.4567882865642261,
           0.4567882865642261,
           1
          ],
          [
           -0.6915432225975833,
           0.4507606556222155,
           0.3701568714338084,
           0.3612698579974478,
           0.37735882217420014,
           0.6504676891316702,
           0.526549692264822,
           0.7330914445718841,
           -0.4920066048130537,
           -0.4992619873187269,
           0.4567882865642261,
           1,
           1,
           0.4567882865642261
          ],
          [
           -0.6915432225975833,
           0.4507606556222155,
           0.3701568714338084,
           0.3612698579974478,
           0.37735882217420014,
           0.6504676891316702,
           0.526549692264822,
           0.7330914445718841,
           -0.4920066048130537,
           -0.4992619873187269,
           0.4567882865642261,
           1,
           1,
           0.4567882865642261
          ],
          [
           -0.6821521287719773,
           0.9959970272968738,
           0.9925177219343275,
           0.9908770033527661,
           0.9925598013867633,
           0.3253730695295412,
           0.07399101999299339,
           0.6183548175340507,
           -0.8486006681484498,
           -0.8509115035697176,
           1,
           0.4567882865642261,
           0.4567882865642261,
           1
          ]
         ],
         "zmax": 1,
         "zmin": -0.8791775910574456
        }
       ],
       "layout": {
        "autosize": true,
        "legend": {
         "bgcolor": "#151516",
         "font": {
          "color": "#D9D9D9"
         }
        },
        "paper_bgcolor": "#151516",
        "plot_bgcolor": "#151516",
        "template": {
         "data": {
          "bar": [
           {
            "error_x": {
             "color": "#2a3f5f"
            },
            "error_y": {
             "color": "#2a3f5f"
            },
            "marker": {
             "line": {
              "color": "#E5ECF6",
              "width": 0.5
             }
            },
            "type": "bar"
           }
          ],
          "barpolar": [
           {
            "marker": {
             "line": {
              "color": "#E5ECF6",
              "width": 0.5
             }
            },
            "type": "barpolar"
           }
          ],
          "carpet": [
           {
            "aaxis": {
             "endlinecolor": "#2a3f5f",
             "gridcolor": "white",
             "linecolor": "white",
             "minorgridcolor": "white",
             "startlinecolor": "#2a3f5f"
            },
            "baxis": {
             "endlinecolor": "#2a3f5f",
             "gridcolor": "white",
             "linecolor": "white",
             "minorgridcolor": "white",
             "startlinecolor": "#2a3f5f"
            },
            "type": "carpet"
           }
          ],
          "choropleth": [
           {
            "colorbar": {
             "outlinewidth": 0,
             "ticks": ""
            },
            "type": "choropleth"
           }
          ],
          "contour": [
           {
            "colorbar": {
             "outlinewidth": 0,
             "ticks": ""
            },
            "colorscale": [
             [
              0,
              "#0d0887"
             ],
             [
              0.1111111111111111,
              "#46039f"
             ],
             [
              0.2222222222222222,
              "#7201a8"
             ],
             [
              0.3333333333333333,
              "#9c179e"
             ],
             [
              0.4444444444444444,
              "#bd3786"
             ],
             [
              0.5555555555555556,
              "#d8576b"
             ],
             [
              0.6666666666666666,
              "#ed7953"
             ],
             [
              0.7777777777777778,
              "#fb9f3a"
             ],
             [
              0.8888888888888888,
              "#fdca26"
             ],
             [
              1,
              "#f0f921"
             ]
            ],
            "type": "contour"
           }
          ],
          "contourcarpet": [
           {
            "colorbar": {
             "outlinewidth": 0,
             "ticks": ""
            },
            "type": "contourcarpet"
           }
          ],
          "heatmap": [
           {
            "colorbar": {
             "outlinewidth": 0,
             "ticks": ""
            },
            "colorscale": [
             [
              0,
              "#0d0887"
             ],
             [
              0.1111111111111111,
              "#46039f"
             ],
             [
              0.2222222222222222,
              "#7201a8"
             ],
             [
              0.3333333333333333,
              "#9c179e"
             ],
             [
              0.4444444444444444,
              "#bd3786"
             ],
             [
              0.5555555555555556,
              "#d8576b"
             ],
             [
              0.6666666666666666,
              "#ed7953"
             ],
             [
              0.7777777777777778,
              "#fb9f3a"
             ],
             [
              0.8888888888888888,
              "#fdca26"
             ],
             [
              1,
              "#f0f921"
             ]
            ],
            "type": "heatmap"
           }
          ],
          "heatmapgl": [
           {
            "colorbar": {
             "outlinewidth": 0,
             "ticks": ""
            },
            "colorscale": [
             [
              0,
              "#0d0887"
             ],
             [
              0.1111111111111111,
              "#46039f"
             ],
             [
              0.2222222222222222,
              "#7201a8"
             ],
             [
              0.3333333333333333,
              "#9c179e"
             ],
             [
              0.4444444444444444,
              "#bd3786"
             ],
             [
              0.5555555555555556,
              "#d8576b"
             ],
             [
              0.6666666666666666,
              "#ed7953"
             ],
             [
              0.7777777777777778,
              "#fb9f3a"
             ],
             [
              0.8888888888888888,
              "#fdca26"
             ],
             [
              1,
              "#f0f921"
             ]
            ],
            "type": "heatmapgl"
           }
          ],
          "histogram": [
           {
            "marker": {
             "colorbar": {
              "outlinewidth": 0,
              "ticks": ""
             }
            },
            "type": "histogram"
           }
          ],
          "histogram2d": [
           {
            "colorbar": {
             "outlinewidth": 0,
             "ticks": ""
            },
            "colorscale": [
             [
              0,
              "#0d0887"
             ],
             [
              0.1111111111111111,
              "#46039f"
             ],
             [
              0.2222222222222222,
              "#7201a8"
             ],
             [
              0.3333333333333333,
              "#9c179e"
             ],
             [
              0.4444444444444444,
              "#bd3786"
             ],
             [
              0.5555555555555556,
              "#d8576b"
             ],
             [
              0.6666666666666666,
              "#ed7953"
             ],
             [
              0.7777777777777778,
              "#fb9f3a"
             ],
             [
              0.8888888888888888,
              "#fdca26"
             ],
             [
              1,
              "#f0f921"
             ]
            ],
            "type": "histogram2d"
           }
          ],
          "histogram2dcontour": [
           {
            "colorbar": {
             "outlinewidth": 0,
             "ticks": ""
            },
            "colorscale": [
             [
              0,
              "#0d0887"
             ],
             [
              0.1111111111111111,
              "#46039f"
             ],
             [
              0.2222222222222222,
              "#7201a8"
             ],
             [
              0.3333333333333333,
              "#9c179e"
             ],
             [
              0.4444444444444444,
              "#bd3786"
             ],
             [
              0.5555555555555556,
              "#d8576b"
             ],
             [
              0.6666666666666666,
              "#ed7953"
             ],
             [
              0.7777777777777778,
              "#fb9f3a"
             ],
             [
              0.8888888888888888,
              "#fdca26"
             ],
             [
              1,
              "#f0f921"
             ]
            ],
            "type": "histogram2dcontour"
           }
          ],
          "mesh3d": [
           {
            "colorbar": {
             "outlinewidth": 0,
             "ticks": ""
            },
            "type": "mesh3d"
           }
          ],
          "parcoords": [
           {
            "line": {
             "colorbar": {
              "outlinewidth": 0,
              "ticks": ""
             }
            },
            "type": "parcoords"
           }
          ],
          "pie": [
           {
            "automargin": true,
            "type": "pie"
           }
          ],
          "scatter": [
           {
            "marker": {
             "colorbar": {
              "outlinewidth": 0,
              "ticks": ""
             }
            },
            "type": "scatter"
           }
          ],
          "scatter3d": [
           {
            "line": {
             "colorbar": {
              "outlinewidth": 0,
              "ticks": ""
             }
            },
            "marker": {
             "colorbar": {
              "outlinewidth": 0,
              "ticks": ""
             }
            },
            "type": "scatter3d"
           }
          ],
          "scattercarpet": [
           {
            "marker": {
             "colorbar": {
              "outlinewidth": 0,
              "ticks": ""
             }
            },
            "type": "scattercarpet"
           }
          ],
          "scattergeo": [
           {
            "marker": {
             "colorbar": {
              "outlinewidth": 0,
              "ticks": ""
             }
            },
            "type": "scattergeo"
           }
          ],
          "scattergl": [
           {
            "marker": {
             "colorbar": {
              "outlinewidth": 0,
              "ticks": ""
             }
            },
            "type": "scattergl"
           }
          ],
          "scattermapbox": [
           {
            "marker": {
             "colorbar": {
              "outlinewidth": 0,
              "ticks": ""
             }
            },
            "type": "scattermapbox"
           }
          ],
          "scatterpolar": [
           {
            "marker": {
             "colorbar": {
              "outlinewidth": 0,
              "ticks": ""
             }
            },
            "type": "scatterpolar"
           }
          ],
          "scatterpolargl": [
           {
            "marker": {
             "colorbar": {
              "outlinewidth": 0,
              "ticks": ""
             }
            },
            "type": "scatterpolargl"
           }
          ],
          "scatterternary": [
           {
            "marker": {
             "colorbar": {
              "outlinewidth": 0,
              "ticks": ""
             }
            },
            "type": "scatterternary"
           }
          ],
          "surface": [
           {
            "colorbar": {
             "outlinewidth": 0,
             "ticks": ""
            },
            "colorscale": [
             [
              0,
              "#0d0887"
             ],
             [
              0.1111111111111111,
              "#46039f"
             ],
             [
              0.2222222222222222,
              "#7201a8"
             ],
             [
              0.3333333333333333,
              "#9c179e"
             ],
             [
              0.4444444444444444,
              "#bd3786"
             ],
             [
              0.5555555555555556,
              "#d8576b"
             ],
             [
              0.6666666666666666,
              "#ed7953"
             ],
             [
              0.7777777777777778,
              "#fb9f3a"
             ],
             [
              0.8888888888888888,
              "#fdca26"
             ],
             [
              1,
              "#f0f921"
             ]
            ],
            "type": "surface"
           }
          ],
          "table": [
           {
            "cells": {
             "fill": {
              "color": "#EBF0F8"
             },
             "line": {
              "color": "white"
             }
            },
            "header": {
             "fill": {
              "color": "#C8D4E3"
             },
             "line": {
              "color": "white"
             }
            },
            "type": "table"
           }
          ]
         },
         "layout": {
          "annotationdefaults": {
           "arrowcolor": "#2a3f5f",
           "arrowhead": 0,
           "arrowwidth": 1
          },
          "autotypenumbers": "strict",
          "coloraxis": {
           "colorbar": {
            "outlinewidth": 0,
            "ticks": ""
           }
          },
          "colorscale": {
           "diverging": [
            [
             0,
             "#8e0152"
            ],
            [
             0.1,
             "#c51b7d"
            ],
            [
             0.2,
             "#de77ae"
            ],
            [
             0.3,
             "#f1b6da"
            ],
            [
             0.4,
             "#fde0ef"
            ],
            [
             0.5,
             "#f7f7f7"
            ],
            [
             0.6,
             "#e6f5d0"
            ],
            [
             0.7,
             "#b8e186"
            ],
            [
             0.8,
             "#7fbc41"
            ],
            [
             0.9,
             "#4d9221"
            ],
            [
             1,
             "#276419"
            ]
           ],
           "sequential": [
            [
             0,
             "#0d0887"
            ],
            [
             0.1111111111111111,
             "#46039f"
            ],
            [
             0.2222222222222222,
             "#7201a8"
            ],
            [
             0.3333333333333333,
             "#9c179e"
            ],
            [
             0.4444444444444444,
             "#bd3786"
            ],
            [
             0.5555555555555556,
             "#d8576b"
            ],
            [
             0.6666666666666666,
             "#ed7953"
            ],
            [
             0.7777777777777778,
             "#fb9f3a"
            ],
            [
             0.8888888888888888,
             "#fdca26"
            ],
            [
             1,
             "#f0f921"
            ]
           ],
           "sequentialminus": [
            [
             0,
             "#0d0887"
            ],
            [
             0.1111111111111111,
             "#46039f"
            ],
            [
             0.2222222222222222,
             "#7201a8"
            ],
            [
             0.3333333333333333,
             "#9c179e"
            ],
            [
             0.4444444444444444,
             "#bd3786"
            ],
            [
             0.5555555555555556,
             "#d8576b"
            ],
            [
             0.6666666666666666,
             "#ed7953"
            ],
            [
             0.7777777777777778,
             "#fb9f3a"
            ],
            [
             0.8888888888888888,
             "#fdca26"
            ],
            [
             1,
             "#f0f921"
            ]
           ]
          },
          "colorway": [
           "#636efa",
           "#EF553B",
           "#00cc96",
           "#ab63fa",
           "#FFA15A",
           "#19d3f3",
           "#FF6692",
           "#B6E880",
           "#FF97FF",
           "#FECB52"
          ],
          "font": {
           "color": "#2a3f5f"
          },
          "geo": {
           "bgcolor": "white",
           "lakecolor": "white",
           "landcolor": "#E5ECF6",
           "showlakes": true,
           "showland": true,
           "subunitcolor": "white"
          },
          "hoverlabel": {
           "align": "left"
          },
          "hovermode": "closest",
          "mapbox": {
           "style": "light"
          },
          "paper_bgcolor": "white",
          "plot_bgcolor": "#E5ECF6",
          "polar": {
           "angularaxis": {
            "gridcolor": "white",
            "linecolor": "white",
            "ticks": ""
           },
           "bgcolor": "#E5ECF6",
           "radialaxis": {
            "gridcolor": "white",
            "linecolor": "white",
            "ticks": ""
           }
          },
          "scene": {
           "xaxis": {
            "backgroundcolor": "#E5ECF6",
            "gridcolor": "white",
            "gridwidth": 2,
            "linecolor": "white",
            "showbackground": true,
            "ticks": "",
            "zerolinecolor": "white"
           },
           "yaxis": {
            "backgroundcolor": "#E5ECF6",
            "gridcolor": "white",
            "gridwidth": 2,
            "linecolor": "white",
            "showbackground": true,
            "ticks": "",
            "zerolinecolor": "white"
           },
           "zaxis": {
            "backgroundcolor": "#E5ECF6",
            "gridcolor": "white",
            "gridwidth": 2,
            "linecolor": "white",
            "showbackground": true,
            "ticks": "",
            "zerolinecolor": "white"
           }
          },
          "shapedefaults": {
           "line": {
            "color": "#2a3f5f"
           }
          },
          "ternary": {
           "aaxis": {
            "gridcolor": "white",
            "linecolor": "white",
            "ticks": ""
           },
           "baxis": {
            "gridcolor": "white",
            "linecolor": "white",
            "ticks": ""
           },
           "bgcolor": "#E5ECF6",
           "caxis": {
            "gridcolor": "white",
            "linecolor": "white",
            "ticks": ""
           }
          },
          "title": {
           "x": 0.05
          },
          "xaxis": {
           "automargin": true,
           "gridcolor": "white",
           "linecolor": "white",
           "ticks": "",
           "title": {
            "standoff": 15
           },
           "zerolinecolor": "white",
           "zerolinewidth": 2
          },
          "yaxis": {
           "automargin": true,
           "gridcolor": "white",
           "linecolor": "white",
           "ticks": "",
           "title": {
            "standoff": 15
           },
           "zerolinecolor": "white",
           "zerolinewidth": 2
          }
         }
        },
        "title": {
         "font": {
          "color": "#D9D9D9"
         }
        },
        "xaxis": {
         "autorange": true,
         "gridcolor": "#434343",
         "range": [
          -0.5,
          13.5
         ],
         "showgrid": true,
         "tickfont": {
          "color": "#C2C2C2"
         },
         "title": {
          "font": {
           "color": "#D9D9D9"
          },
          "text": ""
         },
         "type": "category",
         "zerolinecolor": "#666570"
        },
        "yaxis": {
         "autorange": true,
         "gridcolor": "#434343",
         "range": [
          -0.5,
          13.5
         ],
         "showgrid": true,
         "tickfont": {
          "color": "#C2C2C2"
         },
         "title": {
          "font": {
           "color": "#D9D9D9"
          },
          "text": ""
         },
         "type": "category",
         "zerolinecolor": "#666570"
        }
       }
      },
      "image/png": "[encoded data removed]",
      "text/html": [
       "<div>                            <div id=\"5a1fe4f6-f418-4b44-9a53-793b266ed501\" class=\"plotly-graph-div\" style=\"height:525px; width:100%;\"></div>            <script type=\"text/javascript\">                require([\"plotly\"], function(Plotly) {                    window.PLOTLYENV=window.PLOTLYENV || {};\n",
       "                    window.PLOTLYENV.BASE_URL='https://plot.ly';                                    if (document.getElementById(\"5a1fe4f6-f418-4b44-9a53-793b266ed501\")) {                    Plotly.newPlot(                        \"5a1fe4f6-f418-4b44-9a53-793b266ed501\",                        [{\"colorscale\": [[0.0, \"rgb(255, 153, 51)\"], [0.1111111111111111, \"rgb(55, 128, 191)\"], [0.2222222222222222, \"rgb(50, 171, 96)\"], [0.3333333333333333, \"rgb(128, 0, 128)\"], [0.4444444444444444, \"rgb(219, 64, 82)\"], [0.5555555555555556, \"rgb(0, 128, 128)\"], [0.6666666666666666, \"rgb(255, 255, 51)\"], [0.7777777777777778, \"rgb(128, 128, 0)\"], [0.8888888888888888, \"rgb(251, 128, 114)\"], [1.0, \"rgb(128, 177, 211)\"]], \"type\": \"heatmap\", \"x\": [\"Aus_GDP\", \"Pop\", \"Tot Emp\", \"Tot Emp_M\", \"Tot Emp_F\", \"Tot Unemp\", \"Tot Unemp_M\", \"Tot Unemp_F\", \"Cash Rate Target\", \"Interbank Overnight Cash Rate\", \"TotalIncome\", \"TotalSavings\", \"Net Savings\", \"Gross Income\"], \"y\": [\"Aus_GDP\", \"Pop\", \"Tot Emp\", \"Tot Emp_M\", \"Tot Emp_F\", \"Tot Unemp\", \"Tot Unemp_M\", \"Tot Unemp_F\", \"Cash Rate Target\", \"Interbank Overnight Cash Rate\", \"TotalIncome\", \"TotalSavings\", \"Net Savings\", \"Gross Income\"], \"z\": [[1.0, -0.691931445784184, -0.656788144120433, -0.6399404900916744, -0.6704889484788851, -0.49137298207769065, -0.3255956952721895, -0.6495772804298379, 0.6482181970139462, 0.6542252181037104, -0.6821521287719773, -0.6915432225975833, -0.6915432225975833, -0.6821521287719773], [-0.691931445784184, 1.0, 0.988474905001161, 0.9839344247686658, 0.9910379605681601, 0.3635510065819633, 0.11498165604857465, 0.6479745212486764, -0.8769442363481376, -0.8791775910574456, 0.9959970272968738, 0.4507606556222155, 0.4507606556222155, 0.9959970272968738], [-0.656788144120433, 0.988474905001161, 1.0, 0.9991400682168589, 0.999352667643689, 0.22886436766517523, -0.022022161292080285, 0.5333038309137238, -0.8176319133126654, -0.8197622121190873, 0.9925177219343275, 0.3701568714338084, 0.3701568714338084, 0.9925177219343275], [-0.6399404900916744, 0.9839344247686658, 0.9991400682168589, 1.0, 0.9970016623406531, 0.20776707898155936, -0.04383148830247284, 0.5158127229482904, -0.8020048096390955, -0.8040601054519465, 0.9908770033527661, 0.3612698579974478, 0.3612698579974478, 0.9908770033527661], [-0.6704889484788851, 0.9910379605681601, 0.999352667643689, 0.9970016623406531, 1.0, 0.24685724293229366, -0.0030607468498668514, 0.54774123056749, -0.8300569903804802, -0.832249562424881, 0.9925598013867633, 0.37735882217420014, 0.37735882217420014, 0.9925598013867633], [-0.49137298207769065, 0.3635510065819633, 0.22886436766517523, 0.20776707898155936, 0.24685724293229366, 1.0, 0.9597101965635891, 0.9277329515871195, -0.5771706206894996, -0.5777434608252638, 0.3253730695295412, 0.6504676891316702, 0.6504676891316702, 0.3253730695295412], [-0.3255956952721895, 0.11498165604857465, -0.022022161292080285, -0.04383148830247284, -0.0030607468498668514, 0.9597101965635891, 1.0, 0.7854764793427229, -0.3868294095847179, -0.38622418706468825, 0.07399101999299339, 0.526549692264822, 0.526549692264822, 0.07399101999299339], [-0.6495772804298379, 0.6479745212486764, 0.5333038309137238, 0.5158127229482904, 0.54774123056749, 0.9277329515871195, 0.7854764793427229, 1.0, -0.7574563116356238, -0.7595173651720967, 0.6183548175340507, 0.7330914445718841, 0.7330914445718841, 0.6183548175340507], [0.6482181970139462, -0.8769442363481376, -0.8176319133126654, -0.8020048096390955, -0.8300569903804802, -0.5771706206894996, -0.3868294095847179, -0.7574563116356238, 1.0, 0.9999148317955988, -0.8486006681484498, -0.4920066048130537, -0.4920066048130537, -0.8486006681484498], [0.6542252181037104, -0.8791775910574456, -0.8197622121190873, -0.8040601054519465, -0.832249562424881, -0.5777434608252638, -0.38622418706468825, -0.7595173651720967, 0.9999148317955988, 1.0, -0.8509115035697176, -0.4992619873187269, -0.4992619873187269, -0.8509115035697176], [-0.6821521287719773, 0.9959970272968738, 0.9925177219343275, 0.9908770033527661, 0.9925598013867633, 0.3253730695295412, 0.07399101999299339, 0.6183548175340507, -0.8486006681484498, -0.8509115035697176, 1.0, 0.4567882865642261, 0.4567882865642261, 1.0], [-0.6915432225975833, 0.4507606556222155, 0.3701568714338084, 0.3612698579974478, 0.37735882217420014, 0.6504676891316702, 0.526549692264822, 0.7330914445718841, -0.4920066048130537, -0.4992619873187269, 0.4567882865642261, 1.0, 1.0, 0.4567882865642261], [-0.6915432225975833, 0.4507606556222155, 0.3701568714338084, 0.3612698579974478, 0.37735882217420014, 0.6504676891316702, 0.526549692264822, 0.7330914445718841, -0.4920066048130537, -0.4992619873187269, 0.4567882865642261, 1.0, 1.0, 0.4567882865642261], [-0.6821521287719773, 0.9959970272968738, 0.9925177219343275, 0.9908770033527661, 0.9925598013867633, 0.3253730695295412, 0.07399101999299339, 0.6183548175340507, -0.8486006681484498, -0.8509115035697176, 1.0, 0.4567882865642261, 0.4567882865642261, 1.0]], \"zmax\": 1.0, \"zmin\": -0.8791775910574456}],                        {\"legend\": {\"bgcolor\": \"#151516\", \"font\": {\"color\": \"#D9D9D9\"}}, \"paper_bgcolor\": \"#151516\", \"plot_bgcolor\": \"#151516\", \"template\": {\"data\": {\"bar\": [{\"error_x\": {\"color\": \"#2a3f5f\"}, \"error_y\": {\"color\": \"#2a3f5f\"}, \"marker\": {\"line\": {\"color\": \"#E5ECF6\", \"width\": 0.5}}, \"type\": \"bar\"}], \"barpolar\": [{\"marker\": {\"line\": {\"color\": \"#E5ECF6\", \"width\": 0.5}}, \"type\": \"barpolar\"}], \"carpet\": [{\"aaxis\": {\"endlinecolor\": \"#2a3f5f\", \"gridcolor\": \"white\", \"linecolor\": \"white\", \"minorgridcolor\": \"white\", \"startlinecolor\": \"#2a3f5f\"}, \"baxis\": {\"endlinecolor\": \"#2a3f5f\", \"gridcolor\": \"white\", \"linecolor\": \"white\", \"minorgridcolor\": \"white\", \"startlinecolor\": \"#2a3f5f\"}, \"type\": \"carpet\"}], \"choropleth\": [{\"colorbar\": {\"outlinewidth\": 0, \"ticks\": \"\"}, \"type\": \"choropleth\"}], \"contour\": [{\"colorbar\": {\"outlinewidth\": 0, \"ticks\": \"\"}, \"colorscale\": [[0.0, \"#0d0887\"], [0.1111111111111111, \"#46039f\"], [0.2222222222222222, \"#7201a8\"], [0.3333333333333333, \"#9c179e\"], [0.4444444444444444, \"#bd3786\"], [0.5555555555555556, \"#d8576b\"], [0.6666666666666666, \"#ed7953\"], [0.7777777777777778, \"#fb9f3a\"], [0.8888888888888888, \"#fdca26\"], [1.0, \"#f0f921\"]], \"type\": \"contour\"}], \"contourcarpet\": [{\"colorbar\": {\"outlinewidth\": 0, \"ticks\": \"\"}, \"type\": \"contourcarpet\"}], \"heatmap\": [{\"colorbar\": {\"outlinewidth\": 0, \"ticks\": \"\"}, \"colorscale\": [[0.0, \"#0d0887\"], [0.1111111111111111, \"#46039f\"], [0.2222222222222222, \"#7201a8\"], [0.3333333333333333, \"#9c179e\"], [0.4444444444444444, \"#bd3786\"], [0.5555555555555556, \"#d8576b\"], [0.6666666666666666, \"#ed7953\"], [0.7777777777777778, \"#fb9f3a\"], [0.8888888888888888, \"#fdca26\"], [1.0, \"#f0f921\"]], \"type\": \"heatmap\"}], \"heatmapgl\": [{\"colorbar\": {\"outlinewidth\": 0, \"ticks\": \"\"}, \"colorscale\": [[0.0, \"#0d0887\"], [0.1111111111111111, \"#46039f\"], [0.2222222222222222, \"#7201a8\"], [0.3333333333333333, \"#9c179e\"], [0.4444444444444444, \"#bd3786\"], [0.5555555555555556, \"#d8576b\"], [0.6666666666666666, \"#ed7953\"], [0.7777777777777778, \"#fb9f3a\"], [0.8888888888888888, \"#fdca26\"], [1.0, \"#f0f921\"]], \"type\": \"heatmapgl\"}], \"histogram\": [{\"marker\": {\"colorbar\": {\"outlinewidth\": 0, \"ticks\": \"\"}}, \"type\": \"histogram\"}], \"histogram2d\": [{\"colorbar\": {\"outlinewidth\": 0, \"ticks\": \"\"}, \"colorscale\": [[0.0, \"#0d0887\"], [0.1111111111111111, \"#46039f\"], [0.2222222222222222, \"#7201a8\"], [0.3333333333333333, \"#9c179e\"], [0.4444444444444444, \"#bd3786\"], [0.5555555555555556, \"#d8576b\"], [0.6666666666666666, \"#ed7953\"], [0.7777777777777778, \"#fb9f3a\"], [0.8888888888888888, \"#fdca26\"], [1.0, \"#f0f921\"]], \"type\": \"histogram2d\"}], \"histogram2dcontour\": [{\"colorbar\": {\"outlinewidth\": 0, \"ticks\": \"\"}, \"colorscale\": [[0.0, \"#0d0887\"], [0.1111111111111111, \"#46039f\"], [0.2222222222222222, \"#7201a8\"], [0.3333333333333333, \"#9c179e\"], [0.4444444444444444, \"#bd3786\"], [0.5555555555555556, \"#d8576b\"], [0.6666666666666666, \"#ed7953\"], [0.7777777777777778, \"#fb9f3a\"], [0.8888888888888888, \"#fdca26\"], [1.0, \"#f0f921\"]], \"type\": \"histogram2dcontour\"}], \"mesh3d\": [{\"colorbar\": {\"outlinewidth\": 0, \"ticks\": \"\"}, \"type\": \"mesh3d\"}], \"parcoords\": [{\"line\": {\"colorbar\": {\"outlinewidth\": 0, \"ticks\": \"\"}}, \"type\": \"parcoords\"}], \"pie\": [{\"automargin\": true, \"type\": \"pie\"}], \"scatter\": [{\"marker\": {\"colorbar\": {\"outlinewidth\": 0, \"ticks\": \"\"}}, \"type\": \"scatter\"}], \"scatter3d\": [{\"line\": {\"colorbar\": {\"outlinewidth\": 0, \"ticks\": \"\"}}, \"marker\": {\"colorbar\": {\"outlinewidth\": 0, \"ticks\": \"\"}}, \"type\": \"scatter3d\"}], \"scattercarpet\": [{\"marker\": {\"colorbar\": {\"outlinewidth\": 0, \"ticks\": \"\"}}, \"type\": \"scattercarpet\"}], \"scattergeo\": [{\"marker\": {\"colorbar\": {\"outlinewidth\": 0, \"ticks\": \"\"}}, \"type\": \"scattergeo\"}], \"scattergl\": [{\"marker\": {\"colorbar\": {\"outlinewidth\": 0, \"ticks\": \"\"}}, \"type\": \"scattergl\"}], \"scattermapbox\": [{\"marker\": {\"colorbar\": {\"outlinewidth\": 0, \"ticks\": \"\"}}, \"type\": \"scattermapbox\"}], \"scatterpolar\": [{\"marker\": {\"colorbar\": {\"outlinewidth\": 0, \"ticks\": \"\"}}, \"type\": \"scatterpolar\"}], \"scatterpolargl\": [{\"marker\": {\"colorbar\": {\"outlinewidth\": 0, \"ticks\": \"\"}}, \"type\": \"scatterpolargl\"}], \"scatterternary\": [{\"marker\": {\"colorbar\": {\"outlinewidth\": 0, \"ticks\": \"\"}}, \"type\": \"scatterternary\"}], \"surface\": [{\"colorbar\": {\"outlinewidth\": 0, \"ticks\": \"\"}, \"colorscale\": [[0.0, \"#0d0887\"], [0.1111111111111111, \"#46039f\"], [0.2222222222222222, \"#7201a8\"], [0.3333333333333333, \"#9c179e\"], [0.4444444444444444, \"#bd3786\"], [0.5555555555555556, \"#d8576b\"], [0.6666666666666666, \"#ed7953\"], [0.7777777777777778, \"#fb9f3a\"], [0.8888888888888888, \"#fdca26\"], [1.0, \"#f0f921\"]], \"type\": \"surface\"}], \"table\": [{\"cells\": {\"fill\": {\"color\": \"#EBF0F8\"}, \"line\": {\"color\": \"white\"}}, \"header\": {\"fill\": {\"color\": \"#C8D4E3\"}, \"line\": {\"color\": \"white\"}}, \"type\": \"table\"}]}, \"layout\": {\"annotationdefaults\": {\"arrowcolor\": \"#2a3f5f\", \"arrowhead\": 0, \"arrowwidth\": 1}, \"autotypenumbers\": \"strict\", \"coloraxis\": {\"colorbar\": {\"outlinewidth\": 0, \"ticks\": \"\"}}, \"colorscale\": {\"diverging\": [[0, \"#8e0152\"], [0.1, \"#c51b7d\"], [0.2, \"#de77ae\"], [0.3, \"#f1b6da\"], [0.4, \"#fde0ef\"], [0.5, \"#f7f7f7\"], [0.6, \"#e6f5d0\"], [0.7, \"#b8e186\"], [0.8, \"#7fbc41\"], [0.9, \"#4d9221\"], [1, \"#276419\"]], \"sequential\": [[0.0, \"#0d0887\"], [0.1111111111111111, \"#46039f\"], [0.2222222222222222, \"#7201a8\"], [0.3333333333333333, \"#9c179e\"], [0.4444444444444444, \"#bd3786\"], [0.5555555555555556, \"#d8576b\"], [0.6666666666666666, \"#ed7953\"], [0.7777777777777778, \"#fb9f3a\"], [0.8888888888888888, \"#fdca26\"], [1.0, \"#f0f921\"]], \"sequentialminus\": [[0.0, \"#0d0887\"], [0.1111111111111111, \"#46039f\"], [0.2222222222222222, \"#7201a8\"], [0.3333333333333333, \"#9c179e\"], [0.4444444444444444, \"#bd3786\"], [0.5555555555555556, \"#d8576b\"], [0.6666666666666666, \"#ed7953\"], [0.7777777777777778, \"#fb9f3a\"], [0.8888888888888888, \"#fdca26\"], [1.0, \"#f0f921\"]]}, \"colorway\": [\"#636efa\", \"#EF553B\", \"#00cc96\", \"#ab63fa\", \"#FFA15A\", \"#19d3f3\", \"#FF6692\", \"#B6E880\", \"#FF97FF\", \"#FECB52\"], \"font\": {\"color\": \"#2a3f5f\"}, \"geo\": {\"bgcolor\": \"white\", \"lakecolor\": \"white\", \"landcolor\": \"#E5ECF6\", \"showlakes\": true, \"showland\": true, \"subunitcolor\": \"white\"}, \"hoverlabel\": {\"align\": \"left\"}, \"hovermode\": \"closest\", \"mapbox\": {\"style\": \"light\"}, \"paper_bgcolor\": \"white\", \"plot_bgcolor\": \"#E5ECF6\", \"polar\": {\"angularaxis\": {\"gridcolor\": \"white\", \"linecolor\": \"white\", \"ticks\": \"\"}, \"bgcolor\": \"#E5ECF6\", \"radialaxis\": {\"gridcolor\": \"white\", \"linecolor\": \"white\", \"ticks\": \"\"}}, \"scene\": {\"xaxis\": {\"backgroundcolor\": \"#E5ECF6\", \"gridcolor\": \"white\", \"gridwidth\": 2, \"linecolor\": \"white\", \"showbackground\": true, \"ticks\": \"\", \"zerolinecolor\": \"white\"}, \"yaxis\": {\"backgroundcolor\": \"#E5ECF6\", \"gridcolor\": \"white\", \"gridwidth\": 2, \"linecolor\": \"white\", \"showbackground\": true, \"ticks\": \"\", \"zerolinecolor\": \"white\"}, \"zaxis\": {\"backgroundcolor\": \"#E5ECF6\", \"gridcolor\": \"white\", \"gridwidth\": 2, \"linecolor\": \"white\", \"showbackground\": true, \"ticks\": \"\", \"zerolinecolor\": \"white\"}}, \"shapedefaults\": {\"line\": {\"color\": \"#2a3f5f\"}}, \"ternary\": {\"aaxis\": {\"gridcolor\": \"white\", \"linecolor\": \"white\", \"ticks\": \"\"}, \"baxis\": {\"gridcolor\": \"white\", \"linecolor\": \"white\", \"ticks\": \"\"}, \"bgcolor\": \"#E5ECF6\", \"caxis\": {\"gridcolor\": \"white\", \"linecolor\": \"white\", \"ticks\": \"\"}}, \"title\": {\"x\": 0.05}, \"xaxis\": {\"automargin\": true, \"gridcolor\": \"white\", \"linecolor\": \"white\", \"ticks\": \"\", \"title\": {\"standoff\": 15}, \"zerolinecolor\": \"white\", \"zerolinewidth\": 2}, \"yaxis\": {\"automargin\": true, \"gridcolor\": \"white\", \"linecolor\": \"white\", \"ticks\": \"\", \"title\": {\"standoff\": 15}, \"zerolinecolor\": \"white\", \"zerolinewidth\": 2}}}, \"title\": {\"font\": {\"color\": \"#D9D9D9\"}}, \"xaxis\": {\"gridcolor\": \"#434343\", \"showgrid\": true, \"tickfont\": {\"color\": \"#C2C2C2\"}, \"title\": {\"font\": {\"color\": \"#D9D9D9\"}, \"text\": \"\"}, \"zerolinecolor\": \"#666570\"}, \"yaxis\": {\"gridcolor\": \"#434343\", \"showgrid\": true, \"tickfont\": {\"color\": \"#C2C2C2\"}, \"title\": {\"font\": {\"color\": \"#D9D9D9\"}, \"text\": \"\"}, \"zerolinecolor\": \"#666570\"}},                        {\"showLink\": true, \"linkText\": \"Export to plot.ly\", \"plotlyServerURL\": \"https://plot.ly\", \"responsive\": true}                    ).then(function(){\n",
       "                            \n",
       "var gd = document.getElementById('5a1fe4f6-f418-4b44-9a53-793b266ed501');\n",
       "var x = new MutationObserver(function (mutations, observer) {{\n",
       "        var display = window.getComputedStyle(gd).display;\n",
       "        if (!display || display === 'none') {{\n",
       "            console.log([gd, 'removed!']);\n",
       "            Plotly.purge(gd);\n",
       "            observer.disconnect();\n",
       "        }}\n",
       "}});\n",
       "\n",
       "// Listen for the removal of the full notebook cells\n",
       "var notebookContainer = gd.closest('#notebook-container');\n",
       "if (notebookContainer) {{\n",
       "    x.observe(notebookContainer, {childList: true});\n",
       "}}\n",
       "\n",
       "// Listen for the clearing of the current output cell\n",
       "var outputEl = gd.closest('.output');\n",
       "if (outputEl) {{\n",
       "    x.observe(outputEl, {childList: true});\n",
       "}}\n",
       "\n",
       "                        })                };                });            </script>        </div>"
      ]
     },
     "metadata": {},
     "output_type": "display_data"
    }
   ],
   "source": [
    "corrplot = correlation.iplot(kind='heatmap')\n",
    "corrplot"
   ]
  },
  {
   "cell_type": "code",
   "execution_count": 256,
   "id": "08b766b2",
   "metadata": {},
   "outputs": [
    {
     "data": {
      "text/plain": [
       "Text(0.5, 1.0, 'Correlation')"
      ]
     },
     "execution_count": 256,
     "metadata": {},
     "output_type": "execute_result"
    },
    {
     "data": {
      "image/png": "[encoded data removed]",
      "text/plain": [
       "<Figure size 720x504 with 2 Axes>"
      ]
     },
     "metadata": {},
     "output_type": "display_data"
    }
   ],
   "source": [
    "# Using Seaborn\n",
    "matrix = np.triu(correlation)\n",
    "cmap = sns.diverging_palette(230, 20, as_cmap=True)\n",
    "h = plt.axes()\n",
    "\n",
    "plot = sns.heatmap(correlation, \n",
    "                   vmin=-1, \n",
    "                   vmax=1, \n",
    "                   annot=True,\n",
    "                   cmap=cmap, \n",
    "                   mask=matrix)\n",
    "\n",
    "\n",
    "sns.set(rc={'figure.figsize':(10,7)})\n",
    "h.set_title('Correlation')"
   ]
  },
  {
   "cell_type": "markdown",
   "id": "9d4a54f9",
   "metadata": {},
   "source": [
    "## "
   ]
  }
 ],
 "metadata": {
  "kernelspec": {
   "display_name": "Python [conda env:pyvizenv] *",
   "language": "python",
   "name": "conda-env-pyvizenv-py"
  },
  "language_info": {
   "codemirror_mode": {
    "name": "ipython",
    "version": 3
   },
   "file_extension": ".py",
   "mimetype": "text/x-python",
   "name": "python",
   "nbconvert_exporter": "python",
   "pygments_lexer": "ipython3",
   "version": "3.7.10"
  }
 },
 "nbformat": 4,
 "nbformat_minor": 5
}
