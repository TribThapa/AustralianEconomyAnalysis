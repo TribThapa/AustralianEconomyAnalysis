{
 "cells": [
  {
   "cell_type": "code",
   "execution_count": 163,
   "id": "20b13f6a",
   "metadata": {},
   "outputs": [
    {
     "data": {
      "text/html": [
       "        <script type=\"text/javascript\">\n",
       "        window.PlotlyConfig = {MathJaxConfig: 'local'};\n",
       "        if (window.MathJax) {MathJax.Hub.Config({SVG: {font: \"STIX-Web\"}});}\n",
       "        if (typeof require !== 'undefined') {\n",
       "        require.undef(\"plotly\");\n",
       "        requirejs.config({\n",
       "            paths: {\n",
       "                'plotly': ['https://cdn.plot.ly/plotly-latest.min']\n",
       "            }\n",
       "        });\n",
       "        require(['plotly'], function(Plotly) {\n",
       "            window._Plotly = Plotly;\n",
       "        });\n",
       "        }\n",
       "        </script>\n",
       "        "
      ]
     },
     "metadata": {},
     "output_type": "display_data"
    }
   ],
   "source": [
    "import os\n",
    "import numpy as np\n",
    "import panel as pn\n",
    "pn.extension('plotly')\n",
    "import plotly.express as px\n",
    "\n",
    "import matplotlib.pyplot as plt \n",
    "import seaborn as sns\n",
    "import pandas as pd\n",
    "import holoviews as hv\n",
    "import hvplot.pandas\n",
    "\n",
    "import cufflinks as cf\n",
    "cf.set_config_file(theme='solar',sharing='public',offline=True)\n",
    "%matplotlib inline "
   ]
  },
  {
   "cell_type": "markdown",
   "id": "4237585d",
   "metadata": {},
   "source": [
    "### What does the Australian GDP look like? Is AUS GDP similar for the same time-period (1995 - 2020) across countries in similar economic arenas?"
   ]
  },
  {
   "cell_type": "code",
   "execution_count": 152,
   "id": "4865884b",
   "metadata": {},
   "outputs": [],
   "source": [
    "#Load csv files\n",
    "gdp = pd.read_csv(\"../Data/ProcessedData/GDP_selected_countries_cleaned.csv\")\n",
    "gdp_bar = pd.read_csv(\"../Data/ProcessedData/GDP_selected_countries_cleaned.csv\")\n",
    "\n",
    "# Rename Year column\n",
    "gdp_new = gdp.rename(columns={\"Unnamed: 0\": \"Year\"})\n",
    "gdp_bar_new = gdp.rename(columns={\"Unnamed: 0\": \"Year\"})\n",
    "\n",
    "# Set index for 1st df and convert Year to object for 2nd df\n",
    "gdp_new.set_index(\"Year\", inplace=True)\n",
    "gdp_bar_new[\"Year\"] = gdp_bar_new.Year.astype(str)\n",
    "#gdp_drop_unnamed = gdp_new.loc[:, ~gdp_new.columns.str.contains('^Unnamed')]"
   ]
  },
  {
   "cell_type": "code",
   "execution_count": 155,
   "id": "b08a42bd",
   "metadata": {},
   "outputs": [
    {
     "data": {},
     "metadata": {},
     "output_type": "display_data"
    },
    {
     "data": {
      "application/vnd.holoviews_exec.v0+json": "",
      "text/html": [
       "<div id='10138'>\n",
       "\n",
       "\n",
       "\n",
       "\n",
       "\n",
       "  <div class=\"bk-root\" id=\"50990a39-1d6a-4926-a5d1-70cfad1fc4af\" data-root-id=\"10138\"></div>\n",
       "</div>\n",
       "<script type=\"application/javascript\">(function(root) {\n",
       "  function embed_document(root) {\n",
       "    var docs_json = {\"f147d87f-9b1d-45f6-9076-02e66b380e46\":{\"defs\":[],\"roots\":{\"references\":[{\"attributes\":{\"axis\":{\"id\":\"10155\"},\"dimension\":1,\"grid_line_color\":null,\"ticker\":null},\"id\":\"10158\",\"type\":\"Grid\"},{\"attributes\":{},\"id\":\"10156\",\"type\":\"BasicTicker\"},{\"attributes\":{\"axis_label\":\"\",\"formatter\":{\"id\":\"10186\"},\"major_label_policy\":{\"id\":\"10187\"},\"ticker\":{\"id\":\"10156\"}},\"id\":\"10155\",\"type\":\"LinearAxis\"},{\"attributes\":{\"active_multi\":null,\"tools\":[{\"id\":\"10142\"},{\"id\":\"10159\"},{\"id\":\"10160\"},{\"id\":\"10161\"},{\"id\":\"10162\"},{\"id\":\"10163\"}]},\"id\":\"10165\",\"type\":\"Toolbar\"},{\"attributes\":{\"fill_alpha\":{\"value\":0.1},\"fill_color\":{\"field\":\"Variable\",\"transform\":{\"id\":\"10172\"}},\"line_alpha\":{\"value\":0.1},\"top\":{\"field\":\"value\"},\"width\":{\"value\":0.8},\"x\":{\"field\":\"xoffsets\"}},\"id\":\"10177\",\"type\":\"VBar\"},{\"attributes\":{\"callback\":null,\"renderers\":[{\"id\":\"10179\"}],\"tags\":[\"hv_created\"],\"tooltips\":[[\"index\",\"@{index}\"],[\"Variable\",\"@{Variable}\"],[\"value\",\"@{value}\"]]},\"id\":\"10142\",\"type\":\"HoverTool\"},{\"attributes\":{\"data\":{\"Variable\":[\"Australia\",\"Canada\",\"China\",\"European Union\",\"United Kingdom\",\"India\",\"Korea, Rep.\",\"United States\"],\"index\":[\"0\",\"0\",\"0\",\"0\",\"0\",\"0\",\"0\",\"0\"],\"value\":{\"__ndarray__\":\"H+MLDLmzDkBtjmRwQ40FQMJaCLRs6CVAa156oLpiBUDFbGk43EAEQLh5wpZHTB5AdGCwUKg6I0Ac1GyIa3kFQA==\",\"dtype\":\"float64\",\"order\":\"little\",\"shape\":[8]},\"xoffsets\":[[\"0\",\"Australia\"],[\"0\",\"Canada\"],[\"0\",\"China\"],[\"0\",\"European Union\"],[\"0\",\"United Kingdom\"],[\"0\",\"India\"],[\"0\",\"Korea, Rep.\"],[\"0\",\"United States\"]]},\"selected\":{\"id\":\"10174\"},\"selection_policy\":{\"id\":\"10202\"}},\"id\":\"10173\",\"type\":\"ColumnDataSource\"},{\"attributes\":{\"children\":[{\"id\":\"10216\"},{\"id\":\"10217\"},{\"id\":\"10219\"}],\"margin\":[0,0,0,0],\"name\":\"Column47682\"},\"id\":\"10215\",\"type\":\"Column\"},{\"attributes\":{\"bottom_units\":\"screen\",\"fill_alpha\":0.5,\"fill_color\":\"lightgrey\",\"left_units\":\"screen\",\"level\":\"overlay\",\"line_alpha\":1.0,\"line_color\":\"black\",\"line_dash\":[4,4],\"line_width\":2,\"right_units\":\"screen\",\"syncable\":false,\"top_units\":\"screen\"},\"id\":\"10164\",\"type\":\"BoxAnnotation\"},{\"attributes\":{\"margin\":[5,5,5,5],\"name\":\"HSpacer47684\",\"sizing_mode\":\"stretch_width\"},\"id\":\"10214\",\"type\":\"Spacer\"},{\"attributes\":{\"fill_alpha\":{\"value\":0.2},\"fill_color\":{\"field\":\"Variable\",\"transform\":{\"id\":\"10172\"}},\"line_alpha\":{\"value\":0.2},\"top\":{\"field\":\"value\"},\"width\":{\"value\":0.8},\"x\":{\"field\":\"xoffsets\"}},\"id\":\"10178\",\"type\":\"VBar\"},{\"attributes\":{},\"id\":\"10183\",\"type\":\"AllLabels\"},{\"attributes\":{\"axis_label\":\"\",\"formatter\":{\"id\":\"10182\"},\"major_label_policy\":{\"id\":\"10183\"},\"ticker\":{\"id\":\"10153\"}},\"id\":\"10152\",\"type\":\"CategoricalAxis\"},{\"attributes\":{\"below\":[{\"id\":\"10152\"}],\"center\":[{\"id\":\"10154\"},{\"id\":\"10158\"}],\"height\":300,\"left\":[{\"id\":\"10155\"}],\"margin\":[5,5,5,5],\"min_border_bottom\":10,\"min_border_left\":10,\"min_border_right\":10,\"min_border_top\":10,\"renderers\":[{\"id\":\"10179\"}],\"sizing_mode\":\"fixed\",\"title\":{\"id\":\"10144\"},\"toolbar\":{\"id\":\"10165\"},\"width\":700,\"x_range\":{\"id\":\"10140\"},\"x_scale\":{\"id\":\"10148\"},\"y_range\":{\"id\":\"10141\"},\"y_scale\":{\"id\":\"10150\"}},\"id\":\"10143\",\"subtype\":\"Figure\",\"type\":\"Plot\"},{\"attributes\":{\"fill_color\":{\"field\":\"Variable\",\"transform\":{\"id\":\"10172\"}},\"top\":{\"field\":\"value\"},\"width\":{\"value\":0.8},\"x\":{\"field\":\"xoffsets\"}},\"id\":\"10176\",\"type\":\"VBar\"},{\"attributes\":{},\"id\":\"10174\",\"type\":\"Selection\"},{\"attributes\":{},\"id\":\"10182\",\"type\":\"CategoricalTickFormatter\"},{\"attributes\":{\"margin\":[5,5,5,5],\"name\":\"HSpacer47683\",\"sizing_mode\":\"stretch_width\"},\"id\":\"10139\",\"type\":\"Spacer\"},{\"attributes\":{},\"id\":\"10159\",\"type\":\"SaveTool\"},{\"attributes\":{\"factors\":[\"Australia\",\"Canada\",\"China\",\"European Union\",\"United Kingdom\",\"India\",\"Korea, Rep.\",\"United States\"],\"palette\":[\"#30a2da\",\"#fc4f30\",\"#e5ae38\",\"#6d904f\",\"#8b8b8b\",\"#17becf\",\"#9467bd\",\"#d62728\"]},\"id\":\"10172\",\"type\":\"CategoricalColorMapper\"},{\"attributes\":{},\"id\":\"10160\",\"type\":\"PanTool\"},{\"attributes\":{\"client_comm_id\":\"a2cdee461ff948b8a392496528bae504\",\"comm_id\":\"22ccdf8dc17d4be79e7838372e2ca453\",\"plot_id\":\"10138\"},\"id\":\"10250\",\"type\":\"panel.models.comm_manager.CommManager\"},{\"attributes\":{},\"id\":\"10163\",\"type\":\"ResetTool\"},{\"attributes\":{},\"id\":\"10161\",\"type\":\"WheelZoomTool\"},{\"attributes\":{\"axis\":{\"id\":\"10152\"},\"grid_line_color\":null,\"ticker\":null},\"id\":\"10154\",\"type\":\"Grid\"},{\"attributes\":{},\"id\":\"10187\",\"type\":\"AllLabels\"},{\"attributes\":{\"source\":{\"id\":\"10173\"}},\"id\":\"10180\",\"type\":\"CDSView\"},{\"attributes\":{\"overlay\":{\"id\":\"10164\"}},\"id\":\"10162\",\"type\":\"BoxZoomTool\"},{\"attributes\":{\"margin\":[5,5,5,5],\"name\":\"VSpacer47681\",\"sizing_mode\":\"stretch_height\"},\"id\":\"10219\",\"type\":\"Spacer\"},{\"attributes\":{},\"id\":\"10202\",\"type\":\"UnionRenderers\"},{\"attributes\":{\"text\":\"Year: 1995\",\"text_color\":\"black\",\"text_font_size\":\"12pt\"},\"id\":\"10144\",\"type\":\"Title\"},{\"attributes\":{},\"id\":\"10148\",\"type\":\"CategoricalScale\"},{\"attributes\":{\"bottom\":{\"value\":0},\"fill_alpha\":{\"value\":1.0},\"fill_color\":{\"field\":\"Variable\",\"transform\":{\"id\":\"10172\"}},\"hatch_alpha\":{\"value\":1.0},\"hatch_color\":{\"value\":\"black\"},\"hatch_scale\":{\"value\":12.0},\"hatch_weight\":{\"value\":1.0},\"line_alpha\":{\"value\":1.0},\"line_cap\":{\"value\":\"butt\"},\"line_color\":{\"value\":\"black\"},\"line_dash\":{\"value\":[]},\"line_dash_offset\":{\"value\":0},\"line_join\":{\"value\":\"bevel\"},\"line_width\":{\"value\":1},\"top\":{\"field\":\"value\"},\"width\":{\"value\":0.8},\"x\":{\"field\":\"xoffsets\"}},\"id\":\"10181\",\"type\":\"VBar\"},{\"attributes\":{\"data_source\":{\"id\":\"10173\"},\"glyph\":{\"id\":\"10176\"},\"hover_glyph\":null,\"muted_glyph\":{\"id\":\"10178\"},\"nonselection_glyph\":{\"id\":\"10177\"},\"selection_glyph\":{\"id\":\"10181\"},\"view\":{\"id\":\"10180\"}},\"id\":\"10179\",\"type\":\"GlyphRenderer\"},{\"attributes\":{},\"id\":\"10150\",\"type\":\"LinearScale\"},{\"attributes\":{\"children\":[{\"id\":\"10218\"}],\"css_classes\":[\"panel-widget-box\"],\"margin\":[5,5,5,5],\"name\":\"WidgetBox47675\"},\"id\":\"10217\",\"type\":\"Column\"},{\"attributes\":{\"end\":11.7961827703,\"reset_end\":11.7961827703,\"reset_start\":0.0,\"tags\":[[[\"value\",\"value\",null]]]},\"id\":\"10141\",\"type\":\"Range1d\"},{\"attributes\":{\"children\":[{\"id\":\"10139\"},{\"id\":\"10143\"},{\"id\":\"10214\"},{\"id\":\"10215\"}],\"margin\":[0,0,0,0],\"name\":\"Row47674\"},\"id\":\"10138\",\"type\":\"Row\"},{\"attributes\":{},\"id\":\"10153\",\"type\":\"CategoricalTicker\"},{\"attributes\":{},\"id\":\"10186\",\"type\":\"BasicTickFormatter\"},{\"attributes\":{\"margin\":[20,20,20,20],\"min_width\":250,\"options\":[\"1995\",\"1996\",\"1997\",\"1998\",\"1999\",\"2000\",\"2001\",\"2002\",\"2003\",\"2004\",\"2005\",\"2006\",\"2007\",\"2008\",\"2009\",\"2010\",\"2011\",\"2012\",\"2013\",\"2014\",\"2015\",\"2016\",\"2017\",\"2018\",\"2019\",\"2020\"],\"title\":\"Year\",\"value\":\"1995\",\"width\":250},\"id\":\"10218\",\"type\":\"Select\"},{\"attributes\":{\"margin\":[5,5,5,5],\"name\":\"VSpacer47680\",\"sizing_mode\":\"stretch_height\"},\"id\":\"10216\",\"type\":\"Spacer\"},{\"attributes\":{\"factors\":[[\"0\",\"United States\"],[\"0\",\"Korea, Rep.\"],[\"0\",\"India\"],[\"0\",\"United Kingdom\"],[\"0\",\"European Union\"],[\"0\",\"China\"],[\"0\",\"Canada\"],[\"0\",\"Australia\"]],\"tags\":[[[\"index\",\"index\",null],[\"Variable\",\"Variable\",null]]]},\"id\":\"10140\",\"type\":\"FactorRange\"}],\"root_ids\":[\"10138\",\"10250\"]},\"title\":\"Bokeh Application\",\"version\":\"2.3.2\"}};\n",
       "    var render_items = [{\"docid\":\"f147d87f-9b1d-45f6-9076-02e66b380e46\",\"root_ids\":[\"10138\"],\"roots\":{\"10138\":\"50990a39-1d6a-4926-a5d1-70cfad1fc4af\"}}];\n",
       "    root.Bokeh.embed.embed_items_notebook(docs_json, render_items);\n",
       "  }\n",
       "  if (root.Bokeh !== undefined && root.Bokeh.Panel !== undefined && root['Plotly'] !== undefined ) {\n",
       "    embed_document(root);\n",
       "  } else {\n",
       "    var attempts = 0;\n",
       "    var timer = setInterval(function(root) {\n",
       "      if (root.Bokeh !== undefined && root.Bokeh.Panel !== undefined && root['Plotly'] !== undefined) {\n",
       "        clearInterval(timer);\n",
       "        embed_document(root);\n",
       "      } else if (document.readyState == \"complete\") {\n",
       "        attempts++;\n",
       "        if (attempts > 100) {\n",
       "          clearInterval(timer);\n",
       "          console.log(\"Bokeh: ERROR: Unable to run BokehJS code because BokehJS library is missing\");\n",
       "        }\n",
       "      }\n",
       "    }, 10, root)\n",
       "  }\n",
       "})(window);</script>"
      ],
      "text/plain": [
       ":DynamicMap   [Year]\n",
       "   :Bars   [index,Variable]   (value)"
      ]
     },
     "execution_count": 155,
     "metadata": {
      "application/vnd.holoviews_exec.v0+json": {
       "id": "10138"
      }
     },
     "output_type": "execute_result"
    }
   ],
   "source": [
    "#Create bar chart\n",
    "gdp_hvplot_bar = gdp_bar_new.hvplot.bar(groupby=\"Year\")\n",
    "gdp_hvplot_bar"
   ]
  },
  {
   "cell_type": "code",
   "execution_count": 156,
   "id": "de4b350e",
   "metadata": {},
   "outputs": [
    {
     "data": {},
     "metadata": {},
     "output_type": "display_data"
    },
    {
     "data": {
      "application/vnd.holoviews_exec.v0+json": "",
      "text/html": [
       "<div id='10301'>\n",
       "\n",
       "\n",
       "\n",
       "\n",
       "\n",
       "  <div class=\"bk-root\" id=\"c1ce5aa0-33f6-4172-8a4a-2b12ce0c5965\" data-root-id=\"10301\"></div>\n",
       "</div>\n",
       "<script type=\"application/javascript\">(function(root) {\n",
       "  function embed_document(root) {\n",
       "    var docs_json = {\"712e1ac9-e931-4a10-b82c-7a96ab89cd17\":{\"defs\":[],\"roots\":{\"references\":[{\"attributes\":{\"axis\":{\"id\":\"10322\"},\"grid_line_color\":null,\"ticker\":null},\"id\":\"10325\",\"type\":\"Grid\"},{\"attributes\":{\"axis_label\":\"\",\"formatter\":{\"id\":\"10347\"},\"major_label_policy\":{\"id\":\"10348\"},\"ticker\":{\"id\":\"10327\"}},\"id\":\"10326\",\"type\":\"LinearAxis\"},{\"attributes\":{\"line_color\":\"#d62728\",\"line_width\":2,\"x\":{\"field\":\"Year\"},\"y\":{\"field\":\"value\"}},\"id\":\"10535\",\"type\":\"Line\"},{\"attributes\":{},\"id\":\"10365\",\"type\":\"UnionRenderers\"},{\"attributes\":{\"line_color\":\"#6d904f\",\"line_width\":2,\"x\":{\"field\":\"Year\"},\"y\":{\"field\":\"value\"}},\"id\":\"10441\",\"type\":\"Line\"},{\"attributes\":{},\"id\":\"10327\",\"type\":\"BasicTicker\"},{\"attributes\":{\"data\":{\"Variable\":[\"United Kingdom\",\"United Kingdom\",\"United Kingdom\",\"United Kingdom\",\"United Kingdom\",\"United Kingdom\",\"United Kingdom\",\"United Kingdom\",\"United Kingdom\",\"United Kingdom\",\"United Kingdom\",\"United Kingdom\",\"United Kingdom\",\"United Kingdom\",\"United Kingdom\",\"United Kingdom\",\"United Kingdom\",\"United Kingdom\",\"United Kingdom\",\"United Kingdom\",\"United Kingdom\",\"United Kingdom\",\"United Kingdom\",\"United Kingdom\",\"United Kingdom\",\"United Kingdom\"],\"Year\":[1995,1996,1997,1998,1999,2000,2001,2002,2003,2004,2005,2006,2007,2008,2009,2010,2011,2012,2013,2014,2015,2016,2017,2018,2019,2020],\"value\":{\"__ndarray__\":\"xWxpONxABEC1/afyqO4DQDvhNxux1g5AvEa05agoDUB9JylaAG0LQN3cGyDxfwtAZl7AK3/LB0CJSatmRZgCQL7belWASgpAhWsMP9r9AkB4pqyzFXAJQMHTLBx9TgZAa91r4MVxA0CIJAt8a/7Rv8tJ/fzE/RDAQK4raz0x/z8meG6acaT4P8Ch7SGsqfc/eY0osKodAUCeOT9THNwEQPGfmSAd2AJAVIOJb8Ow/j/LQSmK8kX+P2udKnKXc/U//w5tSQxn9z9VR3timpQjwA==\",\"dtype\":\"float64\",\"order\":\"little\",\"shape\":[26]}},\"selected\":{\"id\":\"10443\"},\"selection_policy\":{\"id\":\"10466\"}},\"id\":\"10442\",\"type\":\"ColumnDataSource\"},{\"attributes\":{\"axis\":{\"id\":\"10326\"},\"dimension\":1,\"grid_line_color\":null,\"ticker\":null},\"id\":\"10329\",\"type\":\"Grid\"},{\"attributes\":{\"line_alpha\":0.2,\"line_color\":\"#d62728\",\"line_width\":2,\"x\":{\"field\":\"Year\"},\"y\":{\"field\":\"value\"}},\"id\":\"10537\",\"type\":\"Line\"},{\"attributes\":{\"line_color\":\"#17becf\",\"line_width\":2,\"x\":{\"field\":\"Year\"},\"y\":{\"field\":\"value\"}},\"id\":\"10499\",\"type\":\"Line\"},{\"attributes\":{\"source\":{\"id\":\"10532\"}},\"id\":\"10539\",\"type\":\"CDSView\"},{\"attributes\":{\"margin\":[5,5,5,5],\"name\":\"HSpacer48343\",\"sizing_mode\":\"stretch_width\"},\"id\":\"10302\",\"type\":\"Spacer\"},{\"attributes\":{\"label\":{\"value\":\"India\"},\"renderers\":[{\"id\":\"10476\"}]},\"id\":\"10498\",\"type\":\"LegendItem\"},{\"attributes\":{\"data\":{\"Variable\":[\"India\",\"India\",\"India\",\"India\",\"India\",\"India\",\"India\",\"India\",\"India\",\"India\",\"India\",\"India\",\"India\",\"India\",\"India\",\"India\",\"India\",\"India\",\"India\",\"India\",\"India\",\"India\",\"India\",\"India\",\"India\",\"India\"],\"Year\":[1995,1996,1997,1998,1999,2000,2001,2002,2003,2004,2005,2006,2007,2008,2009,2010,2011,2012,2013,2014,2015,2016,2017,2018,2019,2020],\"value\":{\"__ndarray__\":\"uHnClkdMHkB5hN/1tTIeQLB0lDwEMxBAbj1AgNe8GEBuz3XfBrEhQFVSXJJZug5AmYzzz71LE0CK4/Ocim4OQFEEdtcHcR9AynakSxaxH0CnR/XLl7EfQIKs/VYYHyBAN4RTtKykHkD4nKLAjrEIQCUXevySch9A6igMbMP+IEBx/IgTI/cUQKIgx8JP0xVA+Uj0eV+LGUDNkI20EqQdQIsH4twp/B9A4oEDhTqDIEBYbsxf3ywcQACCDPl0ehhAXW+bqRC5EED14OTUwtsfwA==\",\"dtype\":\"float64\",\"order\":\"little\",\"shape\":[26]}},\"selected\":{\"id\":\"10471\"},\"selection_policy\":{\"id\":\"10496\"}},\"id\":\"10470\",\"type\":\"ColumnDataSource\"},{\"attributes\":{\"line_alpha\":0.1,\"line_color\":\"#30a2da\",\"line_width\":2,\"x\":{\"field\":\"Year\"},\"y\":{\"field\":\"value\"}},\"id\":\"10353\",\"type\":\"Line\"},{\"attributes\":{\"click_policy\":\"mute\",\"items\":[{\"id\":\"10368\"},{\"id\":\"10390\"},{\"id\":\"10414\"},{\"id\":\"10440\"},{\"id\":\"10468\"},{\"id\":\"10498\"},{\"id\":\"10530\"},{\"id\":\"10564\"}],\"location\":[0,0],\"title\":\"Variable\"},\"id\":\"10367\",\"type\":\"Legend\"},{\"attributes\":{\"callback\":null,\"renderers\":[{\"id\":\"10355\"},{\"id\":\"10376\"},{\"id\":\"10398\"},{\"id\":\"10422\"},{\"id\":\"10448\"},{\"id\":\"10476\"},{\"id\":\"10506\"},{\"id\":\"10538\"}],\"tags\":[\"hv_created\"],\"tooltips\":[[\"Variable\",\"@{Variable}\"],[\"Year\",\"@{Year}\"],[\"value\",\"@{value}\"]]},\"id\":\"10305\",\"type\":\"HoverTool\"},{\"attributes\":{},\"id\":\"10466\",\"type\":\"UnionRenderers\"},{\"attributes\":{},\"id\":\"10371\",\"type\":\"Selection\"},{\"attributes\":{\"below\":[{\"id\":\"10322\"}],\"center\":[{\"id\":\"10325\"},{\"id\":\"10329\"}],\"height\":300,\"left\":[{\"id\":\"10326\"}],\"margin\":[5,5,5,5],\"min_border_bottom\":10,\"min_border_left\":10,\"min_border_right\":10,\"min_border_top\":10,\"renderers\":[{\"id\":\"10355\"},{\"id\":\"10376\"},{\"id\":\"10398\"},{\"id\":\"10422\"},{\"id\":\"10448\"},{\"id\":\"10476\"},{\"id\":\"10506\"},{\"id\":\"10538\"}],\"right\":[{\"id\":\"10367\"}],\"sizing_mode\":\"fixed\",\"title\":{\"id\":\"10314\"},\"toolbar\":{\"id\":\"10336\"},\"width\":700,\"x_range\":{\"id\":\"10303\"},\"x_scale\":{\"id\":\"10318\"},\"y_range\":{\"id\":\"10304\"},\"y_scale\":{\"id\":\"10320\"}},\"id\":\"10313\",\"subtype\":\"Figure\",\"type\":\"Plot\"},{\"attributes\":{},\"id\":\"10443\",\"type\":\"Selection\"},{\"attributes\":{\"line_color\":\"#9467bd\",\"line_width\":2,\"x\":{\"field\":\"Year\"},\"y\":{\"field\":\"value\"}},\"id\":\"10531\",\"type\":\"Line\"},{\"attributes\":{\"label\":{\"value\":\"United Kingdom\"},\"renderers\":[{\"id\":\"10448\"}]},\"id\":\"10468\",\"type\":\"LegendItem\"},{\"attributes\":{\"line_color\":\"#8b8b8b\",\"line_width\":2,\"x\":{\"field\":\"Year\"},\"y\":{\"field\":\"value\"}},\"id\":\"10469\",\"type\":\"Line\"},{\"attributes\":{\"line_alpha\":0.1,\"line_color\":\"#d62728\",\"line_width\":2,\"x\":{\"field\":\"Year\"},\"y\":{\"field\":\"value\"}},\"id\":\"10536\",\"type\":\"Line\"},{\"attributes\":{},\"id\":\"10330\",\"type\":\"SaveTool\"},{\"attributes\":{\"data\":{\"Variable\":[\"China\",\"China\",\"China\",\"China\",\"China\",\"China\",\"China\",\"China\",\"China\",\"China\",\"China\",\"China\",\"China\",\"China\",\"China\",\"China\",\"China\",\"China\",\"China\",\"China\",\"China\",\"China\",\"China\",\"China\",\"China\",\"China\"],\"Year\":[1995,1996,1997,1998,1999,2000,2001,2002,2003,2004,2005,2006,2007,2008,2009,2010,2011,2012,2013,2014,2015,2016,2017,2018,2019,2020],\"value\":{\"__ndarray__\":\"wloItGzoJUCLrdVbWdgjQBj7yDY7eSJAjKFsL0FiH0C6ZYf4h6UeQLCC3YXt+iBAW10oQuWrIEDJk0FBa0QiQM6zJ7t4EyRA6XPelCw6JEBbcA7wB8omQBMIARohcSlAXYxgZzN2LEBwmorJJU0jQLGfI8QlzCJAgFg+5JBFJUBix+SsBhojQM9F41N3dB9A4/K6pokQH0CvYUlj+7MdQMq9Hh5SKhxAMDli6yFlG0CXuDIB78kbQLmGMLbE/xpAdh9N44HMF0Ad12VmZmYCQA==\",\"dtype\":\"float64\",\"order\":\"little\",\"shape\":[26]}},\"selected\":{\"id\":\"10393\"},\"selection_policy\":{\"id\":\"10412\"}},\"id\":\"10392\",\"type\":\"ColumnDataSource\"},{\"attributes\":{\"line_color\":\"#17becf\",\"line_width\":2,\"x\":{\"field\":\"Year\"},\"y\":{\"field\":\"value\"}},\"id\":\"10473\",\"type\":\"Line\"},{\"attributes\":{},\"id\":\"10348\",\"type\":\"AllLabels\"},{\"attributes\":{},\"id\":\"10331\",\"type\":\"PanTool\"},{\"attributes\":{\"line_alpha\":0.2,\"line_color\":\"#30a2da\",\"line_width\":2,\"x\":{\"field\":\"Year\"},\"y\":{\"field\":\"value\"}},\"id\":\"10354\",\"type\":\"Line\"},{\"attributes\":{},\"id\":\"10334\",\"type\":\"ResetTool\"},{\"attributes\":{\"data_source\":{\"id\":\"10532\"},\"glyph\":{\"id\":\"10535\"},\"hover_glyph\":null,\"muted_glyph\":{\"id\":\"10537\"},\"nonselection_glyph\":{\"id\":\"10536\"},\"selection_glyph\":{\"id\":\"10565\"},\"view\":{\"id\":\"10539\"}},\"id\":\"10538\",\"type\":\"GlyphRenderer\"},{\"attributes\":{},\"id\":\"10332\",\"type\":\"WheelZoomTool\"},{\"attributes\":{\"line_alpha\":0.1,\"line_color\":\"#fc4f30\",\"line_width\":2,\"x\":{\"field\":\"Year\"},\"y\":{\"field\":\"value\"}},\"id\":\"10374\",\"type\":\"Line\"},{\"attributes\":{\"line_color\":\"#9467bd\",\"line_width\":2,\"x\":{\"field\":\"Year\"},\"y\":{\"field\":\"value\"}},\"id\":\"10503\",\"type\":\"Line\"},{\"attributes\":{\"source\":{\"id\":\"10442\"}},\"id\":\"10449\",\"type\":\"CDSView\"},{\"attributes\":{\"data\":{\"Variable\":[\"Australia\",\"Australia\",\"Australia\",\"Australia\",\"Australia\",\"Australia\",\"Australia\",\"Australia\",\"Australia\",\"Australia\",\"Australia\",\"Australia\",\"Australia\",\"Australia\",\"Australia\",\"Australia\",\"Australia\",\"Australia\",\"Australia\",\"Australia\",\"Australia\",\"Australia\",\"Australia\",\"Australia\",\"Australia\",\"Australia\"],\"Year\":[1995,1996,1997,1998,1999,2000,2001,2002,2003,2004,2005,2006,2007,2008,2009,2010,2011,2012,2013,2014,2015,2016,2017,2018,2019,2020],\"value\":{\"__ndarray__\":\"H+MLDLmzDkDfc+G5VwcPQG8jBRl4uw9A2IB/f4dOEkApKaiPXUsUQP62q4AQdw9AFfkt7srk/j95fAERcAEQQJPzp4gx4wdAQDyUZsg4EEAs94MzWKIJQE9ULDo2WwZADxjs0vvADkDDqWMjfUMNQKQ2L1bt/f4/G5q//RGKAEDoddCUubMDQJHFesZlWA9AscOs2N6tBEBBixmf0UMEQO6g0ruKigFA96T1sksqBkD+R/eKpmcCQIliiiMjmAdA9OE4dKNJAUD6tCabzjrSvw==\",\"dtype\":\"float64\",\"order\":\"little\",\"shape\":[26]}},\"selected\":{\"id\":\"10350\"},\"selection_policy\":{\"id\":\"10365\"}},\"id\":\"10349\",\"type\":\"ColumnDataSource\"},{\"attributes\":{\"overlay\":{\"id\":\"10335\"}},\"id\":\"10333\",\"type\":\"BoxZoomTool\"},{\"attributes\":{\"line_alpha\":0.2,\"line_color\":\"#17becf\",\"line_width\":2,\"x\":{\"field\":\"Year\"},\"y\":{\"field\":\"value\"}},\"id\":\"10475\",\"type\":\"Line\"},{\"attributes\":{},\"id\":\"10350\",\"type\":\"Selection\"},{\"attributes\":{\"line_color\":\"#8b8b8b\",\"line_width\":2,\"x\":{\"field\":\"Year\"},\"y\":{\"field\":\"value\"}},\"id\":\"10445\",\"type\":\"Line\"},{\"attributes\":{\"source\":{\"id\":\"10470\"}},\"id\":\"10477\",\"type\":\"CDSView\"},{\"attributes\":{\"line_alpha\":0.2,\"line_color\":\"#8b8b8b\",\"line_width\":2,\"x\":{\"field\":\"Year\"},\"y\":{\"field\":\"value\"}},\"id\":\"10447\",\"type\":\"Line\"},{\"attributes\":{},\"id\":\"10412\",\"type\":\"UnionRenderers\"},{\"attributes\":{\"data_source\":{\"id\":\"10500\"},\"glyph\":{\"id\":\"10503\"},\"hover_glyph\":null,\"muted_glyph\":{\"id\":\"10505\"},\"nonselection_glyph\":{\"id\":\"10504\"},\"selection_glyph\":{\"id\":\"10531\"},\"view\":{\"id\":\"10507\"}},\"id\":\"10506\",\"type\":\"GlyphRenderer\"},{\"attributes\":{\"line_color\":\"#e5ae38\",\"line_width\":2,\"x\":{\"field\":\"Year\"},\"y\":{\"field\":\"value\"}},\"id\":\"10415\",\"type\":\"Line\"},{\"attributes\":{},\"id\":\"10393\",\"type\":\"Selection\"},{\"attributes\":{\"data\":{\"Variable\":[\"United States\",\"United States\",\"United States\",\"United States\",\"United States\",\"United States\",\"United States\",\"United States\",\"United States\",\"United States\",\"United States\",\"United States\",\"United States\",\"United States\",\"United States\",\"United States\",\"United States\",\"United States\",\"United States\",\"United States\",\"United States\",\"United States\",\"United States\",\"United States\",\"United States\",\"United States\"],\"Year\":[1995,1996,1997,1998,1999,2000,2001,2002,2003,2004,2005,2006,2007,2008,2009,2010,2011,2012,2013,2014,2015,2016,2017,2018,2019,2020],\"value\":{\"__ndarray__\":\"HNRsiGt5BUB4IgwsFS4OQLMlihTzyRFAxLoAGvbsEUCED65LUAMTQBgIKCuLghBAN2bIZ2jy7z9WisTU+937P5CfJXnC4wZAN8xyByFkDkB7aK3VDxsMQPEqV7f71gZAqZ4OXMwE/j/7rrxvcnvBv9BfbEpHSwTAfU41C5iCBECofbLjOND4Pw8uJ+UR/wFA5bADACp5/T+rg3KRMTUEQG1iKPegQwdAPCMPGZY0+j9zhQodWvUCQCBv3cApawdAMM4uyxZKAUBhyNgineMLwA==\",\"dtype\":\"float64\",\"order\":\"little\",\"shape\":[26]}},\"selected\":{\"id\":\"10533\"},\"selection_policy\":{\"id\":\"10562\"}},\"id\":\"10532\",\"type\":\"ColumnDataSource\"},{\"attributes\":{\"line_alpha\":0.1,\"line_color\":\"#9467bd\",\"line_width\":2,\"x\":{\"field\":\"Year\"},\"y\":{\"field\":\"value\"}},\"id\":\"10504\",\"type\":\"Line\"},{\"attributes\":{},\"id\":\"10496\",\"type\":\"UnionRenderers\"},{\"attributes\":{\"children\":[{\"id\":\"10302\"},{\"id\":\"10313\"},{\"id\":\"10782\"}],\"margin\":[0,0,0,0],\"name\":\"Row48339\",\"tags\":[\"embedded\"]},\"id\":\"10301\",\"type\":\"Row\"},{\"attributes\":{\"line_alpha\":0.2,\"line_color\":\"#6d904f\",\"line_width\":2,\"x\":{\"field\":\"Year\"},\"y\":{\"field\":\"value\"}},\"id\":\"10421\",\"type\":\"Line\"},{\"attributes\":{\"label\":{\"value\":\"China\"},\"renderers\":[{\"id\":\"10398\"}]},\"id\":\"10414\",\"type\":\"LegendItem\"},{\"attributes\":{\"line_color\":\"#fc4f30\",\"line_width\":2,\"x\":{\"field\":\"Year\"},\"y\":{\"field\":\"value\"}},\"id\":\"10391\",\"type\":\"Line\"},{\"attributes\":{},\"id\":\"10528\",\"type\":\"UnionRenderers\"},{\"attributes\":{\"end\":2020.0,\"reset_end\":2020.0,\"reset_start\":1995.0,\"start\":1995.0,\"tags\":[[[\"Year\",\"Year\",null]]]},\"id\":\"10303\",\"type\":\"Range1d\"},{\"attributes\":{\"line_color\":\"#30a2da\",\"line_width\":2,\"x\":{\"field\":\"Year\"},\"y\":{\"field\":\"value\"}},\"id\":\"10369\",\"type\":\"Line\"},{\"attributes\":{},\"id\":\"10345\",\"type\":\"AllLabels\"},{\"attributes\":{\"data\":{\"Variable\":[\"Korea, Rep.\",\"Korea, Rep.\",\"Korea, Rep.\",\"Korea, Rep.\",\"Korea, Rep.\",\"Korea, Rep.\",\"Korea, Rep.\",\"Korea, Rep.\",\"Korea, Rep.\",\"Korea, Rep.\",\"Korea, Rep.\",\"Korea, Rep.\",\"Korea, Rep.\",\"Korea, Rep.\",\"Korea, Rep.\",\"Korea, Rep.\",\"Korea, Rep.\",\"Korea, Rep.\",\"Korea, Rep.\",\"Korea, Rep.\",\"Korea, Rep.\",\"Korea, Rep.\",\"Korea, Rep.\",\"Korea, Rep.\",\"Korea, Rep.\",\"Korea, Rep.\"],\"Year\":[1995,1996,1997,1998,1999,2000,2001,2002,2003,2004,2005,2006,2007,2008,2009,2010,2011,2012,2013,2014,2015,2016,2017,2018,2019,2020],\"value\":{\"__ndarray__\":\"dGCwUKg6I0AJb16IFJAfQKzfoEulrhhAEc9MD46EFMD27QMUE+8mQI7DqoslHyJAJHXzbttoE0BfPCjNi+YeQBXAaQGnLQlAN2Qi9iDKFEBCMgif8jsRQMDzg6GrDhVAfPnX0bwyF0CPBSfQlxoIQFHps0XKXek/dkP3BSQ4G0AJ49xjP3wNQKohMitiOANAAOnnwlJRCUAHz2MYoJ4JQH4sWSILeQZA2Nd4uDaTB0ADlVQa70YJQJrG7OhcQgdA9fagzZVQAEB+JehZBabuvw==\",\"dtype\":\"float64\",\"order\":\"little\",\"shape\":[26]}},\"selected\":{\"id\":\"10501\"},\"selection_policy\":{\"id\":\"10528\"}},\"id\":\"10500\",\"type\":\"ColumnDataSource\"},{\"attributes\":{\"label\":{\"value\":\"Canada\"},\"renderers\":[{\"id\":\"10376\"}]},\"id\":\"10390\",\"type\":\"LegendItem\"},{\"attributes\":{\"line_alpha\":0.1,\"line_color\":\"#17becf\",\"line_width\":2,\"x\":{\"field\":\"Year\"},\"y\":{\"field\":\"value\"}},\"id\":\"10474\",\"type\":\"Line\"},{\"attributes\":{\"line_color\":\"#6d904f\",\"line_width\":2,\"x\":{\"field\":\"Year\"},\"y\":{\"field\":\"value\"}},\"id\":\"10419\",\"type\":\"Line\"},{\"attributes\":{\"label\":{\"value\":\"Australia\"},\"renderers\":[{\"id\":\"10355\"}]},\"id\":\"10368\",\"type\":\"LegendItem\"},{\"attributes\":{\"label\":{\"value\":\"European Union\"},\"renderers\":[{\"id\":\"10422\"}]},\"id\":\"10440\",\"type\":\"LegendItem\"},{\"attributes\":{\"source\":{\"id\":\"10500\"}},\"id\":\"10507\",\"type\":\"CDSView\"},{\"attributes\":{},\"id\":\"10471\",\"type\":\"Selection\"},{\"attributes\":{\"line_alpha\":0.1,\"line_color\":\"#8b8b8b\",\"line_width\":2,\"x\":{\"field\":\"Year\"},\"y\":{\"field\":\"value\"}},\"id\":\"10446\",\"type\":\"Line\"},{\"attributes\":{\"data_source\":{\"id\":\"10470\"},\"glyph\":{\"id\":\"10473\"},\"hover_glyph\":null,\"muted_glyph\":{\"id\":\"10475\"},\"nonselection_glyph\":{\"id\":\"10474\"},\"selection_glyph\":{\"id\":\"10499\"},\"view\":{\"id\":\"10477\"}},\"id\":\"10476\",\"type\":\"GlyphRenderer\"},{\"attributes\":{\"active_multi\":null,\"tools\":[{\"id\":\"10305\"},{\"id\":\"10330\"},{\"id\":\"10331\"},{\"id\":\"10332\"},{\"id\":\"10333\"},{\"id\":\"10334\"}]},\"id\":\"10336\",\"type\":\"Toolbar\"},{\"attributes\":{\"source\":{\"id\":\"10349\"}},\"id\":\"10356\",\"type\":\"CDSView\"},{\"attributes\":{\"data\":{\"Variable\":[\"European Union\",\"European Union\",\"European Union\",\"European Union\",\"European Union\",\"European Union\",\"European Union\",\"European Union\",\"European Union\",\"European Union\",\"European Union\",\"European Union\",\"European Union\",\"European Union\",\"European Union\",\"European Union\",\"European Union\",\"European Union\",\"European Union\",\"European Union\",\"European Union\",\"European Union\",\"European Union\",\"European Union\",\"European Union\",\"European Union\"],\"Year\":[1995,1996,1997,1998,1999,2000,2001,2002,2003,2004,2005,2006,2007,2008,2009,2010,2011,2012,2013,2014,2015,2016,2017,2018,2019,2020],\"value\":{\"__ndarray__\":\"a156oLpiBUA+JYSaY0n+P3iqiELnTwVAbcyNF0ImCEDzvGDfaqsHQKbPSxvHOQ9A0n7RCZR5AUAIymOJq/vxP9oJv2zsxu0/rQf0C3TCBEDTnAsP2fH+P+gRbvVG9AtAipmWu0M4CUBVhEpFK6PkP+erokelTRHA/TTNv4atAUC4eDazr0/9P7hFwdX/Dui/uXzuewlSrL+guDwGxir5Pzy6tlyiZwJA2dSfG59bAED2PnHaNVAGQGPgAs4n8gBArfur7UTe+D9mZmZmZmYYwA==\",\"dtype\":\"float64\",\"order\":\"little\",\"shape\":[26]}},\"selected\":{\"id\":\"10417\"},\"selection_policy\":{\"id\":\"10438\"}},\"id\":\"10416\",\"type\":\"ColumnDataSource\"},{\"attributes\":{\"data_source\":{\"id\":\"10442\"},\"glyph\":{\"id\":\"10445\"},\"hover_glyph\":null,\"muted_glyph\":{\"id\":\"10447\"},\"nonselection_glyph\":{\"id\":\"10446\"},\"selection_glyph\":{\"id\":\"10469\"},\"view\":{\"id\":\"10449\"}},\"id\":\"10448\",\"type\":\"GlyphRenderer\"},{\"attributes\":{\"source\":{\"id\":\"10416\"}},\"id\":\"10423\",\"type\":\"CDSView\"},{\"attributes\":{\"line_color\":\"#e5ae38\",\"line_width\":2,\"x\":{\"field\":\"Year\"},\"y\":{\"field\":\"value\"}},\"id\":\"10395\",\"type\":\"Line\"},{\"attributes\":{},\"id\":\"10501\",\"type\":\"Selection\"},{\"attributes\":{\"bottom_units\":\"screen\",\"fill_alpha\":0.5,\"fill_color\":\"lightgrey\",\"left_units\":\"screen\",\"level\":\"overlay\",\"line_alpha\":1.0,\"line_color\":\"black\",\"line_dash\":[4,4],\"line_width\":2,\"right_units\":\"screen\",\"syncable\":false,\"top_units\":\"screen\"},\"id\":\"10335\",\"type\":\"BoxAnnotation\"},{\"attributes\":{\"line_alpha\":0.2,\"line_color\":\"#e5ae38\",\"line_width\":2,\"x\":{\"field\":\"Year\"},\"y\":{\"field\":\"value\"}},\"id\":\"10397\",\"type\":\"Line\"},{\"attributes\":{\"source\":{\"id\":\"10392\"}},\"id\":\"10399\",\"type\":\"CDSView\"},{\"attributes\":{\"line_alpha\":0.2,\"line_color\":\"#fc4f30\",\"line_width\":2,\"x\":{\"field\":\"Year\"},\"y\":{\"field\":\"value\"}},\"id\":\"10375\",\"type\":\"Line\"},{\"attributes\":{\"label\":{\"value\":\"Korea, Rep.\"},\"renderers\":[{\"id\":\"10506\"}]},\"id\":\"10530\",\"type\":\"LegendItem\"},{\"attributes\":{},\"id\":\"10438\",\"type\":\"UnionRenderers\"},{\"attributes\":{},\"id\":\"10388\",\"type\":\"UnionRenderers\"},{\"attributes\":{\"data_source\":{\"id\":\"10416\"},\"glyph\":{\"id\":\"10419\"},\"hover_glyph\":null,\"muted_glyph\":{\"id\":\"10421\"},\"nonselection_glyph\":{\"id\":\"10420\"},\"selection_glyph\":{\"id\":\"10441\"},\"view\":{\"id\":\"10423\"}},\"id\":\"10422\",\"type\":\"GlyphRenderer\"},{\"attributes\":{},\"id\":\"10347\",\"type\":\"BasicTickFormatter\"},{\"attributes\":{\"data\":{\"Variable\":[\"Canada\",\"Canada\",\"Canada\",\"Canada\",\"Canada\",\"Canada\",\"Canada\",\"Canada\",\"Canada\",\"Canada\",\"Canada\",\"Canada\",\"Canada\",\"Canada\",\"Canada\",\"Canada\",\"Canada\",\"Canada\",\"Canada\",\"Canada\",\"Canada\",\"Canada\",\"Canada\",\"Canada\",\"Canada\",\"Canada\"],\"Year\":[1995,1996,1997,1998,1999,2000,2001,2002,2003,2004,2005,2006,2007,2008,2009,2010,2011,2012,2013,2014,2015,2016,2017,2018,2019,2020],\"value\":{\"__ndarray__\":\"bY5kcEONBUBOILJpIej5P/2wAbgpww7AQczrqVFfBkC4AZpmjMMPQG/eK//JqxNAeBdGfwp99j/tnPQrjmALQOzwidUcfQ5AeldyUu5PD0By4p7zwvsTQOVClBjMqRBA41KnmXR5G0DXt5v5OB/wP3HtFhFdbQfAKIuQ9Ei3CECJDQkk0CwJQP6og0UQMvw/Ni79+gqiAkC8uEN51fUGQGgdJRT6F+U/8G4oJrYF8D/9g+Cip10JQErfsNzuGwBA4ddhryR/+j9tokg5d5wVwA==\",\"dtype\":\"float64\",\"order\":\"little\",\"shape\":[26]}},\"selected\":{\"id\":\"10371\"},\"selection_policy\":{\"id\":\"10388\"}},\"id\":\"10370\",\"type\":\"ColumnDataSource\"},{\"attributes\":{\"line_color\":\"#fc4f30\",\"line_width\":2,\"x\":{\"field\":\"Year\"},\"y\":{\"field\":\"value\"}},\"id\":\"10373\",\"type\":\"Line\"},{\"attributes\":{\"data_source\":{\"id\":\"10349\"},\"glyph\":{\"id\":\"10352\"},\"hover_glyph\":null,\"muted_glyph\":{\"id\":\"10354\"},\"nonselection_glyph\":{\"id\":\"10353\"},\"selection_glyph\":{\"id\":\"10369\"},\"view\":{\"id\":\"10356\"}},\"id\":\"10355\",\"type\":\"GlyphRenderer\"},{\"attributes\":{\"line_color\":\"#30a2da\",\"line_width\":2,\"x\":{\"field\":\"Year\"},\"y\":{\"field\":\"value\"}},\"id\":\"10352\",\"type\":\"Line\"},{\"attributes\":{\"line_alpha\":0.1,\"line_color\":\"#e5ae38\",\"line_width\":2,\"x\":{\"field\":\"Year\"},\"y\":{\"field\":\"value\"}},\"id\":\"10396\",\"type\":\"Line\"},{\"attributes\":{\"line_color\":\"#d62728\",\"line_width\":2,\"x\":{\"field\":\"Year\"},\"y\":{\"field\":\"value\"}},\"id\":\"10565\",\"type\":\"Line\"},{\"attributes\":{\"line_alpha\":0.1,\"line_color\":\"#6d904f\",\"line_width\":2,\"x\":{\"field\":\"Year\"},\"y\":{\"field\":\"value\"}},\"id\":\"10420\",\"type\":\"Line\"},{\"attributes\":{\"data_source\":{\"id\":\"10370\"},\"glyph\":{\"id\":\"10373\"},\"hover_glyph\":null,\"muted_glyph\":{\"id\":\"10375\"},\"nonselection_glyph\":{\"id\":\"10374\"},\"selection_glyph\":{\"id\":\"10391\"},\"view\":{\"id\":\"10377\"}},\"id\":\"10376\",\"type\":\"GlyphRenderer\"},{\"attributes\":{\"data_source\":{\"id\":\"10392\"},\"glyph\":{\"id\":\"10395\"},\"hover_glyph\":null,\"muted_glyph\":{\"id\":\"10397\"},\"nonselection_glyph\":{\"id\":\"10396\"},\"selection_glyph\":{\"id\":\"10415\"},\"view\":{\"id\":\"10399\"}},\"id\":\"10398\",\"type\":\"GlyphRenderer\"},{\"attributes\":{},\"id\":\"10323\",\"type\":\"BasicTicker\"},{\"attributes\":{},\"id\":\"10562\",\"type\":\"UnionRenderers\"},{\"attributes\":{},\"id\":\"10318\",\"type\":\"LinearScale\"},{\"attributes\":{\"source\":{\"id\":\"10370\"}},\"id\":\"10377\",\"type\":\"CDSView\"},{\"attributes\":{\"label\":{\"value\":\"United States\"},\"renderers\":[{\"id\":\"10538\"}]},\"id\":\"10564\",\"type\":\"LegendItem\"},{\"attributes\":{\"text_color\":\"black\",\"text_font_size\":\"12pt\"},\"id\":\"10314\",\"type\":\"Title\"},{\"attributes\":{\"end\":16.632971059173695,\"reset_end\":16.632971059173695,\"reset_start\":-12.192350490910622,\"start\":-12.192350490910622,\"tags\":[[[\"value\",\"value\",null]]]},\"id\":\"10304\",\"type\":\"Range1d\"},{\"attributes\":{\"axis_label\":\"Year\",\"formatter\":{\"id\":\"10344\"},\"major_label_policy\":{\"id\":\"10345\"},\"ticker\":{\"id\":\"10323\"}},\"id\":\"10322\",\"type\":\"LinearAxis\"},{\"attributes\":{},\"id\":\"10533\",\"type\":\"Selection\"},{\"attributes\":{},\"id\":\"10417\",\"type\":\"Selection\"},{\"attributes\":{\"margin\":[5,5,5,5],\"name\":\"HSpacer48344\",\"sizing_mode\":\"stretch_width\"},\"id\":\"10782\",\"type\":\"Spacer\"},{\"attributes\":{},\"id\":\"10320\",\"type\":\"LinearScale\"},{\"attributes\":{},\"id\":\"10344\",\"type\":\"BasicTickFormatter\"},{\"attributes\":{\"line_alpha\":0.2,\"line_color\":\"#9467bd\",\"line_width\":2,\"x\":{\"field\":\"Year\"},\"y\":{\"field\":\"value\"}},\"id\":\"10505\",\"type\":\"Line\"}],\"root_ids\":[\"10301\"]},\"title\":\"Bokeh Application\",\"version\":\"2.3.2\"}};\n",
       "    var render_items = [{\"docid\":\"712e1ac9-e931-4a10-b82c-7a96ab89cd17\",\"root_ids\":[\"10301\"],\"roots\":{\"10301\":\"c1ce5aa0-33f6-4172-8a4a-2b12ce0c5965\"}}];\n",
       "    root.Bokeh.embed.embed_items_notebook(docs_json, render_items);\n",
       "  }\n",
       "  if (root.Bokeh !== undefined && root.Bokeh.Panel !== undefined && root['Plotly'] !== undefined ) {\n",
       "    embed_document(root);\n",
       "  } else {\n",
       "    var attempts = 0;\n",
       "    var timer = setInterval(function(root) {\n",
       "      if (root.Bokeh !== undefined && root.Bokeh.Panel !== undefined && root['Plotly'] !== undefined) {\n",
       "        clearInterval(timer);\n",
       "        embed_document(root);\n",
       "      } else if (document.readyState == \"complete\") {\n",
       "        attempts++;\n",
       "        if (attempts > 100) {\n",
       "          clearInterval(timer);\n",
       "          console.log(\"Bokeh: ERROR: Unable to run BokehJS code because BokehJS library is missing\");\n",
       "        }\n",
       "      }\n",
       "    }, 10, root)\n",
       "  }\n",
       "})(window);</script>"
      ],
      "text/plain": [
       ":NdOverlay   [Variable]\n",
       "   :Curve   [Year]   (value)"
      ]
     },
     "execution_count": 156,
     "metadata": {
      "application/vnd.holoviews_exec.v0+json": {
       "id": "10301"
      }
     },
     "output_type": "execute_result"
    }
   ],
   "source": [
    "#Create line plots\n",
    "gdp_hvplot_line = gdp_new.hvplot.line()\n",
    "gdp_hvplot_line"
   ]
  },
  {
   "cell_type": "code",
   "execution_count": 98,
   "id": "0b47dc41",
   "metadata": {},
   "outputs": [
    {
     "data": {
      "application/vnd.plotly.v1+json": {
       "config": {
        "linkText": "Export to plot.ly",
        "plotlyServerURL": "https://plot.ly",
        "showLink": true
       },
       "data": [
        {
         "line": {
          "color": "rgba(255, 153, 51, 1.0)",
          "dash": "dash",
          "shape": "linear",
          "width": 1.3
         },
         "mode": "lines",
         "name": "Australia",
         "text": "",
         "type": "scatter",
         "x": [
          1995,
          1996,
          1997,
          1998,
          1999,
          2000,
          2001,
          2002,
          2003,
          2004,
          2005,
          2006,
          2007,
          2008,
          2009,
          2010,
          2011,
          2012,
          2013,
          2014,
          2015,
          2016,
          2017,
          2018,
          2019,
          2020
         ],
         "y": [
          3.8377552930000003,
          3.878585293,
          3.966537662,
          4.576688759,
          5.073599095,
          3.933136945,
          1.930857592,
          4.001404062,
          2.985934322,
          4.055451968,
          3.204269793,
          2.794537024,
          3.8442303160000004,
          3.6579535260000013,
          1.93699392,
          2.067417128,
          2.462756312,
          3.9181628710000003,
          2.5848977019999997,
          2.533114665,
          2.1926474259999997,
          2.770652197,
          2.300610624,
          2.949285772,
          2.160956295,
          -0.284839297785609
         ]
        },
        {
         "line": {
          "color": "rgba(55, 128, 191, 1.0)",
          "dash": "dash",
          "shape": "linear",
          "width": 1.3
         },
         "mode": "lines",
         "name": "Canada",
         "text": "",
         "type": "scatter",
         "x": [
          1995,
          1996,
          1997,
          1998,
          1999,
          2000,
          2001,
          2002,
          2003,
          2004,
          2005,
          2006,
          2007,
          2008,
          2009,
          2010,
          2011,
          2012,
          2013,
          2014,
          2015,
          2016,
          2017,
          2018,
          2019,
          2020
         ],
         "y": [
          2.6939762860000003,
          1.61917249,
          -3.845294416,
          2.79654248,
          3.970482637,
          4.917762744,
          1.405527589,
          3.422146171,
          3.8110901530000003,
          3.914028782,
          4.9958608689999995,
          4.165817627,
          6.868608857000001,
          1.007622695,
          -2.928400167,
          3.08949462,
          3.1468813719999997,
          1.762222549,
          2.329122506,
          2.870036075,
          0.659176864,
          1.001394414,
          3.1707298969999997,
          2.013639187,
          1.656040845,
          -5.40279855256868
         ]
        },
        {
         "line": {
          "color": "rgba(50, 171, 96, 1.0)",
          "dash": "dash",
          "shape": "linear",
          "width": 1.3
         },
         "mode": "lines",
         "name": "China",
         "text": "",
         "type": "scatter",
         "x": [
          1995,
          1996,
          1997,
          1998,
          1999,
          2000,
          2001,
          2002,
          2003,
          2004,
          2005,
          2006,
          2007,
          2008,
          2009,
          2010,
          2011,
          2012,
          2013,
          2014,
          2015,
          2016,
          2017,
          2018,
          2019,
          2020
         ],
         "y": [
          10.95395434,
          9.922556753,
          9.236779892000001,
          7.845951787000001,
          7.6616515,
          8.490093406,
          8.335733478,
          9.13363079,
          10.03803048,
          10.11362138,
          11.39459181,
          12.72095567,
          14.23086093,
          9.650678919,
          9.398725633,
          10.63587106,
          9.550832179,
          7.863736449,
          7.766150098,
          7.425763656,
          7.041328879,
          6.848762205,
          6.9472007929999995,
          6.749773833,
          5.949714233,
          2.29999999998371
         ]
        },
        {
         "line": {
          "color": "rgba(128, 0, 128, 1.0)",
          "dash": "dash",
          "shape": "linear",
          "width": 1.3
         },
         "mode": "lines",
         "name": "European Union",
         "text": "",
         "type": "scatter",
         "x": [
          1995,
          1996,
          1997,
          1998,
          1999,
          2000,
          2001,
          2002,
          2003,
          2004,
          2005,
          2006,
          2007,
          2008,
          2009,
          2010,
          2011,
          2012,
          2013,
          2014,
          2015,
          2016,
          2017,
          2018,
          2019,
          2020
         ],
         "y": [
          2.673207525,
          1.892917255,
          2.664015312,
          3.018680748,
          2.958699937,
          3.903211797,
          2.184364392,
          1.1239428870000001,
          0.930532658,
          2.594947904,
          1.9340448940000001,
          3.494275968,
          3.15247294,
          0.644918094,
          -4.325825805,
          2.20972967,
          1.83195467,
          -0.7518309759999999,
          -0.055313392999999995,
          1.5729427569999999,
          2.30060265,
          2.0447370680000003,
          2.789165217,
          2.118239984,
          1.554264954,
          -6.1
         ]
        },
        {
         "line": {
          "color": "rgba(219, 64, 82, 1.0)",
          "dash": "dash",
          "shape": "linear",
          "width": 1.3
         },
         "mode": "lines",
         "name": "United Kingdom",
         "text": "",
         "type": "scatter",
         "x": [
          1995,
          1996,
          1997,
          1998,
          1999,
          2000,
          2001,
          2002,
          2003,
          2004,
          2005,
          2006,
          2007,
          2008,
          2009,
          2010,
          2011,
          2012,
          2013,
          2014,
          2015,
          2016,
          2017,
          2018,
          2019,
          2020
         ],
         "y": [
          2.531670037,
          2.49153318,
          3.8548299910000003,
          3.6448533960000002,
          3.428223328,
          3.4374716289999996,
          2.974363653,
          2.324351122,
          3.28637759,
          2.3739514280000003,
          3.179728893,
          2.7883245660000004,
          2.430553201,
          -0.281153556,
          -4.247821763,
          1.949521464,
          1.5401474030000002,
          1.478923924,
          2.139485718,
          2.607475901,
          2.355524306,
          1.9181551319999999,
          1.892077007,
          1.340720602,
          1.4626582019999999,
          -9.79024036173693
         ]
        },
        {
         "line": {
          "color": "rgba(0, 128, 128, 1.0)",
          "dash": "dash",
          "shape": "linear",
          "width": 1.3
         },
         "mode": "lines",
         "name": "India",
         "text": "",
         "type": "scatter",
         "x": [
          1995,
          1996,
          1997,
          1998,
          1999,
          2000,
          2001,
          2002,
          2003,
          2004,
          2005,
          2006,
          2007,
          2008,
          2009,
          2010,
          2011,
          2012,
          2013,
          2014,
          2015,
          2016,
          2017,
          2018,
          2019,
          2020
         ],
         "y": [
          7.57449184,
          7.549522249,
          4.049820849,
          6.184415821,
          8.845755561,
          3.840991157,
          4.823966264,
          3.8039753210000002,
          7.8603814760000015,
          7.922936612999999,
          7.9234306210000005,
          8.060732573,
          7.660815065,
          3.08669806,
          7.861888832999999,
          8.497584702000001,
          5.241344743,
          5.456358951,
          6.386106401,
          7.410227605,
          7.996253444,
          8.256305844,
          7.043820855,
          6.119586841,
          4.180727625,
          -7.9646104111382
         ]
        },
        {
         "line": {
          "color": "rgba(255, 255, 51, 1.0)",
          "dash": "dash",
          "shape": "linear",
          "width": 1.3
         },
         "mode": "lines",
         "name": "Korea, Rep.",
         "text": "",
         "type": "scatter",
         "x": [
          1995,
          1996,
          1997,
          1998,
          1999,
          2000,
          2001,
          2002,
          2003,
          2004,
          2005,
          2006,
          2007,
          2008,
          2009,
          2010,
          2011,
          2012,
          2013,
          2014,
          2015,
          2016,
          2017,
          2018,
          2019,
          2020
         ],
         "y": [
          9.614565393,
          7.8907033260000015,
          6.1705524270000005,
          -5.129448165,
          11.46694243,
          9.060833325,
          4.8523995719999995,
          7.725142675,
          3.1472911939999997,
          5.197391363,
          4.308542714,
          5.264326595,
          5.799548415,
          3.012984873,
          0.79269899,
          6.804824918,
          3.685667782,
          2.402530992,
          3.1647086360000003,
          3.202453795,
          2.8091032680000003,
          2.946881715,
          3.15963574,
          2.9074037739999996,
          2.039348227,
          -0.9577662235252971
         ]
        },
        {
         "line": {
          "color": "rgba(128, 128, 0, 1.0)",
          "dash": "dash",
          "shape": "linear",
          "width": 1.3
         },
         "mode": "lines",
         "name": "United States",
         "text": "",
         "type": "scatter",
         "x": [
          1995,
          1996,
          1997,
          1998,
          1999,
          2000,
          2001,
          2002,
          2003,
          2004,
          2005,
          2006,
          2007,
          2008,
          2009,
          2010,
          2011,
          2012,
          2013,
          2014,
          2015,
          2016,
          2017,
          2018,
          2019,
          2020
         ],
         "y": [
          2.684287134,
          3.77250132,
          4.44721634,
          4.481407553,
          4.753235991,
          4.127484011,
          0.9983408000000001,
          1.7416952430000001,
          2.8612107719999997,
          3.798891123,
          3.513213796,
          2.8549722980000003,
          1.876171455,
          -0.136579804,
          -2.53675707,
          2.563766563,
          1.5508355040000001,
          2.249545851,
          1.84208107,
          2.52597345,
          2.9080218610000004,
          1.637838457,
          2.369800784,
          2.927325732,
          2.161176288,
          -3.4861395571142997
         ]
        }
       ],
       "layout": {
        "autosize": true,
        "legend": {
         "bgcolor": "#151516",
         "font": {
          "color": "#D9D9D9"
         }
        },
        "paper_bgcolor": "#151516",
        "plot_bgcolor": "#151516",
        "template": {
         "data": {
          "bar": [
           {
            "error_x": {
             "color": "#2a3f5f"
            },
            "error_y": {
             "color": "#2a3f5f"
            },
            "marker": {
             "line": {
              "color": "#E5ECF6",
              "width": 0.5
             }
            },
            "type": "bar"
           }
          ],
          "barpolar": [
           {
            "marker": {
             "line": {
              "color": "#E5ECF6",
              "width": 0.5
             }
            },
            "type": "barpolar"
           }
          ],
          "carpet": [
           {
            "aaxis": {
             "endlinecolor": "#2a3f5f",
             "gridcolor": "white",
             "linecolor": "white",
             "minorgridcolor": "white",
             "startlinecolor": "#2a3f5f"
            },
            "baxis": {
             "endlinecolor": "#2a3f5f",
             "gridcolor": "white",
             "linecolor": "white",
             "minorgridcolor": "white",
             "startlinecolor": "#2a3f5f"
            },
            "type": "carpet"
           }
          ],
          "choropleth": [
           {
            "colorbar": {
             "outlinewidth": 0,
             "ticks": ""
            },
            "type": "choropleth"
           }
          ],
          "contour": [
           {
            "colorbar": {
             "outlinewidth": 0,
             "ticks": ""
            },
            "colorscale": [
             [
              0,
              "#0d0887"
             ],
             [
              0.1111111111111111,
              "#46039f"
             ],
             [
              0.2222222222222222,
              "#7201a8"
             ],
             [
              0.3333333333333333,
              "#9c179e"
             ],
             [
              0.4444444444444444,
              "#bd3786"
             ],
             [
              0.5555555555555556,
              "#d8576b"
             ],
             [
              0.6666666666666666,
              "#ed7953"
             ],
             [
              0.7777777777777778,
              "#fb9f3a"
             ],
             [
              0.8888888888888888,
              "#fdca26"
             ],
             [
              1,
              "#f0f921"
             ]
            ],
            "type": "contour"
           }
          ],
          "contourcarpet": [
           {
            "colorbar": {
             "outlinewidth": 0,
             "ticks": ""
            },
            "type": "contourcarpet"
           }
          ],
          "heatmap": [
           {
            "colorbar": {
             "outlinewidth": 0,
             "ticks": ""
            },
            "colorscale": [
             [
              0,
              "#0d0887"
             ],
             [
              0.1111111111111111,
              "#46039f"
             ],
             [
              0.2222222222222222,
              "#7201a8"
             ],
             [
              0.3333333333333333,
              "#9c179e"
             ],
             [
              0.4444444444444444,
              "#bd3786"
             ],
             [
              0.5555555555555556,
              "#d8576b"
             ],
             [
              0.6666666666666666,
              "#ed7953"
             ],
             [
              0.7777777777777778,
              "#fb9f3a"
             ],
             [
              0.8888888888888888,
              "#fdca26"
             ],
             [
              1,
              "#f0f921"
             ]
            ],
            "type": "heatmap"
           }
          ],
          "heatmapgl": [
           {
            "colorbar": {
             "outlinewidth": 0,
             "ticks": ""
            },
            "colorscale": [
             [
              0,
              "#0d0887"
             ],
             [
              0.1111111111111111,
              "#46039f"
             ],
             [
              0.2222222222222222,
              "#7201a8"
             ],
             [
              0.3333333333333333,
              "#9c179e"
             ],
             [
              0.4444444444444444,
              "#bd3786"
             ],
             [
              0.5555555555555556,
              "#d8576b"
             ],
             [
              0.6666666666666666,
              "#ed7953"
             ],
             [
              0.7777777777777778,
              "#fb9f3a"
             ],
             [
              0.8888888888888888,
              "#fdca26"
             ],
             [
              1,
              "#f0f921"
             ]
            ],
            "type": "heatmapgl"
           }
          ],
          "histogram": [
           {
            "marker": {
             "colorbar": {
              "outlinewidth": 0,
              "ticks": ""
             }
            },
            "type": "histogram"
           }
          ],
          "histogram2d": [
           {
            "colorbar": {
             "outlinewidth": 0,
             "ticks": ""
            },
            "colorscale": [
             [
              0,
              "#0d0887"
             ],
             [
              0.1111111111111111,
              "#46039f"
             ],
             [
              0.2222222222222222,
              "#7201a8"
             ],
             [
              0.3333333333333333,
              "#9c179e"
             ],
             [
              0.4444444444444444,
              "#bd3786"
             ],
             [
              0.5555555555555556,
              "#d8576b"
             ],
             [
              0.6666666666666666,
              "#ed7953"
             ],
             [
              0.7777777777777778,
              "#fb9f3a"
             ],
             [
              0.8888888888888888,
              "#fdca26"
             ],
             [
              1,
              "#f0f921"
             ]
            ],
            "type": "histogram2d"
           }
          ],
          "histogram2dcontour": [
           {
            "colorbar": {
             "outlinewidth": 0,
             "ticks": ""
            },
            "colorscale": [
             [
              0,
              "#0d0887"
             ],
             [
              0.1111111111111111,
              "#46039f"
             ],
             [
              0.2222222222222222,
              "#7201a8"
             ],
             [
              0.3333333333333333,
              "#9c179e"
             ],
             [
              0.4444444444444444,
              "#bd3786"
             ],
             [
              0.5555555555555556,
              "#d8576b"
             ],
             [
              0.6666666666666666,
              "#ed7953"
             ],
             [
              0.7777777777777778,
              "#fb9f3a"
             ],
             [
              0.8888888888888888,
              "#fdca26"
             ],
             [
              1,
              "#f0f921"
             ]
            ],
            "type": "histogram2dcontour"
           }
          ],
          "mesh3d": [
           {
            "colorbar": {
             "outlinewidth": 0,
             "ticks": ""
            },
            "type": "mesh3d"
           }
          ],
          "parcoords": [
           {
            "line": {
             "colorbar": {
              "outlinewidth": 0,
              "ticks": ""
             }
            },
            "type": "parcoords"
           }
          ],
          "pie": [
           {
            "automargin": true,
            "type": "pie"
           }
          ],
          "scatter": [
           {
            "marker": {
             "colorbar": {
              "outlinewidth": 0,
              "ticks": ""
             }
            },
            "type": "scatter"
           }
          ],
          "scatter3d": [
           {
            "line": {
             "colorbar": {
              "outlinewidth": 0,
              "ticks": ""
             }
            },
            "marker": {
             "colorbar": {
              "outlinewidth": 0,
              "ticks": ""
             }
            },
            "type": "scatter3d"
           }
          ],
          "scattercarpet": [
           {
            "marker": {
             "colorbar": {
              "outlinewidth": 0,
              "ticks": ""
             }
            },
            "type": "scattercarpet"
           }
          ],
          "scattergeo": [
           {
            "marker": {
             "colorbar": {
              "outlinewidth": 0,
              "ticks": ""
             }
            },
            "type": "scattergeo"
           }
          ],
          "scattergl": [
           {
            "marker": {
             "colorbar": {
              "outlinewidth": 0,
              "ticks": ""
             }
            },
            "type": "scattergl"
           }
          ],
          "scattermapbox": [
           {
            "marker": {
             "colorbar": {
              "outlinewidth": 0,
              "ticks": ""
             }
            },
            "type": "scattermapbox"
           }
          ],
          "scatterpolar": [
           {
            "marker": {
             "colorbar": {
              "outlinewidth": 0,
              "ticks": ""
             }
            },
            "type": "scatterpolar"
           }
          ],
          "scatterpolargl": [
           {
            "marker": {
             "colorbar": {
              "outlinewidth": 0,
              "ticks": ""
             }
            },
            "type": "scatterpolargl"
           }
          ],
          "scatterternary": [
           {
            "marker": {
             "colorbar": {
              "outlinewidth": 0,
              "ticks": ""
             }
            },
            "type": "scatterternary"
           }
          ],
          "surface": [
           {
            "colorbar": {
             "outlinewidth": 0,
             "ticks": ""
            },
            "colorscale": [
             [
              0,
              "#0d0887"
             ],
             [
              0.1111111111111111,
              "#46039f"
             ],
             [
              0.2222222222222222,
              "#7201a8"
             ],
             [
              0.3333333333333333,
              "#9c179e"
             ],
             [
              0.4444444444444444,
              "#bd3786"
             ],
             [
              0.5555555555555556,
              "#d8576b"
             ],
             [
              0.6666666666666666,
              "#ed7953"
             ],
             [
              0.7777777777777778,
              "#fb9f3a"
             ],
             [
              0.8888888888888888,
              "#fdca26"
             ],
             [
              1,
              "#f0f921"
             ]
            ],
            "type": "surface"
           }
          ],
          "table": [
           {
            "cells": {
             "fill": {
              "color": "#EBF0F8"
             },
             "line": {
              "color": "white"
             }
            },
            "header": {
             "fill": {
              "color": "#C8D4E3"
             },
             "line": {
              "color": "white"
             }
            },
            "type": "table"
           }
          ]
         },
         "layout": {
          "annotationdefaults": {
           "arrowcolor": "#2a3f5f",
           "arrowhead": 0,
           "arrowwidth": 1
          },
          "autotypenumbers": "strict",
          "coloraxis": {
           "colorbar": {
            "outlinewidth": 0,
            "ticks": ""
           }
          },
          "colorscale": {
           "diverging": [
            [
             0,
             "#8e0152"
            ],
            [
             0.1,
             "#c51b7d"
            ],
            [
             0.2,
             "#de77ae"
            ],
            [
             0.3,
             "#f1b6da"
            ],
            [
             0.4,
             "#fde0ef"
            ],
            [
             0.5,
             "#f7f7f7"
            ],
            [
             0.6,
             "#e6f5d0"
            ],
            [
             0.7,
             "#b8e186"
            ],
            [
             0.8,
             "#7fbc41"
            ],
            [
             0.9,
             "#4d9221"
            ],
            [
             1,
             "#276419"
            ]
           ],
           "sequential": [
            [
             0,
             "#0d0887"
            ],
            [
             0.1111111111111111,
             "#46039f"
            ],
            [
             0.2222222222222222,
             "#7201a8"
            ],
            [
             0.3333333333333333,
             "#9c179e"
            ],
            [
             0.4444444444444444,
             "#bd3786"
            ],
            [
             0.5555555555555556,
             "#d8576b"
            ],
            [
             0.6666666666666666,
             "#ed7953"
            ],
            [
             0.7777777777777778,
             "#fb9f3a"
            ],
            [
             0.8888888888888888,
             "#fdca26"
            ],
            [
             1,
             "#f0f921"
            ]
           ],
           "sequentialminus": [
            [
             0,
             "#0d0887"
            ],
            [
             0.1111111111111111,
             "#46039f"
            ],
            [
             0.2222222222222222,
             "#7201a8"
            ],
            [
             0.3333333333333333,
             "#9c179e"
            ],
            [
             0.4444444444444444,
             "#bd3786"
            ],
            [
             0.5555555555555556,
             "#d8576b"
            ],
            [
             0.6666666666666666,
             "#ed7953"
            ],
            [
             0.7777777777777778,
             "#fb9f3a"
            ],
            [
             0.8888888888888888,
             "#fdca26"
            ],
            [
             1,
             "#f0f921"
            ]
           ]
          },
          "colorway": [
           "#636efa",
           "#EF553B",
           "#00cc96",
           "#ab63fa",
           "#FFA15A",
           "#19d3f3",
           "#FF6692",
           "#B6E880",
           "#FF97FF",
           "#FECB52"
          ],
          "font": {
           "color": "#2a3f5f"
          },
          "geo": {
           "bgcolor": "white",
           "lakecolor": "white",
           "landcolor": "#E5ECF6",
           "showlakes": true,
           "showland": true,
           "subunitcolor": "white"
          },
          "hoverlabel": {
           "align": "left"
          },
          "hovermode": "closest",
          "mapbox": {
           "style": "light"
          },
          "paper_bgcolor": "white",
          "plot_bgcolor": "#E5ECF6",
          "polar": {
           "angularaxis": {
            "gridcolor": "white",
            "linecolor": "white",
            "ticks": ""
           },
           "bgcolor": "#E5ECF6",
           "radialaxis": {
            "gridcolor": "white",
            "linecolor": "white",
            "ticks": ""
           }
          },
          "scene": {
           "xaxis": {
            "backgroundcolor": "#E5ECF6",
            "gridcolor": "white",
            "gridwidth": 2,
            "linecolor": "white",
            "showbackground": true,
            "ticks": "",
            "zerolinecolor": "white"
           },
           "yaxis": {
            "backgroundcolor": "#E5ECF6",
            "gridcolor": "white",
            "gridwidth": 2,
            "linecolor": "white",
            "showbackground": true,
            "ticks": "",
            "zerolinecolor": "white"
           },
           "zaxis": {
            "backgroundcolor": "#E5ECF6",
            "gridcolor": "white",
            "gridwidth": 2,
            "linecolor": "white",
            "showbackground": true,
            "ticks": "",
            "zerolinecolor": "white"
           }
          },
          "shapedefaults": {
           "line": {
            "color": "#2a3f5f"
           }
          },
          "ternary": {
           "aaxis": {
            "gridcolor": "white",
            "linecolor": "white",
            "ticks": ""
           },
           "baxis": {
            "gridcolor": "white",
            "linecolor": "white",
            "ticks": ""
           },
           "bgcolor": "#E5ECF6",
           "caxis": {
            "gridcolor": "white",
            "linecolor": "white",
            "ticks": ""
           }
          },
          "title": {
           "x": 0.05
          },
          "xaxis": {
           "automargin": true,
           "gridcolor": "white",
           "linecolor": "white",
           "ticks": "",
           "title": {
            "standoff": 15
           },
           "zerolinecolor": "white",
           "zerolinewidth": 2
          },
          "yaxis": {
           "automargin": true,
           "gridcolor": "white",
           "linecolor": "white",
           "ticks": "",
           "title": {
            "standoff": 15
           },
           "zerolinecolor": "white",
           "zerolinewidth": 2
          }
         }
        },
        "title": {
         "font": {
          "color": "#D9D9D9"
         },
         "text": "GDP across major countries"
        },
        "xaxis": {
         "autorange": true,
         "gridcolor": "#434343",
         "range": [
          1995,
          2020
         ],
         "showgrid": true,
         "tickfont": {
          "color": "#C2C2C2"
         },
         "title": {
          "font": {
           "color": "#D9D9D9"
          },
          "text": "Year"
         },
         "type": "linear",
         "zerolinecolor": "#666570"
        },
        "yaxis": {
         "autorange": true,
         "gridcolor": "#434343",
         "range": [
          -11.124745989055647,
          15.565366557318718
         ],
         "showgrid": true,
         "tickfont": {
          "color": "#C2C2C2"
         },
         "title": {
          "font": {
           "color": "#D9D9D9"
          },
          "text": "GDP (% change)"
         },
         "type": "linear",
         "zerolinecolor": "#666570"
        }
       }
      },
      "image/png": "[encoded data removed]",
      "text/html": [
       "<div>                            <div id=\"f0b5a392-16c0-462b-ac54-e1955baa5e41\" class=\"plotly-graph-div\" style=\"height:525px; width:100%;\"></div>            <script type=\"text/javascript\">                require([\"plotly\"], function(Plotly) {                    window.PLOTLYENV=window.PLOTLYENV || {};\n",
       "                    window.PLOTLYENV.BASE_URL='https://plot.ly';                                    if (document.getElementById(\"f0b5a392-16c0-462b-ac54-e1955baa5e41\")) {                    Plotly.newPlot(                        \"f0b5a392-16c0-462b-ac54-e1955baa5e41\",                        [{\"line\": {\"color\": \"rgba(255, 153, 51, 1.0)\", \"dash\": \"dash\", \"shape\": \"linear\", \"width\": 1.3}, \"mode\": \"lines\", \"name\": \"Australia\", \"text\": \"\", \"type\": \"scatter\", \"x\": [1995, 1996, 1997, 1998, 1999, 2000, 2001, 2002, 2003, 2004, 2005, 2006, 2007, 2008, 2009, 2010, 2011, 2012, 2013, 2014, 2015, 2016, 2017, 2018, 2019, 2020], \"y\": [3.8377552930000003, 3.878585293, 3.966537662, 4.576688759, 5.073599095, 3.933136945, 1.930857592, 4.001404062, 2.985934322, 4.055451968, 3.204269793, 2.794537024, 3.8442303160000004, 3.6579535260000013, 1.93699392, 2.067417128, 2.462756312, 3.9181628710000003, 2.5848977019999997, 2.533114665, 2.1926474259999997, 2.770652197, 2.300610624, 2.949285772, 2.160956295, -0.284839297785609]}, {\"line\": {\"color\": \"rgba(55, 128, 191, 1.0)\", \"dash\": \"dash\", \"shape\": \"linear\", \"width\": 1.3}, \"mode\": \"lines\", \"name\": \"Canada\", \"text\": \"\", \"type\": \"scatter\", \"x\": [1995, 1996, 1997, 1998, 1999, 2000, 2001, 2002, 2003, 2004, 2005, 2006, 2007, 2008, 2009, 2010, 2011, 2012, 2013, 2014, 2015, 2016, 2017, 2018, 2019, 2020], \"y\": [2.6939762860000003, 1.61917249, -3.845294416, 2.79654248, 3.970482637, 4.917762744, 1.405527589, 3.422146171, 3.8110901530000003, 3.914028782, 4.9958608689999995, 4.165817627, 6.868608857000001, 1.007622695, -2.928400167, 3.08949462, 3.1468813719999997, 1.762222549, 2.329122506, 2.870036075, 0.659176864, 1.001394414, 3.1707298969999997, 2.013639187, 1.656040845, -5.40279855256868]}, {\"line\": {\"color\": \"rgba(50, 171, 96, 1.0)\", \"dash\": \"dash\", \"shape\": \"linear\", \"width\": 1.3}, \"mode\": \"lines\", \"name\": \"China\", \"text\": \"\", \"type\": \"scatter\", \"x\": [1995, 1996, 1997, 1998, 1999, 2000, 2001, 2002, 2003, 2004, 2005, 2006, 2007, 2008, 2009, 2010, 2011, 2012, 2013, 2014, 2015, 2016, 2017, 2018, 2019, 2020], \"y\": [10.95395434, 9.922556753, 9.236779892000001, 7.845951787000001, 7.6616515, 8.490093406, 8.335733478, 9.13363079, 10.03803048, 10.11362138, 11.39459181, 12.72095567, 14.23086093, 9.650678919, 9.398725633, 10.63587106, 9.550832179, 7.863736449, 7.766150098, 7.425763656, 7.041328879, 6.848762205, 6.9472007929999995, 6.749773833, 5.949714233, 2.29999999998371]}, {\"line\": {\"color\": \"rgba(128, 0, 128, 1.0)\", \"dash\": \"dash\", \"shape\": \"linear\", \"width\": 1.3}, \"mode\": \"lines\", \"name\": \"European Union\", \"text\": \"\", \"type\": \"scatter\", \"x\": [1995, 1996, 1997, 1998, 1999, 2000, 2001, 2002, 2003, 2004, 2005, 2006, 2007, 2008, 2009, 2010, 2011, 2012, 2013, 2014, 2015, 2016, 2017, 2018, 2019, 2020], \"y\": [2.673207525, 1.892917255, 2.664015312, 3.018680748, 2.958699937, 3.903211797, 2.184364392, 1.1239428870000001, 0.930532658, 2.594947904, 1.9340448940000001, 3.494275968, 3.15247294, 0.644918094, -4.325825805, 2.20972967, 1.83195467, -0.7518309759999999, -0.055313392999999995, 1.5729427569999999, 2.30060265, 2.0447370680000003, 2.789165217, 2.118239984, 1.554264954, -6.1]}, {\"line\": {\"color\": \"rgba(219, 64, 82, 1.0)\", \"dash\": \"dash\", \"shape\": \"linear\", \"width\": 1.3}, \"mode\": \"lines\", \"name\": \"United Kingdom\", \"text\": \"\", \"type\": \"scatter\", \"x\": [1995, 1996, 1997, 1998, 1999, 2000, 2001, 2002, 2003, 2004, 2005, 2006, 2007, 2008, 2009, 2010, 2011, 2012, 2013, 2014, 2015, 2016, 2017, 2018, 2019, 2020], \"y\": [2.531670037, 2.49153318, 3.8548299910000003, 3.6448533960000002, 3.428223328, 3.4374716289999996, 2.974363653, 2.324351122, 3.28637759, 2.3739514280000003, 3.179728893, 2.7883245660000004, 2.430553201, -0.281153556, -4.247821763, 1.949521464, 1.5401474030000002, 1.478923924, 2.139485718, 2.607475901, 2.355524306, 1.9181551319999999, 1.892077007, 1.340720602, 1.4626582019999999, -9.79024036173693]}, {\"line\": {\"color\": \"rgba(0, 128, 128, 1.0)\", \"dash\": \"dash\", \"shape\": \"linear\", \"width\": 1.3}, \"mode\": \"lines\", \"name\": \"India\", \"text\": \"\", \"type\": \"scatter\", \"x\": [1995, 1996, 1997, 1998, 1999, 2000, 2001, 2002, 2003, 2004, 2005, 2006, 2007, 2008, 2009, 2010, 2011, 2012, 2013, 2014, 2015, 2016, 2017, 2018, 2019, 2020], \"y\": [7.57449184, 7.549522249, 4.049820849, 6.184415821, 8.845755561, 3.840991157, 4.823966264, 3.8039753210000002, 7.8603814760000015, 7.922936612999999, 7.9234306210000005, 8.060732573, 7.660815065, 3.08669806, 7.861888832999999, 8.497584702000001, 5.241344743, 5.456358951, 6.386106401, 7.410227605, 7.996253444, 8.256305844, 7.043820855, 6.119586841, 4.180727625, -7.9646104111382]}, {\"line\": {\"color\": \"rgba(255, 255, 51, 1.0)\", \"dash\": \"dash\", \"shape\": \"linear\", \"width\": 1.3}, \"mode\": \"lines\", \"name\": \"Korea, Rep.\", \"text\": \"\", \"type\": \"scatter\", \"x\": [1995, 1996, 1997, 1998, 1999, 2000, 2001, 2002, 2003, 2004, 2005, 2006, 2007, 2008, 2009, 2010, 2011, 2012, 2013, 2014, 2015, 2016, 2017, 2018, 2019, 2020], \"y\": [9.614565393, 7.8907033260000015, 6.1705524270000005, -5.129448165, 11.46694243, 9.060833325, 4.8523995719999995, 7.725142675, 3.1472911939999997, 5.197391363, 4.308542714, 5.264326595, 5.799548415, 3.012984873, 0.79269899, 6.804824918, 3.685667782, 2.402530992, 3.1647086360000003, 3.202453795, 2.8091032680000003, 2.946881715, 3.15963574, 2.9074037739999996, 2.039348227, -0.9577662235252971]}, {\"line\": {\"color\": \"rgba(128, 128, 0, 1.0)\", \"dash\": \"dash\", \"shape\": \"linear\", \"width\": 1.3}, \"mode\": \"lines\", \"name\": \"United States\", \"text\": \"\", \"type\": \"scatter\", \"x\": [1995, 1996, 1997, 1998, 1999, 2000, 2001, 2002, 2003, 2004, 2005, 2006, 2007, 2008, 2009, 2010, 2011, 2012, 2013, 2014, 2015, 2016, 2017, 2018, 2019, 2020], \"y\": [2.684287134, 3.77250132, 4.44721634, 4.481407553, 4.753235991, 4.127484011, 0.9983408000000001, 1.7416952430000001, 2.8612107719999997, 3.798891123, 3.513213796, 2.8549722980000003, 1.876171455, -0.136579804, -2.53675707, 2.563766563, 1.5508355040000001, 2.249545851, 1.84208107, 2.52597345, 2.9080218610000004, 1.637838457, 2.369800784, 2.927325732, 2.161176288, -3.4861395571142997]}],                        {\"legend\": {\"bgcolor\": \"#151516\", \"font\": {\"color\": \"#D9D9D9\"}}, \"paper_bgcolor\": \"#151516\", \"plot_bgcolor\": \"#151516\", \"template\": {\"data\": {\"bar\": [{\"error_x\": {\"color\": \"#2a3f5f\"}, \"error_y\": {\"color\": \"#2a3f5f\"}, \"marker\": {\"line\": {\"color\": \"#E5ECF6\", \"width\": 0.5}}, \"type\": \"bar\"}], \"barpolar\": [{\"marker\": {\"line\": {\"color\": \"#E5ECF6\", \"width\": 0.5}}, \"type\": \"barpolar\"}], \"carpet\": [{\"aaxis\": {\"endlinecolor\": \"#2a3f5f\", \"gridcolor\": \"white\", \"linecolor\": \"white\", \"minorgridcolor\": \"white\", \"startlinecolor\": \"#2a3f5f\"}, \"baxis\": {\"endlinecolor\": \"#2a3f5f\", \"gridcolor\": \"white\", \"linecolor\": \"white\", \"minorgridcolor\": \"white\", \"startlinecolor\": \"#2a3f5f\"}, \"type\": \"carpet\"}], \"choropleth\": [{\"colorbar\": {\"outlinewidth\": 0, \"ticks\": \"\"}, \"type\": \"choropleth\"}], \"contour\": [{\"colorbar\": {\"outlinewidth\": 0, \"ticks\": \"\"}, \"colorscale\": [[0.0, \"#0d0887\"], [0.1111111111111111, \"#46039f\"], [0.2222222222222222, \"#7201a8\"], [0.3333333333333333, \"#9c179e\"], [0.4444444444444444, \"#bd3786\"], [0.5555555555555556, \"#d8576b\"], [0.6666666666666666, \"#ed7953\"], [0.7777777777777778, \"#fb9f3a\"], [0.8888888888888888, \"#fdca26\"], [1.0, \"#f0f921\"]], \"type\": \"contour\"}], \"contourcarpet\": [{\"colorbar\": {\"outlinewidth\": 0, \"ticks\": \"\"}, \"type\": \"contourcarpet\"}], \"heatmap\": [{\"colorbar\": {\"outlinewidth\": 0, \"ticks\": \"\"}, \"colorscale\": [[0.0, \"#0d0887\"], [0.1111111111111111, \"#46039f\"], [0.2222222222222222, \"#7201a8\"], [0.3333333333333333, \"#9c179e\"], [0.4444444444444444, \"#bd3786\"], [0.5555555555555556, \"#d8576b\"], [0.6666666666666666, \"#ed7953\"], [0.7777777777777778, \"#fb9f3a\"], [0.8888888888888888, \"#fdca26\"], [1.0, \"#f0f921\"]], \"type\": \"heatmap\"}], \"heatmapgl\": [{\"colorbar\": {\"outlinewidth\": 0, \"ticks\": \"\"}, \"colorscale\": [[0.0, \"#0d0887\"], [0.1111111111111111, \"#46039f\"], [0.2222222222222222, \"#7201a8\"], [0.3333333333333333, \"#9c179e\"], [0.4444444444444444, \"#bd3786\"], [0.5555555555555556, \"#d8576b\"], [0.6666666666666666, \"#ed7953\"], [0.7777777777777778, \"#fb9f3a\"], [0.8888888888888888, \"#fdca26\"], [1.0, \"#f0f921\"]], \"type\": \"heatmapgl\"}], \"histogram\": [{\"marker\": {\"colorbar\": {\"outlinewidth\": 0, \"ticks\": \"\"}}, \"type\": \"histogram\"}], \"histogram2d\": [{\"colorbar\": {\"outlinewidth\": 0, \"ticks\": \"\"}, \"colorscale\": [[0.0, \"#0d0887\"], [0.1111111111111111, \"#46039f\"], [0.2222222222222222, \"#7201a8\"], [0.3333333333333333, \"#9c179e\"], [0.4444444444444444, \"#bd3786\"], [0.5555555555555556, \"#d8576b\"], [0.6666666666666666, \"#ed7953\"], [0.7777777777777778, \"#fb9f3a\"], [0.8888888888888888, \"#fdca26\"], [1.0, \"#f0f921\"]], \"type\": \"histogram2d\"}], \"histogram2dcontour\": [{\"colorbar\": {\"outlinewidth\": 0, \"ticks\": \"\"}, \"colorscale\": [[0.0, \"#0d0887\"], [0.1111111111111111, \"#46039f\"], [0.2222222222222222, \"#7201a8\"], [0.3333333333333333, \"#9c179e\"], [0.4444444444444444, \"#bd3786\"], [0.5555555555555556, \"#d8576b\"], [0.6666666666666666, \"#ed7953\"], [0.7777777777777778, \"#fb9f3a\"], [0.8888888888888888, \"#fdca26\"], [1.0, \"#f0f921\"]], \"type\": \"histogram2dcontour\"}], \"mesh3d\": [{\"colorbar\": {\"outlinewidth\": 0, \"ticks\": \"\"}, \"type\": \"mesh3d\"}], \"parcoords\": [{\"line\": {\"colorbar\": {\"outlinewidth\": 0, \"ticks\": \"\"}}, \"type\": \"parcoords\"}], \"pie\": [{\"automargin\": true, \"type\": \"pie\"}], \"scatter\": [{\"marker\": {\"colorbar\": {\"outlinewidth\": 0, \"ticks\": \"\"}}, \"type\": \"scatter\"}], \"scatter3d\": [{\"line\": {\"colorbar\": {\"outlinewidth\": 0, \"ticks\": \"\"}}, \"marker\": {\"colorbar\": {\"outlinewidth\": 0, \"ticks\": \"\"}}, \"type\": \"scatter3d\"}], \"scattercarpet\": [{\"marker\": {\"colorbar\": {\"outlinewidth\": 0, \"ticks\": \"\"}}, \"type\": \"scattercarpet\"}], \"scattergeo\": [{\"marker\": {\"colorbar\": {\"outlinewidth\": 0, \"ticks\": \"\"}}, \"type\": \"scattergeo\"}], \"scattergl\": [{\"marker\": {\"colorbar\": {\"outlinewidth\": 0, \"ticks\": \"\"}}, \"type\": \"scattergl\"}], \"scattermapbox\": [{\"marker\": {\"colorbar\": {\"outlinewidth\": 0, \"ticks\": \"\"}}, \"type\": \"scattermapbox\"}], \"scatterpolar\": [{\"marker\": {\"colorbar\": {\"outlinewidth\": 0, \"ticks\": \"\"}}, \"type\": \"scatterpolar\"}], \"scatterpolargl\": [{\"marker\": {\"colorbar\": {\"outlinewidth\": 0, \"ticks\": \"\"}}, \"type\": \"scatterpolargl\"}], \"scatterternary\": [{\"marker\": {\"colorbar\": {\"outlinewidth\": 0, \"ticks\": \"\"}}, \"type\": \"scatterternary\"}], \"surface\": [{\"colorbar\": {\"outlinewidth\": 0, \"ticks\": \"\"}, \"colorscale\": [[0.0, \"#0d0887\"], [0.1111111111111111, \"#46039f\"], [0.2222222222222222, \"#7201a8\"], [0.3333333333333333, \"#9c179e\"], [0.4444444444444444, \"#bd3786\"], [0.5555555555555556, \"#d8576b\"], [0.6666666666666666, \"#ed7953\"], [0.7777777777777778, \"#fb9f3a\"], [0.8888888888888888, \"#fdca26\"], [1.0, \"#f0f921\"]], \"type\": \"surface\"}], \"table\": [{\"cells\": {\"fill\": {\"color\": \"#EBF0F8\"}, \"line\": {\"color\": \"white\"}}, \"header\": {\"fill\": {\"color\": \"#C8D4E3\"}, \"line\": {\"color\": \"white\"}}, \"type\": \"table\"}]}, \"layout\": {\"annotationdefaults\": {\"arrowcolor\": \"#2a3f5f\", \"arrowhead\": 0, \"arrowwidth\": 1}, \"autotypenumbers\": \"strict\", \"coloraxis\": {\"colorbar\": {\"outlinewidth\": 0, \"ticks\": \"\"}}, \"colorscale\": {\"diverging\": [[0, \"#8e0152\"], [0.1, \"#c51b7d\"], [0.2, \"#de77ae\"], [0.3, \"#f1b6da\"], [0.4, \"#fde0ef\"], [0.5, \"#f7f7f7\"], [0.6, \"#e6f5d0\"], [0.7, \"#b8e186\"], [0.8, \"#7fbc41\"], [0.9, \"#4d9221\"], [1, \"#276419\"]], \"sequential\": [[0.0, \"#0d0887\"], [0.1111111111111111, \"#46039f\"], [0.2222222222222222, \"#7201a8\"], [0.3333333333333333, \"#9c179e\"], [0.4444444444444444, \"#bd3786\"], [0.5555555555555556, \"#d8576b\"], [0.6666666666666666, \"#ed7953\"], [0.7777777777777778, \"#fb9f3a\"], [0.8888888888888888, \"#fdca26\"], [1.0, \"#f0f921\"]], \"sequentialminus\": [[0.0, \"#0d0887\"], [0.1111111111111111, \"#46039f\"], [0.2222222222222222, \"#7201a8\"], [0.3333333333333333, \"#9c179e\"], [0.4444444444444444, \"#bd3786\"], [0.5555555555555556, \"#d8576b\"], [0.6666666666666666, \"#ed7953\"], [0.7777777777777778, \"#fb9f3a\"], [0.8888888888888888, \"#fdca26\"], [1.0, \"#f0f921\"]]}, \"colorway\": [\"#636efa\", \"#EF553B\", \"#00cc96\", \"#ab63fa\", \"#FFA15A\", \"#19d3f3\", \"#FF6692\", \"#B6E880\", \"#FF97FF\", \"#FECB52\"], \"font\": {\"color\": \"#2a3f5f\"}, \"geo\": {\"bgcolor\": \"white\", \"lakecolor\": \"white\", \"landcolor\": \"#E5ECF6\", \"showlakes\": true, \"showland\": true, \"subunitcolor\": \"white\"}, \"hoverlabel\": {\"align\": \"left\"}, \"hovermode\": \"closest\", \"mapbox\": {\"style\": \"light\"}, \"paper_bgcolor\": \"white\", \"plot_bgcolor\": \"#E5ECF6\", \"polar\": {\"angularaxis\": {\"gridcolor\": \"white\", \"linecolor\": \"white\", \"ticks\": \"\"}, \"bgcolor\": \"#E5ECF6\", \"radialaxis\": {\"gridcolor\": \"white\", \"linecolor\": \"white\", \"ticks\": \"\"}}, \"scene\": {\"xaxis\": {\"backgroundcolor\": \"#E5ECF6\", \"gridcolor\": \"white\", \"gridwidth\": 2, \"linecolor\": \"white\", \"showbackground\": true, \"ticks\": \"\", \"zerolinecolor\": \"white\"}, \"yaxis\": {\"backgroundcolor\": \"#E5ECF6\", \"gridcolor\": \"white\", \"gridwidth\": 2, \"linecolor\": \"white\", \"showbackground\": true, \"ticks\": \"\", \"zerolinecolor\": \"white\"}, \"zaxis\": {\"backgroundcolor\": \"#E5ECF6\", \"gridcolor\": \"white\", \"gridwidth\": 2, \"linecolor\": \"white\", \"showbackground\": true, \"ticks\": \"\", \"zerolinecolor\": \"white\"}}, \"shapedefaults\": {\"line\": {\"color\": \"#2a3f5f\"}}, \"ternary\": {\"aaxis\": {\"gridcolor\": \"white\", \"linecolor\": \"white\", \"ticks\": \"\"}, \"baxis\": {\"gridcolor\": \"white\", \"linecolor\": \"white\", \"ticks\": \"\"}, \"bgcolor\": \"#E5ECF6\", \"caxis\": {\"gridcolor\": \"white\", \"linecolor\": \"white\", \"ticks\": \"\"}}, \"title\": {\"x\": 0.05}, \"xaxis\": {\"automargin\": true, \"gridcolor\": \"white\", \"linecolor\": \"white\", \"ticks\": \"\", \"title\": {\"standoff\": 15}, \"zerolinecolor\": \"white\", \"zerolinewidth\": 2}, \"yaxis\": {\"automargin\": true, \"gridcolor\": \"white\", \"linecolor\": \"white\", \"ticks\": \"\", \"title\": {\"standoff\": 15}, \"zerolinecolor\": \"white\", \"zerolinewidth\": 2}}}, \"title\": {\"font\": {\"color\": \"#D9D9D9\"}, \"text\": \"GDP across major countries\"}, \"xaxis\": {\"gridcolor\": \"#434343\", \"showgrid\": true, \"tickfont\": {\"color\": \"#C2C2C2\"}, \"title\": {\"font\": {\"color\": \"#D9D9D9\"}, \"text\": \"Year\"}, \"zerolinecolor\": \"#666570\"}, \"yaxis\": {\"gridcolor\": \"#434343\", \"showgrid\": true, \"tickfont\": {\"color\": \"#C2C2C2\"}, \"title\": {\"font\": {\"color\": \"#D9D9D9\"}, \"text\": \"GDP (% change)\"}, \"zerolinecolor\": \"#666570\"}},                        {\"showLink\": true, \"linkText\": \"Export to plot.ly\", \"plotlyServerURL\": \"https://plot.ly\", \"responsive\": true}                    ).then(function(){\n",
       "                            \n",
       "var gd = document.getElementById('f0b5a392-16c0-462b-ac54-e1955baa5e41');\n",
       "var x = new MutationObserver(function (mutations, observer) {{\n",
       "        var display = window.getComputedStyle(gd).display;\n",
       "        if (!display || display === 'none') {{\n",
       "            console.log([gd, 'removed!']);\n",
       "            Plotly.purge(gd);\n",
       "            observer.disconnect();\n",
       "        }}\n",
       "}});\n",
       "\n",
       "// Listen for the removal of the full notebook cells\n",
       "var notebookContainer = gd.closest('#notebook-container');\n",
       "if (notebookContainer) {{\n",
       "    x.observe(notebookContainer, {childList: true});\n",
       "}}\n",
       "\n",
       "// Listen for the clearing of the current output cell\n",
       "var outputEl = gd.closest('.output');\n",
       "if (outputEl) {{\n",
       "    x.observe(outputEl, {childList: true});\n",
       "}}\n",
       "\n",
       "                        })                };                });            </script>        </div>"
      ]
     },
     "metadata": {},
     "output_type": "display_data"
    }
   ],
   "source": [
    "gdp_iplot = gdp_new.iplot(kind='line',\n",
    "                          dash='dash',\n",
    "                          title=\"GDP across major countries\",\n",
    "                          xTitle=\"Year\",\n",
    "                          yTitle='GDP (% change)')"
   ]
  },
  {
   "cell_type": "code",
   "execution_count": 159,
   "id": "a7935368",
   "metadata": {},
   "outputs": [
    {
     "data": {},
     "metadata": {},
     "output_type": "display_data"
    },
    {
     "data": {
      "application/vnd.holoviews_exec.v0+json": "",
      "text/html": [
       "<div id='12479'>\n",
       "\n",
       "\n",
       "\n",
       "\n",
       "\n",
       "  <div class=\"bk-root\" id=\"f6f18b09-1a88-4db7-adc3-6c364864ba86\" data-root-id=\"12479\"></div>\n",
       "</div>\n",
       "<script type=\"application/javascript\">(function(root) {\n",
       "  function embed_document(root) {\n",
       "    var docs_json = {\"ab98634e-0c31-4b93-b84d-069abcfb42e7\":{\"defs\":[],\"roots\":{\"references\":[{\"attributes\":{\"source\":{\"id\":\"12710\"}},\"id\":\"12717\",\"type\":\"CDSView\"},{\"attributes\":{\"axis_label\":\"\",\"formatter\":{\"id\":\"12957\"},\"major_label_policy\":{\"id\":\"12958\"},\"ticker\":{\"id\":\"12927\"}},\"id\":\"12926\",\"type\":\"LinearAxis\"},{\"attributes\":{\"line_alpha\":0.1,\"line_color\":\"#d62728\",\"line_width\":2,\"x\":{\"field\":\"Year\"},\"y\":{\"field\":\"value\"}},\"id\":\"12714\",\"type\":\"Line\"},{\"attributes\":{},\"id\":\"12644\",\"type\":\"UnionRenderers\"},{\"attributes\":{\"axis_label\":\"\",\"formatter\":{\"id\":\"12953\"},\"major_label_policy\":{\"id\":\"12954\"},\"ticker\":{\"id\":\"12924\"}},\"id\":\"12923\",\"type\":\"CategoricalAxis\"},{\"attributes\":{\"data_source\":{\"id\":\"12710\"},\"glyph\":{\"id\":\"12713\"},\"hover_glyph\":null,\"muted_glyph\":{\"id\":\"12715\"},\"nonselection_glyph\":{\"id\":\"12714\"},\"selection_glyph\":{\"id\":\"12743\"},\"view\":{\"id\":\"12717\"}},\"id\":\"12716\",\"type\":\"GlyphRenderer\"},{\"attributes\":{\"label\":{\"value\":\"United Kingdom\"},\"renderers\":[{\"id\":\"12626\"}]},\"id\":\"12646\",\"type\":\"LegendItem\"},{\"attributes\":{\"line_color\":\"#8b8b8b\",\"line_width\":2,\"x\":{\"field\":\"Year\"},\"y\":{\"field\":\"value\"}},\"id\":\"12647\",\"type\":\"Line\"},{\"attributes\":{\"line_color\":\"#17becf\",\"line_width\":2,\"x\":{\"field\":\"Year\"},\"y\":{\"field\":\"value\"}},\"id\":\"12651\",\"type\":\"Line\"},{\"attributes\":{},\"id\":\"12919\",\"type\":\"CategoricalScale\"},{\"attributes\":{\"line_alpha\":0.2,\"line_color\":\"#d62728\",\"line_width\":2,\"x\":{\"field\":\"Year\"},\"y\":{\"field\":\"value\"}},\"id\":\"12715\",\"type\":\"Line\"},{\"attributes\":{\"toolbar\":{\"id\":\"12996\"},\"toolbar_location\":\"above\"},\"id\":\"12997\",\"type\":\"ToolbarBox\"},{\"attributes\":{\"style\":{\"white-space\":\"nowrap\"},\"text\":\"<span style=\\\"color:black;font-family:Arial;font-style:bold;font-weight:bold;font-size:12pt\\\">Year: 1995</span>\",\"width\":450},\"id\":\"12999\",\"type\":\"Div\"},{\"attributes\":{\"text_color\":\"black\",\"text_font_size\":\"12pt\"},\"id\":\"12915\",\"type\":\"Title\"},{\"attributes\":{},\"id\":\"12501\",\"type\":\"BasicTicker\"},{\"attributes\":{\"axis\":{\"id\":\"12923\"},\"grid_line_color\":null,\"ticker\":null},\"id\":\"12925\",\"type\":\"Grid\"},{\"attributes\":{\"line_color\":\"#30a2da\",\"line_width\":2,\"x\":{\"field\":\"Year\"},\"y\":{\"field\":\"value\"}},\"id\":\"12530\",\"type\":\"Line\"},{\"attributes\":{\"line_alpha\":0.2,\"line_color\":\"#17becf\",\"line_width\":2,\"x\":{\"field\":\"Year\"},\"y\":{\"field\":\"value\"}},\"id\":\"12653\",\"type\":\"Line\"},{\"attributes\":{\"source\":{\"id\":\"12648\"}},\"id\":\"12655\",\"type\":\"CDSView\"},{\"attributes\":{},\"id\":\"12992\",\"type\":\"UnionRenderers\"},{\"attributes\":{},\"id\":\"12921\",\"type\":\"LinearScale\"},{\"attributes\":{\"data\":{\"Variable\":[\"United States\",\"United States\",\"United States\",\"United States\",\"United States\",\"United States\",\"United States\",\"United States\",\"United States\",\"United States\",\"United States\",\"United States\",\"United States\",\"United States\",\"United States\",\"United States\",\"United States\",\"United States\",\"United States\",\"United States\",\"United States\",\"United States\",\"United States\",\"United States\",\"United States\",\"United States\"],\"Year\":[1995,1996,1997,1998,1999,2000,2001,2002,2003,2004,2005,2006,2007,2008,2009,2010,2011,2012,2013,2014,2015,2016,2017,2018,2019,2020],\"value\":{\"__ndarray__\":\"HNRsiGt5BUB4IgwsFS4OQLMlihTzyRFAxLoAGvbsEUCED65LUAMTQBgIKCuLghBAN2bIZ2jy7z9WisTU+937P5CfJXnC4wZAN8xyByFkDkB7aK3VDxsMQPEqV7f71gZAqZ4OXMwE/j/7rrxvcnvBv9BfbEpHSwTAfU41C5iCBECofbLjOND4Pw8uJ+UR/wFA5bADACp5/T+rg3KRMTUEQG1iKPegQwdAPCMPGZY0+j9zhQodWvUCQCBv3cApawdAMM4uyxZKAUBhyNgineMLwA==\",\"dtype\":\"float64\",\"order\":\"little\",\"shape\":[26]}},\"selected\":{\"id\":\"12711\"},\"selection_policy\":{\"id\":\"12740\"}},\"id\":\"12710\",\"type\":\"ColumnDataSource\"},{\"attributes\":{\"children\":[{\"id\":\"12999\"},{\"id\":\"12998\"}]},\"id\":\"13000\",\"type\":\"Column\"},{\"attributes\":{\"label\":{\"value\":\"China\"},\"renderers\":[{\"id\":\"12576\"}]},\"id\":\"12592\",\"type\":\"LegendItem\"},{\"attributes\":{},\"id\":\"12924\",\"type\":\"CategoricalTicker\"},{\"attributes\":{\"click_policy\":\"mute\",\"items\":[{\"id\":\"12546\"},{\"id\":\"12568\"},{\"id\":\"12592\"},{\"id\":\"12618\"},{\"id\":\"12646\"},{\"id\":\"12676\"},{\"id\":\"12708\"},{\"id\":\"12742\"}],\"location\":[0,0],\"title\":\"Variable\"},\"id\":\"12545\",\"type\":\"Legend\"},{\"attributes\":{\"children\":[{\"id\":\"12480\"},{\"id\":\"13000\"},{\"id\":\"13331\"},{\"id\":\"13332\"}],\"margin\":[0,0,0,0],\"name\":\"Row55182\"},\"id\":\"12479\",\"type\":\"Row\"},{\"attributes\":{},\"id\":\"12927\",\"type\":\"BasicTicker\"},{\"attributes\":{\"line_alpha\":0.2,\"line_color\":\"#6d904f\",\"line_width\":2,\"x\":{\"field\":\"Year\"},\"y\":{\"field\":\"value\"}},\"id\":\"12599\",\"type\":\"Line\"},{\"attributes\":{},\"id\":\"12954\",\"type\":\"AllLabels\"},{\"attributes\":{\"axis\":{\"id\":\"12926\"},\"dimension\":1,\"grid_line_color\":null,\"ticker\":null},\"id\":\"12929\",\"type\":\"Grid\"},{\"attributes\":{\"source\":{\"id\":\"12527\"}},\"id\":\"12534\",\"type\":\"CDSView\"},{\"attributes\":{\"line_color\":\"#6d904f\",\"line_width\":2,\"x\":{\"field\":\"Year\"},\"y\":{\"field\":\"value\"}},\"id\":\"12597\",\"type\":\"Line\"},{\"attributes\":{\"source\":{\"id\":\"12594\"}},\"id\":\"12601\",\"type\":\"CDSView\"},{\"attributes\":{\"line_alpha\":0.1,\"line_color\":\"#17becf\",\"line_width\":2,\"x\":{\"field\":\"Year\"},\"y\":{\"field\":\"value\"}},\"id\":\"12652\",\"type\":\"Line\"},{\"attributes\":{},\"id\":\"12953\",\"type\":\"CategoricalTickFormatter\"},{\"attributes\":{},\"id\":\"12505\",\"type\":\"BasicTicker\"},{\"attributes\":{},\"id\":\"12616\",\"type\":\"UnionRenderers\"},{\"attributes\":{\"data_source\":{\"id\":\"12648\"},\"glyph\":{\"id\":\"12651\"},\"hover_glyph\":null,\"muted_glyph\":{\"id\":\"12653\"},\"nonselection_glyph\":{\"id\":\"12652\"},\"selection_glyph\":{\"id\":\"12677\"},\"view\":{\"id\":\"12655\"}},\"id\":\"12654\",\"type\":\"GlyphRenderer\"},{\"attributes\":{},\"id\":\"12498\",\"type\":\"LinearScale\"},{\"attributes\":{\"data\":{\"Variable\":[\"European Union\",\"European Union\",\"European Union\",\"European Union\",\"European Union\",\"European Union\",\"European Union\",\"European Union\",\"European Union\",\"European Union\",\"European Union\",\"European Union\",\"European Union\",\"European Union\",\"European Union\",\"European Union\",\"European Union\",\"European Union\",\"European Union\",\"European Union\",\"European Union\",\"European Union\",\"European Union\",\"European Union\",\"European Union\",\"European Union\"],\"Year\":[1995,1996,1997,1998,1999,2000,2001,2002,2003,2004,2005,2006,2007,2008,2009,2010,2011,2012,2013,2014,2015,2016,2017,2018,2019,2020],\"value\":{\"__ndarray__\":\"a156oLpiBUA+JYSaY0n+P3iqiELnTwVAbcyNF0ImCEDzvGDfaqsHQKbPSxvHOQ9A0n7RCZR5AUAIymOJq/vxP9oJv2zsxu0/rQf0C3TCBEDTnAsP2fH+P+gRbvVG9AtAipmWu0M4CUBVhEpFK6PkP+erokelTRHA/TTNv4atAUC4eDazr0/9P7hFwdX/Dui/uXzuewlSrL+guDwGxir5Pzy6tlyiZwJA2dSfG59bAED2PnHaNVAGQGPgAs4n8gBArfur7UTe+D9mZmZmZmYYwA==\",\"dtype\":\"float64\",\"order\":\"little\",\"shape\":[26]}},\"selected\":{\"id\":\"12595\"},\"selection_policy\":{\"id\":\"12616\"}},\"id\":\"12594\",\"type\":\"ColumnDataSource\"},{\"attributes\":{\"children\":[{\"id\":\"13333\"},{\"id\":\"13334\"},{\"id\":\"13336\"}],\"margin\":[0,0,0,0],\"name\":\"Column55190\"},\"id\":\"13332\",\"type\":\"Column\"},{\"attributes\":{\"children\":[{\"id\":\"12997\"},{\"id\":\"12995\"}]},\"id\":\"12998\",\"type\":\"Column\"},{\"attributes\":{\"text_color\":\"black\",\"text_font_size\":\"12pt\"},\"id\":\"12492\",\"type\":\"Title\"},{\"attributes\":{\"line_alpha\":0.1,\"line_color\":\"#6d904f\",\"line_width\":2,\"x\":{\"field\":\"Year\"},\"y\":{\"field\":\"value\"}},\"id\":\"12598\",\"type\":\"Line\"},{\"attributes\":{},\"id\":\"12930\",\"type\":\"SaveTool\"},{\"attributes\":{},\"id\":\"12931\",\"type\":\"PanTool\"},{\"attributes\":{\"data_source\":{\"id\":\"12594\"},\"glyph\":{\"id\":\"12597\"},\"hover_glyph\":null,\"muted_glyph\":{\"id\":\"12599\"},\"nonselection_glyph\":{\"id\":\"12598\"},\"selection_glyph\":{\"id\":\"12619\"},\"view\":{\"id\":\"12601\"}},\"id\":\"12600\",\"type\":\"GlyphRenderer\"},{\"attributes\":{\"data\":{\"Variable\":[\"Korea, Rep.\",\"Korea, Rep.\",\"Korea, Rep.\",\"Korea, Rep.\",\"Korea, Rep.\",\"Korea, Rep.\",\"Korea, Rep.\",\"Korea, Rep.\",\"Korea, Rep.\",\"Korea, Rep.\",\"Korea, Rep.\",\"Korea, Rep.\",\"Korea, Rep.\",\"Korea, Rep.\",\"Korea, Rep.\",\"Korea, Rep.\",\"Korea, Rep.\",\"Korea, Rep.\",\"Korea, Rep.\",\"Korea, Rep.\",\"Korea, Rep.\",\"Korea, Rep.\",\"Korea, Rep.\",\"Korea, Rep.\",\"Korea, Rep.\",\"Korea, Rep.\"],\"Year\":[1995,1996,1997,1998,1999,2000,2001,2002,2003,2004,2005,2006,2007,2008,2009,2010,2011,2012,2013,2014,2015,2016,2017,2018,2019,2020],\"value\":{\"__ndarray__\":\"dGCwUKg6I0AJb16IFJAfQKzfoEulrhhAEc9MD46EFMD27QMUE+8mQI7DqoslHyJAJHXzbttoE0BfPCjNi+YeQBXAaQGnLQlAN2Qi9iDKFEBCMgif8jsRQMDzg6GrDhVAfPnX0bwyF0CPBSfQlxoIQFHps0XKXek/dkP3BSQ4G0AJ49xjP3wNQKohMitiOANAAOnnwlJRCUAHz2MYoJ4JQH4sWSILeQZA2Nd4uDaTB0ADlVQa70YJQJrG7OhcQgdA9fagzZVQAEB+JehZBabuvw==\",\"dtype\":\"float64\",\"order\":\"little\",\"shape\":[26]}},\"selected\":{\"id\":\"12679\"},\"selection_policy\":{\"id\":\"12706\"}},\"id\":\"12678\",\"type\":\"ColumnDataSource\"},{\"attributes\":{},\"id\":\"12934\",\"type\":\"ResetTool\"},{\"attributes\":{},\"id\":\"12496\",\"type\":\"LinearScale\"},{\"attributes\":{},\"id\":\"12932\",\"type\":\"WheelZoomTool\"},{\"attributes\":{\"margin\":[5,5,5,5],\"name\":\"HSpacer55191\",\"sizing_mode\":\"stretch_width\"},\"id\":\"12480\",\"type\":\"Spacer\"},{\"attributes\":{},\"id\":\"12945\",\"type\":\"Selection\"},{\"attributes\":{\"overlay\":{\"id\":\"12935\"}},\"id\":\"12933\",\"type\":\"BoxZoomTool\"},{\"attributes\":{\"line_color\":\"#fc4f30\",\"line_width\":2,\"x\":{\"field\":\"Year\"},\"y\":{\"field\":\"value\"}},\"id\":\"12551\",\"type\":\"Line\"},{\"attributes\":{\"axis_label\":\"Year\",\"formatter\":{\"id\":\"12522\"},\"major_label_policy\":{\"id\":\"12523\"},\"ticker\":{\"id\":\"12501\"}},\"id\":\"12500\",\"type\":\"LinearAxis\"},{\"attributes\":{},\"id\":\"12674\",\"type\":\"UnionRenderers\"},{\"attributes\":{\"bottom\":{\"value\":0},\"fill_alpha\":{\"value\":1.0},\"fill_color\":{\"field\":\"Variable\",\"transform\":{\"id\":\"12943\"}},\"hatch_alpha\":{\"value\":1.0},\"hatch_color\":{\"value\":\"black\"},\"hatch_scale\":{\"value\":12.0},\"hatch_weight\":{\"value\":1.0},\"line_alpha\":{\"value\":1.0},\"line_cap\":{\"value\":\"butt\"},\"line_color\":{\"value\":\"black\"},\"line_dash\":{\"value\":[]},\"line_dash_offset\":{\"value\":0},\"line_join\":{\"value\":\"bevel\"},\"line_width\":{\"value\":1},\"top\":{\"field\":\"value\"},\"width\":{\"value\":0.8},\"x\":{\"field\":\"xoffsets\"}},\"id\":\"12952\",\"type\":\"VBar\"},{\"attributes\":{\"axis\":{\"id\":\"12500\"},\"grid_line_color\":null,\"ticker\":null},\"id\":\"12503\",\"type\":\"Grid\"},{\"attributes\":{\"line_color\":\"#d62728\",\"line_width\":2,\"x\":{\"field\":\"Year\"},\"y\":{\"field\":\"value\"}},\"id\":\"12743\",\"type\":\"Line\"},{\"attributes\":{},\"id\":\"12566\",\"type\":\"UnionRenderers\"},{\"attributes\":{\"active_multi\":null,\"tools\":[{\"id\":\"12483\"},{\"id\":\"12508\"},{\"id\":\"12509\"},{\"id\":\"12510\"},{\"id\":\"12511\"},{\"id\":\"12512\"}]},\"id\":\"12514\",\"type\":\"Toolbar\"},{\"attributes\":{},\"id\":\"12957\",\"type\":\"BasicTickFormatter\"},{\"attributes\":{},\"id\":\"12740\",\"type\":\"UnionRenderers\"},{\"attributes\":{\"label\":{\"value\":\"United States\"},\"renderers\":[{\"id\":\"12716\"}]},\"id\":\"12742\",\"type\":\"LegendItem\"},{\"attributes\":{},\"id\":\"12679\",\"type\":\"Selection\"},{\"attributes\":{\"axis_label\":\"\",\"formatter\":{\"id\":\"12525\"},\"major_label_policy\":{\"id\":\"12526\"},\"ticker\":{\"id\":\"12505\"}},\"id\":\"12504\",\"type\":\"LinearAxis\"},{\"attributes\":{\"active_multi\":null,\"tools\":[{\"id\":\"12913\"},{\"id\":\"12930\"},{\"id\":\"12931\"},{\"id\":\"12932\"},{\"id\":\"12933\"},{\"id\":\"12934\"}]},\"id\":\"12936\",\"type\":\"Toolbar\"},{\"attributes\":{\"children\":[[{\"id\":\"12491\"},0,0],[{\"id\":\"12914\"},0,1]]},\"id\":\"12995\",\"type\":\"GridBox\"},{\"attributes\":{\"bottom_units\":\"screen\",\"fill_alpha\":0.5,\"fill_color\":\"lightgrey\",\"left_units\":\"screen\",\"level\":\"overlay\",\"line_alpha\":1.0,\"line_color\":\"black\",\"line_dash\":[4,4],\"line_width\":2,\"right_units\":\"screen\",\"syncable\":false,\"top_units\":\"screen\"},\"id\":\"12935\",\"type\":\"BoxAnnotation\"},{\"attributes\":{\"source\":{\"id\":\"12548\"}},\"id\":\"12555\",\"type\":\"CDSView\"},{\"attributes\":{\"data_source\":{\"id\":\"12944\"},\"glyph\":{\"id\":\"12947\"},\"hover_glyph\":null,\"muted_glyph\":{\"id\":\"12949\"},\"nonselection_glyph\":{\"id\":\"12948\"},\"selection_glyph\":{\"id\":\"12952\"},\"view\":{\"id\":\"12951\"}},\"id\":\"12950\",\"type\":\"GlyphRenderer\"},{\"attributes\":{},\"id\":\"12958\",\"type\":\"AllLabels\"},{\"attributes\":{\"data\":{\"Variable\":[\"Australia\",\"Canada\",\"China\",\"European Union\",\"United Kingdom\",\"India\",\"Korea, Rep.\",\"United States\"],\"index\":[\"25\",\"25\",\"25\",\"25\",\"25\",\"25\",\"25\",\"25\"],\"value\":{\"__ndarray__\":\"+rQmm8460r9tokg5d5wVwB3XZWZmZgJAZmZmZmZmGMBVR3timpQjwPXg5NTC2x/AfiXoWQWm7r9hyNgineMLwA==\",\"dtype\":\"float64\",\"order\":\"little\",\"shape\":[8]},\"xoffsets\":[[\"25\",\"Australia\"],[\"25\",\"Canada\"],[\"25\",\"China\"],[\"25\",\"European Union\"],[\"25\",\"United Kingdom\"],[\"25\",\"India\"],[\"25\",\"Korea, Rep.\"],[\"25\",\"United States\"]]},\"selected\":{\"id\":\"12945\"},\"selection_policy\":{\"id\":\"12992\"}},\"id\":\"12944\",\"type\":\"ColumnDataSource\"},{\"attributes\":{},\"id\":\"12525\",\"type\":\"BasicTickFormatter\"},{\"attributes\":{\"bottom_units\":\"screen\",\"fill_alpha\":0.5,\"fill_color\":\"lightgrey\",\"left_units\":\"screen\",\"level\":\"overlay\",\"line_alpha\":1.0,\"line_color\":\"black\",\"line_dash\":[4,4],\"line_width\":2,\"right_units\":\"screen\",\"syncable\":false,\"top_units\":\"screen\"},\"id\":\"12513\",\"type\":\"BoxAnnotation\"},{\"attributes\":{\"callback\":null,\"renderers\":[{\"id\":\"12950\"}],\"tags\":[\"hv_created\"],\"tooltips\":[[\"index\",\"@{index}\"],[\"Variable\",\"@{Variable}\"],[\"value\",\"@{value}\"]]},\"id\":\"12913\",\"type\":\"HoverTool\"},{\"attributes\":{\"label\":{\"value\":\"India\"},\"renderers\":[{\"id\":\"12654\"}]},\"id\":\"12676\",\"type\":\"LegendItem\"},{\"attributes\":{},\"id\":\"12526\",\"type\":\"AllLabels\"},{\"attributes\":{\"source\":{\"id\":\"12678\"}},\"id\":\"12685\",\"type\":\"CDSView\"},{\"attributes\":{\"line_color\":\"#17becf\",\"line_width\":2,\"x\":{\"field\":\"Year\"},\"y\":{\"field\":\"value\"}},\"id\":\"12677\",\"type\":\"Line\"},{\"attributes\":{\"axis\":{\"id\":\"12504\"},\"dimension\":1,\"grid_line_color\":null,\"ticker\":null},\"id\":\"12507\",\"type\":\"Grid\"},{\"attributes\":{\"line_alpha\":0.2,\"line_color\":\"#9467bd\",\"line_width\":2,\"x\":{\"field\":\"Year\"},\"y\":{\"field\":\"value\"}},\"id\":\"12683\",\"type\":\"Line\"},{\"attributes\":{},\"id\":\"12523\",\"type\":\"AllLabels\"},{\"attributes\":{\"line_color\":\"#8b8b8b\",\"line_width\":2,\"x\":{\"field\":\"Year\"},\"y\":{\"field\":\"value\"}},\"id\":\"12623\",\"type\":\"Line\"},{\"attributes\":{\"label\":{\"value\":\"European Union\"},\"renderers\":[{\"id\":\"12600\"}]},\"id\":\"12618\",\"type\":\"LegendItem\"},{\"attributes\":{\"line_color\":\"#6d904f\",\"line_width\":2,\"x\":{\"field\":\"Year\"},\"y\":{\"field\":\"value\"}},\"id\":\"12619\",\"type\":\"Line\"},{\"attributes\":{\"fill_alpha\":{\"value\":0.2},\"fill_color\":{\"field\":\"Variable\",\"transform\":{\"id\":\"12943\"}},\"line_alpha\":{\"value\":0.2},\"top\":{\"field\":\"value\"},\"width\":{\"value\":0.8},\"x\":{\"field\":\"xoffsets\"}},\"id\":\"12949\",\"type\":\"VBar\"},{\"attributes\":{},\"id\":\"12711\",\"type\":\"Selection\"},{\"attributes\":{\"data\":{\"Variable\":[\"Canada\",\"Canada\",\"Canada\",\"Canada\",\"Canada\",\"Canada\",\"Canada\",\"Canada\",\"Canada\",\"Canada\",\"Canada\",\"Canada\",\"Canada\",\"Canada\",\"Canada\",\"Canada\",\"Canada\",\"Canada\",\"Canada\",\"Canada\",\"Canada\",\"Canada\",\"Canada\",\"Canada\",\"Canada\",\"Canada\"],\"Year\":[1995,1996,1997,1998,1999,2000,2001,2002,2003,2004,2005,2006,2007,2008,2009,2010,2011,2012,2013,2014,2015,2016,2017,2018,2019,2020],\"value\":{\"__ndarray__\":\"bY5kcEONBUBOILJpIej5P/2wAbgpww7AQczrqVFfBkC4AZpmjMMPQG/eK//JqxNAeBdGfwp99j/tnPQrjmALQOzwidUcfQ5AeldyUu5PD0By4p7zwvsTQOVClBjMqRBA41KnmXR5G0DXt5v5OB/wP3HtFhFdbQfAKIuQ9Ei3CECJDQkk0CwJQP6og0UQMvw/Ni79+gqiAkC8uEN51fUGQGgdJRT6F+U/8G4oJrYF8D/9g+Cip10JQErfsNzuGwBA4ddhryR/+j9tokg5d5wVwA==\",\"dtype\":\"float64\",\"order\":\"little\",\"shape\":[26]}},\"selected\":{\"id\":\"12549\"},\"selection_policy\":{\"id\":\"12566\"}},\"id\":\"12548\",\"type\":\"ColumnDataSource\"},{\"attributes\":{},\"id\":\"12571\",\"type\":\"Selection\"},{\"attributes\":{\"source\":{\"id\":\"12620\"}},\"id\":\"12627\",\"type\":\"CDSView\"},{\"attributes\":{\"line_color\":\"#9467bd\",\"line_width\":2,\"x\":{\"field\":\"Year\"},\"y\":{\"field\":\"value\"}},\"id\":\"12681\",\"type\":\"Line\"},{\"attributes\":{\"label\":{\"value\":\"Australia\"},\"renderers\":[{\"id\":\"12533\"}]},\"id\":\"12546\",\"type\":\"LegendItem\"},{\"attributes\":{\"line_alpha\":0.1,\"line_color\":\"#fc4f30\",\"line_width\":2,\"x\":{\"field\":\"Year\"},\"y\":{\"field\":\"value\"}},\"id\":\"12552\",\"type\":\"Line\"},{\"attributes\":{\"margin\":[5,5,5,5],\"name\":\"VSpacer55189\",\"sizing_mode\":\"stretch_height\"},\"id\":\"13336\",\"type\":\"Spacer\"},{\"attributes\":{\"line_alpha\":0.1,\"line_color\":\"#9467bd\",\"line_width\":2,\"x\":{\"field\":\"Year\"},\"y\":{\"field\":\"value\"}},\"id\":\"12682\",\"type\":\"Line\"},{\"attributes\":{\"data_source\":{\"id\":\"12678\"},\"glyph\":{\"id\":\"12681\"},\"hover_glyph\":null,\"muted_glyph\":{\"id\":\"12683\"},\"nonselection_glyph\":{\"id\":\"12682\"},\"selection_glyph\":{\"id\":\"12709\"},\"view\":{\"id\":\"12685\"}},\"id\":\"12684\",\"type\":\"GlyphRenderer\"},{\"attributes\":{\"fill_alpha\":{\"value\":0.1},\"fill_color\":{\"field\":\"Variable\",\"transform\":{\"id\":\"12943\"}},\"line_alpha\":{\"value\":0.1},\"top\":{\"field\":\"value\"},\"width\":{\"value\":0.8},\"x\":{\"field\":\"xoffsets\"}},\"id\":\"12948\",\"type\":\"VBar\"},{\"attributes\":{\"line_alpha\":0.2,\"line_color\":\"#8b8b8b\",\"line_width\":2,\"x\":{\"field\":\"Year\"},\"y\":{\"field\":\"value\"}},\"id\":\"12625\",\"type\":\"Line\"},{\"attributes\":{},\"id\":\"12595\",\"type\":\"Selection\"},{\"attributes\":{\"line_color\":\"#fc4f30\",\"line_width\":2,\"x\":{\"field\":\"Year\"},\"y\":{\"field\":\"value\"}},\"id\":\"12569\",\"type\":\"Line\"},{\"attributes\":{},\"id\":\"12621\",\"type\":\"Selection\"},{\"attributes\":{\"end\":2020.0,\"reset_end\":2020.0,\"reset_start\":1995.0,\"start\":1995.0,\"tags\":[[[\"Year\",\"Year\",null]]]},\"id\":\"12481\",\"type\":\"Range1d\"},{\"attributes\":{\"fill_color\":{\"field\":\"Variable\",\"transform\":{\"id\":\"12943\"}},\"top\":{\"field\":\"value\"},\"width\":{\"value\":0.8},\"x\":{\"field\":\"xoffsets\"}},\"id\":\"12947\",\"type\":\"VBar\"},{\"attributes\":{\"label\":{\"value\":\"Canada\"},\"renderers\":[{\"id\":\"12554\"}]},\"id\":\"12568\",\"type\":\"LegendItem\"},{\"attributes\":{},\"id\":\"12549\",\"type\":\"Selection\"},{\"attributes\":{\"data\":{\"Variable\":[\"China\",\"China\",\"China\",\"China\",\"China\",\"China\",\"China\",\"China\",\"China\",\"China\",\"China\",\"China\",\"China\",\"China\",\"China\",\"China\",\"China\",\"China\",\"China\",\"China\",\"China\",\"China\",\"China\",\"China\",\"China\",\"China\"],\"Year\":[1995,1996,1997,1998,1999,2000,2001,2002,2003,2004,2005,2006,2007,2008,2009,2010,2011,2012,2013,2014,2015,2016,2017,2018,2019,2020],\"value\":{\"__ndarray__\":\"wloItGzoJUCLrdVbWdgjQBj7yDY7eSJAjKFsL0FiH0C6ZYf4h6UeQLCC3YXt+iBAW10oQuWrIEDJk0FBa0QiQM6zJ7t4EyRA6XPelCw6JEBbcA7wB8omQBMIARohcSlAXYxgZzN2LEBwmorJJU0jQLGfI8QlzCJAgFg+5JBFJUBix+SsBhojQM9F41N3dB9A4/K6pokQH0CvYUlj+7MdQMq9Hh5SKhxAMDli6yFlG0CXuDIB78kbQLmGMLbE/xpAdh9N44HMF0Ad12VmZmYCQA==\",\"dtype\":\"float64\",\"order\":\"little\",\"shape\":[26]}},\"selected\":{\"id\":\"12571\"},\"selection_policy\":{\"id\":\"12590\"}},\"id\":\"12570\",\"type\":\"ColumnDataSource\"},{\"attributes\":{\"margin\":[20,20,20,20],\"min_width\":250,\"options\":[\"1995\",\"1996\",\"1997\",\"1998\",\"1999\",\"2000\",\"2001\",\"2002\",\"2003\",\"2004\",\"2005\",\"2006\",\"2007\",\"2008\",\"2009\",\"2010\",\"2011\",\"2012\",\"2013\",\"2014\",\"2015\",\"2016\",\"2017\",\"2018\",\"2019\",\"2020\"],\"title\":\"Year\",\"value\":\"1995\",\"width\":250},\"id\":\"13335\",\"type\":\"Select\"},{\"attributes\":{\"line_color\":\"#30a2da\",\"line_width\":2,\"x\":{\"field\":\"Year\"},\"y\":{\"field\":\"value\"}},\"id\":\"12547\",\"type\":\"Line\"},{\"attributes\":{},\"id\":\"12649\",\"type\":\"Selection\"},{\"attributes\":{\"end\":16.632971059173695,\"reset_end\":16.632971059173695,\"reset_start\":-12.192350490910622,\"start\":-12.192350490910622,\"tags\":[[[\"value\",\"value\",null]]]},\"id\":\"12482\",\"type\":\"Range1d\"},{\"attributes\":{\"below\":[{\"id\":\"12923\"}],\"center\":[{\"id\":\"12925\"},{\"id\":\"12929\"}],\"height\":300,\"left\":[{\"id\":\"12926\"}],\"margin\":null,\"min_border_bottom\":10,\"min_border_left\":10,\"min_border_right\":10,\"min_border_top\":10,\"renderers\":[{\"id\":\"12950\"}],\"sizing_mode\":\"fixed\",\"title\":{\"id\":\"12915\"},\"toolbar\":{\"id\":\"12936\"},\"toolbar_location\":null,\"width\":700,\"x_range\":{\"id\":\"12912\"},\"x_scale\":{\"id\":\"12919\"},\"y_range\":{\"id\":\"12482\"},\"y_scale\":{\"id\":\"12921\"}},\"id\":\"12914\",\"subtype\":\"Figure\",\"type\":\"Plot\"},{\"attributes\":{\"overlay\":{\"id\":\"12513\"}},\"id\":\"12511\",\"type\":\"BoxZoomTool\"},{\"attributes\":{\"line_alpha\":0.1,\"line_color\":\"#8b8b8b\",\"line_width\":2,\"x\":{\"field\":\"Year\"},\"y\":{\"field\":\"value\"}},\"id\":\"12624\",\"type\":\"Line\"},{\"attributes\":{},\"id\":\"12706\",\"type\":\"UnionRenderers\"},{\"attributes\":{\"line_color\":\"#e5ae38\",\"line_width\":2,\"x\":{\"field\":\"Year\"},\"y\":{\"field\":\"value\"}},\"id\":\"12573\",\"type\":\"Line\"},{\"attributes\":{\"line_alpha\":0.2,\"line_color\":\"#e5ae38\",\"line_width\":2,\"x\":{\"field\":\"Year\"},\"y\":{\"field\":\"value\"}},\"id\":\"12575\",\"type\":\"Line\"},{\"attributes\":{\"data_source\":{\"id\":\"12548\"},\"glyph\":{\"id\":\"12551\"},\"hover_glyph\":null,\"muted_glyph\":{\"id\":\"12553\"},\"nonselection_glyph\":{\"id\":\"12552\"},\"selection_glyph\":{\"id\":\"12569\"},\"view\":{\"id\":\"12555\"}},\"id\":\"12554\",\"type\":\"GlyphRenderer\"},{\"attributes\":{\"data_source\":{\"id\":\"12620\"},\"glyph\":{\"id\":\"12623\"},\"hover_glyph\":null,\"muted_glyph\":{\"id\":\"12625\"},\"nonselection_glyph\":{\"id\":\"12624\"},\"selection_glyph\":{\"id\":\"12647\"},\"view\":{\"id\":\"12627\"}},\"id\":\"12626\",\"type\":\"GlyphRenderer\"},{\"attributes\":{\"source\":{\"id\":\"12570\"}},\"id\":\"12577\",\"type\":\"CDSView\"},{\"attributes\":{\"client_comm_id\":\"dc51cefd78914f6289a991331edb1990\",\"comm_id\":\"2187c8629a9f4c3b87857e3b9d8b24e2\",\"plot_id\":\"12479\"},\"id\":\"13439\",\"type\":\"panel.models.comm_manager.CommManager\"},{\"attributes\":{},\"id\":\"12509\",\"type\":\"PanTool\"},{\"attributes\":{\"margin\":[5,5,5,5],\"name\":\"HSpacer55192\",\"sizing_mode\":\"stretch_width\"},\"id\":\"13331\",\"type\":\"Spacer\"},{\"attributes\":{\"margin\":[5,5,5,5],\"name\":\"VSpacer55188\",\"sizing_mode\":\"stretch_height\"},\"id\":\"13333\",\"type\":\"Spacer\"},{\"attributes\":{},\"id\":\"12590\",\"type\":\"UnionRenderers\"},{\"attributes\":{\"line_alpha\":0.2,\"line_color\":\"#30a2da\",\"line_width\":2,\"x\":{\"field\":\"Year\"},\"y\":{\"field\":\"value\"}},\"id\":\"12532\",\"type\":\"Line\"},{\"attributes\":{\"data\":{\"Variable\":[\"India\",\"India\",\"India\",\"India\",\"India\",\"India\",\"India\",\"India\",\"India\",\"India\",\"India\",\"India\",\"India\",\"India\",\"India\",\"India\",\"India\",\"India\",\"India\",\"India\",\"India\",\"India\",\"India\",\"India\",\"India\",\"India\"],\"Year\":[1995,1996,1997,1998,1999,2000,2001,2002,2003,2004,2005,2006,2007,2008,2009,2010,2011,2012,2013,2014,2015,2016,2017,2018,2019,2020],\"value\":{\"__ndarray__\":\"uHnClkdMHkB5hN/1tTIeQLB0lDwEMxBAbj1AgNe8GEBuz3XfBrEhQFVSXJJZug5AmYzzz71LE0CK4/Ocim4OQFEEdtcHcR9AynakSxaxH0CnR/XLl7EfQIKs/VYYHyBAN4RTtKykHkD4nKLAjrEIQCUXevySch9A6igMbMP+IEBx/IgTI/cUQKIgx8JP0xVA+Uj0eV+LGUDNkI20EqQdQIsH4twp/B9A4oEDhTqDIEBYbsxf3ywcQACCDPl0ehhAXW+bqRC5EED14OTUwtsfwA==\",\"dtype\":\"float64\",\"order\":\"little\",\"shape\":[26]}},\"selected\":{\"id\":\"12649\"},\"selection_policy\":{\"id\":\"12674\"}},\"id\":\"12648\",\"type\":\"ColumnDataSource\"},{\"attributes\":{},\"id\":\"12528\",\"type\":\"Selection\"},{\"attributes\":{},\"id\":\"12543\",\"type\":\"UnionRenderers\"},{\"attributes\":{\"line_alpha\":0.1,\"line_color\":\"#e5ae38\",\"line_width\":2,\"x\":{\"field\":\"Year\"},\"y\":{\"field\":\"value\"}},\"id\":\"12574\",\"type\":\"Line\"},{\"attributes\":{},\"id\":\"12508\",\"type\":\"SaveTool\"},{\"attributes\":{\"factors\":[[\"0\",\"United States\"],[\"0\",\"Korea, Rep.\"],[\"0\",\"India\"],[\"0\",\"United Kingdom\"],[\"0\",\"European Union\"],[\"0\",\"China\"],[\"0\",\"Canada\"],[\"0\",\"Australia\"]],\"tags\":[[[\"index\",\"index\",null],[\"Variable\",\"Variable\",null]]]},\"id\":\"12912\",\"type\":\"FactorRange\"},{\"attributes\":{\"line_color\":\"#e5ae38\",\"line_width\":2,\"x\":{\"field\":\"Year\"},\"y\":{\"field\":\"value\"}},\"id\":\"12593\",\"type\":\"Line\"},{\"attributes\":{\"source\":{\"id\":\"12944\"}},\"id\":\"12951\",\"type\":\"CDSView\"},{\"attributes\":{\"data_source\":{\"id\":\"12570\"},\"glyph\":{\"id\":\"12573\"},\"hover_glyph\":null,\"muted_glyph\":{\"id\":\"12575\"},\"nonselection_glyph\":{\"id\":\"12574\"},\"selection_glyph\":{\"id\":\"12593\"},\"view\":{\"id\":\"12577\"}},\"id\":\"12576\",\"type\":\"GlyphRenderer\"},{\"attributes\":{\"line_alpha\":0.1,\"line_color\":\"#30a2da\",\"line_width\":2,\"x\":{\"field\":\"Year\"},\"y\":{\"field\":\"value\"}},\"id\":\"12531\",\"type\":\"Line\"},{\"attributes\":{\"callback\":null,\"renderers\":[{\"id\":\"12533\"},{\"id\":\"12554\"},{\"id\":\"12576\"},{\"id\":\"12600\"},{\"id\":\"12626\"},{\"id\":\"12654\"},{\"id\":\"12684\"},{\"id\":\"12716\"}],\"tags\":[\"hv_created\"],\"tooltips\":[[\"Variable\",\"@{Variable}\"],[\"Year\",\"@{Year}\"],[\"value\",\"@{value}\"]]},\"id\":\"12483\",\"type\":\"HoverTool\"},{\"attributes\":{\"below\":[{\"id\":\"12500\"}],\"center\":[{\"id\":\"12503\"},{\"id\":\"12507\"}],\"height\":300,\"left\":[{\"id\":\"12504\"}],\"margin\":null,\"min_border_bottom\":10,\"min_border_left\":10,\"min_border_right\":10,\"min_border_top\":10,\"renderers\":[{\"id\":\"12533\"},{\"id\":\"12554\"},{\"id\":\"12576\"},{\"id\":\"12600\"},{\"id\":\"12626\"},{\"id\":\"12654\"},{\"id\":\"12684\"},{\"id\":\"12716\"}],\"right\":[{\"id\":\"12545\"}],\"sizing_mode\":\"fixed\",\"title\":{\"id\":\"12492\"},\"toolbar\":{\"id\":\"12514\"},\"toolbar_location\":null,\"width\":700,\"x_range\":{\"id\":\"12481\"},\"x_scale\":{\"id\":\"12496\"},\"y_range\":{\"id\":\"12482\"},\"y_scale\":{\"id\":\"12498\"}},\"id\":\"12491\",\"subtype\":\"Figure\",\"type\":\"Plot\"},{\"attributes\":{},\"id\":\"12512\",\"type\":\"ResetTool\"},{\"attributes\":{},\"id\":\"12510\",\"type\":\"WheelZoomTool\"},{\"attributes\":{\"line_color\":\"#9467bd\",\"line_width\":2,\"x\":{\"field\":\"Year\"},\"y\":{\"field\":\"value\"}},\"id\":\"12709\",\"type\":\"Line\"},{\"attributes\":{\"toolbars\":[{\"id\":\"12514\"},{\"id\":\"12936\"}],\"tools\":[{\"id\":\"12483\"},{\"id\":\"12508\"},{\"id\":\"12509\"},{\"id\":\"12510\"},{\"id\":\"12511\"},{\"id\":\"12512\"},{\"id\":\"12913\"},{\"id\":\"12930\"},{\"id\":\"12931\"},{\"id\":\"12932\"},{\"id\":\"12933\"},{\"id\":\"12934\"}]},\"id\":\"12996\",\"type\":\"ProxyToolbar\"},{\"attributes\":{},\"id\":\"12522\",\"type\":\"BasicTickFormatter\"},{\"attributes\":{\"data_source\":{\"id\":\"12527\"},\"glyph\":{\"id\":\"12530\"},\"hover_glyph\":null,\"muted_glyph\":{\"id\":\"12532\"},\"nonselection_glyph\":{\"id\":\"12531\"},\"selection_glyph\":{\"id\":\"12547\"},\"view\":{\"id\":\"12534\"}},\"id\":\"12533\",\"type\":\"GlyphRenderer\"},{\"attributes\":{\"label\":{\"value\":\"Korea, Rep.\"},\"renderers\":[{\"id\":\"12684\"}]},\"id\":\"12708\",\"type\":\"LegendItem\"},{\"attributes\":{\"factors\":[\"Australia\",\"Canada\",\"China\",\"European Union\",\"United Kingdom\",\"India\",\"Korea, Rep.\",\"United States\"],\"palette\":[\"#30a2da\",\"#fc4f30\",\"#e5ae38\",\"#6d904f\",\"#8b8b8b\",\"#17becf\",\"#9467bd\",\"#d62728\"]},\"id\":\"12943\",\"type\":\"CategoricalColorMapper\"},{\"attributes\":{\"line_alpha\":0.2,\"line_color\":\"#fc4f30\",\"line_width\":2,\"x\":{\"field\":\"Year\"},\"y\":{\"field\":\"value\"}},\"id\":\"12553\",\"type\":\"Line\"},{\"attributes\":{\"children\":[{\"id\":\"13335\"}],\"css_classes\":[\"panel-widget-box\"],\"margin\":[5,5,5,5],\"name\":\"WidgetBox55183\"},\"id\":\"13334\",\"type\":\"Column\"},{\"attributes\":{\"data\":{\"Variable\":[\"Australia\",\"Australia\",\"Australia\",\"Australia\",\"Australia\",\"Australia\",\"Australia\",\"Australia\",\"Australia\",\"Australia\",\"Australia\",\"Australia\",\"Australia\",\"Australia\",\"Australia\",\"Australia\",\"Australia\",\"Australia\",\"Australia\",\"Australia\",\"Australia\",\"Australia\",\"Australia\",\"Australia\",\"Australia\",\"Australia\"],\"Year\":[1995,1996,1997,1998,1999,2000,2001,2002,2003,2004,2005,2006,2007,2008,2009,2010,2011,2012,2013,2014,2015,2016,2017,2018,2019,2020],\"value\":{\"__ndarray__\":\"H+MLDLmzDkDfc+G5VwcPQG8jBRl4uw9A2IB/f4dOEkApKaiPXUsUQP62q4AQdw9AFfkt7srk/j95fAERcAEQQJPzp4gx4wdAQDyUZsg4EEAs94MzWKIJQE9ULDo2WwZADxjs0vvADkDDqWMjfUMNQKQ2L1bt/f4/G5q//RGKAEDoddCUubMDQJHFesZlWA9AscOs2N6tBEBBixmf0UMEQO6g0ruKigFA96T1sksqBkD+R/eKpmcCQIliiiMjmAdA9OE4dKNJAUD6tCabzjrSvw==\",\"dtype\":\"float64\",\"order\":\"little\",\"shape\":[26]}},\"selected\":{\"id\":\"12528\"},\"selection_policy\":{\"id\":\"12543\"}},\"id\":\"12527\",\"type\":\"ColumnDataSource\"},{\"attributes\":{\"data\":{\"Variable\":[\"United Kingdom\",\"United Kingdom\",\"United Kingdom\",\"United Kingdom\",\"United Kingdom\",\"United Kingdom\",\"United Kingdom\",\"United Kingdom\",\"United Kingdom\",\"United Kingdom\",\"United Kingdom\",\"United Kingdom\",\"United Kingdom\",\"United Kingdom\",\"United Kingdom\",\"United Kingdom\",\"United Kingdom\",\"United Kingdom\",\"United Kingdom\",\"United Kingdom\",\"United Kingdom\",\"United Kingdom\",\"United Kingdom\",\"United Kingdom\",\"United Kingdom\",\"United Kingdom\"],\"Year\":[1995,1996,1997,1998,1999,2000,2001,2002,2003,2004,2005,2006,2007,2008,2009,2010,2011,2012,2013,2014,2015,2016,2017,2018,2019,2020],\"value\":{\"__ndarray__\":\"xWxpONxABEC1/afyqO4DQDvhNxux1g5AvEa05agoDUB9JylaAG0LQN3cGyDxfwtAZl7AK3/LB0CJSatmRZgCQL7belWASgpAhWsMP9r9AkB4pqyzFXAJQMHTLBx9TgZAa91r4MVxA0CIJAt8a/7Rv8tJ/fzE/RDAQK4raz0x/z8meG6acaT4P8Ch7SGsqfc/eY0osKodAUCeOT9THNwEQPGfmSAd2AJAVIOJb8Ow/j/LQSmK8kX+P2udKnKXc/U//w5tSQxn9z9VR3timpQjwA==\",\"dtype\":\"float64\",\"order\":\"little\",\"shape\":[26]}},\"selected\":{\"id\":\"12621\"},\"selection_policy\":{\"id\":\"12644\"}},\"id\":\"12620\",\"type\":\"ColumnDataSource\"},{\"attributes\":{\"line_color\":\"#d62728\",\"line_width\":2,\"x\":{\"field\":\"Year\"},\"y\":{\"field\":\"value\"}},\"id\":\"12713\",\"type\":\"Line\"}],\"root_ids\":[\"12479\",\"13439\"]},\"title\":\"Bokeh Application\",\"version\":\"2.3.2\"}};\n",
       "    var render_items = [{\"docid\":\"ab98634e-0c31-4b93-b84d-069abcfb42e7\",\"root_ids\":[\"12479\"],\"roots\":{\"12479\":\"f6f18b09-1a88-4db7-adc3-6c364864ba86\"}}];\n",
       "    root.Bokeh.embed.embed_items_notebook(docs_json, render_items);\n",
       "  }\n",
       "  if (root.Bokeh !== undefined && root.Bokeh.Panel !== undefined && root['Plotly'] !== undefined ) {\n",
       "    embed_document(root);\n",
       "  } else {\n",
       "    var attempts = 0;\n",
       "    var timer = setInterval(function(root) {\n",
       "      if (root.Bokeh !== undefined && root.Bokeh.Panel !== undefined && root['Plotly'] !== undefined) {\n",
       "        clearInterval(timer);\n",
       "        embed_document(root);\n",
       "      } else if (document.readyState == \"complete\") {\n",
       "        attempts++;\n",
       "        if (attempts > 100) {\n",
       "          clearInterval(timer);\n",
       "          console.log(\"Bokeh: ERROR: Unable to run BokehJS code because BokehJS library is missing\");\n",
       "        }\n",
       "      }\n",
       "    }, 10, root)\n",
       "  }\n",
       "})(window);</script>"
      ],
      "text/plain": [
       ":Layout\n",
       "   .NdOverlay.I  :NdOverlay   [Variable]\n",
       "      :Curve   [Year]   (value)\n",
       "   .DynamicMap.I :DynamicMap   [Year]\n",
       "      :Bars   [index,Variable]   (value)"
      ]
     },
     "execution_count": 159,
     "metadata": {
      "application/vnd.holoviews_exec.v0+json": {
       "id": "12479"
      }
     },
     "output_type": "execute_result"
    }
   ],
   "source": [
    "comb = gdp_hvplot_line + gdp_hvplot_bar #+ gdp_iplot\n",
    "comb"
   ]
  },
  {
   "cell_type": "markdown",
   "id": "49897550",
   "metadata": {},
   "source": [
    "## "
   ]
  },
  {
   "cell_type": "markdown",
   "id": "7689bef8",
   "metadata": {},
   "source": [
    "### What are the key factors driving GDP - demonstrate using CorrPlot\n"
   ]
  },
  {
   "cell_type": "code",
   "execution_count": 124,
   "id": "598204cc",
   "metadata": {},
   "outputs": [
    {
     "data": {
      "text/html": [
       "<div>\n",
       "<style scoped>\n",
       "    .dataframe tbody tr th:only-of-type {\n",
       "        vertical-align: middle;\n",
       "    }\n",
       "\n",
       "    .dataframe tbody tr th {\n",
       "        vertical-align: top;\n",
       "    }\n",
       "\n",
       "    .dataframe thead th {\n",
       "        text-align: right;\n",
       "    }\n",
       "</style>\n",
       "<table border=\"1\" class=\"dataframe\">\n",
       "  <thead>\n",
       "    <tr style=\"text-align: right;\">\n",
       "      <th></th>\n",
       "      <th>Year</th>\n",
       "      <th>Births</th>\n",
       "      <th>Deaths</th>\n",
       "      <th>NaturalIncreases</th>\n",
       "      <th>InterstateArrivals</th>\n",
       "      <th>OverseasArrivals</th>\n",
       "      <th>OverseasDepartures</th>\n",
       "      <th>NetOverseasDepartures</th>\n",
       "      <th>NetOverseasMigration</th>\n",
       "      <th>EstimatedResidentPopulation</th>\n",
       "      <th>PercenChangeOverThePreviousYear</th>\n",
       "    </tr>\n",
       "  </thead>\n",
       "  <tbody>\n",
       "    <tr>\n",
       "      <th>0</th>\n",
       "      <td>1995</td>\n",
       "      <td>64.3</td>\n",
       "      <td>31.5</td>\n",
       "      <td>32.8</td>\n",
       "      <td>96.0</td>\n",
       "      <td>50.5</td>\n",
       "      <td>32.7</td>\n",
       "      <td>32.7</td>\n",
       "      <td>23.8</td>\n",
       "      <td>18004.9</td>\n",
       "      <td>1.12</td>\n",
       "    </tr>\n",
       "    <tr>\n",
       "      <th>1</th>\n",
       "      <td>1996</td>\n",
       "      <td>62.0</td>\n",
       "      <td>31.7</td>\n",
       "      <td>30.3</td>\n",
       "      <td>84.8</td>\n",
       "      <td>49.9</td>\n",
       "      <td>34.2</td>\n",
       "      <td>34.2</td>\n",
       "      <td>20.6</td>\n",
       "      <td>18224.8</td>\n",
       "      <td>1.22</td>\n",
       "    </tr>\n",
       "    <tr>\n",
       "      <th>2</th>\n",
       "      <td>1997</td>\n",
       "      <td>63.6</td>\n",
       "      <td>31.4</td>\n",
       "      <td>32.2</td>\n",
       "      <td>90.0</td>\n",
       "      <td>49.5</td>\n",
       "      <td>38.9</td>\n",
       "      <td>38.9</td>\n",
       "      <td>6.1</td>\n",
       "      <td>18423.0</td>\n",
       "      <td>1.09</td>\n",
       "    </tr>\n",
       "    <tr>\n",
       "      <th>3</th>\n",
       "      <td>1998</td>\n",
       "      <td>62.3</td>\n",
       "      <td>31.8</td>\n",
       "      <td>30.5</td>\n",
       "      <td>89.4</td>\n",
       "      <td>54.1</td>\n",
       "      <td>45.6</td>\n",
       "      <td>45.6</td>\n",
       "      <td>8.5</td>\n",
       "      <td>18607.6</td>\n",
       "      <td>1.00</td>\n",
       "    </tr>\n",
       "    <tr>\n",
       "      <th>4</th>\n",
       "      <td>1999</td>\n",
       "      <td>62.7</td>\n",
       "      <td>32.2</td>\n",
       "      <td>30.5</td>\n",
       "      <td>89.2</td>\n",
       "      <td>55.6</td>\n",
       "      <td>40.8</td>\n",
       "      <td>40.8</td>\n",
       "      <td>14.8</td>\n",
       "      <td>18812.3</td>\n",
       "      <td>1.10</td>\n",
       "    </tr>\n",
       "  </tbody>\n",
       "</table>\n",
       "</div>"
      ],
      "text/plain": [
       "   Year  Births  Deaths  NaturalIncreases  InterstateArrivals  \\\n",
       "0  1995    64.3    31.5              32.8                96.0   \n",
       "1  1996    62.0    31.7              30.3                84.8   \n",
       "2  1997    63.6    31.4              32.2                90.0   \n",
       "3  1998    62.3    31.8              30.5                89.4   \n",
       "4  1999    62.7    32.2              30.5                89.2   \n",
       "\n",
       "   OverseasArrivals  OverseasDepartures  NetOverseasDepartures  \\\n",
       "0              50.5                32.7                   32.7   \n",
       "1              49.9                34.2                   34.2   \n",
       "2              49.5                38.9                   38.9   \n",
       "3              54.1                45.6                   45.6   \n",
       "4              55.6                40.8                   40.8   \n",
       "\n",
       "   NetOverseasMigration  EstimatedResidentPopulation  \\\n",
       "0                  23.8                      18004.9   \n",
       "1                  20.6                      18224.8   \n",
       "2                   6.1                      18423.0   \n",
       "3                   8.5                      18607.6   \n",
       "4                  14.8                      18812.3   \n",
       "\n",
       "   PercenChangeOverThePreviousYear  \n",
       "0                             1.12  \n",
       "1                             1.22  \n",
       "2                             1.09  \n",
       "3                             1.00  \n",
       "4                             1.10  "
      ]
     },
     "execution_count": 124,
     "metadata": {},
     "output_type": "execute_result"
    }
   ],
   "source": [
    "# Read in population data\n",
    "population = pd.read_csv(\"../Data/ProcessedData/Population_June_Cleaned.csv\")\n",
    "del population[\"Unnamed: 0\"]\n",
    "population.head()"
   ]
  },
  {
   "cell_type": "code",
   "execution_count": 88,
   "id": "c96c42ea",
   "metadata": {},
   "outputs": [
    {
     "data": {
      "text/html": [
       "<div>\n",
       "<style scoped>\n",
       "    .dataframe tbody tr th:only-of-type {\n",
       "        vertical-align: middle;\n",
       "    }\n",
       "\n",
       "    .dataframe tbody tr th {\n",
       "        vertical-align: top;\n",
       "    }\n",
       "\n",
       "    .dataframe thead th {\n",
       "        text-align: right;\n",
       "    }\n",
       "</style>\n",
       "<table border=\"1\" class=\"dataframe\">\n",
       "  <thead>\n",
       "    <tr style=\"text-align: right;\">\n",
       "      <th></th>\n",
       "      <th>Year</th>\n",
       "      <th>TotalEmployed</th>\n",
       "      <th>TotalEmployed_M</th>\n",
       "      <th>TotalEmployed_F</th>\n",
       "      <th>Employment_To_Population_Ratio</th>\n",
       "      <th>Employment_To_Population_Ratio_M</th>\n",
       "      <th>Employment_To_Population_Ratio_F</th>\n",
       "      <th>TotalUnemployed</th>\n",
       "      <th>TotalUnemployed_M</th>\n",
       "      <th>TotalUnemployed_F</th>\n",
       "      <th>Population 15 and over</th>\n",
       "      <th>Population 15 and over_M</th>\n",
       "      <th>Population 15 and over_F</th>\n",
       "    </tr>\n",
       "  </thead>\n",
       "  <tbody>\n",
       "    <tr>\n",
       "      <th>0</th>\n",
       "      <td>1995</td>\n",
       "      <td>8205.6</td>\n",
       "      <td>4657.4</td>\n",
       "      <td>3548.3</td>\n",
       "      <td>58.3</td>\n",
       "      <td>67.3</td>\n",
       "      <td>49.6</td>\n",
       "      <td>723.5</td>\n",
       "      <td>434.2</td>\n",
       "      <td>289.3</td>\n",
       "      <td>14070.5</td>\n",
       "      <td>6922.5</td>\n",
       "      <td>7148.0</td>\n",
       "    </tr>\n",
       "    <tr>\n",
       "      <th>1</th>\n",
       "      <td>1996</td>\n",
       "      <td>8311.7</td>\n",
       "      <td>4724.4</td>\n",
       "      <td>3587.3</td>\n",
       "      <td>58.2</td>\n",
       "      <td>67.3</td>\n",
       "      <td>49.5</td>\n",
       "      <td>723.8</td>\n",
       "      <td>424.3</td>\n",
       "      <td>299.5</td>\n",
       "      <td>14271.2</td>\n",
       "      <td>7017.8</td>\n",
       "      <td>7253.4</td>\n",
       "    </tr>\n",
       "    <tr>\n",
       "      <th>2</th>\n",
       "      <td>1997</td>\n",
       "      <td>8345.6</td>\n",
       "      <td>4731.9</td>\n",
       "      <td>3613.6</td>\n",
       "      <td>57.7</td>\n",
       "      <td>66.6</td>\n",
       "      <td>49.1</td>\n",
       "      <td>735.2</td>\n",
       "      <td>427.5</td>\n",
       "      <td>307.7</td>\n",
       "      <td>14455.4</td>\n",
       "      <td>7101.7</td>\n",
       "      <td>7353.8</td>\n",
       "    </tr>\n",
       "    <tr>\n",
       "      <th>3</th>\n",
       "      <td>1998</td>\n",
       "      <td>8516.8</td>\n",
       "      <td>4801.8</td>\n",
       "      <td>3715.0</td>\n",
       "      <td>58.2</td>\n",
       "      <td>66.8</td>\n",
       "      <td>49.9</td>\n",
       "      <td>702.8</td>\n",
       "      <td>419.9</td>\n",
       "      <td>282.9</td>\n",
       "      <td>14633.9</td>\n",
       "      <td>7186.3</td>\n",
       "      <td>7447.6</td>\n",
       "    </tr>\n",
       "    <tr>\n",
       "      <th>4</th>\n",
       "      <td>1999</td>\n",
       "      <td>8673.2</td>\n",
       "      <td>4897.8</td>\n",
       "      <td>3775.5</td>\n",
       "      <td>58.5</td>\n",
       "      <td>67.3</td>\n",
       "      <td>50.0</td>\n",
       "      <td>600.6</td>\n",
       "      <td>348.6</td>\n",
       "      <td>252.0</td>\n",
       "      <td>14826.6</td>\n",
       "      <td>7277.7</td>\n",
       "      <td>7548.9</td>\n",
       "    </tr>\n",
       "  </tbody>\n",
       "</table>\n",
       "</div>"
      ],
      "text/plain": [
       "   Year  TotalEmployed  TotalEmployed_M  TotalEmployed_F  \\\n",
       "0  1995         8205.6           4657.4           3548.3   \n",
       "1  1996         8311.7           4724.4           3587.3   \n",
       "2  1997         8345.6           4731.9           3613.6   \n",
       "3  1998         8516.8           4801.8           3715.0   \n",
       "4  1999         8673.2           4897.8           3775.5   \n",
       "\n",
       "   Employment_To_Population_Ratio  Employment_To_Population_Ratio_M  \\\n",
       "0                            58.3                              67.3   \n",
       "1                            58.2                              67.3   \n",
       "2                            57.7                              66.6   \n",
       "3                            58.2                              66.8   \n",
       "4                            58.5                              67.3   \n",
       "\n",
       "   Employment_To_Population_Ratio_F  TotalUnemployed  TotalUnemployed_M  \\\n",
       "0                              49.6            723.5              434.2   \n",
       "1                              49.5            723.8              424.3   \n",
       "2                              49.1            735.2              427.5   \n",
       "3                              49.9            702.8              419.9   \n",
       "4                              50.0            600.6              348.6   \n",
       "\n",
       "   TotalUnemployed_F  Population 15 and over  Population 15 and over_M  \\\n",
       "0              289.3                 14070.5                    6922.5   \n",
       "1              299.5                 14271.2                    7017.8   \n",
       "2              307.7                 14455.4                    7101.7   \n",
       "3              282.9                 14633.9                    7186.3   \n",
       "4              252.0                 14826.6                    7277.7   \n",
       "\n",
       "   Population 15 and over_F  \n",
       "0                    7148.0  \n",
       "1                    7253.4  \n",
       "2                    7353.8  \n",
       "3                    7447.6  \n",
       "4                    7548.9  "
      ]
     },
     "execution_count": 88,
     "metadata": {},
     "output_type": "execute_result"
    }
   ],
   "source": [
    "# Read in employment data\n",
    "employment = pd.read_csv(\"../Data/ProcessedData/employment__cleaned.csv\")\n",
    "employment.head()"
   ]
  },
  {
   "cell_type": "code",
   "execution_count": 117,
   "id": "c0df97db",
   "metadata": {},
   "outputs": [],
   "source": [
    "# Get data to run correlation\n",
    "year = population[[\"Year\"]]\n",
    "gdp_aus_new = gdp_new[[\"Australia\"]].reset_index(drop=True)\n",
    "total_population = population[[\"EstimatedResidentPopulation\"]]\n",
    "total_employed = employment[[\"TotalEmployed\"]]\n",
    "total_employed_males = employment[[\"TotalEmployed_M\"]]\n",
    "total_employed_females = employment[[\"TotalEmployed_F\"]]\n",
    "total_unemployed = employment[[\"TotalUnemployed\"]]\n",
    "total_unemployed_males = employment[[\"TotalUnemployed_M\"]]\n",
    "total_unemployed_females = employment[[\"TotalUnemployed_F\"]]"
   ]
  },
  {
   "cell_type": "code",
   "execution_count": 169,
   "id": "33454c0b",
   "metadata": {},
   "outputs": [
    {
     "data": {
      "text/html": [
       "<div>\n",
       "<style scoped>\n",
       "    .dataframe tbody tr th:only-of-type {\n",
       "        vertical-align: middle;\n",
       "    }\n",
       "\n",
       "    .dataframe tbody tr th {\n",
       "        vertical-align: top;\n",
       "    }\n",
       "\n",
       "    .dataframe thead th {\n",
       "        text-align: right;\n",
       "    }\n",
       "</style>\n",
       "<table border=\"1\" class=\"dataframe\">\n",
       "  <thead>\n",
       "    <tr style=\"text-align: right;\">\n",
       "      <th></th>\n",
       "      <th>Aus_GDP</th>\n",
       "      <th>Pop</th>\n",
       "      <th>Tot Emp</th>\n",
       "      <th>Tot Emp_M</th>\n",
       "      <th>Tot Emp_F</th>\n",
       "      <th>Tot Unemp</th>\n",
       "      <th>Tot Unemp_M</th>\n",
       "      <th>Tot Unemp_F</th>\n",
       "    </tr>\n",
       "  </thead>\n",
       "  <tbody>\n",
       "    <tr>\n",
       "      <th>0</th>\n",
       "      <td>3.837755</td>\n",
       "      <td>18004.9</td>\n",
       "      <td>8205.6</td>\n",
       "      <td>4657.4</td>\n",
       "      <td>3548.3</td>\n",
       "      <td>723.5</td>\n",
       "      <td>434.2</td>\n",
       "      <td>289.3</td>\n",
       "    </tr>\n",
       "    <tr>\n",
       "      <th>1</th>\n",
       "      <td>3.878585</td>\n",
       "      <td>18224.8</td>\n",
       "      <td>8311.7</td>\n",
       "      <td>4724.4</td>\n",
       "      <td>3587.3</td>\n",
       "      <td>723.8</td>\n",
       "      <td>424.3</td>\n",
       "      <td>299.5</td>\n",
       "    </tr>\n",
       "    <tr>\n",
       "      <th>2</th>\n",
       "      <td>3.966538</td>\n",
       "      <td>18423.0</td>\n",
       "      <td>8345.6</td>\n",
       "      <td>4731.9</td>\n",
       "      <td>3613.6</td>\n",
       "      <td>735.2</td>\n",
       "      <td>427.5</td>\n",
       "      <td>307.7</td>\n",
       "    </tr>\n",
       "    <tr>\n",
       "      <th>3</th>\n",
       "      <td>4.576689</td>\n",
       "      <td>18607.6</td>\n",
       "      <td>8516.8</td>\n",
       "      <td>4801.8</td>\n",
       "      <td>3715.0</td>\n",
       "      <td>702.8</td>\n",
       "      <td>419.9</td>\n",
       "      <td>282.9</td>\n",
       "    </tr>\n",
       "    <tr>\n",
       "      <th>4</th>\n",
       "      <td>5.073599</td>\n",
       "      <td>18812.3</td>\n",
       "      <td>8673.2</td>\n",
       "      <td>4897.8</td>\n",
       "      <td>3775.5</td>\n",
       "      <td>600.6</td>\n",
       "      <td>348.6</td>\n",
       "      <td>252.0</td>\n",
       "    </tr>\n",
       "  </tbody>\n",
       "</table>\n",
       "</div>"
      ],
      "text/plain": [
       "    Aus_GDP      Pop  Tot Emp  Tot Emp_M  Tot Emp_F  Tot Unemp  Tot Unemp_M  \\\n",
       "0  3.837755  18004.9   8205.6     4657.4     3548.3      723.5        434.2   \n",
       "1  3.878585  18224.8   8311.7     4724.4     3587.3      723.8        424.3   \n",
       "2  3.966538  18423.0   8345.6     4731.9     3613.6      735.2        427.5   \n",
       "3  4.576689  18607.6   8516.8     4801.8     3715.0      702.8        419.9   \n",
       "4  5.073599  18812.3   8673.2     4897.8     3775.5      600.6        348.6   \n",
       "\n",
       "   Tot Unemp_F  \n",
       "0        289.3  \n",
       "1        299.5  \n",
       "2        307.7  \n",
       "3        282.9  \n",
       "4        252.0  "
      ]
     },
     "execution_count": 169,
     "metadata": {},
     "output_type": "execute_result"
    }
   ],
   "source": [
    "# Create df to correlate\n",
    "correlation_df = pd.concat([gdp_aus_new,\n",
    "                            total_population,\n",
    "                            total_employed, \n",
    "                            total_employed_males,\n",
    "                            total_employed_females,\n",
    "                            total_unemployed,\n",
    "                            total_unemployed_males,\n",
    "                            total_unemployed_females], axis=1)\n",
    "\n",
    "# Rename to easy convention\n",
    "correlation_renamed_df = correlation_df.rename(columns={\"Australia\": \"Aus_GDP\",\n",
    "                                                        \"EstimatedResidentPopulation\": \"Pop\",\n",
    "                                                        \"TotalEmployed\": \"Tot Emp\",\n",
    "                                                        \"TotalEmployed_M\": \"Tot Emp_M\",\n",
    "                                                        \"TotalEmployed_F\": \"Tot Emp_F\",\n",
    "                                                        \"TotalUnemployed\": \"Tot Unemp\",\n",
    "                                                        \"TotalUnemployed_M\": \"Tot Unemp_M\",\n",
    "                                                        \"TotalUnemployed_F\": \"Tot Unemp_F\"})\n",
    "\n",
    "#Check dataset\n",
    "correlation_renamed_df.head()\n"
   ]
  },
  {
   "cell_type": "code",
   "execution_count": 170,
   "id": "8f51bddb",
   "metadata": {},
   "outputs": [
    {
     "data": {
      "text/html": [
       "<div>\n",
       "<style scoped>\n",
       "    .dataframe tbody tr th:only-of-type {\n",
       "        vertical-align: middle;\n",
       "    }\n",
       "\n",
       "    .dataframe tbody tr th {\n",
       "        vertical-align: top;\n",
       "    }\n",
       "\n",
       "    .dataframe thead th {\n",
       "        text-align: right;\n",
       "    }\n",
       "</style>\n",
       "<table border=\"1\" class=\"dataframe\">\n",
       "  <thead>\n",
       "    <tr style=\"text-align: right;\">\n",
       "      <th></th>\n",
       "      <th>Aus_GDP</th>\n",
       "      <th>Pop</th>\n",
       "      <th>Tot Emp</th>\n",
       "      <th>Tot Emp_M</th>\n",
       "      <th>Tot Emp_F</th>\n",
       "      <th>Tot Unemp</th>\n",
       "      <th>Tot Unemp_M</th>\n",
       "      <th>Tot Unemp_F</th>\n",
       "    </tr>\n",
       "  </thead>\n",
       "  <tbody>\n",
       "    <tr>\n",
       "      <th>Aus_GDP</th>\n",
       "      <td>1.000000</td>\n",
       "      <td>-0.691931</td>\n",
       "      <td>-0.656788</td>\n",
       "      <td>-0.639940</td>\n",
       "      <td>-0.670489</td>\n",
       "      <td>-0.491373</td>\n",
       "      <td>-0.325596</td>\n",
       "      <td>-0.649577</td>\n",
       "    </tr>\n",
       "    <tr>\n",
       "      <th>Pop</th>\n",
       "      <td>-0.691931</td>\n",
       "      <td>1.000000</td>\n",
       "      <td>0.988475</td>\n",
       "      <td>0.983934</td>\n",
       "      <td>0.991038</td>\n",
       "      <td>0.363551</td>\n",
       "      <td>0.114982</td>\n",
       "      <td>0.647975</td>\n",
       "    </tr>\n",
       "    <tr>\n",
       "      <th>Tot Emp</th>\n",
       "      <td>-0.656788</td>\n",
       "      <td>0.988475</td>\n",
       "      <td>1.000000</td>\n",
       "      <td>0.999140</td>\n",
       "      <td>0.999353</td>\n",
       "      <td>0.228864</td>\n",
       "      <td>-0.022022</td>\n",
       "      <td>0.533304</td>\n",
       "    </tr>\n",
       "    <tr>\n",
       "      <th>Tot Emp_M</th>\n",
       "      <td>-0.639940</td>\n",
       "      <td>0.983934</td>\n",
       "      <td>0.999140</td>\n",
       "      <td>1.000000</td>\n",
       "      <td>0.997002</td>\n",
       "      <td>0.207767</td>\n",
       "      <td>-0.043831</td>\n",
       "      <td>0.515813</td>\n",
       "    </tr>\n",
       "    <tr>\n",
       "      <th>Tot Emp_F</th>\n",
       "      <td>-0.670489</td>\n",
       "      <td>0.991038</td>\n",
       "      <td>0.999353</td>\n",
       "      <td>0.997002</td>\n",
       "      <td>1.000000</td>\n",
       "      <td>0.246857</td>\n",
       "      <td>-0.003061</td>\n",
       "      <td>0.547741</td>\n",
       "    </tr>\n",
       "    <tr>\n",
       "      <th>Tot Unemp</th>\n",
       "      <td>-0.491373</td>\n",
       "      <td>0.363551</td>\n",
       "      <td>0.228864</td>\n",
       "      <td>0.207767</td>\n",
       "      <td>0.246857</td>\n",
       "      <td>1.000000</td>\n",
       "      <td>0.959710</td>\n",
       "      <td>0.927733</td>\n",
       "    </tr>\n",
       "    <tr>\n",
       "      <th>Tot Unemp_M</th>\n",
       "      <td>-0.325596</td>\n",
       "      <td>0.114982</td>\n",
       "      <td>-0.022022</td>\n",
       "      <td>-0.043831</td>\n",
       "      <td>-0.003061</td>\n",
       "      <td>0.959710</td>\n",
       "      <td>1.000000</td>\n",
       "      <td>0.785476</td>\n",
       "    </tr>\n",
       "    <tr>\n",
       "      <th>Tot Unemp_F</th>\n",
       "      <td>-0.649577</td>\n",
       "      <td>0.647975</td>\n",
       "      <td>0.533304</td>\n",
       "      <td>0.515813</td>\n",
       "      <td>0.547741</td>\n",
       "      <td>0.927733</td>\n",
       "      <td>0.785476</td>\n",
       "      <td>1.000000</td>\n",
       "    </tr>\n",
       "  </tbody>\n",
       "</table>\n",
       "</div>"
      ],
      "text/plain": [
       "              Aus_GDP       Pop   Tot Emp  Tot Emp_M  Tot Emp_F  Tot Unemp  \\\n",
       "Aus_GDP      1.000000 -0.691931 -0.656788  -0.639940  -0.670489  -0.491373   \n",
       "Pop         -0.691931  1.000000  0.988475   0.983934   0.991038   0.363551   \n",
       "Tot Emp     -0.656788  0.988475  1.000000   0.999140   0.999353   0.228864   \n",
       "Tot Emp_M   -0.639940  0.983934  0.999140   1.000000   0.997002   0.207767   \n",
       "Tot Emp_F   -0.670489  0.991038  0.999353   0.997002   1.000000   0.246857   \n",
       "Tot Unemp   -0.491373  0.363551  0.228864   0.207767   0.246857   1.000000   \n",
       "Tot Unemp_M -0.325596  0.114982 -0.022022  -0.043831  -0.003061   0.959710   \n",
       "Tot Unemp_F -0.649577  0.647975  0.533304   0.515813   0.547741   0.927733   \n",
       "\n",
       "             Tot Unemp_M  Tot Unemp_F  \n",
       "Aus_GDP        -0.325596    -0.649577  \n",
       "Pop             0.114982     0.647975  \n",
       "Tot Emp        -0.022022     0.533304  \n",
       "Tot Emp_M      -0.043831     0.515813  \n",
       "Tot Emp_F      -0.003061     0.547741  \n",
       "Tot Unemp       0.959710     0.927733  \n",
       "Tot Unemp_M     1.000000     0.785476  \n",
       "Tot Unemp_F     0.785476     1.000000  "
      ]
     },
     "execution_count": 170,
     "metadata": {},
     "output_type": "execute_result"
    }
   ],
   "source": [
    "correlation = correlation_renamed_df.corr()\n",
    "correlation"
   ]
  },
  {
   "cell_type": "code",
   "execution_count": 171,
   "id": "b26fd975",
   "metadata": {},
   "outputs": [
    {
     "data": {},
     "metadata": {},
     "output_type": "display_data"
    },
    {
     "data": {
      "application/vnd.holoviews_exec.v0+json": "",
      "text/html": [
       "<div id='13854'>\n",
       "\n",
       "\n",
       "\n",
       "\n",
       "\n",
       "  <div class=\"bk-root\" id=\"2b1e7638-0483-4a07-9396-044493aa7dc8\" data-root-id=\"13854\"></div>\n",
       "</div>\n",
       "<script type=\"application/javascript\">(function(root) {\n",
       "  function embed_document(root) {\n",
       "    var docs_json = {\"c23c3b78-2800-45ba-84f2-da49b6a38965\":{\"defs\":[],\"roots\":{\"references\":[{\"attributes\":{\"children\":[{\"id\":\"13855\"},{\"id\":\"13859\"},{\"id\":\"13927\"}],\"margin\":[0,0,0,0],\"name\":\"Row60498\",\"tags\":[\"embedded\"]},\"id\":\"13854\",\"type\":\"Row\"},{\"attributes\":{\"source\":{\"id\":\"13888\"}},\"id\":\"13896\",\"type\":\"CDSView\"},{\"attributes\":{\"axis_label\":\"\",\"formatter\":{\"id\":\"13899\"},\"major_label_policy\":{\"id\":\"13900\"},\"ticker\":{\"id\":\"13869\"}},\"id\":\"13868\",\"type\":\"CategoricalAxis\"},{\"attributes\":{},\"id\":\"13897\",\"type\":\"BasicTicker\"},{\"attributes\":{\"axis\":{\"id\":\"13868\"},\"grid_line_color\":null,\"ticker\":null},\"id\":\"13870\",\"type\":\"Grid\"},{\"attributes\":{},\"id\":\"13864\",\"type\":\"CategoricalScale\"},{\"attributes\":{\"text_color\":\"black\",\"text_font_size\":\"12pt\"},\"id\":\"13860\",\"type\":\"Title\"},{\"attributes\":{\"callback\":null,\"renderers\":[{\"id\":\"13895\"}],\"tags\":[\"hv_created\"],\"tooltips\":[[\"columns\",\"@{columns}\"],[\"index\",\"@{index}\"],[\"value\",\"@{value}\"]]},\"id\":\"13858\",\"type\":\"HoverTool\"},{\"attributes\":{\"axis_label\":\"\",\"formatter\":{\"id\":\"13902\"},\"major_label_policy\":{\"id\":\"13903\"},\"ticker\":{\"id\":\"13872\"}},\"id\":\"13871\",\"type\":\"CategoricalAxis\"},{\"attributes\":{\"margin\":[5,5,5,5],\"name\":\"HSpacer60502\",\"sizing_mode\":\"stretch_width\"},\"id\":\"13855\",\"type\":\"Spacer\"},{\"attributes\":{},\"id\":\"13866\",\"type\":\"CategoricalScale\"},{\"attributes\":{},\"id\":\"13869\",\"type\":\"CategoricalTicker\"},{\"attributes\":{},\"id\":\"13900\",\"type\":\"AllLabels\"},{\"attributes\":{\"active_multi\":null,\"tools\":[{\"id\":\"13858\"},{\"id\":\"13874\"},{\"id\":\"13875\"},{\"id\":\"13876\"},{\"id\":\"13877\"},{\"id\":\"13878\"}]},\"id\":\"13880\",\"type\":\"Toolbar\"},{\"attributes\":{},\"id\":\"13872\",\"type\":\"CategoricalTicker\"},{\"attributes\":{\"axis\":{\"id\":\"13871\"},\"dimension\":1,\"grid_line_color\":null,\"ticker\":null},\"id\":\"13873\",\"type\":\"Grid\"},{\"attributes\":{},\"id\":\"13906\",\"type\":\"NoOverlap\"},{\"attributes\":{},\"id\":\"13889\",\"type\":\"Selection\"},{\"attributes\":{\"bottom_units\":\"screen\",\"fill_alpha\":0.5,\"fill_color\":\"lightgrey\",\"left_units\":\"screen\",\"level\":\"overlay\",\"line_alpha\":1.0,\"line_color\":\"black\",\"line_dash\":[4,4],\"line_width\":2,\"right_units\":\"screen\",\"syncable\":false,\"top_units\":\"screen\"},\"id\":\"13879\",\"type\":\"BoxAnnotation\"},{\"attributes\":{},\"id\":\"13899\",\"type\":\"CategoricalTickFormatter\"},{\"attributes\":{},\"id\":\"13903\",\"type\":\"AllLabels\"},{\"attributes\":{\"fill_alpha\":{\"value\":0.9},\"fill_color\":{\"value\":\"cyan\"},\"height\":{\"value\":1},\"line_alpha\":{\"value\":0},\"line_color\":{\"value\":\"cyan\"},\"width\":{\"value\":1},\"x\":{\"field\":\"columns\"},\"y\":{\"field\":\"index\"}},\"id\":\"13894\",\"type\":\"Rect\"},{\"attributes\":{},\"id\":\"13914\",\"type\":\"UnionRenderers\"},{\"attributes\":{\"margin\":[5,5,5,5],\"name\":\"HSpacer60503\",\"sizing_mode\":\"stretch_width\"},\"id\":\"13927\",\"type\":\"Spacer\"},{\"attributes\":{\"fill_alpha\":{\"value\":0.9},\"fill_color\":{\"field\":\"zvalues\",\"transform\":{\"id\":\"13887\"}},\"height\":{\"value\":1},\"line_alpha\":{\"value\":0},\"line_color\":{\"value\":\"#1f77b4\"},\"width\":{\"value\":1},\"x\":{\"field\":\"columns\"},\"y\":{\"field\":\"index\"}},\"id\":\"13891\",\"type\":\"Rect\"},{\"attributes\":{},\"id\":\"13874\",\"type\":\"SaveTool\"},{\"attributes\":{\"factors\":[\"Aus_GDP\",\"Pop\",\"Tot Emp\",\"Tot Emp_M\",\"Tot Emp_F\",\"Tot Unemp\",\"Tot Unemp_M\",\"Tot Unemp_F\"],\"tags\":[[[\"columns\",\"columns\",null]]]},\"id\":\"13856\",\"type\":\"FactorRange\"},{\"attributes\":{},\"id\":\"13875\",\"type\":\"PanTool\"},{\"attributes\":{\"factors\":[\"Aus_GDP\",\"Pop\",\"Tot Emp\",\"Tot Emp_M\",\"Tot Emp_F\",\"Tot Unemp\",\"Tot Unemp_M\",\"Tot Unemp_F\"],\"tags\":[[[\"index\",\"index\",null]]]},\"id\":\"13857\",\"type\":\"FactorRange\"},{\"attributes\":{\"fill_alpha\":{\"value\":0.9},\"fill_color\":{\"field\":\"zvalues\",\"transform\":{\"id\":\"13887\"}},\"height\":{\"value\":1},\"line_alpha\":{\"value\":0},\"line_color\":{\"value\":\"#1f77b4\"},\"width\":{\"value\":1},\"x\":{\"field\":\"columns\"},\"y\":{\"field\":\"index\"}},\"id\":\"13893\",\"type\":\"Rect\"},{\"attributes\":{},\"id\":\"13878\",\"type\":\"ResetTool\"},{\"attributes\":{\"below\":[{\"id\":\"13868\"}],\"center\":[{\"id\":\"13870\"},{\"id\":\"13873\"}],\"height\":300,\"left\":[{\"id\":\"13871\"}],\"margin\":[5,5,5,5],\"min_border_bottom\":10,\"min_border_left\":10,\"min_border_right\":10,\"min_border_top\":10,\"renderers\":[{\"id\":\"13895\"}],\"right\":[{\"id\":\"13898\"}],\"sizing_mode\":\"fixed\",\"title\":{\"id\":\"13860\"},\"toolbar\":{\"id\":\"13880\"},\"width\":700,\"x_range\":{\"id\":\"13856\"},\"x_scale\":{\"id\":\"13864\"},\"y_range\":{\"id\":\"13857\"},\"y_scale\":{\"id\":\"13866\"}},\"id\":\"13859\",\"subtype\":\"Figure\",\"type\":\"Plot\"},{\"attributes\":{\"fill_alpha\":{\"value\":0.9},\"fill_color\":{\"field\":\"zvalues\",\"transform\":{\"id\":\"13887\"}},\"height\":{\"value\":1},\"line_alpha\":{\"value\":0},\"line_color\":{\"value\":\"#1f77b4\"},\"width\":{\"value\":1},\"x\":{\"field\":\"columns\"},\"y\":{\"field\":\"index\"}},\"id\":\"13892\",\"type\":\"Rect\"},{\"attributes\":{},\"id\":\"13902\",\"type\":\"CategoricalTickFormatter\"},{\"attributes\":{},\"id\":\"13876\",\"type\":\"WheelZoomTool\"},{\"attributes\":{\"high\":1.0,\"low\":-0.691931445784184,\"nan_color\":\"white\",\"palette\":[\"#1331c1\",\"#1832c1\",\"#1c32c0\",\"#1f33c0\",\"#2234bf\",\"#2534bf\",\"#2735bf\",\"#2a36be\",\"#2c37be\",\"#2e37be\",\"#3038bd\",\"#3239bd\",\"#343abd\",\"#363abc\",\"#383bbc\",\"#393cbc\",\"#3b3cbb\",\"#3d3dbb\",\"#3e3ebb\",\"#403fba\",\"#413fba\",\"#4240b9\",\"#4441b9\",\"#4542b9\",\"#4642b8\",\"#4843b8\",\"#4944b8\",\"#4a44b7\",\"#4b45b7\",\"#4d46b7\",\"#4e47b6\",\"#4f47b6\",\"#5048b6\",\"#5149b5\",\"#524ab5\",\"#534ab4\",\"#544bb4\",\"#554cb4\",\"#564db3\",\"#574db3\",\"#584eb3\",\"#594fb2\",\"#5a50b2\",\"#5b50b2\",\"#5c51b1\",\"#5d52b1\",\"#5e52b0\",\"#5f53b0\",\"#6054b0\",\"#6155af\",\"#6155af\",\"#6256af\",\"#6357ae\",\"#6458ae\",\"#6558ad\",\"#6659ad\",\"#665aad\",\"#675bac\",\"#685bac\",\"#695cac\",\"#695dab\",\"#6a5eab\",\"#6b5eab\",\"#6c5faa\",\"#6c60aa\",\"#6d61a9\",\"#6e61a9\",\"#6f62a9\",\"#6f63a8\",\"#7064a8\",\"#7164a7\",\"#7165a7\",\"#7266a7\",\"#7367a6\",\"#7367a6\",\"#7468a6\",\"#7569a5\",\"#756aa5\",\"#766aa4\",\"#776ba4\",\"#776ca4\",\"#786da3\",\"#786da3\",\"#796ea2\",\"#7a6fa2\",\"#7a70a2\",\"#7b70a1\",\"#7b71a1\",\"#7c72a0\",\"#7d73a0\",\"#7d73a0\",\"#7e749f\",\"#7e759f\",\"#7f769e\",\"#80769e\",\"#80779e\",\"#81789d\",\"#81799d\",\"#82799c\",\"#827a9c\",\"#837b9c\",\"#837c9b\",\"#847c9b\",\"#847d9a\",\"#857e9a\",\"#857f9a\",\"#868099\",\"#868099\",\"#878198\",\"#878298\",\"#888398\",\"#888397\",\"#898497\",\"#898596\",\"#8a8696\",\"#8a8695\",\"#8b8795\",\"#8b8895\",\"#8c8994\",\"#8c8a94\",\"#8d8a93\",\"#8d8b93\",\"#8e8c92\",\"#8e8d92\",\"#8e8d92\",\"#8f8e91\",\"#8f8f91\",\"#909090\",\"#919090\",\"#92918f\",\"#93928f\",\"#94928e\",\"#95938d\",\"#96938d\",\"#97948c\",\"#98958c\",\"#99958b\",\"#9a968a\",\"#9b968a\",\"#9c9789\",\"#9d9888\",\"#9e9888\",\"#9f9987\",\"#a09a87\",\"#a19a86\",\"#a29b85\",\"#a29b85\",\"#a39c84\",\"#a49d83\",\"#a59d83\",\"#a69e82\",\"#a79f82\",\"#a89f81\",\"#a9a080\",\"#aaa080\",\"#aba17f\",\"#aca27e\",\"#ada27e\",\"#aea37d\",\"#aea47c\",\"#afa47c\",\"#b0a57b\",\"#b1a67a\",\"#b2a67a\",\"#b3a779\",\"#b4a778\",\"#b5a878\",\"#b6a977\",\"#b6a976\",\"#b7aa76\",\"#b8ab75\",\"#b9ab74\",\"#baac73\",\"#bbad73\",\"#bcad72\",\"#bdae71\",\"#bdae71\",\"#beaf70\",\"#bfb06f\",\"#c0b06e\",\"#c1b16e\",\"#c2b26d\",\"#c3b26c\",\"#c3b36b\",\"#c4b46b\",\"#c5b46a\",\"#c6b569\",\"#c7b668\",\"#c8b668\",\"#c8b767\",\"#c9b866\",\"#cab865\",\"#cbb965\",\"#ccba64\",\"#ccba63\",\"#cdbb62\",\"#cebc61\",\"#cfbc60\",\"#d0bd60\",\"#d1be5f\",\"#d1be5e\",\"#d2bf5d\",\"#d3c05c\",\"#d4c05b\",\"#d5c15a\",\"#d5c25a\",\"#d6c259\",\"#d7c358\",\"#d8c457\",\"#d9c456\",\"#d9c555\",\"#dac654\",\"#dbc653\",\"#dcc752\",\"#ddc851\",\"#ddc850\",\"#dec94f\",\"#dfca4e\",\"#e0ca4d\",\"#e1cb4c\",\"#e1cc4b\",\"#e2cc4a\",\"#e3cd49\",\"#e4ce48\",\"#e4ce47\",\"#e5cf46\",\"#e6d044\",\"#e7d043\",\"#e8d142\",\"#e8d241\",\"#e9d240\",\"#ead33e\",\"#ebd43d\",\"#ebd43c\",\"#ecd53a\",\"#edd639\",\"#eed637\",\"#efd736\",\"#efd834\",\"#f0d833\",\"#f1d931\",\"#f2da30\",\"#f2da2e\",\"#f3db2c\",\"#f4dc2a\",\"#f5dd28\",\"#f5dd26\",\"#f6de24\",\"#f7df22\",\"#f8df1f\",\"#f8e01d\",\"#f9e11a\",\"#fae116\",\"#fbe213\",\"#fbe30e\",\"#fce309\"]},\"id\":\"13887\",\"type\":\"LinearColorMapper\"},{\"attributes\":{\"data_source\":{\"id\":\"13888\"},\"glyph\":{\"id\":\"13891\"},\"hover_glyph\":{\"id\":\"13894\"},\"muted_glyph\":null,\"nonselection_glyph\":{\"id\":\"13892\"},\"selection_glyph\":{\"id\":\"13893\"},\"view\":{\"id\":\"13896\"}},\"id\":\"13895\",\"type\":\"GlyphRenderer\"},{\"attributes\":{\"data\":{\"columns\":[\"Aus_GDP\",\"Aus_GDP\",\"Aus_GDP\",\"Aus_GDP\",\"Aus_GDP\",\"Aus_GDP\",\"Aus_GDP\",\"Aus_GDP\",\"Pop\",\"Pop\",\"Pop\",\"Pop\",\"Pop\",\"Pop\",\"Pop\",\"Pop\",\"Tot Emp\",\"Tot Emp\",\"Tot Emp\",\"Tot Emp\",\"Tot Emp\",\"Tot Emp\",\"Tot Emp\",\"Tot Emp\",\"Tot Emp_M\",\"Tot Emp_M\",\"Tot Emp_M\",\"Tot Emp_M\",\"Tot Emp_M\",\"Tot Emp_M\",\"Tot Emp_M\",\"Tot Emp_M\",\"Tot Emp_F\",\"Tot Emp_F\",\"Tot Emp_F\",\"Tot Emp_F\",\"Tot Emp_F\",\"Tot Emp_F\",\"Tot Emp_F\",\"Tot Emp_F\",\"Tot Unemp\",\"Tot Unemp\",\"Tot Unemp\",\"Tot Unemp\",\"Tot Unemp\",\"Tot Unemp\",\"Tot Unemp\",\"Tot Unemp\",\"Tot Unemp_M\",\"Tot Unemp_M\",\"Tot Unemp_M\",\"Tot Unemp_M\",\"Tot Unemp_M\",\"Tot Unemp_M\",\"Tot Unemp_M\",\"Tot Unemp_M\",\"Tot Unemp_F\",\"Tot Unemp_F\",\"Tot Unemp_F\",\"Tot Unemp_F\",\"Tot Unemp_F\",\"Tot Unemp_F\",\"Tot Unemp_F\",\"Tot Unemp_F\"],\"index\":[\"Aus_GDP\",\"Pop\",\"Tot Emp\",\"Tot Emp_M\",\"Tot Emp_F\",\"Tot Unemp\",\"Tot Unemp_M\",\"Tot Unemp_F\",\"Aus_GDP\",\"Pop\",\"Tot Emp\",\"Tot Emp_M\",\"Tot Emp_F\",\"Tot Unemp\",\"Tot Unemp_M\",\"Tot Unemp_F\",\"Aus_GDP\",\"Pop\",\"Tot Emp\",\"Tot Emp_M\",\"Tot Emp_F\",\"Tot Unemp\",\"Tot Unemp_M\",\"Tot Unemp_F\",\"Aus_GDP\",\"Pop\",\"Tot Emp\",\"Tot Emp_M\",\"Tot Emp_F\",\"Tot Unemp\",\"Tot Unemp_M\",\"Tot Unemp_F\",\"Aus_GDP\",\"Pop\",\"Tot Emp\",\"Tot Emp_M\",\"Tot Emp_F\",\"Tot Unemp\",\"Tot Unemp_M\",\"Tot Unemp_F\",\"Aus_GDP\",\"Pop\",\"Tot Emp\",\"Tot Emp_M\",\"Tot Emp_F\",\"Tot Unemp\",\"Tot Unemp_M\",\"Tot Unemp_F\",\"Aus_GDP\",\"Pop\",\"Tot Emp\",\"Tot Emp_M\",\"Tot Emp_F\",\"Tot Unemp\",\"Tot Unemp_M\",\"Tot Unemp_F\",\"Aus_GDP\",\"Pop\",\"Tot Emp\",\"Tot Emp_M\",\"Tot Emp_F\",\"Tot Unemp\",\"Tot Unemp_M\",\"Tot Unemp_F\"],\"value\":[\"1\",\"-0.69193\",\"-0.65679\",\"-0.63994\",\"-0.67049\",\"-0.49137\",\"-0.3256\",\"-0.64958\",\"-0.69193\",\"1\",\"0.98847\",\"0.98393\",\"0.99104\",\"0.36355\",\"0.11498\",\"0.64797\",\"-0.65679\",\"0.98847\",\"1\",\"0.99914\",\"0.99935\",\"0.22886\",\"-0.022022\",\"0.5333\",\"-0.63994\",\"0.98393\",\"0.99914\",\"1\",\"0.997\",\"0.20777\",\"-0.043831\",\"0.51581\",\"-0.67049\",\"0.99104\",\"0.99935\",\"0.997\",\"1\",\"0.24686\",\"-0.0030607\",\"0.54774\",\"-0.49137\",\"0.36355\",\"0.22886\",\"0.20777\",\"0.24686\",\"1\",\"0.95971\",\"0.92773\",\"-0.3256\",\"0.11498\",\"-0.022022\",\"-0.043831\",\"-0.0030607\",\"0.95971\",\"1\",\"0.78548\",\"-0.64958\",\"0.64797\",\"0.5333\",\"0.51581\",\"0.54774\",\"0.92773\",\"0.78548\",\"1\"],\"zvalues\":{\"__ndarray__\":\"AAAAAAAA8D838lZqTSTmv7u67JFoBOW/+46KemR65L/NekE9pXTlv+RYCqqnct+/WWW6U4/W1L/8dvVKVsnkvzfyVmpNJOa/AAAAAAAA8D+2sbwflqHvP51H+QtkfO8/XIO3PZW27z9rouxwa0TXPzVZXhRwb70/NfAsEDW85D+7uuyRaATlv7axvB+Woe8/AAAAAAAA8D/zqqOX9PjvP2pmFnKy+u8/G7srd21LzT9vmiU6+oyWvwFkEzLTEOE/+46KemR65L+dR/kLZHzvP/Oqo5f0+O8/AAAAAAAA8D+V8bkHcOfvP7mjtJQcmMo/3peWsRRxpr9Djv2uiYHgP816QT2ldOW/XIO3PZW27z9qZhZysvrvP5XxuQdw5+8/AAAAAAAA8D8OZJakBJnPP4tv4/PZEmm/Sqn+nRiH4T/kWAqqp3Lfv2ui7HBrRNc/G7srd21LzT+5o7SUHJjKPw5klqQEmc8/AAAAAAAA8D9rG3wo8rXuP5SfzwP9r+0/WWW6U4/W1L81WV4UcG+9P2+aJTr6jJa/3peWsRRxpr+Lb+Pz2RJpv2sbfCjyte4/AAAAAAAA8D8gvNGRnyLpP/x29UpWyeS/NfAsEDW85D8BZBMy0xDhP0OO/a6JgeA/Sqn+nRiH4T+Un88D/a/tPyC80ZGfIuk/AAAAAAAA8D8=\",\"dtype\":\"float64\",\"order\":\"little\",\"shape\":[64]}},\"selected\":{\"id\":\"13889\"},\"selection_policy\":{\"id\":\"13914\"}},\"id\":\"13888\",\"type\":\"ColumnDataSource\"},{\"attributes\":{\"overlay\":{\"id\":\"13879\"}},\"id\":\"13877\",\"type\":\"BoxZoomTool\"},{\"attributes\":{\"bar_line_color\":\"black\",\"color_mapper\":{\"id\":\"13887\"},\"label_standoff\":8,\"location\":[0,0],\"major_label_policy\":{\"id\":\"13906\"},\"major_tick_line_color\":\"black\",\"ticker\":{\"id\":\"13897\"}},\"id\":\"13898\",\"type\":\"ColorBar\"}],\"root_ids\":[\"13854\"]},\"title\":\"Bokeh Application\",\"version\":\"2.3.2\"}};\n",
       "    var render_items = [{\"docid\":\"c23c3b78-2800-45ba-84f2-da49b6a38965\",\"root_ids\":[\"13854\"],\"roots\":{\"13854\":\"2b1e7638-0483-4a07-9396-044493aa7dc8\"}}];\n",
       "    root.Bokeh.embed.embed_items_notebook(docs_json, render_items);\n",
       "  }\n",
       "  if (root.Bokeh !== undefined && root.Bokeh.Panel !== undefined && root['Plotly'] !== undefined ) {\n",
       "    embed_document(root);\n",
       "  } else {\n",
       "    var attempts = 0;\n",
       "    var timer = setInterval(function(root) {\n",
       "      if (root.Bokeh !== undefined && root.Bokeh.Panel !== undefined && root['Plotly'] !== undefined) {\n",
       "        clearInterval(timer);\n",
       "        embed_document(root);\n",
       "      } else if (document.readyState == \"complete\") {\n",
       "        attempts++;\n",
       "        if (attempts > 100) {\n",
       "          clearInterval(timer);\n",
       "          console.log(\"Bokeh: ERROR: Unable to run BokehJS code because BokehJS library is missing\");\n",
       "        }\n",
       "      }\n",
       "    }, 10, root)\n",
       "  }\n",
       "})(window);</script>"
      ],
      "text/plain": [
       ":HeatMap   [columns,index]   (value)"
      ]
     },
     "execution_count": 171,
     "metadata": {
      "application/vnd.holoviews_exec.v0+json": {
       "id": "13854"
      }
     },
     "output_type": "execute_result"
    }
   ],
   "source": [
    "heatmap_plot = correlation.hvplot.heatmap(ymarks_hover_color='cyan',\n",
    "                                          hover_color='cyan',\n",
    "                                          alpha=0.9,\n",
    "                                          colorbar=True,\n",
    "                                          cmap='bjy')\n",
    "heatmap_plot"
   ]
  },
  {
   "cell_type": "code",
   "execution_count": 172,
   "id": "5aca7a55",
   "metadata": {},
   "outputs": [
    {
     "data": {
      "application/vnd.plotly.v1+json": {
       "config": {
        "linkText": "Export to plot.ly",
        "plotlyServerURL": "https://plot.ly",
        "showLink": true
       },
       "data": [
        {
         "colorscale": [
          [
           0,
           "rgb(255, 153, 51)"
          ],
          [
           0.1111111111111111,
           "rgb(55, 128, 191)"
          ],
          [
           0.2222222222222222,
           "rgb(50, 171, 96)"
          ],
          [
           0.3333333333333333,
           "rgb(128, 0, 128)"
          ],
          [
           0.4444444444444444,
           "rgb(219, 64, 82)"
          ],
          [
           0.5555555555555556,
           "rgb(0, 128, 128)"
          ],
          [
           0.6666666666666666,
           "rgb(255, 255, 51)"
          ],
          [
           0.7777777777777778,
           "rgb(128, 128, 0)"
          ],
          [
           0.8888888888888888,
           "rgb(251, 128, 114)"
          ],
          [
           1,
           "rgb(128, 177, 211)"
          ]
         ],
         "type": "heatmap",
         "x": [
          "Aus_GDP",
          "Pop",
          "Tot Emp",
          "Tot Emp_M",
          "Tot Emp_F",
          "Tot Unemp",
          "Tot Unemp_M",
          "Tot Unemp_F"
         ],
         "y": [
          "Aus_GDP",
          "Pop",
          "Tot Emp",
          "Tot Emp_M",
          "Tot Emp_F",
          "Tot Unemp",
          "Tot Unemp_M",
          "Tot Unemp_F"
         ],
         "z": [
          [
           1,
           -0.691931445784184,
           -0.656788144120433,
           -0.6399404900916744,
           -0.6704889484788851,
           -0.49137298207769065,
           -0.3255956952721895,
           -0.6495772804298379
          ],
          [
           -0.691931445784184,
           1,
           0.988474905001161,
           0.9839344247686658,
           0.9910379605681601,
           0.3635510065819633,
           0.11498165604857465,
           0.6479745212486764
          ],
          [
           -0.656788144120433,
           0.988474905001161,
           1,
           0.9991400682168589,
           0.999352667643689,
           0.22886436766517523,
           -0.022022161292080285,
           0.5333038309137238
          ],
          [
           -0.6399404900916744,
           0.9839344247686658,
           0.9991400682168589,
           1,
           0.9970016623406531,
           0.20776707898155936,
           -0.04383148830247284,
           0.5158127229482904
          ],
          [
           -0.6704889484788851,
           0.9910379605681601,
           0.999352667643689,
           0.9970016623406531,
           1,
           0.24685724293229366,
           -0.0030607468498668514,
           0.54774123056749
          ],
          [
           -0.49137298207769065,
           0.3635510065819633,
           0.22886436766517523,
           0.20776707898155936,
           0.24685724293229366,
           1,
           0.9597101965635891,
           0.9277329515871195
          ],
          [
           -0.3255956952721895,
           0.11498165604857465,
           -0.022022161292080285,
           -0.04383148830247284,
           -0.0030607468498668514,
           0.9597101965635891,
           1,
           0.7854764793427229
          ],
          [
           -0.6495772804298379,
           0.6479745212486764,
           0.5333038309137238,
           0.5158127229482904,
           0.54774123056749,
           0.9277329515871195,
           0.7854764793427229,
           1
          ]
         ],
         "zmax": 1,
         "zmin": -0.691931445784184
        }
       ],
       "layout": {
        "autosize": true,
        "legend": {
         "bgcolor": "#151516",
         "font": {
          "color": "#D9D9D9"
         }
        },
        "paper_bgcolor": "#151516",
        "plot_bgcolor": "#151516",
        "template": {
         "data": {
          "bar": [
           {
            "error_x": {
             "color": "#2a3f5f"
            },
            "error_y": {
             "color": "#2a3f5f"
            },
            "marker": {
             "line": {
              "color": "#E5ECF6",
              "width": 0.5
             }
            },
            "type": "bar"
           }
          ],
          "barpolar": [
           {
            "marker": {
             "line": {
              "color": "#E5ECF6",
              "width": 0.5
             }
            },
            "type": "barpolar"
           }
          ],
          "carpet": [
           {
            "aaxis": {
             "endlinecolor": "#2a3f5f",
             "gridcolor": "white",
             "linecolor": "white",
             "minorgridcolor": "white",
             "startlinecolor": "#2a3f5f"
            },
            "baxis": {
             "endlinecolor": "#2a3f5f",
             "gridcolor": "white",
             "linecolor": "white",
             "minorgridcolor": "white",
             "startlinecolor": "#2a3f5f"
            },
            "type": "carpet"
           }
          ],
          "choropleth": [
           {
            "colorbar": {
             "outlinewidth": 0,
             "ticks": ""
            },
            "type": "choropleth"
           }
          ],
          "contour": [
           {
            "colorbar": {
             "outlinewidth": 0,
             "ticks": ""
            },
            "colorscale": [
             [
              0,
              "#0d0887"
             ],
             [
              0.1111111111111111,
              "#46039f"
             ],
             [
              0.2222222222222222,
              "#7201a8"
             ],
             [
              0.3333333333333333,
              "#9c179e"
             ],
             [
              0.4444444444444444,
              "#bd3786"
             ],
             [
              0.5555555555555556,
              "#d8576b"
             ],
             [
              0.6666666666666666,
              "#ed7953"
             ],
             [
              0.7777777777777778,
              "#fb9f3a"
             ],
             [
              0.8888888888888888,
              "#fdca26"
             ],
             [
              1,
              "#f0f921"
             ]
            ],
            "type": "contour"
           }
          ],
          "contourcarpet": [
           {
            "colorbar": {
             "outlinewidth": 0,
             "ticks": ""
            },
            "type": "contourcarpet"
           }
          ],
          "heatmap": [
           {
            "colorbar": {
             "outlinewidth": 0,
             "ticks": ""
            },
            "colorscale": [
             [
              0,
              "#0d0887"
             ],
             [
              0.1111111111111111,
              "#46039f"
             ],
             [
              0.2222222222222222,
              "#7201a8"
             ],
             [
              0.3333333333333333,
              "#9c179e"
             ],
             [
              0.4444444444444444,
              "#bd3786"
             ],
             [
              0.5555555555555556,
              "#d8576b"
             ],
             [
              0.6666666666666666,
              "#ed7953"
             ],
             [
              0.7777777777777778,
              "#fb9f3a"
             ],
             [
              0.8888888888888888,
              "#fdca26"
             ],
             [
              1,
              "#f0f921"
             ]
            ],
            "type": "heatmap"
           }
          ],
          "heatmapgl": [
           {
            "colorbar": {
             "outlinewidth": 0,
             "ticks": ""
            },
            "colorscale": [
             [
              0,
              "#0d0887"
             ],
             [
              0.1111111111111111,
              "#46039f"
             ],
             [
              0.2222222222222222,
              "#7201a8"
             ],
             [
              0.3333333333333333,
              "#9c179e"
             ],
             [
              0.4444444444444444,
              "#bd3786"
             ],
             [
              0.5555555555555556,
              "#d8576b"
             ],
             [
              0.6666666666666666,
              "#ed7953"
             ],
             [
              0.7777777777777778,
              "#fb9f3a"
             ],
             [
              0.8888888888888888,
              "#fdca26"
             ],
             [
              1,
              "#f0f921"
             ]
            ],
            "type": "heatmapgl"
           }
          ],
          "histogram": [
           {
            "marker": {
             "colorbar": {
              "outlinewidth": 0,
              "ticks": ""
             }
            },
            "type": "histogram"
           }
          ],
          "histogram2d": [
           {
            "colorbar": {
             "outlinewidth": 0,
             "ticks": ""
            },
            "colorscale": [
             [
              0,
              "#0d0887"
             ],
             [
              0.1111111111111111,
              "#46039f"
             ],
             [
              0.2222222222222222,
              "#7201a8"
             ],
             [
              0.3333333333333333,
              "#9c179e"
             ],
             [
              0.4444444444444444,
              "#bd3786"
             ],
             [
              0.5555555555555556,
              "#d8576b"
             ],
             [
              0.6666666666666666,
              "#ed7953"
             ],
             [
              0.7777777777777778,
              "#fb9f3a"
             ],
             [
              0.8888888888888888,
              "#fdca26"
             ],
             [
              1,
              "#f0f921"
             ]
            ],
            "type": "histogram2d"
           }
          ],
          "histogram2dcontour": [
           {
            "colorbar": {
             "outlinewidth": 0,
             "ticks": ""
            },
            "colorscale": [
             [
              0,
              "#0d0887"
             ],
             [
              0.1111111111111111,
              "#46039f"
             ],
             [
              0.2222222222222222,
              "#7201a8"
             ],
             [
              0.3333333333333333,
              "#9c179e"
             ],
             [
              0.4444444444444444,
              "#bd3786"
             ],
             [
              0.5555555555555556,
              "#d8576b"
             ],
             [
              0.6666666666666666,
              "#ed7953"
             ],
             [
              0.7777777777777778,
              "#fb9f3a"
             ],
             [
              0.8888888888888888,
              "#fdca26"
             ],
             [
              1,
              "#f0f921"
             ]
            ],
            "type": "histogram2dcontour"
           }
          ],
          "mesh3d": [
           {
            "colorbar": {
             "outlinewidth": 0,
             "ticks": ""
            },
            "type": "mesh3d"
           }
          ],
          "parcoords": [
           {
            "line": {
             "colorbar": {
              "outlinewidth": 0,
              "ticks": ""
             }
            },
            "type": "parcoords"
           }
          ],
          "pie": [
           {
            "automargin": true,
            "type": "pie"
           }
          ],
          "scatter": [
           {
            "marker": {
             "colorbar": {
              "outlinewidth": 0,
              "ticks": ""
             }
            },
            "type": "scatter"
           }
          ],
          "scatter3d": [
           {
            "line": {
             "colorbar": {
              "outlinewidth": 0,
              "ticks": ""
             }
            },
            "marker": {
             "colorbar": {
              "outlinewidth": 0,
              "ticks": ""
             }
            },
            "type": "scatter3d"
           }
          ],
          "scattercarpet": [
           {
            "marker": {
             "colorbar": {
              "outlinewidth": 0,
              "ticks": ""
             }
            },
            "type": "scattercarpet"
           }
          ],
          "scattergeo": [
           {
            "marker": {
             "colorbar": {
              "outlinewidth": 0,
              "ticks": ""
             }
            },
            "type": "scattergeo"
           }
          ],
          "scattergl": [
           {
            "marker": {
             "colorbar": {
              "outlinewidth": 0,
              "ticks": ""
             }
            },
            "type": "scattergl"
           }
          ],
          "scattermapbox": [
           {
            "marker": {
             "colorbar": {
              "outlinewidth": 0,
              "ticks": ""
             }
            },
            "type": "scattermapbox"
           }
          ],
          "scatterpolar": [
           {
            "marker": {
             "colorbar": {
              "outlinewidth": 0,
              "ticks": ""
             }
            },
            "type": "scatterpolar"
           }
          ],
          "scatterpolargl": [
           {
            "marker": {
             "colorbar": {
              "outlinewidth": 0,
              "ticks": ""
             }
            },
            "type": "scatterpolargl"
           }
          ],
          "scatterternary": [
           {
            "marker": {
             "colorbar": {
              "outlinewidth": 0,
              "ticks": ""
             }
            },
            "type": "scatterternary"
           }
          ],
          "surface": [
           {
            "colorbar": {
             "outlinewidth": 0,
             "ticks": ""
            },
            "colorscale": [
             [
              0,
              "#0d0887"
             ],
             [
              0.1111111111111111,
              "#46039f"
             ],
             [
              0.2222222222222222,
              "#7201a8"
             ],
             [
              0.3333333333333333,
              "#9c179e"
             ],
             [
              0.4444444444444444,
              "#bd3786"
             ],
             [
              0.5555555555555556,
              "#d8576b"
             ],
             [
              0.6666666666666666,
              "#ed7953"
             ],
             [
              0.7777777777777778,
              "#fb9f3a"
             ],
             [
              0.8888888888888888,
              "#fdca26"
             ],
             [
              1,
              "#f0f921"
             ]
            ],
            "type": "surface"
           }
          ],
          "table": [
           {
            "cells": {
             "fill": {
              "color": "#EBF0F8"
             },
             "line": {
              "color": "white"
             }
            },
            "header": {
             "fill": {
              "color": "#C8D4E3"
             },
             "line": {
              "color": "white"
             }
            },
            "type": "table"
           }
          ]
         },
         "layout": {
          "annotationdefaults": {
           "arrowcolor": "#2a3f5f",
           "arrowhead": 0,
           "arrowwidth": 1
          },
          "autotypenumbers": "strict",
          "coloraxis": {
           "colorbar": {
            "outlinewidth": 0,
            "ticks": ""
           }
          },
          "colorscale": {
           "diverging": [
            [
             0,
             "#8e0152"
            ],
            [
             0.1,
             "#c51b7d"
            ],
            [
             0.2,
             "#de77ae"
            ],
            [
             0.3,
             "#f1b6da"
            ],
            [
             0.4,
             "#fde0ef"
            ],
            [
             0.5,
             "#f7f7f7"
            ],
            [
             0.6,
             "#e6f5d0"
            ],
            [
             0.7,
             "#b8e186"
            ],
            [
             0.8,
             "#7fbc41"
            ],
            [
             0.9,
             "#4d9221"
            ],
            [
             1,
             "#276419"
            ]
           ],
           "sequential": [
            [
             0,
             "#0d0887"
            ],
            [
             0.1111111111111111,
             "#46039f"
            ],
            [
             0.2222222222222222,
             "#7201a8"
            ],
            [
             0.3333333333333333,
             "#9c179e"
            ],
            [
             0.4444444444444444,
             "#bd3786"
            ],
            [
             0.5555555555555556,
             "#d8576b"
            ],
            [
             0.6666666666666666,
             "#ed7953"
            ],
            [
             0.7777777777777778,
             "#fb9f3a"
            ],
            [
             0.8888888888888888,
             "#fdca26"
            ],
            [
             1,
             "#f0f921"
            ]
           ],
           "sequentialminus": [
            [
             0,
             "#0d0887"
            ],
            [
             0.1111111111111111,
             "#46039f"
            ],
            [
             0.2222222222222222,
             "#7201a8"
            ],
            [
             0.3333333333333333,
             "#9c179e"
            ],
            [
             0.4444444444444444,
             "#bd3786"
            ],
            [
             0.5555555555555556,
             "#d8576b"
            ],
            [
             0.6666666666666666,
             "#ed7953"
            ],
            [
             0.7777777777777778,
             "#fb9f3a"
            ],
            [
             0.8888888888888888,
             "#fdca26"
            ],
            [
             1,
             "#f0f921"
            ]
           ]
          },
          "colorway": [
           "#636efa",
           "#EF553B",
           "#00cc96",
           "#ab63fa",
           "#FFA15A",
           "#19d3f3",
           "#FF6692",
           "#B6E880",
           "#FF97FF",
           "#FECB52"
          ],
          "font": {
           "color": "#2a3f5f"
          },
          "geo": {
           "bgcolor": "white",
           "lakecolor": "white",
           "landcolor": "#E5ECF6",
           "showlakes": true,
           "showland": true,
           "subunitcolor": "white"
          },
          "hoverlabel": {
           "align": "left"
          },
          "hovermode": "closest",
          "mapbox": {
           "style": "light"
          },
          "paper_bgcolor": "white",
          "plot_bgcolor": "#E5ECF6",
          "polar": {
           "angularaxis": {
            "gridcolor": "white",
            "linecolor": "white",
            "ticks": ""
           },
           "bgcolor": "#E5ECF6",
           "radialaxis": {
            "gridcolor": "white",
            "linecolor": "white",
            "ticks": ""
           }
          },
          "scene": {
           "xaxis": {
            "backgroundcolor": "#E5ECF6",
            "gridcolor": "white",
            "gridwidth": 2,
            "linecolor": "white",
            "showbackground": true,
            "ticks": "",
            "zerolinecolor": "white"
           },
           "yaxis": {
            "backgroundcolor": "#E5ECF6",
            "gridcolor": "white",
            "gridwidth": 2,
            "linecolor": "white",
            "showbackground": true,
            "ticks": "",
            "zerolinecolor": "white"
           },
           "zaxis": {
            "backgroundcolor": "#E5ECF6",
            "gridcolor": "white",
            "gridwidth": 2,
            "linecolor": "white",
            "showbackground": true,
            "ticks": "",
            "zerolinecolor": "white"
           }
          },
          "shapedefaults": {
           "line": {
            "color": "#2a3f5f"
           }
          },
          "ternary": {
           "aaxis": {
            "gridcolor": "white",
            "linecolor": "white",
            "ticks": ""
           },
           "baxis": {
            "gridcolor": "white",
            "linecolor": "white",
            "ticks": ""
           },
           "bgcolor": "#E5ECF6",
           "caxis": {
            "gridcolor": "white",
            "linecolor": "white",
            "ticks": ""
           }
          },
          "title": {
           "x": 0.05
          },
          "xaxis": {
           "automargin": true,
           "gridcolor": "white",
           "linecolor": "white",
           "ticks": "",
           "title": {
            "standoff": 15
           },
           "zerolinecolor": "white",
           "zerolinewidth": 2
          },
          "yaxis": {
           "automargin": true,
           "gridcolor": "white",
           "linecolor": "white",
           "ticks": "",
           "title": {
            "standoff": 15
           },
           "zerolinecolor": "white",
           "zerolinewidth": 2
          }
         }
        },
        "title": {
         "font": {
          "color": "#D9D9D9"
         }
        },
        "xaxis": {
         "autorange": true,
         "gridcolor": "#434343",
         "range": [
          -0.5,
          7.5
         ],
         "showgrid": true,
         "tickfont": {
          "color": "#C2C2C2"
         },
         "title": {
          "font": {
           "color": "#D9D9D9"
          },
          "text": ""
         },
         "type": "category",
         "zerolinecolor": "#666570"
        },
        "yaxis": {
         "autorange": true,
         "gridcolor": "#434343",
         "range": [
          -0.5,
          7.5
         ],
         "showgrid": true,
         "tickfont": {
          "color": "#C2C2C2"
         },
         "title": {
          "font": {
           "color": "#D9D9D9"
          },
          "text": ""
         },
         "type": "category",
         "zerolinecolor": "#666570"
        }
       }
      },
      "image/png": "[encoded data removed]",
      "text/html": [
       "<div>                            <div id=\"1739b0fc-a1c1-49a5-bbd4-d85d20a9f4de\" class=\"plotly-graph-div\" style=\"height:525px; width:100%;\"></div>            <script type=\"text/javascript\">                require([\"plotly\"], function(Plotly) {                    window.PLOTLYENV=window.PLOTLYENV || {};\n",
       "                    window.PLOTLYENV.BASE_URL='https://plot.ly';                                    if (document.getElementById(\"1739b0fc-a1c1-49a5-bbd4-d85d20a9f4de\")) {                    Plotly.newPlot(                        \"1739b0fc-a1c1-49a5-bbd4-d85d20a9f4de\",                        [{\"colorscale\": [[0.0, \"rgb(255, 153, 51)\"], [0.1111111111111111, \"rgb(55, 128, 191)\"], [0.2222222222222222, \"rgb(50, 171, 96)\"], [0.3333333333333333, \"rgb(128, 0, 128)\"], [0.4444444444444444, \"rgb(219, 64, 82)\"], [0.5555555555555556, \"rgb(0, 128, 128)\"], [0.6666666666666666, \"rgb(255, 255, 51)\"], [0.7777777777777778, \"rgb(128, 128, 0)\"], [0.8888888888888888, \"rgb(251, 128, 114)\"], [1.0, \"rgb(128, 177, 211)\"]], \"type\": \"heatmap\", \"x\": [\"Aus_GDP\", \"Pop\", \"Tot Emp\", \"Tot Emp_M\", \"Tot Emp_F\", \"Tot Unemp\", \"Tot Unemp_M\", \"Tot Unemp_F\"], \"y\": [\"Aus_GDP\", \"Pop\", \"Tot Emp\", \"Tot Emp_M\", \"Tot Emp_F\", \"Tot Unemp\", \"Tot Unemp_M\", \"Tot Unemp_F\"], \"z\": [[1.0, -0.691931445784184, -0.656788144120433, -0.6399404900916744, -0.6704889484788851, -0.49137298207769065, -0.3255956952721895, -0.6495772804298379], [-0.691931445784184, 1.0, 0.988474905001161, 0.9839344247686658, 0.9910379605681601, 0.3635510065819633, 0.11498165604857465, 0.6479745212486764], [-0.656788144120433, 0.988474905001161, 1.0, 0.9991400682168589, 0.999352667643689, 0.22886436766517523, -0.022022161292080285, 0.5333038309137238], [-0.6399404900916744, 0.9839344247686658, 0.9991400682168589, 1.0, 0.9970016623406531, 0.20776707898155936, -0.04383148830247284, 0.5158127229482904], [-0.6704889484788851, 0.9910379605681601, 0.999352667643689, 0.9970016623406531, 1.0, 0.24685724293229366, -0.0030607468498668514, 0.54774123056749], [-0.49137298207769065, 0.3635510065819633, 0.22886436766517523, 0.20776707898155936, 0.24685724293229366, 1.0, 0.9597101965635891, 0.9277329515871195], [-0.3255956952721895, 0.11498165604857465, -0.022022161292080285, -0.04383148830247284, -0.0030607468498668514, 0.9597101965635891, 1.0, 0.7854764793427229], [-0.6495772804298379, 0.6479745212486764, 0.5333038309137238, 0.5158127229482904, 0.54774123056749, 0.9277329515871195, 0.7854764793427229, 1.0]], \"zmax\": 1.0, \"zmin\": -0.691931445784184}],                        {\"legend\": {\"bgcolor\": \"#151516\", \"font\": {\"color\": \"#D9D9D9\"}}, \"paper_bgcolor\": \"#151516\", \"plot_bgcolor\": \"#151516\", \"template\": {\"data\": {\"bar\": [{\"error_x\": {\"color\": \"#2a3f5f\"}, \"error_y\": {\"color\": \"#2a3f5f\"}, \"marker\": {\"line\": {\"color\": \"#E5ECF6\", \"width\": 0.5}}, \"type\": \"bar\"}], \"barpolar\": [{\"marker\": {\"line\": {\"color\": \"#E5ECF6\", \"width\": 0.5}}, \"type\": \"barpolar\"}], \"carpet\": [{\"aaxis\": {\"endlinecolor\": \"#2a3f5f\", \"gridcolor\": \"white\", \"linecolor\": \"white\", \"minorgridcolor\": \"white\", \"startlinecolor\": \"#2a3f5f\"}, \"baxis\": {\"endlinecolor\": \"#2a3f5f\", \"gridcolor\": \"white\", \"linecolor\": \"white\", \"minorgridcolor\": \"white\", \"startlinecolor\": \"#2a3f5f\"}, \"type\": \"carpet\"}], \"choropleth\": [{\"colorbar\": {\"outlinewidth\": 0, \"ticks\": \"\"}, \"type\": \"choropleth\"}], \"contour\": [{\"colorbar\": {\"outlinewidth\": 0, \"ticks\": \"\"}, \"colorscale\": [[0.0, \"#0d0887\"], [0.1111111111111111, \"#46039f\"], [0.2222222222222222, \"#7201a8\"], [0.3333333333333333, \"#9c179e\"], [0.4444444444444444, \"#bd3786\"], [0.5555555555555556, \"#d8576b\"], [0.6666666666666666, \"#ed7953\"], [0.7777777777777778, \"#fb9f3a\"], [0.8888888888888888, \"#fdca26\"], [1.0, \"#f0f921\"]], \"type\": \"contour\"}], \"contourcarpet\": [{\"colorbar\": {\"outlinewidth\": 0, \"ticks\": \"\"}, \"type\": \"contourcarpet\"}], \"heatmap\": [{\"colorbar\": {\"outlinewidth\": 0, \"ticks\": \"\"}, \"colorscale\": [[0.0, \"#0d0887\"], [0.1111111111111111, \"#46039f\"], [0.2222222222222222, \"#7201a8\"], [0.3333333333333333, \"#9c179e\"], [0.4444444444444444, \"#bd3786\"], [0.5555555555555556, \"#d8576b\"], [0.6666666666666666, \"#ed7953\"], [0.7777777777777778, \"#fb9f3a\"], [0.8888888888888888, \"#fdca26\"], [1.0, \"#f0f921\"]], \"type\": \"heatmap\"}], \"heatmapgl\": [{\"colorbar\": {\"outlinewidth\": 0, \"ticks\": \"\"}, \"colorscale\": [[0.0, \"#0d0887\"], [0.1111111111111111, \"#46039f\"], [0.2222222222222222, \"#7201a8\"], [0.3333333333333333, \"#9c179e\"], [0.4444444444444444, \"#bd3786\"], [0.5555555555555556, \"#d8576b\"], [0.6666666666666666, \"#ed7953\"], [0.7777777777777778, \"#fb9f3a\"], [0.8888888888888888, \"#fdca26\"], [1.0, \"#f0f921\"]], \"type\": \"heatmapgl\"}], \"histogram\": [{\"marker\": {\"colorbar\": {\"outlinewidth\": 0, \"ticks\": \"\"}}, \"type\": \"histogram\"}], \"histogram2d\": [{\"colorbar\": {\"outlinewidth\": 0, \"ticks\": \"\"}, \"colorscale\": [[0.0, \"#0d0887\"], [0.1111111111111111, \"#46039f\"], [0.2222222222222222, \"#7201a8\"], [0.3333333333333333, \"#9c179e\"], [0.4444444444444444, \"#bd3786\"], [0.5555555555555556, \"#d8576b\"], [0.6666666666666666, \"#ed7953\"], [0.7777777777777778, \"#fb9f3a\"], [0.8888888888888888, \"#fdca26\"], [1.0, \"#f0f921\"]], \"type\": \"histogram2d\"}], \"histogram2dcontour\": [{\"colorbar\": {\"outlinewidth\": 0, \"ticks\": \"\"}, \"colorscale\": [[0.0, \"#0d0887\"], [0.1111111111111111, \"#46039f\"], [0.2222222222222222, \"#7201a8\"], [0.3333333333333333, \"#9c179e\"], [0.4444444444444444, \"#bd3786\"], [0.5555555555555556, \"#d8576b\"], [0.6666666666666666, \"#ed7953\"], [0.7777777777777778, \"#fb9f3a\"], [0.8888888888888888, \"#fdca26\"], [1.0, \"#f0f921\"]], \"type\": \"histogram2dcontour\"}], \"mesh3d\": [{\"colorbar\": {\"outlinewidth\": 0, \"ticks\": \"\"}, \"type\": \"mesh3d\"}], \"parcoords\": [{\"line\": {\"colorbar\": {\"outlinewidth\": 0, \"ticks\": \"\"}}, \"type\": \"parcoords\"}], \"pie\": [{\"automargin\": true, \"type\": \"pie\"}], \"scatter\": [{\"marker\": {\"colorbar\": {\"outlinewidth\": 0, \"ticks\": \"\"}}, \"type\": \"scatter\"}], \"scatter3d\": [{\"line\": {\"colorbar\": {\"outlinewidth\": 0, \"ticks\": \"\"}}, \"marker\": {\"colorbar\": {\"outlinewidth\": 0, \"ticks\": \"\"}}, \"type\": \"scatter3d\"}], \"scattercarpet\": [{\"marker\": {\"colorbar\": {\"outlinewidth\": 0, \"ticks\": \"\"}}, \"type\": \"scattercarpet\"}], \"scattergeo\": [{\"marker\": {\"colorbar\": {\"outlinewidth\": 0, \"ticks\": \"\"}}, \"type\": \"scattergeo\"}], \"scattergl\": [{\"marker\": {\"colorbar\": {\"outlinewidth\": 0, \"ticks\": \"\"}}, \"type\": \"scattergl\"}], \"scattermapbox\": [{\"marker\": {\"colorbar\": {\"outlinewidth\": 0, \"ticks\": \"\"}}, \"type\": \"scattermapbox\"}], \"scatterpolar\": [{\"marker\": {\"colorbar\": {\"outlinewidth\": 0, \"ticks\": \"\"}}, \"type\": \"scatterpolar\"}], \"scatterpolargl\": [{\"marker\": {\"colorbar\": {\"outlinewidth\": 0, \"ticks\": \"\"}}, \"type\": \"scatterpolargl\"}], \"scatterternary\": [{\"marker\": {\"colorbar\": {\"outlinewidth\": 0, \"ticks\": \"\"}}, \"type\": \"scatterternary\"}], \"surface\": [{\"colorbar\": {\"outlinewidth\": 0, \"ticks\": \"\"}, \"colorscale\": [[0.0, \"#0d0887\"], [0.1111111111111111, \"#46039f\"], [0.2222222222222222, \"#7201a8\"], [0.3333333333333333, \"#9c179e\"], [0.4444444444444444, \"#bd3786\"], [0.5555555555555556, \"#d8576b\"], [0.6666666666666666, \"#ed7953\"], [0.7777777777777778, \"#fb9f3a\"], [0.8888888888888888, \"#fdca26\"], [1.0, \"#f0f921\"]], \"type\": \"surface\"}], \"table\": [{\"cells\": {\"fill\": {\"color\": \"#EBF0F8\"}, \"line\": {\"color\": \"white\"}}, \"header\": {\"fill\": {\"color\": \"#C8D4E3\"}, \"line\": {\"color\": \"white\"}}, \"type\": \"table\"}]}, \"layout\": {\"annotationdefaults\": {\"arrowcolor\": \"#2a3f5f\", \"arrowhead\": 0, \"arrowwidth\": 1}, \"autotypenumbers\": \"strict\", \"coloraxis\": {\"colorbar\": {\"outlinewidth\": 0, \"ticks\": \"\"}}, \"colorscale\": {\"diverging\": [[0, \"#8e0152\"], [0.1, \"#c51b7d\"], [0.2, \"#de77ae\"], [0.3, \"#f1b6da\"], [0.4, \"#fde0ef\"], [0.5, \"#f7f7f7\"], [0.6, \"#e6f5d0\"], [0.7, \"#b8e186\"], [0.8, \"#7fbc41\"], [0.9, \"#4d9221\"], [1, \"#276419\"]], \"sequential\": [[0.0, \"#0d0887\"], [0.1111111111111111, \"#46039f\"], [0.2222222222222222, \"#7201a8\"], [0.3333333333333333, \"#9c179e\"], [0.4444444444444444, \"#bd3786\"], [0.5555555555555556, \"#d8576b\"], [0.6666666666666666, \"#ed7953\"], [0.7777777777777778, \"#fb9f3a\"], [0.8888888888888888, \"#fdca26\"], [1.0, \"#f0f921\"]], \"sequentialminus\": [[0.0, \"#0d0887\"], [0.1111111111111111, \"#46039f\"], [0.2222222222222222, \"#7201a8\"], [0.3333333333333333, \"#9c179e\"], [0.4444444444444444, \"#bd3786\"], [0.5555555555555556, \"#d8576b\"], [0.6666666666666666, \"#ed7953\"], [0.7777777777777778, \"#fb9f3a\"], [0.8888888888888888, \"#fdca26\"], [1.0, \"#f0f921\"]]}, \"colorway\": [\"#636efa\", \"#EF553B\", \"#00cc96\", \"#ab63fa\", \"#FFA15A\", \"#19d3f3\", \"#FF6692\", \"#B6E880\", \"#FF97FF\", \"#FECB52\"], \"font\": {\"color\": \"#2a3f5f\"}, \"geo\": {\"bgcolor\": \"white\", \"lakecolor\": \"white\", \"landcolor\": \"#E5ECF6\", \"showlakes\": true, \"showland\": true, \"subunitcolor\": \"white\"}, \"hoverlabel\": {\"align\": \"left\"}, \"hovermode\": \"closest\", \"mapbox\": {\"style\": \"light\"}, \"paper_bgcolor\": \"white\", \"plot_bgcolor\": \"#E5ECF6\", \"polar\": {\"angularaxis\": {\"gridcolor\": \"white\", \"linecolor\": \"white\", \"ticks\": \"\"}, \"bgcolor\": \"#E5ECF6\", \"radialaxis\": {\"gridcolor\": \"white\", \"linecolor\": \"white\", \"ticks\": \"\"}}, \"scene\": {\"xaxis\": {\"backgroundcolor\": \"#E5ECF6\", \"gridcolor\": \"white\", \"gridwidth\": 2, \"linecolor\": \"white\", \"showbackground\": true, \"ticks\": \"\", \"zerolinecolor\": \"white\"}, \"yaxis\": {\"backgroundcolor\": \"#E5ECF6\", \"gridcolor\": \"white\", \"gridwidth\": 2, \"linecolor\": \"white\", \"showbackground\": true, \"ticks\": \"\", \"zerolinecolor\": \"white\"}, \"zaxis\": {\"backgroundcolor\": \"#E5ECF6\", \"gridcolor\": \"white\", \"gridwidth\": 2, \"linecolor\": \"white\", \"showbackground\": true, \"ticks\": \"\", \"zerolinecolor\": \"white\"}}, \"shapedefaults\": {\"line\": {\"color\": \"#2a3f5f\"}}, \"ternary\": {\"aaxis\": {\"gridcolor\": \"white\", \"linecolor\": \"white\", \"ticks\": \"\"}, \"baxis\": {\"gridcolor\": \"white\", \"linecolor\": \"white\", \"ticks\": \"\"}, \"bgcolor\": \"#E5ECF6\", \"caxis\": {\"gridcolor\": \"white\", \"linecolor\": \"white\", \"ticks\": \"\"}}, \"title\": {\"x\": 0.05}, \"xaxis\": {\"automargin\": true, \"gridcolor\": \"white\", \"linecolor\": \"white\", \"ticks\": \"\", \"title\": {\"standoff\": 15}, \"zerolinecolor\": \"white\", \"zerolinewidth\": 2}, \"yaxis\": {\"automargin\": true, \"gridcolor\": \"white\", \"linecolor\": \"white\", \"ticks\": \"\", \"title\": {\"standoff\": 15}, \"zerolinecolor\": \"white\", \"zerolinewidth\": 2}}}, \"title\": {\"font\": {\"color\": \"#D9D9D9\"}}, \"xaxis\": {\"gridcolor\": \"#434343\", \"showgrid\": true, \"tickfont\": {\"color\": \"#C2C2C2\"}, \"title\": {\"font\": {\"color\": \"#D9D9D9\"}, \"text\": \"\"}, \"zerolinecolor\": \"#666570\"}, \"yaxis\": {\"gridcolor\": \"#434343\", \"showgrid\": true, \"tickfont\": {\"color\": \"#C2C2C2\"}, \"title\": {\"font\": {\"color\": \"#D9D9D9\"}, \"text\": \"\"}, \"zerolinecolor\": \"#666570\"}},                        {\"showLink\": true, \"linkText\": \"Export to plot.ly\", \"plotlyServerURL\": \"https://plot.ly\", \"responsive\": true}                    ).then(function(){\n",
       "                            \n",
       "var gd = document.getElementById('1739b0fc-a1c1-49a5-bbd4-d85d20a9f4de');\n",
       "var x = new MutationObserver(function (mutations, observer) {{\n",
       "        var display = window.getComputedStyle(gd).display;\n",
       "        if (!display || display === 'none') {{\n",
       "            console.log([gd, 'removed!']);\n",
       "            Plotly.purge(gd);\n",
       "            observer.disconnect();\n",
       "        }}\n",
       "}});\n",
       "\n",
       "// Listen for the removal of the full notebook cells\n",
       "var notebookContainer = gd.closest('#notebook-container');\n",
       "if (notebookContainer) {{\n",
       "    x.observe(notebookContainer, {childList: true});\n",
       "}}\n",
       "\n",
       "// Listen for the clearing of the current output cell\n",
       "var outputEl = gd.closest('.output');\n",
       "if (outputEl) {{\n",
       "    x.observe(outputEl, {childList: true});\n",
       "}}\n",
       "\n",
       "                        })                };                });            </script>        </div>"
      ]
     },
     "metadata": {},
     "output_type": "display_data"
    }
   ],
   "source": [
    "corrplot = correlation.iplot(kind='heatmap')\n",
    "corrplot"
   ]
  },
  {
   "cell_type": "code",
   "execution_count": 173,
   "id": "895640d2",
   "metadata": {},
   "outputs": [
    {
     "data": {
      "text/plain": [
       "Text(0.5, 1.0, 'Correlation')"
      ]
     },
     "execution_count": 173,
     "metadata": {},
     "output_type": "execute_result"
    },
    {
     "data": {
      "image/png": "[encoded data removed]",
      "text/plain": [
       "<Figure size 720x504 with 2 Axes>"
      ]
     },
     "metadata": {},
     "output_type": "display_data"
    }
   ],
   "source": [
    "# Using Seaborn\n",
    "matrix = np.triu(correlation)\n",
    "cmap = sns.diverging_palette(230, 20, as_cmap=True)\n",
    "h = plt.axes()\n",
    "\n",
    "plot = sns.heatmap(correlation, \n",
    "                   vmin=-1, \n",
    "                   vmax=1, \n",
    "                   annot=True,\n",
    "                   cmap=cmap, \n",
    "                   mask=matrix)\n",
    "\n",
    "\n",
    "sns.set(rc={'figure.figsize':(10,7)})\n",
    "h.set_title('Correlation')"
   ]
  },
  {
   "cell_type": "markdown",
   "id": "e5d08581",
   "metadata": {},
   "source": [
    "## "
   ]
  },
  {
   "cell_type": "markdown",
   "id": "dea85d3d",
   "metadata": {},
   "source": [
    "### Does GDP correlate with Cash Rate (yes), and can we identify key economic shifters (e.g., GFC, COVID, DotCom, etc)"
   ]
  },
  {
   "cell_type": "code",
   "execution_count": 181,
   "id": "a5ca3ced",
   "metadata": {},
   "outputs": [
    {
     "data": {
      "text/html": [
       "<div>\n",
       "<style scoped>\n",
       "    .dataframe tbody tr th:only-of-type {\n",
       "        vertical-align: middle;\n",
       "    }\n",
       "\n",
       "    .dataframe tbody tr th {\n",
       "        vertical-align: top;\n",
       "    }\n",
       "\n",
       "    .dataframe thead th {\n",
       "        text-align: right;\n",
       "    }\n",
       "</style>\n",
       "<table border=\"1\" class=\"dataframe\">\n",
       "  <thead>\n",
       "    <tr style=\"text-align: right;\">\n",
       "      <th></th>\n",
       "      <th>Year</th>\n",
       "      <th>Cash Rate Target</th>\n",
       "      <th>Interbank Overnight Cash Rate</th>\n",
       "    </tr>\n",
       "  </thead>\n",
       "  <tbody>\n",
       "    <tr>\n",
       "      <th>0</th>\n",
       "      <td>1995</td>\n",
       "      <td>7.50</td>\n",
       "      <td>7.51</td>\n",
       "    </tr>\n",
       "    <tr>\n",
       "      <th>1</th>\n",
       "      <td>1996</td>\n",
       "      <td>7.50</td>\n",
       "      <td>7.51</td>\n",
       "    </tr>\n",
       "    <tr>\n",
       "      <th>2</th>\n",
       "      <td>1997</td>\n",
       "      <td>5.50</td>\n",
       "      <td>5.57</td>\n",
       "    </tr>\n",
       "    <tr>\n",
       "      <th>3</th>\n",
       "      <td>1998</td>\n",
       "      <td>5.00</td>\n",
       "      <td>5.07</td>\n",
       "    </tr>\n",
       "    <tr>\n",
       "      <th>4</th>\n",
       "      <td>1999</td>\n",
       "      <td>4.75</td>\n",
       "      <td>4.76</td>\n",
       "    </tr>\n",
       "  </tbody>\n",
       "</table>\n",
       "</div>"
      ],
      "text/plain": [
       "   Year  Cash Rate Target  Interbank Overnight Cash Rate\n",
       "0  1995              7.50                           7.51\n",
       "1  1996              7.50                           7.51\n",
       "2  1997              5.50                           5.57\n",
       "3  1998              5.00                           5.07\n",
       "4  1999              4.75                           4.76"
      ]
     },
     "execution_count": 181,
     "metadata": {},
     "output_type": "execute_result"
    }
   ],
   "source": [
    "cash_rate = pd.read_csv(\"../Data/ProcessedData/cashrate__cleaned.csv\")\n",
    "cash_rate.head()"
   ]
  },
  {
   "cell_type": "code",
   "execution_count": 182,
   "id": "40f8899b",
   "metadata": {},
   "outputs": [],
   "source": [
    "cash_rate_target = cash_rate[[\"Cash Rate Target\"]]\n",
    "overnight_cash_rate = cash_rate[[\"Interbank Overnight Cash Rate\"]]"
   ]
  },
  {
   "cell_type": "code",
   "execution_count": 186,
   "id": "e91efce7",
   "metadata": {},
   "outputs": [
    {
     "data": {
      "text/html": [
       "<div>\n",
       "<style scoped>\n",
       "    .dataframe tbody tr th:only-of-type {\n",
       "        vertical-align: middle;\n",
       "    }\n",
       "\n",
       "    .dataframe tbody tr th {\n",
       "        vertical-align: top;\n",
       "    }\n",
       "\n",
       "    .dataframe thead th {\n",
       "        text-align: right;\n",
       "    }\n",
       "</style>\n",
       "<table border=\"1\" class=\"dataframe\">\n",
       "  <thead>\n",
       "    <tr style=\"text-align: right;\">\n",
       "      <th></th>\n",
       "      <th>Aus_GDP</th>\n",
       "      <th>Cash rate</th>\n",
       "      <th>Overnight_CashRate</th>\n",
       "    </tr>\n",
       "  </thead>\n",
       "  <tbody>\n",
       "    <tr>\n",
       "      <th>0</th>\n",
       "      <td>3.837755</td>\n",
       "      <td>7.50</td>\n",
       "      <td>7.51</td>\n",
       "    </tr>\n",
       "    <tr>\n",
       "      <th>1</th>\n",
       "      <td>3.878585</td>\n",
       "      <td>7.50</td>\n",
       "      <td>7.51</td>\n",
       "    </tr>\n",
       "    <tr>\n",
       "      <th>2</th>\n",
       "      <td>3.966538</td>\n",
       "      <td>5.50</td>\n",
       "      <td>5.57</td>\n",
       "    </tr>\n",
       "    <tr>\n",
       "      <th>3</th>\n",
       "      <td>4.576689</td>\n",
       "      <td>5.00</td>\n",
       "      <td>5.07</td>\n",
       "    </tr>\n",
       "    <tr>\n",
       "      <th>4</th>\n",
       "      <td>5.073599</td>\n",
       "      <td>4.75</td>\n",
       "      <td>4.76</td>\n",
       "    </tr>\n",
       "  </tbody>\n",
       "</table>\n",
       "</div>"
      ],
      "text/plain": [
       "    Aus_GDP  Cash rate  Overnight_CashRate\n",
       "0  3.837755       7.50                7.51\n",
       "1  3.878585       7.50                7.51\n",
       "2  3.966538       5.50                5.57\n",
       "3  4.576689       5.00                5.07\n",
       "4  5.073599       4.75                4.76"
      ]
     },
     "execution_count": 186,
     "metadata": {},
     "output_type": "execute_result"
    }
   ],
   "source": [
    "# Create df to correlate\n",
    "correlation_gdp_v_cashrate = pd.concat([gdp_aus_new,\n",
    "                                        cash_rate_target,\n",
    "                                        overnight_cash_rate], axis=1)\n",
    "\n",
    "# Rename to easy convention\n",
    "gdp_v_cashrate = correlation_gdp_v_cashrate.rename(columns={\"Australia\": \"Aus_GDP\",\n",
    "                                                \"Cash Rate Target\": \"Cash rate\",\n",
    "                                                \"Interbank Overnight Cash Rate\": \"Overnight_CashRate\"})\n",
    "\n",
    "#Check dataset\n",
    "gdp_v_cashrate.head()"
   ]
  },
  {
   "cell_type": "code",
   "execution_count": 187,
   "id": "db057fbc",
   "metadata": {},
   "outputs": [
    {
     "data": {
      "text/html": [
       "<div>\n",
       "<style scoped>\n",
       "    .dataframe tbody tr th:only-of-type {\n",
       "        vertical-align: middle;\n",
       "    }\n",
       "\n",
       "    .dataframe tbody tr th {\n",
       "        vertical-align: top;\n",
       "    }\n",
       "\n",
       "    .dataframe thead th {\n",
       "        text-align: right;\n",
       "    }\n",
       "</style>\n",
       "<table border=\"1\" class=\"dataframe\">\n",
       "  <thead>\n",
       "    <tr style=\"text-align: right;\">\n",
       "      <th></th>\n",
       "      <th>Aus_GDP</th>\n",
       "      <th>Cash rate</th>\n",
       "      <th>Overnight_CashRate</th>\n",
       "    </tr>\n",
       "  </thead>\n",
       "  <tbody>\n",
       "    <tr>\n",
       "      <th>Aus_GDP</th>\n",
       "      <td>1.000000</td>\n",
       "      <td>0.648218</td>\n",
       "      <td>0.654225</td>\n",
       "    </tr>\n",
       "    <tr>\n",
       "      <th>Cash rate</th>\n",
       "      <td>0.648218</td>\n",
       "      <td>1.000000</td>\n",
       "      <td>0.999915</td>\n",
       "    </tr>\n",
       "    <tr>\n",
       "      <th>Overnight_CashRate</th>\n",
       "      <td>0.654225</td>\n",
       "      <td>0.999915</td>\n",
       "      <td>1.000000</td>\n",
       "    </tr>\n",
       "  </tbody>\n",
       "</table>\n",
       "</div>"
      ],
      "text/plain": [
       "                     Aus_GDP  Cash rate  Overnight_CashRate\n",
       "Aus_GDP             1.000000   0.648218            0.654225\n",
       "Cash rate           0.648218   1.000000            0.999915\n",
       "Overnight_CashRate  0.654225   0.999915            1.000000"
      ]
     },
     "execution_count": 187,
     "metadata": {},
     "output_type": "execute_result"
    }
   ],
   "source": [
    "corr_gdp_v_cashrate = gdp_v_cashrate.corr()\n",
    "corr_gdp_v_cashrate"
   ]
  },
  {
   "cell_type": "code",
   "execution_count": 192,
   "id": "db83f99a",
   "metadata": {},
   "outputs": [
    {
     "data": {
      "text/plain": [
       "Text(0.5, 1.0, 'Correlation')"
      ]
     },
     "execution_count": 192,
     "metadata": {},
     "output_type": "execute_result"
    },
    {
     "data": {
      "image/png": "[encoded data removed]",
      "text/plain": [
       "<Figure size 720x504 with 2 Axes>"
      ]
     },
     "metadata": {},
     "output_type": "display_data"
    }
   ],
   "source": [
    "# Using Seaborn\n",
    "matrix = np.triu(corr_gdp_v_cashrate)\n",
    "cmap = sns.diverging_palette(230, 20, as_cmap=True)\n",
    "h = plt.axes()\n",
    "\n",
    "plot = sns.heatmap(corr_gdp_v_cashrate, \n",
    "                   vmin=-1, \n",
    "                   vmax=1, \n",
    "                   annot=True,\n",
    "                   cmap=cmap, \n",
    "                   mask=matrix)\n",
    "\n",
    "\n",
    "\n",
    "sns.set(rc={'figure.figsize':(10,7)})\n",
    "h.set_title('Correlation')"
   ]
  },
  {
   "cell_type": "code",
   "execution_count": null,
   "id": "b8b48e57",
   "metadata": {},
   "outputs": [],
   "source": []
  }
 ],
 "metadata": {
  "kernelspec": {
   "display_name": "Python [conda env:pyvizenv] *",
   "language": "python",
   "name": "conda-env-pyvizenv-py"
  },
  "language_info": {
   "codemirror_mode": {
    "name": "ipython",
    "version": 3
   },
   "file_extension": ".py",
   "mimetype": "text/x-python",
   "name": "python",
   "nbconvert_exporter": "python",
   "pygments_lexer": "ipython3",
   "version": "3.7.10"
  }
 },
 "nbformat": 4,
 "nbformat_minor": 5
}
